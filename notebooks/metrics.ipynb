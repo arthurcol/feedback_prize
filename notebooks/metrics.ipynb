{
 "cells": [
  {
   "cell_type": "markdown",
   "id": "13115bc0",
   "metadata": {},
   "source": [
    "<center><font size=18><strong> Metrics</strong></font></center>\n",
    "<br><br>\n",
    "This notebook wraps up the metrics used during the training of the models and the evaluation metric for the kaggle competition. It is intended to be used for evaluating the results on the test split."
   ]
  },
  {
   "cell_type": "markdown",
   "id": "165075d8",
   "metadata": {},
   "source": [
    "## Imports"
   ]
  },
  {
   "cell_type": "code",
   "execution_count": 7,
   "id": "c422e5a0",
   "metadata": {
    "ExecuteTime": {
     "end_time": "2022-02-12T11:27:19.667516Z",
     "start_time": "2022-02-12T11:27:19.664254Z"
    }
   },
   "outputs": [],
   "source": [
    "import os \n",
    "import pickle\n",
    "\n",
    "from tqdm.notebook import tqdm"
   ]
  },
  {
   "cell_type": "code",
   "execution_count": 8,
   "id": "ab1e01c2",
   "metadata": {
    "ExecuteTime": {
     "end_time": "2022-02-12T11:27:22.723904Z",
     "start_time": "2022-02-12T11:27:22.720647Z"
    }
   },
   "outputs": [],
   "source": [
    "import pandas as pd \n",
    "import numpy as np \n",
    "import matplotlib.pyplot as plt\n",
    "import seaborn as sns\n",
    "import tensorflow as tf\n",
    "\n",
    "#import seqeval.metrics #not used\n",
    "\n",
    "from transformers import AutoTokenizer"
   ]
  },
  {
   "cell_type": "markdown",
   "id": "bedf28c7",
   "metadata": {
    "heading_collapsed": true
   },
   "source": [
    "## Categorical Accuracy with masking "
   ]
  },
  {
   "cell_type": "markdown",
   "id": "1a9ad0bf",
   "metadata": {
    "hidden": true
   },
   "source": [
    "### Subclassing -- WIP"
   ]
  },
  {
   "cell_type": "code",
   "execution_count": 9,
   "id": "c7ea652e",
   "metadata": {
    "ExecuteTime": {
     "end_time": "2022-02-12T11:27:23.696135Z",
     "start_time": "2022-02-12T11:27:23.690834Z"
    },
    "hidden": true
   },
   "outputs": [],
   "source": [
    "#Create dummy data\n",
    "\n",
    "labels = {\n",
    "    'B-First':0,\n",
    "    'I-First':1,\n",
    "    'B-Second':2,\n",
    "    'I-Second':3,\n",
    "    'O':4,\n",
    "    'PAD':-100\n",
    "}\n",
    "\n",
    "reversed_labels={v:k for k,v in labels.items()}\n",
    "\n",
    "y_true = np.array([[0,1,1,1,4,2,3,3,3,-100,-100,-100],[-100,0,1,4,4,2,3,3,3,0,1,-100]])\n",
    "y_pred = np.array([[0,1,1,1,4,2,3,3,4,4,4,4],[-100,0,1,1,2,2,3,3,0,0,0,4]])"
   ]
  },
  {
   "cell_type": "code",
   "execution_count": 204,
   "id": "5cdcc9ff",
   "metadata": {
    "ExecuteTime": {
     "end_time": "2022-02-04T12:00:26.638087Z",
     "start_time": "2022-02-04T12:00:26.630017Z"
    },
    "hidden": true
   },
   "outputs": [],
   "source": [
    "class AccuracyMasked(tf.keras.metrics.Metric):\n",
    "    \n",
    "    def __init__(self,class_to_ignore,name='accuracy_masked',**kwargs):\n",
    "        super().__init__(name=name,**kwargs),\n",
    "        self.class_to_ignore = class_to_ignore\n",
    "        self.accs = self.add_weight(name = 'accs',initializer = 'zeros',dtype='float64')        \n",
    "    \n",
    "    def update_state(self,y_true,y_pred):\n",
    "        #y_pred = tf.argmax(y_pred,axis=-1)\n",
    "        #y_true = tf.argmax(y_true,axis=-1)#for y_pred and y_true to match\n",
    "        #mask = tf.cast(tf.not_equal(y_true,self.class_to_ignore),'int32') #create a mask\n",
    "        #matches = tf.cast(tf.equal(y_true,y_pred),'int32')*mask #calculate the matches ignoring the masking\n",
    "        #accuracy = tf.math.reduce_sum(matches,axis=-1)/tf.maximum(tf.math.reduce_sum(mask,axis=-1),1)\n",
    "        accuracy=tf.math.reduce_sum(tf.cast(y_true == y_pred,'int32')*tf.cast(y_true != -100,'int32'))/tf.math.reduce_sum(tf.cast(y_true != -100,'int32'))\n",
    "        self.accs.assign_add(tf.math.reduce_mean(accuracy))\n",
    "        \n",
    "    \n",
    "    def result(self):\n",
    "        return self.accs #tf.math.reduce_mean(accuracy)\n"
   ]
  },
  {
   "cell_type": "code",
   "execution_count": 205,
   "id": "963ca44b",
   "metadata": {
    "ExecuteTime": {
     "end_time": "2022-02-04T12:00:27.157765Z",
     "start_time": "2022-02-04T12:00:27.146240Z"
    },
    "hidden": true
   },
   "outputs": [
    {
     "data": {
      "text/plain": [
       "<tf.Tensor: shape=(), dtype=float64, numpy=0.6086956521739131>"
      ]
     },
     "execution_count": 205,
     "metadata": {},
     "output_type": "execute_result"
    }
   ],
   "source": [
    "accuracymasked = AccuracyMasked(-100)\n",
    "\n",
    "accuracymasked(y_pred,y_true)"
   ]
  },
  {
   "cell_type": "code",
   "execution_count": 181,
   "id": "d2b72fec",
   "metadata": {
    "ExecuteTime": {
     "end_time": "2022-02-04T11:57:45.527829Z",
     "start_time": "2022-02-04T11:57:45.517677Z"
    },
    "hidden": true
   },
   "outputs": [
    {
     "data": {
      "text/plain": [
       "<tf.Tensor: shape=(), dtype=float64, numpy=0.7368421052631579>"
      ]
     },
     "execution_count": 181,
     "metadata": {},
     "output_type": "execute_result"
    }
   ],
   "source": [
    "tf.math.reduce_sum(tf.cast(y_true == y_pred,'int32')*tf.cast(y_true != -100,'int32'))/tf.math.reduce_sum(tf.cast(y_true != -100,'int32'))"
   ]
  },
  {
   "cell_type": "code",
   "execution_count": 99,
   "id": "02560a48",
   "metadata": {
    "ExecuteTime": {
     "end_time": "2022-02-04T10:13:51.823339Z",
     "start_time": "2022-02-04T10:13:51.817445Z"
    },
    "hidden": true
   },
   "outputs": [],
   "source": [
    "mask = tf.cast(tf.not_equal(y_true,-100),'int32') #create a mask\n",
    "matches = tf.cast(tf.equal(y_true,y_pred),'int32')*mask #calculate the matches ignoring the masking\n",
    "accuracy = tf.math.reduce_sum(matches,axis=-1)/tf.maximum(tf.math.reduce_sum(mask,axis=-1),1)"
   ]
  },
  {
   "cell_type": "code",
   "execution_count": 103,
   "id": "40ee6f96",
   "metadata": {
    "ExecuteTime": {
     "end_time": "2022-02-04T10:13:56.068300Z",
     "start_time": "2022-02-04T10:13:56.062516Z"
    },
    "hidden": true
   },
   "outputs": [
    {
     "data": {
      "text/plain": [
       "<tf.Tensor: shape=(), dtype=float64, numpy=0.7444444444444445>"
      ]
     },
     "execution_count": 103,
     "metadata": {},
     "output_type": "execute_result"
    }
   ],
   "source": [
    "tf.math.reduce_mean(accuracy)"
   ]
  },
  {
   "cell_type": "markdown",
   "id": "f16d9a53",
   "metadata": {
    "heading_collapsed": true,
    "hidden": true
   },
   "source": [
    "### Using simple function"
   ]
  },
  {
   "cell_type": "code",
   "execution_count": 208,
   "id": "0f26c8fb",
   "metadata": {
    "ExecuteTime": {
     "end_time": "2022-02-04T13:35:38.446847Z",
     "start_time": "2022-02-04T13:35:38.439726Z"
    },
    "hidden": true
   },
   "outputs": [],
   "source": [
    "def accuracy_masked_func(y_true,y_pred):\n",
    "    \"\"\"\n",
    "    Compute the accuracy ignoring the class 15 (PAD).\n",
    "\n",
    "    Args:\n",
    "        y_true (tf.Tensor): target of shape (None, 1024, 16)\n",
    "        y_pred (tf.Tensor): targets predicted of shape (None, 1024, 16)\n",
    "\n",
    "    Returns:\n",
    "        float: accuracy \n",
    "    \"\"\"\n",
    "    y_pred = tf.cast(tf.argmax(y_pred,axis=-1),'int32')\n",
    "    y_true = tf.cast(tf.argmax(y_true,axis=-1),'int32') #for y_pred and y_true to match\n",
    "    mask = tf.cast(y_true != 15,'int32') #create a mask for 15 = PAD\n",
    "    matches = tf.cast(tf.equal(y_true,y_pred),'int32')*mask #calculate the matches ignoring the masking\n",
    "    accuracy = tf.math.reduce_sum(matches,axis=-1)/tf.maximum(tf.math.reduce_sum(mask,axis=-1),1)\n",
    "    \n",
    "    return accuracy"
   ]
  },
  {
   "cell_type": "code",
   "execution_count": 207,
   "id": "e812f1eb",
   "metadata": {
    "ExecuteTime": {
     "end_time": "2022-02-04T13:30:47.443487Z",
     "start_time": "2022-02-04T13:30:47.384912Z"
    },
    "hidden": true
   },
   "outputs": [
    {
     "data": {
      "text/plain": [
       "<tf.Tensor: shape=(2,), dtype=float64, numpy=array([0.88888889, 0.6       ])>"
      ]
     },
     "execution_count": 207,
     "metadata": {},
     "output_type": "execute_result"
    }
   ],
   "source": [
    "accuracy_masked_func(y_true,y_pred)"
   ]
  },
  {
   "cell_type": "code",
   "execution_count": 210,
   "id": "1d71adf6",
   "metadata": {
    "ExecuteTime": {
     "end_time": "2022-02-04T13:35:53.801253Z",
     "start_time": "2022-02-04T13:35:53.682910Z"
    },
    "hidden": true
   },
   "outputs": [],
   "source": [
    "#simpler than subclassing\n",
    "accuracy_masked = tf.keras.metrics.MeanMetricWrapper(fn=accuracy_masked_func)"
   ]
  },
  {
   "cell_type": "code",
   "execution_count": 211,
   "id": "b5dec6c5",
   "metadata": {
    "ExecuteTime": {
     "end_time": "2022-02-04T13:36:03.220012Z",
     "start_time": "2022-02-04T13:36:02.983247Z"
    },
    "hidden": true
   },
   "outputs": [
    {
     "data": {
      "text/plain": [
       "<tf.Tensor: shape=(), dtype=float32, numpy=0.7444445>"
      ]
     },
     "execution_count": 211,
     "metadata": {},
     "output_type": "execute_result"
    }
   ],
   "source": [
    "accuracy_masked(y_true,y_pred)"
   ]
  },
  {
   "cell_type": "markdown",
   "id": "20541fd0",
   "metadata": {},
   "source": [
    "## Evaluation metric\n",
    "\n",
    "Create a metric to evaluate model performance according to the Kaggle\n",
    "competition rules.\n",
    "\n",
    "- For each sample, all ground truths and predictions for a given class are \n",
    "    compared.\n",
    "- If the overlap between the ground truth and prediction is >= 0.5, \n",
    "  and the overlap between the prediction and the ground truth >= 0.5, \n",
    "  the prediction is a match and considered a true positive. If multiple \n",
    "  matches exist, the match with the highest pair of overlaps is taken.\n",
    "- Any unmatched ground truths are false negatives and any unmatched \n",
    "  predictions are false positives.\n",
    "    "
   ]
  },
  {
   "cell_type": "markdown",
   "id": "0acd78d9",
   "metadata": {},
   "source": [
    "### Get the data\n",
    "Only for testing purposes"
   ]
  },
  {
   "cell_type": "code",
   "execution_count": 11,
   "id": "04b7374c",
   "metadata": {
    "ExecuteTime": {
     "end_time": "2022-02-12T11:27:45.796473Z",
     "start_time": "2022-02-12T11:27:28.711604Z"
    }
   },
   "outputs": [],
   "source": [
    "#get the data\n",
    "df_essays = pd.read_csv('../raw_data/preprocessed_v3.csv',converters={'predictionstring':eval,\n",
    "                                                                     'label':eval})\n",
    "with open('../raw_data/preds_on_testsplit.pickle','rb') as file:\n",
    "    y_pred = pickle.load(file)\n",
    "    \n",
    "with open('../raw_data/dataset_v3.pickle','rb') as file:\n",
    "    dataset = pickle.load(file)\n"
   ]
  },
  {
   "cell_type": "code",
   "execution_count": 12,
   "id": "812217ff",
   "metadata": {
    "ExecuteTime": {
     "end_time": "2022-02-12T11:27:45.934390Z",
     "start_time": "2022-02-12T11:27:45.928556Z"
    }
   },
   "outputs": [],
   "source": [
    "#Max len of essay \n",
    "SEQ_LEN = 1024 ## THIS SHOULD NOT BE CHANGED without appropriate changes in the preprocessing \n",
    "\n",
    "#Train, val, test split proportion\n",
    "VAL_SPLIT = 0.8\n",
    "TEST_SPLIT = 0.9\n",
    "\n",
    "LEN=len(dataset['labels'])\n",
    "\n",
    "idx_val=int(LEN*VAL_SPLIT)\n",
    "idx_test=int(LEN*TEST_SPLIT)\n",
    "\n",
    "idx_train=list(range(0,idx_val))\n",
    "idx_val=list(range(idx_val,idx_test))\n",
    "idx_test=list(range(idx_test,LEN))\n",
    "\n",
    "assert(len(idx_test)+len(idx_train)+len(idx_val)==LEN)"
   ]
  },
  {
   "cell_type": "code",
   "execution_count": 13,
   "id": "fc7a9007",
   "metadata": {
    "ExecuteTime": {
     "end_time": "2022-02-12T11:27:46.285310Z",
     "start_time": "2022-02-12T11:27:46.072217Z"
    }
   },
   "outputs": [],
   "source": [
    "#creating X_test, y_test, ps_test\n",
    "\n",
    "X_test = {\n",
    "    'input_ids' : dataset['inputs']['input_ids'][idx_test],\n",
    "    'attention_mask' : dataset['inputs']['attention_mask'][idx_test]\n",
    "}\n",
    "\n",
    "y_test = dataset['labels'][idx_test]\n",
    "ps_test = dataset['predictionstrings'][idx_test]"
   ]
  },
  {
   "cell_type": "code",
   "execution_count": 14,
   "id": "f9dad965",
   "metadata": {
    "ExecuteTime": {
     "end_time": "2022-02-12T11:27:46.398761Z",
     "start_time": "2022-02-12T11:27:46.394171Z"
    }
   },
   "outputs": [],
   "source": [
    "#Labels mapping\n",
    "\n",
    "labels_mapping = {'B-Lead' : 0,\n",
    "                  'B-Position' : 1,\n",
    "                  'B-Evidence' : 2,\n",
    "                  'B-Claim' : 3,\n",
    "                  'B-Concluding_Statement' : 4,\n",
    "                  'B-Counterclaim' : 5,\n",
    "                  'B-Rebuttal' : 6,\n",
    "                  'I-Lead' : 7,\n",
    "                  'I-Position' : 8,\n",
    "                  'I-Evidence' : 9,\n",
    "                  'I-Claim' : 10,\n",
    "                  'I-Concluding_Statement' : 11,\n",
    "                  'I-Counterclaim' : 12,\n",
    "                  'I-Rebuttal': 13,\n",
    "                 'O':14,\n",
    "                 'PAD':15}\n",
    "\n",
    "reversed_mapping = {v:(k[2:] if v<14 else k) for k,v in labels_mapping.items()}"
   ]
  },
  {
   "cell_type": "markdown",
   "id": "d23afa93",
   "metadata": {},
   "source": [
    "### Creating predictions df"
   ]
  },
  {
   "cell_type": "code",
   "execution_count": 15,
   "id": "da5e8108",
   "metadata": {
    "ExecuteTime": {
     "end_time": "2022-02-12T11:27:46.511743Z",
     "start_time": "2022-02-12T11:27:46.504988Z"
    }
   },
   "outputs": [],
   "source": [
    "def get_preds(y_pred,ps):\n",
    "    \"\"\"\n",
    "    Generate readable predictions from the output of the model.\n",
    "\n",
    "    Args:\n",
    "        y_pred (ndarray): output of the model\n",
    "        ps (ndarray): predictionstring referring to the token predicted\n",
    "\n",
    "    Returns:\n",
    "        DataFrame : DataFrame with class and predictionstrings\n",
    "    \"\"\"\n",
    "\n",
    "\n",
    "    labels = []\n",
    "    predictionstrings = []\n",
    "    counts = []\n",
    "    \n",
    "    counter=dict()\n",
    "    \n",
    "    for tok,pos in zip(y_pred,ps):\n",
    "        \n",
    "        if tok <= 13:\n",
    "            lab = reversed_mapping[tok]\n",
    "            labels.append(lab)\n",
    "            predictionstrings.append(pos)\n",
    "            if len(labels)<2:\n",
    "                counts.append(str(1))\n",
    "                counter.setdefault(lab,1)\n",
    "                continue\n",
    "            if lab == labels[-2]:\n",
    "                counts.append(str(counter[lab]))\n",
    "            else: \n",
    "                try:\n",
    "                    counter[lab]+=1\n",
    "                except KeyError:\n",
    "                    counter.setdefault(lab,1)\n",
    "                counts.append(str(counter[lab]))\n",
    "    \n",
    "    preds = pd.DataFrame([labels,counts,predictionstrings],index=['class','count','predictionstring']).T\n",
    "    preds['class'] += ' ' + preds['count'].astype(str)\n",
    "    preds = preds.groupby('class',sort=False).agg({'predictionstring':list}).reset_index()\n",
    "    preds['class']=preds['class'].apply(lambda txt : txt.split()[0])\n",
    "    preds['predictionstring']=preds['predictionstring'].apply(lambda l_ : [str(l) for l in l_])\n",
    "    preds['predictionstring']=preds['predictionstring'].apply(lambda l_ : ' '.join(l_))\n",
    "    \n",
    "    return preds"
   ]
  },
  {
   "cell_type": "code",
   "execution_count": 16,
   "id": "bb83207b",
   "metadata": {
    "ExecuteTime": {
     "end_time": "2022-02-12T11:28:11.536940Z",
     "start_time": "2022-02-12T11:27:46.654887Z"
    }
   },
   "outputs": [],
   "source": [
    "## Working essay per essay, building pred_df\n",
    "\n",
    "preds = np.argmax(y_pred,axis=-1)\n",
    "pred_df=pd.DataFrame()\n",
    "for i,idx in tdqm(enumerate(idx_test),total=len(idx_test)): ## CHANGE idx_test\n",
    "    \n",
    "    pred_ = get_preds(preds[i],ps_test[i])\n",
    "    \n",
    "    pred_['id']=df_essays.iloc[idx]['id']\n",
    "    \n",
    "    pred_df = pred_df.append(pred_)"
   ]
  },
  {
   "cell_type": "code",
   "execution_count": 18,
   "id": "1f1c075b",
   "metadata": {
    "ExecuteTime": {
     "end_time": "2022-02-12T11:28:57.763276Z",
     "start_time": "2022-02-12T11:28:32.577541Z"
    }
   },
   "outputs": [
    {
     "data": {
      "application/vnd.jupyter.widget-view+json": {
       "model_id": "fde323963f1f43819251f0134373b26e",
       "version_major": 2,
       "version_minor": 0
      },
      "text/plain": [
       "  0%|          | 0/1560 [00:00<?, ?it/s]"
      ]
     },
     "metadata": {},
     "output_type": "display_data"
    }
   ],
   "source": [
    "# Working essay per essay, building true_df\n",
    "\n",
    "## NB : this does not yield exactly the same result as if \n",
    "## we processed train.csv. \n",
    "## TODO : First glance shows delta to be negligible. Yet to further investigate.\n",
    "\n",
    "true = np.argmax(y_test,axis=-1)\n",
    "true_df=pd.DataFrame()\n",
    "for i,idx in tqdm(enumerate(idx_test),total=len(idx_test)): ## CHANGE idx_test\n",
    "    \n",
    "    true_ = get_preds(true[i],ps_test[i])\n",
    "    \n",
    "    true_['id']=df_essays.iloc[idx]['id']\n",
    "    \n",
    "    true_df = true_df.append(true_)"
   ]
  },
  {
   "cell_type": "markdown",
   "id": "94cdc11d",
   "metadata": {},
   "source": [
    "### Scoring functions"
   ]
  },
  {
   "cell_type": "code",
   "execution_count": 19,
   "id": "b2f51aee",
   "metadata": {
    "ExecuteTime": {
     "end_time": "2022-02-12T11:29:00.900607Z",
     "start_time": "2022-02-12T11:29:00.894481Z"
    }
   },
   "outputs": [],
   "source": [
    "def scoring(predictionstring_true,predictionstring_pred):\n",
    "    \"\"\"\n",
    "    Identify each prediction to be a True Positive, a False Positive or a False \n",
    "    Negative according to the competition rules : \n",
    "    - For each sample, all ground truths and predictions for a given class are \n",
    "    compared.\n",
    "    - If the overlap between the ground truth and prediction is >= 0.5, \n",
    "    and the overlap between the prediction and the ground truth >= 0.5, \n",
    "    the prediction is a match and considered a true positive. If multiple \n",
    "    matches exist, the match with the highest pair of overlaps is taken.\n",
    "    - Any unmatched ground truths are false negatives and any unmatched \n",
    "    predictions are false positives.\n",
    "    \n",
    "    predictionstring_true and predictionstring_pred are a possible match from an\n",
    "    outer join of all predictions.\n",
    "\n",
    "    Args:\n",
    "        predictionstring_true (str): predictionstring of a true discourse\n",
    "        predictionstring_pred (str): predictionstring of a predicted discourse\n",
    "\n",
    "    Returns:\n",
    "        str: TP, FP, or FP \n",
    "    \"\"\"\n",
    "    \n",
    "    if predictionstring_true is np.nan :\n",
    "        return 'FP'\n",
    "    \n",
    "    elif predictionstring_pred is np.nan :\n",
    "        return 'FN'\n",
    "    \n",
    "    else:\n",
    "        \n",
    "        ps_true = set(predictionstring_true.split(' '))\n",
    "        ps_pred = set(predictionstring_pred.split(' '))\n",
    "\n",
    "        inter = ps_pred.intersection(ps_true)\n",
    "        overlap_1 = len(inter)/len(ps_true)\n",
    "        overlap_2 = len(inter)/len(ps_pred)\n",
    "\n",
    "        if overlap_1 >= .5 and overlap_2 >= .5:\n",
    "            return 'TP'\n",
    "        else:\n",
    "            return 'FP'\n",
    "\n",
    "## vectorize the funct\n",
    "scoring_vect = np.vectorize(scoring)"
   ]
  },
  {
   "cell_type": "code",
   "execution_count": 20,
   "id": "ce1ca8c1",
   "metadata": {
    "ExecuteTime": {
     "end_time": "2022-02-12T11:29:02.131685Z",
     "start_time": "2022-02-12T11:29:02.128171Z"
    }
   },
   "outputs": [],
   "source": [
    "def f1_score(fp,fn,tp):\n",
    "    return tp/(tp+.5*(fp+fn))*100"
   ]
  },
  {
   "cell_type": "code",
   "execution_count": 65,
   "id": "e9933025",
   "metadata": {
    "ExecuteTime": {
     "end_time": "2022-02-12T11:52:47.478241Z",
     "start_time": "2022-02-12T11:52:47.464874Z"
    }
   },
   "outputs": [],
   "source": [
    "def scores_df(merged_df):\n",
    "    \"\"\"\n",
    "    Computes f1-score summary.\n",
    "\n",
    "    Args:\n",
    "        merged_df (DataFrame): DF with all correspondances of ground truth and \n",
    "        predictions.\n",
    "\n",
    "    Returns:\n",
    "        df, plot: Returns a dataframe summarizing f1-score per class and a\n",
    "        barplot showing f1 levels in comparison to the Macro f1-score\n",
    "    \"\"\"\n",
    "    \n",
    "    merged_df['FP'] = np.where(merged_df['score']=='FP',1,0)\n",
    "    merged_df['FN'] = np.where(merged_df['score']=='FN',1,0)\n",
    "    merged_df['TP'] = np.where(merged_df['score']=='TP',1,0)\n",
    "\n",
    "    merged_df['key'] = merged_df['id']+merged_df['class']+merged_df['predictionstring_pred']+\\\n",
    "                        merged_df['predictionstring_true']\n",
    "    \n",
    "    idx_potential_duplicates = merged_df[(merged_df['key'].duplicated()) & (merged_df['TP']==1)].index\n",
    "    \n",
    "    merged_df.drop(idx_potential_duplicates,inplace=True,axis=0)\n",
    "    \n",
    "    merged_df.drop('key',axis=1,inplace=True)\n",
    "    \n",
    "    score_df = merged_df.groupby('class').agg({'TP':sum,'FP':sum,'FN':sum})\n",
    "    score_df['F1'] = f1_score(score_df.FP,score_df.FN,score_df.TP)\n",
    "    \n",
    "    #Create a total row\n",
    "    score_df.loc['Total']=score_df.mean()\n",
    "\n",
    "    ## weighted average\n",
    "    score_df['Support'] = true_df.groupby('class').count()['id']\n",
    "    score_df['F1_Weighted']=score_df['F1']*(score_df['Support']/score_df['Support'].sum())\n",
    "    score_df.loc['Total','Support']=score_df.Support.sum()\n",
    "    score_df.loc['Total','F1_Weighted']=score_df.F1_Weighted.sum()\n",
    "\n",
    "    # impute correct values for the Total row for TP FN FP \n",
    "    score_df.loc['Total','FP'] = score_df.loc[:'Rebuttal','FP'].sum()\n",
    "    score_df.loc['Total','FN'] = score_df.loc[:'Rebuttal','FN'].sum()\n",
    "    score_df.loc['Total','TP'] = score_df.loc[:'Rebuttal','TP'].sum()    \n",
    "    \n",
    "    #Print aggregated scores\n",
    "    print(f\"F1 Macro Score = {score_df.loc['Total','F1']:.2f}%\")\n",
    "    print(f\"F1 Micro Score = {f1_score(score_df.loc['Total','FP'],score_df.loc['Total','FN'],score_df.loc['Total','TP']):.2f}%\")\n",
    "    print(f\"F1 Weighted Score = {score_df.loc['Total','F1_Weighted']:.2f}%\")\n",
    "    \n",
    "    ## Creating figure\n",
    "    sns.barplot(y=score_df.reset_index().loc[:6,'F1'],x=score_df.index[:-1],palette='Set2')\n",
    "    plt.xticks(rotation=90)\n",
    "    locs,_=plt.xticks()\n",
    "    plt.plot([locs[0]-.5,locs[-1]+.5],[score_df.loc['Total','F1'],score_df.loc['Total','F1']],c='r');\n",
    "    plt.title('Macro F1',size= 16);\n",
    "\n",
    "    ## FORMATING\n",
    "    score_df[['TP','FN','FP','Support']] = score_df[['TP','FN','FP','Support']].applymap('{:.0f}'.format)\n",
    "    score_df[['F1','F1_Weighted']] = score_df[['F1','F1_Weighted']].applymap('{:.2f}%'.format)\n",
    "    \n",
    "    \n",
    "    return score_df"
   ]
  },
  {
   "cell_type": "markdown",
   "id": "69ece2c1",
   "metadata": {},
   "source": [
    "### Building F1 report"
   ]
  },
  {
   "cell_type": "code",
   "execution_count": 66,
   "id": "74444e77",
   "metadata": {
    "ExecuteTime": {
     "end_time": "2022-02-12T11:52:49.103916Z",
     "start_time": "2022-02-12T11:52:48.691932Z"
    },
    "scrolled": true
   },
   "outputs": [
    {
     "data": {
      "text/html": [
       "<div>\n",
       "<style scoped>\n",
       "    .dataframe tbody tr th:only-of-type {\n",
       "        vertical-align: middle;\n",
       "    }\n",
       "\n",
       "    .dataframe tbody tr th {\n",
       "        vertical-align: top;\n",
       "    }\n",
       "\n",
       "    .dataframe thead th {\n",
       "        text-align: right;\n",
       "    }\n",
       "</style>\n",
       "<table border=\"1\" class=\"dataframe\">\n",
       "  <thead>\n",
       "    <tr style=\"text-align: right;\">\n",
       "      <th></th>\n",
       "      <th>class</th>\n",
       "      <th>predictionstring_pred</th>\n",
       "      <th>id</th>\n",
       "      <th>predictionstring_true</th>\n",
       "      <th>score</th>\n",
       "    </tr>\n",
       "  </thead>\n",
       "  <tbody>\n",
       "    <tr>\n",
       "      <th>0</th>\n",
       "      <td>Lead</td>\n",
       "      <td>0 1 2 3 4 5 6 7 8 9 10 11 12 13 14 15 16 17 18...</td>\n",
       "      <td>E6870101D8EE</td>\n",
       "      <td>NaN</td>\n",
       "      <td>FP</td>\n",
       "    </tr>\n",
       "    <tr>\n",
       "      <th>1</th>\n",
       "      <td>Lead</td>\n",
       "      <td>65 66 67 68 69 70 71 72 73 74 75 76 77 78</td>\n",
       "      <td>E6870101D8EE</td>\n",
       "      <td>NaN</td>\n",
       "      <td>FP</td>\n",
       "    </tr>\n",
       "    <tr>\n",
       "      <th>2</th>\n",
       "      <td>Lead</td>\n",
       "      <td>83 84</td>\n",
       "      <td>E6870101D8EE</td>\n",
       "      <td>NaN</td>\n",
       "      <td>FP</td>\n",
       "    </tr>\n",
       "    <tr>\n",
       "      <th>3</th>\n",
       "      <td>Evidence</td>\n",
       "      <td>31 32 33 34 35 36 37 38 39 40 41 42 43 44 45 4...</td>\n",
       "      <td>E6870101D8EE</td>\n",
       "      <td>0 1 2 3 4 5 6 7 8 9 10 11 12 13 14 15 16 17 18...</td>\n",
       "      <td>FP</td>\n",
       "    </tr>\n",
       "    <tr>\n",
       "      <th>4</th>\n",
       "      <td>Evidence</td>\n",
       "      <td>31 32 33 34 35 36 37 38 39 40 41 42 43 44 45 4...</td>\n",
       "      <td>E6870101D8EE</td>\n",
       "      <td>110 111 112 113 114 115 116 117 118 119 120 12...</td>\n",
       "      <td>FP</td>\n",
       "    </tr>\n",
       "  </tbody>\n",
       "</table>\n",
       "</div>"
      ],
      "text/plain": [
       "      class                              predictionstring_pred            id  \\\n",
       "0      Lead  0 1 2 3 4 5 6 7 8 9 10 11 12 13 14 15 16 17 18...  E6870101D8EE   \n",
       "1      Lead          65 66 67 68 69 70 71 72 73 74 75 76 77 78  E6870101D8EE   \n",
       "2      Lead                                              83 84  E6870101D8EE   \n",
       "3  Evidence  31 32 33 34 35 36 37 38 39 40 41 42 43 44 45 4...  E6870101D8EE   \n",
       "4  Evidence  31 32 33 34 35 36 37 38 39 40 41 42 43 44 45 4...  E6870101D8EE   \n",
       "\n",
       "                               predictionstring_true score  \n",
       "0                                                NaN    FP  \n",
       "1                                                NaN    FP  \n",
       "2                                                NaN    FP  \n",
       "3  0 1 2 3 4 5 6 7 8 9 10 11 12 13 14 15 16 17 18...    FP  \n",
       "4  110 111 112 113 114 115 116 117 118 119 120 12...    FP  "
      ]
     },
     "execution_count": 66,
     "metadata": {},
     "output_type": "execute_result"
    }
   ],
   "source": [
    "#Merge true_df and pred_df to get all possible matches\n",
    "merged_df = pred_df.merge(true_df,how = 'outer',on=['id','class'],suffixes=('_pred','_true'))\n",
    "merged_df['score'] = scoring_vect(merged_df.predictionstring_true,\n",
    "                                  merged_df.predictionstring_pred) # apply scoring func to determine for each\n",
    "                                                                    # pred if it FP,FN,TP\n",
    "merged_df.head()"
   ]
  },
  {
   "cell_type": "code",
   "execution_count": 67,
   "id": "88eed805",
   "metadata": {
    "ExecuteTime": {
     "end_time": "2022-02-12T11:52:49.416950Z",
     "start_time": "2022-02-12T11:52:49.106575Z"
    }
   },
   "outputs": [
    {
     "name": "stdout",
     "output_type": "stream",
     "text": [
      "F1 Macro Score = 44.92%\n",
      "F1 Micro Score = 39.31%\n",
      "F1 Weighted Score = 42.86%\n"
     ]
    },
    {
     "data": {
      "text/html": [
       "<div>\n",
       "<style scoped>\n",
       "    .dataframe tbody tr th:only-of-type {\n",
       "        vertical-align: middle;\n",
       "    }\n",
       "\n",
       "    .dataframe tbody tr th {\n",
       "        vertical-align: top;\n",
       "    }\n",
       "\n",
       "    .dataframe thead th {\n",
       "        text-align: right;\n",
       "    }\n",
       "</style>\n",
       "<table border=\"1\" class=\"dataframe\">\n",
       "  <thead>\n",
       "    <tr style=\"text-align: right;\">\n",
       "      <th></th>\n",
       "      <th>TP</th>\n",
       "      <th>FP</th>\n",
       "      <th>FN</th>\n",
       "      <th>F1</th>\n",
       "      <th>Support</th>\n",
       "      <th>F1_Weighted</th>\n",
       "    </tr>\n",
       "    <tr>\n",
       "      <th>class</th>\n",
       "      <th></th>\n",
       "      <th></th>\n",
       "      <th></th>\n",
       "      <th></th>\n",
       "      <th></th>\n",
       "      <th></th>\n",
       "    </tr>\n",
       "  </thead>\n",
       "  <tbody>\n",
       "    <tr>\n",
       "      <th>Claim</th>\n",
       "      <td>1570</td>\n",
       "      <td>7897</td>\n",
       "      <td>49</td>\n",
       "      <td>28.32%</td>\n",
       "      <td>3412</td>\n",
       "      <td>8.06%</td>\n",
       "    </tr>\n",
       "    <tr>\n",
       "      <th>Concluding_Statement</th>\n",
       "      <td>1106</td>\n",
       "      <td>605</td>\n",
       "      <td>27</td>\n",
       "      <td>77.78%</td>\n",
       "      <td>1346</td>\n",
       "      <td>8.73%</td>\n",
       "    </tr>\n",
       "    <tr>\n",
       "      <th>Counterclaim</th>\n",
       "      <td>141</td>\n",
       "      <td>573</td>\n",
       "      <td>202</td>\n",
       "      <td>26.68%</td>\n",
       "      <td>542</td>\n",
       "      <td>1.21%</td>\n",
       "    </tr>\n",
       "    <tr>\n",
       "      <th>Evidence</th>\n",
       "      <td>2400</td>\n",
       "      <td>9860</td>\n",
       "      <td>0</td>\n",
       "      <td>32.74%</td>\n",
       "      <td>3792</td>\n",
       "      <td>10.35%</td>\n",
       "    </tr>\n",
       "    <tr>\n",
       "      <th>Lead</th>\n",
       "      <td>774</td>\n",
       "      <td>618</td>\n",
       "      <td>50</td>\n",
       "      <td>69.86%</td>\n",
       "      <td>963</td>\n",
       "      <td>5.61%</td>\n",
       "    </tr>\n",
       "    <tr>\n",
       "      <th>Position</th>\n",
       "      <td>955</td>\n",
       "      <td>909</td>\n",
       "      <td>68</td>\n",
       "      <td>66.16%</td>\n",
       "      <td>1535</td>\n",
       "      <td>8.47%</td>\n",
       "    </tr>\n",
       "    <tr>\n",
       "      <th>Rebuttal</th>\n",
       "      <td>57</td>\n",
       "      <td>571</td>\n",
       "      <td>199</td>\n",
       "      <td>12.90%</td>\n",
       "      <td>402</td>\n",
       "      <td>0.43%</td>\n",
       "    </tr>\n",
       "    <tr>\n",
       "      <th>Total</th>\n",
       "      <td>7003</td>\n",
       "      <td>21033</td>\n",
       "      <td>595</td>\n",
       "      <td>44.92%</td>\n",
       "      <td>11992</td>\n",
       "      <td>42.86%</td>\n",
       "    </tr>\n",
       "  </tbody>\n",
       "</table>\n",
       "</div>"
      ],
      "text/plain": [
       "                        TP     FP   FN      F1 Support F1_Weighted\n",
       "class                                                             \n",
       "Claim                 1570   7897   49  28.32%    3412       8.06%\n",
       "Concluding_Statement  1106    605   27  77.78%    1346       8.73%\n",
       "Counterclaim           141    573  202  26.68%     542       1.21%\n",
       "Evidence              2400   9860    0  32.74%    3792      10.35%\n",
       "Lead                   774    618   50  69.86%     963       5.61%\n",
       "Position               955    909   68  66.16%    1535       8.47%\n",
       "Rebuttal                57    571  199  12.90%     402       0.43%\n",
       "Total                 7003  21033  595  44.92%   11992      42.86%"
      ]
     },
     "execution_count": 67,
     "metadata": {},
     "output_type": "execute_result"
    },
    {
     "data": {
      "image/png": "[encoded data removed]",
      "text/plain": [
       "<Figure size 432x288 with 1 Axes>"
      ]
     },
     "metadata": {
      "needs_background": "light"
     },
     "output_type": "display_data"
    }
   ],
   "source": [
    "f1_report = scores_df(merged_df)\n",
    "f1_report"
   ]
  },
  {
   "cell_type": "markdown",
   "id": "2fe56a67",
   "metadata": {},
   "source": [
    "## Confusion matrix"
   ]
  },
  {
   "cell_type": "code",
   "execution_count": 284,
   "id": "d8ddb586",
   "metadata": {
    "ExecuteTime": {
     "end_time": "2022-02-08T09:42:21.575452Z",
     "start_time": "2022-02-08T09:42:21.571645Z"
    }
   },
   "outputs": [],
   "source": [
    "from sklearn.metrics import confusion_matrix"
   ]
  },
  {
   "cell_type": "code",
   "execution_count": 420,
   "id": "0edffa7e",
   "metadata": {
    "ExecuteTime": {
     "end_time": "2022-02-08T10:57:41.466079Z",
     "start_time": "2022-02-08T10:57:41.456484Z"
    }
   },
   "outputs": [],
   "source": [
    "def show_confusion_matrix(y_true,y_pred):\n",
    "    \"\"\"\n",
    "    Plots a confusion matrix.\n",
    "\n",
    "    Args:\n",
    "        y_true (np.array): targets of shape (None, 1024)\n",
    "        y_pred (np.array): targets predicted of shape (None, 1024)\n",
    "    \"\"\"\n",
    "\n",
    "    reversed_mapping = {\n",
    "                        0: 'Lead',\n",
    "                        1: 'Position',\n",
    "                        2: 'Evidence',\n",
    "                        3: 'Claim',\n",
    "                        4: 'Concluding_Statement',\n",
    "                        5: 'Counterclaim',\n",
    "                        6: 'Rebuttal',\n",
    "                        7: 'Lead',\n",
    "                        8: 'Position',\n",
    "                        9: 'Evidence',\n",
    "                        10: 'Claim',\n",
    "                        11: 'Concluding_Statement',\n",
    "                        12: 'Counterclaim',\n",
    "                        13: 'Rebuttal',\n",
    "                        14: 'O',\n",
    "                        15: 'PAD'}\n",
    "    \n",
    "    y_true_flat = [reversed_mapping[y] for y in y_true.flatten()]\n",
    "    y_pred_flat = [reversed_mapping[y] for y in y_pred.flatten()]\n",
    "    \n",
    "    LABELS = ['Lead','Position','Claim','Counterclaim','Rebuttal','Evidence','Concluding_Statement','O','PAD']\n",
    "\n",
    "    cfn = confusion_matrix(y_true_flat,y_pred_flat,labels=LABELS)\n",
    "    \n",
    "    fig,ax = plt.subplots(1,1,figsize=(10,10))\n",
    "    plt.title('Confusion Matrix',size=18,pad=20)\n",
    "    sns.heatmap(cfn/np.sum(cfn,axis=0)*100,cmap='Blues',annot = True,fmt='.2f',annot_kws={'size':10},ax=ax);\n",
    "    plt.xticks(np.arange(len(LABELS))+.5,LABELS,rotation = 90,size=12);\n",
    "    plt.yticks(np.arange(len(LABELS))+.5,LABELS,rotation = 0,size=12);\n",
    "    plt.xlabel('PREDICTED',size=16);\n",
    "    plt.ylabel('ACTUAL',size=16);\n",
    "    for t in ax.texts: t.set_text(t.get_text() + \" %\")\n",
    "    \n",
    "    plt.show()"
   ]
  },
  {
   "cell_type": "code",
   "execution_count": 421,
   "id": "55ecfde3",
   "metadata": {
    "ExecuteTime": {
     "end_time": "2022-02-08T10:57:50.337916Z",
     "start_time": "2022-02-08T10:57:44.304107Z"
    }
   },
   "outputs": [
    {
     "data": {
      "image/png": "[encoded data removed]",
      "text/plain": [
       "<Figure size 720x720 with 2 Axes>"
      ]
     },
     "metadata": {
      "needs_background": "light"
     },
     "output_type": "display_data"
    }
   ],
   "source": [
    "show_confusion_matrix(y_true,y_pred)"
   ]
  },
  {
   "cell_type": "code",
   "execution_count": null,
   "id": "b3e3e48c",
   "metadata": {},
   "outputs": [],
   "source": []
  }
 ],
 "metadata": {
  "kernelspec": {
   "display_name": "Python 3 (ipykernel)",
   "language": "python",
   "name": "python3"
  },
  "language_info": {
   "codemirror_mode": {
    "name": "ipython",
    "version": 3
   },
   "file_extension": ".py",
   "mimetype": "text/x-python",
   "name": "python",
   "nbconvert_exporter": "python",
   "pygments_lexer": "ipython3",
   "version": "3.8.12"
  },
  "toc": {
   "base_numbering": "1",
   "nav_menu": {},
   "number_sections": true,
   "sideBar": true,
   "skip_h1_title": true,
   "title_cell": "Table of Contents",
   "title_sidebar": "Contents",
   "toc_cell": false,
   "toc_position": {
    "height": "calc(100% - 180px)",
    "left": "10px",
    "top": "150px",
    "width": "268px"
   },
   "toc_section_display": true,
   "toc_window_display": true
  },
  "varInspector": {
   "cols": {
    "lenName": 16,
    "lenType": 16,
    "lenVar": 40
   },
   "kernels_config": {
    "python": {
     "delete_cmd_postfix": "",
     "delete_cmd_prefix": "del ",
     "library": "var_list.py",
     "varRefreshCmd": "print(var_dic_list())"
    },
    "r": {
     "delete_cmd_postfix": ") ",
     "delete_cmd_prefix": "rm(",
     "library": "var_list.r",
     "varRefreshCmd": "cat(var_dic_list()) "
    }
   },
   "position": {
    "height": "505.844px",
    "left": "1063px",
    "right": "20px",
    "top": "120px",
    "width": "357px"
   },
   "types_to_exclude": [
    "module",
    "function",
    "builtin_function_or_method",
    "instance",
    "_Feature"
   ],
   "window_display": false
  }
 },
 "nbformat": 4,
 "nbformat_minor": 5
}
