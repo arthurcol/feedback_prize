{
 "cells": [
  {
   "cell_type": "markdown",
   "id": "165075d8",
   "metadata": {},
   "source": [
    "# Imports"
   ]
  },
  {
   "cell_type": "code",
   "execution_count": 1,
   "id": "c422e5a0",
   "metadata": {
    "ExecuteTime": {
     "end_time": "2022-02-07T20:17:56.256345Z",
     "start_time": "2022-02-07T20:17:56.182223Z"
    }
   },
   "outputs": [],
   "source": [
    "from tqdm.notebook import tqdm"
   ]
  },
  {
   "cell_type": "code",
   "execution_count": 94,
   "id": "ab1e01c2",
   "metadata": {
    "ExecuteTime": {
     "end_time": "2022-02-07T20:32:15.687417Z",
     "start_time": "2022-02-07T20:32:15.684029Z"
    }
   },
   "outputs": [],
   "source": [
    "import pandas as pd \n",
    "import numpy as np \n",
    "import matplotlib.pyplot as plt\n",
    "import seaborn as sns\n",
    "import tensorflow as tf\n",
    "\n",
    "import seqeval.metrics\n",
    "\n",
    "from transformers import AutoTokenizer"
   ]
  },
  {
   "cell_type": "code",
   "execution_count": 2,
   "id": "18d7a555",
   "metadata": {
    "ExecuteTime": {
     "end_time": "2022-02-04T08:59:17.607596Z",
     "start_time": "2022-02-04T08:59:17.604851Z"
    }
   },
   "outputs": [],
   "source": [
    "## create dummy data "
   ]
  },
  {
   "cell_type": "code",
   "execution_count": 39,
   "id": "c7ea652e",
   "metadata": {
    "ExecuteTime": {
     "end_time": "2022-02-04T09:40:45.177299Z",
     "start_time": "2022-02-04T09:40:45.172435Z"
    }
   },
   "outputs": [],
   "source": [
    "labels = {\n",
    "    'B-First':0,\n",
    "    'I-First':1,\n",
    "    'B-Second':2,\n",
    "    'I-Second':3,\n",
    "    'O':4,\n",
    "    'PAD':-100\n",
    "}\n",
    "\n",
    "reversed_labels={v:k for k,v in labels.items()}\n",
    "\n",
    "y_true = np.array([[0,1,1,1,4,2,3,3,3,-100,-100,-100],[-100,0,1,4,4,2,3,3,3,0,1,-100]])\n",
    "y_pred = np.array([[0,1,1,1,4,2,3,3,4,4,4,4],[-100,0,1,1,2,2,3,3,0,0,0,4]])"
   ]
  },
  {
   "cell_type": "markdown",
   "id": "feb17e4d",
   "metadata": {},
   "source": [
    "# Accuracy"
   ]
  },
  {
   "cell_type": "markdown",
   "id": "14301574",
   "metadata": {},
   "source": [
    "## seqeval experimentation"
   ]
  },
  {
   "cell_type": "code",
   "execution_count": 19,
   "id": "9a587a26",
   "metadata": {
    "ExecuteTime": {
     "end_time": "2022-02-04T09:05:54.283827Z",
     "start_time": "2022-02-04T09:05:54.268883Z"
    }
   },
   "outputs": [
    {
     "data": {
      "text/plain": [
       "array([1. , 1. , 1. , 0.5, 0. , 1. , 1. , 1. , 0. , 0.5, 0. , 0. ])"
      ]
     },
     "execution_count": 19,
     "metadata": {},
     "output_type": "execute_result"
    }
   ],
   "source": [
    "seqeval.metrics.accuracy_score(y_true,y_pred)"
   ]
  },
  {
   "cell_type": "code",
   "execution_count": 54,
   "id": "748f3307",
   "metadata": {
    "ExecuteTime": {
     "end_time": "2022-02-04T09:59:28.671310Z",
     "start_time": "2022-02-04T09:59:28.663639Z"
    }
   },
   "outputs": [],
   "source": [
    "def labeling_without_pad(y_true,y_pred,padding=-100):\n",
    "    \n",
    "    labels = {\n",
    "    'B-First':0,\n",
    "    'I-First':1,\n",
    "    'B-Second':2,\n",
    "    'I-Second':3,\n",
    "    'O':4,\n",
    "    'PAD':padding\n",
    "    }\n",
    "\n",
    "    reversed_labels={v:k for k,v in labels.items()}\n",
    "\n",
    "    try:\n",
    "        if not isinstance(y_true,numpy.array):\n",
    "            y_true = y_true.numpy()\n",
    "        if not isinstance(y_pred,numpy.array):\n",
    "            y_pred = y_pred.numpy()\n",
    "    except:\n",
    "        \"must be passed TF or NP\"\n",
    "    \n",
    "    \n",
    "    batch_size,seq_len = y_pred.shape\n",
    "    labels, preds = [],[]\n",
    "    \n",
    "    for i in range(batch_size):\n",
    "        labels_ , preds_ = [], []\n",
    "        for j in range(seq_len):\n",
    "            if y_true[i][j] !=-100:\n",
    "                labels_.append(reversed_labels[y_true[i][j]])\n",
    "                preds_.append(reversed_labels[y_pred[i][j]])\n",
    "        labels.append(labels_)\n",
    "        preds.append(preds_)\n",
    "        \n",
    "    return preds,labels\n",
    "        "
   ]
  },
  {
   "cell_type": "code",
   "execution_count": 55,
   "id": "deba1ddd",
   "metadata": {
    "ExecuteTime": {
     "end_time": "2022-02-04T09:59:29.412302Z",
     "start_time": "2022-02-04T09:59:29.406001Z"
    }
   },
   "outputs": [
    {
     "name": "stdout",
     "output_type": "stream",
     "text": [
      "              precision    recall  f1-score   support\n",
      "\n",
      "       First       0.33      0.20      0.25         5\n",
      "      Second       0.00      0.00      0.00         3\n",
      "\n",
      "   micro avg       0.20      0.12      0.15         8\n",
      "   macro avg       0.17      0.10      0.12         8\n",
      "weighted avg       0.21      0.12      0.16         8\n",
      "\n"
     ]
    }
   ],
   "source": [
    "preds,labels=labeling_without_pad(y_true,y_pred)\n",
    "print(seqeval.metrics.classification_report(preds,labels))"
   ]
  },
  {
   "cell_type": "code",
   "execution_count": 56,
   "id": "00399299",
   "metadata": {
    "ExecuteTime": {
     "end_time": "2022-02-04T09:59:33.210362Z",
     "start_time": "2022-02-04T09:59:33.204227Z"
    }
   },
   "outputs": [
    {
     "data": {
      "text/plain": [
       "0.15384615384615385"
      ]
     },
     "execution_count": 56,
     "metadata": {},
     "output_type": "execute_result"
    }
   ],
   "source": [
    "seqeval.metrics.f1_score(labels,preds)"
   ]
  },
  {
   "cell_type": "code",
   "execution_count": 75,
   "id": "372f27b2",
   "metadata": {
    "ExecuteTime": {
     "end_time": "2022-02-04T10:08:09.579555Z",
     "start_time": "2022-02-04T10:08:09.573922Z"
    }
   },
   "outputs": [
    {
     "data": {
      "text/plain": [
       "0.7368421052631579"
      ]
     },
     "execution_count": 75,
     "metadata": {},
     "output_type": "execute_result"
    }
   ],
   "source": [
    "seqeval.metrics.accuracy_score(labels,preds)"
   ]
  },
  {
   "cell_type": "markdown",
   "id": "bedf28c7",
   "metadata": {},
   "source": [
    "## Accuracy masked subclassing"
   ]
  },
  {
   "cell_type": "code",
   "execution_count": 204,
   "id": "5cdcc9ff",
   "metadata": {
    "ExecuteTime": {
     "end_time": "2022-02-04T12:00:26.638087Z",
     "start_time": "2022-02-04T12:00:26.630017Z"
    }
   },
   "outputs": [],
   "source": [
    "class AccuracyMasked(tf.keras.metrics.Metric):\n",
    "    \n",
    "    def __init__(self,class_to_ignore,name='accuracy_masked',**kwargs):\n",
    "        super().__init__(name=name,**kwargs),\n",
    "        self.class_to_ignore = class_to_ignore\n",
    "        self.accs = self.add_weight(name = 'accs',initializer = 'zeros',dtype='float64')        \n",
    "    \n",
    "    def update_state(self,y_true,y_pred):\n",
    "        #y_pred = tf.argmax(y_pred,axis=-1)\n",
    "        #y_true = tf.argmax(y_true,axis=-1)#for y_pred and y_true to match\n",
    "        #mask = tf.cast(tf.not_equal(y_true,self.class_to_ignore),'int32') #create a mask\n",
    "        #matches = tf.cast(tf.equal(y_true,y_pred),'int32')*mask #calculate the matches ignoring the masking\n",
    "        #accuracy = tf.math.reduce_sum(matches,axis=-1)/tf.maximum(tf.math.reduce_sum(mask,axis=-1),1)\n",
    "        accuracy=tf.math.reduce_sum(tf.cast(y_true == y_pred,'int32')*tf.cast(y_true != -100,'int32'))/tf.math.reduce_sum(tf.cast(y_true != -100,'int32'))\n",
    "        self.accs.assign_add(tf.math.reduce_mean(accuracy))\n",
    "        \n",
    "    \n",
    "    def result(self):\n",
    "        return self.accs #tf.math.reduce_mean(accuracy)\n"
   ]
  },
  {
   "cell_type": "code",
   "execution_count": 205,
   "id": "963ca44b",
   "metadata": {
    "ExecuteTime": {
     "end_time": "2022-02-04T12:00:27.157765Z",
     "start_time": "2022-02-04T12:00:27.146240Z"
    }
   },
   "outputs": [
    {
     "data": {
      "text/plain": [
       "<tf.Tensor: shape=(), dtype=float64, numpy=0.6086956521739131>"
      ]
     },
     "execution_count": 205,
     "metadata": {},
     "output_type": "execute_result"
    }
   ],
   "source": [
    "accuracymasked = AccuracyMasked(-100)\n",
    "\n",
    "accuracymasked(y_pred,y_true)"
   ]
  },
  {
   "cell_type": "code",
   "execution_count": 181,
   "id": "d2b72fec",
   "metadata": {
    "ExecuteTime": {
     "end_time": "2022-02-04T11:57:45.527829Z",
     "start_time": "2022-02-04T11:57:45.517677Z"
    }
   },
   "outputs": [
    {
     "data": {
      "text/plain": [
       "<tf.Tensor: shape=(), dtype=float64, numpy=0.7368421052631579>"
      ]
     },
     "execution_count": 181,
     "metadata": {},
     "output_type": "execute_result"
    }
   ],
   "source": [
    "tf.math.reduce_sum(tf.cast(y_true == y_pred,'int32')*tf.cast(y_true != -100,'int32'))/tf.math.reduce_sum(tf.cast(y_true != -100,'int32'))"
   ]
  },
  {
   "cell_type": "code",
   "execution_count": 99,
   "id": "02560a48",
   "metadata": {
    "ExecuteTime": {
     "end_time": "2022-02-04T10:13:51.823339Z",
     "start_time": "2022-02-04T10:13:51.817445Z"
    }
   },
   "outputs": [],
   "source": [
    "mask = tf.cast(tf.not_equal(y_true,-100),'int32') #create a mask\n",
    "matches = tf.cast(tf.equal(y_true,y_pred),'int32')*mask #calculate the matches ignoring the masking\n",
    "accuracy = tf.math.reduce_sum(matches,axis=-1)/tf.maximum(tf.math.reduce_sum(mask,axis=-1),1)"
   ]
  },
  {
   "cell_type": "code",
   "execution_count": 103,
   "id": "40ee6f96",
   "metadata": {
    "ExecuteTime": {
     "end_time": "2022-02-04T10:13:56.068300Z",
     "start_time": "2022-02-04T10:13:56.062516Z"
    }
   },
   "outputs": [
    {
     "data": {
      "text/plain": [
       "<tf.Tensor: shape=(), dtype=float64, numpy=0.7444444444444445>"
      ]
     },
     "execution_count": 103,
     "metadata": {},
     "output_type": "execute_result"
    }
   ],
   "source": [
    "tf.math.reduce_mean(accuracy)"
   ]
  },
  {
   "cell_type": "markdown",
   "id": "f16d9a53",
   "metadata": {},
   "source": [
    "## Accuracy homemade via function"
   ]
  },
  {
   "cell_type": "code",
   "execution_count": 208,
   "id": "0f26c8fb",
   "metadata": {
    "ExecuteTime": {
     "end_time": "2022-02-04T13:35:38.446847Z",
     "start_time": "2022-02-04T13:35:38.439726Z"
    }
   },
   "outputs": [],
   "source": [
    "##SIMPLER ACCURACY definition\n",
    "\n",
    "def accuracy_masked_func(y_true,y_pred):\n",
    "    #y_pred = tf.argmax(y_pred,axis=-1)\n",
    "    #y_true = tf.argmax(y_true,axis=-1)#for y_pred and y_true to match\n",
    "    mask = tf.cast(y_true != -100,'int32') #create a mask\n",
    "    matches = tf.cast(tf.equal(y_true,y_pred),'int32')*mask #calculate the matches ignoring the masking\n",
    "    accuracy = tf.math.reduce_sum(matches,axis=-1)/tf.maximum(tf.math.reduce_sum(mask,axis=-1),1)\n",
    "    \n",
    "    return accuracy"
   ]
  },
  {
   "cell_type": "code",
   "execution_count": 207,
   "id": "e812f1eb",
   "metadata": {
    "ExecuteTime": {
     "end_time": "2022-02-04T13:30:47.443487Z",
     "start_time": "2022-02-04T13:30:47.384912Z"
    }
   },
   "outputs": [
    {
     "data": {
      "text/plain": [
       "<tf.Tensor: shape=(2,), dtype=float64, numpy=array([0.88888889, 0.6       ])>"
      ]
     },
     "execution_count": 207,
     "metadata": {},
     "output_type": "execute_result"
    }
   ],
   "source": [
    "accuracy_masked_func(y_true,y_pred)"
   ]
  },
  {
   "cell_type": "code",
   "execution_count": 210,
   "id": "1d71adf6",
   "metadata": {
    "ExecuteTime": {
     "end_time": "2022-02-04T13:35:53.801253Z",
     "start_time": "2022-02-04T13:35:53.682910Z"
    }
   },
   "outputs": [],
   "source": [
    "accuracy_masked = tf.keras.metrics.MeanMetricWrapper(fn=accuracy_masked_func)"
   ]
  },
  {
   "cell_type": "code",
   "execution_count": 211,
   "id": "b5dec6c5",
   "metadata": {
    "ExecuteTime": {
     "end_time": "2022-02-04T13:36:03.220012Z",
     "start_time": "2022-02-04T13:36:02.983247Z"
    }
   },
   "outputs": [
    {
     "data": {
      "text/plain": [
       "<tf.Tensor: shape=(), dtype=float32, numpy=0.7444445>"
      ]
     },
     "execution_count": 211,
     "metadata": {},
     "output_type": "execute_result"
    }
   ],
   "source": [
    "accuracy_masked(y_true,y_pred)"
   ]
  },
  {
   "cell_type": "markdown",
   "id": "20541fd0",
   "metadata": {},
   "source": [
    "# Evaluation metric"
   ]
  },
  {
   "cell_type": "code",
   "execution_count": null,
   "id": "7ce8bd1a",
   "metadata": {},
   "outputs": [],
   "source": [
    "## Pseudo code\n",
    "\n",
    "# 1- calculate the overlaps\n",
    "# 2- for each pred : determine if it is a TP/FN/TN regarding the opvermap \n",
    "# 3- compute f1 score for each class \n",
    "# 4- compute f1 macro score across all classes "
   ]
  },
  {
   "cell_type": "code",
   "execution_count": 3,
   "id": "04b7374c",
   "metadata": {
    "ExecuteTime": {
     "end_time": "2022-02-07T20:18:19.649975Z",
     "start_time": "2022-02-07T20:18:18.273212Z"
    }
   },
   "outputs": [],
   "source": [
    "df_essays = pd.read_csv('../raw_data/preprocessed.csv')\n",
    "#df = pd.read_csv('../raw_data/train.csv')"
   ]
  },
  {
   "cell_type": "markdown",
   "id": "94cdc11d",
   "metadata": {},
   "source": [
    "## Get preds"
   ]
  },
  {
   "cell_type": "code",
   "execution_count": 4,
   "id": "706a1cfa",
   "metadata": {
    "ExecuteTime": {
     "end_time": "2022-02-07T20:18:21.082928Z",
     "start_time": "2022-02-07T20:18:21.080320Z"
    }
   },
   "outputs": [],
   "source": [
    "import pickle"
   ]
  },
  {
   "cell_type": "code",
   "execution_count": 5,
   "id": "a5a044ed",
   "metadata": {
    "ExecuteTime": {
     "end_time": "2022-02-07T20:18:24.649588Z",
     "start_time": "2022-02-07T20:18:21.752597Z"
    }
   },
   "outputs": [],
   "source": [
    "with open('../raw_data/train_v2.pickle','rb') as file : \n",
    "    train = pickle.load(file)\n",
    "with open('../raw_data/val_v2.pickle','rb') as file : \n",
    "    val = pickle.load(file)\n",
    "with open('../raw_data/test_v2.pickle','rb') as file : \n",
    "    test = pickle.load(file)\n",
    "with open('../raw_data/test_pred.pickle','rb') as file : \n",
    "    test_pred = pickle.load(file)\n",
    "    \n",
    "y_pred = np.argmax(test_pred,axis=-1)\n",
    "y_true = np.argmax(test[1],axis=-1)"
   ]
  },
  {
   "cell_type": "code",
   "execution_count": 6,
   "id": "f36a8e7e",
   "metadata": {
    "ExecuteTime": {
     "end_time": "2022-02-07T20:18:24.737854Z",
     "start_time": "2022-02-07T20:18:24.730613Z"
    }
   },
   "outputs": [],
   "source": [
    "#compute the index for each split of the dataset (at essay level)\n",
    "idx_train = range(0,len(train[1]))\n",
    "idx_val = range(len(train[1]),len(train[1])+len(val[1]))\n",
    "idx_test = range(len(train[1])+len(val[1]),len(train[1])+len(val[1])+len(test[1]))"
   ]
  },
  {
   "cell_type": "code",
   "execution_count": 7,
   "id": "4fbc8849",
   "metadata": {
    "ExecuteTime": {
     "end_time": "2022-02-07T20:18:26.882187Z",
     "start_time": "2022-02-07T20:18:26.849291Z"
    }
   },
   "outputs": [],
   "source": [
    "#store the list of all the essays ids for test split\n",
    "essay_ids = df_essays.loc[idx_test].id.values"
   ]
  },
  {
   "cell_type": "code",
   "execution_count": 8,
   "id": "812e8b01",
   "metadata": {
    "ExecuteTime": {
     "end_time": "2022-02-07T20:18:27.051514Z",
     "start_time": "2022-02-07T20:18:26.987170Z"
    }
   },
   "outputs": [
    {
     "data": {
      "text/html": [
       "<div>\n",
       "<style scoped>\n",
       "    .dataframe tbody tr th:only-of-type {\n",
       "        vertical-align: middle;\n",
       "    }\n",
       "\n",
       "    .dataframe tbody tr th {\n",
       "        vertical-align: top;\n",
       "    }\n",
       "\n",
       "    .dataframe thead th {\n",
       "        text-align: right;\n",
       "    }\n",
       "</style>\n",
       "<table border=\"1\" class=\"dataframe\">\n",
       "  <thead>\n",
       "    <tr style=\"text-align: right;\">\n",
       "      <th></th>\n",
       "      <th>id</th>\n",
       "      <th>predictionstring</th>\n",
       "      <th>label</th>\n",
       "      <th>essays</th>\n",
       "    </tr>\n",
       "  </thead>\n",
       "  <tbody>\n",
       "    <tr>\n",
       "      <th>14034</th>\n",
       "      <td>E6870101D8EE</td>\n",
       "      <td>['0', '1', '2', '3', '4', '5', '6', '7', '8', ...</td>\n",
       "      <td>['B-Evidence', 'I-Evidence', 'I-Evidence', 'I-...</td>\n",
       "      <td>Car usage in the United States has gone down b...</td>\n",
       "    </tr>\n",
       "    <tr>\n",
       "      <th>14035</th>\n",
       "      <td>E68CDA395B2D</td>\n",
       "      <td>['0', '1', '2', '3', '4', '5', '6', '7', '8', ...</td>\n",
       "      <td>['B-Lead', 'I-Lead', 'I-Lead', 'I-Lead', 'I-Le...</td>\n",
       "      <td>Often times, when we're looking for advice we ...</td>\n",
       "    </tr>\n",
       "    <tr>\n",
       "      <th>14036</th>\n",
       "      <td>E6A0EF9688EE</td>\n",
       "      <td>['0', '1', '2', '3', '4', '5', '6', '7', '8', ...</td>\n",
       "      <td>['B-Position', 'I-Position', 'I-Position', 'I-...</td>\n",
       "      <td>I agree, students should participate in after ...</td>\n",
       "    </tr>\n",
       "    <tr>\n",
       "      <th>14037</th>\n",
       "      <td>E6ABFC76F25E</td>\n",
       "      <td>['0', '1', '2', '3', '4', '5', '6', '7', '8', ...</td>\n",
       "      <td>['B-Lead', 'I-Lead', 'I-Lead', 'I-Lead', 'I-Le...</td>\n",
       "      <td>Have you ever thought about participating in a...</td>\n",
       "    </tr>\n",
       "    <tr>\n",
       "      <th>14038</th>\n",
       "      <td>E6B00E088C29</td>\n",
       "      <td>['0', '1', '2', '3', '4', '5', '6', '7', '8', ...</td>\n",
       "      <td>['B-Position', 'I-Position', 'I-Position', 'I-...</td>\n",
       "      <td>In the article the author greatly supports the...</td>\n",
       "    </tr>\n",
       "    <tr>\n",
       "      <th>...</th>\n",
       "      <td>...</td>\n",
       "      <td>...</td>\n",
       "      <td>...</td>\n",
       "      <td>...</td>\n",
       "    </tr>\n",
       "    <tr>\n",
       "      <th>15589</th>\n",
       "      <td>FFF1442D6698</td>\n",
       "      <td>['0', '1', '2', '3', '4', '5', '6', '7', '8', ...</td>\n",
       "      <td>['B-Lead', 'I-Lead', 'I-Lead', 'I-Lead', 'I-Le...</td>\n",
       "      <td>Every student looks forward to summer break, i...</td>\n",
       "    </tr>\n",
       "    <tr>\n",
       "      <th>15590</th>\n",
       "      <td>FFF1ED4F8544</td>\n",
       "      <td>['0', '1', '2', '3', '4', '5', '6', '7', '8', ...</td>\n",
       "      <td>['B-Lead', 'I-Lead', 'I-Lead', 'I-Lead', 'I-Le...</td>\n",
       "      <td>Many citizens argue that the Electoral college...</td>\n",
       "    </tr>\n",
       "    <tr>\n",
       "      <th>15591</th>\n",
       "      <td>FFF868E06176</td>\n",
       "      <td>['0', '1', '2', '3', '4', '5', '6', '7', '8', ...</td>\n",
       "      <td>['B-Lead', 'I-Lead', 'I-Lead', 'I-Lead', 'I-Le...</td>\n",
       "      <td>Every summer break, students are given project...</td>\n",
       "    </tr>\n",
       "    <tr>\n",
       "      <th>15592</th>\n",
       "      <td>FFFD0AF13501</td>\n",
       "      <td>['44', '45', '46', '47', '48', '49', '50', '51...</td>\n",
       "      <td>['B-Claim', 'I-Claim', 'I-Claim', 'I-Claim', '...</td>\n",
       "      <td>In the article \"A Cowboy Who Rode the Waves\" L...</td>\n",
       "    </tr>\n",
       "    <tr>\n",
       "      <th>15593</th>\n",
       "      <td>FFFF80B8CC2F</td>\n",
       "      <td>['0', '1', '2', '3', '4', '5', '6', '7', '8', ...</td>\n",
       "      <td>['B-Evidence', 'I-Evidence', 'I-Evidence', 'I-...</td>\n",
       "      <td>Venus is a planet what belong the System Solar...</td>\n",
       "    </tr>\n",
       "  </tbody>\n",
       "</table>\n",
       "<p>1560 rows × 4 columns</p>\n",
       "</div>"
      ],
      "text/plain": [
       "                 id                                   predictionstring  \\\n",
       "14034  E6870101D8EE  ['0', '1', '2', '3', '4', '5', '6', '7', '8', ...   \n",
       "14035  E68CDA395B2D  ['0', '1', '2', '3', '4', '5', '6', '7', '8', ...   \n",
       "14036  E6A0EF9688EE  ['0', '1', '2', '3', '4', '5', '6', '7', '8', ...   \n",
       "14037  E6ABFC76F25E  ['0', '1', '2', '3', '4', '5', '6', '7', '8', ...   \n",
       "14038  E6B00E088C29  ['0', '1', '2', '3', '4', '5', '6', '7', '8', ...   \n",
       "...             ...                                                ...   \n",
       "15589  FFF1442D6698  ['0', '1', '2', '3', '4', '5', '6', '7', '8', ...   \n",
       "15590  FFF1ED4F8544  ['0', '1', '2', '3', '4', '5', '6', '7', '8', ...   \n",
       "15591  FFF868E06176  ['0', '1', '2', '3', '4', '5', '6', '7', '8', ...   \n",
       "15592  FFFD0AF13501  ['44', '45', '46', '47', '48', '49', '50', '51...   \n",
       "15593  FFFF80B8CC2F  ['0', '1', '2', '3', '4', '5', '6', '7', '8', ...   \n",
       "\n",
       "                                                   label  \\\n",
       "14034  ['B-Evidence', 'I-Evidence', 'I-Evidence', 'I-...   \n",
       "14035  ['B-Lead', 'I-Lead', 'I-Lead', 'I-Lead', 'I-Le...   \n",
       "14036  ['B-Position', 'I-Position', 'I-Position', 'I-...   \n",
       "14037  ['B-Lead', 'I-Lead', 'I-Lead', 'I-Lead', 'I-Le...   \n",
       "14038  ['B-Position', 'I-Position', 'I-Position', 'I-...   \n",
       "...                                                  ...   \n",
       "15589  ['B-Lead', 'I-Lead', 'I-Lead', 'I-Lead', 'I-Le...   \n",
       "15590  ['B-Lead', 'I-Lead', 'I-Lead', 'I-Lead', 'I-Le...   \n",
       "15591  ['B-Lead', 'I-Lead', 'I-Lead', 'I-Lead', 'I-Le...   \n",
       "15592  ['B-Claim', 'I-Claim', 'I-Claim', 'I-Claim', '...   \n",
       "15593  ['B-Evidence', 'I-Evidence', 'I-Evidence', 'I-...   \n",
       "\n",
       "                                                  essays  \n",
       "14034  Car usage in the United States has gone down b...  \n",
       "14035  Often times, when we're looking for advice we ...  \n",
       "14036  I agree, students should participate in after ...  \n",
       "14037  Have you ever thought about participating in a...  \n",
       "14038  In the article the author greatly supports the...  \n",
       "...                                                  ...  \n",
       "15589  Every student looks forward to summer break, i...  \n",
       "15590  Many citizens argue that the Electoral college...  \n",
       "15591  Every summer break, students are given project...  \n",
       "15592  In the article \"A Cowboy Who Rode the Waves\" L...  \n",
       "15593  Venus is a planet what belong the System Solar...  \n",
       "\n",
       "[1560 rows x 4 columns]"
      ]
     },
     "execution_count": 8,
     "metadata": {},
     "output_type": "execute_result"
    }
   ],
   "source": [
    "df_essays.loc[df_essays.id.isin(essay_ids)]"
   ]
  },
  {
   "cell_type": "code",
   "execution_count": 9,
   "id": "1e894a39",
   "metadata": {
    "ExecuteTime": {
     "end_time": "2022-02-07T20:18:28.606832Z",
     "start_time": "2022-02-07T20:18:28.599251Z"
    }
   },
   "outputs": [],
   "source": [
    "labels_mapping = {'B-Lead' : 0,\n",
    "                  'B-Position' : 1,\n",
    "                  'B-Evidence' : 2,\n",
    "                  'B-Claim' : 3,\n",
    "                  'B-Concluding_Statement' : 4,\n",
    "                  'B-Counterclaim' : 5,\n",
    "                  'B-Rebuttal' : 6,\n",
    "                  'I-Lead' : 7,\n",
    "                  'I-Position' : 8,\n",
    "                  'I-Evidence' : 9,\n",
    "                  'I-Claim' : 10,\n",
    "                  'I-Concluding_Statement' : 11,\n",
    "                  'I-Counterclaim' : 12,\n",
    "                  'I-Rebuttal': 13,\n",
    "                 'O':14,\n",
    "                 'PAD':15}\n",
    "\n",
    "reversed_mapping = {v:(k[2:] if v<14 else k) for k,v in labels_mapping.items()}"
   ]
  },
  {
   "cell_type": "code",
   "execution_count": 10,
   "id": "9a49a94f",
   "metadata": {
    "ExecuteTime": {
     "end_time": "2022-02-07T20:18:29.157461Z",
     "start_time": "2022-02-07T20:18:29.148300Z"
    }
   },
   "outputs": [],
   "source": [
    "def get_preds_v2(seq,word_ids):\n",
    "    \n",
    "    labels = []\n",
    "    predictionstrings = []\n",
    "    counts = []\n",
    "    \n",
    "    counter=dict()\n",
    "    \n",
    "    for tok,pos in zip(seq,word_ids):\n",
    "        \n",
    "        if tok <= 13:\n",
    "            lab = reversed_mapping[tok]\n",
    "            labels.append(lab)\n",
    "            predictionstrings.append(pos)\n",
    "            if len(labels)<2:\n",
    "                counts.append(str(1))\n",
    "                counter.setdefault(lab,1)\n",
    "                continue\n",
    "            if lab == labels[-2]:\n",
    "                counts.append(str(counter[lab]))\n",
    "            else: \n",
    "                try:\n",
    "                    counter[lab]+=1\n",
    "                except KeyError:\n",
    "                    counter.setdefault(lab,1)\n",
    "                counts.append(str(counter[lab]))\n",
    "    \n",
    "    preds = pd.DataFrame([labels,counts,predictionstrings],index=['class','count','predictionstring']).T\n",
    "    preds['class'] += ' ' + preds['count'].astype(str)\n",
    "    preds = preds.groupby('class',sort=False).agg({'predictionstring':list}).reset_index()\n",
    "    preds['class']=preds['class'].apply(lambda txt : txt.split()[0])\n",
    "    preds['predictionstring']=preds['predictionstring'].apply(lambda l_ : [str(l) for l in l_])\n",
    "    preds['predictionstring']=preds['predictionstring'].apply(lambda l_ : ' '.join(l_))\n",
    "    \n",
    "    return preds"
   ]
  },
  {
   "cell_type": "code",
   "execution_count": 11,
   "id": "ceb48388",
   "metadata": {
    "ExecuteTime": {
     "end_time": "2022-02-07T20:18:30.130227Z",
     "start_time": "2022-02-07T20:18:30.032754Z"
    },
    "scrolled": true
   },
   "outputs": [
    {
     "data": {
      "text/html": [
       "<div>\n",
       "<style scoped>\n",
       "    .dataframe tbody tr th:only-of-type {\n",
       "        vertical-align: middle;\n",
       "    }\n",
       "\n",
       "    .dataframe tbody tr th {\n",
       "        vertical-align: top;\n",
       "    }\n",
       "\n",
       "    .dataframe thead th {\n",
       "        text-align: right;\n",
       "    }\n",
       "</style>\n",
       "<table border=\"1\" class=\"dataframe\">\n",
       "  <thead>\n",
       "    <tr style=\"text-align: right;\">\n",
       "      <th></th>\n",
       "      <th>class</th>\n",
       "      <th>predictionstring</th>\n",
       "    </tr>\n",
       "  </thead>\n",
       "  <tbody>\n",
       "    <tr>\n",
       "      <th>0</th>\n",
       "      <td>Lead</td>\n",
       "      <td>0 1 2 3 4 5 6 7 8 9 10 11 12 13 14 15 16 17 18...</td>\n",
       "    </tr>\n",
       "    <tr>\n",
       "      <th>1</th>\n",
       "      <td>Position</td>\n",
       "      <td>35 36</td>\n",
       "    </tr>\n",
       "    <tr>\n",
       "      <th>2</th>\n",
       "      <td>Claim</td>\n",
       "      <td>40 41 42 43 44 45 46 47 48 49 50 51 52 53 54 5...</td>\n",
       "    </tr>\n",
       "    <tr>\n",
       "      <th>3</th>\n",
       "      <td>Evidence</td>\n",
       "      <td>57 58 59 60 61 62 63 64 65 66 67 68 69 70 71 7...</td>\n",
       "    </tr>\n",
       "    <tr>\n",
       "      <th>4</th>\n",
       "      <td>Claim</td>\n",
       "      <td>107 108 109 110 111 112 113 114 115 116 117 11...</td>\n",
       "    </tr>\n",
       "    <tr>\n",
       "      <th>5</th>\n",
       "      <td>Evidence</td>\n",
       "      <td>120 121 122 123 124 125 126 127 128 129 130 13...</td>\n",
       "    </tr>\n",
       "    <tr>\n",
       "      <th>6</th>\n",
       "      <td>Concluding_Statement</td>\n",
       "      <td>191 192 193 194 195 196 197 198 199 200 201 20...</td>\n",
       "    </tr>\n",
       "  </tbody>\n",
       "</table>\n",
       "</div>"
      ],
      "text/plain": [
       "                  class                                   predictionstring\n",
       "0                  Lead  0 1 2 3 4 5 6 7 8 9 10 11 12 13 14 15 16 17 18...\n",
       "1              Position                                              35 36\n",
       "2                 Claim  40 41 42 43 44 45 46 47 48 49 50 51 52 53 54 5...\n",
       "3              Evidence  57 58 59 60 61 62 63 64 65 66 67 68 69 70 71 7...\n",
       "4                 Claim  107 108 109 110 111 112 113 114 115 116 117 11...\n",
       "5              Evidence  120 121 122 123 124 125 126 127 128 129 130 13...\n",
       "6  Concluding_Statement  191 192 193 194 195 196 197 198 199 200 201 20..."
      ]
     },
     "execution_count": 11,
     "metadata": {},
     "output_type": "execute_result"
    }
   ],
   "source": [
    "get_preds_v2(y_pred[-2],test[2][-2])"
   ]
  },
  {
   "cell_type": "code",
   "execution_count": 12,
   "id": "a3916df5",
   "metadata": {
    "ExecuteTime": {
     "end_time": "2022-02-07T20:18:31.711215Z",
     "start_time": "2022-02-07T20:18:31.704521Z"
    }
   },
   "outputs": [],
   "source": [
    "def true_positive(predictionstring_true,predictionstring_pred):\n",
    "    ps_true = set(predictionstring_true.split(' '))\n",
    "    ps_pred = set(predictionstring_pred.split(' '))\n",
    "    \n",
    "    inter = ps_pred.intersection(ps_true)\n",
    "    overlap_1 = len(inter)/len(ps_true)\n",
    "    overlap_2 = len(inter)/len(ps_pred)\n",
    "    \n",
    "    if overlap_1 >= .5 and overlap_2 >= .5:\n",
    "        return 1\n",
    "    return 0\n"
   ]
  },
  {
   "cell_type": "code",
   "execution_count": 13,
   "id": "4b6e5759",
   "metadata": {
    "ExecuteTime": {
     "end_time": "2022-02-07T20:18:32.399751Z",
     "start_time": "2022-02-07T20:18:32.395441Z"
    }
   },
   "outputs": [],
   "source": [
    "## vectorize the funct\n",
    "true_positive_vect = np.vectorize(true_positive)"
   ]
  },
  {
   "cell_type": "code",
   "execution_count": 14,
   "id": "dab6a750",
   "metadata": {
    "ExecuteTime": {
     "end_time": "2022-02-07T20:18:32.898120Z",
     "start_time": "2022-02-07T20:18:32.868598Z"
    }
   },
   "outputs": [],
   "source": [
    "## get two examples\n",
    "true_df = get_preds_v2(y_true[43],test[2][43])\n",
    "pred_df = get_preds_v2(y_pred[43],test[2][43])"
   ]
  },
  {
   "cell_type": "code",
   "execution_count": 15,
   "id": "9def202b",
   "metadata": {
    "ExecuteTime": {
     "end_time": "2022-02-07T20:18:33.327362Z",
     "start_time": "2022-02-07T20:18:33.319105Z"
    }
   },
   "outputs": [],
   "source": [
    "## create a df joined to get all possibilities with outer join\n",
    "joined = pred_df.merge(true_df,how = 'outer',on='class',suffixes=('_pred','_true'))"
   ]
  },
  {
   "cell_type": "code",
   "execution_count": 16,
   "id": "78d577ce",
   "metadata": {
    "ExecuteTime": {
     "end_time": "2022-02-07T20:18:33.999402Z",
     "start_time": "2022-02-07T20:18:33.991455Z"
    }
   },
   "outputs": [],
   "source": [
    "## if a pred is not matched it is a FN ; if the truth is not matched it is a FP\n",
    "\n",
    "#creating separate columns \n",
    "joined['FP'] = np.where(joined.predictionstring_true == np.nan, 1, 0)\n",
    "joined['FN'] = np.where(joined.predictionstring_pred == np.nan, 1, 0)\n",
    "\n",
    "\n",
    "#cleaning nan for the true positive function\n",
    "joined['predictionstring_pred'].fillna('',inplace=True)\n",
    "joined['predictionstring_true'].fillna('',inplace=True)\n",
    "\n"
   ]
  },
  {
   "cell_type": "markdown",
   "id": "984a63a8",
   "metadata": {},
   "source": [
    "## On test split "
   ]
  },
  {
   "cell_type": "code",
   "execution_count": 22,
   "id": "6783c2e7",
   "metadata": {
    "ExecuteTime": {
     "end_time": "2022-02-07T20:19:36.645072Z",
     "start_time": "2022-02-07T20:18:47.689711Z"
    }
   },
   "outputs": [
    {
     "data": {
      "application/vnd.jupyter.widget-view+json": {
       "model_id": "10ea77d1f8f94036a2544546c706f0d7",
       "version_major": 2,
       "version_minor": 0
      },
      "text/plain": [
       "youhou:   0%|          | 0/1560 [00:00<?, ?it/s]"
      ]
     },
     "metadata": {},
     "output_type": "display_data"
    }
   ],
   "source": [
    "## Create two DF with preds and ground truth\n",
    "\n",
    "##TODO refactor to function\n",
    "\n",
    "y_true = np.argmax(test[1],axis=-1)\n",
    "y_pred = np.argmax(test_pred,axis=-1)\n",
    "\n",
    "tok_pos = test[2]\n",
    "\n",
    "true_df = pd.DataFrame()\n",
    "pred_df = pd.DataFrame()\n",
    "\n",
    "for i,idx in tqdm(enumerate(idx_test),desc='youhou',total=len(idx_test)): ## CHANGE idx_test\n",
    "    \n",
    "    true_ = get_preds_v2(y_true[i],tok_pos[i])\n",
    "    pred_ = get_preds_v2(y_pred[i],tok_pos[i])\n",
    "    \n",
    "    true_['id']=df_essays.iloc[idx]['id']\n",
    "    pred_['id']=df_essays.iloc[idx]['id']\n",
    "    \n",
    "    true_df = true_df.append(true_)\n",
    "    pred_df = pred_df.append(pred_)\n",
    "    \n",
    "true_df['unique_id'] = pd.util.hash_pandas_object(true_df,hash_key='1234567890123456')\n",
    "pred_df['unique_id'] = pd.util.hash_pandas_object(pred_df,hash_key='azerty1234567890')\n",
    "    "
   ]
  },
  {
   "cell_type": "code",
   "execution_count": 276,
   "id": "05dfb3e5",
   "metadata": {
    "ExecuteTime": {
     "end_time": "2022-02-08T08:54:13.304365Z",
     "start_time": "2022-02-08T08:54:13.287483Z"
    }
   },
   "outputs": [],
   "source": [
    "def true_positive(predictionstring_true,predictionstring_pred):\n",
    "    ps_true = set(predictionstring_true.split(' '))\n",
    "    ps_pred = set(predictionstring_pred.split(' '))\n",
    "    \n",
    "    inter = ps_pred.intersection(ps_true)\n",
    "    overlap_1 = len(inter)/len(ps_true)\n",
    "    overlap_2 = len(inter)/len(ps_pred)\n",
    "    \n",
    "    if overlap_1 >= .5 and overlap_2 >= .5:\n",
    "        return 1\n",
    "    return 0\n",
    "\n",
    "## vectorize the funct\n",
    "true_positive_vect = np.vectorize(true_positive)\n"
   ]
  },
  {
   "cell_type": "code",
   "execution_count": 23,
   "id": "9e6217d8",
   "metadata": {
    "ExecuteTime": {
     "end_time": "2022-02-07T20:19:39.241451Z",
     "start_time": "2022-02-07T20:19:38.784357Z"
    }
   },
   "outputs": [
    {
     "data": {
      "text/html": [
       "<div>\n",
       "<style scoped>\n",
       "    .dataframe tbody tr th:only-of-type {\n",
       "        vertical-align: middle;\n",
       "    }\n",
       "\n",
       "    .dataframe tbody tr th {\n",
       "        vertical-align: top;\n",
       "    }\n",
       "\n",
       "    .dataframe thead th {\n",
       "        text-align: right;\n",
       "    }\n",
       "</style>\n",
       "<table border=\"1\" class=\"dataframe\">\n",
       "  <thead>\n",
       "    <tr style=\"text-align: right;\">\n",
       "      <th></th>\n",
       "      <th>class</th>\n",
       "      <th>predictionstring_pred</th>\n",
       "      <th>id</th>\n",
       "      <th>predictionstring_true</th>\n",
       "      <th>FP</th>\n",
       "      <th>FN</th>\n",
       "      <th>TP</th>\n",
       "    </tr>\n",
       "  </thead>\n",
       "  <tbody>\n",
       "    <tr>\n",
       "      <th>0</th>\n",
       "      <td>Lead</td>\n",
       "      <td>0</td>\n",
       "      <td>E6870101D8EE</td>\n",
       "      <td></td>\n",
       "      <td>1</td>\n",
       "      <td>0</td>\n",
       "      <td>0</td>\n",
       "    </tr>\n",
       "    <tr>\n",
       "      <th>1</th>\n",
       "      <td>Lead</td>\n",
       "      <td>8 9</td>\n",
       "      <td>E6870101D8EE</td>\n",
       "      <td></td>\n",
       "      <td>1</td>\n",
       "      <td>0</td>\n",
       "      <td>0</td>\n",
       "    </tr>\n",
       "    <tr>\n",
       "      <th>2</th>\n",
       "      <td>Position</td>\n",
       "      <td>1 2 3 4 5 6 7</td>\n",
       "      <td>E6870101D8EE</td>\n",
       "      <td>86 87 88 89 90 91 92 93 94 95 96 97 98 99 100 101</td>\n",
       "      <td>0</td>\n",
       "      <td>0</td>\n",
       "      <td>0</td>\n",
       "    </tr>\n",
       "    <tr>\n",
       "      <th>3</th>\n",
       "      <td>Evidence</td>\n",
       "      <td>10 11 12 13 14 15 16 17 18 19 20 21 22 23 24 2...</td>\n",
       "      <td>E6870101D8EE</td>\n",
       "      <td>0 1 2 3 4 5 6 7 8 9 10 11 12 13 14 15 16 17 18...</td>\n",
       "      <td>0</td>\n",
       "      <td>0</td>\n",
       "      <td>0</td>\n",
       "    </tr>\n",
       "    <tr>\n",
       "      <th>4</th>\n",
       "      <td>Evidence</td>\n",
       "      <td>10 11 12 13 14 15 16 17 18 19 20 21 22 23 24 2...</td>\n",
       "      <td>E6870101D8EE</td>\n",
       "      <td>110 111 112 113 114 115 116 117 118 119 120 12...</td>\n",
       "      <td>0</td>\n",
       "      <td>0</td>\n",
       "      <td>0</td>\n",
       "    </tr>\n",
       "  </tbody>\n",
       "</table>\n",
       "</div>"
      ],
      "text/plain": [
       "      class                              predictionstring_pred            id  \\\n",
       "0      Lead                                                  0  E6870101D8EE   \n",
       "1      Lead                                                8 9  E6870101D8EE   \n",
       "2  Position                                      1 2 3 4 5 6 7  E6870101D8EE   \n",
       "3  Evidence  10 11 12 13 14 15 16 17 18 19 20 21 22 23 24 2...  E6870101D8EE   \n",
       "4  Evidence  10 11 12 13 14 15 16 17 18 19 20 21 22 23 24 2...  E6870101D8EE   \n",
       "\n",
       "                               predictionstring_true  FP  FN  TP  \n",
       "0                                                      1   0   0  \n",
       "1                                                      1   0   0  \n",
       "2  86 87 88 89 90 91 92 93 94 95 96 97 98 99 100 101   0   0   0  \n",
       "3  0 1 2 3 4 5 6 7 8 9 10 11 12 13 14 15 16 17 18...   0   0   0  \n",
       "4  110 111 112 113 114 115 116 117 118 119 120 12...   0   0   0  "
      ]
     },
     "execution_count": 23,
     "metadata": {},
     "output_type": "execute_result"
    }
   ],
   "source": [
    "## Merge the 2 DF to compute F1 \n",
    "\n",
    "merged_df = pred_df.merge(true_df,how = 'outer',on=['id','class'],suffixes=('_pred','_true'))\n",
    "\n",
    "## if a pred is not matched it is a FN ; if the truth is not matched it is a FP\n",
    "\n",
    "#creating separate columns \n",
    "merged_df['FP'] = np.where(merged_df.predictionstring_true.isna(), 1, 0)\n",
    "merged_df['FN'] = np.where(merged_df.predictionstring_pred.isna(), 1, 0)\n",
    "\n",
    "\n",
    "#cleaning nan for the true positive function\n",
    "merged_df['predictionstring_pred'].fillna('',inplace=True)\n",
    "merged_df['predictionstring_true'].fillna('',inplace=True)\n",
    "\n",
    "\n",
    "merged_df['TP'] = true_positive_vect(merged_df['predictionstring_true'],merged_df['predictionstring_pred'])\n",
    "\n",
    "merged_df.head()"
   ]
  },
  {
   "cell_type": "code",
   "execution_count": 210,
   "id": "6f7fcf2b",
   "metadata": {
    "ExecuteTime": {
     "end_time": "2022-02-07T21:16:33.439447Z",
     "start_time": "2022-02-07T21:16:33.435913Z"
    }
   },
   "outputs": [],
   "source": [
    "## creating f1 function\n",
    "def f1_score(fp,fn,tp):\n",
    "    return tp/(tp+.5*(fp+fn))*100"
   ]
  },
  {
   "cell_type": "code",
   "execution_count": 227,
   "id": "176e6bba",
   "metadata": {
    "ExecuteTime": {
     "end_time": "2022-02-07T21:19:54.285672Z",
     "start_time": "2022-02-07T21:19:54.271573Z"
    }
   },
   "outputs": [],
   "source": [
    "## group by class for F1 score calculation\n",
    "f1_df = merged_df.groupby('class').sum()\n",
    "\n",
    "#apply to the df\n",
    "f1_df['f1']=f1_score(f1_df.FP,f1_df.FN,f1_df.TP)\n",
    "\n",
    "#Create a total row\n",
    "f1_df.loc['Total']=f1_df.mean()"
   ]
  },
  {
   "cell_type": "code",
   "execution_count": 228,
   "id": "2e6ce8a7",
   "metadata": {
    "ExecuteTime": {
     "end_time": "2022-02-07T21:19:54.432520Z",
     "start_time": "2022-02-07T21:19:54.419970Z"
    }
   },
   "outputs": [],
   "source": [
    "## weighted average\n",
    "\n",
    "f1_df['support'] = true_df.groupby('class').count()['id']\n",
    "\n",
    "f1_df['f1_weighted']=f1_df['f1']*(f1_df['support']/f1_df['support'].sum())\n",
    "f1_df.loc['Total','support']=f1_df.support.sum()\n",
    "f1_df.loc['Total','f1_weighted']=f1_df.f1_weighted.sum()"
   ]
  },
  {
   "cell_type": "code",
   "execution_count": 229,
   "id": "a4858405",
   "metadata": {
    "ExecuteTime": {
     "end_time": "2022-02-07T21:19:54.545114Z",
     "start_time": "2022-02-07T21:19:54.539756Z"
    }
   },
   "outputs": [],
   "source": [
    "# impute correct values for the Total row for TP FN FP \n",
    "\n",
    "f1_df.loc['Total','FP'] = f1_df.loc[:'Rebuttal','FP'].sum()\n",
    "f1_df.loc['Total','FN'] = f1_df.loc[:'Rebuttal','FN'].sum()\n",
    "f1_df.loc['Total','TP'] = f1_df.loc[:'Rebuttal','TP'].sum()"
   ]
  },
  {
   "cell_type": "code",
   "execution_count": 230,
   "id": "debe11fd",
   "metadata": {
    "ExecuteTime": {
     "end_time": "2022-02-07T21:19:54.657104Z",
     "start_time": "2022-02-07T21:19:54.653161Z"
    }
   },
   "outputs": [
    {
     "name": "stdout",
     "output_type": "stream",
     "text": [
      "F1 Macro Score = 72.15%\n",
      "F1 Micro Score = 88.30%\n",
      "F1 Weighted Score = 88.16%\n"
     ]
    }
   ],
   "source": [
    "## PRINT REPORT\n",
    "\n",
    "print(f\"F1 Macro Score = {f1_df.loc['Total','f1']:.2f}%\")\n",
    "\n",
    "\n",
    "print(f\"F1 Micro Score = {f1_score(f1_df.loc['Total','FP'],f1_df.loc['Total','FN'],f1_df.loc['Total','TP']):.2f}%\")\n",
    "\n",
    "print(f\"F1 Weighted Score = {f1_df.loc['Total','f1_weighted']:.2f}%\")\n"
   ]
  },
  {
   "cell_type": "code",
   "execution_count": 231,
   "id": "1590c0a0",
   "metadata": {
    "ExecuteTime": {
     "end_time": "2022-02-07T21:19:54.932238Z",
     "start_time": "2022-02-07T21:19:54.803370Z"
    }
   },
   "outputs": [
    {
     "data": {
      "image/png": "[encoded data removed]",
      "text/plain": [
       "<Figure size 432x288 with 1 Axes>"
      ]
     },
     "metadata": {
      "needs_background": "light"
     },
     "output_type": "display_data"
    }
   ],
   "source": [
    "sns.barplot(y=f1_df.reset_index().loc[:6,'f1'],x=f1_df.index[:-1],palette='Set2')\n",
    "plt.xticks(rotation=90)\n",
    "locs,_=plt.xticks()\n",
    "plt.plot([locs[0]-.5,locs[-1]+.5],[f1_df.loc['Total','f1'],f1_df.loc['Total','f1']],c='r');"
   ]
  },
  {
   "cell_type": "code",
   "execution_count": 232,
   "id": "679886b4",
   "metadata": {
    "ExecuteTime": {
     "end_time": "2022-02-07T21:19:55.026265Z",
     "start_time": "2022-02-07T21:19:55.012984Z"
    }
   },
   "outputs": [
    {
     "data": {
      "text/html": [
       "<div>\n",
       "<style scoped>\n",
       "    .dataframe tbody tr th:only-of-type {\n",
       "        vertical-align: middle;\n",
       "    }\n",
       "\n",
       "    .dataframe tbody tr th {\n",
       "        vertical-align: top;\n",
       "    }\n",
       "\n",
       "    .dataframe thead th {\n",
       "        text-align: right;\n",
       "    }\n",
       "</style>\n",
       "<table border=\"1\" class=\"dataframe\">\n",
       "  <thead>\n",
       "    <tr style=\"text-align: right;\">\n",
       "      <th></th>\n",
       "      <th>FP</th>\n",
       "      <th>FN</th>\n",
       "      <th>TP</th>\n",
       "      <th>f1</th>\n",
       "      <th>support</th>\n",
       "      <th>f1_weighted</th>\n",
       "    </tr>\n",
       "    <tr>\n",
       "      <th>class</th>\n",
       "      <th></th>\n",
       "      <th></th>\n",
       "      <th></th>\n",
       "      <th></th>\n",
       "      <th></th>\n",
       "      <th></th>\n",
       "    </tr>\n",
       "  </thead>\n",
       "  <tbody>\n",
       "    <tr>\n",
       "      <th>Claim</th>\n",
       "      <td>69</td>\n",
       "      <td>168</td>\n",
       "      <td>1246</td>\n",
       "      <td>91.32%</td>\n",
       "      <td>3412</td>\n",
       "      <td>25.98%</td>\n",
       "    </tr>\n",
       "    <tr>\n",
       "      <th>Concluding_Statement</th>\n",
       "      <td>176</td>\n",
       "      <td>17</td>\n",
       "      <td>1086</td>\n",
       "      <td>91.84%</td>\n",
       "      <td>1346</td>\n",
       "      <td>10.31%</td>\n",
       "    </tr>\n",
       "    <tr>\n",
       "      <th>Counterclaim</th>\n",
       "      <td>95</td>\n",
       "      <td>307</td>\n",
       "      <td>71</td>\n",
       "      <td>26.10%</td>\n",
       "      <td>542</td>\n",
       "      <td>1.18%</td>\n",
       "    </tr>\n",
       "    <tr>\n",
       "      <th>Evidence</th>\n",
       "      <td>23</td>\n",
       "      <td>0</td>\n",
       "      <td>2021</td>\n",
       "      <td>99.43%</td>\n",
       "      <td>3792</td>\n",
       "      <td>31.44%</td>\n",
       "    </tr>\n",
       "    <tr>\n",
       "      <th>Lead</th>\n",
       "      <td>195</td>\n",
       "      <td>70</td>\n",
       "      <td>735</td>\n",
       "      <td>84.73%</td>\n",
       "      <td>963</td>\n",
       "      <td>6.80%</td>\n",
       "    </tr>\n",
       "    <tr>\n",
       "      <th>Position</th>\n",
       "      <td>6</td>\n",
       "      <td>140</td>\n",
       "      <td>853</td>\n",
       "      <td>92.12%</td>\n",
       "      <td>1535</td>\n",
       "      <td>11.79%</td>\n",
       "    </tr>\n",
       "    <tr>\n",
       "      <th>Rebuttal</th>\n",
       "      <td>105</td>\n",
       "      <td>233</td>\n",
       "      <td>41</td>\n",
       "      <td>19.52%</td>\n",
       "      <td>402</td>\n",
       "      <td>0.65%</td>\n",
       "    </tr>\n",
       "    <tr>\n",
       "      <th>Total</th>\n",
       "      <td>669</td>\n",
       "      <td>935</td>\n",
       "      <td>6053</td>\n",
       "      <td>72.15%</td>\n",
       "      <td>11992</td>\n",
       "      <td>88.16%</td>\n",
       "    </tr>\n",
       "  </tbody>\n",
       "</table>\n",
       "</div>"
      ],
      "text/plain": [
       "                       FP   FN    TP      f1 support f1_weighted\n",
       "class                                                           \n",
       "Claim                  69  168  1246  91.32%    3412      25.98%\n",
       "Concluding_Statement  176   17  1086  91.84%    1346      10.31%\n",
       "Counterclaim           95  307    71  26.10%     542       1.18%\n",
       "Evidence               23    0  2021  99.43%    3792      31.44%\n",
       "Lead                  195   70   735  84.73%     963       6.80%\n",
       "Position                6  140   853  92.12%    1535      11.79%\n",
       "Rebuttal              105  233    41  19.52%     402       0.65%\n",
       "Total                 669  935  6053  72.15%   11992      88.16%"
      ]
     },
     "execution_count": 232,
     "metadata": {},
     "output_type": "execute_result"
    }
   ],
   "source": [
    "## Full report\n",
    "f1_df[['FP','FN','TP','support']]=f1_df[['FP','FN','TP','support']].applymap('{:.0f}'.format)\n",
    "f1_df['f1_weighted']=f1_df['f1_weighted'].map('{:.2f}%'.format)\n",
    "f1_df['f1']=f1_df['f1'].map('{:.2f}%'.format)\n",
    "\n",
    "f1_df"
   ]
  },
  {
   "cell_type": "code",
   "execution_count": 268,
   "id": "c42f3432",
   "metadata": {
    "ExecuteTime": {
     "end_time": "2022-02-08T08:46:37.486415Z",
     "start_time": "2022-02-08T08:46:37.442112Z"
    }
   },
   "outputs": [],
   "source": [
    "th = pd.util.hash_pandas_object(true_df,hash_key='1234567890123456')\n",
    "ph = pd.util.hash_pandas_object(pred_df,hash_key='azerty1234567890')"
   ]
  },
  {
   "cell_type": "code",
   "execution_count": 269,
   "id": "537e5b2c",
   "metadata": {
    "ExecuteTime": {
     "end_time": "2022-02-08T08:46:38.007169Z",
     "start_time": "2022-02-08T08:46:38.001171Z"
    }
   },
   "outputs": [
    {
     "data": {
      "text/plain": [
       "0"
      ]
     },
     "execution_count": 269,
     "metadata": {},
     "output_type": "execute_result"
    }
   ],
   "source": [
    "th.append(ph).duplicated().sum()"
   ]
  },
  {
   "cell_type": "code",
   "execution_count": 271,
   "id": "4f6903c5",
   "metadata": {
    "ExecuteTime": {
     "end_time": "2022-02-08T08:47:56.023410Z",
     "start_time": "2022-02-08T08:47:55.959500Z"
    }
   },
   "outputs": [],
   "source": [
    "true_df['unique_id'] = pd.util.hash_pandas_object(true_df,hash_key='1234567890123456')\n",
    "pred_df['unique_id'] = pd.util.hash_pandas_object(pred_df,hash_key='azerty1234567890')\n",
    "   "
   ]
  },
  {
   "cell_type": "code",
   "execution_count": 272,
   "id": "c7046886",
   "metadata": {
    "ExecuteTime": {
     "end_time": "2022-02-08T08:47:59.077961Z",
     "start_time": "2022-02-08T08:47:59.063438Z"
    }
   },
   "outputs": [
    {
     "data": {
      "text/html": [
       "<div>\n",
       "<style scoped>\n",
       "    .dataframe tbody tr th:only-of-type {\n",
       "        vertical-align: middle;\n",
       "    }\n",
       "\n",
       "    .dataframe tbody tr th {\n",
       "        vertical-align: top;\n",
       "    }\n",
       "\n",
       "    .dataframe thead th {\n",
       "        text-align: right;\n",
       "    }\n",
       "</style>\n",
       "<table border=\"1\" class=\"dataframe\">\n",
       "  <thead>\n",
       "    <tr style=\"text-align: right;\">\n",
       "      <th></th>\n",
       "      <th>class</th>\n",
       "      <th>predictionstring</th>\n",
       "      <th>id</th>\n",
       "      <th>unique_id</th>\n",
       "    </tr>\n",
       "  </thead>\n",
       "  <tbody>\n",
       "    <tr>\n",
       "      <th>0</th>\n",
       "      <td>Evidence</td>\n",
       "      <td>0 1 2 3 4 5 6 7 8 9 10 11 12 13 14 15 16 17 18...</td>\n",
       "      <td>E6870101D8EE</td>\n",
       "      <td>14477218731601924144</td>\n",
       "    </tr>\n",
       "    <tr>\n",
       "      <th>1</th>\n",
       "      <td>Position</td>\n",
       "      <td>86 87 88 89 90 91 92 93 94 95 96 97 98 99 100 101</td>\n",
       "      <td>E6870101D8EE</td>\n",
       "      <td>5805293810922453719</td>\n",
       "    </tr>\n",
       "    <tr>\n",
       "      <th>2</th>\n",
       "      <td>Claim</td>\n",
       "      <td>102 103 104 105 106 107 108 109</td>\n",
       "      <td>E6870101D8EE</td>\n",
       "      <td>7917867347018931750</td>\n",
       "    </tr>\n",
       "    <tr>\n",
       "      <th>3</th>\n",
       "      <td>Evidence</td>\n",
       "      <td>110 111 112 113 114 115 116 117 118 119 120 12...</td>\n",
       "      <td>E6870101D8EE</td>\n",
       "      <td>15627381070960190603</td>\n",
       "    </tr>\n",
       "    <tr>\n",
       "      <th>4</th>\n",
       "      <td>Claim</td>\n",
       "      <td>216 217 218 219 220 221 222 223 224 225 226</td>\n",
       "      <td>E6870101D8EE</td>\n",
       "      <td>14918917895061095889</td>\n",
       "    </tr>\n",
       "    <tr>\n",
       "      <th>...</th>\n",
       "      <td>...</td>\n",
       "      <td>...</td>\n",
       "      <td>...</td>\n",
       "      <td>...</td>\n",
       "    </tr>\n",
       "    <tr>\n",
       "      <th>2</th>\n",
       "      <td>Claim</td>\n",
       "      <td>83 84 85 86 87 88 89 90 91 92 93 94 95 96 97 9...</td>\n",
       "      <td>FFFD0AF13501</td>\n",
       "      <td>8568897044738393866</td>\n",
       "    </tr>\n",
       "    <tr>\n",
       "      <th>3</th>\n",
       "      <td>Evidence</td>\n",
       "      <td>116 117 118 119 120 121 122 123 124 125 126 12...</td>\n",
       "      <td>FFFD0AF13501</td>\n",
       "      <td>9778262153578950733</td>\n",
       "    </tr>\n",
       "    <tr>\n",
       "      <th>4</th>\n",
       "      <td>Position</td>\n",
       "      <td>193 194 195 196 197 198 199 200 201 202 203 20...</td>\n",
       "      <td>FFFD0AF13501</td>\n",
       "      <td>6700318162194262387</td>\n",
       "    </tr>\n",
       "    <tr>\n",
       "      <th>5</th>\n",
       "      <td>Concluding_Statement</td>\n",
       "      <td>209 210 211 212 213 214 215 216 217 218 219 22...</td>\n",
       "      <td>FFFD0AF13501</td>\n",
       "      <td>10261607527697011422</td>\n",
       "    </tr>\n",
       "    <tr>\n",
       "      <th>0</th>\n",
       "      <td>Evidence</td>\n",
       "      <td>0 1 2 3 4 5 6 7 8 9 10 11 12 13 14 15 16 17 18...</td>\n",
       "      <td>FFFF80B8CC2F</td>\n",
       "      <td>4465502592363820150</td>\n",
       "    </tr>\n",
       "  </tbody>\n",
       "</table>\n",
       "<p>11992 rows × 4 columns</p>\n",
       "</div>"
      ],
      "text/plain": [
       "                   class                                   predictionstring  \\\n",
       "0               Evidence  0 1 2 3 4 5 6 7 8 9 10 11 12 13 14 15 16 17 18...   \n",
       "1               Position  86 87 88 89 90 91 92 93 94 95 96 97 98 99 100 101   \n",
       "2                  Claim                    102 103 104 105 106 107 108 109   \n",
       "3               Evidence  110 111 112 113 114 115 116 117 118 119 120 12...   \n",
       "4                  Claim        216 217 218 219 220 221 222 223 224 225 226   \n",
       "..                   ...                                                ...   \n",
       "2                  Claim  83 84 85 86 87 88 89 90 91 92 93 94 95 96 97 9...   \n",
       "3               Evidence  116 117 118 119 120 121 122 123 124 125 126 12...   \n",
       "4               Position  193 194 195 196 197 198 199 200 201 202 203 20...   \n",
       "5   Concluding_Statement  209 210 211 212 213 214 215 216 217 218 219 22...   \n",
       "0               Evidence  0 1 2 3 4 5 6 7 8 9 10 11 12 13 14 15 16 17 18...   \n",
       "\n",
       "              id             unique_id  \n",
       "0   E6870101D8EE  14477218731601924144  \n",
       "1   E6870101D8EE   5805293810922453719  \n",
       "2   E6870101D8EE   7917867347018931750  \n",
       "3   E6870101D8EE  15627381070960190603  \n",
       "4   E6870101D8EE  14918917895061095889  \n",
       "..           ...                   ...  \n",
       "2   FFFD0AF13501   8568897044738393866  \n",
       "3   FFFD0AF13501   9778262153578950733  \n",
       "4   FFFD0AF13501   6700318162194262387  \n",
       "5   FFFD0AF13501  10261607527697011422  \n",
       "0   FFFF80B8CC2F   4465502592363820150  \n",
       "\n",
       "[11992 rows x 4 columns]"
      ]
     },
     "execution_count": 272,
     "metadata": {},
     "output_type": "execute_result"
    }
   ],
   "source": []
  },
  {
   "cell_type": "code",
   "execution_count": 273,
   "id": "e019e59d",
   "metadata": {
    "ExecuteTime": {
     "end_time": "2022-02-08T08:48:21.281396Z",
     "start_time": "2022-02-08T08:48:20.834790Z"
    }
   },
   "outputs": [
    {
     "data": {
      "text/html": [
       "<div>\n",
       "<style scoped>\n",
       "    .dataframe tbody tr th:only-of-type {\n",
       "        vertical-align: middle;\n",
       "    }\n",
       "\n",
       "    .dataframe tbody tr th {\n",
       "        vertical-align: top;\n",
       "    }\n",
       "\n",
       "    .dataframe thead th {\n",
       "        text-align: right;\n",
       "    }\n",
       "</style>\n",
       "<table border=\"1\" class=\"dataframe\">\n",
       "  <thead>\n",
       "    <tr style=\"text-align: right;\">\n",
       "      <th></th>\n",
       "      <th>class</th>\n",
       "      <th>predictionstring_pred</th>\n",
       "      <th>id</th>\n",
       "      <th>unique_id_pred</th>\n",
       "      <th>predictionstring_true</th>\n",
       "      <th>unique_id_true</th>\n",
       "      <th>FP</th>\n",
       "      <th>FN</th>\n",
       "      <th>TP</th>\n",
       "    </tr>\n",
       "  </thead>\n",
       "  <tbody>\n",
       "    <tr>\n",
       "      <th>0</th>\n",
       "      <td>Lead</td>\n",
       "      <td>0</td>\n",
       "      <td>E6870101D8EE</td>\n",
       "      <td>17566675517480382464.00</td>\n",
       "      <td></td>\n",
       "      <td>NaN</td>\n",
       "      <td>1</td>\n",
       "      <td>0</td>\n",
       "      <td>0</td>\n",
       "    </tr>\n",
       "    <tr>\n",
       "      <th>1</th>\n",
       "      <td>Lead</td>\n",
       "      <td>8 9</td>\n",
       "      <td>E6870101D8EE</td>\n",
       "      <td>1194444511410043904.00</td>\n",
       "      <td></td>\n",
       "      <td>NaN</td>\n",
       "      <td>1</td>\n",
       "      <td>0</td>\n",
       "      <td>0</td>\n",
       "    </tr>\n",
       "    <tr>\n",
       "      <th>2</th>\n",
       "      <td>Position</td>\n",
       "      <td>1 2 3 4 5 6 7</td>\n",
       "      <td>E6870101D8EE</td>\n",
       "      <td>3654493487852571648.00</td>\n",
       "      <td>86 87 88 89 90 91 92 93 94 95 96 97 98 99 100 101</td>\n",
       "      <td>5805293810922454016.00</td>\n",
       "      <td>0</td>\n",
       "      <td>0</td>\n",
       "      <td>0</td>\n",
       "    </tr>\n",
       "    <tr>\n",
       "      <th>3</th>\n",
       "      <td>Evidence</td>\n",
       "      <td>10 11 12 13 14 15 16 17 18 19 20 21 22 23 24 2...</td>\n",
       "      <td>E6870101D8EE</td>\n",
       "      <td>2343163086631562240.00</td>\n",
       "      <td>0 1 2 3 4 5 6 7 8 9 10 11 12 13 14 15 16 17 18...</td>\n",
       "      <td>14477218731601924096.00</td>\n",
       "      <td>0</td>\n",
       "      <td>0</td>\n",
       "      <td>0</td>\n",
       "    </tr>\n",
       "    <tr>\n",
       "      <th>4</th>\n",
       "      <td>Evidence</td>\n",
       "      <td>10 11 12 13 14 15 16 17 18 19 20 21 22 23 24 2...</td>\n",
       "      <td>E6870101D8EE</td>\n",
       "      <td>2343163086631562240.00</td>\n",
       "      <td>110 111 112 113 114 115 116 117 118 119 120 12...</td>\n",
       "      <td>15627381070960191488.00</td>\n",
       "      <td>0</td>\n",
       "      <td>0</td>\n",
       "      <td>0</td>\n",
       "    </tr>\n",
       "  </tbody>\n",
       "</table>\n",
       "</div>"
      ],
      "text/plain": [
       "      class                              predictionstring_pred            id  \\\n",
       "0      Lead                                                  0  E6870101D8EE   \n",
       "1      Lead                                                8 9  E6870101D8EE   \n",
       "2  Position                                      1 2 3 4 5 6 7  E6870101D8EE   \n",
       "3  Evidence  10 11 12 13 14 15 16 17 18 19 20 21 22 23 24 2...  E6870101D8EE   \n",
       "4  Evidence  10 11 12 13 14 15 16 17 18 19 20 21 22 23 24 2...  E6870101D8EE   \n",
       "\n",
       "           unique_id_pred                              predictionstring_true  \\\n",
       "0 17566675517480382464.00                                                      \n",
       "1  1194444511410043904.00                                                      \n",
       "2  3654493487852571648.00  86 87 88 89 90 91 92 93 94 95 96 97 98 99 100 101   \n",
       "3  2343163086631562240.00  0 1 2 3 4 5 6 7 8 9 10 11 12 13 14 15 16 17 18...   \n",
       "4  2343163086631562240.00  110 111 112 113 114 115 116 117 118 119 120 12...   \n",
       "\n",
       "           unique_id_true  FP  FN  TP  \n",
       "0                     NaN   1   0   0  \n",
       "1                     NaN   1   0   0  \n",
       "2  5805293810922454016.00   0   0   0  \n",
       "3 14477218731601924096.00   0   0   0  \n",
       "4 15627381070960191488.00   0   0   0  "
      ]
     },
     "execution_count": 273,
     "metadata": {},
     "output_type": "execute_result"
    }
   ],
   "source": [
    "merged_df = pred_df.merge(true_df,how = 'outer',on=['id','class'],suffixes=('_pred','_true'))\n",
    "\n",
    "## if a pred is not matched it is a FN ; if the truth is not matched it is a FP\n",
    "\n",
    "#creating separate columns \n",
    "merged_df['FP'] = np.where(merged_df.predictionstring_true.isna(), 1, 0)\n",
    "merged_df['FN'] = np.where(merged_df.predictionstring_pred.isna(), 1, 0)\n",
    "\n",
    "\n",
    "#cleaning nan for the true positive function\n",
    "merged_df['predictionstring_pred'].fillna('',inplace=True)\n",
    "merged_df['predictionstring_true'].fillna('',inplace=True)\n",
    "\n",
    "\n",
    "merged_df['TP'] = true_positive_vect(merged_df['predictionstring_true'],merged_df['predictionstring_pred'])\n",
    "\n",
    "merged_df.head()"
   ]
  },
  {
   "cell_type": "code",
   "execution_count": 283,
   "id": "3895ba62",
   "metadata": {
    "ExecuteTime": {
     "end_time": "2022-02-08T08:57:32.235121Z",
     "start_time": "2022-02-08T08:57:32.228642Z"
    }
   },
   "outputs": [
    {
     "data": {
      "text/plain": [
       "934"
      ]
     },
     "execution_count": 283,
     "metadata": {},
     "output_type": "execute_result"
    }
   ],
   "source": [
    "merged_df[merged_df['FN']==1]['unique_id_pred'].duplicated().sum()"
   ]
  },
  {
   "cell_type": "markdown",
   "id": "4b45b507",
   "metadata": {},
   "source": [
    "## Confusion matrix"
   ]
  },
  {
   "cell_type": "code",
   "execution_count": 284,
   "id": "84f972f6",
   "metadata": {
    "ExecuteTime": {
     "end_time": "2022-02-08T09:42:21.575452Z",
     "start_time": "2022-02-08T09:42:21.571645Z"
    }
   },
   "outputs": [],
   "source": [
    "from sklearn.metrics import confusion_matrix"
   ]
  },
  {
   "cell_type": "code",
   "execution_count": 420,
   "id": "55c6b086",
   "metadata": {
    "ExecuteTime": {
     "end_time": "2022-02-08T10:57:41.466079Z",
     "start_time": "2022-02-08T10:57:41.456484Z"
    }
   },
   "outputs": [],
   "source": [
    "def show_confusion_matrix(y_true,y_pred):\n",
    "\n",
    "    reversed_mapping = {\n",
    "                        0: 'Lead',\n",
    "                        1: 'Position',\n",
    "                        2: 'Evidence',\n",
    "                        3: 'Claim',\n",
    "                        4: 'Concluding_Statement',\n",
    "                        5: 'Counterclaim',\n",
    "                        6: 'Rebuttal',\n",
    "                        7: 'Lead',\n",
    "                        8: 'Position',\n",
    "                        9: 'Evidence',\n",
    "                        10: 'Claim',\n",
    "                        11: 'Concluding_Statement',\n",
    "                        12: 'Counterclaim',\n",
    "                        13: 'Rebuttal',\n",
    "                        14: 'O',\n",
    "                        15: 'PAD'}\n",
    "    \n",
    "    y_true_flat = [reversed_mapping[y] for y in y_true.flatten()]\n",
    "    y_pred_flat = [reversed_mapping[y] for y in y_pred.flatten()]\n",
    "    \n",
    "    LABELS = ['Lead','Position','Claim','Counterclaim','Rebuttal','Evidence','Concluding_Statement','O','PAD']\n",
    "\n",
    "    cfn = confusion_matrix(y_true_flat,y_pred_flat,labels=LABELS)\n",
    "    \n",
    "    fig,ax = plt.subplots(1,1,figsize=(10,10))\n",
    "    plt.title('Confusion Matrix',size=18,pad=20)\n",
    "    sns.heatmap(cfn/np.sum(cfn,axis=0)*100,cmap='Blues',annot = True,fmt='.2f',annot_kws={'size':10},ax=ax);\n",
    "    plt.xticks(np.arange(len(LABELS))+.5,LABELS,rotation = 90,size=12);\n",
    "    plt.yticks(np.arange(len(LABELS))+.5,LABELS,rotation = 0,size=12);\n",
    "    plt.xlabel('PREDICTED',size=16);\n",
    "    plt.ylabel('ACTUAL',size=16);\n",
    "    for t in ax.texts: t.set_text(t.get_text() + \" %\")\n",
    "    \n",
    "    plt.show()"
   ]
  },
  {
   "cell_type": "code",
   "execution_count": 421,
   "id": "42b92101",
   "metadata": {
    "ExecuteTime": {
     "end_time": "2022-02-08T10:57:50.337916Z",
     "start_time": "2022-02-08T10:57:44.304107Z"
    }
   },
   "outputs": [
    {
     "data": {
      "image/png": "[encoded data removed]",
      "text/plain": [
       "<Figure size 720x720 with 2 Axes>"
      ]
     },
     "metadata": {
      "needs_background": "light"
     },
     "output_type": "display_data"
    }
   ],
   "source": [
    "show_confusion_matrix(y_true,y_pred)"
   ]
  },
  {
   "cell_type": "code",
   "execution_count": null,
   "id": "09238538",
   "metadata": {},
   "outputs": [],
   "source": []
  }
 ],
 "metadata": {
  "kernelspec": {
   "display_name": "Python 3 (ipykernel)",
   "language": "python",
   "name": "python3"
  },
  "language_info": {
   "codemirror_mode": {
    "name": "ipython",
    "version": 3
   },
   "file_extension": ".py",
   "mimetype": "text/x-python",
   "name": "python",
   "nbconvert_exporter": "python",
   "pygments_lexer": "ipython3",
   "version": "3.8.12"
  },
  "toc": {
   "base_numbering": 1,
   "nav_menu": {},
   "number_sections": true,
   "sideBar": true,
   "skip_h1_title": false,
   "title_cell": "Table of Contents",
   "title_sidebar": "Contents",
   "toc_cell": false,
   "toc_position": {
    "height": "calc(100% - 180px)",
    "left": "10px",
    "top": "150px",
    "width": "242px"
   },
   "toc_section_display": true,
   "toc_window_display": true
  },
  "varInspector": {
   "cols": {
    "lenName": 16,
    "lenType": 16,
    "lenVar": 40
   },
   "kernels_config": {
    "python": {
     "delete_cmd_postfix": "",
     "delete_cmd_prefix": "del ",
     "library": "var_list.py",
     "varRefreshCmd": "print(var_dic_list())"
    },
    "r": {
     "delete_cmd_postfix": ") ",
     "delete_cmd_prefix": "rm(",
     "library": "var_list.r",
     "varRefreshCmd": "cat(var_dic_list()) "
    }
   },
   "position": {
    "height": "505.844px",
    "left": "1063px",
    "right": "20px",
    "top": "120px",
    "width": "357px"
   },
   "types_to_exclude": [
    "module",
    "function",
    "builtin_function_or_method",
    "instance",
    "_Feature"
   ],
   "window_display": false
  }
 },
 "nbformat": 4,
 "nbformat_minor": 5
}
