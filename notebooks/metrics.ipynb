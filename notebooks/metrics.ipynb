{
 "cells": [
  {
   "cell_type": "markdown",
   "id": "23b839de",
   "metadata": {},
   "source": [
    "# Imports"
   ]
  },
  {
   "cell_type": "code",
   "execution_count": 17,
   "id": "8fb4ade4",
   "metadata": {
    "ExecuteTime": {
     "end_time": "2022-02-04T09:05:43.262368Z",
     "start_time": "2022-02-04T09:05:42.773556Z"
    }
   },
   "outputs": [],
   "source": [
    "import pandas as pd \n",
    "import numpy as np \n",
    "import tensorflow as tf\n",
    "\n",
    "import seqeval.metrics"
   ]
  },
  {
   "cell_type": "code",
   "execution_count": 2,
   "id": "76e1baff",
   "metadata": {
    "ExecuteTime": {
     "end_time": "2022-02-04T08:59:17.607596Z",
     "start_time": "2022-02-04T08:59:17.604851Z"
    }
   },
   "outputs": [],
   "source": [
    "## create dummy data "
   ]
  },
  {
   "cell_type": "code",
   "execution_count": 39,
   "id": "738d00d0",
   "metadata": {
    "ExecuteTime": {
     "end_time": "2022-02-04T09:40:45.177299Z",
     "start_time": "2022-02-04T09:40:45.172435Z"
    }
   },
   "outputs": [],
   "source": [
    "labels = {\n",
    "    'B-First':0,\n",
    "    'I-First':1,\n",
    "    'B-Second':2,\n",
    "    'I-Second':3,\n",
    "    'O':4,\n",
    "    'PAD':-100\n",
    "}\n",
    "\n",
    "reversed_labels={v:k for k,v in labels.items()}\n",
    "\n",
    "y_true = np.array([[0,1,1,1,4,2,3,3,3,-100,-100,-100],[-100,0,1,4,4,2,3,3,3,0,1,-100]])\n",
    "y_pred = np.array([[0,1,1,1,4,2,3,3,4,4,4,4],[-100,0,1,1,2,2,3,3,0,0,0,4]])"
   ]
  },
  {
   "cell_type": "markdown",
   "id": "1f0a8cb5",
   "metadata": {},
   "source": [
    "# Accuracy"
   ]
  },
  {
   "cell_type": "markdown",
   "id": "0c607d14",
   "metadata": {},
   "source": [
    "## seqeval experimentation"
   ]
  },
  {
   "cell_type": "code",
   "execution_count": 19,
   "id": "56d174d1",
   "metadata": {
    "ExecuteTime": {
     "end_time": "2022-02-04T09:05:54.283827Z",
     "start_time": "2022-02-04T09:05:54.268883Z"
    }
   },
   "outputs": [
    {
     "data": {
      "text/plain": [
       "array([1. , 1. , 1. , 0.5, 0. , 1. , 1. , 1. , 0. , 0.5, 0. , 0. ])"
      ]
     },
     "execution_count": 19,
     "metadata": {},
     "output_type": "execute_result"
    }
   ],
   "source": [
    "seqeval.metrics.accuracy_score(y_true,y_pred)"
   ]
  },
  {
   "cell_type": "code",
   "execution_count": 54,
   "id": "e0deaf18",
   "metadata": {
    "ExecuteTime": {
     "end_time": "2022-02-04T09:59:28.671310Z",
     "start_time": "2022-02-04T09:59:28.663639Z"
    }
   },
   "outputs": [],
   "source": [
    "def labeling_without_pad(y_true,y_pred,padding=-100):\n",
    "    \n",
    "    labels = {\n",
    "    'B-First':0,\n",
    "    'I-First':1,\n",
    "    'B-Second':2,\n",
    "    'I-Second':3,\n",
    "    'O':4,\n",
    "    'PAD':padding\n",
    "    }\n",
    "\n",
    "    reversed_labels={v:k for k,v in labels.items()}\n",
    "\n",
    "    try:\n",
    "        if not isinstance(y_true,numpy.array):\n",
    "            y_true = y_true.numpy()\n",
    "        if not isinstance(y_pred,numpy.array):\n",
    "            y_pred = y_pred.numpy()\n",
    "    except:\n",
    "        \"must be passed TF or NP\"\n",
    "    \n",
    "    \n",
    "    batch_size,seq_len = y_pred.shape\n",
    "    labels, preds = [],[]\n",
    "    \n",
    "    for i in range(batch_size):\n",
    "        labels_ , preds_ = [], []\n",
    "        for j in range(seq_len):\n",
    "            if y_true[i][j] !=-100:\n",
    "                labels_.append(reversed_labels[y_true[i][j]])\n",
    "                preds_.append(reversed_labels[y_pred[i][j]])\n",
    "        labels.append(labels_)\n",
    "        preds.append(preds_)\n",
    "        \n",
    "    return preds,labels\n",
    "        "
   ]
  },
  {
   "cell_type": "code",
   "execution_count": 55,
   "id": "90c5c52b",
   "metadata": {
    "ExecuteTime": {
     "end_time": "2022-02-04T09:59:29.412302Z",
     "start_time": "2022-02-04T09:59:29.406001Z"
    }
   },
   "outputs": [
    {
     "name": "stdout",
     "output_type": "stream",
     "text": [
      "              precision    recall  f1-score   support\n",
      "\n",
      "       First       0.33      0.20      0.25         5\n",
      "      Second       0.00      0.00      0.00         3\n",
      "\n",
      "   micro avg       0.20      0.12      0.15         8\n",
      "   macro avg       0.17      0.10      0.12         8\n",
      "weighted avg       0.21      0.12      0.16         8\n",
      "\n"
     ]
    }
   ],
   "source": [
    "preds,labels=labeling_without_pad(y_true,y_pred)\n",
    "print(seqeval.metrics.classification_report(preds,labels))"
   ]
  },
  {
   "cell_type": "code",
   "execution_count": 56,
   "id": "7f85581d",
   "metadata": {
    "ExecuteTime": {
     "end_time": "2022-02-04T09:59:33.210362Z",
     "start_time": "2022-02-04T09:59:33.204227Z"
    }
   },
   "outputs": [
    {
     "data": {
      "text/plain": [
       "0.15384615384615385"
      ]
     },
     "execution_count": 56,
     "metadata": {},
     "output_type": "execute_result"
    }
   ],
   "source": [
    "seqeval.metrics.f1_score(labels,preds)"
   ]
  },
  {
   "cell_type": "code",
   "execution_count": 75,
   "id": "130542e0",
   "metadata": {
    "ExecuteTime": {
     "end_time": "2022-02-04T10:08:09.579555Z",
     "start_time": "2022-02-04T10:08:09.573922Z"
    }
   },
   "outputs": [
    {
     "data": {
      "text/plain": [
       "0.7368421052631579"
      ]
     },
     "execution_count": 75,
     "metadata": {},
     "output_type": "execute_result"
    }
   ],
   "source": [
    "seqeval.metrics.accuracy_score(labels,preds)"
   ]
  },
  {
   "cell_type": "markdown",
   "id": "0db305a0",
   "metadata": {},
   "source": [
    "## Accuracy masked subclassing"
   ]
  },
  {
   "cell_type": "code",
   "execution_count": 204,
   "id": "7a5b6e49",
   "metadata": {
    "ExecuteTime": {
     "end_time": "2022-02-04T12:00:26.638087Z",
     "start_time": "2022-02-04T12:00:26.630017Z"
    }
   },
   "outputs": [],
   "source": [
    "class AccuracyMasked(tf.keras.metrics.Metric):\n",
    "    \n",
    "    def __init__(self,class_to_ignore,name='accuracy_masked',**kwargs):\n",
    "        super().__init__(name=name,**kwargs),\n",
    "        self.class_to_ignore = class_to_ignore\n",
    "        self.accs = self.add_weight(name = 'accs',initializer = 'zeros',dtype='float64')        \n",
    "    \n",
    "    def update_state(self,y_true,y_pred):\n",
    "        #y_pred = tf.argmax(y_pred,axis=-1)\n",
    "        #y_true = tf.argmax(y_true,axis=-1)#for y_pred and y_true to match\n",
    "        #mask = tf.cast(tf.not_equal(y_true,self.class_to_ignore),'int32') #create a mask\n",
    "        #matches = tf.cast(tf.equal(y_true,y_pred),'int32')*mask #calculate the matches ignoring the masking\n",
    "        #accuracy = tf.math.reduce_sum(matches,axis=-1)/tf.maximum(tf.math.reduce_sum(mask,axis=-1),1)\n",
    "        accuracy=tf.math.reduce_sum(tf.cast(y_true == y_pred,'int32')*tf.cast(y_true != -100,'int32'))/tf.math.reduce_sum(tf.cast(y_true != -100,'int32'))\n",
    "        self.accs.assign_add(tf.math.reduce_mean(accuracy))\n",
    "        \n",
    "    \n",
    "    def result(self):\n",
    "        return self.accs #tf.math.reduce_mean(accuracy)\n"
   ]
  },
  {
   "cell_type": "code",
   "execution_count": 205,
   "id": "a5653506",
   "metadata": {
    "ExecuteTime": {
     "end_time": "2022-02-04T12:00:27.157765Z",
     "start_time": "2022-02-04T12:00:27.146240Z"
    }
   },
   "outputs": [
    {
     "data": {
      "text/plain": [
       "<tf.Tensor: shape=(), dtype=float64, numpy=0.6086956521739131>"
      ]
     },
     "execution_count": 205,
     "metadata": {},
     "output_type": "execute_result"
    }
   ],
   "source": [
    "accuracymasked = AccuracyMasked(-100)\n",
    "\n",
    "accuracymasked(y_pred,y_true)"
   ]
  },
  {
   "cell_type": "code",
   "execution_count": 181,
   "id": "5dbab2e7",
   "metadata": {
    "ExecuteTime": {
     "end_time": "2022-02-04T11:57:45.527829Z",
     "start_time": "2022-02-04T11:57:45.517677Z"
    }
   },
   "outputs": [
    {
     "data": {
      "text/plain": [
       "<tf.Tensor: shape=(), dtype=float64, numpy=0.7368421052631579>"
      ]
     },
     "execution_count": 181,
     "metadata": {},
     "output_type": "execute_result"
    }
   ],
   "source": [
    "tf.math.reduce_sum(tf.cast(y_true == y_pred,'int32')*tf.cast(y_true != -100,'int32'))/tf.math.reduce_sum(tf.cast(y_true != -100,'int32'))"
   ]
  },
  {
   "cell_type": "code",
   "execution_count": 99,
   "id": "3124a3bd",
   "metadata": {
    "ExecuteTime": {
     "end_time": "2022-02-04T10:13:51.823339Z",
     "start_time": "2022-02-04T10:13:51.817445Z"
    }
   },
   "outputs": [],
   "source": [
    "mask = tf.cast(tf.not_equal(y_true,-100),'int32') #create a mask\n",
    "matches = tf.cast(tf.equal(y_true,y_pred),'int32')*mask #calculate the matches ignoring the masking\n",
    "accuracy = tf.math.reduce_sum(matches,axis=-1)/tf.maximum(tf.math.reduce_sum(mask,axis=-1),1)"
   ]
  },
  {
   "cell_type": "code",
   "execution_count": 103,
   "id": "54443972",
   "metadata": {
    "ExecuteTime": {
     "end_time": "2022-02-04T10:13:56.068300Z",
     "start_time": "2022-02-04T10:13:56.062516Z"
    }
   },
   "outputs": [
    {
     "data": {
      "text/plain": [
       "<tf.Tensor: shape=(), dtype=float64, numpy=0.7444444444444445>"
      ]
     },
     "execution_count": 103,
     "metadata": {},
     "output_type": "execute_result"
    }
   ],
   "source": [
    "tf.math.reduce_mean(accuracy)"
   ]
  },
  {
   "cell_type": "markdown",
   "id": "3335e0cc",
   "metadata": {},
   "source": [
    "## Accuracy homemade via function"
   ]
  },
  {
   "cell_type": "code",
   "execution_count": 208,
   "id": "a717045a",
   "metadata": {
    "ExecuteTime": {
     "end_time": "2022-02-04T13:35:38.446847Z",
     "start_time": "2022-02-04T13:35:38.439726Z"
    }
   },
   "outputs": [],
   "source": [
    "##SIMPLER ACCURACY definition\n",
    "\n",
    "def accuracy_masked_func(y_true,y_pred):\n",
    "    #y_pred = tf.argmax(y_pred,axis=-1)\n",
    "    #y_true = tf.argmax(y_true,axis=-1)#for y_pred and y_true to match\n",
    "    mask = tf.cast(y_true != -100,'int32') #create a mask\n",
    "    matches = tf.cast(tf.equal(y_true,y_pred),'int32')*mask #calculate the matches ignoring the masking\n",
    "    accuracy = tf.math.reduce_sum(matches,axis=-1)/tf.maximum(tf.math.reduce_sum(mask,axis=-1),1)\n",
    "    \n",
    "    return accuracy"
   ]
  },
  {
   "cell_type": "code",
   "execution_count": 207,
   "id": "13bdde09",
   "metadata": {
    "ExecuteTime": {
     "end_time": "2022-02-04T13:30:47.443487Z",
     "start_time": "2022-02-04T13:30:47.384912Z"
    }
   },
   "outputs": [
    {
     "data": {
      "text/plain": [
       "<tf.Tensor: shape=(2,), dtype=float64, numpy=array([0.88888889, 0.6       ])>"
      ]
     },
     "execution_count": 207,
     "metadata": {},
     "output_type": "execute_result"
    }
   ],
   "source": [
    "accuracy_masked_func(y_true,y_pred)"
   ]
  },
  {
   "cell_type": "code",
   "execution_count": 210,
   "id": "98884998",
   "metadata": {
    "ExecuteTime": {
     "end_time": "2022-02-04T13:35:53.801253Z",
     "start_time": "2022-02-04T13:35:53.682910Z"
    }
   },
   "outputs": [],
   "source": [
    "accuracy_masked = tf.keras.metrics.MeanMetricWrapper(fn=accuracy_masked_func)"
   ]
  },
  {
   "cell_type": "code",
   "execution_count": 211,
   "id": "35c643f9",
   "metadata": {
    "ExecuteTime": {
     "end_time": "2022-02-04T13:36:03.220012Z",
     "start_time": "2022-02-04T13:36:02.983247Z"
    }
   },
   "outputs": [
    {
     "data": {
      "text/plain": [
       "<tf.Tensor: shape=(), dtype=float32, numpy=0.7444445>"
      ]
     },
     "execution_count": 211,
     "metadata": {},
     "output_type": "execute_result"
    }
   ],
   "source": [
    "accuracy_masked(y_true,y_pred)"
   ]
  },
  {
   "cell_type": "markdown",
   "id": "579c4c87",
   "metadata": {},
   "source": [
    "# Evaluation metric"
   ]
  },
  {
   "cell_type": "code",
   "execution_count": null,
   "id": "248a954c",
   "metadata": {},
   "outputs": [],
   "source": [
    "## Pseudo code\n",
    "\n",
    "# 1- calculate the overlaps\n",
    "# 2- for each pred : determine if it is a TP/FN/TN regarding the opvermap \n",
    "# 3- compute f1 score for each class \n",
    "# 4- compute f1 macro score across all classes "
   ]
  },
  {
   "cell_type": "code",
   "execution_count": 213,
   "id": "fdcc8ff0",
   "metadata": {
    "ExecuteTime": {
     "end_time": "2022-02-04T13:43:44.930535Z",
     "start_time": "2022-02-04T13:43:44.908886Z"
    }
   },
   "outputs": [],
   "source": [
    "df = pd.read_csv('../raw_data/preprocessed.csv',nrows=100)"
   ]
  },
  {
   "cell_type": "code",
   "execution_count": 214,
   "id": "0bb47690",
   "metadata": {
    "ExecuteTime": {
     "end_time": "2022-02-04T13:43:48.852733Z",
     "start_time": "2022-02-04T13:43:48.836192Z"
    }
   },
   "outputs": [
    {
     "data": {
      "text/html": [
       "<div>\n",
       "<style scoped>\n",
       "    .dataframe tbody tr th:only-of-type {\n",
       "        vertical-align: middle;\n",
       "    }\n",
       "\n",
       "    .dataframe tbody tr th {\n",
       "        vertical-align: top;\n",
       "    }\n",
       "\n",
       "    .dataframe thead th {\n",
       "        text-align: right;\n",
       "    }\n",
       "</style>\n",
       "<table border=\"1\" class=\"dataframe\">\n",
       "  <thead>\n",
       "    <tr style=\"text-align: right;\">\n",
       "      <th></th>\n",
       "      <th>id</th>\n",
       "      <th>predictionstring</th>\n",
       "      <th>label</th>\n",
       "      <th>essays</th>\n",
       "    </tr>\n",
       "  </thead>\n",
       "  <tbody>\n",
       "    <tr>\n",
       "      <th>0</th>\n",
       "      <td>0000D23A521A</td>\n",
       "      <td>['0', '1', '2', '3', '4', '5', '6', '7', '8', ...</td>\n",
       "      <td>['B-Position', 'I-Position', 'I-Position', 'I-...</td>\n",
       "      <td>Some people belive that the so called \"face\" o...</td>\n",
       "    </tr>\n",
       "    <tr>\n",
       "      <th>1</th>\n",
       "      <td>00066EA9880D</td>\n",
       "      <td>['0', '1', '2', '3', '4', '5', '6', '7', '8', ...</td>\n",
       "      <td>['B-Lead', 'I-Lead', 'I-Lead', 'I-Lead', 'I-Le...</td>\n",
       "      <td>Driverless cars are exaclty what you would exp...</td>\n",
       "    </tr>\n",
       "    <tr>\n",
       "      <th>2</th>\n",
       "      <td>000E6DE9E817</td>\n",
       "      <td>['2', '3', '4', '5', '6', '7', '8', '10', '11'...</td>\n",
       "      <td>['B-Position', 'I-Position', 'I-Position', 'I-...</td>\n",
       "      <td>Dear: Principal\\n\\nI am arguing against the po...</td>\n",
       "    </tr>\n",
       "    <tr>\n",
       "      <th>3</th>\n",
       "      <td>001552828BD0</td>\n",
       "      <td>['0', '1', '2', '3', '4', '5', '6', '7', '8', ...</td>\n",
       "      <td>['B-Lead', 'I-Lead', 'I-Lead', 'I-Lead', 'I-Le...</td>\n",
       "      <td>Would you be able to give your car up? Having ...</td>\n",
       "    </tr>\n",
       "    <tr>\n",
       "      <th>4</th>\n",
       "      <td>0016926B079C</td>\n",
       "      <td>['0', '1', '2', '3', '4', '5', '6', '7', '8', ...</td>\n",
       "      <td>['B-Position', 'I-Position', 'I-Position', 'I-...</td>\n",
       "      <td>I think that students would benefit from learn...</td>\n",
       "    </tr>\n",
       "  </tbody>\n",
       "</table>\n",
       "</div>"
      ],
      "text/plain": [
       "             id                                   predictionstring  \\\n",
       "0  0000D23A521A  ['0', '1', '2', '3', '4', '5', '6', '7', '8', ...   \n",
       "1  00066EA9880D  ['0', '1', '2', '3', '4', '5', '6', '7', '8', ...   \n",
       "2  000E6DE9E817  ['2', '3', '4', '5', '6', '7', '8', '10', '11'...   \n",
       "3  001552828BD0  ['0', '1', '2', '3', '4', '5', '6', '7', '8', ...   \n",
       "4  0016926B079C  ['0', '1', '2', '3', '4', '5', '6', '7', '8', ...   \n",
       "\n",
       "                                               label  \\\n",
       "0  ['B-Position', 'I-Position', 'I-Position', 'I-...   \n",
       "1  ['B-Lead', 'I-Lead', 'I-Lead', 'I-Lead', 'I-Le...   \n",
       "2  ['B-Position', 'I-Position', 'I-Position', 'I-...   \n",
       "3  ['B-Lead', 'I-Lead', 'I-Lead', 'I-Lead', 'I-Le...   \n",
       "4  ['B-Position', 'I-Position', 'I-Position', 'I-...   \n",
       "\n",
       "                                              essays  \n",
       "0  Some people belive that the so called \"face\" o...  \n",
       "1  Driverless cars are exaclty what you would exp...  \n",
       "2  Dear: Principal\\n\\nI am arguing against the po...  \n",
       "3  Would you be able to give your car up? Having ...  \n",
       "4  I think that students would benefit from learn...  "
      ]
     },
     "execution_count": 214,
     "metadata": {},
     "output_type": "execute_result"
    }
   ],
   "source": [
    "df.head()"
   ]
  },
  {
   "cell_type": "code",
   "execution_count": 215,
   "id": "69d572e4",
   "metadata": {
    "ExecuteTime": {
     "end_time": "2022-02-04T13:44:29.772580Z",
     "start_time": "2022-02-04T13:44:29.763705Z"
    }
   },
   "outputs": [],
   "source": [
    "df_train = pd.read_csv('../raw_data/train.csv',nrows=100)"
   ]
  },
  {
   "cell_type": "code",
   "execution_count": 216,
   "id": "f0be0110",
   "metadata": {
    "ExecuteTime": {
     "end_time": "2022-02-04T13:44:33.083867Z",
     "start_time": "2022-02-04T13:44:33.071071Z"
    }
   },
   "outputs": [
    {
     "data": {
      "text/html": [
       "<div>\n",
       "<style scoped>\n",
       "    .dataframe tbody tr th:only-of-type {\n",
       "        vertical-align: middle;\n",
       "    }\n",
       "\n",
       "    .dataframe tbody tr th {\n",
       "        vertical-align: top;\n",
       "    }\n",
       "\n",
       "    .dataframe thead th {\n",
       "        text-align: right;\n",
       "    }\n",
       "</style>\n",
       "<table border=\"1\" class=\"dataframe\">\n",
       "  <thead>\n",
       "    <tr style=\"text-align: right;\">\n",
       "      <th></th>\n",
       "      <th>id</th>\n",
       "      <th>discourse_id</th>\n",
       "      <th>discourse_start</th>\n",
       "      <th>discourse_end</th>\n",
       "      <th>discourse_text</th>\n",
       "      <th>discourse_type</th>\n",
       "      <th>discourse_type_num</th>\n",
       "      <th>predictionstring</th>\n",
       "    </tr>\n",
       "  </thead>\n",
       "  <tbody>\n",
       "    <tr>\n",
       "      <th>0</th>\n",
       "      <td>423A1CA112E2</td>\n",
       "      <td>1.622628e+12</td>\n",
       "      <td>8.0</td>\n",
       "      <td>229.0</td>\n",
       "      <td>Modern humans today are always on their phone....</td>\n",
       "      <td>Lead</td>\n",
       "      <td>Lead 1</td>\n",
       "      <td>1 2 3 4 5 6 7 8 9 10 11 12 13 14 15 16 17 18 1...</td>\n",
       "    </tr>\n",
       "    <tr>\n",
       "      <th>1</th>\n",
       "      <td>423A1CA112E2</td>\n",
       "      <td>1.622628e+12</td>\n",
       "      <td>230.0</td>\n",
       "      <td>312.0</td>\n",
       "      <td>They are some really bad consequences when stu...</td>\n",
       "      <td>Position</td>\n",
       "      <td>Position 1</td>\n",
       "      <td>45 46 47 48 49 50 51 52 53 54 55 56 57 58 59</td>\n",
       "    </tr>\n",
       "    <tr>\n",
       "      <th>2</th>\n",
       "      <td>423A1CA112E2</td>\n",
       "      <td>1.622628e+12</td>\n",
       "      <td>313.0</td>\n",
       "      <td>401.0</td>\n",
       "      <td>Some certain areas in the United States ban ph...</td>\n",
       "      <td>Evidence</td>\n",
       "      <td>Evidence 1</td>\n",
       "      <td>60 61 62 63 64 65 66 67 68 69 70 71 72 73 74 75</td>\n",
       "    </tr>\n",
       "    <tr>\n",
       "      <th>3</th>\n",
       "      <td>423A1CA112E2</td>\n",
       "      <td>1.622628e+12</td>\n",
       "      <td>402.0</td>\n",
       "      <td>758.0</td>\n",
       "      <td>When people have phones, they know about certa...</td>\n",
       "      <td>Evidence</td>\n",
       "      <td>Evidence 2</td>\n",
       "      <td>76 77 78 79 80 81 82 83 84 85 86 87 88 89 90 9...</td>\n",
       "    </tr>\n",
       "    <tr>\n",
       "      <th>4</th>\n",
       "      <td>423A1CA112E2</td>\n",
       "      <td>1.622628e+12</td>\n",
       "      <td>759.0</td>\n",
       "      <td>886.0</td>\n",
       "      <td>Driving is one of the way how to get around. P...</td>\n",
       "      <td>Claim</td>\n",
       "      <td>Claim 1</td>\n",
       "      <td>139 140 141 142 143 144 145 146 147 148 149 15...</td>\n",
       "    </tr>\n",
       "  </tbody>\n",
       "</table>\n",
       "</div>"
      ],
      "text/plain": [
       "             id  discourse_id  discourse_start  discourse_end  \\\n",
       "0  423A1CA112E2  1.622628e+12              8.0          229.0   \n",
       "1  423A1CA112E2  1.622628e+12            230.0          312.0   \n",
       "2  423A1CA112E2  1.622628e+12            313.0          401.0   \n",
       "3  423A1CA112E2  1.622628e+12            402.0          758.0   \n",
       "4  423A1CA112E2  1.622628e+12            759.0          886.0   \n",
       "\n",
       "                                      discourse_text discourse_type  \\\n",
       "0  Modern humans today are always on their phone....           Lead   \n",
       "1  They are some really bad consequences when stu...       Position   \n",
       "2  Some certain areas in the United States ban ph...       Evidence   \n",
       "3  When people have phones, they know about certa...       Evidence   \n",
       "4  Driving is one of the way how to get around. P...          Claim   \n",
       "\n",
       "  discourse_type_num                                   predictionstring  \n",
       "0             Lead 1  1 2 3 4 5 6 7 8 9 10 11 12 13 14 15 16 17 18 1...  \n",
       "1         Position 1       45 46 47 48 49 50 51 52 53 54 55 56 57 58 59  \n",
       "2         Evidence 1    60 61 62 63 64 65 66 67 68 69 70 71 72 73 74 75  \n",
       "3         Evidence 2  76 77 78 79 80 81 82 83 84 85 86 87 88 89 90 9...  \n",
       "4            Claim 1  139 140 141 142 143 144 145 146 147 148 149 15...  "
      ]
     },
     "execution_count": 216,
     "metadata": {},
     "output_type": "execute_result"
    }
   ],
   "source": [
    "df_train.head()"
   ]
  },
  {
   "cell_type": "code",
   "execution_count": null,
   "id": "59c9e808",
   "metadata": {},
   "outputs": [],
   "source": []
  }
 ],
 "metadata": {
  "kernelspec": {
   "display_name": "Python 3 (ipykernel)",
   "language": "python",
   "name": "python3"
  },
  "language_info": {
   "codemirror_mode": {
    "name": "ipython",
    "version": 3
   },
   "file_extension": ".py",
   "mimetype": "text/x-python",
   "name": "python",
   "nbconvert_exporter": "python",
   "pygments_lexer": "ipython3",
   "version": "3.8.12"
  },
  "toc": {
   "base_numbering": 1,
   "nav_menu": {},
   "number_sections": true,
   "sideBar": true,
   "skip_h1_title": false,
   "title_cell": "Table of Contents",
   "title_sidebar": "Contents",
   "toc_cell": false,
   "toc_position": {
    "height": "calc(100% - 180px)",
    "left": "10px",
    "top": "150px",
    "width": "242px"
   },
   "toc_section_display": true,
   "toc_window_display": true
  },
  "varInspector": {
   "cols": {
    "lenName": 16,
    "lenType": 16,
    "lenVar": 40
   },
   "kernels_config": {
    "python": {
     "delete_cmd_postfix": "",
     "delete_cmd_prefix": "del ",
     "library": "var_list.py",
     "varRefreshCmd": "print(var_dic_list())"
    },
    "r": {
     "delete_cmd_postfix": ") ",
     "delete_cmd_prefix": "rm(",
     "library": "var_list.r",
     "varRefreshCmd": "cat(var_dic_list()) "
    }
   },
   "types_to_exclude": [
    "module",
    "function",
    "builtin_function_or_method",
    "instance",
    "_Feature"
   ],
   "window_display": false
  }
 },
 "nbformat": 4,
 "nbformat_minor": 5
}
