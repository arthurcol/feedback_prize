{
 "cells": [
  {
   "cell_type": "markdown",
   "id": "790e4a92",
   "metadata": {},
   "source": [
    "### TODO ###\n",
    "\n",
    "1. process train.csv dataset to be training ready\n",
    "    - create gaps lines \n",
    "    - first : tokenizer \n",
    "    - second : embedding\n",
    "2. How to go from a .txt file to dataset ? \n",
    "    "
   ]
  },
  {
   "cell_type": "markdown",
   "id": "368ed33f",
   "metadata": {},
   "source": [
    "## Imports"
   ]
  },
  {
   "cell_type": "code",
   "execution_count": 1,
   "id": "d0b93ac6",
   "metadata": {
    "ExecuteTime": {
     "end_time": "2022-01-23T11:59:23.974784Z",
     "start_time": "2022-01-23T11:59:23.356331Z"
    }
   },
   "outputs": [],
   "source": [
    "import pandas as pd \n",
    "import numpy as np"
   ]
  },
  {
   "cell_type": "markdown",
   "id": "79d21fed",
   "metadata": {},
   "source": [
    "## Loading dataset"
   ]
  },
  {
   "cell_type": "code",
   "execution_count": 2,
   "id": "eeed6c7a",
   "metadata": {
    "ExecuteTime": {
     "end_time": "2022-01-23T11:59:24.041180Z",
     "start_time": "2022-01-23T11:59:23.976916Z"
    }
   },
   "outputs": [
    {
     "name": "stdout",
     "output_type": "stream",
     "text": [
      "(7552, 8)\n"
     ]
    },
    {
     "data": {
      "text/html": [
       "<div>\n",
       "<style scoped>\n",
       "    .dataframe tbody tr th:only-of-type {\n",
       "        vertical-align: middle;\n",
       "    }\n",
       "\n",
       "    .dataframe tbody tr th {\n",
       "        vertical-align: top;\n",
       "    }\n",
       "\n",
       "    .dataframe thead th {\n",
       "        text-align: right;\n",
       "    }\n",
       "</style>\n",
       "<table border=\"1\" class=\"dataframe\">\n",
       "  <thead>\n",
       "    <tr style=\"text-align: right;\">\n",
       "      <th></th>\n",
       "      <th>id</th>\n",
       "      <th>discourse_id</th>\n",
       "      <th>discourse_start</th>\n",
       "      <th>discourse_end</th>\n",
       "      <th>discourse_text</th>\n",
       "      <th>discourse_type</th>\n",
       "      <th>discourse_type_num</th>\n",
       "      <th>predictionstring</th>\n",
       "    </tr>\n",
       "  </thead>\n",
       "  <tbody>\n",
       "    <tr>\n",
       "      <th>0</th>\n",
       "      <td>423A1CA112E2</td>\n",
       "      <td>1.622628e+12</td>\n",
       "      <td>8.0</td>\n",
       "      <td>229.0</td>\n",
       "      <td>Modern humans today are always on their phone....</td>\n",
       "      <td>Lead</td>\n",
       "      <td>Lead 1</td>\n",
       "      <td>1 2 3 4 5 6 7 8 9 10 11 12 13 14 15 16 17 18 1...</td>\n",
       "    </tr>\n",
       "    <tr>\n",
       "      <th>1</th>\n",
       "      <td>423A1CA112E2</td>\n",
       "      <td>1.622628e+12</td>\n",
       "      <td>230.0</td>\n",
       "      <td>312.0</td>\n",
       "      <td>They are some really bad consequences when stu...</td>\n",
       "      <td>Position</td>\n",
       "      <td>Position 1</td>\n",
       "      <td>45 46 47 48 49 50 51 52 53 54 55 56 57 58 59</td>\n",
       "    </tr>\n",
       "    <tr>\n",
       "      <th>2</th>\n",
       "      <td>423A1CA112E2</td>\n",
       "      <td>1.622628e+12</td>\n",
       "      <td>313.0</td>\n",
       "      <td>401.0</td>\n",
       "      <td>Some certain areas in the United States ban ph...</td>\n",
       "      <td>Evidence</td>\n",
       "      <td>Evidence 1</td>\n",
       "      <td>60 61 62 63 64 65 66 67 68 69 70 71 72 73 74 75</td>\n",
       "    </tr>\n",
       "    <tr>\n",
       "      <th>3</th>\n",
       "      <td>423A1CA112E2</td>\n",
       "      <td>1.622628e+12</td>\n",
       "      <td>402.0</td>\n",
       "      <td>758.0</td>\n",
       "      <td>When people have phones, they know about certa...</td>\n",
       "      <td>Evidence</td>\n",
       "      <td>Evidence 2</td>\n",
       "      <td>76 77 78 79 80 81 82 83 84 85 86 87 88 89 90 9...</td>\n",
       "    </tr>\n",
       "    <tr>\n",
       "      <th>4</th>\n",
       "      <td>423A1CA112E2</td>\n",
       "      <td>1.622628e+12</td>\n",
       "      <td>759.0</td>\n",
       "      <td>886.0</td>\n",
       "      <td>Driving is one of the way how to get around. P...</td>\n",
       "      <td>Claim</td>\n",
       "      <td>Claim 1</td>\n",
       "      <td>139 140 141 142 143 144 145 146 147 148 149 15...</td>\n",
       "    </tr>\n",
       "  </tbody>\n",
       "</table>\n",
       "</div>"
      ],
      "text/plain": [
       "             id  discourse_id  discourse_start  discourse_end  \\\n",
       "0  423A1CA112E2  1.622628e+12              8.0          229.0   \n",
       "1  423A1CA112E2  1.622628e+12            230.0          312.0   \n",
       "2  423A1CA112E2  1.622628e+12            313.0          401.0   \n",
       "3  423A1CA112E2  1.622628e+12            402.0          758.0   \n",
       "4  423A1CA112E2  1.622628e+12            759.0          886.0   \n",
       "\n",
       "                                      discourse_text discourse_type  \\\n",
       "0  Modern humans today are always on their phone....           Lead   \n",
       "1  They are some really bad consequences when stu...       Position   \n",
       "2  Some certain areas in the United States ban ph...       Evidence   \n",
       "3  When people have phones, they know about certa...       Evidence   \n",
       "4  Driving is one of the way how to get around. P...          Claim   \n",
       "\n",
       "  discourse_type_num                                   predictionstring  \n",
       "0             Lead 1  1 2 3 4 5 6 7 8 9 10 11 12 13 14 15 16 17 18 1...  \n",
       "1         Position 1       45 46 47 48 49 50 51 52 53 54 55 56 57 58 59  \n",
       "2         Evidence 1    60 61 62 63 64 65 66 67 68 69 70 71 72 73 74 75  \n",
       "3         Evidence 2  76 77 78 79 80 81 82 83 84 85 86 87 88 89 90 9...  \n",
       "4            Claim 1  139 140 141 142 143 144 145 146 147 148 149 15...  "
      ]
     },
     "execution_count": 2,
     "metadata": {},
     "output_type": "execute_result"
    }
   ],
   "source": [
    "#for working purposes\n",
    "SAMPLE = True\n",
    "\n",
    "if SAMPLE:\n",
    "    n=7552\n",
    "else: \n",
    "    n=None\n",
    "df = pd.read_csv('../raw_data/train.csv',nrows=n)\n",
    "print(df.shape)\n",
    "df.head()"
   ]
  },
  {
   "cell_type": "code",
   "execution_count": 3,
   "id": "486381a9",
   "metadata": {
    "ExecuteTime": {
     "end_time": "2022-01-23T11:59:25.253935Z",
     "start_time": "2022-01-23T11:59:25.110571Z"
    }
   },
   "outputs": [
    {
     "data": {
      "text/html": [
       "<div>\n",
       "<style scoped>\n",
       "    .dataframe tbody tr th:only-of-type {\n",
       "        vertical-align: middle;\n",
       "    }\n",
       "\n",
       "    .dataframe tbody tr th {\n",
       "        vertical-align: top;\n",
       "    }\n",
       "\n",
       "    .dataframe thead th {\n",
       "        text-align: right;\n",
       "    }\n",
       "</style>\n",
       "<table border=\"1\" class=\"dataframe\">\n",
       "  <thead>\n",
       "    <tr style=\"text-align: right;\">\n",
       "      <th></th>\n",
       "      <th>id</th>\n",
       "      <th>discourse_id</th>\n",
       "      <th>discourse_start</th>\n",
       "      <th>discourse_end</th>\n",
       "      <th>discourse_text</th>\n",
       "      <th>discourse_type</th>\n",
       "      <th>discourse_type_num</th>\n",
       "      <th>predictionstring</th>\n",
       "    </tr>\n",
       "  </thead>\n",
       "  <tbody>\n",
       "    <tr>\n",
       "      <th>0</th>\n",
       "      <td>423A1CA112E2</td>\n",
       "      <td>1.622628e+12</td>\n",
       "      <td>8.0</td>\n",
       "      <td>229.0</td>\n",
       "      <td>Modern humans today are always on their phone....</td>\n",
       "      <td>Lead</td>\n",
       "      <td>Lead 1</td>\n",
       "      <td>1 2 3 4 5 6 7 8 9 10 11 12 13 14 15 16 17 18 1...</td>\n",
       "    </tr>\n",
       "    <tr>\n",
       "      <th>1</th>\n",
       "      <td>423A1CA112E2</td>\n",
       "      <td>1.622628e+12</td>\n",
       "      <td>230.0</td>\n",
       "      <td>312.0</td>\n",
       "      <td>They are some really bad consequences when stu...</td>\n",
       "      <td>Position</td>\n",
       "      <td>Position 1</td>\n",
       "      <td>45 46 47 48 49 50 51 52 53 54 55 56 57 58 59</td>\n",
       "    </tr>\n",
       "    <tr>\n",
       "      <th>2</th>\n",
       "      <td>423A1CA112E2</td>\n",
       "      <td>1.622628e+12</td>\n",
       "      <td>313.0</td>\n",
       "      <td>401.0</td>\n",
       "      <td>Some certain areas in the United States ban ph...</td>\n",
       "      <td>Evidence</td>\n",
       "      <td>Evidence 1</td>\n",
       "      <td>60 61 62 63 64 65 66 67 68 69 70 71 72 73 74 75</td>\n",
       "    </tr>\n",
       "    <tr>\n",
       "      <th>3</th>\n",
       "      <td>423A1CA112E2</td>\n",
       "      <td>1.622628e+12</td>\n",
       "      <td>402.0</td>\n",
       "      <td>758.0</td>\n",
       "      <td>When people have phones, they know about certa...</td>\n",
       "      <td>Evidence</td>\n",
       "      <td>Evidence 2</td>\n",
       "      <td>76 77 78 79 80 81 82 83 84 85 86 87 88 89 90 9...</td>\n",
       "    </tr>\n",
       "    <tr>\n",
       "      <th>4</th>\n",
       "      <td>423A1CA112E2</td>\n",
       "      <td>1.622628e+12</td>\n",
       "      <td>759.0</td>\n",
       "      <td>886.0</td>\n",
       "      <td>Driving is one of the way how to get around. P...</td>\n",
       "      <td>Claim</td>\n",
       "      <td>Claim 1</td>\n",
       "      <td>139 140 141 142 143 144 145 146 147 148 149 15...</td>\n",
       "    </tr>\n",
       "    <tr>\n",
       "      <th>5</th>\n",
       "      <td>423A1CA112E2</td>\n",
       "      <td>1.622628e+12</td>\n",
       "      <td>887.0</td>\n",
       "      <td>1150.0</td>\n",
       "      <td>That's why there's a thing that's called no te...</td>\n",
       "      <td>Evidence</td>\n",
       "      <td>Evidence 3</td>\n",
       "      <td>163 164 165 166 167 168 169 170 171 172 173 17...</td>\n",
       "    </tr>\n",
       "    <tr>\n",
       "      <th>6</th>\n",
       "      <td>423A1CA112E2</td>\n",
       "      <td>1.622628e+12</td>\n",
       "      <td>1151.0</td>\n",
       "      <td>1533.0</td>\n",
       "      <td>Sometimes on the news there is either an accid...</td>\n",
       "      <td>Evidence</td>\n",
       "      <td>Evidence 4</td>\n",
       "      <td>211 212 213 214 215 216 217 218 219 220 221 22...</td>\n",
       "    </tr>\n",
       "    <tr>\n",
       "      <th>7</th>\n",
       "      <td>423A1CA112E2</td>\n",
       "      <td>1.622628e+12</td>\n",
       "      <td>1534.0</td>\n",
       "      <td>1602.0</td>\n",
       "      <td>Phones are fine to use and it's also the best ...</td>\n",
       "      <td>Claim</td>\n",
       "      <td>Claim 2</td>\n",
       "      <td>282 283 284 285 286 287 288 289 290 291 292 29...</td>\n",
       "    </tr>\n",
       "    <tr>\n",
       "      <th>8</th>\n",
       "      <td>423A1CA112E2</td>\n",
       "      <td>1.622628e+12</td>\n",
       "      <td>1603.0</td>\n",
       "      <td>1890.0</td>\n",
       "      <td>If you go through a problem and you can't find...</td>\n",
       "      <td>Evidence</td>\n",
       "      <td>Evidence 5</td>\n",
       "      <td>297 298 299 300 301 302 303 304 305 306 307 30...</td>\n",
       "    </tr>\n",
       "    <tr>\n",
       "      <th>9</th>\n",
       "      <td>423A1CA112E2</td>\n",
       "      <td>1.622628e+12</td>\n",
       "      <td>1891.0</td>\n",
       "      <td>2027.0</td>\n",
       "      <td>The news always updated when people do somethi...</td>\n",
       "      <td>Concluding Statement</td>\n",
       "      <td>Concluding Statement 1</td>\n",
       "      <td>355 356 357 358 359 360 361 362 363 364 365 36...</td>\n",
       "    </tr>\n",
       "  </tbody>\n",
       "</table>\n",
       "</div>"
      ],
      "text/plain": [
       "             id  discourse_id  discourse_start  discourse_end  \\\n",
       "0  423A1CA112E2  1.622628e+12              8.0          229.0   \n",
       "1  423A1CA112E2  1.622628e+12            230.0          312.0   \n",
       "2  423A1CA112E2  1.622628e+12            313.0          401.0   \n",
       "3  423A1CA112E2  1.622628e+12            402.0          758.0   \n",
       "4  423A1CA112E2  1.622628e+12            759.0          886.0   \n",
       "5  423A1CA112E2  1.622628e+12            887.0         1150.0   \n",
       "6  423A1CA112E2  1.622628e+12           1151.0         1533.0   \n",
       "7  423A1CA112E2  1.622628e+12           1534.0         1602.0   \n",
       "8  423A1CA112E2  1.622628e+12           1603.0         1890.0   \n",
       "9  423A1CA112E2  1.622628e+12           1891.0         2027.0   \n",
       "\n",
       "                                      discourse_text        discourse_type  \\\n",
       "0  Modern humans today are always on their phone....                  Lead   \n",
       "1  They are some really bad consequences when stu...              Position   \n",
       "2  Some certain areas in the United States ban ph...              Evidence   \n",
       "3  When people have phones, they know about certa...              Evidence   \n",
       "4  Driving is one of the way how to get around. P...                 Claim   \n",
       "5  That's why there's a thing that's called no te...              Evidence   \n",
       "6  Sometimes on the news there is either an accid...              Evidence   \n",
       "7  Phones are fine to use and it's also the best ...                 Claim   \n",
       "8  If you go through a problem and you can't find...              Evidence   \n",
       "9  The news always updated when people do somethi...  Concluding Statement   \n",
       "\n",
       "       discourse_type_num                                   predictionstring  \n",
       "0                  Lead 1  1 2 3 4 5 6 7 8 9 10 11 12 13 14 15 16 17 18 1...  \n",
       "1              Position 1       45 46 47 48 49 50 51 52 53 54 55 56 57 58 59  \n",
       "2              Evidence 1    60 61 62 63 64 65 66 67 68 69 70 71 72 73 74 75  \n",
       "3              Evidence 2  76 77 78 79 80 81 82 83 84 85 86 87 88 89 90 9...  \n",
       "4                 Claim 1  139 140 141 142 143 144 145 146 147 148 149 15...  \n",
       "5              Evidence 3  163 164 165 166 167 168 169 170 171 172 173 17...  \n",
       "6              Evidence 4  211 212 213 214 215 216 217 218 219 220 221 22...  \n",
       "7                 Claim 2  282 283 284 285 286 287 288 289 290 291 292 29...  \n",
       "8              Evidence 5  297 298 299 300 301 302 303 304 305 306 307 30...  \n",
       "9  Concluding Statement 1  355 356 357 358 359 360 361 362 363 364 365 36...  "
      ]
     },
     "metadata": {},
     "output_type": "display_data"
    },
    {
     "data": {
      "text/html": [
       "<div>\n",
       "<style scoped>\n",
       "    .dataframe tbody tr th:only-of-type {\n",
       "        vertical-align: middle;\n",
       "    }\n",
       "\n",
       "    .dataframe tbody tr th {\n",
       "        vertical-align: top;\n",
       "    }\n",
       "\n",
       "    .dataframe thead th {\n",
       "        text-align: right;\n",
       "    }\n",
       "</style>\n",
       "<table border=\"1\" class=\"dataframe\">\n",
       "  <thead>\n",
       "    <tr style=\"text-align: right;\">\n",
       "      <th></th>\n",
       "      <th>id</th>\n",
       "      <th>discourse_id</th>\n",
       "      <th>discourse_start</th>\n",
       "      <th>discourse_end</th>\n",
       "      <th>discourse_text</th>\n",
       "      <th>discourse_type</th>\n",
       "      <th>discourse_type_num</th>\n",
       "      <th>predictionstring</th>\n",
       "    </tr>\n",
       "  </thead>\n",
       "  <tbody>\n",
       "    <tr>\n",
       "      <th>10</th>\n",
       "      <td>A8445CABFECE</td>\n",
       "      <td>1.622576e+12</td>\n",
       "      <td>18.0</td>\n",
       "      <td>85.0</td>\n",
       "      <td>Drivers should not be able to use phones while...</td>\n",
       "      <td>Position</td>\n",
       "      <td>Position 1</td>\n",
       "      <td>3 4 5 6 7 8 9 10 11 12 13 14</td>\n",
       "    </tr>\n",
       "    <tr>\n",
       "      <th>11</th>\n",
       "      <td>A8445CABFECE</td>\n",
       "      <td>1.622576e+12</td>\n",
       "      <td>86.0</td>\n",
       "      <td>202.0</td>\n",
       "      <td>Drivers who used their phone while operating a...</td>\n",
       "      <td>Claim</td>\n",
       "      <td>Claim 1</td>\n",
       "      <td>15 16 17 18 19 20 21 22 23 24 25 26 27 28 29 3...</td>\n",
       "    </tr>\n",
       "    <tr>\n",
       "      <th>12</th>\n",
       "      <td>A8445CABFECE</td>\n",
       "      <td>1.622576e+12</td>\n",
       "      <td>203.0</td>\n",
       "      <td>1030.0</td>\n",
       "      <td>According to an article by the Edgar Snyder Fi...</td>\n",
       "      <td>Evidence</td>\n",
       "      <td>Evidence 1</td>\n",
       "      <td>36 37 38 39 40 41 42 43 44 45 46 47 48 49 50 5...</td>\n",
       "    </tr>\n",
       "    <tr>\n",
       "      <th>13</th>\n",
       "      <td>A8445CABFECE</td>\n",
       "      <td>1.622576e+12</td>\n",
       "      <td>1031.0</td>\n",
       "      <td>1243.0</td>\n",
       "      <td>In conclusion, drivers should not able to work...</td>\n",
       "      <td>Concluding Statement</td>\n",
       "      <td>Concluding Statement 1</td>\n",
       "      <td>177 178 179 180 181 182 183 184 185 186 187 18...</td>\n",
       "    </tr>\n",
       "  </tbody>\n",
       "</table>\n",
       "</div>"
      ],
      "text/plain": [
       "              id  discourse_id  discourse_start  discourse_end  \\\n",
       "10  A8445CABFECE  1.622576e+12             18.0           85.0   \n",
       "11  A8445CABFECE  1.622576e+12             86.0          202.0   \n",
       "12  A8445CABFECE  1.622576e+12            203.0         1030.0   \n",
       "13  A8445CABFECE  1.622576e+12           1031.0         1243.0   \n",
       "\n",
       "                                       discourse_text        discourse_type  \\\n",
       "10  Drivers should not be able to use phones while...              Position   \n",
       "11  Drivers who used their phone while operating a...                 Claim   \n",
       "12  According to an article by the Edgar Snyder Fi...              Evidence   \n",
       "13  In conclusion, drivers should not able to work...  Concluding Statement   \n",
       "\n",
       "        discourse_type_num                                   predictionstring  \n",
       "10              Position 1                       3 4 5 6 7 8 9 10 11 12 13 14  \n",
       "11                 Claim 1  15 16 17 18 19 20 21 22 23 24 25 26 27 28 29 3...  \n",
       "12              Evidence 1  36 37 38 39 40 41 42 43 44 45 46 47 48 49 50 5...  \n",
       "13  Concluding Statement 1  177 178 179 180 181 182 183 184 185 186 187 18...  "
      ]
     },
     "metadata": {},
     "output_type": "display_data"
    },
    {
     "data": {
      "text/html": [
       "<div>\n",
       "<style scoped>\n",
       "    .dataframe tbody tr th:only-of-type {\n",
       "        vertical-align: middle;\n",
       "    }\n",
       "\n",
       "    .dataframe tbody tr th {\n",
       "        vertical-align: top;\n",
       "    }\n",
       "\n",
       "    .dataframe thead th {\n",
       "        text-align: right;\n",
       "    }\n",
       "</style>\n",
       "<table border=\"1\" class=\"dataframe\">\n",
       "  <thead>\n",
       "    <tr style=\"text-align: right;\">\n",
       "      <th></th>\n",
       "      <th>id</th>\n",
       "      <th>discourse_id</th>\n",
       "      <th>discourse_start</th>\n",
       "      <th>discourse_end</th>\n",
       "      <th>discourse_text</th>\n",
       "      <th>discourse_type</th>\n",
       "      <th>discourse_type_num</th>\n",
       "      <th>predictionstring</th>\n",
       "    </tr>\n",
       "  </thead>\n",
       "  <tbody>\n",
       "    <tr>\n",
       "      <th>14</th>\n",
       "      <td>6B4F7A0165B9</td>\n",
       "      <td>1.622644e+12</td>\n",
       "      <td>36.0</td>\n",
       "      <td>512.0</td>\n",
       "      <td>The ability to stay connected to people we kno...</td>\n",
       "      <td>Lead</td>\n",
       "      <td>Lead 1</td>\n",
       "      <td>5 6 7 8 9 10 11 12 13 14 15 16 17 18 19 20 21 ...</td>\n",
       "    </tr>\n",
       "    <tr>\n",
       "      <th>15</th>\n",
       "      <td>6B4F7A0165B9</td>\n",
       "      <td>1.622644e+12</td>\n",
       "      <td>513.0</td>\n",
       "      <td>593.0</td>\n",
       "      <td>However, this device is taken to areas that i...</td>\n",
       "      <td>Position</td>\n",
       "      <td>Position 1</td>\n",
       "      <td>92 93 94 95 96 97 98 99 100 101 102 103 104</td>\n",
       "    </tr>\n",
       "    <tr>\n",
       "      <th>16</th>\n",
       "      <td>6B4F7A0165B9</td>\n",
       "      <td>1.622644e+12</td>\n",
       "      <td>594.0</td>\n",
       "      <td>726.0</td>\n",
       "      <td>Within a vehicle capable of traveling upwards ...</td>\n",
       "      <td>Claim</td>\n",
       "      <td>Claim 1</td>\n",
       "      <td>105 106 107 108 109 110 111 112 113 114 115 11...</td>\n",
       "    </tr>\n",
       "    <tr>\n",
       "      <th>17</th>\n",
       "      <td>6B4F7A0165B9</td>\n",
       "      <td>1.622644e+12</td>\n",
       "      <td>727.0</td>\n",
       "      <td>1244.0</td>\n",
       "      <td>The most common of these distractions is a cel...</td>\n",
       "      <td>Evidence</td>\n",
       "      <td>Evidence 1</td>\n",
       "      <td>125 126 127 128 129 130 131 132 133 134 135 13...</td>\n",
       "    </tr>\n",
       "    <tr>\n",
       "      <th>18</th>\n",
       "      <td>6B4F7A0165B9</td>\n",
       "      <td>1.622644e+12</td>\n",
       "      <td>1245.0</td>\n",
       "      <td>1439.0</td>\n",
       "      <td>Conversely people may believe that laws in pre...</td>\n",
       "      <td>Counterclaim</td>\n",
       "      <td>Counterclaim 1</td>\n",
       "      <td>221 222 223 224 225 226 227 228 229 230 231 23...</td>\n",
       "    </tr>\n",
       "    <tr>\n",
       "      <th>19</th>\n",
       "      <td>6B4F7A0165B9</td>\n",
       "      <td>1.622644e+12</td>\n",
       "      <td>1440.0</td>\n",
       "      <td>1681.0</td>\n",
       "      <td>The problem becomes apparent that this is a se...</td>\n",
       "      <td>Rebuttal</td>\n",
       "      <td>Rebuttal 1</td>\n",
       "      <td>254 255 256 257 258 259 260 261 262 263 264 26...</td>\n",
       "    </tr>\n",
       "    <tr>\n",
       "      <th>20</th>\n",
       "      <td>6B4F7A0165B9</td>\n",
       "      <td>1.622644e+12</td>\n",
       "      <td>1682.0</td>\n",
       "      <td>1906.0</td>\n",
       "      <td>The creation of telecommunication devices was ...</td>\n",
       "      <td>Concluding Statement</td>\n",
       "      <td>Concluding Statement 1</td>\n",
       "      <td>296 297 298 299 300 301 302 303 304 305 306 30...</td>\n",
       "    </tr>\n",
       "  </tbody>\n",
       "</table>\n",
       "</div>"
      ],
      "text/plain": [
       "              id  discourse_id  discourse_start  discourse_end  \\\n",
       "14  6B4F7A0165B9  1.622644e+12             36.0          512.0   \n",
       "15  6B4F7A0165B9  1.622644e+12            513.0          593.0   \n",
       "16  6B4F7A0165B9  1.622644e+12            594.0          726.0   \n",
       "17  6B4F7A0165B9  1.622644e+12            727.0         1244.0   \n",
       "18  6B4F7A0165B9  1.622644e+12           1245.0         1439.0   \n",
       "19  6B4F7A0165B9  1.622644e+12           1440.0         1681.0   \n",
       "20  6B4F7A0165B9  1.622644e+12           1682.0         1906.0   \n",
       "\n",
       "                                       discourse_text        discourse_type  \\\n",
       "14  The ability to stay connected to people we kno...                  Lead   \n",
       "15   However, this device is taken to areas that i...              Position   \n",
       "16  Within a vehicle capable of traveling upwards ...                 Claim   \n",
       "17  The most common of these distractions is a cel...              Evidence   \n",
       "18  Conversely people may believe that laws in pre...          Counterclaim   \n",
       "19  The problem becomes apparent that this is a se...              Rebuttal   \n",
       "20  The creation of telecommunication devices was ...  Concluding Statement   \n",
       "\n",
       "        discourse_type_num                                   predictionstring  \n",
       "14                  Lead 1  5 6 7 8 9 10 11 12 13 14 15 16 17 18 19 20 21 ...  \n",
       "15              Position 1        92 93 94 95 96 97 98 99 100 101 102 103 104  \n",
       "16                 Claim 1  105 106 107 108 109 110 111 112 113 114 115 11...  \n",
       "17              Evidence 1  125 126 127 128 129 130 131 132 133 134 135 13...  \n",
       "18          Counterclaim 1  221 222 223 224 225 226 227 228 229 230 231 23...  \n",
       "19              Rebuttal 1  254 255 256 257 258 259 260 261 262 263 264 26...  \n",
       "20  Concluding Statement 1  296 297 298 299 300 301 302 303 304 305 306 30...  "
      ]
     },
     "metadata": {},
     "output_type": "display_data"
    },
    {
     "data": {
      "text/html": [
       "<div>\n",
       "<style scoped>\n",
       "    .dataframe tbody tr th:only-of-type {\n",
       "        vertical-align: middle;\n",
       "    }\n",
       "\n",
       "    .dataframe tbody tr th {\n",
       "        vertical-align: top;\n",
       "    }\n",
       "\n",
       "    .dataframe thead th {\n",
       "        text-align: right;\n",
       "    }\n",
       "</style>\n",
       "<table border=\"1\" class=\"dataframe\">\n",
       "  <thead>\n",
       "    <tr style=\"text-align: right;\">\n",
       "      <th></th>\n",
       "      <th>id</th>\n",
       "      <th>discourse_id</th>\n",
       "      <th>discourse_start</th>\n",
       "      <th>discourse_end</th>\n",
       "      <th>discourse_text</th>\n",
       "      <th>discourse_type</th>\n",
       "      <th>discourse_type_num</th>\n",
       "      <th>predictionstring</th>\n",
       "    </tr>\n",
       "  </thead>\n",
       "  <tbody>\n",
       "    <tr>\n",
       "      <th>21</th>\n",
       "      <td>E05C7F5C1156</td>\n",
       "      <td>1.622838e+12</td>\n",
       "      <td>0.0</td>\n",
       "      <td>455.0</td>\n",
       "      <td>People are debating whether if drivers should ...</td>\n",
       "      <td>Lead</td>\n",
       "      <td>Lead 1</td>\n",
       "      <td>0 1 2 3 4 5 6 7 8 9 10 11 12 13 14 15 16 17 18...</td>\n",
       "    </tr>\n",
       "    <tr>\n",
       "      <th>22</th>\n",
       "      <td>E05C7F5C1156</td>\n",
       "      <td>1.622838e+12</td>\n",
       "      <td>455.0</td>\n",
       "      <td>527.0</td>\n",
       "      <td>I also think that you shouldn't use your phone...</td>\n",
       "      <td>Position</td>\n",
       "      <td>Position 1</td>\n",
       "      <td>77 78 79 80 81 82 83 84 85 86 87 88 89</td>\n",
       "    </tr>\n",
       "    <tr>\n",
       "      <th>23</th>\n",
       "      <td>E05C7F5C1156</td>\n",
       "      <td>1.622838e+12</td>\n",
       "      <td>528.0</td>\n",
       "      <td>568.0</td>\n",
       "      <td>because it can cause vehicle collisions</td>\n",
       "      <td>Claim</td>\n",
       "      <td>Claim 1</td>\n",
       "      <td>90 91 92 93 94 95</td>\n",
       "    </tr>\n",
       "    <tr>\n",
       "      <th>24</th>\n",
       "      <td>E05C7F5C1156</td>\n",
       "      <td>1.622838e+12</td>\n",
       "      <td>569.0</td>\n",
       "      <td>588.0</td>\n",
       "      <td>slow reaction time,</td>\n",
       "      <td>Claim</td>\n",
       "      <td>Claim 2</td>\n",
       "      <td>96 97 98</td>\n",
       "    </tr>\n",
       "    <tr>\n",
       "      <th>25</th>\n",
       "      <td>E05C7F5C1156</td>\n",
       "      <td>1.622838e+12</td>\n",
       "      <td>589.0</td>\n",
       "      <td>609.0</td>\n",
       "      <td>and fatal injuries.</td>\n",
       "      <td>Claim</td>\n",
       "      <td>Claim 3</td>\n",
       "      <td>99 100 101</td>\n",
       "    </tr>\n",
       "    <tr>\n",
       "      <th>26</th>\n",
       "      <td>E05C7F5C1156</td>\n",
       "      <td>1.622838e+12</td>\n",
       "      <td>782.0</td>\n",
       "      <td>937.0</td>\n",
       "      <td>\\nThe first reason why the use of cell phones ...</td>\n",
       "      <td>Claim</td>\n",
       "      <td>Claim 4</td>\n",
       "      <td>133 134 135 136 137 138 139 140 141 142 143 14...</td>\n",
       "    </tr>\n",
       "    <tr>\n",
       "      <th>27</th>\n",
       "      <td>E05C7F5C1156</td>\n",
       "      <td>1.622838e+12</td>\n",
       "      <td>937.0</td>\n",
       "      <td>1403.0</td>\n",
       "      <td>Most vehicle collisions happen when the drive...</td>\n",
       "      <td>Evidence</td>\n",
       "      <td>Evidence 1</td>\n",
       "      <td>158 159 160 161 162 163 164 165 166 167 168 16...</td>\n",
       "    </tr>\n",
       "    <tr>\n",
       "      <th>28</th>\n",
       "      <td>E05C7F5C1156</td>\n",
       "      <td>1.622838e+12</td>\n",
       "      <td>1404.0</td>\n",
       "      <td>1506.0</td>\n",
       "      <td>The second reason why you shouldn't operate a ...</td>\n",
       "      <td>Claim</td>\n",
       "      <td>Claim 5</td>\n",
       "      <td>234 235 236 237 238 239 240 241 242 243 244 24...</td>\n",
       "    </tr>\n",
       "    <tr>\n",
       "      <th>29</th>\n",
       "      <td>E05C7F5C1156</td>\n",
       "      <td>1.622838e+12</td>\n",
       "      <td>1507.0</td>\n",
       "      <td>2042.0</td>\n",
       "      <td>Reaction time is the measure of how quickly an...</td>\n",
       "      <td>Evidence</td>\n",
       "      <td>Evidence 2</td>\n",
       "      <td>251 252 253 254 255 256 257 258 259 260 261 26...</td>\n",
       "    </tr>\n",
       "    <tr>\n",
       "      <th>30</th>\n",
       "      <td>E05C7F5C1156</td>\n",
       "      <td>1.622838e+12</td>\n",
       "      <td>2043.0</td>\n",
       "      <td>2188.0</td>\n",
       "      <td>The last reason you shouldn't drive while usin...</td>\n",
       "      <td>Claim</td>\n",
       "      <td>Claim 6</td>\n",
       "      <td>345 346 347 348 349 350 351 352 353 354 355 35...</td>\n",
       "    </tr>\n",
       "    <tr>\n",
       "      <th>31</th>\n",
       "      <td>E05C7F5C1156</td>\n",
       "      <td>1.622838e+12</td>\n",
       "      <td>2188.0</td>\n",
       "      <td>2877.0</td>\n",
       "      <td>The affects can be physical, emotional, or psy...</td>\n",
       "      <td>Evidence</td>\n",
       "      <td>Evidence 3</td>\n",
       "      <td>368 369 370 371 372 373 374 375 376 377 378 37...</td>\n",
       "    </tr>\n",
       "    <tr>\n",
       "      <th>32</th>\n",
       "      <td>E05C7F5C1156</td>\n",
       "      <td>1.622839e+12</td>\n",
       "      <td>2878.0</td>\n",
       "      <td>3513.0</td>\n",
       "      <td>In conclusion, people shouldn't use cellphones...</td>\n",
       "      <td>Concluding Statement</td>\n",
       "      <td>Concluding Statement 1</td>\n",
       "      <td>478 479 480 481 482 483 484 485 486 487 488 48...</td>\n",
       "    </tr>\n",
       "  </tbody>\n",
       "</table>\n",
       "</div>"
      ],
      "text/plain": [
       "              id  discourse_id  discourse_start  discourse_end  \\\n",
       "21  E05C7F5C1156  1.622838e+12              0.0          455.0   \n",
       "22  E05C7F5C1156  1.622838e+12            455.0          527.0   \n",
       "23  E05C7F5C1156  1.622838e+12            528.0          568.0   \n",
       "24  E05C7F5C1156  1.622838e+12            569.0          588.0   \n",
       "25  E05C7F5C1156  1.622838e+12            589.0          609.0   \n",
       "26  E05C7F5C1156  1.622838e+12            782.0          937.0   \n",
       "27  E05C7F5C1156  1.622838e+12            937.0         1403.0   \n",
       "28  E05C7F5C1156  1.622838e+12           1404.0         1506.0   \n",
       "29  E05C7F5C1156  1.622838e+12           1507.0         2042.0   \n",
       "30  E05C7F5C1156  1.622838e+12           2043.0         2188.0   \n",
       "31  E05C7F5C1156  1.622838e+12           2188.0         2877.0   \n",
       "32  E05C7F5C1156  1.622839e+12           2878.0         3513.0   \n",
       "\n",
       "                                       discourse_text        discourse_type  \\\n",
       "21  People are debating whether if drivers should ...                  Lead   \n",
       "22  I also think that you shouldn't use your phone...              Position   \n",
       "23           because it can cause vehicle collisions                  Claim   \n",
       "24                                slow reaction time,                 Claim   \n",
       "25                               and fatal injuries.                  Claim   \n",
       "26  \\nThe first reason why the use of cell phones ...                 Claim   \n",
       "27   Most vehicle collisions happen when the drive...              Evidence   \n",
       "28  The second reason why you shouldn't operate a ...                 Claim   \n",
       "29  Reaction time is the measure of how quickly an...              Evidence   \n",
       "30  The last reason you shouldn't drive while usin...                 Claim   \n",
       "31  The affects can be physical, emotional, or psy...              Evidence   \n",
       "32  In conclusion, people shouldn't use cellphones...  Concluding Statement   \n",
       "\n",
       "        discourse_type_num                                   predictionstring  \n",
       "21                  Lead 1  0 1 2 3 4 5 6 7 8 9 10 11 12 13 14 15 16 17 18...  \n",
       "22              Position 1             77 78 79 80 81 82 83 84 85 86 87 88 89  \n",
       "23                 Claim 1                                  90 91 92 93 94 95  \n",
       "24                 Claim 2                                           96 97 98  \n",
       "25                 Claim 3                                         99 100 101  \n",
       "26                 Claim 4  133 134 135 136 137 138 139 140 141 142 143 14...  \n",
       "27              Evidence 1  158 159 160 161 162 163 164 165 166 167 168 16...  \n",
       "28                 Claim 5  234 235 236 237 238 239 240 241 242 243 244 24...  \n",
       "29              Evidence 2  251 252 253 254 255 256 257 258 259 260 261 26...  \n",
       "30                 Claim 6  345 346 347 348 349 350 351 352 353 354 355 35...  \n",
       "31              Evidence 3  368 369 370 371 372 373 374 375 376 377 378 37...  \n",
       "32  Concluding Statement 1  478 479 480 481 482 483 484 485 486 487 488 48...  "
      ]
     },
     "metadata": {},
     "output_type": "display_data"
    },
    {
     "data": {
      "text/html": [
       "<div>\n",
       "<style scoped>\n",
       "    .dataframe tbody tr th:only-of-type {\n",
       "        vertical-align: middle;\n",
       "    }\n",
       "\n",
       "    .dataframe tbody tr th {\n",
       "        vertical-align: top;\n",
       "    }\n",
       "\n",
       "    .dataframe thead th {\n",
       "        text-align: right;\n",
       "    }\n",
       "</style>\n",
       "<table border=\"1\" class=\"dataframe\">\n",
       "  <thead>\n",
       "    <tr style=\"text-align: right;\">\n",
       "      <th></th>\n",
       "      <th>id</th>\n",
       "      <th>discourse_id</th>\n",
       "      <th>discourse_start</th>\n",
       "      <th>discourse_end</th>\n",
       "      <th>discourse_text</th>\n",
       "      <th>discourse_type</th>\n",
       "      <th>discourse_type_num</th>\n",
       "      <th>predictionstring</th>\n",
       "    </tr>\n",
       "  </thead>\n",
       "  <tbody>\n",
       "    <tr>\n",
       "      <th>33</th>\n",
       "      <td>50B3435E475B</td>\n",
       "      <td>1.622645e+12</td>\n",
       "      <td>21.0</td>\n",
       "      <td>379.0</td>\n",
       "      <td>Over half of drivers in today's society have t...</td>\n",
       "      <td>Lead</td>\n",
       "      <td>Lead 1</td>\n",
       "      <td>3 4 5 6 7 8 9 10 11 12 13 14 15 16 17 18 19 20...</td>\n",
       "    </tr>\n",
       "    <tr>\n",
       "      <th>34</th>\n",
       "      <td>50B3435E475B</td>\n",
       "      <td>1.622645e+12</td>\n",
       "      <td>380.0</td>\n",
       "      <td>460.0</td>\n",
       "      <td>I strongly feel that texting and driving is da...</td>\n",
       "      <td>Position</td>\n",
       "      <td>Position 1</td>\n",
       "      <td>63 64 65 66 67 68 69 70 71 72 73 74 75</td>\n",
       "    </tr>\n",
       "    <tr>\n",
       "      <th>35</th>\n",
       "      <td>50B3435E475B</td>\n",
       "      <td>1.622645e+12</td>\n",
       "      <td>461.0</td>\n",
       "      <td>540.0</td>\n",
       "      <td>Diving more into detail, texting and driving i...</td>\n",
       "      <td>Claim</td>\n",
       "      <td>Claim 1</td>\n",
       "      <td>76 77 78 79 80 81 82 83 84 85 86 87</td>\n",
       "    </tr>\n",
       "    <tr>\n",
       "      <th>36</th>\n",
       "      <td>50B3435E475B</td>\n",
       "      <td>1.622645e+12</td>\n",
       "      <td>541.0</td>\n",
       "      <td>954.0</td>\n",
       "      <td>Just imagine you're on the road driving to you...</td>\n",
       "      <td>Evidence</td>\n",
       "      <td>Evidence 1</td>\n",
       "      <td>88 89 90 91 92 93 94 95 96 97 98 99 100 101 10...</td>\n",
       "    </tr>\n",
       "    <tr>\n",
       "      <th>37</th>\n",
       "      <td>50B3435E475B</td>\n",
       "      <td>1.622645e+12</td>\n",
       "      <td>955.0</td>\n",
       "      <td>1051.0</td>\n",
       "      <td>The cost of a life shouldn't be worth a text m...</td>\n",
       "      <td>Claim</td>\n",
       "      <td>Claim 2</td>\n",
       "      <td>162 163 164 165 166 167 168 169 170 171 172 17...</td>\n",
       "    </tr>\n",
       "    <tr>\n",
       "      <th>38</th>\n",
       "      <td>50B3435E475B</td>\n",
       "      <td>1.622645e+12</td>\n",
       "      <td>1052.0</td>\n",
       "      <td>1529.0</td>\n",
       "      <td>Texting and driving has taken many lives. In a...</td>\n",
       "      <td>Evidence</td>\n",
       "      <td>Evidence 2</td>\n",
       "      <td>179 180 181 182 183 184 185 186 187 188 189 19...</td>\n",
       "    </tr>\n",
       "    <tr>\n",
       "      <th>39</th>\n",
       "      <td>50B3435E475B</td>\n",
       "      <td>1.622645e+12</td>\n",
       "      <td>1530.0</td>\n",
       "      <td>1603.0</td>\n",
       "      <td>Luckily the government has enforced a brand ne...</td>\n",
       "      <td>Claim</td>\n",
       "      <td>Claim 3</td>\n",
       "      <td>260 261 262 263 264 265 266 267 268 269 270 271</td>\n",
       "    </tr>\n",
       "    <tr>\n",
       "      <th>40</th>\n",
       "      <td>50B3435E475B</td>\n",
       "      <td>1.622645e+12</td>\n",
       "      <td>1604.0</td>\n",
       "      <td>1913.0</td>\n",
       "      <td>This law states Drivers cannot have a phone in...</td>\n",
       "      <td>Evidence</td>\n",
       "      <td>Evidence 3</td>\n",
       "      <td>272 273 274 275 276 277 278 279 280 281 282 28...</td>\n",
       "    </tr>\n",
       "    <tr>\n",
       "      <th>41</th>\n",
       "      <td>50B3435E475B</td>\n",
       "      <td>1.622645e+12</td>\n",
       "      <td>1914.0</td>\n",
       "      <td>2047.0</td>\n",
       "      <td>Over all texting and driving is dangerous, has...</td>\n",
       "      <td>Concluding Statement</td>\n",
       "      <td>Concluding Statement 1</td>\n",
       "      <td>328 329 330 331 332 333 334 335 336 337 338 33...</td>\n",
       "    </tr>\n",
       "  </tbody>\n",
       "</table>\n",
       "</div>"
      ],
      "text/plain": [
       "              id  discourse_id  discourse_start  discourse_end  \\\n",
       "33  50B3435E475B  1.622645e+12             21.0          379.0   \n",
       "34  50B3435E475B  1.622645e+12            380.0          460.0   \n",
       "35  50B3435E475B  1.622645e+12            461.0          540.0   \n",
       "36  50B3435E475B  1.622645e+12            541.0          954.0   \n",
       "37  50B3435E475B  1.622645e+12            955.0         1051.0   \n",
       "38  50B3435E475B  1.622645e+12           1052.0         1529.0   \n",
       "39  50B3435E475B  1.622645e+12           1530.0         1603.0   \n",
       "40  50B3435E475B  1.622645e+12           1604.0         1913.0   \n",
       "41  50B3435E475B  1.622645e+12           1914.0         2047.0   \n",
       "\n",
       "                                       discourse_text        discourse_type  \\\n",
       "33  Over half of drivers in today's society have t...                  Lead   \n",
       "34  I strongly feel that texting and driving is da...              Position   \n",
       "35  Diving more into detail, texting and driving i...                 Claim   \n",
       "36  Just imagine you're on the road driving to you...              Evidence   \n",
       "37  The cost of a life shouldn't be worth a text m...                 Claim   \n",
       "38  Texting and driving has taken many lives. In a...              Evidence   \n",
       "39  Luckily the government has enforced a brand ne...                 Claim   \n",
       "40  This law states Drivers cannot have a phone in...              Evidence   \n",
       "41  Over all texting and driving is dangerous, has...  Concluding Statement   \n",
       "\n",
       "        discourse_type_num                                   predictionstring  \n",
       "33                  Lead 1  3 4 5 6 7 8 9 10 11 12 13 14 15 16 17 18 19 20...  \n",
       "34              Position 1             63 64 65 66 67 68 69 70 71 72 73 74 75  \n",
       "35                 Claim 1                76 77 78 79 80 81 82 83 84 85 86 87  \n",
       "36              Evidence 1  88 89 90 91 92 93 94 95 96 97 98 99 100 101 10...  \n",
       "37                 Claim 2  162 163 164 165 166 167 168 169 170 171 172 17...  \n",
       "38              Evidence 2  179 180 181 182 183 184 185 186 187 188 189 19...  \n",
       "39                 Claim 3    260 261 262 263 264 265 266 267 268 269 270 271  \n",
       "40              Evidence 3  272 273 274 275 276 277 278 279 280 281 282 28...  \n",
       "41  Concluding Statement 1  328 329 330 331 332 333 334 335 336 337 338 33...  "
      ]
     },
     "metadata": {},
     "output_type": "display_data"
    },
    {
     "data": {
      "text/html": [
       "<div>\n",
       "<style scoped>\n",
       "    .dataframe tbody tr th:only-of-type {\n",
       "        vertical-align: middle;\n",
       "    }\n",
       "\n",
       "    .dataframe tbody tr th {\n",
       "        vertical-align: top;\n",
       "    }\n",
       "\n",
       "    .dataframe thead th {\n",
       "        text-align: right;\n",
       "    }\n",
       "</style>\n",
       "<table border=\"1\" class=\"dataframe\">\n",
       "  <thead>\n",
       "    <tr style=\"text-align: right;\">\n",
       "      <th></th>\n",
       "      <th>id</th>\n",
       "      <th>discourse_id</th>\n",
       "      <th>discourse_start</th>\n",
       "      <th>discourse_end</th>\n",
       "      <th>discourse_text</th>\n",
       "      <th>discourse_type</th>\n",
       "      <th>discourse_type_num</th>\n",
       "      <th>predictionstring</th>\n",
       "    </tr>\n",
       "  </thead>\n",
       "  <tbody>\n",
       "    <tr>\n",
       "      <th>42</th>\n",
       "      <td>DBF7EB6A9E02</td>\n",
       "      <td>1.622489e+12</td>\n",
       "      <td>52.0</td>\n",
       "      <td>200.0</td>\n",
       "      <td>Being on your device and driving could be an o...</td>\n",
       "      <td>Lead</td>\n",
       "      <td>Lead 1</td>\n",
       "      <td>9 10 11 12 13 14 15 16 17 18 19 20 21 22 23 24...</td>\n",
       "    </tr>\n",
       "    <tr>\n",
       "      <th>43</th>\n",
       "      <td>DBF7EB6A9E02</td>\n",
       "      <td>1.622489e+12</td>\n",
       "      <td>200.0</td>\n",
       "      <td>244.0</td>\n",
       "      <td>It could lead to accidents and altercations.</td>\n",
       "      <td>Claim</td>\n",
       "      <td>Claim 1</td>\n",
       "      <td>35 36 37 38 39 40 41</td>\n",
       "    </tr>\n",
       "    <tr>\n",
       "      <th>44</th>\n",
       "      <td>DBF7EB6A9E02</td>\n",
       "      <td>1.622489e+12</td>\n",
       "      <td>245.0</td>\n",
       "      <td>294.0</td>\n",
       "      <td>In addition it would even cost you your licences.</td>\n",
       "      <td>Claim</td>\n",
       "      <td>Claim 2</td>\n",
       "      <td>42 43 44 45 46 47 48 49 50</td>\n",
       "    </tr>\n",
       "    <tr>\n",
       "      <th>45</th>\n",
       "      <td>DBF7EB6A9E02</td>\n",
       "      <td>1.622490e+12</td>\n",
       "      <td>295.0</td>\n",
       "      <td>334.0</td>\n",
       "      <td>The most detrimental outcome is death.</td>\n",
       "      <td>Claim</td>\n",
       "      <td>Claim 3</td>\n",
       "      <td>51 52 53 54 55 56</td>\n",
       "    </tr>\n",
       "    <tr>\n",
       "      <th>46</th>\n",
       "      <td>DBF7EB6A9E02</td>\n",
       "      <td>1.622489e+12</td>\n",
       "      <td>418.0</td>\n",
       "      <td>515.0</td>\n",
       "      <td>. Drivers should not be able to use cell phone...</td>\n",
       "      <td>Position</td>\n",
       "      <td>Position 1</td>\n",
       "      <td>73 74 75 76 77 78 79 80 81 82 83 84 85 86 87 8...</td>\n",
       "    </tr>\n",
       "    <tr>\n",
       "      <th>47</th>\n",
       "      <td>DBF7EB6A9E02</td>\n",
       "      <td>1.622489e+12</td>\n",
       "      <td>516.0</td>\n",
       "      <td>590.0</td>\n",
       "      <td>One leading cause to motor vehicle accidents i...</td>\n",
       "      <td>Claim</td>\n",
       "      <td>Claim 4</td>\n",
       "      <td>90 91 92 93 94 95 96 97 98 99 100 101 102</td>\n",
       "    </tr>\n",
       "    <tr>\n",
       "      <th>48</th>\n",
       "      <td>DBF7EB6A9E02</td>\n",
       "      <td>1.622490e+12</td>\n",
       "      <td>590.0</td>\n",
       "      <td>1152.0</td>\n",
       "      <td>It could lead to accidents and altercations. Y...</td>\n",
       "      <td>Evidence</td>\n",
       "      <td>Evidence 1</td>\n",
       "      <td>103 104 105 106 107 108 109 110 111 112 113 11...</td>\n",
       "    </tr>\n",
       "    <tr>\n",
       "      <th>49</th>\n",
       "      <td>DBF7EB6A9E02</td>\n",
       "      <td>1.622490e+12</td>\n",
       "      <td>1162.0</td>\n",
       "      <td>1219.0</td>\n",
       "      <td>another consequence could be having your lice...</td>\n",
       "      <td>Claim</td>\n",
       "      <td>Claim 5</td>\n",
       "      <td>206 207 208 209 210 211 212 213</td>\n",
       "    </tr>\n",
       "    <tr>\n",
       "      <th>50</th>\n",
       "      <td>DBF7EB6A9E02</td>\n",
       "      <td>1.622490e+12</td>\n",
       "      <td>1220.0</td>\n",
       "      <td>1706.0</td>\n",
       "      <td>When you have violated a driving law there wil...</td>\n",
       "      <td>Evidence</td>\n",
       "      <td>Evidence 2</td>\n",
       "      <td>214 215 216 217 218 219 220 221 222 223 224 22...</td>\n",
       "    </tr>\n",
       "    <tr>\n",
       "      <th>51</th>\n",
       "      <td>DBF7EB6A9E02</td>\n",
       "      <td>1.622490e+12</td>\n",
       "      <td>1718.0</td>\n",
       "      <td>1842.0</td>\n",
       "      <td>there is another cause to driving while being ...</td>\n",
       "      <td>Claim</td>\n",
       "      <td>Claim 6</td>\n",
       "      <td>304 305 306 307 308 309 310 311 312 313 314 31...</td>\n",
       "    </tr>\n",
       "    <tr>\n",
       "      <th>52</th>\n",
       "      <td>DBF7EB6A9E02</td>\n",
       "      <td>1.622490e+12</td>\n",
       "      <td>1843.0</td>\n",
       "      <td>2443.0</td>\n",
       "      <td>Many people happen to pass away due to a motor...</td>\n",
       "      <td>Evidence</td>\n",
       "      <td>Evidence 3</td>\n",
       "      <td>325 326 327 328 329 330 331 332 333 334 335 33...</td>\n",
       "    </tr>\n",
       "    <tr>\n",
       "      <th>53</th>\n",
       "      <td>DBF7EB6A9E02</td>\n",
       "      <td>1.622490e+12</td>\n",
       "      <td>2444.0</td>\n",
       "      <td>2922.0</td>\n",
       "      <td>In conclusion, drivers should not be able to u...</td>\n",
       "      <td>Concluding Statement</td>\n",
       "      <td>Concluding Statement 1</td>\n",
       "      <td>438 439 440 441 442 443 444 445 446 447 448 44...</td>\n",
       "    </tr>\n",
       "  </tbody>\n",
       "</table>\n",
       "</div>"
      ],
      "text/plain": [
       "              id  discourse_id  discourse_start  discourse_end  \\\n",
       "42  DBF7EB6A9E02  1.622489e+12             52.0          200.0   \n",
       "43  DBF7EB6A9E02  1.622489e+12            200.0          244.0   \n",
       "44  DBF7EB6A9E02  1.622489e+12            245.0          294.0   \n",
       "45  DBF7EB6A9E02  1.622490e+12            295.0          334.0   \n",
       "46  DBF7EB6A9E02  1.622489e+12            418.0          515.0   \n",
       "47  DBF7EB6A9E02  1.622489e+12            516.0          590.0   \n",
       "48  DBF7EB6A9E02  1.622490e+12            590.0         1152.0   \n",
       "49  DBF7EB6A9E02  1.622490e+12           1162.0         1219.0   \n",
       "50  DBF7EB6A9E02  1.622490e+12           1220.0         1706.0   \n",
       "51  DBF7EB6A9E02  1.622490e+12           1718.0         1842.0   \n",
       "52  DBF7EB6A9E02  1.622490e+12           1843.0         2443.0   \n",
       "53  DBF7EB6A9E02  1.622490e+12           2444.0         2922.0   \n",
       "\n",
       "                                       discourse_text        discourse_type  \\\n",
       "42  Being on your device and driving could be an o...                  Lead   \n",
       "43       It could lead to accidents and altercations.                 Claim   \n",
       "44  In addition it would even cost you your licences.                 Claim   \n",
       "45            The most detrimental outcome is death.                  Claim   \n",
       "46  . Drivers should not be able to use cell phone...              Position   \n",
       "47  One leading cause to motor vehicle accidents i...                 Claim   \n",
       "48  It could lead to accidents and altercations. Y...              Evidence   \n",
       "49   another consequence could be having your lice...                 Claim   \n",
       "50  When you have violated a driving law there wil...              Evidence   \n",
       "51  there is another cause to driving while being ...                 Claim   \n",
       "52  Many people happen to pass away due to a motor...              Evidence   \n",
       "53  In conclusion, drivers should not be able to u...  Concluding Statement   \n",
       "\n",
       "        discourse_type_num                                   predictionstring  \n",
       "42                  Lead 1  9 10 11 12 13 14 15 16 17 18 19 20 21 22 23 24...  \n",
       "43                 Claim 1                               35 36 37 38 39 40 41  \n",
       "44                 Claim 2                         42 43 44 45 46 47 48 49 50  \n",
       "45                 Claim 3                                  51 52 53 54 55 56  \n",
       "46              Position 1  73 74 75 76 77 78 79 80 81 82 83 84 85 86 87 8...  \n",
       "47                 Claim 4          90 91 92 93 94 95 96 97 98 99 100 101 102  \n",
       "48              Evidence 1  103 104 105 106 107 108 109 110 111 112 113 11...  \n",
       "49                 Claim 5                    206 207 208 209 210 211 212 213  \n",
       "50              Evidence 2  214 215 216 217 218 219 220 221 222 223 224 22...  \n",
       "51                 Claim 6  304 305 306 307 308 309 310 311 312 313 314 31...  \n",
       "52              Evidence 3  325 326 327 328 329 330 331 332 333 334 335 33...  \n",
       "53  Concluding Statement 1  438 439 440 441 442 443 444 445 446 447 448 44...  "
      ]
     },
     "metadata": {},
     "output_type": "display_data"
    },
    {
     "data": {
      "text/html": [
       "<div>\n",
       "<style scoped>\n",
       "    .dataframe tbody tr th:only-of-type {\n",
       "        vertical-align: middle;\n",
       "    }\n",
       "\n",
       "    .dataframe tbody tr th {\n",
       "        vertical-align: top;\n",
       "    }\n",
       "\n",
       "    .dataframe thead th {\n",
       "        text-align: right;\n",
       "    }\n",
       "</style>\n",
       "<table border=\"1\" class=\"dataframe\">\n",
       "  <thead>\n",
       "    <tr style=\"text-align: right;\">\n",
       "      <th></th>\n",
       "      <th>id</th>\n",
       "      <th>discourse_id</th>\n",
       "      <th>discourse_start</th>\n",
       "      <th>discourse_end</th>\n",
       "      <th>discourse_text</th>\n",
       "      <th>discourse_type</th>\n",
       "      <th>discourse_type_num</th>\n",
       "      <th>predictionstring</th>\n",
       "    </tr>\n",
       "  </thead>\n",
       "  <tbody>\n",
       "    <tr>\n",
       "      <th>54</th>\n",
       "      <td>810B70E80E1D</td>\n",
       "      <td>1.622657e+12</td>\n",
       "      <td>24.0</td>\n",
       "      <td>86.0</td>\n",
       "      <td>I believe that drivers shouldn't use cell phon...</td>\n",
       "      <td>Position</td>\n",
       "      <td>Position 1</td>\n",
       "      <td>4 5 6 7 8 9 10 11 12 13</td>\n",
       "    </tr>\n",
       "    <tr>\n",
       "      <th>55</th>\n",
       "      <td>810B70E80E1D</td>\n",
       "      <td>1.622657e+12</td>\n",
       "      <td>95.0</td>\n",
       "      <td>287.0</td>\n",
       "      <td>it is an attention hazzard. Driving with your ...</td>\n",
       "      <td>Claim</td>\n",
       "      <td>Claim 1</td>\n",
       "      <td>15 16 17 18 19 20 21 22 23 24 25 26 27 28 29 3...</td>\n",
       "    </tr>\n",
       "    <tr>\n",
       "      <th>56</th>\n",
       "      <td>810B70E80E1D</td>\n",
       "      <td>1.622657e+12</td>\n",
       "      <td>295.0</td>\n",
       "      <td>368.0</td>\n",
       "      <td>there are apps and programs on the phones that...</td>\n",
       "      <td>Claim</td>\n",
       "      <td>Claim 2</td>\n",
       "      <td>51 52 53 54 55 56 57 58 59 60 61 62 63 64</td>\n",
       "    </tr>\n",
       "    <tr>\n",
       "      <th>57</th>\n",
       "      <td>810B70E80E1D</td>\n",
       "      <td>1.622657e+12</td>\n",
       "      <td>546.0</td>\n",
       "      <td>681.0</td>\n",
       "      <td>First and foremost, Driving without the phone ...</td>\n",
       "      <td>Claim</td>\n",
       "      <td>Claim 3</td>\n",
       "      <td>95 96 97 98 99 100 101 102 103 104 105 106 107...</td>\n",
       "    </tr>\n",
       "    <tr>\n",
       "      <th>58</th>\n",
       "      <td>810B70E80E1D</td>\n",
       "      <td>1.622657e+12</td>\n",
       "      <td>682.0</td>\n",
       "      <td>1008.0</td>\n",
       "      <td>Not only will it save you life and everyone el...</td>\n",
       "      <td>Evidence</td>\n",
       "      <td>Evidence 1</td>\n",
       "      <td>115 116 117 118 119 120 121 122 123 124 125 12...</td>\n",
       "    </tr>\n",
       "    <tr>\n",
       "      <th>59</th>\n",
       "      <td>810B70E80E1D</td>\n",
       "      <td>1.622657e+12</td>\n",
       "      <td>1009.0</td>\n",
       "      <td>1358.0</td>\n",
       "      <td>Furthermore, Driving while distracted can sign...</td>\n",
       "      <td>Evidence</td>\n",
       "      <td>Evidence 2</td>\n",
       "      <td>170 171 172 173 174 175 176 177 178 179 180 18...</td>\n",
       "    </tr>\n",
       "    <tr>\n",
       "      <th>60</th>\n",
       "      <td>810B70E80E1D</td>\n",
       "      <td>1.622657e+12</td>\n",
       "      <td>1359.0</td>\n",
       "      <td>1479.0</td>\n",
       "      <td>Finally, There are various things that have be...</td>\n",
       "      <td>Claim</td>\n",
       "      <td>Claim 4</td>\n",
       "      <td>229 230 231 232 233 234 235 236 237 238 239 24...</td>\n",
       "    </tr>\n",
       "    <tr>\n",
       "      <th>61</th>\n",
       "      <td>810B70E80E1D</td>\n",
       "      <td>1.622657e+12</td>\n",
       "      <td>1480.0</td>\n",
       "      <td>1944.0</td>\n",
       "      <td>For example apps and programs on the phones t...</td>\n",
       "      <td>Evidence</td>\n",
       "      <td>Evidence 3</td>\n",
       "      <td>250 251 252 253 254 255 256 257 258 259 260 26...</td>\n",
       "    </tr>\n",
       "    <tr>\n",
       "      <th>62</th>\n",
       "      <td>810B70E80E1D</td>\n",
       "      <td>1.622657e+12</td>\n",
       "      <td>1945.0</td>\n",
       "      <td>2577.0</td>\n",
       "      <td>In conclusion, Drivers shouldn't drive while u...</td>\n",
       "      <td>Concluding Statement</td>\n",
       "      <td>Concluding Statement 1</td>\n",
       "      <td>329 330 331 332 333 334 335 336 337 338 339 34...</td>\n",
       "    </tr>\n",
       "  </tbody>\n",
       "</table>\n",
       "</div>"
      ],
      "text/plain": [
       "              id  discourse_id  discourse_start  discourse_end  \\\n",
       "54  810B70E80E1D  1.622657e+12             24.0           86.0   \n",
       "55  810B70E80E1D  1.622657e+12             95.0          287.0   \n",
       "56  810B70E80E1D  1.622657e+12            295.0          368.0   \n",
       "57  810B70E80E1D  1.622657e+12            546.0          681.0   \n",
       "58  810B70E80E1D  1.622657e+12            682.0         1008.0   \n",
       "59  810B70E80E1D  1.622657e+12           1009.0         1358.0   \n",
       "60  810B70E80E1D  1.622657e+12           1359.0         1479.0   \n",
       "61  810B70E80E1D  1.622657e+12           1480.0         1944.0   \n",
       "62  810B70E80E1D  1.622657e+12           1945.0         2577.0   \n",
       "\n",
       "                                       discourse_text        discourse_type  \\\n",
       "54  I believe that drivers shouldn't use cell phon...              Position   \n",
       "55  it is an attention hazzard. Driving with your ...                 Claim   \n",
       "56  there are apps and programs on the phones that...                 Claim   \n",
       "57  First and foremost, Driving without the phone ...                 Claim   \n",
       "58  Not only will it save you life and everyone el...              Evidence   \n",
       "59  Furthermore, Driving while distracted can sign...              Evidence   \n",
       "60  Finally, There are various things that have be...                 Claim   \n",
       "61   For example apps and programs on the phones t...              Evidence   \n",
       "62  In conclusion, Drivers shouldn't drive while u...  Concluding Statement   \n",
       "\n",
       "        discourse_type_num                                   predictionstring  \n",
       "54              Position 1                            4 5 6 7 8 9 10 11 12 13  \n",
       "55                 Claim 1  15 16 17 18 19 20 21 22 23 24 25 26 27 28 29 3...  \n",
       "56                 Claim 2          51 52 53 54 55 56 57 58 59 60 61 62 63 64  \n",
       "57                 Claim 3  95 96 97 98 99 100 101 102 103 104 105 106 107...  \n",
       "58              Evidence 1  115 116 117 118 119 120 121 122 123 124 125 12...  \n",
       "59              Evidence 2  170 171 172 173 174 175 176 177 178 179 180 18...  \n",
       "60                 Claim 4  229 230 231 232 233 234 235 236 237 238 239 24...  \n",
       "61              Evidence 3  250 251 252 253 254 255 256 257 258 259 260 26...  \n",
       "62  Concluding Statement 1  329 330 331 332 333 334 335 336 337 338 339 34...  "
      ]
     },
     "metadata": {},
     "output_type": "display_data"
    },
    {
     "data": {
      "text/html": [
       "<div>\n",
       "<style scoped>\n",
       "    .dataframe tbody tr th:only-of-type {\n",
       "        vertical-align: middle;\n",
       "    }\n",
       "\n",
       "    .dataframe tbody tr th {\n",
       "        vertical-align: top;\n",
       "    }\n",
       "\n",
       "    .dataframe thead th {\n",
       "        text-align: right;\n",
       "    }\n",
       "</style>\n",
       "<table border=\"1\" class=\"dataframe\">\n",
       "  <thead>\n",
       "    <tr style=\"text-align: right;\">\n",
       "      <th></th>\n",
       "      <th>id</th>\n",
       "      <th>discourse_id</th>\n",
       "      <th>discourse_start</th>\n",
       "      <th>discourse_end</th>\n",
       "      <th>discourse_text</th>\n",
       "      <th>discourse_type</th>\n",
       "      <th>discourse_type_num</th>\n",
       "      <th>predictionstring</th>\n",
       "    </tr>\n",
       "  </thead>\n",
       "  <tbody>\n",
       "    <tr>\n",
       "      <th>63</th>\n",
       "      <td>CE98789F502B</td>\n",
       "      <td>1.622732e+12</td>\n",
       "      <td>0.0</td>\n",
       "      <td>429.0</td>\n",
       "      <td>Although cell phones have been around for quit...</td>\n",
       "      <td>Lead</td>\n",
       "      <td>Lead 1</td>\n",
       "      <td>0 1 2 3 4 5 6 7 8 9 10 11 12 13 14 15 16 17 18...</td>\n",
       "    </tr>\n",
       "    <tr>\n",
       "      <th>64</th>\n",
       "      <td>CE98789F502B</td>\n",
       "      <td>1.622732e+12</td>\n",
       "      <td>429.0</td>\n",
       "      <td>543.0</td>\n",
       "      <td>Using cellphones while driving can be extremel...</td>\n",
       "      <td>Position</td>\n",
       "      <td>Position 1</td>\n",
       "      <td>78 79 80 81 82 83 84 85 86 87 88 89 90 91 92 9...</td>\n",
       "    </tr>\n",
       "    <tr>\n",
       "      <th>65</th>\n",
       "      <td>CE98789F502B</td>\n",
       "      <td>1.622732e+12</td>\n",
       "      <td>544.0</td>\n",
       "      <td>724.0</td>\n",
       "      <td>When we are driving it can be exceedingly diff...</td>\n",
       "      <td>Claim</td>\n",
       "      <td>Claim 1</td>\n",
       "      <td>96 97 98 99 100 101 102 103 104 105 106 107 10...</td>\n",
       "    </tr>\n",
       "    <tr>\n",
       "      <th>66</th>\n",
       "      <td>CE98789F502B</td>\n",
       "      <td>1.622732e+12</td>\n",
       "      <td>725.0</td>\n",
       "      <td>1332.0</td>\n",
       "      <td>Other drivers take notice when drivers are on ...</td>\n",
       "      <td>Evidence</td>\n",
       "      <td>Evidence 1</td>\n",
       "      <td>129 130 131 132 133 134 135 136 137 138 139 14...</td>\n",
       "    </tr>\n",
       "    <tr>\n",
       "      <th>67</th>\n",
       "      <td>CE98789F502B</td>\n",
       "      <td>1.622732e+12</td>\n",
       "      <td>1333.0</td>\n",
       "      <td>1498.0</td>\n",
       "      <td>Everyday people die in car accidents because w...</td>\n",
       "      <td>Claim</td>\n",
       "      <td>Claim 2</td>\n",
       "      <td>240 241 242 243 244 245 246 247 248 249 250 25...</td>\n",
       "    </tr>\n",
       "    <tr>\n",
       "      <th>68</th>\n",
       "      <td>CE98789F502B</td>\n",
       "      <td>1.622732e+12</td>\n",
       "      <td>1498.0</td>\n",
       "      <td>1869.0</td>\n",
       "      <td>Research shows that being on your phone while ...</td>\n",
       "      <td>Evidence</td>\n",
       "      <td>Evidence 2</td>\n",
       "      <td>266 267 268 269 270 271 272 273 274 275 276 27...</td>\n",
       "    </tr>\n",
       "    <tr>\n",
       "      <th>69</th>\n",
       "      <td>CE98789F502B</td>\n",
       "      <td>1.622732e+12</td>\n",
       "      <td>1870.0</td>\n",
       "      <td>2534.0</td>\n",
       "      <td>Driving with cell phones should be banned beca...</td>\n",
       "      <td>Evidence</td>\n",
       "      <td>Evidence 3</td>\n",
       "      <td>336 337 338 339 340 341 342 343 344 345 346 34...</td>\n",
       "    </tr>\n",
       "    <tr>\n",
       "      <th>70</th>\n",
       "      <td>CE98789F502B</td>\n",
       "      <td>1.622732e+12</td>\n",
       "      <td>2535.0</td>\n",
       "      <td>3002.0</td>\n",
       "      <td>In conclusion, people should stop texting and ...</td>\n",
       "      <td>Concluding Statement</td>\n",
       "      <td>Concluding Statement 1</td>\n",
       "      <td>446 447 448 449 450 451 452 453 454 455 456 45...</td>\n",
       "    </tr>\n",
       "  </tbody>\n",
       "</table>\n",
       "</div>"
      ],
      "text/plain": [
       "              id  discourse_id  discourse_start  discourse_end  \\\n",
       "63  CE98789F502B  1.622732e+12              0.0          429.0   \n",
       "64  CE98789F502B  1.622732e+12            429.0          543.0   \n",
       "65  CE98789F502B  1.622732e+12            544.0          724.0   \n",
       "66  CE98789F502B  1.622732e+12            725.0         1332.0   \n",
       "67  CE98789F502B  1.622732e+12           1333.0         1498.0   \n",
       "68  CE98789F502B  1.622732e+12           1498.0         1869.0   \n",
       "69  CE98789F502B  1.622732e+12           1870.0         2534.0   \n",
       "70  CE98789F502B  1.622732e+12           2535.0         3002.0   \n",
       "\n",
       "                                       discourse_text        discourse_type  \\\n",
       "63  Although cell phones have been around for quit...                  Lead   \n",
       "64  Using cellphones while driving can be extremel...              Position   \n",
       "65  When we are driving it can be exceedingly diff...                 Claim   \n",
       "66  Other drivers take notice when drivers are on ...              Evidence   \n",
       "67  Everyday people die in car accidents because w...                 Claim   \n",
       "68  Research shows that being on your phone while ...              Evidence   \n",
       "69  Driving with cell phones should be banned beca...              Evidence   \n",
       "70  In conclusion, people should stop texting and ...  Concluding Statement   \n",
       "\n",
       "        discourse_type_num                                   predictionstring  \n",
       "63                  Lead 1  0 1 2 3 4 5 6 7 8 9 10 11 12 13 14 15 16 17 18...  \n",
       "64              Position 1  78 79 80 81 82 83 84 85 86 87 88 89 90 91 92 9...  \n",
       "65                 Claim 1  96 97 98 99 100 101 102 103 104 105 106 107 10...  \n",
       "66              Evidence 1  129 130 131 132 133 134 135 136 137 138 139 14...  \n",
       "67                 Claim 2  240 241 242 243 244 245 246 247 248 249 250 25...  \n",
       "68              Evidence 2  266 267 268 269 270 271 272 273 274 275 276 27...  \n",
       "69              Evidence 3  336 337 338 339 340 341 342 343 344 345 346 34...  \n",
       "70  Concluding Statement 1  446 447 448 449 450 451 452 453 454 455 456 45...  "
      ]
     },
     "metadata": {},
     "output_type": "display_data"
    },
    {
     "data": {
      "text/html": [
       "<div>\n",
       "<style scoped>\n",
       "    .dataframe tbody tr th:only-of-type {\n",
       "        vertical-align: middle;\n",
       "    }\n",
       "\n",
       "    .dataframe tbody tr th {\n",
       "        vertical-align: top;\n",
       "    }\n",
       "\n",
       "    .dataframe thead th {\n",
       "        text-align: right;\n",
       "    }\n",
       "</style>\n",
       "<table border=\"1\" class=\"dataframe\">\n",
       "  <thead>\n",
       "    <tr style=\"text-align: right;\">\n",
       "      <th></th>\n",
       "      <th>id</th>\n",
       "      <th>discourse_id</th>\n",
       "      <th>discourse_start</th>\n",
       "      <th>discourse_end</th>\n",
       "      <th>discourse_text</th>\n",
       "      <th>discourse_type</th>\n",
       "      <th>discourse_type_num</th>\n",
       "      <th>predictionstring</th>\n",
       "    </tr>\n",
       "  </thead>\n",
       "  <tbody>\n",
       "    <tr>\n",
       "      <th>71</th>\n",
       "      <td>A97DE0D49AEA</td>\n",
       "      <td>1.622645e+12</td>\n",
       "      <td>63.0</td>\n",
       "      <td>129.0</td>\n",
       "      <td>Driver's should desist from using their Cell ...</td>\n",
       "      <td>Position</td>\n",
       "      <td>Position 1</td>\n",
       "      <td>11 12 13 14 15 16 17 18 19 20</td>\n",
       "    </tr>\n",
       "    <tr>\n",
       "      <th>72</th>\n",
       "      <td>A97DE0D49AEA</td>\n",
       "      <td>1.622645e+12</td>\n",
       "      <td>129.0</td>\n",
       "      <td>251.0</td>\n",
       "      <td>Hundreds of research indicate that using the c...</td>\n",
       "      <td>Claim</td>\n",
       "      <td>Claim 1</td>\n",
       "      <td>21 22 23 24 25 26 27 28 29 30 31 32 33 34 35 3...</td>\n",
       "    </tr>\n",
       "    <tr>\n",
       "      <th>73</th>\n",
       "      <td>A97DE0D49AEA</td>\n",
       "      <td>1.622645e+12</td>\n",
       "      <td>252.0</td>\n",
       "      <td>1029.0</td>\n",
       "      <td>Statistically, 50 minutes of phone chatter whi...</td>\n",
       "      <td>Evidence</td>\n",
       "      <td>Evidence 1</td>\n",
       "      <td>41 42 43 44 45 46 47 48 49 50 51 52 53 54 55 5...</td>\n",
       "    </tr>\n",
       "    <tr>\n",
       "      <th>74</th>\n",
       "      <td>A97DE0D49AEA</td>\n",
       "      <td>1.622645e+12</td>\n",
       "      <td>1030.0</td>\n",
       "      <td>1160.0</td>\n",
       "      <td>One major issue concerns the risk of using one...</td>\n",
       "      <td>Claim</td>\n",
       "      <td>Claim 2</td>\n",
       "      <td>166 167 168 169 170 171 172 173 174 175 176 17...</td>\n",
       "    </tr>\n",
       "    <tr>\n",
       "      <th>75</th>\n",
       "      <td>A97DE0D49AEA</td>\n",
       "      <td>1.622645e+12</td>\n",
       "      <td>1161.0</td>\n",
       "      <td>1349.0</td>\n",
       "      <td>According to Crundall (2017), the majority of ...</td>\n",
       "      <td>Evidence</td>\n",
       "      <td>Evidence 2</td>\n",
       "      <td>189 190 191 192 193 194 195 196 197 198 199 20...</td>\n",
       "    </tr>\n",
       "    <tr>\n",
       "      <th>76</th>\n",
       "      <td>A97DE0D49AEA</td>\n",
       "      <td>1.622645e+12</td>\n",
       "      <td>1350.0</td>\n",
       "      <td>1498.0</td>\n",
       "      <td>Another issue involves the act of conversation...</td>\n",
       "      <td>Claim</td>\n",
       "      <td>Claim 3</td>\n",
       "      <td>219 220 221 222 223 224 225 226 227 228 229 23...</td>\n",
       "    </tr>\n",
       "    <tr>\n",
       "      <th>77</th>\n",
       "      <td>A97DE0D49AEA</td>\n",
       "      <td>1.622645e+12</td>\n",
       "      <td>1512.0</td>\n",
       "      <td>1843.0</td>\n",
       "      <td>Scientists from Carnegie Mellon University con...</td>\n",
       "      <td>Evidence</td>\n",
       "      <td>Evidence 3</td>\n",
       "      <td>245 246 247 248 249 250 251 252 253 254 255 25...</td>\n",
       "    </tr>\n",
       "    <tr>\n",
       "      <th>78</th>\n",
       "      <td>A97DE0D49AEA</td>\n",
       "      <td>1.622645e+12</td>\n",
       "      <td>1859.0</td>\n",
       "      <td>1946.0</td>\n",
       "      <td>a driver, under no circumstances, is required ...</td>\n",
       "      <td>Concluding Statement</td>\n",
       "      <td>Concluding Statement 1</td>\n",
       "      <td>294 295 296 297 298 299 300 301 302 303 304 30...</td>\n",
       "    </tr>\n",
       "  </tbody>\n",
       "</table>\n",
       "</div>"
      ],
      "text/plain": [
       "              id  discourse_id  discourse_start  discourse_end  \\\n",
       "71  A97DE0D49AEA  1.622645e+12             63.0          129.0   \n",
       "72  A97DE0D49AEA  1.622645e+12            129.0          251.0   \n",
       "73  A97DE0D49AEA  1.622645e+12            252.0         1029.0   \n",
       "74  A97DE0D49AEA  1.622645e+12           1030.0         1160.0   \n",
       "75  A97DE0D49AEA  1.622645e+12           1161.0         1349.0   \n",
       "76  A97DE0D49AEA  1.622645e+12           1350.0         1498.0   \n",
       "77  A97DE0D49AEA  1.622645e+12           1512.0         1843.0   \n",
       "78  A97DE0D49AEA  1.622645e+12           1859.0         1946.0   \n",
       "\n",
       "                                       discourse_text        discourse_type  \\\n",
       "71   Driver's should desist from using their Cell ...              Position   \n",
       "72  Hundreds of research indicate that using the c...                 Claim   \n",
       "73  Statistically, 50 minutes of phone chatter whi...              Evidence   \n",
       "74  One major issue concerns the risk of using one...                 Claim   \n",
       "75  According to Crundall (2017), the majority of ...              Evidence   \n",
       "76  Another issue involves the act of conversation...                 Claim   \n",
       "77  Scientists from Carnegie Mellon University con...              Evidence   \n",
       "78  a driver, under no circumstances, is required ...  Concluding Statement   \n",
       "\n",
       "        discourse_type_num                                   predictionstring  \n",
       "71              Position 1                      11 12 13 14 15 16 17 18 19 20  \n",
       "72                 Claim 1  21 22 23 24 25 26 27 28 29 30 31 32 33 34 35 3...  \n",
       "73              Evidence 1  41 42 43 44 45 46 47 48 49 50 51 52 53 54 55 5...  \n",
       "74                 Claim 2  166 167 168 169 170 171 172 173 174 175 176 17...  \n",
       "75              Evidence 2  189 190 191 192 193 194 195 196 197 198 199 20...  \n",
       "76                 Claim 3  219 220 221 222 223 224 225 226 227 228 229 23...  \n",
       "77              Evidence 3  245 246 247 248 249 250 251 252 253 254 255 25...  \n",
       "78  Concluding Statement 1  294 295 296 297 298 299 300 301 302 303 304 30...  "
      ]
     },
     "metadata": {},
     "output_type": "display_data"
    },
    {
     "data": {
      "text/html": [
       "<div>\n",
       "<style scoped>\n",
       "    .dataframe tbody tr th:only-of-type {\n",
       "        vertical-align: middle;\n",
       "    }\n",
       "\n",
       "    .dataframe tbody tr th {\n",
       "        vertical-align: top;\n",
       "    }\n",
       "\n",
       "    .dataframe thead th {\n",
       "        text-align: right;\n",
       "    }\n",
       "</style>\n",
       "<table border=\"1\" class=\"dataframe\">\n",
       "  <thead>\n",
       "    <tr style=\"text-align: right;\">\n",
       "      <th></th>\n",
       "      <th>id</th>\n",
       "      <th>discourse_id</th>\n",
       "      <th>discourse_start</th>\n",
       "      <th>discourse_end</th>\n",
       "      <th>discourse_text</th>\n",
       "      <th>discourse_type</th>\n",
       "      <th>discourse_type_num</th>\n",
       "      <th>predictionstring</th>\n",
       "    </tr>\n",
       "  </thead>\n",
       "  <tbody>\n",
       "    <tr>\n",
       "      <th>79</th>\n",
       "      <td>48D3F4243F0F</td>\n",
       "      <td>1.622732e+12</td>\n",
       "      <td>0.0</td>\n",
       "      <td>778.0</td>\n",
       "      <td>Cell phones were presented within the United S...</td>\n",
       "      <td>Lead</td>\n",
       "      <td>Lead 1</td>\n",
       "      <td>0 1 2 3 4 5 6 7 8 9 10 11 12 13 14 15 16 17 18...</td>\n",
       "    </tr>\n",
       "    <tr>\n",
       "      <th>80</th>\n",
       "      <td>48D3F4243F0F</td>\n",
       "      <td>1.622732e+12</td>\n",
       "      <td>779.0</td>\n",
       "      <td>999.0</td>\n",
       "      <td>in spite of the fact that utilizing cell phone...</td>\n",
       "      <td>Position</td>\n",
       "      <td>Position 1</td>\n",
       "      <td>120 121 122 123 124 125 126 127 128 129 130 13...</td>\n",
       "    </tr>\n",
       "    <tr>\n",
       "      <th>81</th>\n",
       "      <td>48D3F4243F0F</td>\n",
       "      <td>1.622732e+12</td>\n",
       "      <td>1000.0</td>\n",
       "      <td>1117.0</td>\n",
       "      <td>In case drivers on cell phones have more misch...</td>\n",
       "      <td>Claim</td>\n",
       "      <td>Claim 1</td>\n",
       "      <td>154 155 156 157 158 159 160 161 162 163 164 16...</td>\n",
       "    </tr>\n",
       "    <tr>\n",
       "      <th>82</th>\n",
       "      <td>48D3F4243F0F</td>\n",
       "      <td>1.622732e+12</td>\n",
       "      <td>1118.0</td>\n",
       "      <td>1350.0</td>\n",
       "      <td>Drivers on cell phones do have more mishaps. H...</td>\n",
       "      <td>Evidence</td>\n",
       "      <td>Evidence 1</td>\n",
       "      <td>174 175 176 177 178 179 180 181 182 183 184 18...</td>\n",
       "    </tr>\n",
       "    <tr>\n",
       "      <th>83</th>\n",
       "      <td>48D3F4243F0F</td>\n",
       "      <td>1.622732e+12</td>\n",
       "      <td>1351.0</td>\n",
       "      <td>1466.0</td>\n",
       "      <td>A few investigations recommend that talking on...</td>\n",
       "      <td>Claim</td>\n",
       "      <td>Claim 2</td>\n",
       "      <td>211 212 213 214 215 216 217 218 219 220 221 22...</td>\n",
       "    </tr>\n",
       "    <tr>\n",
       "      <th>84</th>\n",
       "      <td>48D3F4243F0F</td>\n",
       "      <td>1.622732e+12</td>\n",
       "      <td>1467.0</td>\n",
       "      <td>1672.0</td>\n",
       "      <td>In reality, a ponder at the College of Utah th...</td>\n",
       "      <td>Evidence</td>\n",
       "      <td>Evidence 2</td>\n",
       "      <td>229 230 231 232 233 234 235 236 237 238 239 24...</td>\n",
       "    </tr>\n",
       "  </tbody>\n",
       "</table>\n",
       "</div>"
      ],
      "text/plain": [
       "              id  discourse_id  discourse_start  discourse_end  \\\n",
       "79  48D3F4243F0F  1.622732e+12              0.0          778.0   \n",
       "80  48D3F4243F0F  1.622732e+12            779.0          999.0   \n",
       "81  48D3F4243F0F  1.622732e+12           1000.0         1117.0   \n",
       "82  48D3F4243F0F  1.622732e+12           1118.0         1350.0   \n",
       "83  48D3F4243F0F  1.622732e+12           1351.0         1466.0   \n",
       "84  48D3F4243F0F  1.622732e+12           1467.0         1672.0   \n",
       "\n",
       "                                       discourse_text discourse_type  \\\n",
       "79  Cell phones were presented within the United S...           Lead   \n",
       "80  in spite of the fact that utilizing cell phone...       Position   \n",
       "81  In case drivers on cell phones have more misch...          Claim   \n",
       "82  Drivers on cell phones do have more mishaps. H...       Evidence   \n",
       "83  A few investigations recommend that talking on...          Claim   \n",
       "84  In reality, a ponder at the College of Utah th...       Evidence   \n",
       "\n",
       "   discourse_type_num                                   predictionstring  \n",
       "79             Lead 1  0 1 2 3 4 5 6 7 8 9 10 11 12 13 14 15 16 17 18...  \n",
       "80         Position 1  120 121 122 123 124 125 126 127 128 129 130 13...  \n",
       "81            Claim 1  154 155 156 157 158 159 160 161 162 163 164 16...  \n",
       "82         Evidence 1  174 175 176 177 178 179 180 181 182 183 184 18...  \n",
       "83            Claim 2  211 212 213 214 215 216 217 218 219 220 221 22...  \n",
       "84         Evidence 2  229 230 231 232 233 234 235 236 237 238 239 24...  "
      ]
     },
     "metadata": {},
     "output_type": "display_data"
    }
   ],
   "source": [
    "## LOOKING FOR AN ID TO TEST\n",
    "for id in df.id.unique()[:10]:\n",
    "    display(df[df['id']==id])"
   ]
  },
  {
   "cell_type": "code",
   "execution_count": 4,
   "id": "3ba4236a",
   "metadata": {
    "ExecuteTime": {
     "end_time": "2022-01-23T11:59:26.137120Z",
     "start_time": "2022-01-23T11:59:26.134141Z"
    }
   },
   "outputs": [],
   "source": [
    "ID_TO_TEST='DBF7EB6A9E02'"
   ]
  },
  {
   "cell_type": "code",
   "execution_count": 60,
   "id": "4cb2b6d1",
   "metadata": {
    "ExecuteTime": {
     "end_time": "2022-01-23T12:14:20.378242Z",
     "start_time": "2022-01-23T12:14:20.374848Z"
    }
   },
   "outputs": [],
   "source": [
    "## create a function to retrieve the full text and the list of words\n",
    "def get_essay(id):\n",
    "    with open(f'../raw_data/train/{id}.txt','r') as file :\n",
    "        text = file.read()\n",
    "    return text"
   ]
  },
  {
   "cell_type": "code",
   "execution_count": 61,
   "id": "e9f14b4a",
   "metadata": {
    "ExecuteTime": {
     "end_time": "2022-01-23T12:14:38.347784Z",
     "start_time": "2022-01-23T12:14:38.343529Z"
    }
   },
   "outputs": [],
   "source": [
    "## function to transform an essay into a list of words\n",
    "def essay_to_list(text):\n",
    "    words = text.replace('\\n',' ').replace('.','').split(' ')\n",
    "    words = np.array(list(filter(('').__ne__,words)))\n",
    "    return words"
   ]
  },
  {
   "cell_type": "code",
   "execution_count": 62,
   "id": "61735b7a",
   "metadata": {
    "ExecuteTime": {
     "end_time": "2022-01-23T12:15:09.003655Z",
     "start_time": "2022-01-23T12:15:08.998838Z"
    }
   },
   "outputs": [],
   "source": [
    "## function to transform all discourses from an essay into a list of words\n",
    "def discourses_to_list(id_):\n",
    "    words=' '.join(df[df.id==id_].discourse_text.str.replace('\\n',' ',regex=True).str.replace('.','',regex=True)).split(' ')\n",
    "    words = np.array(list(filter(('').__ne__,words)))\n",
    "    words = np.array(list(filter(('.').__ne__,words)))\n",
    "    return words"
   ]
  },
  {
   "cell_type": "code",
   "execution_count": 63,
   "id": "56f8e308",
   "metadata": {
    "ExecuteTime": {
     "end_time": "2022-01-23T12:15:29.324749Z",
     "start_time": "2022-01-23T12:15:29.317294Z"
    }
   },
   "outputs": [],
   "source": [
    "discourses_to_compare = discourses_to_list(ID_TO_TEST)\n",
    "essay_to_compare = essay_to_list(get_essay(ID_TO_TEST))"
   ]
  },
  {
   "cell_type": "code",
   "execution_count": 68,
   "id": "8ab3558a",
   "metadata": {
    "ExecuteTime": {
     "end_time": "2022-01-23T12:20:00.175864Z",
     "start_time": "2022-01-23T12:20:00.171238Z"
    }
   },
   "outputs": [],
   "source": [
    "## FOR AN ESSAY, COMPARE LIST OF THE FULL TEXT AND THE CONCAT OF THE TRAINING DATASET\n",
    "## return list of all the words + token_position list + label\n",
    "def compare(essay,discourses):\n",
    "    discourses_appended=discourses.copy()\n",
    "    for index,word in enumerate(essay):\n",
    "        #print(word==discourses_appended[index],index)\n",
    "        #print(f'essay: {word} vs discourse: {discourses_appended[index]}')\n",
    "        if word != discourses_appended[index]:\n",
    "            discourses_appended=np.insert(discourses_appended,index,word)\n",
    "    return discourses_appended"
   ]
  },
  {
   "cell_type": "code",
   "execution_count": 65,
   "id": "ecdeb49a",
   "metadata": {
    "ExecuteTime": {
     "end_time": "2022-01-23T12:15:40.250018Z",
     "start_time": "2022-01-23T12:15:40.244900Z"
    },
    "scrolled": false
   },
   "outputs": [],
   "source": [
    "result=compare(essay_to_compare,discourses_to_compare)"
   ]
  },
  {
   "cell_type": "code",
   "execution_count": 67,
   "id": "bec6b2e8",
   "metadata": {
    "ExecuteTime": {
     "end_time": "2022-01-23T12:15:59.183906Z",
     "start_time": "2022-01-23T12:15:59.179127Z"
    }
   },
   "outputs": [
    {
     "data": {
      "text/plain": [
       "True"
      ]
     },
     "execution_count": 67,
     "metadata": {},
     "output_type": "execute_result"
    }
   ],
   "source": [
    "(result == essay_to_compare).all()"
   ]
  },
  {
   "cell_type": "markdown",
   "id": "d106578c",
   "metadata": {
    "heading_collapsed": true
   },
   "source": [
    "### Tests probably useless"
   ]
  },
  {
   "cell_type": "code",
   "execution_count": null,
   "id": "dd479be3",
   "metadata": {
    "hidden": true
   },
   "outputs": [],
   "source": []
  },
  {
   "cell_type": "code",
   "execution_count": 98,
   "id": "5224222f",
   "metadata": {
    "ExecuteTime": {
     "end_time": "2022-01-23T12:34:09.502538Z",
     "start_time": "2022-01-23T12:34:09.496891Z"
    },
    "hidden": true
   },
   "outputs": [],
   "source": [
    "array_labels=np.array(df.discourse_type[df.id==ID_TO_TEST])\n",
    "array_position=np.array(df.predictionstring[df.id==ID_TO_TEST])"
   ]
  },
  {
   "cell_type": "code",
   "execution_count": 109,
   "id": "9719c4f8",
   "metadata": {
    "ExecuteTime": {
     "end_time": "2022-01-23T12:41:46.297372Z",
     "start_time": "2022-01-23T12:41:46.290795Z"
    },
    "hidden": true
   },
   "outputs": [],
   "source": [
    "_=np.array([df[df.id==ID_TO_TEST].discourse_text.str.replace('\\n',' ',regex=True).str.replace('.','',regex=True),df[df.id==ID_TO_TEST].discourse_type]).T"
   ]
  },
  {
   "cell_type": "code",
   "execution_count": 116,
   "id": "562805b0",
   "metadata": {
    "ExecuteTime": {
     "end_time": "2022-01-23T12:43:08.119700Z",
     "start_time": "2022-01-23T12:43:08.115224Z"
    },
    "hidden": true
   },
   "outputs": [
    {
     "data": {
      "text/plain": [
       "'Being on your device and driving could be an overly dangerous choice in life Many people around the world are injured by this situation every day  It could lead to accidents and altercations In addition it would even cost you your licences The most detrimental outcome is death   Drivers should not be able to use cell phones in any capacity while operating a motor vehicle  One leading cause to motor vehicle accidents is being on your cell phone  It could lead to accidents and altercations Yourself and the passengers are more at risk to bodily injuries and harm These bodily injuries and harm can range anywhere from mild to critical condition In an motor vehicle accident there is more than one involved There is another person or group of people that could have the exact same conditions than the driver on the cell phone In an example of an altercations you could be more prone to damaging an building or such An direct result of an event in place; a fee or very large payment would need to be made  another consequence could be having your license taken  When you have violated a driving law there will always be an consequence Rather it being jail time, injuries, or more Your license will be subjected to suspension A suspended license defines as you are not able to drive until they are reinstated The process can take anywhere from a short period of time or even a long period of time The average time for a suspended license is sixty days  For some people if it is not your first offense they may even take your license for good  there is another cause to driving while being on your cell phone  After all the consequences the most detrimental is death Many people happen to pass away due to a motor vehicle car accident Not all people pass away at the crash site, some has a condition mild to critical that causes them to die Around 16  million people a year die in motor vehicle accidents Out of the 16 million, 1 out of 4 pass away because drivers are on their cell phone That includes the driver and the unlucky few that may have been in the car, around, or in another car Passing away from a motor vehicle accident can be prevented by simply waiting until you have reached a stopping point or your at your destination to pick up your phone  In conclusion, drivers should not be able to use cell phones in any capacity while operating a motor vehicle It can cause accidents and altercations, suspension of license, and even death Prevention is simply not being able to use your phone while operating a motor vehicle Take a moment to focus on the road  You are able to check your phone when you reach a red light or a complete stop This is one step closer to its prevention It will save many lives even your own   '"
      ]
     },
     "execution_count": 116,
     "metadata": {},
     "output_type": "execute_result"
    }
   ],
   "source": [
    "' '.join(_[:,0])"
   ]
  },
  {
   "cell_type": "code",
   "execution_count": 121,
   "id": "f691f4e1",
   "metadata": {
    "ExecuteTime": {
     "end_time": "2022-01-23T12:45:02.676549Z",
     "start_time": "2022-01-23T12:45:02.671788Z"
    },
    "hidden": true
   },
   "outputs": [
    {
     "data": {
      "text/plain": [
       "'Being on your device and driving could be an overly dangerous choice in life Many people around the world are injured by this situation every day '"
      ]
     },
     "execution_count": 121,
     "metadata": {},
     "output_type": "execute_result"
    }
   ],
   "source": [
    "_[0,0]"
   ]
  },
  {
   "cell_type": "code",
   "execution_count": 124,
   "id": "a9c8217e",
   "metadata": {
    "ExecuteTime": {
     "end_time": "2022-01-23T12:46:06.674472Z",
     "start_time": "2022-01-23T12:46:06.669729Z"
    },
    "hidden": true
   },
   "outputs": [
    {
     "data": {
      "text/plain": [
       "1"
      ]
     },
     "execution_count": 124,
     "metadata": {},
     "output_type": "execute_result"
    }
   ],
   "source": [
    "_[:,0].ndim"
   ]
  },
  {
   "cell_type": "code",
   "execution_count": 134,
   "id": "937dc0d8",
   "metadata": {
    "ExecuteTime": {
     "end_time": "2022-01-23T12:50:10.505275Z",
     "start_time": "2022-01-23T12:50:10.501958Z"
    },
    "hidden": true
   },
   "outputs": [],
   "source": [
    "\n",
    "mylen = np.vectorize(lambda text : len(text.split(' ')))"
   ]
  },
  {
   "cell_type": "code",
   "execution_count": 141,
   "id": "1ccb348e",
   "metadata": {
    "ExecuteTime": {
     "end_time": "2022-01-23T12:52:04.112180Z",
     "start_time": "2022-01-23T12:52:04.106340Z"
    },
    "hidden": true
   },
   "outputs": [
    {
     "data": {
      "text/plain": [
       "array(['Lead Lead Lead Lead Lead Lead Lead Lead Lead Lead Lead Lead Lead Lead Lead Lead Lead Lead Lead Lead Lead Lead Lead Lead Lead Lead Lead ',\n",
       "       'Claim Claim Claim Claim Claim Claim Claim ',\n",
       "       'Claim Claim Claim Claim Claim Claim Claim Claim Claim ',\n",
       "       'Claim Claim Claim Claim Claim Claim Claim ',\n",
       "       'Position Position Position Position Position Position Position Position Position Position Position Position Position Position Position Position Position Position Position ',\n",
       "       'Claim Claim Claim Claim Claim Claim Claim Claim Claim Claim Claim Claim Claim Claim ',\n",
       "       'Evidence Evidence Evidence Evidence Evidence Evidence Evidence Evidence Evidence Evidence Evidence Evidence Evidence Evidence Evidence Evidence Evidence Evidence Evidence Evidence Evidence Evidence Evidence Evidence Evidence Evidence Evidence Evidence Evidence Evidence Evidence Evidence Evidence Evidence Evidence Evidence Evidence Evidence Evidence Evidence Evidence Evidence Evidence Evidence Evidence Evidence Evidence Evidence Evidence Evidence Evidence Evidence Evidence Evidence Evidence Evidence Evidence Evidence Evidence Evidence Evidence Evidence Evidence Evidence Evidence Evidence Evidence Evidence Evidence Evidence Evidence Evidence Evidence Evidence Evidence Evidence Evidence Evidence Evidence Evidence Evidence Evidence Evidence Evidence Evidence Evidence Evidence Evidence Evidence Evidence Evidence Evidence Evidence Evidence Evidence Evidence Evidence Evidence Evidence Evidence Evidence Evidence ',\n",
       "       'Claim Claim Claim Claim Claim Claim Claim Claim Claim Claim ',\n",
       "       'Evidence Evidence Evidence Evidence Evidence Evidence Evidence Evidence Evidence Evidence Evidence Evidence Evidence Evidence Evidence Evidence Evidence Evidence Evidence Evidence Evidence Evidence Evidence Evidence Evidence Evidence Evidence Evidence Evidence Evidence Evidence Evidence Evidence Evidence Evidence Evidence Evidence Evidence Evidence Evidence Evidence Evidence Evidence Evidence Evidence Evidence Evidence Evidence Evidence Evidence Evidence Evidence Evidence Evidence Evidence Evidence Evidence Evidence Evidence Evidence Evidence Evidence Evidence Evidence Evidence Evidence Evidence Evidence Evidence Evidence Evidence Evidence Evidence Evidence Evidence Evidence Evidence Evidence Evidence Evidence Evidence Evidence Evidence Evidence Evidence Evidence Evidence Evidence Evidence Evidence Evidence ',\n",
       "       'Claim Claim Claim Claim Claim Claim Claim Claim Claim Claim Claim Claim Claim Claim Claim Claim Claim Claim Claim Claim Claim Claim ',\n",
       "       'Evidence Evidence Evidence Evidence Evidence Evidence Evidence Evidence Evidence Evidence Evidence Evidence Evidence Evidence Evidence Evidence Evidence Evidence Evidence Evidence Evidence Evidence Evidence Evidence Evidence Evidence Evidence Evidence Evidence Evidence Evidence Evidence Evidence Evidence Evidence Evidence Evidence Evidence Evidence Evidence Evidence Evidence Evidence Evidence Evidence Evidence Evidence Evidence Evidence Evidence Evidence Evidence Evidence Evidence Evidence Evidence Evidence Evidence Evidence Evidence Evidence Evidence Evidence Evidence Evidence Evidence Evidence Evidence Evidence Evidence Evidence Evidence Evidence Evidence Evidence Evidence Evidence Evidence Evidence Evidence Evidence Evidence Evidence Evidence Evidence Evidence Evidence Evidence Evidence Evidence Evidence Evidence Evidence Evidence Evidence Evidence Evidence Evidence Evidence Evidence Evidence Evidence Evidence Evidence Evidence Evidence Evidence Evidence Evidence Evidence Evidence Evidence Evidence Evidence Evidence ',\n",
       "       'Concluding Statement Concluding Statement Concluding Statement Concluding Statement Concluding Statement Concluding Statement Concluding Statement Concluding Statement Concluding Statement Concluding Statement Concluding Statement Concluding Statement Concluding Statement Concluding Statement Concluding Statement Concluding Statement Concluding Statement Concluding Statement Concluding Statement Concluding Statement Concluding Statement Concluding Statement Concluding Statement Concluding Statement Concluding Statement Concluding Statement Concluding Statement Concluding Statement Concluding Statement Concluding Statement Concluding Statement Concluding Statement Concluding Statement Concluding Statement Concluding Statement Concluding Statement Concluding Statement Concluding Statement Concluding Statement Concluding Statement Concluding Statement Concluding Statement Concluding Statement Concluding Statement Concluding Statement Concluding Statement Concluding Statement Concluding Statement Concluding Statement Concluding Statement Concluding Statement Concluding Statement Concluding Statement Concluding Statement Concluding Statement Concluding Statement Concluding Statement Concluding Statement Concluding Statement Concluding Statement Concluding Statement Concluding Statement Concluding Statement Concluding Statement Concluding Statement Concluding Statement Concluding Statement Concluding Statement Concluding Statement Concluding Statement Concluding Statement Concluding Statement Concluding Statement Concluding Statement Concluding Statement Concluding Statement Concluding Statement Concluding Statement Concluding Statement Concluding Statement Concluding Statement Concluding Statement Concluding Statement Concluding Statement Concluding Statement Concluding Statement Concluding Statement Concluding Statement Concluding Statement Concluding Statement Concluding Statement '],\n",
       "      dtype=object)"
      ]
     },
     "execution_count": 141,
     "metadata": {},
     "output_type": "execute_result"
    }
   ],
   "source": [
    "(_[:,1]+' ')*mylen(_)[:,0]"
   ]
  },
  {
   "cell_type": "code",
   "execution_count": 143,
   "id": "3b683ae3",
   "metadata": {
    "ExecuteTime": {
     "end_time": "2022-01-23T12:56:52.211972Z",
     "start_time": "2022-01-23T12:56:52.203090Z"
    },
    "hidden": true
   },
   "outputs": [
    {
     "ename": "AttributeError",
     "evalue": "'numpy.ndarray' object has no attribute 'split'",
     "output_type": "error",
     "traceback": [
      "\u001b[0;31m---------------------------------------------------------------------------\u001b[0m",
      "\u001b[0;31mAttributeError\u001b[0m                            Traceback (most recent call last)",
      "\u001b[0;32m/var/folders/zd/9ts3jb2s5472mty2sgdddp3m0000gn/T/ipykernel_54637/1410691061.py\u001b[0m in \u001b[0;36m<module>\u001b[0;34m\u001b[0m\n\u001b[0;32m----> 1\u001b[0;31m \u001b[0;34m' '\u001b[0m\u001b[0;34m.\u001b[0m\u001b[0mjoin\u001b[0m\u001b[0;34m(\u001b[0m\u001b[0m_\u001b[0m\u001b[0;34m[\u001b[0m\u001b[0;34m:\u001b[0m\u001b[0;34m,\u001b[0m\u001b[0;36m0\u001b[0m\u001b[0;34m]\u001b[0m\u001b[0;34m.\u001b[0m\u001b[0msplit\u001b[0m\u001b[0;34m(\u001b[0m\u001b[0;34m' '\u001b[0m\u001b[0;34m)\u001b[0m\u001b[0;34m)\u001b[0m\u001b[0;34m\u001b[0m\u001b[0;34m\u001b[0m\u001b[0m\n\u001b[0m",
      "\u001b[0;31mAttributeError\u001b[0m: 'numpy.ndarray' object has no attribute 'split'"
     ]
    }
   ],
   "source": [
    "' '.join(_[:,0].split(' '))"
   ]
  },
  {
   "cell_type": "code",
   "execution_count": 148,
   "id": "acc9587a",
   "metadata": {
    "ExecuteTime": {
     "end_time": "2022-01-23T12:58:44.822861Z",
     "start_time": "2022-01-23T12:58:44.818938Z"
    },
    "hidden": true
   },
   "outputs": [],
   "source": [
    "mysplitter=np.vectorize(lambda text : str(text.split(' ')))"
   ]
  },
  {
   "cell_type": "code",
   "execution_count": 150,
   "id": "e9a200ef",
   "metadata": {
    "ExecuteTime": {
     "end_time": "2022-01-23T12:59:02.455793Z",
     "start_time": "2022-01-23T12:59:02.451009Z"
    },
    "hidden": true
   },
   "outputs": [
    {
     "data": {
      "text/plain": [
       "array([['Being on your device and driving could be an overly dangerous choice in life Many people around the world are injured by this situation every day ',\n",
       "        'Lead'],\n",
       "       ['It could lead to accidents and altercations', 'Claim'],\n",
       "       ['In addition it would even cost you your licences', 'Claim'],\n",
       "       ['The most detrimental outcome is death ', 'Claim'],\n",
       "       [' Drivers should not be able to use cell phones in any capacity while operating a motor vehicle ',\n",
       "        'Position'],\n",
       "       ['One leading cause to motor vehicle accidents is being on your cell phone ',\n",
       "        'Claim'],\n",
       "       ['It could lead to accidents and altercations Yourself and the passengers are more at risk to bodily injuries and harm These bodily injuries and harm can range anywhere from mild to critical condition In an motor vehicle accident there is more than one involved There is another person or group of people that could have the exact same conditions than the driver on the cell phone In an example of an altercations you could be more prone to damaging an building or such An direct result of an event in place; a fee or very large payment would need to be made',\n",
       "        'Evidence'],\n",
       "       [' another consequence could be having your license taken ',\n",
       "        'Claim'],\n",
       "       ['When you have violated a driving law there will always be an consequence Rather it being jail time, injuries, or more Your license will be subjected to suspension A suspended license defines as you are not able to drive until they are reinstated The process can take anywhere from a short period of time or even a long period of time The average time for a suspended license is sixty days  For some people if it is not your first offense they may even take your license for good ',\n",
       "        'Evidence'],\n",
       "       ['there is another cause to driving while being on your cell phone  After all the consequences the most detrimental is death',\n",
       "        'Claim'],\n",
       "       ['Many people happen to pass away due to a motor vehicle car accident Not all people pass away at the crash site, some has a condition mild to critical that causes them to die Around 16  million people a year die in motor vehicle accidents Out of the 16 million, 1 out of 4 pass away because drivers are on their cell phone That includes the driver and the unlucky few that may have been in the car, around, or in another car Passing away from a motor vehicle accident can be prevented by simply waiting until you have reached a stopping point or your at your destination to pick up your phone ',\n",
       "        'Evidence'],\n",
       "       ['In conclusion, drivers should not be able to use cell phones in any capacity while operating a motor vehicle It can cause accidents and altercations, suspension of license, and even death Prevention is simply not being able to use your phone while operating a motor vehicle Take a moment to focus on the road  You are able to check your phone when you reach a red light or a complete stop This is one step closer to its prevention It will save many lives even your own   ',\n",
       "        'Concluding Statement']], dtype=object)"
      ]
     },
     "execution_count": 150,
     "metadata": {},
     "output_type": "execute_result"
    }
   ],
   "source": [
    "_"
   ]
  },
  {
   "cell_type": "code",
   "execution_count": null,
   "id": "7796a94a",
   "metadata": {
    "hidden": true
   },
   "outputs": [],
   "source": []
  },
  {
   "cell_type": "code",
   "execution_count": null,
   "id": "3edabaeb",
   "metadata": {
    "hidden": true
   },
   "outputs": [],
   "source": []
  },
  {
   "cell_type": "code",
   "execution_count": null,
   "id": "7885786c",
   "metadata": {
    "ExecuteTime": {
     "end_time": "2022-01-23T17:10:05.183903Z",
     "start_time": "2022-01-23T17:10:05.177840Z"
    },
    "hidden": true
   },
   "outputs": [],
   "source": []
  },
  {
   "cell_type": "markdown",
   "id": "a73a3e67",
   "metadata": {},
   "source": [
    "### Resume"
   ]
  },
  {
   "cell_type": "code",
   "execution_count": 158,
   "id": "ec8ff0b7",
   "metadata": {
    "ExecuteTime": {
     "end_time": "2022-01-23T17:18:52.520814Z",
     "start_time": "2022-01-23T17:18:52.517823Z"
    }
   },
   "outputs": [],
   "source": [
    "import typing"
   ]
  },
  {
   "cell_type": "code",
   "execution_count": 162,
   "id": "f60ccc8a",
   "metadata": {
    "ExecuteTime": {
     "end_time": "2022-01-23T17:19:22.927976Z",
     "start_time": "2022-01-23T17:19:22.923036Z"
    }
   },
   "outputs": [],
   "source": [
    "InputIds = typing.TypeVar(\"InputIds\", bound=typing.List[int])\n",
    "AttentionMask = typing.TypeVar(\"AttentionMask\", bound=typing.List[int])\n",
    "Labels = typing.TypeVar(\"Labels\", bound=typing.List[int])\n",
    "\n",
    "Output = typing.NamedTuple(\n",
    "        \"Output\",\n",
    "        [\n",
    "            (\"input_ids\", InputIds),\n",
    "            (\"attention_mask\", AttentionMask),\n",
    "            (\"labels\", Labels),\n",
    "        ],\n",
    "    )"
   ]
  },
  {
   "cell_type": "code",
   "execution_count": 165,
   "id": "8412c4f7",
   "metadata": {
    "ExecuteTime": {
     "end_time": "2022-01-23T17:19:35.308348Z",
     "start_time": "2022-01-23T17:19:35.303962Z"
    }
   },
   "outputs": [
    {
     "data": {
      "text/plain": [
       "~InputIds"
      ]
     },
     "execution_count": 165,
     "metadata": {},
     "output_type": "execute_result"
    }
   ],
   "source": [
    "InputIds"
   ]
  },
  {
   "cell_type": "code",
   "execution_count": 168,
   "id": "d3c4457c",
   "metadata": {
    "ExecuteTime": {
     "end_time": "2022-01-23T17:20:59.090600Z",
     "start_time": "2022-01-23T17:20:59.086762Z"
    }
   },
   "outputs": [],
   "source": [
    "ha=Output(\n",
    "            input_ids=np.zeros((2, 10), dtype=\"int32\"),\n",
    "            attention_mask=np.zeros((2, 10), dtype=\"int32\"),\n",
    "            labels=np.zeros((2, 10, 2 * len([1,2,3]) + 1), dtype=\"int32\"),\n",
    "        )"
   ]
  },
  {
   "cell_type": "code",
   "execution_count": 173,
   "id": "89c884d9",
   "metadata": {
    "ExecuteTime": {
     "end_time": "2022-01-23T17:21:27.422573Z",
     "start_time": "2022-01-23T17:21:27.416977Z"
    }
   },
   "outputs": [
    {
     "data": {
      "text/plain": [
       "array([[[0, 0, 0, 0, 0, 0, 0],\n",
       "        [0, 0, 0, 0, 0, 0, 0],\n",
       "        [0, 0, 0, 0, 0, 0, 0],\n",
       "        [0, 0, 0, 0, 0, 0, 0],\n",
       "        [0, 0, 0, 0, 0, 0, 0],\n",
       "        [0, 0, 0, 0, 0, 0, 0],\n",
       "        [0, 0, 0, 0, 0, 0, 0],\n",
       "        [0, 0, 0, 0, 0, 0, 0],\n",
       "        [0, 0, 0, 0, 0, 0, 0],\n",
       "        [0, 0, 0, 0, 0, 0, 0]],\n",
       "\n",
       "       [[0, 0, 0, 0, 0, 0, 0],\n",
       "        [0, 0, 0, 0, 0, 0, 0],\n",
       "        [0, 0, 0, 0, 0, 0, 0],\n",
       "        [0, 0, 0, 0, 0, 0, 0],\n",
       "        [0, 0, 0, 0, 0, 0, 0],\n",
       "        [0, 0, 0, 0, 0, 0, 0],\n",
       "        [0, 0, 0, 0, 0, 0, 0],\n",
       "        [0, 0, 0, 0, 0, 0, 0],\n",
       "        [0, 0, 0, 0, 0, 0, 0],\n",
       "        [0, 0, 0, 0, 0, 0, 0]]], dtype=int32)"
      ]
     },
     "execution_count": 173,
     "metadata": {},
     "output_type": "execute_result"
    }
   ],
   "source": [
    "ha[2]"
   ]
  },
  {
   "cell_type": "code",
   "execution_count": 174,
   "id": "38caabe7",
   "metadata": {
    "ExecuteTime": {
     "end_time": "2022-01-23T17:30:56.863889Z",
     "start_time": "2022-01-23T17:30:56.832368Z"
    }
   },
   "outputs": [
    {
     "data": {
      "text/html": [
       "<div>\n",
       "<style scoped>\n",
       "    .dataframe tbody tr th:only-of-type {\n",
       "        vertical-align: middle;\n",
       "    }\n",
       "\n",
       "    .dataframe tbody tr th {\n",
       "        vertical-align: top;\n",
       "    }\n",
       "\n",
       "    .dataframe thead th {\n",
       "        text-align: right;\n",
       "    }\n",
       "</style>\n",
       "<table border=\"1\" class=\"dataframe\">\n",
       "  <thead>\n",
       "    <tr style=\"text-align: right;\">\n",
       "      <th></th>\n",
       "      <th>id</th>\n",
       "      <th>discourse_id</th>\n",
       "      <th>discourse_start</th>\n",
       "      <th>discourse_end</th>\n",
       "      <th>discourse_text</th>\n",
       "      <th>discourse_type</th>\n",
       "      <th>discourse_type_num</th>\n",
       "      <th>predictionstring</th>\n",
       "    </tr>\n",
       "  </thead>\n",
       "  <tbody>\n",
       "    <tr>\n",
       "      <th>0</th>\n",
       "      <td>423A1CA112E2</td>\n",
       "      <td>1.622628e+12</td>\n",
       "      <td>8.0</td>\n",
       "      <td>229.0</td>\n",
       "      <td>Modern humans today are always on their phone....</td>\n",
       "      <td>Lead</td>\n",
       "      <td>Lead 1</td>\n",
       "      <td>1 2 3 4 5 6 7 8 9 10 11 12 13 14 15 16 17 18 1...</td>\n",
       "    </tr>\n",
       "    <tr>\n",
       "      <th>1</th>\n",
       "      <td>423A1CA112E2</td>\n",
       "      <td>1.622628e+12</td>\n",
       "      <td>230.0</td>\n",
       "      <td>312.0</td>\n",
       "      <td>They are some really bad consequences when stu...</td>\n",
       "      <td>Position</td>\n",
       "      <td>Position 1</td>\n",
       "      <td>45 46 47 48 49 50 51 52 53 54 55 56 57 58 59</td>\n",
       "    </tr>\n",
       "    <tr>\n",
       "      <th>2</th>\n",
       "      <td>423A1CA112E2</td>\n",
       "      <td>1.622628e+12</td>\n",
       "      <td>313.0</td>\n",
       "      <td>401.0</td>\n",
       "      <td>Some certain areas in the United States ban ph...</td>\n",
       "      <td>Evidence</td>\n",
       "      <td>Evidence 1</td>\n",
       "      <td>60 61 62 63 64 65 66 67 68 69 70 71 72 73 74 75</td>\n",
       "    </tr>\n",
       "    <tr>\n",
       "      <th>3</th>\n",
       "      <td>423A1CA112E2</td>\n",
       "      <td>1.622628e+12</td>\n",
       "      <td>402.0</td>\n",
       "      <td>758.0</td>\n",
       "      <td>When people have phones, they know about certa...</td>\n",
       "      <td>Evidence</td>\n",
       "      <td>Evidence 2</td>\n",
       "      <td>76 77 78 79 80 81 82 83 84 85 86 87 88 89 90 9...</td>\n",
       "    </tr>\n",
       "    <tr>\n",
       "      <th>4</th>\n",
       "      <td>423A1CA112E2</td>\n",
       "      <td>1.622628e+12</td>\n",
       "      <td>759.0</td>\n",
       "      <td>886.0</td>\n",
       "      <td>Driving is one of the way how to get around. P...</td>\n",
       "      <td>Claim</td>\n",
       "      <td>Claim 1</td>\n",
       "      <td>139 140 141 142 143 144 145 146 147 148 149 15...</td>\n",
       "    </tr>\n",
       "    <tr>\n",
       "      <th>...</th>\n",
       "      <td>...</td>\n",
       "      <td>...</td>\n",
       "      <td>...</td>\n",
       "      <td>...</td>\n",
       "      <td>...</td>\n",
       "      <td>...</td>\n",
       "      <td>...</td>\n",
       "      <td>...</td>\n",
       "    </tr>\n",
       "    <tr>\n",
       "      <th>7547</th>\n",
       "      <td>E821935D8F15</td>\n",
       "      <td>1.622565e+12</td>\n",
       "      <td>2439.0</td>\n",
       "      <td>2492.0</td>\n",
       "      <td>It is a way of \"smart planing\" ourself as a co...</td>\n",
       "      <td>Evidence</td>\n",
       "      <td>Evidence 2</td>\n",
       "      <td>468 469 470 471 472 473 474 475 476 477 478</td>\n",
       "    </tr>\n",
       "    <tr>\n",
       "      <th>7548</th>\n",
       "      <td>E821935D8F15</td>\n",
       "      <td>1.622565e+12</td>\n",
       "      <td>2493.0</td>\n",
       "      <td>2557.0</td>\n",
       "      <td>We can live a more free caring world without ...</td>\n",
       "      <td>Claim</td>\n",
       "      <td>Claim 5</td>\n",
       "      <td>479 480 481 482 483 484 485 486 487 488 489 49...</td>\n",
       "    </tr>\n",
       "    <tr>\n",
       "      <th>7549</th>\n",
       "      <td>E821935D8F15</td>\n",
       "      <td>1.622565e+12</td>\n",
       "      <td>2558.0</td>\n",
       "      <td>2837.0</td>\n",
       "      <td>Technology can play a part in the limit of of ...</td>\n",
       "      <td>Evidence</td>\n",
       "      <td>Evidence 3</td>\n",
       "      <td>493 494 495 496 497 498 499 500 501 502 503 50...</td>\n",
       "    </tr>\n",
       "    <tr>\n",
       "      <th>7550</th>\n",
       "      <td>E821935D8F15</td>\n",
       "      <td>1.622565e+12</td>\n",
       "      <td>2838.0</td>\n",
       "      <td>2945.0</td>\n",
       "      <td>Another, advantage that we have in hand is the...</td>\n",
       "      <td>Claim</td>\n",
       "      <td>Claim 6</td>\n",
       "      <td>541 542 543 544 545 546 547 548 549 550 551 55...</td>\n",
       "    </tr>\n",
       "    <tr>\n",
       "      <th>7551</th>\n",
       "      <td>E821935D8F15</td>\n",
       "      <td>1.622565e+12</td>\n",
       "      <td>2945.0</td>\n",
       "      <td>3216.0</td>\n",
       "      <td>which lead to me to my other insight of inform...</td>\n",
       "      <td>Evidence</td>\n",
       "      <td>Evidence 4</td>\n",
       "      <td>561 562 563 564 565 566 567 568 569 570 571 57...</td>\n",
       "    </tr>\n",
       "  </tbody>\n",
       "</table>\n",
       "<p>7552 rows × 8 columns</p>\n",
       "</div>"
      ],
      "text/plain": [
       "                id  discourse_id  discourse_start  discourse_end  \\\n",
       "0     423A1CA112E2  1.622628e+12              8.0          229.0   \n",
       "1     423A1CA112E2  1.622628e+12            230.0          312.0   \n",
       "2     423A1CA112E2  1.622628e+12            313.0          401.0   \n",
       "3     423A1CA112E2  1.622628e+12            402.0          758.0   \n",
       "4     423A1CA112E2  1.622628e+12            759.0          886.0   \n",
       "...            ...           ...              ...            ...   \n",
       "7547  E821935D8F15  1.622565e+12           2439.0         2492.0   \n",
       "7548  E821935D8F15  1.622565e+12           2493.0         2557.0   \n",
       "7549  E821935D8F15  1.622565e+12           2558.0         2837.0   \n",
       "7550  E821935D8F15  1.622565e+12           2838.0         2945.0   \n",
       "7551  E821935D8F15  1.622565e+12           2945.0         3216.0   \n",
       "\n",
       "                                         discourse_text discourse_type  \\\n",
       "0     Modern humans today are always on their phone....           Lead   \n",
       "1     They are some really bad consequences when stu...       Position   \n",
       "2     Some certain areas in the United States ban ph...       Evidence   \n",
       "3     When people have phones, they know about certa...       Evidence   \n",
       "4     Driving is one of the way how to get around. P...          Claim   \n",
       "...                                                 ...            ...   \n",
       "7547  It is a way of \"smart planing\" ourself as a co...       Evidence   \n",
       "7548   We can live a more free caring world without ...          Claim   \n",
       "7549  Technology can play a part in the limit of of ...       Evidence   \n",
       "7550  Another, advantage that we have in hand is the...          Claim   \n",
       "7551  which lead to me to my other insight of inform...       Evidence   \n",
       "\n",
       "     discourse_type_num                                   predictionstring  \n",
       "0                Lead 1  1 2 3 4 5 6 7 8 9 10 11 12 13 14 15 16 17 18 1...  \n",
       "1            Position 1       45 46 47 48 49 50 51 52 53 54 55 56 57 58 59  \n",
       "2            Evidence 1    60 61 62 63 64 65 66 67 68 69 70 71 72 73 74 75  \n",
       "3            Evidence 2  76 77 78 79 80 81 82 83 84 85 86 87 88 89 90 9...  \n",
       "4               Claim 1  139 140 141 142 143 144 145 146 147 148 149 15...  \n",
       "...                 ...                                                ...  \n",
       "7547         Evidence 2        468 469 470 471 472 473 474 475 476 477 478  \n",
       "7548            Claim 5  479 480 481 482 483 484 485 486 487 488 489 49...  \n",
       "7549         Evidence 3  493 494 495 496 497 498 499 500 501 502 503 50...  \n",
       "7550            Claim 6  541 542 543 544 545 546 547 548 549 550 551 55...  \n",
       "7551         Evidence 4  561 562 563 564 565 566 567 568 569 570 571 57...  \n",
       "\n",
       "[7552 rows x 8 columns]"
      ]
     },
     "execution_count": 174,
     "metadata": {},
     "output_type": "execute_result"
    }
   ],
   "source": [
    "df"
   ]
  },
  {
   "cell_type": "code",
   "execution_count": 176,
   "id": "294e35d1",
   "metadata": {
    "ExecuteTime": {
     "end_time": "2022-01-23T17:33:21.932544Z",
     "start_time": "2022-01-23T17:33:21.914719Z"
    }
   },
   "outputs": [
    {
     "ename": "ValueError",
     "evalue": "too many values to unpack (expected 2)",
     "output_type": "error",
     "traceback": [
      "\u001b[0;31m---------------------------------------------------------------------------\u001b[0m",
      "\u001b[0;31mValueError\u001b[0m                                Traceback (most recent call last)",
      "\u001b[0;32m/var/folders/zd/9ts3jb2s5472mty2sgdddp3m0000gn/T/ipykernel_54637/140891361.py\u001b[0m in \u001b[0;36m<module>\u001b[0;34m\u001b[0m\n\u001b[0;32m----> 1\u001b[0;31m \u001b[0;32mfor\u001b[0m \u001b[0m_\u001b[0m\u001b[0;34m,\u001b[0m \u001b[0;34m(\u001b[0m\u001b[0mdiscourse_id\u001b[0m\u001b[0;34m,\u001b[0m\u001b[0mdiscourse_start\u001b[0m\u001b[0;34m)\u001b[0m \u001b[0;32min\u001b[0m \u001b[0mdf\u001b[0m\u001b[0;34m.\u001b[0m\u001b[0miterrows\u001b[0m\u001b[0;34m(\u001b[0m\u001b[0;34m)\u001b[0m\u001b[0;34m:\u001b[0m\u001b[0;34m\u001b[0m\u001b[0;34m\u001b[0m\u001b[0m\n\u001b[0m\u001b[1;32m      2\u001b[0m     \u001b[0mprint\u001b[0m\u001b[0;34m(\u001b[0m\u001b[0mdiscourse_id\u001b[0m\u001b[0;34m)\u001b[0m\u001b[0;34m\u001b[0m\u001b[0;34m\u001b[0m\u001b[0m\n",
      "\u001b[0;31mValueError\u001b[0m: too many values to unpack (expected 2)"
     ]
    }
   ],
   "source": [
    "for _, (discourse_id,discourse_start) in df.iterrows():\n",
    "    print(discourse_id)"
   ]
  },
  {
   "cell_type": "code",
   "execution_count": 181,
   "id": "f1d228ee",
   "metadata": {
    "ExecuteTime": {
     "end_time": "2022-01-23T17:36:03.473354Z",
     "start_time": "2022-01-23T17:36:03.462205Z"
    }
   },
   "outputs": [
    {
     "ename": "ValueError",
     "evalue": "too many values to unpack (expected 3)",
     "output_type": "error",
     "traceback": [
      "\u001b[0;31m---------------------------------------------------------------------------\u001b[0m",
      "\u001b[0;31mValueError\u001b[0m                                Traceback (most recent call last)",
      "\u001b[0;32m/var/folders/zd/9ts3jb2s5472mty2sgdddp3m0000gn/T/ipykernel_54637/359946145.py\u001b[0m in \u001b[0;36m<module>\u001b[0;34m\u001b[0m\n\u001b[0;32m----> 1\u001b[0;31m \u001b[0;32mfor\u001b[0m \u001b[0m_\u001b[0m\u001b[0;34m,\u001b[0m \u001b[0;34m(\u001b[0m\u001b[0mdiscourse_start\u001b[0m\u001b[0;34m,\u001b[0m \u001b[0mdiscourse_end\u001b[0m\u001b[0;34m,\u001b[0m \u001b[0mdiscourse_type\u001b[0m\u001b[0;34m)\u001b[0m \u001b[0;32min\u001b[0m \u001b[0mdf\u001b[0m\u001b[0;34m.\u001b[0m\u001b[0miterrows\u001b[0m\u001b[0;34m(\u001b[0m\u001b[0;34m)\u001b[0m\u001b[0;34m:\u001b[0m\u001b[0;34m\u001b[0m\u001b[0;34m\u001b[0m\u001b[0m\n\u001b[0m\u001b[1;32m      2\u001b[0m     \u001b[0mprint\u001b[0m\u001b[0;34m(\u001b[0m\u001b[0;34m\"hah\"\u001b[0m\u001b[0;34m)\u001b[0m\u001b[0;34m\u001b[0m\u001b[0;34m\u001b[0m\u001b[0m\n",
      "\u001b[0;31mValueError\u001b[0m: too many values to unpack (expected 3)"
     ]
    }
   ],
   "source": [
    "for _, (discourse_start, discourse_end, discourse_type) in df.iterrows():\n",
    "    print(\"hah\")"
   ]
  },
  {
   "cell_type": "code",
   "execution_count": 183,
   "id": "f808b241",
   "metadata": {
    "ExecuteTime": {
     "end_time": "2022-01-23T17:47:53.231550Z",
     "start_time": "2022-01-23T17:47:53.065069Z"
    }
   },
   "outputs": [],
   "source": [
    "from transformers import BertTokenizerFast"
   ]
  },
  {
   "cell_type": "code",
   "execution_count": 185,
   "id": "63e1c0e7",
   "metadata": {
    "ExecuteTime": {
     "end_time": "2022-01-23T17:48:05.173525Z",
     "start_time": "2022-01-23T17:47:58.095328Z"
    }
   },
   "outputs": [
    {
     "data": {
      "application/vnd.jupyter.widget-view+json": {
       "model_id": "0c88c00d186c4deab98a9f21ace56862",
       "version_major": 2,
       "version_minor": 0
      },
      "text/plain": [
       "Downloading:   0%|          | 0.00/226k [00:00<?, ?B/s]"
      ]
     },
     "metadata": {},
     "output_type": "display_data"
    },
    {
     "data": {
      "application/vnd.jupyter.widget-view+json": {
       "model_id": "714459ecf09a4b70988c8a66bf53961d",
       "version_major": 2,
       "version_minor": 0
      },
      "text/plain": [
       "Downloading:   0%|          | 0.00/455k [00:00<?, ?B/s]"
      ]
     },
     "metadata": {},
     "output_type": "display_data"
    },
    {
     "data": {
      "application/vnd.jupyter.widget-view+json": {
       "model_id": "5c8f5888966c4795a42bbd5171cce477",
       "version_major": 2,
       "version_minor": 0
      },
      "text/plain": [
       "Downloading:   0%|          | 0.00/28.0 [00:00<?, ?B/s]"
      ]
     },
     "metadata": {},
     "output_type": "display_data"
    },
    {
     "data": {
      "application/vnd.jupyter.widget-view+json": {
       "model_id": "7350bf126a47449b80508041977cb247",
       "version_major": 2,
       "version_minor": 0
      },
      "text/plain": [
       "Downloading:   0%|          | 0.00/570 [00:00<?, ?B/s]"
      ]
     },
     "metadata": {},
     "output_type": "display_data"
    }
   ],
   "source": [
    "tokenizer = BertTokenizerFast.from_pretrained(\"bert-base-uncased\")"
   ]
  },
  {
   "cell_type": "code",
   "execution_count": 201,
   "id": "12e5c7be",
   "metadata": {
    "ExecuteTime": {
     "end_time": "2022-01-23T18:36:05.349992Z",
     "start_time": "2022-01-23T18:36:05.343878Z"
    }
   },
   "outputs": [
    {
     "data": {
      "text/plain": [
       "{'input_ids': [[101, 7592, 1045, 2572, 4300, 102], [101, 1045, 2215, 2000, 4521, 1037, 10733, 2007, 8808, 102]], 'token_type_ids': [[0, 0, 0, 0, 0, 0], [0, 0, 0, 0, 0, 0, 0, 0, 0, 0]], 'attention_mask': [[1, 1, 1, 1, 1, 1], [1, 1, 1, 1, 1, 1, 1, 1, 1, 1]], 'offset_mapping': [[(0, 0), (0, 5), (6, 7), (8, 10), (11, 17), (0, 0)], [(0, 0), (0, 1), (2, 6), (7, 9), (10, 13), (14, 15), (16, 21), (22, 26), (27, 33), (0, 0)]]}"
      ]
     },
     "execution_count": 201,
     "metadata": {},
     "output_type": "execute_result"
    }
   ],
   "source": [
    "tokenizer(['Hello I am Arthur','I want to eat a pizza with cheese'],return_offsets_mapping=True,)"
   ]
  },
  {
   "cell_type": "code",
   "execution_count": 207,
   "id": "90b6f532",
   "metadata": {
    "ExecuteTime": {
     "end_time": "2022-01-23T18:38:32.312840Z",
     "start_time": "2022-01-23T18:38:32.302879Z"
    }
   },
   "outputs": [
    {
     "data": {
      "text/html": [
       "<div>\n",
       "<style scoped>\n",
       "    .dataframe tbody tr th:only-of-type {\n",
       "        vertical-align: middle;\n",
       "    }\n",
       "\n",
       "    .dataframe tbody tr th {\n",
       "        vertical-align: top;\n",
       "    }\n",
       "\n",
       "    .dataframe thead th {\n",
       "        text-align: right;\n",
       "    }\n",
       "</style>\n",
       "<table border=\"1\" class=\"dataframe\">\n",
       "  <thead>\n",
       "    <tr style=\"text-align: right;\">\n",
       "      <th></th>\n",
       "      <th>token</th>\n",
       "    </tr>\n",
       "    <tr>\n",
       "      <th>token_id</th>\n",
       "      <th></th>\n",
       "    </tr>\n",
       "  </thead>\n",
       "  <tbody>\n",
       "    <tr>\n",
       "      <th>101</th>\n",
       "      <td></td>\n",
       "    </tr>\n",
       "    <tr>\n",
       "      <th>7592</th>\n",
       "      <td>hello</td>\n",
       "    </tr>\n",
       "    <tr>\n",
       "      <th>1045</th>\n",
       "      <td>i</td>\n",
       "    </tr>\n",
       "    <tr>\n",
       "      <th>2215</th>\n",
       "      <td>want</td>\n",
       "    </tr>\n",
       "    <tr>\n",
       "      <th>2000</th>\n",
       "      <td>to</td>\n",
       "    </tr>\n",
       "    <tr>\n",
       "      <th>4521</th>\n",
       "      <td>eat</td>\n",
       "    </tr>\n",
       "    <tr>\n",
       "      <th>1037</th>\n",
       "      <td>a</td>\n",
       "    </tr>\n",
       "    <tr>\n",
       "      <th>23566</th>\n",
       "      <td>vegetarian</td>\n",
       "    </tr>\n",
       "    <tr>\n",
       "      <th>10733</th>\n",
       "      <td>pizza</td>\n",
       "    </tr>\n",
       "    <tr>\n",
       "      <th>1998</th>\n",
       "      <td>and</td>\n",
       "    </tr>\n",
       "    <tr>\n",
       "      <th>1037</th>\n",
       "      <td>a</td>\n",
       "    </tr>\n",
       "    <tr>\n",
       "      <th>23689</th>\n",
       "      <td>MIL</td>\n",
       "    </tr>\n",
       "    <tr>\n",
       "      <th>2546</th>\n",
       "      <td>F</td>\n",
       "    </tr>\n",
       "    <tr>\n",
       "      <th>102</th>\n",
       "      <td></td>\n",
       "    </tr>\n",
       "  </tbody>\n",
       "</table>\n",
       "</div>"
      ],
      "text/plain": [
       "               token\n",
       "token_id            \n",
       "101                 \n",
       "7592           hello\n",
       "1045               i\n",
       "2215            want\n",
       "2000              to\n",
       "4521             eat\n",
       "1037               a\n",
       "23566     vegetarian\n",
       "10733          pizza\n",
       "1998             and\n",
       "1037               a\n",
       "23689            MIL\n",
       "2546               F\n",
       "102                 "
      ]
     },
     "execution_count": 207,
     "metadata": {},
     "output_type": "execute_result"
    }
   ],
   "source": [
    "quote=\"hello i want to eat a vegetarian pizza and a MILF\"\n",
    "encoding=tokenizer(quote,return_offsets_mapping=True)\n",
    "pd.DataFrame(\n",
    "    {\"token\": [quote[x[0] : x[1]] for x in encoding[\"offset_mapping\"]]},\n",
    "    index=pd.Index(encoding[\"input_ids\"], name=\"token_id\"),\n",
    ")\n"
   ]
  },
  {
   "cell_type": "code",
   "execution_count": 211,
   "id": "b67a0a5e",
   "metadata": {
    "ExecuteTime": {
     "end_time": "2022-01-23T19:47:29.742731Z",
     "start_time": "2022-01-23T19:47:29.738726Z"
    }
   },
   "outputs": [],
   "source": [
    "arr=np.array(pd.Series([1,1,0,0,0,1,2,2,2]))"
   ]
  },
  {
   "cell_type": "code",
   "execution_count": 222,
   "id": "8719872a",
   "metadata": {
    "ExecuteTime": {
     "end_time": "2022-01-23T19:49:28.833055Z",
     "start_time": "2022-01-23T19:49:28.829627Z"
    }
   },
   "outputs": [],
   "source": [
    "labels=np.zeros((arr.size,arr.max()+1))"
   ]
  },
  {
   "cell_type": "code",
   "execution_count": 223,
   "id": "b478f5bc",
   "metadata": {
    "ExecuteTime": {
     "end_time": "2022-01-23T19:49:29.413288Z",
     "start_time": "2022-01-23T19:49:29.408361Z"
    }
   },
   "outputs": [
    {
     "data": {
      "text/plain": [
       "array([[0., 0., 0.],\n",
       "       [0., 0., 0.],\n",
       "       [0., 0., 0.],\n",
       "       [0., 0., 0.],\n",
       "       [0., 0., 0.],\n",
       "       [0., 0., 0.],\n",
       "       [0., 0., 0.],\n",
       "       [0., 0., 0.],\n",
       "       [0., 0., 0.]])"
      ]
     },
     "execution_count": 223,
     "metadata": {},
     "output_type": "execute_result"
    }
   ],
   "source": [
    "labels"
   ]
  },
  {
   "cell_type": "code",
   "execution_count": 217,
   "id": "c124559d",
   "metadata": {
    "ExecuteTime": {
     "end_time": "2022-01-23T19:48:47.353117Z",
     "start_time": "2022-01-23T19:48:47.347468Z"
    }
   },
   "outputs": [],
   "source": [
    "labels[np.arange(arr.size),arr]=1"
   ]
  },
  {
   "cell_type": "code",
   "execution_count": 218,
   "id": "002aeb7e",
   "metadata": {
    "ExecuteTime": {
     "end_time": "2022-01-23T19:48:50.060392Z",
     "start_time": "2022-01-23T19:48:50.053009Z"
    }
   },
   "outputs": [
    {
     "data": {
      "text/plain": [
       "array([[0., 1., 0.],\n",
       "       [0., 1., 0.],\n",
       "       [1., 0., 0.],\n",
       "       [1., 0., 0.],\n",
       "       [1., 0., 0.],\n",
       "       [0., 1., 0.],\n",
       "       [0., 0., 1.],\n",
       "       [0., 0., 1.],\n",
       "       [0., 0., 1.]])"
      ]
     },
     "execution_count": 218,
     "metadata": {},
     "output_type": "execute_result"
    }
   ],
   "source": [
    "labels"
   ]
  },
  {
   "cell_type": "code",
   "execution_count": 219,
   "id": "73acaf63",
   "metadata": {
    "ExecuteTime": {
     "end_time": "2022-01-23T19:49:02.829634Z",
     "start_time": "2022-01-23T19:49:02.824225Z"
    }
   },
   "outputs": [
    {
     "data": {
      "text/plain": [
       "array([0, 1, 2, 3, 4, 5, 6, 7, 8])"
      ]
     },
     "execution_count": 219,
     "metadata": {},
     "output_type": "execute_result"
    }
   ],
   "source": [
    "np.arange(arr.size)"
   ]
  },
  {
   "cell_type": "code",
   "execution_count": 228,
   "id": "2d971e2d",
   "metadata": {
    "ExecuteTime": {
     "end_time": "2022-01-23T19:51:22.465045Z",
     "start_time": "2022-01-23T19:51:22.461640Z"
    }
   },
   "outputs": [],
   "source": [
    "labels[np.arange(arr.size),arr]=1"
   ]
  },
  {
   "cell_type": "code",
   "execution_count": 229,
   "id": "08c2e462",
   "metadata": {
    "ExecuteTime": {
     "end_time": "2022-01-23T19:51:27.751955Z",
     "start_time": "2022-01-23T19:51:27.746240Z"
    }
   },
   "outputs": [
    {
     "data": {
      "text/plain": [
       "array([[0., 1., 0.],\n",
       "       [0., 1., 0.],\n",
       "       [1., 0., 0.],\n",
       "       [1., 0., 0.],\n",
       "       [1., 0., 0.],\n",
       "       [0., 1., 0.],\n",
       "       [0., 0., 1.],\n",
       "       [0., 0., 1.],\n",
       "       [0., 0., 1.]])"
      ]
     },
     "execution_count": 229,
     "metadata": {},
     "output_type": "execute_result"
    }
   ],
   "source": [
    "labels"
   ]
  },
  {
   "cell_type": "code",
   "execution_count": null,
   "id": "920e0d73",
   "metadata": {},
   "outputs": [],
   "source": []
  },
  {
   "cell_type": "code",
   "execution_count": null,
   "id": "768822da",
   "metadata": {},
   "outputs": [],
   "source": []
  }
 ],
 "metadata": {
  "kernelspec": {
   "display_name": "Python 3 (ipykernel)",
   "language": "python",
   "name": "python3"
  },
  "language_info": {
   "codemirror_mode": {
    "name": "ipython",
    "version": 3
   },
   "file_extension": ".py",
   "mimetype": "text/x-python",
   "name": "python",
   "nbconvert_exporter": "python",
   "pygments_lexer": "ipython3",
   "version": "3.8.12"
  },
  "toc": {
   "base_numbering": 1,
   "nav_menu": {},
   "number_sections": true,
   "sideBar": true,
   "skip_h1_title": false,
   "title_cell": "Table of Contents",
   "title_sidebar": "Contents",
   "toc_cell": false,
   "toc_position": {},
   "toc_section_display": true,
   "toc_window_display": false
  }
 },
 "nbformat": 4,
 "nbformat_minor": 5
}
