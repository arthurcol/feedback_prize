{
 "cells": [
  {
   "cell_type": "markdown",
   "id": "cf77c851",
   "metadata": {},
   "source": [
    "## Imports and load data"
   ]
  },
  {
   "cell_type": "code",
   "execution_count": 2,
   "id": "f9331fbf",
   "metadata": {
    "ExecuteTime": {
     "end_time": "2021-12-28T14:35:11.922379Z",
     "start_time": "2021-12-28T14:35:09.308993Z"
    }
   },
   "outputs": [],
   "source": [
    "import pandas as pd \n",
    "import numpy as np \n",
    "import matplotlib.pyplot as plt"
   ]
  },
  {
   "cell_type": "code",
   "execution_count": 82,
   "id": "e6f9bd66",
   "metadata": {
    "ExecuteTime": {
     "end_time": "2021-12-28T17:33:39.648000Z",
     "start_time": "2021-12-28T17:33:39.644762Z"
    }
   },
   "outputs": [],
   "source": [
    "from spacy import displacy"
   ]
  },
  {
   "cell_type": "code",
   "execution_count": 346,
   "id": "bfb96657",
   "metadata": {
    "ExecuteTime": {
     "end_time": "2021-12-28T21:15:07.375060Z",
     "start_time": "2021-12-28T21:15:07.371656Z"
    }
   },
   "outputs": [],
   "source": [
    "from IPython.display import HTML"
   ]
  },
  {
   "cell_type": "code",
   "execution_count": 3,
   "id": "8713a643",
   "metadata": {
    "ExecuteTime": {
     "end_time": "2021-12-28T14:35:42.430673Z",
     "start_time": "2021-12-28T14:35:41.666450Z"
    }
   },
   "outputs": [
    {
     "data": {
      "text/html": [
       "<div>\n",
       "<style scoped>\n",
       "    .dataframe tbody tr th:only-of-type {\n",
       "        vertical-align: middle;\n",
       "    }\n",
       "\n",
       "    .dataframe tbody tr th {\n",
       "        vertical-align: top;\n",
       "    }\n",
       "\n",
       "    .dataframe thead th {\n",
       "        text-align: right;\n",
       "    }\n",
       "</style>\n",
       "<table border=\"1\" class=\"dataframe\">\n",
       "  <thead>\n",
       "    <tr style=\"text-align: right;\">\n",
       "      <th></th>\n",
       "      <th>id</th>\n",
       "      <th>discourse_id</th>\n",
       "      <th>discourse_start</th>\n",
       "      <th>discourse_end</th>\n",
       "      <th>discourse_text</th>\n",
       "      <th>discourse_type</th>\n",
       "      <th>discourse_type_num</th>\n",
       "      <th>predictionstring</th>\n",
       "    </tr>\n",
       "  </thead>\n",
       "  <tbody>\n",
       "    <tr>\n",
       "      <th>0</th>\n",
       "      <td>423A1CA112E2</td>\n",
       "      <td>1.622628e+12</td>\n",
       "      <td>8.0</td>\n",
       "      <td>229.0</td>\n",
       "      <td>Modern humans today are always on their phone....</td>\n",
       "      <td>Lead</td>\n",
       "      <td>Lead 1</td>\n",
       "      <td>1 2 3 4 5 6 7 8 9 10 11 12 13 14 15 16 17 18 1...</td>\n",
       "    </tr>\n",
       "    <tr>\n",
       "      <th>1</th>\n",
       "      <td>423A1CA112E2</td>\n",
       "      <td>1.622628e+12</td>\n",
       "      <td>230.0</td>\n",
       "      <td>312.0</td>\n",
       "      <td>They are some really bad consequences when stu...</td>\n",
       "      <td>Position</td>\n",
       "      <td>Position 1</td>\n",
       "      <td>45 46 47 48 49 50 51 52 53 54 55 56 57 58 59</td>\n",
       "    </tr>\n",
       "    <tr>\n",
       "      <th>2</th>\n",
       "      <td>423A1CA112E2</td>\n",
       "      <td>1.622628e+12</td>\n",
       "      <td>313.0</td>\n",
       "      <td>401.0</td>\n",
       "      <td>Some certain areas in the United States ban ph...</td>\n",
       "      <td>Evidence</td>\n",
       "      <td>Evidence 1</td>\n",
       "      <td>60 61 62 63 64 65 66 67 68 69 70 71 72 73 74 75</td>\n",
       "    </tr>\n",
       "    <tr>\n",
       "      <th>3</th>\n",
       "      <td>423A1CA112E2</td>\n",
       "      <td>1.622628e+12</td>\n",
       "      <td>402.0</td>\n",
       "      <td>758.0</td>\n",
       "      <td>When people have phones, they know about certa...</td>\n",
       "      <td>Evidence</td>\n",
       "      <td>Evidence 2</td>\n",
       "      <td>76 77 78 79 80 81 82 83 84 85 86 87 88 89 90 9...</td>\n",
       "    </tr>\n",
       "    <tr>\n",
       "      <th>4</th>\n",
       "      <td>423A1CA112E2</td>\n",
       "      <td>1.622628e+12</td>\n",
       "      <td>759.0</td>\n",
       "      <td>886.0</td>\n",
       "      <td>Driving is one of the way how to get around. P...</td>\n",
       "      <td>Claim</td>\n",
       "      <td>Claim 1</td>\n",
       "      <td>139 140 141 142 143 144 145 146 147 148 149 15...</td>\n",
       "    </tr>\n",
       "  </tbody>\n",
       "</table>\n",
       "</div>"
      ],
      "text/plain": [
       "             id  discourse_id  discourse_start  discourse_end  \\\n",
       "0  423A1CA112E2  1.622628e+12              8.0          229.0   \n",
       "1  423A1CA112E2  1.622628e+12            230.0          312.0   \n",
       "2  423A1CA112E2  1.622628e+12            313.0          401.0   \n",
       "3  423A1CA112E2  1.622628e+12            402.0          758.0   \n",
       "4  423A1CA112E2  1.622628e+12            759.0          886.0   \n",
       "\n",
       "                                      discourse_text discourse_type  \\\n",
       "0  Modern humans today are always on their phone....           Lead   \n",
       "1  They are some really bad consequences when stu...       Position   \n",
       "2  Some certain areas in the United States ban ph...       Evidence   \n",
       "3  When people have phones, they know about certa...       Evidence   \n",
       "4  Driving is one of the way how to get around. P...          Claim   \n",
       "\n",
       "  discourse_type_num                                   predictionstring  \n",
       "0             Lead 1  1 2 3 4 5 6 7 8 9 10 11 12 13 14 15 16 17 18 1...  \n",
       "1         Position 1       45 46 47 48 49 50 51 52 53 54 55 56 57 58 59  \n",
       "2         Evidence 1    60 61 62 63 64 65 66 67 68 69 70 71 72 73 74 75  \n",
       "3         Evidence 2  76 77 78 79 80 81 82 83 84 85 86 87 88 89 90 9...  \n",
       "4            Claim 1  139 140 141 142 143 144 145 146 147 148 149 15...  "
      ]
     },
     "execution_count": 3,
     "metadata": {},
     "output_type": "execute_result"
    }
   ],
   "source": [
    "df = pd.read_csv('../raw_data/train.csv')\n",
    "df.head()"
   ]
  },
  {
   "cell_type": "markdown",
   "id": "c1e54660",
   "metadata": {},
   "source": [
    "## Explorator"
   ]
  },
  {
   "cell_type": "code",
   "execution_count": 14,
   "id": "236fa1f5",
   "metadata": {
    "ExecuteTime": {
     "end_time": "2021-12-28T14:46:46.628033Z",
     "start_time": "2021-12-28T14:46:44.830643Z"
    }
   },
   "outputs": [],
   "source": [
    "## Check whether there are a lot of type change in the middle of a sentence\n",
    "count=0\n",
    "others=[]\n",
    "for i in range(len(df)):\n",
    "    if df.loc[i,'discourse_text'][-1]!='.':\n",
    "        count+=1\n",
    "        others.append(df.loc[i,'discourse_text'][-1])"
   ]
  },
  {
   "cell_type": "code",
   "execution_count": 17,
   "id": "87f7c19e",
   "metadata": {
    "ExecuteTime": {
     "end_time": "2021-12-28T14:47:02.008718Z",
     "start_time": "2021-12-28T14:47:02.003615Z"
    }
   },
   "outputs": [
    {
     "data": {
      "text/plain": [
       "0.7014200273055519"
      ]
     },
     "execution_count": 17,
     "metadata": {},
     "output_type": "execute_result"
    }
   ],
   "source": [
    "count/len(df)"
   ]
  },
  {
   "cell_type": "code",
   "execution_count": 30,
   "id": "71183d10",
   "metadata": {
    "ExecuteTime": {
     "end_time": "2021-12-28T16:45:31.496762Z",
     "start_time": "2021-12-28T16:45:31.482616Z"
    },
    "scrolled": true
   },
   "outputs": [
    {
     "data": {
      "text/plain": [
       "['Lead',\n",
       " 'Position',\n",
       " 'Evidence',\n",
       " 'Claim',\n",
       " 'Concluding Statement',\n",
       " 'Counterclaim',\n",
       " 'Rebuttal']"
      ]
     },
     "execution_count": 30,
     "metadata": {},
     "output_type": "execute_result"
    }
   ],
   "source": [
    "discourse_type = df['discourse_type'].unique().tolist()\n",
    "discourse_type"
   ]
  },
  {
   "cell_type": "code",
   "execution_count": 91,
   "id": "efe11552",
   "metadata": {
    "ExecuteTime": {
     "end_time": "2021-12-28T17:38:04.707883Z",
     "start_time": "2021-12-28T17:38:03.434179Z"
    }
   },
   "outputs": [],
   "source": [
    "df_grouped=df.groupby('id').agg(list).reset_index()"
   ]
  },
  {
   "cell_type": "code",
   "execution_count": 31,
   "id": "57ca8cb8",
   "metadata": {
    "ExecuteTime": {
     "end_time": "2021-12-28T16:46:31.306226Z",
     "start_time": "2021-12-28T16:46:31.279256Z"
    },
    "scrolled": true
   },
   "outputs": [
    {
     "data": {
      "text/html": [
       "<div>\n",
       "<style scoped>\n",
       "    .dataframe tbody tr th:only-of-type {\n",
       "        vertical-align: middle;\n",
       "    }\n",
       "\n",
       "    .dataframe tbody tr th {\n",
       "        vertical-align: top;\n",
       "    }\n",
       "\n",
       "    .dataframe thead th {\n",
       "        text-align: right;\n",
       "    }\n",
       "</style>\n",
       "<table border=\"1\" class=\"dataframe\">\n",
       "  <thead>\n",
       "    <tr style=\"text-align: right;\">\n",
       "      <th></th>\n",
       "      <th>discourse_id</th>\n",
       "      <th>discourse_start</th>\n",
       "      <th>discourse_end</th>\n",
       "      <th>discourse_text</th>\n",
       "      <th>discourse_type</th>\n",
       "      <th>discourse_type_num</th>\n",
       "      <th>predictionstring</th>\n",
       "    </tr>\n",
       "    <tr>\n",
       "      <th>id</th>\n",
       "      <th></th>\n",
       "      <th></th>\n",
       "      <th></th>\n",
       "      <th></th>\n",
       "      <th></th>\n",
       "      <th></th>\n",
       "      <th></th>\n",
       "    </tr>\n",
       "  </thead>\n",
       "  <tbody>\n",
       "    <tr>\n",
       "      <th>0000D23A521A</th>\n",
       "      <td>[1617734767734.0, 1617734782429.0, 16177348077...</td>\n",
       "      <td>[0.0, 170.0, 358.0, 438.0, 627.0, 722.0, 836.0...</td>\n",
       "      <td>[170.0, 357.0, 438.0, 626.0, 722.0, 836.0, 101...</td>\n",
       "      <td>[Some people belive that the so called \"face\" ...</td>\n",
       "      <td>[Position, Evidence, Evidence, Claim, Counterc...</td>\n",
       "      <td>[Position 1, Evidence 1, Evidence 2, Claim 1, ...</td>\n",
       "      <td>[0 1 2 3 4 5 6 7 8 9 10 11 12 13 14 15 16 17 1...</td>\n",
       "    </tr>\n",
       "    <tr>\n",
       "      <th>00066EA9880D</th>\n",
       "      <td>[1621104238021.0, 1621104245981.0, 16211043488...</td>\n",
       "      <td>[0.0, 456.0, 638.0, 738.0, 1399.0, 1488.0, 231...</td>\n",
       "      <td>[455.0, 592.0, 738.0, 1398.0, 1487.0, 2219.0, ...</td>\n",
       "      <td>[Driverless cars are exaclty what you would ex...</td>\n",
       "      <td>[Lead, Position, Claim, Evidence, Claim, Evide...</td>\n",
       "      <td>[Lead 1, Position 1, Claim 1, Evidence 1, Clai...</td>\n",
       "      <td>[0 1 2 3 4 5 6 7 8 9 10 11 12 13 14 15 16 17 1...</td>\n",
       "    </tr>\n",
       "    <tr>\n",
       "      <th>000E6DE9E817</th>\n",
       "      <td>[1617296637311.0, 1617296650644.0, 16172966674...</td>\n",
       "      <td>[17.0, 64.0, 158.0, 310.0, 438.0, 551.0, 776.0...</td>\n",
       "      <td>[56.0, 157.0, 309.0, 422.0, 551.0, 775.0, 961....</td>\n",
       "      <td>[I am arguing against the policy change , even...</td>\n",
       "      <td>[Position, Counterclaim, Rebuttal, Evidence, C...</td>\n",
       "      <td>[Position 1, Counterclaim 1, Rebuttal 1, Evide...</td>\n",
       "      <td>[2 3 4 5 6 7 8, 10 11 12 13 14 15 16 17 18 19 ...</td>\n",
       "    </tr>\n",
       "  </tbody>\n",
       "</table>\n",
       "</div>"
      ],
      "text/plain": [
       "                                                   discourse_id  \\\n",
       "id                                                                \n",
       "0000D23A521A  [1617734767734.0, 1617734782429.0, 16177348077...   \n",
       "00066EA9880D  [1621104238021.0, 1621104245981.0, 16211043488...   \n",
       "000E6DE9E817  [1617296637311.0, 1617296650644.0, 16172966674...   \n",
       "\n",
       "                                                discourse_start  \\\n",
       "id                                                                \n",
       "0000D23A521A  [0.0, 170.0, 358.0, 438.0, 627.0, 722.0, 836.0...   \n",
       "00066EA9880D  [0.0, 456.0, 638.0, 738.0, 1399.0, 1488.0, 231...   \n",
       "000E6DE9E817  [17.0, 64.0, 158.0, 310.0, 438.0, 551.0, 776.0...   \n",
       "\n",
       "                                                  discourse_end  \\\n",
       "id                                                                \n",
       "0000D23A521A  [170.0, 357.0, 438.0, 626.0, 722.0, 836.0, 101...   \n",
       "00066EA9880D  [455.0, 592.0, 738.0, 1398.0, 1487.0, 2219.0, ...   \n",
       "000E6DE9E817  [56.0, 157.0, 309.0, 422.0, 551.0, 775.0, 961....   \n",
       "\n",
       "                                                 discourse_text  \\\n",
       "id                                                                \n",
       "0000D23A521A  [Some people belive that the so called \"face\" ...   \n",
       "00066EA9880D  [Driverless cars are exaclty what you would ex...   \n",
       "000E6DE9E817  [I am arguing against the policy change , even...   \n",
       "\n",
       "                                                 discourse_type  \\\n",
       "id                                                                \n",
       "0000D23A521A  [Position, Evidence, Evidence, Claim, Counterc...   \n",
       "00066EA9880D  [Lead, Position, Claim, Evidence, Claim, Evide...   \n",
       "000E6DE9E817  [Position, Counterclaim, Rebuttal, Evidence, C...   \n",
       "\n",
       "                                             discourse_type_num  \\\n",
       "id                                                                \n",
       "0000D23A521A  [Position 1, Evidence 1, Evidence 2, Claim 1, ...   \n",
       "00066EA9880D  [Lead 1, Position 1, Claim 1, Evidence 1, Clai...   \n",
       "000E6DE9E817  [Position 1, Counterclaim 1, Rebuttal 1, Evide...   \n",
       "\n",
       "                                               predictionstring  \n",
       "id                                                               \n",
       "0000D23A521A  [0 1 2 3 4 5 6 7 8 9 10 11 12 13 14 15 16 17 1...  \n",
       "00066EA9880D  [0 1 2 3 4 5 6 7 8 9 10 11 12 13 14 15 16 17 1...  \n",
       "000E6DE9E817  [2 3 4 5 6 7 8, 10 11 12 13 14 15 16 17 18 19 ...  "
      ]
     },
     "execution_count": 31,
     "metadata": {},
     "output_type": "execute_result"
    }
   ],
   "source": [
    "df_grouped.head(3)"
   ]
  },
  {
   "cell_type": "code",
   "execution_count": 80,
   "id": "ca8cf174",
   "metadata": {
    "ExecuteTime": {
     "end_time": "2021-12-28T17:31:22.101063Z",
     "start_time": "2021-12-28T17:31:22.097517Z"
    }
   },
   "outputs": [],
   "source": [
    "## create function to retrieve the original essay\n",
    "def get_full_text(essay_id):\n",
    "    path=f'../raw_data/train/{essay_id}.txt'\n",
    "    with open(path,'r') as f:\n",
    "        text = f.read()\n",
    "    return text"
   ]
  },
  {
   "cell_type": "code",
   "execution_count": 88,
   "id": "85e809b9",
   "metadata": {
    "ExecuteTime": {
     "end_time": "2021-12-28T17:34:57.153707Z",
     "start_time": "2021-12-28T17:34:57.148070Z"
    },
    "scrolled": true
   },
   "outputs": [
    {
     "data": {
      "text/plain": [
       "'Some people belive that the so called \"face\" on mars was created by life on mars. This is not the case. The face on Mars is a naturally occuring land form called a mesa. It was not created by aliens, and there is no consiracy to hide alien lifeforms on mars. There is no evidence that NASA has found that even suggests that this face was created by aliens.\\n\\nA mesa is a naturally occuring rock formation, that is found on Mars and Earth. This \"face\" on mars only looks like a face because humans tend to see faces wherever we look, humans are obviously extremely social, which is why our brain is designed to recognize faces.\\n\\nMany conspiracy theorists believe that NASA is hiding life on Mars from the rest of the world. These people would be very wrong. If NASA found life on Mars, then they would get millions of people\\'s attention. NASA\\'s budget would increase drasticly, which means that their workers would get paid more. There is no good reason that NASA would hide life on Mars from the rest of the world.\\n\\nSo, NASA is not hiding life on Mars from us, and they are not trying to trick us into thinking that the \"face\" on mars is just a mesa, because it actually is. NASA hiding life would be illogical, because if they found life on Mars, they would make a lot of money, and we all know that the people at NASA aren\\'t illogical people.'"
      ]
     },
     "execution_count": 88,
     "metadata": {},
     "output_type": "execute_result"
    }
   ],
   "source": [
    "get_full_text('0000D23A521A')"
   ]
  },
  {
   "cell_type": "code",
   "execution_count": 212,
   "id": "accd9200",
   "metadata": {
    "ExecuteTime": {
     "end_time": "2021-12-28T19:09:47.849377Z",
     "start_time": "2021-12-28T19:09:47.829258Z"
    }
   },
   "outputs": [],
   "source": [
    "essay_ids=df['id'].unique().tolist()"
   ]
  },
  {
   "cell_type": "code",
   "execution_count": 220,
   "id": "5ab224fa",
   "metadata": {
    "ExecuteTime": {
     "end_time": "2021-12-28T19:12:30.697508Z",
     "start_time": "2021-12-28T19:12:30.693297Z"
    }
   },
   "outputs": [
    {
     "ename": "SyntaxError",
     "evalue": "invalid syntax (3508728097.py, line 3)",
     "output_type": "error",
     "traceback": [
      "\u001b[0;36m  File \u001b[0;32m\"/var/folders/zd/9ts3jb2s5472mty2sgdddp3m0000gn/T/ipykernel_19817/3508728097.py\"\u001b[0;36m, line \u001b[0;32m3\u001b[0m\n\u001b[0;31m    for id_ in essay_ids}\u001b[0m\n\u001b[0m    ^\u001b[0m\n\u001b[0;31mSyntaxError\u001b[0m\u001b[0;31m:\u001b[0m invalid syntax\n"
     ]
    }
   ],
   "source": [
    "full_texts={id_:get_full_text(id_) for id_ in essay_ids}"
   ]
  },
  {
   "cell_type": "code",
   "execution_count": 225,
   "id": "98d4248d",
   "metadata": {
    "ExecuteTime": {
     "end_time": "2021-12-28T19:13:39.384840Z",
     "start_time": "2021-12-28T19:13:39.156027Z"
    }
   },
   "outputs": [],
   "source": [
    "essays_df=pd.DataFrame(full_texts,index=[0]).T.reset_index().rename(columns={'index':'id',0:'text'})"
   ]
  },
  {
   "cell_type": "code",
   "execution_count": 230,
   "id": "3b40b72b",
   "metadata": {
    "ExecuteTime": {
     "end_time": "2021-12-28T19:16:20.003575Z",
     "start_time": "2021-12-28T19:16:19.999129Z"
    }
   },
   "outputs": [],
   "source": [
    "essays_df.set_index('id',inplace=True)"
   ]
  },
  {
   "cell_type": "code",
   "execution_count": 118,
   "id": "9ece9648",
   "metadata": {
    "ExecuteTime": {
     "end_time": "2021-12-28T17:55:36.651061Z",
     "start_time": "2021-12-28T17:55:36.645630Z"
    }
   },
   "outputs": [
    {
     "data": {
      "text/html": [
       "<span class=\"tex2jax_ignore\"><div class=\"entities\" style=\"line-height: 2.5; direction: ltr\">Th\n",
       "<mark class=\"entity\" style=\"background: #ddd; padding: 0.45em 0.6em; margin: 0 0.25em; line-height: 1; border-radius: 0.35em;\">\n",
       "    is \n",
       "    <span style=\"font-size: 0.8em; font-weight: bold; line-height: 1; border-radius: 0.35em; vertical-align: middle; margin-left: 0.5rem\">haha</span>\n",
       "</mark>\n",
       "is a test.</div></span>"
      ],
      "text/plain": [
       "<IPython.core.display.HTML object>"
      ]
     },
     "metadata": {},
     "output_type": "display_data"
    }
   ],
   "source": [
    "displacy.render(dict(text='This is a test.',ents=[{'start':2,'end':5,'label':'haha'}]),style='ent',manual=True,jupyter=True)"
   ]
  },
  {
   "cell_type": "code",
   "execution_count": 119,
   "id": "aa17fe7b",
   "metadata": {
    "ExecuteTime": {
     "end_time": "2021-12-28T17:56:59.333318Z",
     "start_time": "2021-12-28T17:56:59.315778Z"
    }
   },
   "outputs": [
    {
     "data": {
      "text/html": [
       "<div>\n",
       "<style scoped>\n",
       "    .dataframe tbody tr th:only-of-type {\n",
       "        vertical-align: middle;\n",
       "    }\n",
       "\n",
       "    .dataframe tbody tr th {\n",
       "        vertical-align: top;\n",
       "    }\n",
       "\n",
       "    .dataframe thead th {\n",
       "        text-align: right;\n",
       "    }\n",
       "</style>\n",
       "<table border=\"1\" class=\"dataframe\">\n",
       "  <thead>\n",
       "    <tr style=\"text-align: right;\">\n",
       "      <th></th>\n",
       "      <th>id</th>\n",
       "      <th>discourse_id</th>\n",
       "      <th>discourse_start</th>\n",
       "      <th>discourse_end</th>\n",
       "      <th>discourse_text</th>\n",
       "      <th>discourse_type</th>\n",
       "      <th>discourse_type_num</th>\n",
       "      <th>predictionstring</th>\n",
       "    </tr>\n",
       "  </thead>\n",
       "  <tbody>\n",
       "    <tr>\n",
       "      <th>0</th>\n",
       "      <td>423A1CA112E2</td>\n",
       "      <td>1.622628e+12</td>\n",
       "      <td>8.0</td>\n",
       "      <td>229.0</td>\n",
       "      <td>Modern humans today are always on their phone....</td>\n",
       "      <td>Lead</td>\n",
       "      <td>Lead 1</td>\n",
       "      <td>1 2 3 4 5 6 7 8 9 10 11 12 13 14 15 16 17 18 1...</td>\n",
       "    </tr>\n",
       "    <tr>\n",
       "      <th>1</th>\n",
       "      <td>423A1CA112E2</td>\n",
       "      <td>1.622628e+12</td>\n",
       "      <td>230.0</td>\n",
       "      <td>312.0</td>\n",
       "      <td>They are some really bad consequences when stu...</td>\n",
       "      <td>Position</td>\n",
       "      <td>Position 1</td>\n",
       "      <td>45 46 47 48 49 50 51 52 53 54 55 56 57 58 59</td>\n",
       "    </tr>\n",
       "    <tr>\n",
       "      <th>2</th>\n",
       "      <td>423A1CA112E2</td>\n",
       "      <td>1.622628e+12</td>\n",
       "      <td>313.0</td>\n",
       "      <td>401.0</td>\n",
       "      <td>Some certain areas in the United States ban ph...</td>\n",
       "      <td>Evidence</td>\n",
       "      <td>Evidence 1</td>\n",
       "      <td>60 61 62 63 64 65 66 67 68 69 70 71 72 73 74 75</td>\n",
       "    </tr>\n",
       "    <tr>\n",
       "      <th>3</th>\n",
       "      <td>423A1CA112E2</td>\n",
       "      <td>1.622628e+12</td>\n",
       "      <td>402.0</td>\n",
       "      <td>758.0</td>\n",
       "      <td>When people have phones, they know about certa...</td>\n",
       "      <td>Evidence</td>\n",
       "      <td>Evidence 2</td>\n",
       "      <td>76 77 78 79 80 81 82 83 84 85 86 87 88 89 90 9...</td>\n",
       "    </tr>\n",
       "    <tr>\n",
       "      <th>4</th>\n",
       "      <td>423A1CA112E2</td>\n",
       "      <td>1.622628e+12</td>\n",
       "      <td>759.0</td>\n",
       "      <td>886.0</td>\n",
       "      <td>Driving is one of the way how to get around. P...</td>\n",
       "      <td>Claim</td>\n",
       "      <td>Claim 1</td>\n",
       "      <td>139 140 141 142 143 144 145 146 147 148 149 15...</td>\n",
       "    </tr>\n",
       "  </tbody>\n",
       "</table>\n",
       "</div>"
      ],
      "text/plain": [
       "             id  discourse_id  discourse_start  discourse_end  \\\n",
       "0  423A1CA112E2  1.622628e+12              8.0          229.0   \n",
       "1  423A1CA112E2  1.622628e+12            230.0          312.0   \n",
       "2  423A1CA112E2  1.622628e+12            313.0          401.0   \n",
       "3  423A1CA112E2  1.622628e+12            402.0          758.0   \n",
       "4  423A1CA112E2  1.622628e+12            759.0          886.0   \n",
       "\n",
       "                                      discourse_text discourse_type  \\\n",
       "0  Modern humans today are always on their phone....           Lead   \n",
       "1  They are some really bad consequences when stu...       Position   \n",
       "2  Some certain areas in the United States ban ph...       Evidence   \n",
       "3  When people have phones, they know about certa...       Evidence   \n",
       "4  Driving is one of the way how to get around. P...          Claim   \n",
       "\n",
       "  discourse_type_num                                   predictionstring  \n",
       "0             Lead 1  1 2 3 4 5 6 7 8 9 10 11 12 13 14 15 16 17 18 1...  \n",
       "1         Position 1       45 46 47 48 49 50 51 52 53 54 55 56 57 58 59  \n",
       "2         Evidence 1    60 61 62 63 64 65 66 67 68 69 70 71 72 73 74 75  \n",
       "3         Evidence 2  76 77 78 79 80 81 82 83 84 85 86 87 88 89 90 9...  \n",
       "4            Claim 1  139 140 141 142 143 144 145 146 147 148 149 15...  "
      ]
     },
     "execution_count": 119,
     "metadata": {},
     "output_type": "execute_result"
    }
   ],
   "source": [
    "df.head()"
   ]
  },
  {
   "cell_type": "code",
   "execution_count": 165,
   "id": "30602c82",
   "metadata": {
    "ExecuteTime": {
     "end_time": "2021-12-28T18:27:08.517135Z",
     "start_time": "2021-12-28T18:27:08.495460Z"
    }
   },
   "outputs": [
    {
     "data": {
      "text/html": [
       "<div>\n",
       "<style scoped>\n",
       "    .dataframe tbody tr th:only-of-type {\n",
       "        vertical-align: middle;\n",
       "    }\n",
       "\n",
       "    .dataframe tbody tr th {\n",
       "        vertical-align: top;\n",
       "    }\n",
       "\n",
       "    .dataframe thead th {\n",
       "        text-align: right;\n",
       "    }\n",
       "</style>\n",
       "<table border=\"1\" class=\"dataframe\">\n",
       "  <thead>\n",
       "    <tr style=\"text-align: right;\">\n",
       "      <th></th>\n",
       "      <th>index</th>\n",
       "      <th>id</th>\n",
       "      <th>discourse_id</th>\n",
       "      <th>discourse_start</th>\n",
       "      <th>discourse_end</th>\n",
       "      <th>discourse_text</th>\n",
       "      <th>discourse_type</th>\n",
       "      <th>discourse_type_num</th>\n",
       "      <th>predictionstring</th>\n",
       "    </tr>\n",
       "  </thead>\n",
       "  <tbody>\n",
       "    <tr>\n",
       "      <th>0</th>\n",
       "      <td>0</td>\n",
       "      <td>423A1CA112E2</td>\n",
       "      <td>1.622628e+12</td>\n",
       "      <td>8.0</td>\n",
       "      <td>229.0</td>\n",
       "      <td>Modern humans today are always on their phone....</td>\n",
       "      <td>Lead</td>\n",
       "      <td>Lead 1</td>\n",
       "      <td>1 2 3 4 5 6 7 8 9 10 11 12 13 14 15 16 17 18 1...</td>\n",
       "    </tr>\n",
       "    <tr>\n",
       "      <th>1</th>\n",
       "      <td>1</td>\n",
       "      <td>423A1CA112E2</td>\n",
       "      <td>1.622628e+12</td>\n",
       "      <td>230.0</td>\n",
       "      <td>312.0</td>\n",
       "      <td>They are some really bad consequences when stu...</td>\n",
       "      <td>Position</td>\n",
       "      <td>Position 1</td>\n",
       "      <td>45 46 47 48 49 50 51 52 53 54 55 56 57 58 59</td>\n",
       "    </tr>\n",
       "    <tr>\n",
       "      <th>2</th>\n",
       "      <td>2</td>\n",
       "      <td>423A1CA112E2</td>\n",
       "      <td>1.622628e+12</td>\n",
       "      <td>313.0</td>\n",
       "      <td>401.0</td>\n",
       "      <td>Some certain areas in the United States ban ph...</td>\n",
       "      <td>Evidence</td>\n",
       "      <td>Evidence 1</td>\n",
       "      <td>60 61 62 63 64 65 66 67 68 69 70 71 72 73 74 75</td>\n",
       "    </tr>\n",
       "    <tr>\n",
       "      <th>3</th>\n",
       "      <td>3</td>\n",
       "      <td>423A1CA112E2</td>\n",
       "      <td>1.622628e+12</td>\n",
       "      <td>402.0</td>\n",
       "      <td>758.0</td>\n",
       "      <td>When people have phones, they know about certa...</td>\n",
       "      <td>Evidence</td>\n",
       "      <td>Evidence 2</td>\n",
       "      <td>76 77 78 79 80 81 82 83 84 85 86 87 88 89 90 9...</td>\n",
       "    </tr>\n",
       "    <tr>\n",
       "      <th>4</th>\n",
       "      <td>4</td>\n",
       "      <td>423A1CA112E2</td>\n",
       "      <td>1.622628e+12</td>\n",
       "      <td>759.0</td>\n",
       "      <td>886.0</td>\n",
       "      <td>Driving is one of the way how to get around. P...</td>\n",
       "      <td>Claim</td>\n",
       "      <td>Claim 1</td>\n",
       "      <td>139 140 141 142 143 144 145 146 147 148 149 15...</td>\n",
       "    </tr>\n",
       "    <tr>\n",
       "      <th>...</th>\n",
       "      <td>...</td>\n",
       "      <td>...</td>\n",
       "      <td>...</td>\n",
       "      <td>...</td>\n",
       "      <td>...</td>\n",
       "      <td>...</td>\n",
       "      <td>...</td>\n",
       "      <td>...</td>\n",
       "      <td>...</td>\n",
       "    </tr>\n",
       "    <tr>\n",
       "      <th>495</th>\n",
       "      <td>495</td>\n",
       "      <td>354946A1CA46</td>\n",
       "      <td>1.623079e+12</td>\n",
       "      <td>2657.0</td>\n",
       "      <td>2824.0</td>\n",
       "      <td>Opponents whose work depends on a cell phone l...</td>\n",
       "      <td>Counterclaim</td>\n",
       "      <td>Counterclaim 2</td>\n",
       "      <td>450 451 452 453 454 455 456 457 458 459 460 46...</td>\n",
       "    </tr>\n",
       "    <tr>\n",
       "      <th>496</th>\n",
       "      <td>496</td>\n",
       "      <td>354946A1CA46</td>\n",
       "      <td>1.623079e+12</td>\n",
       "      <td>2824.0</td>\n",
       "      <td>2941.0</td>\n",
       "      <td>However, because of their habits, they can cre...</td>\n",
       "      <td>Rebuttal</td>\n",
       "      <td>Rebuttal 2</td>\n",
       "      <td>479 480 481 482 483 484 485 486 487 488 489 49...</td>\n",
       "    </tr>\n",
       "    <tr>\n",
       "      <th>497</th>\n",
       "      <td>497</td>\n",
       "      <td>354946A1CA46</td>\n",
       "      <td>1.623079e+12</td>\n",
       "      <td>2942.0</td>\n",
       "      <td>3309.0</td>\n",
       "      <td>Business issues can be stressful and dangerous...</td>\n",
       "      <td>Evidence</td>\n",
       "      <td>Evidence 4</td>\n",
       "      <td>497 498 499 500 501 502 503 504 505 506 507 50...</td>\n",
       "    </tr>\n",
       "    <tr>\n",
       "      <th>498</th>\n",
       "      <td>498</td>\n",
       "      <td>354946A1CA46</td>\n",
       "      <td>1.623079e+12</td>\n",
       "      <td>3310.0</td>\n",
       "      <td>3566.0</td>\n",
       "      <td>Everyday people die in car accidents because t...</td>\n",
       "      <td>Concluding Statement</td>\n",
       "      <td>Concluding Statement 1</td>\n",
       "      <td>560 561 562 563 564 565 566 567 568 569 570 57...</td>\n",
       "    </tr>\n",
       "    <tr>\n",
       "      <th>499</th>\n",
       "      <td>499</td>\n",
       "      <td>F3E71A1A4F8B</td>\n",
       "      <td>1.622669e+12</td>\n",
       "      <td>0.0</td>\n",
       "      <td>129.0</td>\n",
       "      <td>Driving while on your cellphone is a safety ha...</td>\n",
       "      <td>Position</td>\n",
       "      <td>Position 1</td>\n",
       "      <td>0 1 2 3 4 5 6 7 8 9 10 11 12 13 14 15 16 17 18...</td>\n",
       "    </tr>\n",
       "  </tbody>\n",
       "</table>\n",
       "<p>500 rows × 9 columns</p>\n",
       "</div>"
      ],
      "text/plain": [
       "     index            id  discourse_id  discourse_start  discourse_end  \\\n",
       "0        0  423A1CA112E2  1.622628e+12              8.0          229.0   \n",
       "1        1  423A1CA112E2  1.622628e+12            230.0          312.0   \n",
       "2        2  423A1CA112E2  1.622628e+12            313.0          401.0   \n",
       "3        3  423A1CA112E2  1.622628e+12            402.0          758.0   \n",
       "4        4  423A1CA112E2  1.622628e+12            759.0          886.0   \n",
       "..     ...           ...           ...              ...            ...   \n",
       "495    495  354946A1CA46  1.623079e+12           2657.0         2824.0   \n",
       "496    496  354946A1CA46  1.623079e+12           2824.0         2941.0   \n",
       "497    497  354946A1CA46  1.623079e+12           2942.0         3309.0   \n",
       "498    498  354946A1CA46  1.623079e+12           3310.0         3566.0   \n",
       "499    499  F3E71A1A4F8B  1.622669e+12              0.0          129.0   \n",
       "\n",
       "                                        discourse_text        discourse_type  \\\n",
       "0    Modern humans today are always on their phone....                  Lead   \n",
       "1    They are some really bad consequences when stu...              Position   \n",
       "2    Some certain areas in the United States ban ph...              Evidence   \n",
       "3    When people have phones, they know about certa...              Evidence   \n",
       "4    Driving is one of the way how to get around. P...                 Claim   \n",
       "..                                                 ...                   ...   \n",
       "495  Opponents whose work depends on a cell phone l...          Counterclaim   \n",
       "496  However, because of their habits, they can cre...              Rebuttal   \n",
       "497  Business issues can be stressful and dangerous...              Evidence   \n",
       "498  Everyday people die in car accidents because t...  Concluding Statement   \n",
       "499  Driving while on your cellphone is a safety ha...              Position   \n",
       "\n",
       "         discourse_type_num                                   predictionstring  \n",
       "0                    Lead 1  1 2 3 4 5 6 7 8 9 10 11 12 13 14 15 16 17 18 1...  \n",
       "1                Position 1       45 46 47 48 49 50 51 52 53 54 55 56 57 58 59  \n",
       "2                Evidence 1    60 61 62 63 64 65 66 67 68 69 70 71 72 73 74 75  \n",
       "3                Evidence 2  76 77 78 79 80 81 82 83 84 85 86 87 88 89 90 9...  \n",
       "4                   Claim 1  139 140 141 142 143 144 145 146 147 148 149 15...  \n",
       "..                      ...                                                ...  \n",
       "495          Counterclaim 2  450 451 452 453 454 455 456 457 458 459 460 46...  \n",
       "496              Rebuttal 2  479 480 481 482 483 484 485 486 487 488 489 49...  \n",
       "497              Evidence 4  497 498 499 500 501 502 503 504 505 506 507 50...  \n",
       "498  Concluding Statement 1  560 561 562 563 564 565 566 567 568 569 570 57...  \n",
       "499              Position 1  0 1 2 3 4 5 6 7 8 9 10 11 12 13 14 15 16 17 18...  \n",
       "\n",
       "[500 rows x 9 columns]"
      ]
     },
     "execution_count": 165,
     "metadata": {},
     "output_type": "execute_result"
    }
   ],
   "source": [
    "df_"
   ]
  },
  {
   "cell_type": "code",
   "execution_count": 315,
   "id": "cb7f7fd5",
   "metadata": {
    "ExecuteTime": {
     "end_time": "2021-12-28T20:58:37.717226Z",
     "start_time": "2021-12-28T20:58:37.708758Z"
    }
   },
   "outputs": [],
   "source": [
    "def create_gaps(df):\n",
    "    #first order to make sure \n",
    "    df_=df.sort_values(['id','discourse_start']).reset_index(drop=True)\n",
    "    gaps_df = pd.DataFrame(columns=df.columns)\n",
    "    counter_none=0\n",
    "    for i in range(1,len(df_)):\n",
    "    #CASE WHEN NEW ESSAY\n",
    "        if df_.loc[i,'id']!=df_.loc[i-1,'id'] :\n",
    "            counter_none=0\n",
    "            #CASE WHEN NEW ESSAY BEGINNING IS NOT LABELLED\n",
    "            if df_.loc[i,'discourse_start']!=0:\n",
    "                ## APPEND SAVE DF\n",
    "                counter_none+=1\n",
    "                gaps_df=gaps_df.append(dict(id=df_.loc[i,'id'],\n",
    "                                       discourse_start=0,\n",
    "                                       discourse_end=df_.loc[i,'discourse_start']-1,\n",
    "                                       discourse_type = 'None',\n",
    "                                       discourse_type_num = f'None {counter_none}'),ignore_index=True)\n",
    "                \n",
    "                \n",
    "            #REGULAR CASE : THE CURRENT LINE BELONGS TO THE SAME ESSAY AS THE PREVIOUS ONE\n",
    "        else:\n",
    "            #CASE WHEN IT IS NOT CONTINUOUS WITH THE PREVIOUS ONE\n",
    "            if df_.loc[i-1,'discourse_end'] +1 != df_.loc[i,'discourse_start']:\n",
    "                counter_none+=1\n",
    "                gaps_df=gaps_df.append(dict(id=df_.loc[i,'id'],\n",
    "                                   discourse_start=df_.loc[i-1,'discourse_end']+1,\n",
    "                                   discourse_end=df_.loc[i+1,'discourse_start']-1,\n",
    "                                   discourse_type = 'None',\n",
    "                                   discourse_type_num = f'None {counter_none}'),ignore_index=True)\n",
    "    \n",
    "    gaps_df=gaps_df.merge(essays_df,right_index=True,left_on='id')\n",
    "    \n",
    "    return gaps_df"
   ]
  },
  {
   "cell_type": "code",
   "execution_count": 318,
   "id": "930676ea",
   "metadata": {
    "ExecuteTime": {
     "end_time": "2021-12-28T20:58:47.402298Z",
     "start_time": "2021-12-28T20:58:47.398661Z"
    }
   },
   "outputs": [],
   "source": [
    "def slicer(df):\n",
    "    return df['text'][int(df['discourse_start']):int(df['discourse_end'])]\n",
    "    "
   ]
  },
  {
   "cell_type": "code",
   "execution_count": 324,
   "id": "58dab406",
   "metadata": {
    "ExecuteTime": {
     "end_time": "2021-12-28T21:02:44.870074Z",
     "start_time": "2021-12-28T21:00:00.796429Z"
    }
   },
   "outputs": [],
   "source": [
    "df_filled = create_gaps(df)"
   ]
  },
  {
   "cell_type": "code",
   "execution_count": 325,
   "id": "6d2748e0",
   "metadata": {
    "ExecuteTime": {
     "end_time": "2021-12-28T21:02:45.562079Z",
     "start_time": "2021-12-28T21:02:44.872662Z"
    }
   },
   "outputs": [],
   "source": [
    "df_filled['discourse_text'] = df_filled.apply(slicer,axis=1)"
   ]
  },
  {
   "cell_type": "code",
   "execution_count": 326,
   "id": "812acc81",
   "metadata": {
    "ExecuteTime": {
     "end_time": "2021-12-28T21:02:51.110482Z",
     "start_time": "2021-12-28T21:02:51.091925Z"
    }
   },
   "outputs": [
    {
     "data": {
      "text/html": [
       "<div>\n",
       "<style scoped>\n",
       "    .dataframe tbody tr th:only-of-type {\n",
       "        vertical-align: middle;\n",
       "    }\n",
       "\n",
       "    .dataframe tbody tr th {\n",
       "        vertical-align: top;\n",
       "    }\n",
       "\n",
       "    .dataframe thead th {\n",
       "        text-align: right;\n",
       "    }\n",
       "</style>\n",
       "<table border=\"1\" class=\"dataframe\">\n",
       "  <thead>\n",
       "    <tr style=\"text-align: right;\">\n",
       "      <th></th>\n",
       "      <th>id</th>\n",
       "      <th>discourse_id</th>\n",
       "      <th>discourse_start</th>\n",
       "      <th>discourse_end</th>\n",
       "      <th>discourse_text</th>\n",
       "      <th>discourse_type</th>\n",
       "      <th>discourse_type_num</th>\n",
       "      <th>predictionstring</th>\n",
       "      <th>text</th>\n",
       "    </tr>\n",
       "  </thead>\n",
       "  <tbody>\n",
       "    <tr>\n",
       "      <th>0</th>\n",
       "      <td>0000D23A521A</td>\n",
       "      <td>NaN</td>\n",
       "      <td>171.0</td>\n",
       "      <td>357.0</td>\n",
       "      <td>t was not created by aliens, and there is no c...</td>\n",
       "      <td>None</td>\n",
       "      <td>None 1</td>\n",
       "      <td>NaN</td>\n",
       "      <td>Some people belive that the so called \"face\" o...</td>\n",
       "    </tr>\n",
       "    <tr>\n",
       "      <th>1</th>\n",
       "      <td>0000D23A521A</td>\n",
       "      <td>NaN</td>\n",
       "      <td>439.0</td>\n",
       "      <td>626.0</td>\n",
       "      <td>his \"face\" on mars only looks like a face beca...</td>\n",
       "      <td>None</td>\n",
       "      <td>None 2</td>\n",
       "      <td>NaN</td>\n",
       "      <td>Some people belive that the so called \"face\" o...</td>\n",
       "    </tr>\n",
       "    <tr>\n",
       "      <th>2</th>\n",
       "      <td>0000D23A521A</td>\n",
       "      <td>NaN</td>\n",
       "      <td>723.0</td>\n",
       "      <td>835.0</td>\n",
       "      <td>hese people would be very wrong. If NASA found...</td>\n",
       "      <td>None</td>\n",
       "      <td>None 3</td>\n",
       "      <td>NaN</td>\n",
       "      <td>Some people belive that the so called \"face\" o...</td>\n",
       "    </tr>\n",
       "    <tr>\n",
       "      <th>3</th>\n",
       "      <td>0000D23A521A</td>\n",
       "      <td>NaN</td>\n",
       "      <td>837.0</td>\n",
       "      <td>1014.0</td>\n",
       "      <td>ASA's budget would increase drasticly, which m...</td>\n",
       "      <td>None</td>\n",
       "      <td>None 4</td>\n",
       "      <td>NaN</td>\n",
       "      <td>Some people belive that the so called \"face\" o...</td>\n",
       "    </tr>\n",
       "    <tr>\n",
       "      <th>4</th>\n",
       "      <td>00066EA9880D</td>\n",
       "      <td>NaN</td>\n",
       "      <td>593.0</td>\n",
       "      <td>737.0</td>\n",
       "      <td>\\nOne thing that the article mentions is that ...</td>\n",
       "      <td>None</td>\n",
       "      <td>None 1</td>\n",
       "      <td>NaN</td>\n",
       "      <td>Driverless cars are exaclty what you would exp...</td>\n",
       "    </tr>\n",
       "    <tr>\n",
       "      <th>...</th>\n",
       "      <td>...</td>\n",
       "      <td>...</td>\n",
       "      <td>...</td>\n",
       "      <td>...</td>\n",
       "      <td>...</td>\n",
       "      <td>...</td>\n",
       "      <td>...</td>\n",
       "      <td>...</td>\n",
       "      <td>...</td>\n",
       "    </tr>\n",
       "    <tr>\n",
       "      <th>47676</th>\n",
       "      <td>FFF868E06176</td>\n",
       "      <td>NaN</td>\n",
       "      <td>325.0</td>\n",
       "      <td>501.0</td>\n",
       "      <td>\\nOne reason students should be allowed to cre...</td>\n",
       "      <td>None</td>\n",
       "      <td>None 1</td>\n",
       "      <td>NaN</td>\n",
       "      <td>Every summer break, students are given project...</td>\n",
       "    </tr>\n",
       "    <tr>\n",
       "      <th>47677</th>\n",
       "      <td>FFF868E06176</td>\n",
       "      <td>NaN</td>\n",
       "      <td>915.0</td>\n",
       "      <td>1088.0</td>\n",
       "      <td>\\nAnother reason students would make the summe...</td>\n",
       "      <td>None</td>\n",
       "      <td>None 2</td>\n",
       "      <td>NaN</td>\n",
       "      <td>Every summer break, students are given project...</td>\n",
       "    </tr>\n",
       "    <tr>\n",
       "      <th>47678</th>\n",
       "      <td>FFFD0AF13501</td>\n",
       "      <td>NaN</td>\n",
       "      <td>0.0</td>\n",
       "      <td>236.0</td>\n",
       "      <td>In the article \"A Cowboy Who Rode the Waves\" L...</td>\n",
       "      <td>None</td>\n",
       "      <td>None 1</td>\n",
       "      <td>NaN</td>\n",
       "      <td>In the article \"A Cowboy Who Rode the Waves\" L...</td>\n",
       "    </tr>\n",
       "    <tr>\n",
       "      <th>47679</th>\n",
       "      <td>FFFD0AF13501</td>\n",
       "      <td>NaN</td>\n",
       "      <td>432.0</td>\n",
       "      <td>516.0</td>\n",
       "      <td>ven if you just want to help out your world ou...</td>\n",
       "      <td>None</td>\n",
       "      <td>None 2</td>\n",
       "      <td>NaN</td>\n",
       "      <td>In the article \"A Cowboy Who Rode the Waves\" L...</td>\n",
       "    </tr>\n",
       "    <tr>\n",
       "      <th>47680</th>\n",
       "      <td>FFFD0AF13501</td>\n",
       "      <td>NaN</td>\n",
       "      <td>944.0</td>\n",
       "      <td>1050.0</td>\n",
       "      <td>In conclusion, all i'm saying is that the seag...</td>\n",
       "      <td>None</td>\n",
       "      <td>None 3</td>\n",
       "      <td>NaN</td>\n",
       "      <td>In the article \"A Cowboy Who Rode the Waves\" L...</td>\n",
       "    </tr>\n",
       "  </tbody>\n",
       "</table>\n",
       "<p>47681 rows × 9 columns</p>\n",
       "</div>"
      ],
      "text/plain": [
       "                 id  discourse_id  discourse_start  discourse_end  \\\n",
       "0      0000D23A521A           NaN            171.0          357.0   \n",
       "1      0000D23A521A           NaN            439.0          626.0   \n",
       "2      0000D23A521A           NaN            723.0          835.0   \n",
       "3      0000D23A521A           NaN            837.0         1014.0   \n",
       "4      00066EA9880D           NaN            593.0          737.0   \n",
       "...             ...           ...              ...            ...   \n",
       "47676  FFF868E06176           NaN            325.0          501.0   \n",
       "47677  FFF868E06176           NaN            915.0         1088.0   \n",
       "47678  FFFD0AF13501           NaN              0.0          236.0   \n",
       "47679  FFFD0AF13501           NaN            432.0          516.0   \n",
       "47680  FFFD0AF13501           NaN            944.0         1050.0   \n",
       "\n",
       "                                          discourse_text discourse_type  \\\n",
       "0      t was not created by aliens, and there is no c...           None   \n",
       "1      his \"face\" on mars only looks like a face beca...           None   \n",
       "2      hese people would be very wrong. If NASA found...           None   \n",
       "3      ASA's budget would increase drasticly, which m...           None   \n",
       "4      \\nOne thing that the article mentions is that ...           None   \n",
       "...                                                  ...            ...   \n",
       "47676  \\nOne reason students should be allowed to cre...           None   \n",
       "47677  \\nAnother reason students would make the summe...           None   \n",
       "47678  In the article \"A Cowboy Who Rode the Waves\" L...           None   \n",
       "47679  ven if you just want to help out your world ou...           None   \n",
       "47680  In conclusion, all i'm saying is that the seag...           None   \n",
       "\n",
       "      discourse_type_num  predictionstring  \\\n",
       "0                 None 1               NaN   \n",
       "1                 None 2               NaN   \n",
       "2                 None 3               NaN   \n",
       "3                 None 4               NaN   \n",
       "4                 None 1               NaN   \n",
       "...                  ...               ...   \n",
       "47676             None 1               NaN   \n",
       "47677             None 2               NaN   \n",
       "47678             None 1               NaN   \n",
       "47679             None 2               NaN   \n",
       "47680             None 3               NaN   \n",
       "\n",
       "                                                    text  \n",
       "0      Some people belive that the so called \"face\" o...  \n",
       "1      Some people belive that the so called \"face\" o...  \n",
       "2      Some people belive that the so called \"face\" o...  \n",
       "3      Some people belive that the so called \"face\" o...  \n",
       "4      Driverless cars are exaclty what you would exp...  \n",
       "...                                                  ...  \n",
       "47676  Every summer break, students are given project...  \n",
       "47677  Every summer break, students are given project...  \n",
       "47678  In the article \"A Cowboy Who Rode the Waves\" L...  \n",
       "47679  In the article \"A Cowboy Who Rode the Waves\" L...  \n",
       "47680  In the article \"A Cowboy Who Rode the Waves\" L...  \n",
       "\n",
       "[47681 rows x 9 columns]"
      ]
     },
     "execution_count": 326,
     "metadata": {},
     "output_type": "execute_result"
    }
   ],
   "source": [
    "df_filled"
   ]
  },
  {
   "cell_type": "code",
   "execution_count": 328,
   "id": "77afae91",
   "metadata": {
    "ExecuteTime": {
     "end_time": "2021-12-28T21:04:37.295846Z",
     "start_time": "2021-12-28T21:04:37.239904Z"
    }
   },
   "outputs": [],
   "source": [
    "df_full = df.append(df_filled.drop(columns='text'))"
   ]
  },
  {
   "cell_type": "code",
   "execution_count": 329,
   "id": "8b397fc1",
   "metadata": {
    "ExecuteTime": {
     "end_time": "2021-12-28T21:04:40.643159Z",
     "start_time": "2021-12-28T21:04:40.626138Z"
    }
   },
   "outputs": [
    {
     "data": {
      "text/html": [
       "<div>\n",
       "<style scoped>\n",
       "    .dataframe tbody tr th:only-of-type {\n",
       "        vertical-align: middle;\n",
       "    }\n",
       "\n",
       "    .dataframe tbody tr th {\n",
       "        vertical-align: top;\n",
       "    }\n",
       "\n",
       "    .dataframe thead th {\n",
       "        text-align: right;\n",
       "    }\n",
       "</style>\n",
       "<table border=\"1\" class=\"dataframe\">\n",
       "  <thead>\n",
       "    <tr style=\"text-align: right;\">\n",
       "      <th></th>\n",
       "      <th>id</th>\n",
       "      <th>discourse_id</th>\n",
       "      <th>discourse_start</th>\n",
       "      <th>discourse_end</th>\n",
       "      <th>discourse_text</th>\n",
       "      <th>discourse_type</th>\n",
       "      <th>discourse_type_num</th>\n",
       "      <th>predictionstring</th>\n",
       "    </tr>\n",
       "  </thead>\n",
       "  <tbody>\n",
       "    <tr>\n",
       "      <th>0</th>\n",
       "      <td>423A1CA112E2</td>\n",
       "      <td>1.622628e+12</td>\n",
       "      <td>8.0</td>\n",
       "      <td>229.0</td>\n",
       "      <td>Modern humans today are always on their phone....</td>\n",
       "      <td>Lead</td>\n",
       "      <td>Lead 1</td>\n",
       "      <td>1 2 3 4 5 6 7 8 9 10 11 12 13 14 15 16 17 18 1...</td>\n",
       "    </tr>\n",
       "    <tr>\n",
       "      <th>1</th>\n",
       "      <td>423A1CA112E2</td>\n",
       "      <td>1.622628e+12</td>\n",
       "      <td>230.0</td>\n",
       "      <td>312.0</td>\n",
       "      <td>They are some really bad consequences when stu...</td>\n",
       "      <td>Position</td>\n",
       "      <td>Position 1</td>\n",
       "      <td>45 46 47 48 49 50 51 52 53 54 55 56 57 58 59</td>\n",
       "    </tr>\n",
       "    <tr>\n",
       "      <th>2</th>\n",
       "      <td>423A1CA112E2</td>\n",
       "      <td>1.622628e+12</td>\n",
       "      <td>313.0</td>\n",
       "      <td>401.0</td>\n",
       "      <td>Some certain areas in the United States ban ph...</td>\n",
       "      <td>Evidence</td>\n",
       "      <td>Evidence 1</td>\n",
       "      <td>60 61 62 63 64 65 66 67 68 69 70 71 72 73 74 75</td>\n",
       "    </tr>\n",
       "    <tr>\n",
       "      <th>3</th>\n",
       "      <td>423A1CA112E2</td>\n",
       "      <td>1.622628e+12</td>\n",
       "      <td>402.0</td>\n",
       "      <td>758.0</td>\n",
       "      <td>When people have phones, they know about certa...</td>\n",
       "      <td>Evidence</td>\n",
       "      <td>Evidence 2</td>\n",
       "      <td>76 77 78 79 80 81 82 83 84 85 86 87 88 89 90 9...</td>\n",
       "    </tr>\n",
       "    <tr>\n",
       "      <th>4</th>\n",
       "      <td>423A1CA112E2</td>\n",
       "      <td>1.622628e+12</td>\n",
       "      <td>759.0</td>\n",
       "      <td>886.0</td>\n",
       "      <td>Driving is one of the way how to get around. P...</td>\n",
       "      <td>Claim</td>\n",
       "      <td>Claim 1</td>\n",
       "      <td>139 140 141 142 143 144 145 146 147 148 149 15...</td>\n",
       "    </tr>\n",
       "    <tr>\n",
       "      <th>...</th>\n",
       "      <td>...</td>\n",
       "      <td>...</td>\n",
       "      <td>...</td>\n",
       "      <td>...</td>\n",
       "      <td>...</td>\n",
       "      <td>...</td>\n",
       "      <td>...</td>\n",
       "      <td>...</td>\n",
       "    </tr>\n",
       "    <tr>\n",
       "      <th>47676</th>\n",
       "      <td>FFF868E06176</td>\n",
       "      <td>NaN</td>\n",
       "      <td>325.0</td>\n",
       "      <td>501.0</td>\n",
       "      <td>\\nOne reason students should be allowed to cre...</td>\n",
       "      <td>None</td>\n",
       "      <td>None 1</td>\n",
       "      <td>NaN</td>\n",
       "    </tr>\n",
       "    <tr>\n",
       "      <th>47677</th>\n",
       "      <td>FFF868E06176</td>\n",
       "      <td>NaN</td>\n",
       "      <td>915.0</td>\n",
       "      <td>1088.0</td>\n",
       "      <td>\\nAnother reason students would make the summe...</td>\n",
       "      <td>None</td>\n",
       "      <td>None 2</td>\n",
       "      <td>NaN</td>\n",
       "    </tr>\n",
       "    <tr>\n",
       "      <th>47678</th>\n",
       "      <td>FFFD0AF13501</td>\n",
       "      <td>NaN</td>\n",
       "      <td>0.0</td>\n",
       "      <td>236.0</td>\n",
       "      <td>In the article \"A Cowboy Who Rode the Waves\" L...</td>\n",
       "      <td>None</td>\n",
       "      <td>None 1</td>\n",
       "      <td>NaN</td>\n",
       "    </tr>\n",
       "    <tr>\n",
       "      <th>47679</th>\n",
       "      <td>FFFD0AF13501</td>\n",
       "      <td>NaN</td>\n",
       "      <td>432.0</td>\n",
       "      <td>516.0</td>\n",
       "      <td>ven if you just want to help out your world ou...</td>\n",
       "      <td>None</td>\n",
       "      <td>None 2</td>\n",
       "      <td>NaN</td>\n",
       "    </tr>\n",
       "    <tr>\n",
       "      <th>47680</th>\n",
       "      <td>FFFD0AF13501</td>\n",
       "      <td>NaN</td>\n",
       "      <td>944.0</td>\n",
       "      <td>1050.0</td>\n",
       "      <td>In conclusion, all i'm saying is that the seag...</td>\n",
       "      <td>None</td>\n",
       "      <td>None 3</td>\n",
       "      <td>NaN</td>\n",
       "    </tr>\n",
       "  </tbody>\n",
       "</table>\n",
       "<p>191974 rows × 8 columns</p>\n",
       "</div>"
      ],
      "text/plain": [
       "                 id  discourse_id  discourse_start  discourse_end  \\\n",
       "0      423A1CA112E2  1.622628e+12              8.0          229.0   \n",
       "1      423A1CA112E2  1.622628e+12            230.0          312.0   \n",
       "2      423A1CA112E2  1.622628e+12            313.0          401.0   \n",
       "3      423A1CA112E2  1.622628e+12            402.0          758.0   \n",
       "4      423A1CA112E2  1.622628e+12            759.0          886.0   \n",
       "...             ...           ...              ...            ...   \n",
       "47676  FFF868E06176           NaN            325.0          501.0   \n",
       "47677  FFF868E06176           NaN            915.0         1088.0   \n",
       "47678  FFFD0AF13501           NaN              0.0          236.0   \n",
       "47679  FFFD0AF13501           NaN            432.0          516.0   \n",
       "47680  FFFD0AF13501           NaN            944.0         1050.0   \n",
       "\n",
       "                                          discourse_text discourse_type  \\\n",
       "0      Modern humans today are always on their phone....           Lead   \n",
       "1      They are some really bad consequences when stu...       Position   \n",
       "2      Some certain areas in the United States ban ph...       Evidence   \n",
       "3      When people have phones, they know about certa...       Evidence   \n",
       "4      Driving is one of the way how to get around. P...          Claim   \n",
       "...                                                  ...            ...   \n",
       "47676  \\nOne reason students should be allowed to cre...           None   \n",
       "47677  \\nAnother reason students would make the summe...           None   \n",
       "47678  In the article \"A Cowboy Who Rode the Waves\" L...           None   \n",
       "47679  ven if you just want to help out your world ou...           None   \n",
       "47680  In conclusion, all i'm saying is that the seag...           None   \n",
       "\n",
       "      discourse_type_num                                   predictionstring  \n",
       "0                 Lead 1  1 2 3 4 5 6 7 8 9 10 11 12 13 14 15 16 17 18 1...  \n",
       "1             Position 1       45 46 47 48 49 50 51 52 53 54 55 56 57 58 59  \n",
       "2             Evidence 1    60 61 62 63 64 65 66 67 68 69 70 71 72 73 74 75  \n",
       "3             Evidence 2  76 77 78 79 80 81 82 83 84 85 86 87 88 89 90 9...  \n",
       "4                Claim 1  139 140 141 142 143 144 145 146 147 148 149 15...  \n",
       "...                  ...                                                ...  \n",
       "47676             None 1                                                NaN  \n",
       "47677             None 2                                                NaN  \n",
       "47678             None 1                                                NaN  \n",
       "47679             None 2                                                NaN  \n",
       "47680             None 3                                                NaN  \n",
       "\n",
       "[191974 rows x 8 columns]"
      ]
     },
     "execution_count": 329,
     "metadata": {},
     "output_type": "execute_result"
    }
   ],
   "source": [
    "df_full"
   ]
  },
  {
   "cell_type": "code",
   "execution_count": 330,
   "id": "37c428d3",
   "metadata": {
    "ExecuteTime": {
     "end_time": "2021-12-28T21:05:17.909703Z",
     "start_time": "2021-12-28T21:05:17.904889Z"
    }
   },
   "outputs": [
    {
     "data": {
      "text/plain": [
       "['Lead',\n",
       " 'Position',\n",
       " 'Evidence',\n",
       " 'Claim',\n",
       " 'Concluding Statement',\n",
       " 'Counterclaim',\n",
       " 'Rebuttal']"
      ]
     },
     "execution_count": 330,
     "metadata": {},
     "output_type": "execute_result"
    }
   ],
   "source": [
    "discourse_type"
   ]
  },
  {
   "cell_type": "code",
   "execution_count": 336,
   "id": "f603bcf5",
   "metadata": {
    "ExecuteTime": {
     "end_time": "2021-12-28T21:12:59.484859Z",
     "start_time": "2021-12-28T21:12:59.481174Z"
    }
   },
   "outputs": [],
   "source": [
    "colors={'Lead':'#DB3838',\n",
    " 'Position':'#AAE10D',\n",
    " 'Evidence':'#0DE1A7',\n",
    " 'Claim':'#DF3CEC',\n",
    " 'Concluding Statement':'#1305B9',\n",
    " 'Counterclaim':'#FFF942',\n",
    " 'Rebuttal':'#FFCE26',\n",
    "       'None':'#FFFFFF'}"
   ]
  },
  {
   "cell_type": "code",
   "execution_count": 334,
   "id": "4d84a905",
   "metadata": {
    "ExecuteTime": {
     "end_time": "2021-12-28T21:11:54.981236Z",
     "start_time": "2021-12-28T21:11:54.977494Z"
    }
   },
   "outputs": [],
   "source": [
    "def render_html(df):\n",
    "    return f\"<span style='background-color: {colors[df['discourse_type']]}'> {df['discourse_text']} </span>\"\n",
    "    "
   ]
  },
  {
   "cell_type": "code",
   "execution_count": 337,
   "id": "6be5457d",
   "metadata": {
    "ExecuteTime": {
     "end_time": "2021-12-28T21:13:03.375587Z",
     "start_time": "2021-12-28T21:13:00.951522Z"
    }
   },
   "outputs": [],
   "source": [
    "df_full['html']=df_full.apply(render_html,axis=1)"
   ]
  },
  {
   "cell_type": "code",
   "execution_count": 351,
   "id": "2b837ad8",
   "metadata": {
    "ExecuteTime": {
     "end_time": "2021-12-28T21:17:00.043060Z",
     "start_time": "2021-12-28T21:16:59.916542Z"
    }
   },
   "outputs": [],
   "source": [
    "df_full.sort_values(['id','discourse_start'],inplace=True)"
   ]
  },
  {
   "cell_type": "code",
   "execution_count": 352,
   "id": "e804455f",
   "metadata": {
    "ExecuteTime": {
     "end_time": "2021-12-28T21:17:02.934701Z",
     "start_time": "2021-12-28T21:17:02.733489Z"
    }
   },
   "outputs": [],
   "source": [
    "df_html = df_full.groupby('id').agg({'html': ' '.join})"
   ]
  },
  {
   "cell_type": "code",
   "execution_count": 353,
   "id": "03bc9d86",
   "metadata": {
    "ExecuteTime": {
     "end_time": "2021-12-28T21:17:04.538595Z",
     "start_time": "2021-12-28T21:17:04.533700Z"
    }
   },
   "outputs": [],
   "source": [
    "df_html.reset_index(inplace=True)"
   ]
  },
  {
   "cell_type": "code",
   "execution_count": 356,
   "id": "31e21ae6",
   "metadata": {
    "ExecuteTime": {
     "end_time": "2021-12-28T21:17:38.691943Z",
     "start_time": "2021-12-28T21:17:38.687049Z"
    }
   },
   "outputs": [
    {
     "data": {
      "text/html": [
       "<span style='background-color: #AAE10D'> Cars are meant to have a driver behind the wheel and alert at all times. </span> <span style='background-color: #DF3CEC'> Driverless cars could be dangerous in so many ways.  </span> <span style='background-color: #DF3CEC'> If the car is driverless and it needs someone to navigate it through a specific road condition and the driver is not paying attention, a really bad accident could be caused. </span> <span style='background-color: #FFFFFF'> f the car is driverless and it needs someone to navigate it through a specific road condition and the driver is not paying attention, a really bad accident could be caused. </span> <span style='background-color: #DF3CEC'> Although the car is driverless the driver should still be alert, so who's fault is it for the accident? </span> <span style='background-color: #0DE1A7'> Huge unessacary accidents could be avoided if cars had alerted drivers at all times.\n",
       " </span> <span style='background-color: #DF3CEC'> The danger that everyone's life is in around a driverless car is serious.  </span> <span style='background-color: #0DE1A7'> A car cant sense everything, just think if a pedestrian was crossing the street from behind and the car didnt sense him, the pedestrian would be hurt. If a emergency vehicle is coming, flying down the street and the driver is not alerted fast enough the car could do the wrong thing and get hit by the emergency vehicle and everyone in the car could be seriously hurt. This could all be avoived by cars having alerted drivers at all times.\n",
       " </span> <span style='background-color: #FFFFFF'>  car cant sense everything, just think if a pedestrian was crossing the street from behind and the car didnt sense him, the pedestrian would be hurt. If a emergency vehicle is coming, flying down the street and the driver is not alerted fast enough the car could do the wrong thing and get hit by the emergency vehicle and everyone in the car could be seriously hurt. This could all be avoived by cars having alerted drivers at all times.\n",
       " </span> <span style='background-color: #DF3CEC'> If a car is driverless and it needs it's driver to take control fast and the driver's attention is elsewhere and his reaction isn't quick enough he could be seriously hurt.  </span> <span style='background-color: #0DE1A7'> The attention should always be on the road. If someone has a driverless car they would let their attention wander becuase their car drives itself. If somene is in the middle of texting and the car alerts them to take over and they are not quick enough they could crash and hurt themself or someone else. This could all be avoided by not using driverless cars.  </span> <span style='background-color: #FFFFFF'> he attention should always be on the road. If someone has a driverless car they would let their attention wander becuase their car drives itself. If somene is in the middle of texting and the car alerts them to take over and they are not quick enough they could crash and hurt themself or someone else. This could all be avoided by not using driverless cars.\n",
       " </span> <span style='background-color: #DF3CEC'> Driverless cars could cause alot of conflict when or if someone gets hurt. </span> <span style='background-color: #0DE1A7'> If some gets hurts who will the blame be on the manufacturer or the driver? The car is meant to be smart and not hurt anyone but if it does who's to blame for it? If there is a crash and someone's car gets messed up who pays for the damages, the driver or the manufacturer? How will this all be figured out if this car is meant to be more safe than a human being driving the car and staying alert at all times?  </span> <span style='background-color: #1305B9'> So yes, i believe that driverless cars should not be developed any further. Cars are meant to be driven by a human being not a automated system. There are accidents all the time with humans being the driver, to think of the car driving itself i believe the accident rate would be doubled maybe even tripled. It could be dangerous and unsafe for everyone in the surroundings of the driverless car. Unessacary accidents could be prevented if the further developement of driverless cars is ceased immediately. </span>"
      ],
      "text/plain": [
       "<IPython.core.display.HTML object>"
      ]
     },
     "execution_count": 356,
     "metadata": {},
     "output_type": "execute_result"
    }
   ],
   "source": [
    "HTML(df_html.loc[98,'html'])"
   ]
  },
  {
   "cell_type": "code",
   "execution_count": null,
   "id": "dc9680a7",
   "metadata": {
    "ExecuteTime": {
     "end_time": "2021-12-28T21:18:35.595413Z",
     "start_time": "2021-12-28T21:18:35.316199Z"
    }
   },
   "outputs": [],
   "source": []
  },
  {
   "cell_type": "code",
   "execution_count": 359,
   "id": "4dd40a3e",
   "metadata": {
    "ExecuteTime": {
     "end_time": "2021-12-28T21:20:00.214595Z",
     "start_time": "2021-12-28T21:20:00.211838Z"
    }
   },
   "outputs": [],
   "source": [
    "## APPLY GAP FUNCTION TO A SMALL DF FOR SPECIFIC ESSAY ID >TO SPOT THE ISSUE "
   ]
  },
  {
   "cell_type": "code",
   "execution_count": null,
   "id": "de86fb99",
   "metadata": {},
   "outputs": [],
   "source": []
  }
 ],
 "metadata": {
  "kernelspec": {
   "display_name": "Python 3 (ipykernel)",
   "language": "python",
   "name": "python3"
  },
  "language_info": {
   "codemirror_mode": {
    "name": "ipython",
    "version": 3
   },
   "file_extension": ".py",
   "mimetype": "text/x-python",
   "name": "python",
   "nbconvert_exporter": "python",
   "pygments_lexer": "ipython3",
   "version": "3.8.12"
  },
  "toc": {
   "base_numbering": 1,
   "nav_menu": {},
   "number_sections": true,
   "sideBar": true,
   "skip_h1_title": false,
   "title_cell": "Table of Contents",
   "title_sidebar": "Contents",
   "toc_cell": false,
   "toc_position": {},
   "toc_section_display": true,
   "toc_window_display": false
  }
 },
 "nbformat": 4,
 "nbformat_minor": 5
}
