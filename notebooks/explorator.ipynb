{
 "cells": [
  {
   "cell_type": "markdown",
   "id": "cf77c851",
   "metadata": {},
   "source": [
    "## Imports and load data"
   ]
  },
  {
   "cell_type": "code",
   "execution_count": 1,
   "id": "f9331fbf",
   "metadata": {
    "ExecuteTime": {
     "end_time": "2022-01-19T16:57:36.225916Z",
     "start_time": "2022-01-19T16:57:34.908624Z"
    }
   },
   "outputs": [],
   "source": [
    "import pandas as pd \n",
    "import numpy as np \n",
    "import matplotlib.pyplot as plt"
   ]
  },
  {
   "cell_type": "code",
   "execution_count": 2,
   "id": "bfb96657",
   "metadata": {
    "ExecuteTime": {
     "end_time": "2022-01-19T16:57:36.231685Z",
     "start_time": "2022-01-19T16:57:36.228088Z"
    }
   },
   "outputs": [],
   "source": [
    "from IPython.display import HTML"
   ]
  },
  {
   "cell_type": "code",
   "execution_count": 3,
   "id": "8713a643",
   "metadata": {
    "ExecuteTime": {
     "end_time": "2022-01-19T16:57:37.018179Z",
     "start_time": "2022-01-19T16:57:36.233592Z"
    }
   },
   "outputs": [
    {
     "data": {
      "text/html": [
       "<div>\n",
       "<style scoped>\n",
       "    .dataframe tbody tr th:only-of-type {\n",
       "        vertical-align: middle;\n",
       "    }\n",
       "\n",
       "    .dataframe tbody tr th {\n",
       "        vertical-align: top;\n",
       "    }\n",
       "\n",
       "    .dataframe thead th {\n",
       "        text-align: right;\n",
       "    }\n",
       "</style>\n",
       "<table border=\"1\" class=\"dataframe\">\n",
       "  <thead>\n",
       "    <tr style=\"text-align: right;\">\n",
       "      <th></th>\n",
       "      <th>id</th>\n",
       "      <th>discourse_id</th>\n",
       "      <th>discourse_start</th>\n",
       "      <th>discourse_end</th>\n",
       "      <th>discourse_text</th>\n",
       "      <th>discourse_type</th>\n",
       "      <th>discourse_type_num</th>\n",
       "      <th>predictionstring</th>\n",
       "    </tr>\n",
       "  </thead>\n",
       "  <tbody>\n",
       "    <tr>\n",
       "      <th>0</th>\n",
       "      <td>423A1CA112E2</td>\n",
       "      <td>1.622628e+12</td>\n",
       "      <td>8.0</td>\n",
       "      <td>229.0</td>\n",
       "      <td>Modern humans today are always on their phone....</td>\n",
       "      <td>Lead</td>\n",
       "      <td>Lead 1</td>\n",
       "      <td>1 2 3 4 5 6 7 8 9 10 11 12 13 14 15 16 17 18 1...</td>\n",
       "    </tr>\n",
       "    <tr>\n",
       "      <th>1</th>\n",
       "      <td>423A1CA112E2</td>\n",
       "      <td>1.622628e+12</td>\n",
       "      <td>230.0</td>\n",
       "      <td>312.0</td>\n",
       "      <td>They are some really bad consequences when stu...</td>\n",
       "      <td>Position</td>\n",
       "      <td>Position 1</td>\n",
       "      <td>45 46 47 48 49 50 51 52 53 54 55 56 57 58 59</td>\n",
       "    </tr>\n",
       "    <tr>\n",
       "      <th>2</th>\n",
       "      <td>423A1CA112E2</td>\n",
       "      <td>1.622628e+12</td>\n",
       "      <td>313.0</td>\n",
       "      <td>401.0</td>\n",
       "      <td>Some certain areas in the United States ban ph...</td>\n",
       "      <td>Evidence</td>\n",
       "      <td>Evidence 1</td>\n",
       "      <td>60 61 62 63 64 65 66 67 68 69 70 71 72 73 74 75</td>\n",
       "    </tr>\n",
       "    <tr>\n",
       "      <th>3</th>\n",
       "      <td>423A1CA112E2</td>\n",
       "      <td>1.622628e+12</td>\n",
       "      <td>402.0</td>\n",
       "      <td>758.0</td>\n",
       "      <td>When people have phones, they know about certa...</td>\n",
       "      <td>Evidence</td>\n",
       "      <td>Evidence 2</td>\n",
       "      <td>76 77 78 79 80 81 82 83 84 85 86 87 88 89 90 9...</td>\n",
       "    </tr>\n",
       "    <tr>\n",
       "      <th>4</th>\n",
       "      <td>423A1CA112E2</td>\n",
       "      <td>1.622628e+12</td>\n",
       "      <td>759.0</td>\n",
       "      <td>886.0</td>\n",
       "      <td>Driving is one of the way how to get around. P...</td>\n",
       "      <td>Claim</td>\n",
       "      <td>Claim 1</td>\n",
       "      <td>139 140 141 142 143 144 145 146 147 148 149 15...</td>\n",
       "    </tr>\n",
       "  </tbody>\n",
       "</table>\n",
       "</div>"
      ],
      "text/plain": [
       "             id  discourse_id  discourse_start  discourse_end  \\\n",
       "0  423A1CA112E2  1.622628e+12              8.0          229.0   \n",
       "1  423A1CA112E2  1.622628e+12            230.0          312.0   \n",
       "2  423A1CA112E2  1.622628e+12            313.0          401.0   \n",
       "3  423A1CA112E2  1.622628e+12            402.0          758.0   \n",
       "4  423A1CA112E2  1.622628e+12            759.0          886.0   \n",
       "\n",
       "                                      discourse_text discourse_type  \\\n",
       "0  Modern humans today are always on their phone....           Lead   \n",
       "1  They are some really bad consequences when stu...       Position   \n",
       "2  Some certain areas in the United States ban ph...       Evidence   \n",
       "3  When people have phones, they know about certa...       Evidence   \n",
       "4  Driving is one of the way how to get around. P...          Claim   \n",
       "\n",
       "  discourse_type_num                                   predictionstring  \n",
       "0             Lead 1  1 2 3 4 5 6 7 8 9 10 11 12 13 14 15 16 17 18 1...  \n",
       "1         Position 1       45 46 47 48 49 50 51 52 53 54 55 56 57 58 59  \n",
       "2         Evidence 1    60 61 62 63 64 65 66 67 68 69 70 71 72 73 74 75  \n",
       "3         Evidence 2  76 77 78 79 80 81 82 83 84 85 86 87 88 89 90 9...  \n",
       "4            Claim 1  139 140 141 142 143 144 145 146 147 148 149 15...  "
      ]
     },
     "execution_count": 3,
     "metadata": {},
     "output_type": "execute_result"
    }
   ],
   "source": [
    "df = pd.read_csv('../raw_data/train.csv')\n",
    "df.head()"
   ]
  },
  {
   "cell_type": "markdown",
   "id": "c1e54660",
   "metadata": {},
   "source": [
    "## Explorator"
   ]
  },
  {
   "cell_type": "code",
   "execution_count": 16,
   "id": "236fa1f5",
   "metadata": {
    "ExecuteTime": {
     "end_time": "2022-01-19T16:58:54.247315Z",
     "start_time": "2022-01-19T16:58:52.375995Z"
    }
   },
   "outputs": [],
   "source": [
    "## Check whether there are a lot of type change in the middle of a sentence\n",
    "count=0\n",
    "others=[]\n",
    "for i in range(len(df)):\n",
    "    if '.' in df.loc[i,'discourse_text'][-3:]:\n",
    "        count+=1\n",
    "        others.append(df.loc[i,'discourse_text'][-1])"
   ]
  },
  {
   "cell_type": "code",
   "execution_count": 17,
   "id": "87f7c19e",
   "metadata": {
    "ExecuteTime": {
     "end_time": "2022-01-19T16:58:54.688635Z",
     "start_time": "2022-01-19T16:58:54.684095Z"
    }
   },
   "outputs": [
    {
     "data": {
      "text/plain": [
       "0.6694988668888997"
      ]
     },
     "execution_count": 17,
     "metadata": {},
     "output_type": "execute_result"
    }
   ],
   "source": [
    "count/len(df)"
   ]
  },
  {
   "cell_type": "code",
   "execution_count": 18,
   "id": "71183d10",
   "metadata": {
    "ExecuteTime": {
     "end_time": "2022-01-19T16:59:14.965319Z",
     "start_time": "2022-01-19T16:59:14.953048Z"
    },
    "scrolled": true
   },
   "outputs": [
    {
     "data": {
      "text/plain": [
       "['Lead',\n",
       " 'Position',\n",
       " 'Evidence',\n",
       " 'Claim',\n",
       " 'Concluding Statement',\n",
       " 'Counterclaim',\n",
       " 'Rebuttal']"
      ]
     },
     "execution_count": 18,
     "metadata": {},
     "output_type": "execute_result"
    }
   ],
   "source": [
    "discourse_type = df['discourse_type'].unique().tolist()\n",
    "discourse_type"
   ]
  },
  {
   "cell_type": "code",
   "execution_count": 19,
   "id": "efe11552",
   "metadata": {
    "ExecuteTime": {
     "end_time": "2022-01-19T16:59:16.124555Z",
     "start_time": "2022-01-19T16:59:15.090925Z"
    }
   },
   "outputs": [],
   "source": [
    "df_grouped=df.groupby('id').agg(list).reset_index()"
   ]
  },
  {
   "cell_type": "code",
   "execution_count": 20,
   "id": "57ca8cb8",
   "metadata": {
    "ExecuteTime": {
     "end_time": "2022-01-19T16:59:16.147555Z",
     "start_time": "2022-01-19T16:59:16.127872Z"
    },
    "scrolled": true
   },
   "outputs": [
    {
     "data": {
      "text/html": [
       "<div>\n",
       "<style scoped>\n",
       "    .dataframe tbody tr th:only-of-type {\n",
       "        vertical-align: middle;\n",
       "    }\n",
       "\n",
       "    .dataframe tbody tr th {\n",
       "        vertical-align: top;\n",
       "    }\n",
       "\n",
       "    .dataframe thead th {\n",
       "        text-align: right;\n",
       "    }\n",
       "</style>\n",
       "<table border=\"1\" class=\"dataframe\">\n",
       "  <thead>\n",
       "    <tr style=\"text-align: right;\">\n",
       "      <th></th>\n",
       "      <th>id</th>\n",
       "      <th>discourse_id</th>\n",
       "      <th>discourse_start</th>\n",
       "      <th>discourse_end</th>\n",
       "      <th>discourse_text</th>\n",
       "      <th>discourse_type</th>\n",
       "      <th>discourse_type_num</th>\n",
       "      <th>predictionstring</th>\n",
       "    </tr>\n",
       "  </thead>\n",
       "  <tbody>\n",
       "    <tr>\n",
       "      <th>0</th>\n",
       "      <td>0000D23A521A</td>\n",
       "      <td>[1617734767734.0, 1617734782429.0, 16177348077...</td>\n",
       "      <td>[0.0, 170.0, 358.0, 438.0, 627.0, 722.0, 836.0...</td>\n",
       "      <td>[170.0, 357.0, 438.0, 626.0, 722.0, 836.0, 101...</td>\n",
       "      <td>[Some people belive that the so called \"face\" ...</td>\n",
       "      <td>[Position, Evidence, Evidence, Claim, Counterc...</td>\n",
       "      <td>[Position 1, Evidence 1, Evidence 2, Claim 1, ...</td>\n",
       "      <td>[0 1 2 3 4 5 6 7 8 9 10 11 12 13 14 15 16 17 1...</td>\n",
       "    </tr>\n",
       "    <tr>\n",
       "      <th>1</th>\n",
       "      <td>00066EA9880D</td>\n",
       "      <td>[1621104238021.0, 1621104245981.0, 16211043488...</td>\n",
       "      <td>[0.0, 456.0, 638.0, 738.0, 1399.0, 1488.0, 231...</td>\n",
       "      <td>[455.0, 592.0, 738.0, 1398.0, 1487.0, 2219.0, ...</td>\n",
       "      <td>[Driverless cars are exaclty what you would ex...</td>\n",
       "      <td>[Lead, Position, Claim, Evidence, Claim, Evide...</td>\n",
       "      <td>[Lead 1, Position 1, Claim 1, Evidence 1, Clai...</td>\n",
       "      <td>[0 1 2 3 4 5 6 7 8 9 10 11 12 13 14 15 16 17 1...</td>\n",
       "    </tr>\n",
       "    <tr>\n",
       "      <th>2</th>\n",
       "      <td>000E6DE9E817</td>\n",
       "      <td>[1617296637311.0, 1617296650644.0, 16172966674...</td>\n",
       "      <td>[17.0, 64.0, 158.0, 310.0, 438.0, 551.0, 776.0...</td>\n",
       "      <td>[56.0, 157.0, 309.0, 422.0, 551.0, 775.0, 961....</td>\n",
       "      <td>[I am arguing against the policy change , even...</td>\n",
       "      <td>[Position, Counterclaim, Rebuttal, Evidence, C...</td>\n",
       "      <td>[Position 1, Counterclaim 1, Rebuttal 1, Evide...</td>\n",
       "      <td>[2 3 4 5 6 7 8, 10 11 12 13 14 15 16 17 18 19 ...</td>\n",
       "    </tr>\n",
       "  </tbody>\n",
       "</table>\n",
       "</div>"
      ],
      "text/plain": [
       "             id                                       discourse_id  \\\n",
       "0  0000D23A521A  [1617734767734.0, 1617734782429.0, 16177348077...   \n",
       "1  00066EA9880D  [1621104238021.0, 1621104245981.0, 16211043488...   \n",
       "2  000E6DE9E817  [1617296637311.0, 1617296650644.0, 16172966674...   \n",
       "\n",
       "                                     discourse_start  \\\n",
       "0  [0.0, 170.0, 358.0, 438.0, 627.0, 722.0, 836.0...   \n",
       "1  [0.0, 456.0, 638.0, 738.0, 1399.0, 1488.0, 231...   \n",
       "2  [17.0, 64.0, 158.0, 310.0, 438.0, 551.0, 776.0...   \n",
       "\n",
       "                                       discourse_end  \\\n",
       "0  [170.0, 357.0, 438.0, 626.0, 722.0, 836.0, 101...   \n",
       "1  [455.0, 592.0, 738.0, 1398.0, 1487.0, 2219.0, ...   \n",
       "2  [56.0, 157.0, 309.0, 422.0, 551.0, 775.0, 961....   \n",
       "\n",
       "                                      discourse_text  \\\n",
       "0  [Some people belive that the so called \"face\" ...   \n",
       "1  [Driverless cars are exaclty what you would ex...   \n",
       "2  [I am arguing against the policy change , even...   \n",
       "\n",
       "                                      discourse_type  \\\n",
       "0  [Position, Evidence, Evidence, Claim, Counterc...   \n",
       "1  [Lead, Position, Claim, Evidence, Claim, Evide...   \n",
       "2  [Position, Counterclaim, Rebuttal, Evidence, C...   \n",
       "\n",
       "                                  discourse_type_num  \\\n",
       "0  [Position 1, Evidence 1, Evidence 2, Claim 1, ...   \n",
       "1  [Lead 1, Position 1, Claim 1, Evidence 1, Clai...   \n",
       "2  [Position 1, Counterclaim 1, Rebuttal 1, Evide...   \n",
       "\n",
       "                                    predictionstring  \n",
       "0  [0 1 2 3 4 5 6 7 8 9 10 11 12 13 14 15 16 17 1...  \n",
       "1  [0 1 2 3 4 5 6 7 8 9 10 11 12 13 14 15 16 17 1...  \n",
       "2  [2 3 4 5 6 7 8, 10 11 12 13 14 15 16 17 18 19 ...  "
      ]
     },
     "execution_count": 20,
     "metadata": {},
     "output_type": "execute_result"
    }
   ],
   "source": [
    "df_grouped.head(3)"
   ]
  },
  {
   "cell_type": "code",
   "execution_count": 21,
   "id": "ca8cf174",
   "metadata": {
    "ExecuteTime": {
     "end_time": "2022-01-19T16:59:16.154176Z",
     "start_time": "2022-01-19T16:59:16.150218Z"
    }
   },
   "outputs": [],
   "source": [
    "## create function to retrieve the original essay\n",
    "def get_full_text(essay_id):\n",
    "    path=f'../raw_data/train/{essay_id}.txt'\n",
    "    with open(path,'r') as f:\n",
    "        text = f.read()\n",
    "    return text"
   ]
  },
  {
   "cell_type": "code",
   "execution_count": 22,
   "id": "85e809b9",
   "metadata": {
    "ExecuteTime": {
     "end_time": "2022-01-19T16:59:16.165644Z",
     "start_time": "2022-01-19T16:59:16.159716Z"
    },
    "scrolled": true
   },
   "outputs": [
    {
     "data": {
      "text/plain": [
       "'Some people belive that the so called \"face\" on mars was created by life on mars. This is not the case. The face on Mars is a naturally occuring land form called a mesa. It was not created by aliens, and there is no consiracy to hide alien lifeforms on mars. There is no evidence that NASA has found that even suggests that this face was created by aliens.\\n\\nA mesa is a naturally occuring rock formation, that is found on Mars and Earth. This \"face\" on mars only looks like a face because humans tend to see faces wherever we look, humans are obviously extremely social, which is why our brain is designed to recognize faces.\\n\\nMany conspiracy theorists believe that NASA is hiding life on Mars from the rest of the world. These people would be very wrong. If NASA found life on Mars, then they would get millions of people\\'s attention. NASA\\'s budget would increase drasticly, which means that their workers would get paid more. There is no good reason that NASA would hide life on Mars from the rest of the world.\\n\\nSo, NASA is not hiding life on Mars from us, and they are not trying to trick us into thinking that the \"face\" on mars is just a mesa, because it actually is. NASA hiding life would be illogical, because if they found life on Mars, they would make a lot of money, and we all know that the people at NASA aren\\'t illogical people.'"
      ]
     },
     "execution_count": 22,
     "metadata": {},
     "output_type": "execute_result"
    }
   ],
   "source": [
    "get_full_text('0000D23A521A')"
   ]
  },
  {
   "cell_type": "code",
   "execution_count": 23,
   "id": "accd9200",
   "metadata": {
    "ExecuteTime": {
     "end_time": "2022-01-19T16:59:16.182547Z",
     "start_time": "2022-01-19T16:59:16.168239Z"
    }
   },
   "outputs": [],
   "source": [
    "essay_ids=df['id'].unique().tolist()"
   ]
  },
  {
   "cell_type": "code",
   "execution_count": 24,
   "id": "5ab224fa",
   "metadata": {
    "ExecuteTime": {
     "end_time": "2022-01-19T16:59:21.607145Z",
     "start_time": "2022-01-19T16:59:16.185097Z"
    }
   },
   "outputs": [],
   "source": [
    "full_texts={id_:get_full_text(id_) for id_ in essay_ids}"
   ]
  },
  {
   "cell_type": "code",
   "execution_count": 25,
   "id": "98d4248d",
   "metadata": {
    "ExecuteTime": {
     "end_time": "2022-01-19T16:59:21.826696Z",
     "start_time": "2022-01-19T16:59:21.609007Z"
    }
   },
   "outputs": [],
   "source": [
    "essays_df=pd.DataFrame(full_texts,index=[0]).T.reset_index().rename(columns={'index':'id',0:'text'})"
   ]
  },
  {
   "cell_type": "code",
   "execution_count": 26,
   "id": "3b40b72b",
   "metadata": {
    "ExecuteTime": {
     "end_time": "2022-01-19T16:59:21.834121Z",
     "start_time": "2022-01-19T16:59:21.830844Z"
    }
   },
   "outputs": [],
   "source": [
    "essays_df.set_index('id',inplace=True)"
   ]
  },
  {
   "cell_type": "code",
   "execution_count": 27,
   "id": "aa17fe7b",
   "metadata": {
    "ExecuteTime": {
     "end_time": "2022-01-19T16:59:21.846263Z",
     "start_time": "2022-01-19T16:59:21.836079Z"
    },
    "scrolled": true
   },
   "outputs": [
    {
     "data": {
      "text/html": [
       "<div>\n",
       "<style scoped>\n",
       "    .dataframe tbody tr th:only-of-type {\n",
       "        vertical-align: middle;\n",
       "    }\n",
       "\n",
       "    .dataframe tbody tr th {\n",
       "        vertical-align: top;\n",
       "    }\n",
       "\n",
       "    .dataframe thead th {\n",
       "        text-align: right;\n",
       "    }\n",
       "</style>\n",
       "<table border=\"1\" class=\"dataframe\">\n",
       "  <thead>\n",
       "    <tr style=\"text-align: right;\">\n",
       "      <th></th>\n",
       "      <th>id</th>\n",
       "      <th>discourse_id</th>\n",
       "      <th>discourse_start</th>\n",
       "      <th>discourse_end</th>\n",
       "      <th>discourse_text</th>\n",
       "      <th>discourse_type</th>\n",
       "      <th>discourse_type_num</th>\n",
       "      <th>predictionstring</th>\n",
       "    </tr>\n",
       "  </thead>\n",
       "  <tbody>\n",
       "    <tr>\n",
       "      <th>0</th>\n",
       "      <td>423A1CA112E2</td>\n",
       "      <td>1.622628e+12</td>\n",
       "      <td>8.0</td>\n",
       "      <td>229.0</td>\n",
       "      <td>Modern humans today are always on their phone....</td>\n",
       "      <td>Lead</td>\n",
       "      <td>Lead 1</td>\n",
       "      <td>1 2 3 4 5 6 7 8 9 10 11 12 13 14 15 16 17 18 1...</td>\n",
       "    </tr>\n",
       "    <tr>\n",
       "      <th>1</th>\n",
       "      <td>423A1CA112E2</td>\n",
       "      <td>1.622628e+12</td>\n",
       "      <td>230.0</td>\n",
       "      <td>312.0</td>\n",
       "      <td>They are some really bad consequences when stu...</td>\n",
       "      <td>Position</td>\n",
       "      <td>Position 1</td>\n",
       "      <td>45 46 47 48 49 50 51 52 53 54 55 56 57 58 59</td>\n",
       "    </tr>\n",
       "    <tr>\n",
       "      <th>2</th>\n",
       "      <td>423A1CA112E2</td>\n",
       "      <td>1.622628e+12</td>\n",
       "      <td>313.0</td>\n",
       "      <td>401.0</td>\n",
       "      <td>Some certain areas in the United States ban ph...</td>\n",
       "      <td>Evidence</td>\n",
       "      <td>Evidence 1</td>\n",
       "      <td>60 61 62 63 64 65 66 67 68 69 70 71 72 73 74 75</td>\n",
       "    </tr>\n",
       "    <tr>\n",
       "      <th>3</th>\n",
       "      <td>423A1CA112E2</td>\n",
       "      <td>1.622628e+12</td>\n",
       "      <td>402.0</td>\n",
       "      <td>758.0</td>\n",
       "      <td>When people have phones, they know about certa...</td>\n",
       "      <td>Evidence</td>\n",
       "      <td>Evidence 2</td>\n",
       "      <td>76 77 78 79 80 81 82 83 84 85 86 87 88 89 90 9...</td>\n",
       "    </tr>\n",
       "    <tr>\n",
       "      <th>4</th>\n",
       "      <td>423A1CA112E2</td>\n",
       "      <td>1.622628e+12</td>\n",
       "      <td>759.0</td>\n",
       "      <td>886.0</td>\n",
       "      <td>Driving is one of the way how to get around. P...</td>\n",
       "      <td>Claim</td>\n",
       "      <td>Claim 1</td>\n",
       "      <td>139 140 141 142 143 144 145 146 147 148 149 15...</td>\n",
       "    </tr>\n",
       "  </tbody>\n",
       "</table>\n",
       "</div>"
      ],
      "text/plain": [
       "             id  discourse_id  discourse_start  discourse_end  \\\n",
       "0  423A1CA112E2  1.622628e+12              8.0          229.0   \n",
       "1  423A1CA112E2  1.622628e+12            230.0          312.0   \n",
       "2  423A1CA112E2  1.622628e+12            313.0          401.0   \n",
       "3  423A1CA112E2  1.622628e+12            402.0          758.0   \n",
       "4  423A1CA112E2  1.622628e+12            759.0          886.0   \n",
       "\n",
       "                                      discourse_text discourse_type  \\\n",
       "0  Modern humans today are always on their phone....           Lead   \n",
       "1  They are some really bad consequences when stu...       Position   \n",
       "2  Some certain areas in the United States ban ph...       Evidence   \n",
       "3  When people have phones, they know about certa...       Evidence   \n",
       "4  Driving is one of the way how to get around. P...          Claim   \n",
       "\n",
       "  discourse_type_num                                   predictionstring  \n",
       "0             Lead 1  1 2 3 4 5 6 7 8 9 10 11 12 13 14 15 16 17 18 1...  \n",
       "1         Position 1       45 46 47 48 49 50 51 52 53 54 55 56 57 58 59  \n",
       "2         Evidence 1    60 61 62 63 64 65 66 67 68 69 70 71 72 73 74 75  \n",
       "3         Evidence 2  76 77 78 79 80 81 82 83 84 85 86 87 88 89 90 9...  \n",
       "4            Claim 1  139 140 141 142 143 144 145 146 147 148 149 15...  "
      ]
     },
     "execution_count": 27,
     "metadata": {},
     "output_type": "execute_result"
    }
   ],
   "source": [
    "df.head()"
   ]
  },
  {
   "cell_type": "code",
   "execution_count": 28,
   "id": "cb7f7fd5",
   "metadata": {
    "ExecuteTime": {
     "end_time": "2022-01-19T16:59:21.854597Z",
     "start_time": "2022-01-19T16:59:21.847640Z"
    }
   },
   "outputs": [],
   "source": [
    "def create_gaps(df):\n",
    "    #first order to make sure \n",
    "    df_=df.sort_values(['id','discourse_start']).reset_index(drop=True)\n",
    "    gaps_df = pd.DataFrame(columns=df.columns)\n",
    "    counter_none=0\n",
    "    for i in range(1,len(df_)):\n",
    "    #CASE WHEN NEW ESSAY\n",
    "        if df_.loc[i,'id']!=df_.loc[i-1,'id'] :\n",
    "            counter_none=0\n",
    "            #CASE WHEN NEW ESSAY BEGINNING IS NOT LABELLED\n",
    "            if df_.loc[i,'discourse_start']!=0:\n",
    "                ## APPEND SAVE DF\n",
    "                counter_none+=1\n",
    "                gaps_df=gaps_df.append(dict(id=df_.loc[i,'id'],\n",
    "                                       discourse_start=0,\n",
    "                                       discourse_end=df_.loc[i+1,'discourse_start']-1,\n",
    "                                       discourse_type = 'None',\n",
    "                                       discourse_type_num = f'None {counter_none}'),ignore_index=True)\n",
    "                \n",
    "                \n",
    "            #REGULAR CASE : THE CURRENT LINE BELONGS TO THE SAME ESSAY AS THE PREVIOUS ONE\n",
    "        else:\n",
    "            #CASE WHEN IT IS NOT CONTINUOUS WITH THE PREVIOUS ONE\n",
    "            if df_.loc[i-1,'discourse_end'] +1 != df_.loc[i,'discourse_start']:\n",
    "                counter_none+=1\n",
    "                gaps_df=gaps_df.append(dict(id=df_.loc[i,'id'],\n",
    "                                   discourse_start=df_.loc[i-1,'discourse_end']+1,\n",
    "                                   discourse_end=df_.loc[i,'discourse_start']-1,\n",
    "                                   discourse_type = 'None',\n",
    "                                   discourse_type_num = f'None {counter_none}'),ignore_index=True)\n",
    "    \n",
    "    gaps_df=gaps_df.merge(essays_df,right_index=True,left_on='id')\n",
    "    \n",
    "    return gaps_df"
   ]
  },
  {
   "cell_type": "code",
   "execution_count": 29,
   "id": "930676ea",
   "metadata": {
    "ExecuteTime": {
     "end_time": "2022-01-19T16:59:21.859283Z",
     "start_time": "2022-01-19T16:59:21.856587Z"
    }
   },
   "outputs": [],
   "source": [
    "def slicer(df):\n",
    "    return df['text'][int(df['discourse_start']):int(df['discourse_end'])]\n",
    "    "
   ]
  },
  {
   "cell_type": "code",
   "execution_count": null,
   "id": "4416970b",
   "metadata": {
    "ExecuteTime": {
     "end_time": "2022-01-09T16:18:18.180890Z",
     "start_time": "2022-01-09T16:18:18.158880Z"
    }
   },
   "outputs": [],
   "source": []
  },
  {
   "cell_type": "code",
   "execution_count": 30,
   "id": "58dab406",
   "metadata": {
    "ExecuteTime": {
     "end_time": "2022-01-19T16:59:22.009023Z",
     "start_time": "2022-01-19T16:59:21.861021Z"
    }
   },
   "outputs": [],
   "source": [
    "df_sample=df[0:200]\n",
    "df_filled = create_gaps(df_sample)"
   ]
  },
  {
   "cell_type": "code",
   "execution_count": 31,
   "id": "6d2748e0",
   "metadata": {
    "ExecuteTime": {
     "end_time": "2022-01-19T16:59:22.016482Z",
     "start_time": "2022-01-19T16:59:22.011119Z"
    }
   },
   "outputs": [],
   "source": [
    "df_filled['discourse_text'] = df_filled.apply(slicer,axis=1)"
   ]
  },
  {
   "cell_type": "code",
   "execution_count": 32,
   "id": "812acc81",
   "metadata": {
    "ExecuteTime": {
     "end_time": "2022-01-19T16:59:22.023606Z",
     "start_time": "2022-01-19T16:59:22.019368Z"
    }
   },
   "outputs": [
    {
     "data": {
      "text/plain": [
       "(44, 9)"
      ]
     },
     "execution_count": 32,
     "metadata": {},
     "output_type": "execute_result"
    }
   ],
   "source": [
    "df_filled.shape"
   ]
  },
  {
   "cell_type": "code",
   "execution_count": 33,
   "id": "77afae91",
   "metadata": {
    "ExecuteTime": {
     "end_time": "2022-01-19T16:59:22.030614Z",
     "start_time": "2022-01-19T16:59:22.025037Z"
    }
   },
   "outputs": [],
   "source": [
    "df_full = df_sample.append(df_filled.drop(columns='text'))"
   ]
  },
  {
   "cell_type": "code",
   "execution_count": 34,
   "id": "8b397fc1",
   "metadata": {
    "ExecuteTime": {
     "end_time": "2022-01-19T16:59:22.048267Z",
     "start_time": "2022-01-19T16:59:22.032546Z"
    }
   },
   "outputs": [
    {
     "data": {
      "text/html": [
       "<div>\n",
       "<style scoped>\n",
       "    .dataframe tbody tr th:only-of-type {\n",
       "        vertical-align: middle;\n",
       "    }\n",
       "\n",
       "    .dataframe tbody tr th {\n",
       "        vertical-align: top;\n",
       "    }\n",
       "\n",
       "    .dataframe thead th {\n",
       "        text-align: right;\n",
       "    }\n",
       "</style>\n",
       "<table border=\"1\" class=\"dataframe\">\n",
       "  <thead>\n",
       "    <tr style=\"text-align: right;\">\n",
       "      <th></th>\n",
       "      <th>id</th>\n",
       "      <th>discourse_id</th>\n",
       "      <th>discourse_start</th>\n",
       "      <th>discourse_end</th>\n",
       "      <th>discourse_text</th>\n",
       "      <th>discourse_type</th>\n",
       "      <th>discourse_type_num</th>\n",
       "      <th>predictionstring</th>\n",
       "    </tr>\n",
       "  </thead>\n",
       "  <tbody>\n",
       "    <tr>\n",
       "      <th>0</th>\n",
       "      <td>423A1CA112E2</td>\n",
       "      <td>1.622628e+12</td>\n",
       "      <td>8.0</td>\n",
       "      <td>229.0</td>\n",
       "      <td>Modern humans today are always on their phone....</td>\n",
       "      <td>Lead</td>\n",
       "      <td>Lead 1</td>\n",
       "      <td>1 2 3 4 5 6 7 8 9 10 11 12 13 14 15 16 17 18 1...</td>\n",
       "    </tr>\n",
       "    <tr>\n",
       "      <th>1</th>\n",
       "      <td>423A1CA112E2</td>\n",
       "      <td>1.622628e+12</td>\n",
       "      <td>230.0</td>\n",
       "      <td>312.0</td>\n",
       "      <td>They are some really bad consequences when stu...</td>\n",
       "      <td>Position</td>\n",
       "      <td>Position 1</td>\n",
       "      <td>45 46 47 48 49 50 51 52 53 54 55 56 57 58 59</td>\n",
       "    </tr>\n",
       "    <tr>\n",
       "      <th>2</th>\n",
       "      <td>423A1CA112E2</td>\n",
       "      <td>1.622628e+12</td>\n",
       "      <td>313.0</td>\n",
       "      <td>401.0</td>\n",
       "      <td>Some certain areas in the United States ban ph...</td>\n",
       "      <td>Evidence</td>\n",
       "      <td>Evidence 1</td>\n",
       "      <td>60 61 62 63 64 65 66 67 68 69 70 71 72 73 74 75</td>\n",
       "    </tr>\n",
       "    <tr>\n",
       "      <th>3</th>\n",
       "      <td>423A1CA112E2</td>\n",
       "      <td>1.622628e+12</td>\n",
       "      <td>402.0</td>\n",
       "      <td>758.0</td>\n",
       "      <td>When people have phones, they know about certa...</td>\n",
       "      <td>Evidence</td>\n",
       "      <td>Evidence 2</td>\n",
       "      <td>76 77 78 79 80 81 82 83 84 85 86 87 88 89 90 9...</td>\n",
       "    </tr>\n",
       "    <tr>\n",
       "      <th>4</th>\n",
       "      <td>423A1CA112E2</td>\n",
       "      <td>1.622628e+12</td>\n",
       "      <td>759.0</td>\n",
       "      <td>886.0</td>\n",
       "      <td>Driving is one of the way how to get around. P...</td>\n",
       "      <td>Claim</td>\n",
       "      <td>Claim 1</td>\n",
       "      <td>139 140 141 142 143 144 145 146 147 148 149 15...</td>\n",
       "    </tr>\n",
       "    <tr>\n",
       "      <th>...</th>\n",
       "      <td>...</td>\n",
       "      <td>...</td>\n",
       "      <td>...</td>\n",
       "      <td>...</td>\n",
       "      <td>...</td>\n",
       "      <td>...</td>\n",
       "      <td>...</td>\n",
       "      <td>...</td>\n",
       "    </tr>\n",
       "    <tr>\n",
       "      <th>39</th>\n",
       "      <td>DE628D1F2F9D</td>\n",
       "      <td>NaN</td>\n",
       "      <td>394.0</td>\n",
       "      <td>398.0</td>\n",
       "      <td>and</td>\n",
       "      <td>None</td>\n",
       "      <td>None 4</td>\n",
       "      <td>NaN</td>\n",
       "    </tr>\n",
       "    <tr>\n",
       "      <th>40</th>\n",
       "      <td>E05C7F5C1156</td>\n",
       "      <td>NaN</td>\n",
       "      <td>456.0</td>\n",
       "      <td>454.0</td>\n",
       "      <td></td>\n",
       "      <td>None</td>\n",
       "      <td>None 1</td>\n",
       "      <td>NaN</td>\n",
       "    </tr>\n",
       "    <tr>\n",
       "      <th>41</th>\n",
       "      <td>E05C7F5C1156</td>\n",
       "      <td>NaN</td>\n",
       "      <td>610.0</td>\n",
       "      <td>781.0</td>\n",
       "      <td>herefore, driving can cause many accidents tha...</td>\n",
       "      <td>None</td>\n",
       "      <td>None 2</td>\n",
       "      <td>NaN</td>\n",
       "    </tr>\n",
       "    <tr>\n",
       "      <th>42</th>\n",
       "      <td>E05C7F5C1156</td>\n",
       "      <td>NaN</td>\n",
       "      <td>938.0</td>\n",
       "      <td>936.0</td>\n",
       "      <td></td>\n",
       "      <td>None</td>\n",
       "      <td>None 3</td>\n",
       "      <td>NaN</td>\n",
       "    </tr>\n",
       "    <tr>\n",
       "      <th>43</th>\n",
       "      <td>E05C7F5C1156</td>\n",
       "      <td>NaN</td>\n",
       "      <td>2189.0</td>\n",
       "      <td>2187.0</td>\n",
       "      <td></td>\n",
       "      <td>None</td>\n",
       "      <td>None 4</td>\n",
       "      <td>NaN</td>\n",
       "    </tr>\n",
       "  </tbody>\n",
       "</table>\n",
       "<p>244 rows × 8 columns</p>\n",
       "</div>"
      ],
      "text/plain": [
       "              id  discourse_id  discourse_start  discourse_end  \\\n",
       "0   423A1CA112E2  1.622628e+12              8.0          229.0   \n",
       "1   423A1CA112E2  1.622628e+12            230.0          312.0   \n",
       "2   423A1CA112E2  1.622628e+12            313.0          401.0   \n",
       "3   423A1CA112E2  1.622628e+12            402.0          758.0   \n",
       "4   423A1CA112E2  1.622628e+12            759.0          886.0   \n",
       "..           ...           ...              ...            ...   \n",
       "39  DE628D1F2F9D           NaN            394.0          398.0   \n",
       "40  E05C7F5C1156           NaN            456.0          454.0   \n",
       "41  E05C7F5C1156           NaN            610.0          781.0   \n",
       "42  E05C7F5C1156           NaN            938.0          936.0   \n",
       "43  E05C7F5C1156           NaN           2189.0         2187.0   \n",
       "\n",
       "                                       discourse_text discourse_type  \\\n",
       "0   Modern humans today are always on their phone....           Lead   \n",
       "1   They are some really bad consequences when stu...       Position   \n",
       "2   Some certain areas in the United States ban ph...       Evidence   \n",
       "3   When people have phones, they know about certa...       Evidence   \n",
       "4   Driving is one of the way how to get around. P...          Claim   \n",
       "..                                                ...            ...   \n",
       "39                                                and           None   \n",
       "40                                                              None   \n",
       "41  herefore, driving can cause many accidents tha...           None   \n",
       "42                                                              None   \n",
       "43                                                              None   \n",
       "\n",
       "   discourse_type_num                                   predictionstring  \n",
       "0              Lead 1  1 2 3 4 5 6 7 8 9 10 11 12 13 14 15 16 17 18 1...  \n",
       "1          Position 1       45 46 47 48 49 50 51 52 53 54 55 56 57 58 59  \n",
       "2          Evidence 1    60 61 62 63 64 65 66 67 68 69 70 71 72 73 74 75  \n",
       "3          Evidence 2  76 77 78 79 80 81 82 83 84 85 86 87 88 89 90 9...  \n",
       "4             Claim 1  139 140 141 142 143 144 145 146 147 148 149 15...  \n",
       "..                ...                                                ...  \n",
       "39             None 4                                                NaN  \n",
       "40             None 1                                                NaN  \n",
       "41             None 2                                                NaN  \n",
       "42             None 3                                                NaN  \n",
       "43             None 4                                                NaN  \n",
       "\n",
       "[244 rows x 8 columns]"
      ]
     },
     "execution_count": 34,
     "metadata": {},
     "output_type": "execute_result"
    }
   ],
   "source": [
    "df_full"
   ]
  },
  {
   "cell_type": "code",
   "execution_count": 35,
   "id": "37c428d3",
   "metadata": {
    "ExecuteTime": {
     "end_time": "2022-01-19T16:59:22.057556Z",
     "start_time": "2022-01-19T16:59:22.053632Z"
    }
   },
   "outputs": [
    {
     "data": {
      "text/plain": [
       "['Lead',\n",
       " 'Position',\n",
       " 'Evidence',\n",
       " 'Claim',\n",
       " 'Concluding Statement',\n",
       " 'Counterclaim',\n",
       " 'Rebuttal']"
      ]
     },
     "execution_count": 35,
     "metadata": {},
     "output_type": "execute_result"
    }
   ],
   "source": [
    "discourse_type"
   ]
  },
  {
   "cell_type": "code",
   "execution_count": 36,
   "id": "f603bcf5",
   "metadata": {
    "ExecuteTime": {
     "end_time": "2022-01-19T16:59:22.062620Z",
     "start_time": "2022-01-19T16:59:22.059382Z"
    }
   },
   "outputs": [],
   "source": [
    "colors={'Lead':'#DB3838',\n",
    " 'Position':'#AAE10D',\n",
    " 'Evidence':'#0DE1A7',\n",
    " 'Claim':'#DF3CEC',\n",
    " 'Concluding Statement':'#7c9bf7',\n",
    " 'Counterclaim':'#FFF942',\n",
    " 'Rebuttal':'#FFCE26',\n",
    "       'None':'#FFFFFF'}"
   ]
  },
  {
   "cell_type": "code",
   "execution_count": 37,
   "id": "4d84a905",
   "metadata": {
    "ExecuteTime": {
     "end_time": "2022-01-19T16:59:22.067114Z",
     "start_time": "2022-01-19T16:59:22.064476Z"
    }
   },
   "outputs": [],
   "source": [
    "def render_html(df):\n",
    "    return f\"<span style='background-color:{colors[df['discourse_type']]}'> {df['discourse_text']} </span> <b style='background-color:{colors[df['discourse_type']]}'> [{df['discourse_type']}] </b>\"\n",
    "    "
   ]
  },
  {
   "cell_type": "code",
   "execution_count": 38,
   "id": "6be5457d",
   "metadata": {
    "ExecuteTime": {
     "end_time": "2022-01-19T16:59:22.076445Z",
     "start_time": "2022-01-19T16:59:22.068575Z"
    }
   },
   "outputs": [],
   "source": [
    "df_full['html']=df_full.apply(render_html,axis=1)"
   ]
  },
  {
   "cell_type": "code",
   "execution_count": 39,
   "id": "2b837ad8",
   "metadata": {
    "ExecuteTime": {
     "end_time": "2022-01-19T16:59:22.082500Z",
     "start_time": "2022-01-19T16:59:22.078254Z"
    }
   },
   "outputs": [],
   "source": [
    "df_full.sort_values(['id','discourse_start'],inplace=True)"
   ]
  },
  {
   "cell_type": "code",
   "execution_count": 40,
   "id": "e804455f",
   "metadata": {
    "ExecuteTime": {
     "end_time": "2022-01-19T16:59:22.089993Z",
     "start_time": "2022-01-19T16:59:22.084688Z"
    }
   },
   "outputs": [],
   "source": [
    "df_html = df_full.groupby('id').agg({'html': ' '.join})"
   ]
  },
  {
   "cell_type": "code",
   "execution_count": 41,
   "id": "03bc9d86",
   "metadata": {
    "ExecuteTime": {
     "end_time": "2022-01-19T16:59:22.094998Z",
     "start_time": "2022-01-19T16:59:22.091784Z"
    }
   },
   "outputs": [],
   "source": [
    "df_html.reset_index(inplace=True)"
   ]
  },
  {
   "cell_type": "code",
   "execution_count": 42,
   "id": "31e21ae6",
   "metadata": {
    "ExecuteTime": {
     "end_time": "2022-01-19T16:59:22.103043Z",
     "start_time": "2022-01-19T16:59:22.098030Z"
    }
   },
   "outputs": [
    {
     "data": {
      "text/html": [
       "<span style='background-color:#FFFFFF'> Phones and Driving\n",
       "\n",
       "In this day in age of technological advancement, mankind has quickly adapted to using devices such as cellphones. It has gotten to the point where we constantly use it for everything we do. There seems to be many good qualities about the cellphone which humans seem to keep all are attention on. That in turn causes problems with our surroundings such as being on the phone and driving a vehicle.\n",
       " </span> <b style='background-color:#FFFFFF'> [None] </b> <span style='background-color:#DB3838'> In this day in age of technological advancement, mankind has quickly adapted to using devices such as cellphones. It has gotten to the point where we constantly use it for everything we do. There seems to be many good qualities about the cellphone which humans seem to keep all are attention on. That in turn causes problems with our surroundings such as being on the phone and driving a vehicle.  </span> <b style='background-color:#DB3838'> [Lead] </b> <span style='background-color:#DF3CEC'> There is no denying that cellphones take up all of our attention  </span> <b style='background-color:#DF3CEC'> [Claim] </b> <span style='background-color:#0DE1A7'> There are just so many things that we are able to do that makers have put in it. It is just to ensure that we never get bored while also waiting for the next phone with technological superiority to be released. Likewise, with driving. It takes up all of our focus to make sure we don't get into a car wreck. In a way, driving and being on a cellphone are very similar in regards to how much attention we give it. So when putting both together, the ending result are what you would expect it to be, catastrophic.  </span> <b style='background-color:#0DE1A7'> [Evidence] </b> <span style='background-color:#0DE1A7'> Cellphones and driving take up a lot of focus and because of that, we constantly are switching from looking at our phones to paying attention to the road and oncoming traffic ahead (assuming there is any that is).  </span> <b style='background-color:#0DE1A7'> [Evidence] </b> <span style='background-color:#DF3CEC'> They do not balance out well and people can easily get into car accidents as a result. This most notably happens when a person is trying to text and drive at the same time  </span> <b style='background-color:#DF3CEC'> [Claim] </b> <span style='background-color:#FFFFFF'>  </span> <b style='background-color:#FFFFFF'> [None] </b> <span style='background-color:#0DE1A7'> It was this very reason why texting and driving has been made illegal to ensure the safety of fellow drivers. You would think the problems lay with teenagers doing it, but adults have a higher statistic level when it comes to this, providing more fatality rates to go up. Add that in with alcohol and there is no telling what will happen.  </span> <b style='background-color:#0DE1A7'> [Evidence] </b> <span style='background-color:#AAE10D'> In the end, we just should not use our phones while we drive  </span> <b style='background-color:#AAE10D'> [Position] </b> <span style='background-color:#7c9bf7'> It quickly turns into a habit once we start and it will not end well. It can also result in being arrested if caught by a local police officer. We should get everything out of the way before we start driving or stop and park somewhere before we engage into the activities on our phone. There are plenty of safe ways to use a phone while inside of a vehicle, we just choose the most dangerous route. </span> <b style='background-color:#7c9bf7'> [Concluding Statement] </b>"
      ],
      "text/plain": [
       "<IPython.core.display.HTML object>"
      ]
     },
     "execution_count": 42,
     "metadata": {},
     "output_type": "execute_result"
    }
   ],
   "source": [
    "HTML(df_html.loc[3,'html'])"
   ]
  },
  {
   "cell_type": "code",
   "execution_count": 43,
   "id": "758b08bd",
   "metadata": {
    "ExecuteTime": {
     "end_time": "2022-01-19T16:59:22.109271Z",
     "start_time": "2022-01-19T16:59:22.105592Z"
    },
    "scrolled": true
   },
   "outputs": [
    {
     "data": {
      "text/plain": [
       "(23, 2)"
      ]
     },
     "execution_count": 43,
     "metadata": {},
     "output_type": "execute_result"
    }
   ],
   "source": [
    "df_html.shape"
   ]
  },
  {
   "cell_type": "code",
   "execution_count": 44,
   "id": "1c29a1b1",
   "metadata": {
    "ExecuteTime": {
     "end_time": "2022-01-19T16:59:22.150513Z",
     "start_time": "2022-01-19T16:59:22.111927Z"
    },
    "scrolled": false
   },
   "outputs": [
    {
     "name": "stdout",
     "output_type": "stream",
     "text": [
      "------------- text 0 -------------\n"
     ]
    },
    {
     "data": {
      "text/html": [
       "<span style='background-color:#DB3838'> Look around you! All you see is people from all ages staring at a device all day which is a phone. People are always stuck on their phones, that it seems they can never let it go while:working ,at school,cleaning,and driving. Some things caused by using your phone while driving are car accidents, irresponsible people driving, or you can get a fee.  </span> <b style='background-color:#DB3838'> [Lead] </b> <span style='background-color:#DF3CEC'> Phones can be such a distraction to everyone at anytime including while driving which is a safety hazard. </span> <b style='background-color:#DF3CEC'> [Claim] </b> <span style='background-color:#0DE1A7'> A major cause of deaths in the US is motor vehicle accidents because of phone usage most of the time. \"About 33,700 people die in motor vehicle each year\" shown on CDC. This means that some of the accidents are from phone usage and other factors, but if people stop using their phones while driving their could be less accidents in the future. In the article \"Mobile phones and driving safety\", it stated that,\"In a 2011 study it was reported that over 90% of college students surveyed texts (initiate,reply,or read) while driving.\" It proves that even adults can be immature that they use their phones while driving even when knowing the possible consequences they may have. If people continue to use phones while driving then the rate of death will get higher and people would think that nothing will happen to them while using their phones.  </span> <b style='background-color:#0DE1A7'> [Evidence] </b> <span style='background-color:#FFF942'> Many people may say that teens are the ones driving irresponsibly by using their phones when operating a vehicle. </span> <b style='background-color:#FFF942'> [Counterclaim] </b> <span style='background-color:#FFCE26'> In reality, everyone from every age is irresponsibly driving.  </span> <b style='background-color:#FFCE26'> [Rebuttal] </b> <span style='background-color:#0DE1A7'> According to an article of \" Teen driver source\", \"In 2015, 42 percent of high school students who drove in the past 30 days reported sending a text or email while driving.\"The other half were most likely adults in which adults should set younger people an influence because they learn from them. In another passage on \"Science Daily' stated that, adults are always on their phone while driving with young kids either by sending a text, reading texts, on social media, or their just distracted driving. I believe that the adults should be more cautious including the teens but adults tend to have younger kids with them in the car.\n",
       " </span> <b style='background-color:#0DE1A7'> [Evidence] </b> <span style='background-color:#FFFFFF'>  </span> <b style='background-color:#FFFFFF'> [None] </b> <span style='background-color:#DF3CEC'> Both the adults and teens are guilty of driving on their phones, but they should learn sooner to avoid any type of tragedy.\n",
       " </span> <b style='background-color:#DF3CEC'> [Claim] </b> <span style='background-color:#0DE1A7'> Each state in the US has their own laws to protect their people. Since some don't listen the people in charge of the state they've made laws for people who drive careless. About 43 states have prohibited drivers to text or even be on their phones (Facts & Statistics about texting and driving). Even though not all states have been prohibited of being on their phones, almost all of them have which is a good difference. In some states if the police stops you for the first time for texting and driving, you can get a fee depending where you live. For example, Georgia has a fee of $150, Florida has one of $30,and New Jersey has one of $400. The fee law is a good option because if they stop you a second time then you could have jail time if you didn't learn the first time from the fee. If the US keeps making stricter laws of being on the phone while driving then the people will learn.\n",
       " </span> <b style='background-color:#0DE1A7'> [Evidence] </b> <span style='background-color:#FFFFFF'> In conclusion </span> <b style='background-color:#FFFFFF'> [None] </b> <span style='background-color:#AAE10D'>  driving while using your phone at any age isn't right. </span> <b style='background-color:#AAE10D'> [Position] </b> <span style='background-color:#7c9bf7'> By one simple distraction something tragic could occur. It's not always teens driving reckless, but if anyone act young by not responsibly driving then they could get a fee they have to pay. Driving while using the phone should be taken more serious to prevent any issues. </span> <b style='background-color:#7c9bf7'> [Concluding Statement] </b>"
      ],
      "text/plain": [
       "<IPython.core.display.HTML object>"
      ]
     },
     "metadata": {},
     "output_type": "display_data"
    },
    {
     "name": "stdout",
     "output_type": "stream",
     "text": [
      "------------- text 1 -------------\n"
     ]
    },
    {
     "data": {
      "text/html": [
       "<span style='background-color:#FFFFFF'> Phones and their impact on driving\n",
       "\n",
       "Phone use while driving has become extremely common in this day and age. Almost everyone that's driven a car has done it, and they know it. A lot of people do it, but that obviously doesn't make it right. Of course </span> <b style='background-color:#FFFFFF'> [None] </b> <span style='background-color:#DB3838'> Phone use while driving has become extremely common in this day and age. Almost everyone that's driven a car has done it, and they know it. A lot of people do it, but that obviously doesn't make it right. </span> <b style='background-color:#DB3838'> [Lead] </b> <span style='background-color:#FFFFFF'> Of course </span> <b style='background-color:#FFFFFF'> [None] </b> <span style='background-color:#AAE10D'> lots of things have come out so that we won't have the phone in our hands while driving, but who said that having a phone in your hand is the only problem  </span> <b style='background-color:#AAE10D'> [Position] </b> <span style='background-color:#DF3CEC'> Phones cause for distractions  </span> <b style='background-color:#DF3CEC'> [Claim] </b> <span style='background-color:#DF3CEC'> accidents </span> <b style='background-color:#DF3CEC'> [Claim] </b>"
      ],
      "text/plain": [
       "<IPython.core.display.HTML object>"
      ]
     },
     "metadata": {},
     "output_type": "display_data"
    },
    {
     "name": "stdout",
     "output_type": "stream",
     "text": [
      "------------- text 2 -------------\n"
     ]
    },
    {
     "data": {
      "text/html": [
       "<span style='background-color:#FFFFFF'> Not Using Phones while Driving\n",
       "\n",
       "Throughout the years, teenagers have been eager to turn 16. Driving is a nerve wrecking and exciting experience at the same time. There is a good upside about driving and that would be being able to go out to places without having to pay and the time period you can stay out for is how long you desire. Even though there is a good side, there is a bad side as well. This would have to be the large amount of people that are not cautious around their surroundings and many lives have been taken away due to this. </span> <b style='background-color:#FFFFFF'> [None] </b> <span style='background-color:#DB3838'> Throughout the years, teenagers have been eager to turn 16. Driving is a nerve wrecking and exciting experience at the same time. There is a good upside about driving and that would be being able to go out to places without having to pay and the time period you can stay out for is how long you desire. Even though there is a good side, there is a bad side as well. This would have to be the large amount of people that are not cautious around their surroundings and many lives have been taken away due to this. </span> <b style='background-color:#DB3838'> [Lead] </b> <span style='background-color:#AAE10D'> I would have to agree with the idea that says that phones should not be used while driving </span> <b style='background-color:#AAE10D'> [Position] </b> <span style='background-color:#FFFFFF'> , </span> <b style='background-color:#FFFFFF'> [None] </b> <span style='background-color:#DF3CEC'> my reasons for this are that peoples lives are taken away, </span> <b style='background-color:#DF3CEC'> [Claim] </b> <span style='background-color:#DF3CEC'> a phone is a big distraction, </span> <b style='background-color:#DF3CEC'> [Claim] </b> <span style='background-color:#DF3CEC'> and it is a law you have to follow.  </span> <b style='background-color:#DF3CEC'> [Claim] </b> <span style='background-color:#DF3CEC'> My first reason on why phones should not be used while driving is because too many lives are taken everyday. </span> <b style='background-color:#DF3CEC'> [Claim] </b> <span style='background-color:#0DE1A7'> Utilizing a phone while driving takes many lives every second of our daily lives. About 1.6 million lives a year end up in critical conditions or worse, dead. A phone call or text can wait, but being impatient can result in deaths. This impatiences creates danger to the person driving and everyone around them. Too many lives are taken by near accidents, crashes, distractions, and running of lights caused by usage of phones by operating moving vehicles. Many more lives could be safer if people chose to wait for their usage of phones after being off the road.  </span> <b style='background-color:#0DE1A7'> [Evidence] </b> <span style='background-color:#DF3CEC'> My second reason on why phones should not be used while driving is because, too many distractions are already on the road without adding a phone as another reason  </span> <b style='background-color:#DF3CEC'> [Claim] </b> <span style='background-color:#0DE1A7'> Once again, using a phone while driving creates too many distractions for the driver and everyone around is left in danger. For example, phones can create delays on stop lights which can create simple accidents. The glare of a bright phone on a dark night can actually interfere with the sight of the driver and can cause loss of control or misguidance to swerving. As well as sudden loud sounds from a phone can actually scare or frighten a driver straight to a crash. Occuping phones while driving is one of the biggest reasons for caused crashes all over.  </span> <b style='background-color:#0DE1A7'> [Evidence] </b> <span style='background-color:#DF3CEC'> My third and final reason for not using phones while driving is because, a new law recently has been released on how using phones on the road is no longer permitted anymore. </span> <b style='background-color:#DF3CEC'> [Claim] </b> <span style='background-color:#0DE1A7'> The new law was put in to ensure more safety due to all the distractions caused by phones. Since it is a new law, a new law means that it is expected to be followed, a new set out rule. It is for the safety of people and everyone surrounding. People will get punished if the new law is not followed and in my opinion, i would say that it is one of the greatest laws forced. The new law will minimize the amount of crashes caused by phones on the road all over and save many more lives and everyone around.  </span> <b style='background-color:#0DE1A7'> [Evidence] </b> <span style='background-color:#7c9bf7'> A phone should not ever be used while a person is driving for any type of situation, it can wait. My reasons, once again like i said before is that many lives are taken away, it is also a big distraction, and last would be that it is a new law. A phone is really entertaining and that is something people do not want behind the wheel because then it can become a distraction.\n",
       "\n",
       "Through the whole essay all I could come to head would be about the peoples lives taken away left with a broken down family. Phones ultimately should not be used while driving and a person should not have to double think it, before they cause a new tragedy that will leave them with a lifetime of consequences and guilt.    </span> <b style='background-color:#7c9bf7'> [Concluding Statement] </b>"
      ],
      "text/plain": [
       "<IPython.core.display.HTML object>"
      ]
     },
     "metadata": {},
     "output_type": "display_data"
    },
    {
     "name": "stdout",
     "output_type": "stream",
     "text": [
      "------------- text 3 -------------\n"
     ]
    },
    {
     "data": {
      "text/html": [
       "<span style='background-color:#FFFFFF'> Phones and Driving\n",
       "\n",
       "In this day in age of technological advancement, mankind has quickly adapted to using devices such as cellphones. It has gotten to the point where we constantly use it for everything we do. There seems to be many good qualities about the cellphone which humans seem to keep all are attention on. That in turn causes problems with our surroundings such as being on the phone and driving a vehicle.\n",
       " </span> <b style='background-color:#FFFFFF'> [None] </b> <span style='background-color:#DB3838'> In this day in age of technological advancement, mankind has quickly adapted to using devices such as cellphones. It has gotten to the point where we constantly use it for everything we do. There seems to be many good qualities about the cellphone which humans seem to keep all are attention on. That in turn causes problems with our surroundings such as being on the phone and driving a vehicle.  </span> <b style='background-color:#DB3838'> [Lead] </b> <span style='background-color:#DF3CEC'> There is no denying that cellphones take up all of our attention  </span> <b style='background-color:#DF3CEC'> [Claim] </b> <span style='background-color:#0DE1A7'> There are just so many things that we are able to do that makers have put in it. It is just to ensure that we never get bored while also waiting for the next phone with technological superiority to be released. Likewise, with driving. It takes up all of our focus to make sure we don't get into a car wreck. In a way, driving and being on a cellphone are very similar in regards to how much attention we give it. So when putting both together, the ending result are what you would expect it to be, catastrophic.  </span> <b style='background-color:#0DE1A7'> [Evidence] </b> <span style='background-color:#0DE1A7'> Cellphones and driving take up a lot of focus and because of that, we constantly are switching from looking at our phones to paying attention to the road and oncoming traffic ahead (assuming there is any that is).  </span> <b style='background-color:#0DE1A7'> [Evidence] </b> <span style='background-color:#DF3CEC'> They do not balance out well and people can easily get into car accidents as a result. This most notably happens when a person is trying to text and drive at the same time  </span> <b style='background-color:#DF3CEC'> [Claim] </b> <span style='background-color:#FFFFFF'>  </span> <b style='background-color:#FFFFFF'> [None] </b> <span style='background-color:#0DE1A7'> It was this very reason why texting and driving has been made illegal to ensure the safety of fellow drivers. You would think the problems lay with teenagers doing it, but adults have a higher statistic level when it comes to this, providing more fatality rates to go up. Add that in with alcohol and there is no telling what will happen.  </span> <b style='background-color:#0DE1A7'> [Evidence] </b> <span style='background-color:#AAE10D'> In the end, we just should not use our phones while we drive  </span> <b style='background-color:#AAE10D'> [Position] </b> <span style='background-color:#7c9bf7'> It quickly turns into a habit once we start and it will not end well. It can also result in being arrested if caught by a local police officer. We should get everything out of the way before we start driving or stop and park somewhere before we engage into the activities on our phone. There are plenty of safe ways to use a phone while inside of a vehicle, we just choose the most dangerous route. </span> <b style='background-color:#7c9bf7'> [Concluding Statement] </b>"
      ],
      "text/plain": [
       "<IPython.core.display.HTML object>"
      ]
     },
     "metadata": {},
     "output_type": "display_data"
    },
    {
     "name": "stdout",
     "output_type": "stream",
     "text": [
      "------------- text 4 -------------\n"
     ]
    },
    {
     "data": {
      "text/html": [
       "<span style='background-color:#FFFFFF'> Phones\n",
       "\n",
       "Modern humans today are always on their phone. They are always on their phone more than 5 hours a day no stop .All they do is text back and forward and just have group Chats on social media. They even do it while driving. </span> <b style='background-color:#FFFFFF'> [None] </b> <span style='background-color:#DB3838'> Modern humans today are always on their phone. They are always on their phone more than 5 hours a day no stop .All they do is text back and forward and just have group Chats on social media. They even do it while driving. </span> <b style='background-color:#DB3838'> [Lead] </b> <span style='background-color:#AAE10D'> They are some really bad consequences when stuff happens when it comes to a phone. </span> <b style='background-color:#AAE10D'> [Position] </b> <span style='background-color:#0DE1A7'> Some certain areas in the United States ban phones from class rooms just because of it.  </span> <b style='background-color:#0DE1A7'> [Evidence] </b> <span style='background-color:#0DE1A7'> When people have phones, they know about certain apps that they have .Apps like Facebook Twitter Instagram and Snapchat. So like if a friend moves away and you want to be in contact you can still be in contact by posting videos or text messages. People always have different ways how to communicate with a phone. Phones have changed due to our generation.  </span> <b style='background-color:#0DE1A7'> [Evidence] </b> <span style='background-color:#DF3CEC'> Driving is one of the way how to get around. People always be on their phones while doing it. Which can cause serious Problems. </span> <b style='background-color:#DF3CEC'> [Claim] </b> <span style='background-color:#0DE1A7'> That's why there's a thing that's called no texting while driving. That's a really important thing to remember. Some people still do it because they think It's stupid. No matter what they do they still have to obey it because that's the only way how did he save.  </span> <b style='background-color:#0DE1A7'> [Evidence] </b> <span style='background-color:#0DE1A7'> Sometimes on the news there is either an accident or a suicide. It might involve someone not looking where they're going or tweet that someone sent. It either injury or death. If a mysterious number says I'm going to kill you and they know where you live but you don't know the person's contact\n",
       "\n",
       ",It makes you puzzled and make you start to freak out. Which can end up really badly.  </span> <b style='background-color:#0DE1A7'> [Evidence] </b> <span style='background-color:#DF3CEC'> Phones are fine to use and it's also the best way to come over help. </span> <b style='background-color:#DF3CEC'> [Claim] </b> <span style='background-color:#0DE1A7'> If you go through a problem and you can't find help you ,always have a phone there with you. Even though phones are used almost every day as long as you're safe it would come into use if you get into trouble. Make sure you do not be like this phone while you're in the middle of driving. </span> <b style='background-color:#0DE1A7'> [Evidence] </b> <span style='background-color:#7c9bf7'> The news always updated when people do something stupid around that involves their phones. The safest way is the best way to stay safe.  </span> <b style='background-color:#7c9bf7'> [Concluding Statement] </b>"
      ],
      "text/plain": [
       "<IPython.core.display.HTML object>"
      ]
     },
     "metadata": {},
     "output_type": "display_data"
    },
    {
     "name": "stdout",
     "output_type": "stream",
     "text": [
      "------------- text 5 -------------\n"
     ]
    },
    {
     "data": {
      "text/html": [
       "<span style='background-color:#DB3838'> Cell phones were presented within the United States showcase within the decade of 1980 and their utilization right away developed amid the following two decades. The slant of utilizing cell phones has expanded all through the world. One of the essential reasons for the tremendous development of cell phones is that they encourage communication advertising tall levels of adaptability coming to craved individuals inside seconds whether he/she is at office, domestic, or exterior driving a car etc. Cell phones back in making a coordinate contact with individuals successfully and without wastage of any time. Another fundamental reason for the hazardous development of cell phones is the security viewpoint. Cell phones make it simple to contact amid crisis indeed amid driving </span> <b style='background-color:#DB3838'> [Lead] </b> <span style='background-color:#AAE10D'> in spite of the fact that utilizing cell phones whereas driving is generally perilous and not fitting, it gives the comfort of handling crisis circumstance, tuning in music through hands-free, and following courses etc.  </span> <b style='background-color:#AAE10D'> [Position] </b> <span style='background-color:#DF3CEC'> In case drivers on cell phones have more mischances, at that point drivers ought to be precluded from utilizing them  </span> <b style='background-color:#DF3CEC'> [Claim] </b> <span style='background-color:#0DE1A7'> Drivers on cell phones do have more mishaps. Hence, drivers ought to be disallowed from utilizing cell phones. To create this contention, you must clarify and protect both of its premises, and they require very diverse contentions.  </span> <b style='background-color:#0DE1A7'> [Evidence] </b> <span style='background-color:#DF3CEC'> A few investigations recommend that talking on a cell phone whereas driving is viably like driving whereas impeded  </span> <b style='background-color:#DF3CEC'> [Claim] </b> <span style='background-color:#0DE1A7'> In reality, a ponder at the College of Utah that compared tanked drivers to drivers on cell phones indeed found that \"cell phone drivers displayed more noteworthy impedance than inebriated drivers\". Ouch.  </span> <b style='background-color:#0DE1A7'> [Evidence] </b>"
      ],
      "text/plain": [
       "<IPython.core.display.HTML object>"
      ]
     },
     "metadata": {},
     "output_type": "display_data"
    },
    {
     "name": "stdout",
     "output_type": "stream",
     "text": [
      "------------- text 6 -------------\n"
     ]
    },
    {
     "data": {
      "text/html": [
       "<span style='background-color:#DB3838'> Imagine waking up to a call in the middle of the night saying you lost your loved one in a car accident because they decided a text was more important than their life? Texting while driving increases the risk of an accident 23.2 times compared to unimpaired driving which is a sobering statistic provided by the Virginia Tech Transportation Institute in 2018.  </span> <b style='background-color:#DB3838'> [Lead] </b> <span style='background-color:#AAE10D'> Using the phone while driving has spread throughout the nation, and with people being so impatient in today's society, texting and driving has had damaging effects on people and their families. </span> <b style='background-color:#AAE10D'> [Position] </b> <span style='background-color:#FFFFFF'>  </span> <b style='background-color:#FFFFFF'> [None] </b> <span style='background-color:#0DE1A7'> Phones have become a key part of our lives but it's our job as people to know when and where to use our phones especially as drivers.  </span> <b style='background-color:#0DE1A7'> [Evidence] </b> <span style='background-color:#DF3CEC'> Driving while distracted by the phone can affect everyone involved physically, </span> <b style='background-color:#DF3CEC'> [Claim] </b> <span style='background-color:#FFFFFF'>  </span> <b style='background-color:#FFFFFF'> [None] </b> <span style='background-color:#DF3CEC'> mentally  </span> <b style='background-color:#DF3CEC'> [Claim] </b> <span style='background-color:#DF3CEC'> as well as financially.  </span> <b style='background-color:#DF3CEC'> [Claim] </b> <span style='background-color:#DF3CEC'> Driving and texting is something very common, but a serious problem with detrimental effects. The main detrimental effect could be physical. </span> <b style='background-color:#DF3CEC'> [Claim] </b> <span style='background-color:#0DE1A7'> When a person texts and drives, a person could cause an accident, which could not only endanger themselves, but it could endanger others.\n",
       "\n",
       "According to the National Safety Council, \"Cell phone use while driving leads to 1.6 million crashes each year.\" These are deaths added to this already hectic world that could have been easily avoided.\n",
       " </span> <b style='background-color:#0DE1A7'> [Evidence] </b> <span style='background-color:#DF3CEC'> Not only can texting while driving affect a person physically but it can also affect a person mentally.  </span> <b style='background-color:#DF3CEC'> [Claim] </b> <span style='background-color:#0DE1A7'> While physical damage to a vehicle or physical injury to a person can often be resolved in a matter of days or weeks, emotional damage may last a lifetime. Author and blogger Rebecca Goldfarb recently categorized the types of emotional damage as shock, anger, guilt, anxiety and depression and even post-traumatic stress. Goldfarb added many people who are involved in an accident as either the driver or as the victim often need to receive professional care if the difficult emotions are lasting longer than expected.\n",
       " </span> <b style='background-color:#0DE1A7'> [Evidence] </b> <span style='background-color:#DF3CEC'> The final way in which driving while distracted may negatively affect a person is financially. </span> <b style='background-color:#DF3CEC'> [Claim] </b> <span style='background-color:#0DE1A7'> According to the website big AZ BIG Media, there are six types of costs that may happen following a car accident. The first two immediate financial costs involve the repair of personal property and the costs with healthcare and medical treatment. The second two financial costs involve possible legal fees and an increase to car insurance. Finally, the last two costs involve the loss of employment (income and benefits) and the possible cost of a career change if the person cannot return to their job.\n",
       " </span> <b style='background-color:#0DE1A7'> [Evidence] </b> <span style='background-color:#7c9bf7'> In conclusion, texting while driving is not a wise decision. Texting while driving can negatively affect everyone involved physically, mentally and even financially. </span> <b style='background-color:#7c9bf7'> [Concluding Statement] </b> <span style='background-color:#0DE1A7'>  Oprah Winfrey summarized this point on April 26, 2010 on her website with these words \"But this is a real problem we can do something about and get immediate results. All we have to do is hang up or switch off. It really is that simple. Once we do that, not another son or daughter will have to die because someone was on the phone and behind the wheel-and just not paying attention.\" </span> <b style='background-color:#0DE1A7'> [Evidence] </b> <span style='background-color:#FFFFFF'>  </span> <b style='background-color:#FFFFFF'> [None] </b>"
      ],
      "text/plain": [
       "<IPython.core.display.HTML object>"
      ]
     },
     "metadata": {},
     "output_type": "display_data"
    },
    {
     "name": "stdout",
     "output_type": "stream",
     "text": [
      "------------- text 7 -------------\n"
     ]
    },
    {
     "data": {
      "text/html": [
       "<span style='background-color:#AAE10D'> There shouldn't be a discussion when it comes to texting and driving for obvious reasons. It's just as dangerous as driving under the influence. </span> <b style='background-color:#AAE10D'> [Position] </b> <span style='background-color:#0DE1A7'> And there are plenty of ways to send a message using hands free technology. It also being illegal should really mean that you shouldn't be doing it. And you can also kill someone just to send a text message. But it is common in the United States.  </span> <b style='background-color:#0DE1A7'> [Evidence] </b> <span style='background-color:#0DE1A7'> Texting and driving has been banned in most of the United States there are only 2 states that haven't banned texting and driving. And of you get caught by a cop you will be fined up to $400. And that is a lot of money for just sending a text. And may also cause your license to get suspended  </span> <b style='background-color:#0DE1A7'> [Evidence] </b> <span style='background-color:#DF3CEC'> It makes sense because when you text and drive you are twenty three percent more likely to get into a car crash. That makes just as dangerous as driving under the influence.  </span> <b style='background-color:#DF3CEC'> [Claim] </b> <span style='background-color:#DF3CEC'> A lot of people don't actually know how dangerous and common texting and driving really is  </span> <b style='background-color:#DF3CEC'> [Claim] </b> <span style='background-color:#0DE1A7'> It makes up eighteen percent of fatal car crashes. And more than 35 percent of teens and adults admit to texting and driving. So even though people know what could happen they still do it either way. And more then ninety percent of people know how dangerous texting and driving is. People take there eyes off the road for four seconds on average which is long enough for you to swerve on to another lane. And at least 9 people are killed every day by distracted drivers.  </span> <b style='background-color:#0DE1A7'> [Evidence] </b> <span style='background-color:#DF3CEC'> There are plenty of easy ways to prevent texting and driving. </span> <b style='background-color:#DF3CEC'> [Claim] </b> <span style='background-color:#0DE1A7'> One way is to have your phone out of reach and on silent so if you get a message or a call you won't be able to get tempted to reach for your phone. Another way is to use an app to block incoming texts or calls. Some apps can send an auto response back, letting the sender know that you are driving and will respond when you are not driving. And one way is to be committed to not texting and driving.  </span> <b style='background-color:#0DE1A7'> [Evidence] </b> <span style='background-color:#7c9bf7'> In conclusion texting and driving and driving distracted is a big problem that can easily be avoided. But people still tend to do it anyways. People should pay a fine if caught by a police officer. And should get there license suspended if they do it a lot. People should be more aware about the consciences that can be caused by this petty action. To keep it simple would you drive 1 ton of pure machinery at 60 miles per hour blindfolded.     </span> <b style='background-color:#7c9bf7'> [Concluding Statement] </b>"
      ],
      "text/plain": [
       "<IPython.core.display.HTML object>"
      ]
     },
     "metadata": {},
     "output_type": "display_data"
    },
    {
     "name": "stdout",
     "output_type": "stream",
     "text": [
      "------------- text 8 -------------\n"
     ]
    },
    {
     "data": {
      "text/html": [
       "<span style='background-color:#AAE10D'> Drivers Should Be Limited As To When They Can Use Their Phones While Driving  </span> <b style='background-color:#AAE10D'> [Position] </b> <span style='background-color:#DB3838'> Drivers who are distracted by their phone while driving have an increased risk of crashing. Crashes affect both the crasher and any possible crashing victims. Everything from physical pain to emotional pain as well as financial pain can be felt after a crash. 3,287 deaths happen every day due to fatal car crashes. On average, 9 of these fatalities are related to distracted driving. Due to the inability to test if a crash was due to distracted driving, it is believed that the recorded number of distracted driving incidents is greatly under-recorded.  </span> <b style='background-color:#DB3838'> [Lead] </b> <span style='background-color:#DF3CEC'> Over 80% of drivers admit to not paying attention to the road while they are doing blatantly hazardous behaviors while driving. The listed activities are not always the driver interacting with their phone, however it is safe to assume that interacting with their phone is one of the many hazardous activities these drivers admitted to doing.  </span> <b style='background-color:#DF3CEC'> [Claim] </b> <span style='background-color:#0DE1A7'> Distracted driving is now considered to be the \"new drunk driving\" since it follows the same psychological pattern. With recent studies of phone addiction showing some of the same signs as drug addiction, people are having a harder time ignoring their phone. It is no coincidence that car crashes are the number one killer of teens in the U.s and that 16-19 year olds have a three times higher chance to be involved in a fatal crash than any other age group while studies show that teens and younger children are the most addicted to their phones.  </span> <b style='background-color:#0DE1A7'> [Evidence] </b> <span style='background-color:#FFFFFF'>  </span> <b style='background-color:#FFFFFF'> [None] </b> <span style='background-color:#FFF942'> While it is dangerous to be interacting with your phone while driving some people have no choice in the matter. </span> <b style='background-color:#FFF942'> [Counterclaim] </b> <span style='background-color:#0DE1A7'> Reasons for this can range from work related texts or phone calls to family matters. Some states are trying what is called a \"hands free law\" that makes it illegal for a driver to hold their phone while they are driving. It also states that a driver cannot read or watch videos on their phone while driving. Because of this law there have been multiple accessories made that allow drivers to mount their phones in their car so that they can send voice messages or speech to text messages. The law along with the accessories allow these types of drivers to access their phones, though very limited, and keep up to date with their important concerns.  </span> <b style='background-color:#0DE1A7'> [Evidence] </b> <span style='background-color:#7c9bf7'> The hands free law and the accessories could make the open roads a little safer for everybody while allowing people to keep their phones in their car but it is important to remember that no matter how many laws are put into place, people will still continue to abuse them and accadences will still happen. It comes down to the individual and how properly educated they are and whether or not they can mentaly handle a responsibility like driving.          </span> <b style='background-color:#7c9bf7'> [Concluding Statement] </b>"
      ],
      "text/plain": [
       "<IPython.core.display.HTML object>"
      ]
     },
     "metadata": {},
     "output_type": "display_data"
    },
    {
     "name": "stdout",
     "output_type": "stream",
     "text": [
      "------------- text 9 -------------\n"
     ]
    },
    {
     "data": {
      "text/html": [
       "<span style='background-color:#FFFFFF'> Texting and driving\n",
       "\n",
       "Over half of drivers in today's society have this horrible habit of texting and driving. This has to stop immediately, texting and driving puts people's lives at risk. This simple act has caused many fatalities over that last years. Fortunately, the government have put a new law to deal with this problem with our generations problem of texting and driving. </span> <b style='background-color:#FFFFFF'> [None] </b> <span style='background-color:#DB3838'> Over half of drivers in today's society have this horrible habit of texting and driving. This has to stop immediately, texting and driving puts people's lives at risk. This simple act has caused many fatalities over that last years. Fortunately, the government have put a new law to deal with this problem with our generations problem of texting and driving  </span> <b style='background-color:#DB3838'> [Lead] </b> <span style='background-color:#AAE10D'> I strongly feel that texting and driving is dangerous and should be prohibited.\n",
       " </span> <b style='background-color:#AAE10D'> [Position] </b> <span style='background-color:#DF3CEC'> Diving more into detail, texting and driving is hazardous and life threatening. </span> <b style='background-color:#DF3CEC'> [Claim] </b> <span style='background-color:#0DE1A7'> Just imagine you're on the road driving to your friend's house and someone shoots you a text. You look down not even for 5 seconds; then you accidents swerve into the next lane hitting a car. There are so many different scenarios that could go wrong in that situation. Your life is over just because you couldn't wait to text your friend. The consequences that texting and driving comes with just isn't worth it.  </span> <b style='background-color:#0DE1A7'> [Evidence] </b> <span style='background-color:#DF3CEC'> The cost of a life shouldn't be worth a text message, Snapchat or Instagram DM (Direct Message). </span> <b style='background-color:#DF3CEC'> [Claim] </b> <span style='background-color:#0DE1A7'> Texting and driving has taken many lives. In a recent article I read it said \"2017 U.S. Cell Phone and Driving Statistics. In 2012, 3,328 people were killed in distraction-related crashes. About 421,000 people were injured in crashes involving a distracted driver. In 2017, 11% of drivers under age 20 involved in fatal accidents were reported to be distracted at the time of the crash.\" This cannot go on any longer we must do something to stop these numbers from increasing.  </span> <b style='background-color:#0DE1A7'> [Evidence] </b> <span style='background-color:#DF3CEC'> Luckily the government has enforced a brand new law called \"Hands Free\".  </span> <b style='background-color:#DF3CEC'> [Claim] </b> <span style='background-color:#0DE1A7'> This law states Drivers cannot have a phone in their hand or touching any part of their body while talking on their phone while driving. If you don't follow these laws they can fine you fifty to one hundred and fifty dollars. I feel that this action was necessary and justified to better protect our society.  </span> <b style='background-color:#0DE1A7'> [Evidence] </b> <span style='background-color:#7c9bf7'> Over all texting and driving is dangerous, has killed many people and is now on the decline thanks to the new \" Hands Down\" law.      </span> <b style='background-color:#7c9bf7'> [Concluding Statement] </b>"
      ],
      "text/plain": [
       "<IPython.core.display.HTML object>"
      ]
     },
     "metadata": {},
     "output_type": "display_data"
    },
    {
     "name": "stdout",
     "output_type": "stream",
     "text": [
      "------------- text 10 -------------\n"
     ]
    },
    {
     "data": {
      "text/html": [
       "<span style='background-color:#FFFFFF'> Cell Phone Operation While Driving\n",
       "\n",
       "The ability to stay connected to people we know despite distance was originally brought to fruition by the use of letters. This system was found to be rather slow and new pathways were searched for until the invention of the telegram; the people thought it was an invention of the millennia, but after time it too was thought of as slow until the invention of the telephone. Today, a telephone is in the hand or pocket of a majority of the seven billion people on planet earth </span> <b style='background-color:#FFFFFF'> [None] </b> <span style='background-color:#DB3838'> The ability to stay connected to people we know despite distance was originally brought to fruition by the use of letters. This system was found to be rather slow and new pathways were searched for until the invention of the telegram; the people thought it was an invention of the millennia, but after time it too was thought of as slow until the invention of the telephone. Today, a telephone is in the hand or pocket of a majority of the seven billion people on planet earth </span> <b style='background-color:#DB3838'> [Lead] </b> <span style='background-color:#AAE10D'>  However, this device is taken to areas that it is irresponsible and dangerous.  </span> <b style='background-color:#AAE10D'> [Position] </b> <span style='background-color:#DF3CEC'> Within a vehicle capable of traveling upwards of one hundred miles per hour any possible distraction can become fatal spontaneously  </span> <b style='background-color:#DF3CEC'> [Claim] </b> <span style='background-color:#0DE1A7'> The most common of these distractions is a cell phone, with its capabilities to connect us to anyone also in ownership of one, it is easy to pick it up whenever it sounds. In that split second of reaching over for a phone, eyes no longer on the road, it is impossible to no an exact location of anything, making an extremely dangerous action. For the myriad of possibilities that lead to serious injury cell phones should stay in the current state they are in regards of the law, but taken as a more serious offense.  </span> <b style='background-color:#0DE1A7'> [Evidence] </b> <span style='background-color:#FFF942'> Conversely people may believe that laws in present need to change, becoming less restrictive. People have the right to communicate with whom they wish, when or wherever they may choose to do so. </span> <b style='background-color:#FFF942'> [Counterclaim] </b> <span style='background-color:#FFCE26'> The problem becomes apparent that this is a selfish process of thought; people aren't thinking of those they share the road with. Laws currently in place are not to punish people making poor choices, they are an attempt to keep people safe.  </span> <b style='background-color:#FFCE26'> [Rebuttal] </b> <span style='background-color:#7c9bf7'> The creation of telecommunication devices was to keep connected to others without regard to the obsession that would encompass the human mind that was bound to follow. The safety of people is top priority without exemption.  </span> <b style='background-color:#7c9bf7'> [Concluding Statement] </b>"
      ],
      "text/plain": [
       "<IPython.core.display.HTML object>"
      ]
     },
     "metadata": {},
     "output_type": "display_data"
    },
    {
     "name": "stdout",
     "output_type": "stream",
     "text": [
      "------------- text 11 -------------\n"
     ]
    },
    {
     "data": {
      "text/html": [
       "<span style='background-color:#FFFFFF'> Phones & Driving Essay\n",
       "\n",
       "I believe that drivers shouldn't use cell phones while driving because </span> <b style='background-color:#FFFFFF'> [None] </b> <span style='background-color:#AAE10D'> I believe that drivers shouldn't use cell phones while driving </span> <b style='background-color:#AAE10D'> [Position] </b> <span style='background-color:#FFFFFF'> because </span> <b style='background-color:#FFFFFF'> [None] </b> <span style='background-color:#DF3CEC'> it is an attention hazzard. Driving with your phone in hand is not only illegal but very dangerous, but driving without the distraction of a phone can lower the driving fatality rates by a lot </span> <b style='background-color:#DF3CEC'> [Claim] </b> <span style='background-color:#FFFFFF'>  Also, </span> <b style='background-color:#FFFFFF'> [None] </b> <span style='background-color:#DF3CEC'> there are apps and programs on the phones that help drivers go hands free </span> <b style='background-color:#DF3CEC'> [Claim] </b> <span style='background-color:#FFFFFF'>  Last, having that phone as a distraction while driving can cause a significant lowering of you reaction time and attention to the people, objects, and other cars on the road.\n",
       " </span> <b style='background-color:#FFFFFF'> [None] </b> <span style='background-color:#DF3CEC'> First and foremost, Driving without the phone as a distraction will generally lower the fatality rates of distracted driving accidents  </span> <b style='background-color:#DF3CEC'> [Claim] </b> <span style='background-color:#0DE1A7'> Not only will it save you life and everyone else in the vehicle but also you will avoid needless deaths just because you couldn't put the phone down. The lack of self-control is the reason why people get distracted by their phones, especially the younger generation of drivers which leads to possibly fatal driving accidents.  </span> <b style='background-color:#0DE1A7'> [Evidence] </b> <span style='background-color:#0DE1A7'> Furthermore, Driving while distracted can significantly slow down your reactions to people, objects, and other cars on the road, with that you would be more likely to hit pot holes and debris on the road and a higher chance of causing an accident. Also, looking for pedestrians crossing while distracted just makes driving harder than it has to be.  </span> <b style='background-color:#0DE1A7'> [Evidence] </b> <span style='background-color:#DF3CEC'> Finally, There are various things that have been put in place to keep the driver from getting distracted by their phones </span> <b style='background-color:#DF3CEC'> [Claim] </b> <span style='background-color:#0DE1A7'>  For example apps and programs on the phones that keep the driver from checking or responding to their phones. It prevents the driver from getting phone calls, texts, and other notifications while in the car. Another example,\n",
       "\n",
       "the hands-free laws that hold the people that like to drive with phone in hand accountable. Last is personal accountability, keeping yourself in check and safe but not just yourself but the people in the car with you and the other cars.\n",
       " </span> <b style='background-color:#0DE1A7'> [Evidence] </b> <span style='background-color:#7c9bf7'> In conclusion, Drivers shouldn't drive while using a phone because if more people don't drive with their phones the likelihood of them getting into a possibly fatal accident decrease by a lot, there are also ways that you phone can keep itself from being a distraction like the apps and programs on it that block phone calls and texts, but more importantly the driver personally keeping themselves accountable for their actions on the road, and the fact that the more the driver is distracted the slower their reaction time is so they won't be able to pay closer attention to the people, objects, and other cars on the road.         </span> <b style='background-color:#7c9bf7'> [Concluding Statement] </b>"
      ],
      "text/plain": [
       "<IPython.core.display.HTML object>"
      ]
     },
     "metadata": {},
     "output_type": "display_data"
    },
    {
     "name": "stdout",
     "output_type": "stream",
     "text": [
      "------------- text 12 -------------\n"
     ]
    },
    {
     "data": {
      "text/html": [
       "<span style='background-color:#AAE10D'> I think driving while using cell phones should be banned </span> <b style='background-color:#AAE10D'> [Position] </b> <span style='background-color:#FFFFFF'> because of </span> <b style='background-color:#FFFFFF'> [None] </b> <span style='background-color:#DF3CEC'> the many car accidents they are causing </span> <b style='background-color:#DF3CEC'> [Claim] </b> <span style='background-color:#DF3CEC'>  it is causing ones insurance to rise, </span> <b style='background-color:#DF3CEC'> [Claim] </b> <span style='background-color:#FFFFFF'> an </span> <b style='background-color:#FFFFFF'> [None] </b> <span style='background-color:#DF3CEC'>  it is causing concerns to people health issues  </span> <b style='background-color:#DF3CEC'> [Claim] </b> <span style='background-color:#DF3CEC'> Banning cell phone while driving will keep a safe distance from accidents. </span> <b style='background-color:#DF3CEC'> [Claim] </b> <span style='background-color:#0DE1A7'> The question is people more concerned more with their conveniences more than they are with the their safety or safety of others. It is a habit that spreads like STDs. In the long run, it is deadly as well Cell phones are the electronic device. Studies have proved that drivers who use cell phones while driving are more prone to cause accidents. Driving while using a cell phone to drunk driving, in both cases, a person does not have enough focus and mentally capacity to carry out a potentially dangerous activity like driving. If you have this habit, do not forget about it also. Banning cell phone while driving will keep a safe distance from accidents. One cannot focus fully on the road and the other vehicles, if one keeps talking on phone consistently while driving </span> <b style='background-color:#0DE1A7'> [Evidence] </b> <span style='background-color:#DF3CEC'>  Another reason to ban the ususage of cell phones while driving, is to prevent car insurance from rising.    </span> <b style='background-color:#DF3CEC'> [Claim] </b>"
      ],
      "text/plain": [
       "<IPython.core.display.HTML object>"
      ]
     },
     "metadata": {},
     "output_type": "display_data"
    },
    {
     "name": "stdout",
     "output_type": "stream",
     "text": [
      "------------- text 13 -------------\n"
     ]
    },
    {
     "data": {
      "text/html": [
       "<span style='background-color:#DB3838'> Have you ever been behind someone that has been on there phone and didn't know the light was green or when someone almost hit you because they didn't see you because they were looking at their phone?  </span> <b style='background-color:#DB3838'> [Lead] </b> <span style='background-color:#AAE10D'> To start things off, I believe that there is a time and place for being on your phone with behind the wheel </span> <b style='background-color:#AAE10D'> [Position] </b> <span style='background-color:#0DE1A7'>  If you are at a red light and you don't have to type or just have to answer a call or change a song i believe that is an acceptation to the rule of being on your phone. Since we are in the time and age were we have Bluetooth in cars and can connect to our phones so it makes it easier to call and or answer calls. Texting and driving is a must stop because you may think that you will be fine and can multitask but in reality you are putting you and the other drivers in danger. No one's parents should have to attend their child's funeral because they died from texting and driving or because someone else was texting and driving  </span> <b style='background-color:#0DE1A7'> [Evidence] </b> <span style='background-color:#DF3CEC'> There are many reasons not to use a phone while driving but there are also exceptions to this rule now you may not agree with me on this but this to me is the best actions to do because people will not stop with getting on their phones while driving but at least we could limit it to just a few ways that they could get on it while being behind the wheel.  </span> <b style='background-color:#DF3CEC'> [Claim] </b> <span style='background-color:#DF3CEC'> Secondly, with technology still evolving in this day like now they are getting driverless cars that may be the next big step in the world of vehicles  </span> <b style='background-color:#DF3CEC'> [Claim] </b> <span style='background-color:#0DE1A7'> Now with these cars we don't need to worry about the needs of driving cars if there is no steering wheel.\n",
       "\n",
       "Every day about 11 teens die due to texting and driving in the United States but with today's technology they are trying to help stop texting and driving but everything we do doesn't seem to be helping and or stopping teens from texting behind the wheel. Some people still might not agree with me on what I believe is important but if you just give it some years maybe just maybe it may be possible in today's society that no one can get hurt from texting and driving.  </span> <b style='background-color:#0DE1A7'> [Evidence] </b> <span style='background-color:#DF3CEC'> Lastly, although it's a big problem for people to stop texting and driving, it's not a ban in every state in the United States. </span> <b style='background-color:#DF3CEC'> [Claim] </b> <span style='background-color:#0DE1A7'> It's said that only 39 states put a ban for novice drivers because it isn't the biggest deal for some people to be able to text and drive which I know doesn't sound great but it's kind of the truth in a way. I personally have no experience of this because I can't drive but i see people who do drive and do this and it's not like it's every time it mainly at red lights you see them doing it. Now out the 39 states 20 of them ban it for school bus drivers also.\n",
       "\n",
       "It's taken the USA almost 14 years and people still don't listen to no texting and driving.  </span> <b style='background-color:#0DE1A7'> [Evidence] </b> <span style='background-color:#7c9bf7'> To conclude, have you ever been behind some or seen someone texting and driving? I got to tell you some facts that maybe you didn't know about texting and driving and even I learned something new. I also gave some changes that could happen in the near future that could change how we see texting and driving.        </span> <b style='background-color:#7c9bf7'> [Concluding Statement] </b>"
      ],
      "text/plain": [
       "<IPython.core.display.HTML object>"
      ]
     },
     "metadata": {},
     "output_type": "display_data"
    },
    {
     "name": "stdout",
     "output_type": "stream",
     "text": [
      "------------- text 14 -------------\n"
     ]
    },
    {
     "data": {
      "text/html": [
       "<span style='background-color:#FFFFFF'> Phones & Driving\n",
       "\n",
       "Drivers should not be able to use phones while operating a vehicle. </span> <b style='background-color:#FFFFFF'> [None] </b> <span style='background-color:#AAE10D'> Drivers should not be able to use phones while operating a vehicle. </span> <b style='background-color:#AAE10D'> [Position] </b> <span style='background-color:#DF3CEC'> Drivers who used their phone while operating a vehicle are most likely to get into an accident that could be fatal.  </span> <b style='background-color:#DF3CEC'> [Claim] </b> <span style='background-color:#0DE1A7'> According to an article by the Edgar Snyder Firm, 21% of teens that were part of a fatal car accident was due to phones. According to the same article, 35% know the risk but continue using their phones while on the road. This shows that its beyond dangerous and irresponsible of drivers not to be fully aware of their surroundings while driving. Drivers should be able to concentrate without any distractions, because it could be fatal.\n",
       "\n",
       "According to another article, \"Distracted Driving\" by the NHTSA, there has already been about 3,000 phone related car accident deaths since 2017. The article states that teen get too distracted with their phones, which causes their accident. Accidents that can be easily avoided by focusing on the road and not a phone. Drivers should not be able to use their phones at all while driving.\n",
       " </span> <b style='background-color:#0DE1A7'> [Evidence] </b> <span style='background-color:#7c9bf7'> In conclusion, drivers should not able to work a vehicle while using their cell phone. Drivers who uses their phones while operating a vehicle and are likely to have an accident then those who don't.              </span> <b style='background-color:#7c9bf7'> [Concluding Statement] </b>"
      ],
      "text/plain": [
       "<IPython.core.display.HTML object>"
      ]
     },
     "metadata": {},
     "output_type": "display_data"
    },
    {
     "name": "stdout",
     "output_type": "stream",
     "text": [
      "------------- text 15 -------------\n"
     ]
    },
    {
     "data": {
      "text/html": [
       "<span style='background-color:#FFFFFF'> Should Drivers Be Allowed To Use Cell Phones When Driving?\n",
       "\n",
       "Why Driver's should desist from using their Cell Phones while Drivin </span> <b style='background-color:#FFFFFF'> [None] </b> <span style='background-color:#AAE10D'>  Driver's should desist from using their Cell Phones while Driving </span> <b style='background-color:#AAE10D'> [Position] </b> <span style='background-color:#DF3CEC'> Hundreds of research indicate that using the cell phone while driving is a dangerous prospect that leads to loss of lives  </span> <b style='background-color:#DF3CEC'> [Claim] </b> <span style='background-color:#FFFFFF'>  </span> <b style='background-color:#FFFFFF'> [None] </b> <span style='background-color:#0DE1A7'> Statistically, 50 minutes of phone chatter while driving increases the likelihood of a car crash or car accident almost five-fold (Crundall, 2017). Texting has also emerged as an issue but many reported cases indicate talking on the cell phone while driving. In the United States, 20 states have banned the use of hand-held cell phones, while another 48 states have banned text messaging while driving (National Conference of State Legislature [NCSL], 2019). Surprisingly, no state is yet to pass laws banning cell phone use across a multitude of drivers, and this explains the continued rise in cell phone-use induced car and road accidents. The majority of drivers and motorists claims that 'being distracted by mobile phones\" is the leading cause of car and road accidents.  </span> <b style='background-color:#0DE1A7'> [Evidence] </b> <span style='background-color:#DF3CEC'> One major issue concerns the risk of using one hand to navigate bends and respond to potential hazards while talking on the phone. </span> <b style='background-color:#DF3CEC'> [Claim] </b> <span style='background-color:#0DE1A7'> According to Crundall (2017), the majority of roads accidents in Europe occur in steep slopes, bends and corners, with 35% of them involving the driver communicating on his/her cell phone. </span> <b style='background-color:#0DE1A7'> [Evidence] </b> <span style='background-color:#DF3CEC'> Another issue involves the act of conversation which leads to a loss of concentration - cognitive processing - that ultimately leads to an accident  </span> <b style='background-color:#DF3CEC'> [Claim] </b> <span style='background-color:#FFFFFF'> NCSL, 2019). </span> <b style='background-color:#FFFFFF'> [None] </b> <span style='background-color:#0DE1A7'> Scientists from Carnegie Mellon University conducted a simulation study and discovered that the human spatial brain activity is affected when performing dual-task, leading to loss of concertation and hence accidents (Crundall, 2017). Processing of auditory messages becomes a problem when driving and communicating on a cell phone, </span> <b style='background-color:#0DE1A7'> [Evidence] </b> <span style='background-color:#FFFFFF'> explaining why </span> <b style='background-color:#FFFFFF'> [None] </b> <span style='background-color:#7c9bf7'> a driver, under no circumstances, is required to use his/her cell phone while driving.\n",
       " </span> <b style='background-color:#7c9bf7'> [Concluding Statement] </b>"
      ],
      "text/plain": [
       "<IPython.core.display.HTML object>"
      ]
     },
     "metadata": {},
     "output_type": "display_data"
    },
    {
     "name": "stdout",
     "output_type": "stream",
     "text": [
      "------------- text 16 -------------\n"
     ]
    },
    {
     "data": {
      "text/html": [
       "<span style='background-color:#DB3838'> I am typing about why drivers should not use phones while driving. This is my opinion and I will be backing it up. It is also a law all over the world. Not texting or being on your phone can save lives if you are driving.  </span> <b style='background-color:#DB3838'> [Lead] </b> <span style='background-color:#AAE10D'> I say don't think it is smart to be on your phone while driving </span> <b style='background-color:#AAE10D'> [Position] </b> <span style='background-color:#FFFFFF'> because </span> <b style='background-color:#FFFFFF'> [None] </b> <span style='background-color:#DF3CEC'> it can cause accidents  </span> <b style='background-color:#DF3CEC'> [Claim] </b> <span style='background-color:#0DE1A7'> There are 1.6 million car crashes a year because people are driving with their phones out. If more people put down their phones then they can know what's going on around them to slow the death rate down. There are 10 percent of teens that die in car crashes because they are on their phones. they are distracted by the internet or people texting them more then there life.  </span> <b style='background-color:#0DE1A7'> [Evidence] </b> <span style='background-color:#DF3CEC'> If you need a phone for a gps because you don't know where to go then you can use the audio </span> <b style='background-color:#DF3CEC'> [Claim] </b> <span style='background-color:#0DE1A7'>  It will be safer that way because you wont need to keep looking down at your phone or have the passenger help you if you are driving with someone else </span> <b style='background-color:#0DE1A7'> [Evidence] </b> <span style='background-color:#7c9bf7'>  Your life means more then a text that can end it all for you or someone else.     </span> <b style='background-color:#7c9bf7'> [Concluding Statement] </b>"
      ],
      "text/plain": [
       "<IPython.core.display.HTML object>"
      ]
     },
     "metadata": {},
     "output_type": "display_data"
    },
    {
     "name": "stdout",
     "output_type": "stream",
     "text": [
      "------------- text 17 -------------\n"
     ]
    },
    {
     "data": {
      "text/html": [
       "<span style='background-color:#DB3838'> BOOM!! You're on I-75 on the ground bleeding out watching everyone surrounding you, calling 911.\n",
       "\n",
       "At this point you're thinking to yourself, \"why the freak did this happen?\" A couple hours later you found out an adult was on his phone texting and driving before the wreck happened, which is the most selfish thing to do while driving. Putting your life and other's lives in danger just so you can send a stupid text to your girl/boyfriend is completely selfish  </span> <b style='background-color:#DB3838'> [Lead] </b> <span style='background-color:#AAE10D'> I firmly believe that we need stricter phone laws to in jail people.\n",
       " </span> <b style='background-color:#AAE10D'> [Position] </b> <span style='background-color:#DF3CEC'> Texting while driving is in the top five causes for deaths, and yet many states do not have laws against it.  </span> <b style='background-color:#DF3CEC'> [Claim] </b> <span style='background-color:#0DE1A7'> We need to stand together united and encourage our Congressmen to pass laws in order to combat this distraction.\n",
       "\n",
       "and be mature and adult-like and discuss ways to not further endanger each other.\n",
       " </span> <b style='background-color:#0DE1A7'> [Evidence] </b> <span style='background-color:#FFFFFF'>  </span> <b style='background-color:#FFFFFF'> [None] </b> <span style='background-color:#DF3CEC'> Cellphones are brain washing us to think we always need it, but I know we can break free from this horrible device with a little hard work we can make a change. </span> <b style='background-color:#DF3CEC'> [Claim] </b> <span style='background-color:#0DE1A7'> What's more important to you: a notification or somebody's life? Our congressmen need to listen to our voices and make bills an laws and reforms to make the roads safer for everyone, we as people need to come together an decide what to do to make things happen, we don't know how much more accidents have to happen in order to push it into effect.  </span> <b style='background-color:#0DE1A7'> [Evidence] </b> <span style='background-color:#DF3CEC'> We dedicate our selves to our phones,we cant go 10 minuets without trying to see if we got a notification  </span> <b style='background-color:#DF3CEC'> [Claim] </b> <span style='background-color:#0DE1A7'> the time we spend on our phones is tremendous its up to 6 hours a day! Not including the time spent in your bed! If there were something to happen to all of our phone we would go insane </span> <b style='background-color:#0DE1A7'> [Evidence] </b> <span style='background-color:#7c9bf7'> if we would just make stricker laws for phone an driving the people would stop because of the consequences.       </span> <b style='background-color:#7c9bf7'> [Concluding Statement] </b>"
      ],
      "text/plain": [
       "<IPython.core.display.HTML object>"
      ]
     },
     "metadata": {},
     "output_type": "display_data"
    },
    {
     "name": "stdout",
     "output_type": "stream",
     "text": [
      "------------- text 18 -------------\n"
     ]
    },
    {
     "data": {
      "text/html": [
       "<span style='background-color:#DB3838'> Although cell phones have been around for quite some time, they have become a key part of our lives. We use cell phones for anything now such as: texting, social media, calls, schedule planning, etc. Unfortunately, we are choosing to use them at the wrong time and wrong place, while we are driving. As time is going by, we are getting more and more into the phones that we don't care about our personal safety or others safety.  </span> <b style='background-color:#DB3838'> [Lead] </b> <span style='background-color:#AAE10D'> Using cellphones while driving can be extremely dangerous to the drivers and others around them for many reasons.  </span> <b style='background-color:#AAE10D'> [Position] </b> <span style='background-color:#FFFFFF'>  </span> <b style='background-color:#FFFFFF'> [None] </b> <span style='background-color:#DF3CEC'> When we are driving it can be exceedingly difficult to focus on the surroundings around us and easy to forget that you are sharing the road with other people and not just yourself. </span> <b style='background-color:#DF3CEC'> [Claim] </b> <span style='background-color:#0DE1A7'> Other drivers take notice when drivers are on their phones whether they want to or not because of the danger they can cause. Erratic driving is something that we all get worked up about because it can make us late or can be inconvenient to us. Drivers also tailgate you because they can't keep the constant speed because they are on their phones. Sometimes pedestrians are killed because people are on their phones and don't pay attention to their surroundings. We may not intend to end someone's life, but we made the poor decision to drive and text so now we must live with that for the rest of our life.  </span> <b style='background-color:#0DE1A7'> [Evidence] </b> <span style='background-color:#DF3CEC'> Everyday people die in car accidents because we use cell phones while driving. According to my research the number one leading car accidents are distracted drivers.  </span> <b style='background-color:#DF3CEC'> [Claim] </b> <span style='background-color:#0DE1A7'> Research shows that being on your phone while driving can cause the risk 4x more of a horrible crash. Because we use cell phones more often now, we use our phones knowing the danger it could cause because we want to keep in touch with people. They also think that the hand-free is a safe thing to use because they are driving with two hands instead of holding the phone.  </span> <b style='background-color:#0DE1A7'> [Evidence] </b> <span style='background-color:#FFFFFF'>  </span> <b style='background-color:#FFFFFF'> [None] </b> <span style='background-color:#0DE1A7'> Driving with cell phones should be banned because of the many car accidents that they cause, it causes someone's insurance to rise, and it causes concerns to people's health. I think people are more concerned with their conversation than with their own safety and the safety of others. Research has proven that people who use cell phones while driving are more prone to be/cause an accident. People who use cell phones while driving does not have enough focus and mentally capacity to carry out a potentially dangerous activity like driving. It also can be stressful and dangerous while driving because it can cause emotional reactions that could lead to tragedy.  </span> <b style='background-color:#0DE1A7'> [Evidence] </b> <span style='background-color:#7c9bf7'> In conclusion, people should stop texting and driving because it can cause serious damage. Not only that it can take someone's life. Texting while driving is a serious problem today because we are on our phones 24/7 and we don't usually put it down. We are distracted by our phones to the point where we shouldn't be able to drive with a phone in the car because of how long we are on our phones. Driving and texting should be banned before we lose more people.       </span> <b style='background-color:#7c9bf7'> [Concluding Statement] </b>"
      ],
      "text/plain": [
       "<IPython.core.display.HTML object>"
      ]
     },
     "metadata": {},
     "output_type": "display_data"
    },
    {
     "name": "stdout",
     "output_type": "stream",
     "text": [
      "------------- text 19 -------------\n"
     ]
    },
    {
     "data": {
      "text/html": [
       "<span style='background-color:#FFFFFF'> Operating a motor vehicle while on your cell phone\n",
       "\n",
       "Being on your device and driving could be an overly dangerous choice in life. Many people around the world are injured by this situation every day. </span> <b style='background-color:#FFFFFF'> [None] </b> <span style='background-color:#DB3838'> Being on your device and driving could be an overly dangerous choice in life. Many people around the world are injured by this situation every day.  </span> <b style='background-color:#DB3838'> [Lead] </b> <span style='background-color:#DF3CEC'> It could lead to accidents and altercations. </span> <b style='background-color:#DF3CEC'> [Claim] </b> <span style='background-color:#FFFFFF'>  </span> <b style='background-color:#FFFFFF'> [None] </b> <span style='background-color:#DF3CEC'> In addition it would even cost you your licences. </span> <b style='background-color:#DF3CEC'> [Claim] </b> <span style='background-color:#DF3CEC'> The most detrimental outcome is death.  </span> <b style='background-color:#DF3CEC'> [Claim] </b> <span style='background-color:#FFFFFF'> here are far more outcomes to operating a motor vehicle while being on a cell phon </span> <b style='background-color:#FFFFFF'> [None] </b> <span style='background-color:#AAE10D'> . Drivers should not be able to use cell phones in any capacity while operating a motor vehicle.  </span> <b style='background-color:#AAE10D'> [Position] </b> <span style='background-color:#DF3CEC'> One leading cause to motor vehicle accidents is being on your cell phone.  </span> <b style='background-color:#DF3CEC'> [Claim] </b> <span style='background-color:#0DE1A7'> It could lead to accidents and altercations. Yourself and the passengers are more at risk to bodily injuries and harm. These bodily injuries and harm can range anywhere from mild to critical condition. In an motor vehicle accident there is more than one involved. There is another person or group of people that could have the exact same conditions than the driver on the cell phone. In an example of an altercations you could be more prone to damaging an building or such. An direct result of an event in place; a fee or very large payment would need to be made </span> <b style='background-color:#0DE1A7'> [Evidence] </b> <span style='background-color:#FFFFFF'>  </span> <b style='background-color:#FFFFFF'> [None] </b> <span style='background-color:#FFFFFF'>  Secondl </span> <b style='background-color:#FFFFFF'> [None] </b> <span style='background-color:#DF3CEC'>  another consequence could be having your license taken.\n",
       " </span> <b style='background-color:#DF3CEC'> [Claim] </b> <span style='background-color:#0DE1A7'> When you have violated a driving law there will always be an consequence. Rather it being jail time, injuries, or more. Your license will be subjected to suspension. A suspended license defines as you are not able to drive until they are reinstated. The process can take anywhere from a short period of time or even a long period of time. The average time for a suspended license is sixty days.\n",
       "\n",
       "For some people if it is not your first offense they may even take your license for good.  </span> <b style='background-color:#0DE1A7'> [Evidence] </b> <span style='background-color:#FFFFFF'> urthermore </span> <b style='background-color:#FFFFFF'> [None] </b> <span style='background-color:#DF3CEC'> there is another cause to driving while being on your cell phone.\n",
       "\n",
       "After all the consequences the most detrimental is death. </span> <b style='background-color:#DF3CEC'> [Claim] </b> <span style='background-color:#0DE1A7'> Many people happen to pass away due to a motor vehicle car accident. Not all people pass away at the crash site, some has a condition mild to critical that causes them to die. Around 1.6\n",
       "\n",
       "million people a year die in motor vehicle accidents. Out of the 1.6 million, 1 out of 4 pass away because drivers are on their cell phone. That includes the driver and the unlucky few that may have been in the car, around, or in another car. Passing away from a motor vehicle accident can be prevented by simply waiting until you have reached a stopping point or your at your destination to pick up your phone.  </span> <b style='background-color:#0DE1A7'> [Evidence] </b> <span style='background-color:#7c9bf7'> In conclusion, drivers should not be able to use cell phones in any capacity while operating a motor vehicle. It can cause accidents and altercations, suspension of license, and even death. Prevention is simply not being able to use your phone while operating a motor vehicle. Take a moment to focus on the road.\n",
       "\n",
       "You are able to check your phone when you reach a red light or a complete stop. This is one step closer to its prevention. It will save many lives even your own.    </span> <b style='background-color:#7c9bf7'> [Concluding Statement] </b>"
      ],
      "text/plain": [
       "<IPython.core.display.HTML object>"
      ]
     },
     "metadata": {},
     "output_type": "display_data"
    },
    {
     "name": "stdout",
     "output_type": "stream",
     "text": [
      "------------- text 20 -------------\n"
     ]
    },
    {
     "data": {
      "text/html": [
       "<span style='background-color:#FFFFFF'> Phone & Driving\n",
       "\n",
       "According to the National Safety Council reports cell phone use while driving leads to 1.6 million crashes each year. 390,000 injuries occurred caused by cell phone use and driving. Nearly 6,000 pedestrians are killed because of this as well. </span> <b style='background-color:#FFFFFF'> [None] </b> <span style='background-color:#DB3838'> According to the National Safety Council reports cell phone use while driving leads to 1.6 million crashes each year. 390,000 injuries occurred caused by cell phone use and driving. Nearly 6,000 pedestrians are killed because of this as well. </span> <b style='background-color:#DB3838'> [Lead] </b> <span style='background-color:#AAE10D'> Phones should not be used while driving  </span> <b style='background-color:#AAE10D'> [Position] </b> <span style='background-color:#FFFFFF'> ot only because </span> <b style='background-color:#FFFFFF'> [None] </b> <span style='background-color:#DF3CEC'> the dangers that occur </span> <b style='background-color:#DF3CEC'> [Claim] </b> <span style='background-color:#FFFFFF'> but also because </span> <b style='background-color:#FFFFFF'> [None] </b> <span style='background-color:#DF3CEC'> the people that are harmed or killed </span> <b style='background-color:#DF3CEC'> [Claim] </b> <span style='background-color:#FFFFFF'>  and </span> <b style='background-color:#FFFFFF'> [None] </b> <span style='background-color:#DF3CEC'> it could've been prevented.\n",
       " </span> <b style='background-color:#DF3CEC'> [Claim] </b> <span style='background-color:#0DE1A7'> It's rare that the driver ever gets hurt. It's always the person they hit or they've caused a lot of damage  </span> <b style='background-color:#0DE1A7'> [Evidence] </b> <span style='background-color:#DF3CEC'> Cell phones are a huge distraction while driving a vehicle </span> <b style='background-color:#DF3CEC'> [Claim] </b> <span style='background-color:#0DE1A7'>  Your not paying attention to the road in front of you because something has caught your eye below the dashboard. Something that could've waited until you arrived at your destination. Sometimes you have to ask yourself is it really that important?  </span> <b style='background-color:#0DE1A7'> [Evidence] </b> <span style='background-color:#DF3CEC'> 2018 an estimate of 1.5 million car accidents in the U.S. Cell phone use while driving resulted in 3,000 to 6,000 people getting killed or injured each year </span> <b style='background-color:#DF3CEC'> [Claim] </b> <span style='background-color:#0DE1A7'>  All because someone couldn't leave their phone leave for awhile. Now they have to deal with people's lawyers and insurance company. Just everything that could've been avoided. Creating unnecessary problems for yourself.  </span> <b style='background-color:#0DE1A7'> [Evidence] </b> <span style='background-color:#DF3CEC'> May 29, 2019 a new law was created. It prohibits people driving to not use their cell phones </span> <b style='background-color:#DF3CEC'> [Claim] </b> <span style='background-color:#0DE1A7'>  If a person was to disregard this law. The result would be paying a $50 fine for first offense. That's one way to avoid the dangers and consequences of texting and driving. Another one is to make a mental note for yourself, that the text can wait. The message doesn't have to be answered right way. If it's that important pull over.  </span> <b style='background-color:#0DE1A7'> [Evidence] </b> <span style='background-color:#7c9bf7'> You shouldn't text and drive or use your cellular device while behind the wheel. Doing so will result in someone being injured or killed, paying a $50 ticket, or even worse. Don't use your phone while di=riving, it can wait.    </span> <b style='background-color:#7c9bf7'> [Concluding Statement] </b>"
      ],
      "text/plain": [
       "<IPython.core.display.HTML object>"
      ]
     },
     "metadata": {},
     "output_type": "display_data"
    },
    {
     "name": "stdout",
     "output_type": "stream",
     "text": [
      "------------- text 21 -------------\n"
     ]
    },
    {
     "data": {
      "text/html": [
       "<span style='background-color:#DB3838'> People are debating whether if drivers should or should not use cell phones while operating a vehicle. Some people think that using a cell phone while operating a vehicle should be allowed because they try multi-tasking and have important calls while some are addicted and can't stay off their phone. Other people says that you shouldn't be able to be on your cell phone while operating a vehicle because the cell phone can cause accidents while driving.  </span> <b style='background-color:#DB3838'> [Lead] </b> <span style='background-color:#AAE10D'> I also think that you shouldn't use your phone while operating a vehicle </span> <b style='background-color:#AAE10D'> [Position] </b> <span style='background-color:#FFFFFF'>  </span> <b style='background-color:#FFFFFF'> [None] </b> <span style='background-color:#DF3CEC'> because it can cause vehicle collisions  </span> <b style='background-color:#DF3CEC'> [Claim] </b> <span style='background-color:#DF3CEC'> slow reaction time, </span> <b style='background-color:#DF3CEC'> [Claim] </b> <span style='background-color:#DF3CEC'> and fatal injuries.  </span> <b style='background-color:#DF3CEC'> [Claim] </b> <span style='background-color:#FFFFFF'> herefore, driving can cause many accidents that can be fatal to the driver and passengers if there is any and cell phones should only be used when not operating a vehicle. </span> <b style='background-color:#FFFFFF'> [None] </b> <span style='background-color:#DF3CEC'> \n",
       "The first reason why the use of cell phones shouldn't be allowed while operating a vehicle because there are high chances of vehicle collisions happening. </span> <b style='background-color:#DF3CEC'> [Claim] </b> <span style='background-color:#0DE1A7'>  Most vehicle collisions happen when the driver is texting or under the influence of alcohol. When people who drives while texting spend more time looking at their phone than the road causing poor car-following ability and lateral lane control. While under the influence of alcohol it can cause you to lose concentration and it can also hinder your ability to make rational decisions.\n",
       "\n",
       "As stated before, these are some examples of what can cause vehicle collisions.  </span> <b style='background-color:#0DE1A7'> [Evidence] </b> <span style='background-color:#FFFFFF'>  </span> <b style='background-color:#FFFFFF'> [None] </b> <span style='background-color:#DF3CEC'> The second reason why you shouldn't operate a cell phone while driving because of slow reaction time.  </span> <b style='background-color:#DF3CEC'> [Claim] </b> <span style='background-color:#0DE1A7'> Reaction time is the measure of how quickly an organism can respond to a particular stimulus. When your spending time at your phone and finally look up to see you're about to get into an accident it would already be too late. Reaction times with no activity were between one and two seconds. Reaction times while using a cellphone were at least three to four seconds. On top of that, drivers were more likely to miss the flashing light altogether when using a cellphone. Cellphones effects the nervous system when a person is driving.  </span> <b style='background-color:#0DE1A7'> [Evidence] </b> <span style='background-color:#DF3CEC'> The last reason you shouldn't drive while using a cellphone because it can cause fatal injuries that might have long-term or short-term affects.  </span> <b style='background-color:#DF3CEC'> [Claim] </b> <span style='background-color:#0DE1A7'> The affects can be physical, emotional, or psychological. One of the most common physical effect is whiplash. Whiplash is caused by a sudden movement of the neck. Whiplash is usually caused by rear end automobile collisions. One emotional effect can be anxiety which can cause difficulties in certain situations involving driving. The last effect is psychological which can cause PTSD. Most car accidents are the results of PTSD but can also be caused by any traumatic experience. PTSD can affect a person's ability to function normally.\n",
       "\n",
       "People who goes through this will sometimes show a wide range of symptoms including anger, fear, shock, nervousness and feeling of mistrust or guilt.\n",
       " </span> <b style='background-color:#0DE1A7'> [Evidence] </b> <span style='background-color:#FFFFFF'>  </span> <b style='background-color:#FFFFFF'> [None] </b> <span style='background-color:#7c9bf7'> In conclusion, people shouldn't use cellphones while operating a vehicle. IF they do it can cause life changing accidents and other serious problems in life. Also, it can hurt some people financially causing them to pay for these uneventful occurrences. Some things people can do to prevent is to turn their phone off or put it on \"Do Not Disturb\" mode to prevent any accidents. They can also deal with that they have to do on the phone before starting the car and driving. One more solution is that they can have the passenger relay a message for you using your phone, so you won't be distracted or tempted to pick up the phone.       </span> <b style='background-color:#7c9bf7'> [Concluding Statement] </b>"
      ],
      "text/plain": [
       "<IPython.core.display.HTML object>"
      ]
     },
     "metadata": {},
     "output_type": "display_data"
    }
   ],
   "source": [
    "for i in range(22):\n",
    "    print(f'------------- text {i} -------------')\n",
    "    display(HTML(df_html.loc[i,'html']))"
   ]
  },
  {
   "cell_type": "code",
   "execution_count": 45,
   "id": "87aac3c1",
   "metadata": {
    "ExecuteTime": {
     "end_time": "2022-01-19T16:59:22.156487Z",
     "start_time": "2022-01-19T16:59:22.152217Z"
    }
   },
   "outputs": [
    {
     "data": {
      "text/plain": [
       "(244, 9)"
      ]
     },
     "execution_count": 45,
     "metadata": {},
     "output_type": "execute_result"
    }
   ],
   "source": [
    "df_full.shape"
   ]
  },
  {
   "cell_type": "code",
   "execution_count": 46,
   "id": "0e48e4cb",
   "metadata": {
    "ExecuteTime": {
     "end_time": "2022-01-19T16:59:22.173724Z",
     "start_time": "2022-01-19T16:59:22.157983Z"
    }
   },
   "outputs": [
    {
     "data": {
      "text/html": [
       "<div>\n",
       "<style scoped>\n",
       "    .dataframe tbody tr th:only-of-type {\n",
       "        vertical-align: middle;\n",
       "    }\n",
       "\n",
       "    .dataframe tbody tr th {\n",
       "        vertical-align: top;\n",
       "    }\n",
       "\n",
       "    .dataframe thead th {\n",
       "        text-align: right;\n",
       "    }\n",
       "</style>\n",
       "<table border=\"1\" class=\"dataframe\">\n",
       "  <thead>\n",
       "    <tr style=\"text-align: right;\">\n",
       "      <th></th>\n",
       "      <th>id</th>\n",
       "      <th>discourse_id</th>\n",
       "      <th>discourse_start</th>\n",
       "      <th>discourse_end</th>\n",
       "      <th>discourse_text</th>\n",
       "      <th>discourse_type</th>\n",
       "      <th>discourse_type_num</th>\n",
       "      <th>predictionstring</th>\n",
       "      <th>html</th>\n",
       "    </tr>\n",
       "  </thead>\n",
       "  <tbody>\n",
       "    <tr>\n",
       "      <th>115</th>\n",
       "      <td>019328A0D7A3</td>\n",
       "      <td>1.622467e+12</td>\n",
       "      <td>20.0</td>\n",
       "      <td>370.0</td>\n",
       "      <td>Look around you! All you see is people from al...</td>\n",
       "      <td>Lead</td>\n",
       "      <td>Lead 1</td>\n",
       "      <td>3 4 5 6 7 8 9 10 11 12 13 14 15 16 17 18 19 20...</td>\n",
       "      <td>&lt;span style='background-color:#DB3838'&gt; Look a...</td>\n",
       "    </tr>\n",
       "    <tr>\n",
       "      <th>116</th>\n",
       "      <td>019328A0D7A3</td>\n",
       "      <td>1.622467e+12</td>\n",
       "      <td>371.0</td>\n",
       "      <td>476.0</td>\n",
       "      <td>Phones can be such a distraction to everyone a...</td>\n",
       "      <td>Claim</td>\n",
       "      <td>Claim 1</td>\n",
       "      <td>65 66 67 68 69 70 71 72 73 74 75 76 77 78 79 8...</td>\n",
       "      <td>&lt;span style='background-color:#DF3CEC'&gt; Phones...</td>\n",
       "    </tr>\n",
       "    <tr>\n",
       "      <th>117</th>\n",
       "      <td>019328A0D7A3</td>\n",
       "      <td>1.622467e+12</td>\n",
       "      <td>477.0</td>\n",
       "      <td>1321.0</td>\n",
       "      <td>A major cause of deaths in the US is motor veh...</td>\n",
       "      <td>Evidence</td>\n",
       "      <td>Evidence 1</td>\n",
       "      <td>83 84 85 86 87 88 89 90 91 92 93 94 95 96 97 9...</td>\n",
       "      <td>&lt;span style='background-color:#0DE1A7'&gt; A majo...</td>\n",
       "    </tr>\n",
       "    <tr>\n",
       "      <th>118</th>\n",
       "      <td>019328A0D7A3</td>\n",
       "      <td>1.622467e+12</td>\n",
       "      <td>1322.0</td>\n",
       "      <td>1435.0</td>\n",
       "      <td>Many people may say that teens are the ones dr...</td>\n",
       "      <td>Counterclaim</td>\n",
       "      <td>Counterclaim 1</td>\n",
       "      <td>229 230 231 232 233 234 235 236 237 238 239 24...</td>\n",
       "      <td>&lt;span style='background-color:#FFF942'&gt; Many p...</td>\n",
       "    </tr>\n",
       "    <tr>\n",
       "      <th>119</th>\n",
       "      <td>019328A0D7A3</td>\n",
       "      <td>1.622467e+12</td>\n",
       "      <td>1436.0</td>\n",
       "      <td>1498.0</td>\n",
       "      <td>In reality, everyone from every age is irrespo...</td>\n",
       "      <td>Rebuttal</td>\n",
       "      <td>Rebuttal 1</td>\n",
       "      <td>248 249 250 251 252 253 254 255 256</td>\n",
       "      <td>&lt;span style='background-color:#FFCE26'&gt; In rea...</td>\n",
       "    </tr>\n",
       "  </tbody>\n",
       "</table>\n",
       "</div>"
      ],
      "text/plain": [
       "               id  discourse_id  discourse_start  discourse_end  \\\n",
       "115  019328A0D7A3  1.622467e+12             20.0          370.0   \n",
       "116  019328A0D7A3  1.622467e+12            371.0          476.0   \n",
       "117  019328A0D7A3  1.622467e+12            477.0         1321.0   \n",
       "118  019328A0D7A3  1.622467e+12           1322.0         1435.0   \n",
       "119  019328A0D7A3  1.622467e+12           1436.0         1498.0   \n",
       "\n",
       "                                        discourse_text discourse_type  \\\n",
       "115  Look around you! All you see is people from al...           Lead   \n",
       "116  Phones can be such a distraction to everyone a...          Claim   \n",
       "117  A major cause of deaths in the US is motor veh...       Evidence   \n",
       "118  Many people may say that teens are the ones dr...   Counterclaim   \n",
       "119  In reality, everyone from every age is irrespo...       Rebuttal   \n",
       "\n",
       "    discourse_type_num                                   predictionstring  \\\n",
       "115             Lead 1  3 4 5 6 7 8 9 10 11 12 13 14 15 16 17 18 19 20...   \n",
       "116            Claim 1  65 66 67 68 69 70 71 72 73 74 75 76 77 78 79 8...   \n",
       "117         Evidence 1  83 84 85 86 87 88 89 90 91 92 93 94 95 96 97 9...   \n",
       "118     Counterclaim 1  229 230 231 232 233 234 235 236 237 238 239 24...   \n",
       "119         Rebuttal 1                248 249 250 251 252 253 254 255 256   \n",
       "\n",
       "                                                  html  \n",
       "115  <span style='background-color:#DB3838'> Look a...  \n",
       "116  <span style='background-color:#DF3CEC'> Phones...  \n",
       "117  <span style='background-color:#0DE1A7'> A majo...  \n",
       "118  <span style='background-color:#FFF942'> Many p...  \n",
       "119  <span style='background-color:#FFCE26'> In rea...  "
      ]
     },
     "execution_count": 46,
     "metadata": {},
     "output_type": "execute_result"
    }
   ],
   "source": [
    "df_full.head()"
   ]
  },
  {
   "cell_type": "code",
   "execution_count": null,
   "id": "6b49f6a7",
   "metadata": {},
   "outputs": [],
   "source": []
  }
 ],
 "metadata": {
  "kernelspec": {
   "display_name": "Python 3 (ipykernel)",
   "language": "python",
   "name": "python3"
  },
  "language_info": {
   "codemirror_mode": {
    "name": "ipython",
    "version": 3
   },
   "file_extension": ".py",
   "mimetype": "text/x-python",
   "name": "python",
   "nbconvert_exporter": "python",
   "pygments_lexer": "ipython3",
   "version": "3.8.12"
  },
  "toc": {
   "base_numbering": 1,
   "nav_menu": {},
   "number_sections": true,
   "sideBar": true,
   "skip_h1_title": false,
   "title_cell": "Table of Contents",
   "title_sidebar": "Contents",
   "toc_cell": false,
   "toc_position": {},
   "toc_section_display": true,
   "toc_window_display": false
  }
 },
 "nbformat": 4,
 "nbformat_minor": 5
}
