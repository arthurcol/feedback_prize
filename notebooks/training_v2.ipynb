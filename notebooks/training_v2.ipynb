{
 "cells": [
  {
   "cell_type": "markdown",
   "id": "5a81d29d",
   "metadata": {
    "id": "5a81d29d",
    "toc": true
   },
   "source": [
    "<h1>Table of Contents<span class=\"tocSkip\"></span></h1>\n",
    "<div class=\"toc\"><ul class=\"toc-item\"><li><span><a href=\"#Imports-&amp;-Variables\" data-toc-modified-id=\"Imports-&amp;-Variables-1\"><span class=\"toc-item-num\">1&nbsp;&nbsp;</span>Imports &amp; Variables</a></span><ul class=\"toc-item\"><li><span><a href=\"#Colab\" data-toc-modified-id=\"Colab-1.1\"><span class=\"toc-item-num\">1.1&nbsp;&nbsp;</span>Colab</a></span></li><li><span><a href=\"#Imports\" data-toc-modified-id=\"Imports-1.2\"><span class=\"toc-item-num\">1.2&nbsp;&nbsp;</span>Imports</a></span></li><li><span><a href=\"#Variables\" data-toc-modified-id=\"Variables-1.3\"><span class=\"toc-item-num\">1.3&nbsp;&nbsp;</span>Variables</a></span></li></ul></li><li><span><a href=\"#Load-data\" data-toc-modified-id=\"Load-data-2\"><span class=\"toc-item-num\">2&nbsp;&nbsp;</span>Load data</a></span></li><li><span><a href=\"#Modeling\" data-toc-modified-id=\"Modeling-3\"><span class=\"toc-item-num\">3&nbsp;&nbsp;</span>Modeling</a></span><ul class=\"toc-item\"><li><span><a href=\"#Model-architecture\" data-toc-modified-id=\"Model-architecture-3.1\"><span class=\"toc-item-num\">3.1&nbsp;&nbsp;</span>Model architecture</a></span></li><li><span><a href=\"#Loss,-Optimizer,-Metrics\" data-toc-modified-id=\"Loss,-Optimizer,-Metrics-3.2\"><span class=\"toc-item-num\">3.2&nbsp;&nbsp;</span>Loss, Optimizer, Metrics</a></span></li><li><span><a href=\"#Model-training\" data-toc-modified-id=\"Model-training-3.3\"><span class=\"toc-item-num\">3.3&nbsp;&nbsp;</span>Model training</a></span></li><li><span><a href=\"#Model-evaluation\" data-toc-modified-id=\"Model-evaluation-3.4\"><span class=\"toc-item-num\">3.4&nbsp;&nbsp;</span>Model evaluation</a></span></li><li><span><a href=\"#Model-evaluation\" data-toc-modified-id=\"Model-evaluation-3.5\"><span class=\"toc-item-num\">3.5&nbsp;&nbsp;</span>Model evaluation</a></span><ul class=\"toc-item\"><li><span><a href=\"#Get-predictions\" data-toc-modified-id=\"Get-predictions-3.5.1\"><span class=\"toc-item-num\">3.5.1&nbsp;&nbsp;</span>Get predictions</a></span></li><li><span><a href=\"#Evaluate-test-split\" data-toc-modified-id=\"Evaluate-test-split-3.5.2\"><span class=\"toc-item-num\">3.5.2&nbsp;&nbsp;</span>Evaluate test split</a></span><ul class=\"toc-item\"><li><span><a href=\"#F1-Report\" data-toc-modified-id=\"F1-Report-3.5.2.1\"><span class=\"toc-item-num\">3.5.2.1&nbsp;&nbsp;</span>F1 Report</a></span></li><li><span><a href=\"#Confusion-Matrix\" data-toc-modified-id=\"Confusion-Matrix-3.5.2.2\"><span class=\"toc-item-num\">3.5.2.2&nbsp;&nbsp;</span>Confusion Matrix</a></span></li></ul></li></ul></li></ul></li></ul></div>"
   ]
  },
  {
   "cell_type": "markdown",
   "id": "6e66f60a",
   "metadata": {
    "id": "6e66f60a"
   },
   "source": [
    "This notebook is used for the training of our model and its evaluation on the test split. "
   ]
  },
  {
   "cell_type": "markdown",
   "id": "7af21fa2",
   "metadata": {
    "id": "7af21fa2"
   },
   "source": [
    "# Imports & Variables"
   ]
  },
  {
   "cell_type": "markdown",
   "id": "aaafcdc1",
   "metadata": {
    "id": "aaafcdc1"
   },
   "source": [
    "## Colab"
   ]
  },
  {
   "cell_type": "code",
   "execution_count": 1,
   "id": "9eb34847",
   "metadata": {
    "ExecuteTime": {
     "end_time": "2022-02-09T15:19:54.049278Z",
     "start_time": "2022-02-09T15:19:54.041429Z"
    },
    "colab": {
     "base_uri": "https://localhost:8080/"
    },
    "id": "9eb34847",
    "outputId": "98e6dcb8-22ba-454f-c5e4-5b82a5226033"
   },
   "outputs": [
    {
     "name": "stdout",
     "output_type": "stream",
     "text": [
      "Running the notebook on \u001b[34myour machine\u001b[0m\n"
     ]
    }
   ],
   "source": [
    "from termcolor import colored\n",
    "\n",
    "try:\n",
    "    from google.colab import drive\n",
    "    COLAB = True\n",
    "    print('Running the notebook on',colored('Colab','yellow'))\n",
    "except:\n",
    "    COLAB = False\n",
    "    print('Running the notebook on',colored('your machine','blue'))"
   ]
  },
  {
   "cell_type": "markdown",
   "id": "6443d60f",
   "metadata": {
    "id": "6443d60f"
   },
   "source": [
    "## Imports"
   ]
  },
  {
   "cell_type": "code",
   "execution_count": 2,
   "id": "4c0d1bee",
   "metadata": {
    "ExecuteTime": {
     "end_time": "2022-02-09T15:20:05.161147Z",
     "start_time": "2022-02-09T15:19:55.526591Z"
    },
    "colab": {
     "base_uri": "https://localhost:8080/"
    },
    "id": "4c0d1bee",
    "outputId": "b87ae6e0-1133-427e-c9a5-70eb095ffd25"
   },
   "outputs": [],
   "source": [
    "## utilities\n",
    "import os \n",
    "import pickle\n",
    "from datetime import datetime\n",
    "\n",
    "## classics \n",
    "import numpy as np \n",
    "import pandas as pd \n",
    "import matplotlib.pyplot as plt\n",
    "import seaborn as sns \n",
    "\n",
    "## deep\n",
    "import tensorflow as tf\n",
    "\n",
    "if COLAB:\n",
    "    !pip install --quiet transformers\n",
    "\n",
    "from transformers import AutoTokenizer, TFAutoModel, AutoConfig"
   ]
  },
  {
   "cell_type": "code",
   "execution_count": 3,
   "id": "460a7dec",
   "metadata": {
    "ExecuteTime": {
     "end_time": "2022-02-09T15:20:05.320773Z",
     "start_time": "2022-02-09T15:20:05.175602Z"
    },
    "id": "460a7dec"
   },
   "outputs": [],
   "source": [
    "#evaluation metrics\n",
    "from sklearn.metrics import confusion_matrix"
   ]
  },
  {
   "cell_type": "markdown",
   "id": "387e4f08",
   "metadata": {
    "id": "387e4f08"
   },
   "source": [
    "## Variables"
   ]
  },
  {
   "cell_type": "code",
   "execution_count": 4,
   "id": "4acaafab",
   "metadata": {
    "ExecuteTime": {
     "end_time": "2022-02-09T15:20:05.337097Z",
     "start_time": "2022-02-09T15:20:05.333617Z"
    },
    "id": "4acaafab"
   },
   "outputs": [],
   "source": [
    "#Max len of essay \n",
    "SEQ_LEN = 1024 ## THIS SHOULD NOT BE CHANGED without appropriate changes in the preprocessing \n",
    "\n",
    "#Train, val, test split proportion\n",
    "VAL_SPLIT = 0.8\n",
    "TEST_SPLIT = 0.9\n",
    "\n",
    "#Batch size\n",
    "BATCH_SIZE = 16\n",
    "\n",
    "#Data version\n",
    "VERSION=3\n",
    "\n",
    "# Load weights of trained model\n",
    "MODEL_NAME = 'mymodel'\n",
    "LOAD_MODEL = True\n",
    "LOAD_BACKBONE_FROM = '/content/drive/MyDrive/feedback-prize/backbone'\n",
    "LOAD_MODEL_WEIGHTS_FROM = '/content/drive/MyDrive/feedback-prize/mymodel/mymodel'"
   ]
  },
  {
   "cell_type": "code",
   "execution_count": 5,
   "id": "7efa402a",
   "metadata": {
    "ExecuteTime": {
     "end_time": "2022-02-09T15:20:11.117941Z",
     "start_time": "2022-02-09T15:20:11.114592Z"
    },
    "colab": {
     "base_uri": "https://localhost:8080/"
    },
    "id": "7efa402a",
    "outputId": "d4aeaada-14d5-4089-a0fb-a959ffc80b02"
   },
   "outputs": [],
   "source": [
    "## Paths\n",
    "\n",
    "## if running in colab, mount drive\n",
    "if COLAB:\n",
    "    drive.mount('/content/drive')\n",
    "    PATH='/content/drive/MyDrive/feedback-prize/'\n",
    "else:\n",
    "    PATH='../'"
   ]
  },
  {
   "cell_type": "markdown",
   "id": "178d6319",
   "metadata": {
    "id": "178d6319"
   },
   "source": [
    "# Load data\n",
    "\n",
    "The data is already preprocessed in another notebook.\n",
    "\n",
    "The preprocessed data is loaded and splitted in `train`, `val`, `test`"
   ]
  },
  {
   "cell_type": "code",
   "execution_count": 6,
   "id": "98e9bc4d",
   "metadata": {
    "ExecuteTime": {
     "end_time": "2022-02-09T15:20:21.289653Z",
     "start_time": "2022-02-09T15:20:18.512222Z"
    },
    "id": "98e9bc4d"
   },
   "outputs": [],
   "source": [
    "#Load train and test data\n",
    "with open(os.path.join(PATH,'raw_data',f'dataset_v{VERSION}.pickle'),'rb') as file:\n",
    "    dataset = pickle.load(file)\n",
    "    \n",
    "with open(os.path.join(PATH,'raw_data',f'dataset_test_v{VERSION}.pickle'),'rb') as file:\n",
    "    dataset_inf = pickle.load(file)"
   ]
  },
  {
   "cell_type": "code",
   "execution_count": 7,
   "id": "c01c00ca",
   "metadata": {
    "ExecuteTime": {
     "end_time": "2022-02-09T15:20:24.039041Z",
     "start_time": "2022-02-09T15:20:22.704665Z"
    },
    "id": "c01c00ca"
   },
   "outputs": [],
   "source": [
    "#Load preprocessed.csv file as it will be needed to retrieve predictions\n",
    "df_essays = pd.read_csv(os.path.join(PATH,'raw_data',f'preprocessed_v{VERSION}.csv'))\n",
    "df_inf = pd.read_csv(os.path.join(PATH,'raw_data',f'preprocessed_inf_v{VERSION}.csv'),index_col=0)"
   ]
  },
  {
   "cell_type": "code",
   "execution_count": 8,
   "id": "06633885",
   "metadata": {
    "ExecuteTime": {
     "end_time": "2022-02-09T15:20:24.658232Z",
     "start_time": "2022-02-09T15:20:24.653276Z"
    },
    "id": "06633885"
   },
   "outputs": [],
   "source": [
    "## Creating splits indexes\n",
    "\n",
    "LEN=len(dataset['labels'])\n",
    "\n",
    "idx_val=int(LEN*VAL_SPLIT)\n",
    "idx_test=int(LEN*TEST_SPLIT)\n",
    "\n",
    "idx_train=list(range(0,idx_val))\n",
    "idx_val=list(range(idx_val,idx_test))\n",
    "idx_test=list(range(idx_test,LEN))\n",
    "\n",
    "assert(len(idx_test)+len(idx_train)+len(idx_val)==LEN)"
   ]
  },
  {
   "cell_type": "code",
   "execution_count": 9,
   "id": "d5694515",
   "metadata": {
    "ExecuteTime": {
     "end_time": "2022-02-09T15:20:29.000487Z",
     "start_time": "2022-02-09T15:20:25.580342Z"
    },
    "id": "d5694515"
   },
   "outputs": [],
   "source": [
    "## Splitting dataset\n",
    "\n",
    "#train\n",
    "X_train = {\n",
    "    'input_ids' : dataset['inputs']['input_ids'][idx_train],\n",
    "    'attention_mask' : dataset['inputs']['attention_mask'][idx_train]\n",
    "}\n",
    "\n",
    "y_train = dataset['labels'][idx_train]\n",
    "ps_train = dataset['predictionstrings'][idx_train]\n",
    "\n",
    "#val\n",
    "X_val = {\n",
    "    'input_ids' : dataset['inputs']['input_ids'][idx_val],\n",
    "    'attention_mask' : dataset['inputs']['attention_mask'][idx_val]\n",
    "}\n",
    "\n",
    "y_val = dataset['labels'][idx_val]\n",
    "ps_val = dataset['predictionstrings'][idx_val]\n",
    "\n",
    "\n",
    "#test\n",
    "X_test = {\n",
    "    'input_ids' : dataset['inputs']['input_ids'][idx_test],\n",
    "    'attention_mask' : dataset['inputs']['attention_mask'][idx_test]\n",
    "}\n",
    "\n",
    "y_test = dataset['labels'][idx_test]\n",
    "ps_test = dataset['predictionstrings'][idx_test]\n",
    "\n",
    "#inference\n",
    "X_inf = dataset_inf['inputs']\n",
    "ps_inf = dataset_inf['predictionstrings']"
   ]
  },
  {
   "cell_type": "markdown",
   "id": "06895f0e",
   "metadata": {
    "id": "06895f0e"
   },
   "source": [
    "# Modeling"
   ]
  },
  {
   "cell_type": "markdown",
   "id": "ce61fc80",
   "metadata": {
    "id": "ce61fc80"
   },
   "source": [
    "## Model architecture"
   ]
  },
  {
   "cell_type": "code",
   "execution_count": 14,
   "id": "dbf3d6ae",
   "metadata": {
    "ExecuteTime": {
     "end_time": "2022-02-08T15:05:09.982796Z",
     "start_time": "2022-02-08T15:04:51.874202Z"
    },
    "colab": {
     "base_uri": "https://localhost:8080/"
    },
    "id": "dbf3d6ae",
    "outputId": "0ba8c2c1-1edd-4c6c-d10a-e17735c0811d",
    "scrolled": true
   },
   "outputs": [
    {
     "name": "stderr",
     "output_type": "stream",
     "text": [
      "All model checkpoint layers were used when initializing TFLongformerModel.\n",
      "\n",
      "All the layers of TFLongformerModel were initialized from the model checkpoint at /content/drive/MyDrive/feedback-prize/backbone/tf_model.h5.\n",
      "If your task is similar to the task the model of the checkpoint was trained on, you can already use TFLongformerModel for predictions without further training.\n"
     ]
    }
   ],
   "source": [
    "## Instantiate model Longformer to be used as backbone\n",
    "config = AutoConfig.from_pretrained(os.path.join(LOAD_BACKBONE_FROM,'config.json'))\n",
    "backbone = TFAutoModel.from_pretrained(os.path.join(LOAD_BACKBONE_FROM,'tf_model.h5'),config=config)"
   ]
  },
  {
   "cell_type": "code",
   "execution_count": 15,
   "id": "4b31d749",
   "metadata": {
    "ExecuteTime": {
     "end_time": "2022-02-08T15:05:19.028832Z",
     "start_time": "2022-02-08T15:05:19.014958Z"
    },
    "id": "4b31d749"
   },
   "outputs": [],
   "source": [
    "## TODO : retrieve the attention mask from backbone and pass it to the two LSTM ; currently highly possible the attention mask got lost\n",
    "\n",
    "# init model\n",
    "\n",
    "def init_model():\n",
    "    input_ids = tf.keras.layers.Input(shape=(SEQ_LEN,),dtype='int32')\n",
    "    attention_mask = tf.keras.layers.Input(shape=(SEQ_LEN,),dtype='int32')\n",
    "    \n",
    "    x = backbone({'input_ids':input_ids,\n",
    "                 'attention_mask':attention_mask})[0]\n",
    "\n",
    "    backbone.trainable = False\n",
    "\n",
    "\n",
    "    x = tf.keras.layers.Bidirectional(tf.keras.layers.LSTM(units = 512,\n",
    "                                                           activation = 'tanh',\n",
    "                                                           dropout=.2,\n",
    "                                                           return_sequences=True))(x)\n",
    "    x_res = tf.keras.layers.Bidirectional(tf.keras.layers.LSTM(units = 512,\n",
    "                                                           activation = 'tanh',\n",
    "                                                           dropout=.2,\n",
    "                                                           return_sequences=True))(x)\n",
    "    \n",
    "\n",
    "    x = tf.keras.layers.add([x,x_res])\n",
    "    output = tf.keras.layers.TimeDistributed(tf.keras.layers.Dense(16,activation = 'softmax'))(x)\n",
    "\n",
    "    model = tf.keras.models.Model(inputs={'input_ids':input_ids,\n",
    "                                          'attention_mask':attention_mask},outputs=output)\n",
    "    \n",
    "    \n",
    "    return model"
   ]
  },
  {
   "cell_type": "code",
   "execution_count": 16,
   "id": "805fd880",
   "metadata": {
    "ExecuteTime": {
     "end_time": "2022-02-08T15:08:40.730243Z",
     "start_time": "2022-02-08T15:08:32.179279Z"
    },
    "colab": {
     "base_uri": "https://localhost:8080/",
     "height": 360
    },
    "id": "805fd880",
    "outputId": "c4bd4814-003e-4232-876f-94e18ef4a459"
   },
   "outputs": [
    {
     "data": {
      "image/png": "[encoded data removed]",
      "text/plain": [
       "<IPython.core.display.Image object>"
      ]
     },
     "execution_count": 16,
     "metadata": {},
     "output_type": "execute_result"
    }
   ],
   "source": [
    "## instantiate the model, plot the graph\n",
    "model = init_model()\n",
    "\n",
    "tf.keras.utils.plot_model(model,show_shapes=True)"
   ]
  },
  {
   "cell_type": "markdown",
   "id": "ba134f3f",
   "metadata": {
    "id": "ba134f3f"
   },
   "source": [
    "## Loss, Optimizer, Metrics"
   ]
  },
  {
   "cell_type": "code",
   "execution_count": 17,
   "id": "2e741083",
   "metadata": {
    "ExecuteTime": {
     "end_time": "2022-02-08T15:19:20.793041Z",
     "start_time": "2022-02-08T15:19:20.726503Z"
    },
    "id": "2e741083"
   },
   "outputs": [],
   "source": [
    "# creating homemade metric\n",
    "\n",
    "def accuracy_masked_func(y_true,y_pred):\n",
    "    y_pred = tf.cast(tf.argmax(y_pred,axis=-1),'int32')\n",
    "    y_true = tf.cast(y_true,'int32')\n",
    "    y_true = tf.cast(tf.argmax(y_true,axis=-1),'int32') #for y_pred and y_true to match\n",
    "    mask = tf.cast(y_true != 15,'int32') #create a mask\n",
    "    matches = tf.cast(tf.equal(y_true,y_pred),'int32')*mask #calculate the matches ignoring the masking\n",
    "    accuracy = tf.math.reduce_sum(matches,axis=-1)/tf.maximum(tf.math.reduce_sum(mask,axis=-1),1)\n",
    "    \n",
    "    return accuracy"
   ]
  },
  {
   "cell_type": "code",
   "execution_count": 18,
   "id": "39f32227",
   "metadata": {
    "ExecuteTime": {
     "end_time": "2022-02-08T15:20:32.714566Z",
     "start_time": "2022-02-08T15:20:32.434987Z"
    },
    "id": "39f32227"
   },
   "outputs": [],
   "source": [
    "# define loss and metrics \n",
    "loss = tf.keras.losses.CategoricalCrossentropy(name='categorical_crossentropy')\n",
    "cat_accuracy = tf.keras.metrics.CategoricalAccuracy()\n",
    "masked_accuracy = tf.keras.metrics.MeanMetricWrapper(fn=accuracy_masked_func)\n",
    "\n",
    "# RMSProp optimizer with clip value and small lr to avoid exploiding gradient \n",
    "opt = tf.keras.optimizers.RMSprop(clipvalue=.5,learning_rate=0.0001)\n",
    "\n",
    "#compile\n",
    "model.compile(optimizer=opt,loss=loss,metrics=[cat_accuracy,masked_accuracy])"
   ]
  },
  {
   "cell_type": "markdown",
   "id": "af59f074",
   "metadata": {
    "id": "af59f074"
   },
   "source": [
    "## Model training"
   ]
  },
  {
   "cell_type": "code",
   "execution_count": 21,
   "id": "8de8c166",
   "metadata": {
    "ExecuteTime": {
     "end_time": "2022-02-08T15:35:00.705395Z",
     "start_time": "2022-02-08T15:35:00.630108Z"
    },
    "id": "8de8c166"
   },
   "outputs": [],
   "source": [
    "#### CALLBACKS\n",
    "\n",
    "timestamp = datetime.today().__format__('%d%m_%Hh%M')\n",
    "\n",
    "checkpoints_path = f'{PATH}{MODEL_NAME}/{MODEL_NAME}_{timestamp}.ckpt'\n",
    "logdir = '/content/drive/MyDrive/feedback-prize/logs/'\n",
    "\n",
    "\n",
    "#early stopping\n",
    "es = tf.keras.callbacks.EarlyStopping(patience=1,restore_best_weights=True)\n",
    "\n",
    "#save weights at every epoch\n",
    "checkpoint_saver = tf.keras.callbacks.ModelCheckpoint(filepath=checkpoints_path,\n",
    "                                                      save_weights_only=True,\n",
    "                                                      save_best_only = True,\n",
    "                                                      monitor = 'val_categorical_accuracy',\n",
    "                                                      mode = 'max',\n",
    "                                                      verbose = 1)\n",
    "\n",
    "#logs for tensorboard\n",
    "tensorboard = tf.keras.callbacks.TensorBoard(log_dir=logdir)\n",
    "\n",
    "# list callbacks\n",
    "\n",
    "callbacks=[es,checkpoint_saver,tensorboard]"
   ]
  },
  {
   "cell_type": "code",
   "execution_count": 22,
   "id": "d14a118f",
   "metadata": {
    "ExecuteTime": {
     "end_time": "2022-02-08T15:36:39.914302Z",
     "start_time": "2022-02-08T15:36:39.910221Z"
    },
    "colab": {
     "base_uri": "https://localhost:8080/"
    },
    "id": "d14a118f",
    "outputId": "85f537a3-c0a1-45cd-9946-b0f60a430f3d"
   },
   "outputs": [
    {
     "name": "stdout",
     "output_type": "stream",
     "text": [
      "Loading model weights below\n"
     ]
    }
   ],
   "source": [
    "## TRAINING\n",
    "if not LOAD_MODEL:\n",
    "    history = model.fit(X_train,y_train,\n",
    "                        validation_data= (X_val,y_val),\n",
    "                        epochs=30,callbacks=callbacks,batch_size=BATCH_SIZE)\n",
    "else:\n",
    "    print('Loading model weights below')"
   ]
  },
  {
   "cell_type": "code",
   "execution_count": null,
   "id": "da39c25d",
   "metadata": {},
   "outputs": [],
   "source": [
    "## saving\n",
    "if not LOAD_MODEL:\n",
    "    os.mkdir(MODEL_NAME)\n",
    "    model.save_weights(MODEL_NAME)"
   ]
  },
  {
   "cell_type": "markdown",
   "id": "5c9b34e7",
   "metadata": {
    "id": "5c9b34e7"
   },
   "source": [
    "## Model evaluation"
   ]
  },
  {
   "cell_type": "code",
   "execution_count": 27,
   "id": "e4b0466a",
   "metadata": {
    "colab": {
     "base_uri": "https://localhost:8080/"
    },
    "id": "e4b0466a",
    "outputId": "ee35de22-350b-4c42-b124-69e1246ed7d4",
    "scrolled": true
   },
   "outputs": [
    {
     "name": "stdout",
     "output_type": "stream",
     "text": [
      "98/98 [==============================] - 193s 2s/step - loss: 0.3133 - categorical_accuracy: 0.8977 - mean_metric_wrapper: 0.7678\n"
     ]
    },
    {
     "data": {
      "text/plain": [
       "[0.3132975399494171, 0.8977440595626831, 0.7678290605545044]"
      ]
     },
     "execution_count": 27,
     "metadata": {},
     "output_type": "execute_result"
    }
   ],
   "source": [
    "## model eval on val set \n",
    "model.evaluate(X_val,y_val,batch_size=BATCH_SIZE)"
   ]
  },
  {
   "cell_type": "code",
   "execution_count": null,
   "id": "9153f4d8",
   "metadata": {},
   "outputs": [],
   "source": [
    "#predict on test split\n",
    "y_pred = model.predict(X_test,batch_size=BATCH_SIZE)\n",
    "\n",
    "#dump pickle\n",
    "with open(os.path.join(PATH,'raw_data','preds_on_testsplit.pickle'),'wb') as file:\n",
    "    pickle.dump(y_pred,file)"
   ]
  },
  {
   "cell_type": "markdown",
   "id": "b2bb7321",
   "metadata": {},
   "source": [
    "> Evaluation on a separate notebook"
   ]
  },
  {
   "cell_type": "markdown",
   "id": "9a0d1923",
   "metadata": {
    "heading_collapsed": true,
    "id": "9a0d1923"
   },
   "source": [
    "## Model evaluation\n",
    "\n",
    "<font size=6 color='red'>No longer accurate</font>"
   ]
  },
  {
   "cell_type": "markdown",
   "id": "fb0aa2f6",
   "metadata": {
    "hidden": true,
    "id": "fb0aa2f6"
   },
   "source": [
    "### Get predictions"
   ]
  },
  {
   "cell_type": "code",
   "execution_count": 10,
   "id": "9LPEEQCzC3LI",
   "metadata": {
    "ExecuteTime": {
     "end_time": "2022-02-09T15:20:45.557610Z",
     "start_time": "2022-02-09T15:20:45.532672Z"
    },
    "hidden": true,
    "id": "9LPEEQCzC3LI"
   },
   "outputs": [],
   "source": [
    "labels_mapping = {'B-Lead' : 0,\n",
    "                  'B-Position' : 1,\n",
    "                  'B-Evidence' : 2,\n",
    "                  'B-Claim' : 3,\n",
    "                  'B-Concluding_Statement' : 4,\n",
    "                  'B-Counterclaim' : 5,\n",
    "                  'B-Rebuttal' : 6,\n",
    "                  'I-Lead' : 7,\n",
    "                  'I-Position' : 8,\n",
    "                  'I-Evidence' : 9,\n",
    "                  'I-Claim' : 10,\n",
    "                  'I-Concluding_Statement' : 11,\n",
    "                  'I-Counterclaim' : 12,\n",
    "                  'I-Rebuttal': 13,\n",
    "                 'O':14,\n",
    "                 'PAD':15}\n",
    "\n",
    "reversed_mapping = {v:(k[2:] if v<14 else k) for k,v in labels_mapping.items()}"
   ]
  },
  {
   "cell_type": "code",
   "execution_count": 11,
   "id": "4586e676",
   "metadata": {
    "ExecuteTime": {
     "end_time": "2022-02-09T15:20:45.632079Z",
     "start_time": "2022-02-09T15:20:45.600034Z"
    },
    "hidden": true,
    "id": "4586e676"
   },
   "outputs": [],
   "source": [
    "def get_preds(y_pred,ps):\n",
    "    \"\"\"\n",
    "    Generate readable predictions from the output of the model.\n",
    "\n",
    "    Args:\n",
    "        y_pred (ndarray): output of the model\n",
    "        ps (ndarray): predictionstring referring to the token predicted\n",
    "\n",
    "    Returns:\n",
    "        DataFrame : DataFrame with class and predictionstrings\n",
    "    \"\"\"\n",
    "\n",
    "\n",
    "    labels = []\n",
    "    predictionstrings = []\n",
    "    counts = []\n",
    "    \n",
    "    counter=dict()\n",
    "    \n",
    "    for tok,pos in zip(y_pred,ps):\n",
    "        \n",
    "        if tok <= 13:\n",
    "            lab = reversed_mapping[tok]\n",
    "            labels.append(lab)\n",
    "            predictionstrings.append(pos)\n",
    "            if len(labels)<2:\n",
    "                counts.append(str(1))\n",
    "                counter.setdefault(lab,1)\n",
    "                continue\n",
    "            if lab == labels[-2]:\n",
    "                counts.append(str(counter[lab]))\n",
    "            else: \n",
    "                try:\n",
    "                    counter[lab]+=1\n",
    "                except KeyError:\n",
    "                    counter.setdefault(lab,1)\n",
    "                counts.append(str(counter[lab]))\n",
    "    \n",
    "    preds = pd.DataFrame([labels,counts,predictionstrings],index=['class','count','predictionstring']).T\n",
    "    preds['class'] += ' ' + preds['count'].astype(str)\n",
    "    preds = preds.groupby('class',sort=False).agg({'predictionstring':list}).reset_index()\n",
    "    preds['class']=preds['class'].apply(lambda txt : txt.split()[0])\n",
    "    preds['predictionstring']=preds['predictionstring'].apply(lambda l_ : [str(l) for l in l_])\n",
    "    preds['predictionstring']=preds['predictionstring'].apply(lambda l_ : ' '.join(l_))\n",
    "    \n",
    "    return preds"
   ]
  },
  {
   "cell_type": "markdown",
   "id": "dbfbd22c",
   "metadata": {
    "hidden": true,
    "id": "dbfbd22c"
   },
   "source": [
    "### Evaluate test split"
   ]
  },
  {
   "cell_type": "code",
   "execution_count": 30,
   "id": "74d63b23",
   "metadata": {
    "hidden": true,
    "id": "74d63b23"
   },
   "outputs": [],
   "source": [
    "#predict on test split\n",
    "y_pred = model.predict(X_test,batch_size=BATCH_SIZE)\n",
    "\n",
    "#dump pickle\n",
    "with open(os.path.join(PATH,'raw_data','preds_on_testsplit.pickle'),'wb') as file:\n",
    "    pickle.dump(y_pred,file)"
   ]
  },
  {
   "cell_type": "markdown",
   "id": "234d1115",
   "metadata": {
    "hidden": true,
    "id": "234d1115"
   },
   "source": [
    "#### F1 Report"
   ]
  },
  {
   "cell_type": "code",
   "execution_count": 16,
   "id": "87454dba",
   "metadata": {
    "ExecuteTime": {
     "end_time": "2022-02-09T15:23:57.539068Z",
     "start_time": "2022-02-09T15:23:08.212220Z"
    },
    "colab": {
     "base_uri": "https://localhost:8080/",
     "height": 381
    },
    "hidden": true,
    "id": "87454dba",
    "outputId": "e76feccd-2868-47ab-eb6b-a2936fcaa7c5"
   },
   "outputs": [],
   "source": [
    "## Create two DF with preds and ground truth\n",
    "\n",
    "y_true = np.argmax(y_test,axis=-1)\n",
    "y_pred = np.argmax(y_pred_,axis=-1)\n",
    "\n",
    "ps = ps_test\n",
    "\n",
    "true_df = pd.DataFrame()\n",
    "pred_df = pd.DataFrame()\n",
    "\n",
    "for i,idx in enumerate(idx_test): ## CHANGE idx_test\n",
    "    \n",
    "    true_ = get_preds(y_true[i],ps[i])\n",
    "    pred_ = get_preds(y_pred[i],ps[i])\n",
    "    \n",
    "    true_['id']=df_essays.iloc[idx]['id']\n",
    "    pred_['id']=df_essays.iloc[idx]['id']\n",
    "    \n",
    "    true_df = true_df.append(true_)\n",
    "    pred_df = pred_df.append(pred_)\n",
    "    \n",
    "true_df['unique_id'] = pd.util.hash_pandas_object(true_df,hash_key='1234567890123456')\n",
    "pred_df['unique_id'] = pd.util.hash_pandas_object(pred_df,hash_key='azerty1234567890')"
   ]
  },
  {
   "cell_type": "code",
   "execution_count": 18,
   "id": "d6d45514",
   "metadata": {
    "ExecuteTime": {
     "end_time": "2022-02-09T15:24:11.107286Z",
     "start_time": "2022-02-09T15:24:11.101012Z"
    },
    "hidden": true,
    "id": "d6d45514"
   },
   "outputs": [],
   "source": [
    "## Determine whether a prediction is a true positive or not\n",
    "\n",
    "def true_positive(predictionstring_true,predictionstring_pred):\n",
    "    ps_true = set(predictionstring_true.split(' '))\n",
    "    ps_pred = set(predictionstring_pred.split(' '))\n",
    "    \n",
    "    inter = ps_pred.intersection(ps_true)\n",
    "    overlap_1 = len(inter)/len(ps_true)\n",
    "    overlap_2 = len(inter)/len(ps_pred)\n",
    "    \n",
    "    if overlap_1 >= .5 and overlap_2 >= .5:\n",
    "        return 1\n",
    "    return 0\n",
    "\n",
    "## vectorize the funct\n",
    "true_positive_vect = np.vectorize(true_positive)\n"
   ]
  },
  {
   "cell_type": "code",
   "execution_count": 19,
   "id": "e811bd53",
   "metadata": {
    "ExecuteTime": {
     "end_time": "2022-02-09T15:24:13.910117Z",
     "start_time": "2022-02-09T15:24:13.487097Z"
    },
    "hidden": true,
    "id": "e811bd53"
   },
   "outputs": [
    {
     "data": {
      "text/html": [
       "<div>\n",
       "<style scoped>\n",
       "    .dataframe tbody tr th:only-of-type {\n",
       "        vertical-align: middle;\n",
       "    }\n",
       "\n",
       "    .dataframe tbody tr th {\n",
       "        vertical-align: top;\n",
       "    }\n",
       "\n",
       "    .dataframe thead th {\n",
       "        text-align: right;\n",
       "    }\n",
       "</style>\n",
       "<table border=\"1\" class=\"dataframe\">\n",
       "  <thead>\n",
       "    <tr style=\"text-align: right;\">\n",
       "      <th></th>\n",
       "      <th>class</th>\n",
       "      <th>predictionstring_pred</th>\n",
       "      <th>id</th>\n",
       "      <th>unique_id_pred</th>\n",
       "      <th>predictionstring_true</th>\n",
       "      <th>unique_id_true</th>\n",
       "      <th>FP</th>\n",
       "      <th>FN</th>\n",
       "      <th>TP</th>\n",
       "    </tr>\n",
       "  </thead>\n",
       "  <tbody>\n",
       "    <tr>\n",
       "      <th>0</th>\n",
       "      <td>Lead</td>\n",
       "      <td>0 1 2 3 4 5 6 7 8 9 10 11 12 13 14 15 16 17 18...</td>\n",
       "      <td>E6870101D8EE</td>\n",
       "      <td>1.172241e+19</td>\n",
       "      <td></td>\n",
       "      <td>NaN</td>\n",
       "      <td>1</td>\n",
       "      <td>0</td>\n",
       "      <td>0</td>\n",
       "    </tr>\n",
       "    <tr>\n",
       "      <th>1</th>\n",
       "      <td>Lead</td>\n",
       "      <td>65 66 67 68 69 70 71 72 73 74 75 76 77 78</td>\n",
       "      <td>E6870101D8EE</td>\n",
       "      <td>9.178975e+18</td>\n",
       "      <td></td>\n",
       "      <td>NaN</td>\n",
       "      <td>1</td>\n",
       "      <td>0</td>\n",
       "      <td>0</td>\n",
       "    </tr>\n",
       "    <tr>\n",
       "      <th>2</th>\n",
       "      <td>Lead</td>\n",
       "      <td>83 84</td>\n",
       "      <td>E6870101D8EE</td>\n",
       "      <td>2.577067e+18</td>\n",
       "      <td></td>\n",
       "      <td>NaN</td>\n",
       "      <td>1</td>\n",
       "      <td>0</td>\n",
       "      <td>0</td>\n",
       "    </tr>\n",
       "    <tr>\n",
       "      <th>3</th>\n",
       "      <td>Evidence</td>\n",
       "      <td>31 32 33 34 35 36 37 38 39 40 41 42 43 44 45 4...</td>\n",
       "      <td>E6870101D8EE</td>\n",
       "      <td>5.320668e+18</td>\n",
       "      <td>0 1 2 3 4 5 6 7 8 9 10 11 12 13 14 15 16 17 18...</td>\n",
       "      <td>1.447722e+19</td>\n",
       "      <td>0</td>\n",
       "      <td>0</td>\n",
       "      <td>0</td>\n",
       "    </tr>\n",
       "    <tr>\n",
       "      <th>4</th>\n",
       "      <td>Evidence</td>\n",
       "      <td>31 32 33 34 35 36 37 38 39 40 41 42 43 44 45 4...</td>\n",
       "      <td>E6870101D8EE</td>\n",
       "      <td>5.320668e+18</td>\n",
       "      <td>110 111 112 113 114 115 116 117 118 119 120 12...</td>\n",
       "      <td>1.562738e+19</td>\n",
       "      <td>0</td>\n",
       "      <td>0</td>\n",
       "      <td>0</td>\n",
       "    </tr>\n",
       "  </tbody>\n",
       "</table>\n",
       "</div>"
      ],
      "text/plain": [
       "      class                              predictionstring_pred            id  \\\n",
       "0      Lead  0 1 2 3 4 5 6 7 8 9 10 11 12 13 14 15 16 17 18...  E6870101D8EE   \n",
       "1      Lead          65 66 67 68 69 70 71 72 73 74 75 76 77 78  E6870101D8EE   \n",
       "2      Lead                                              83 84  E6870101D8EE   \n",
       "3  Evidence  31 32 33 34 35 36 37 38 39 40 41 42 43 44 45 4...  E6870101D8EE   \n",
       "4  Evidence  31 32 33 34 35 36 37 38 39 40 41 42 43 44 45 4...  E6870101D8EE   \n",
       "\n",
       "   unique_id_pred                              predictionstring_true  \\\n",
       "0    1.172241e+19                                                      \n",
       "1    9.178975e+18                                                      \n",
       "2    2.577067e+18                                                      \n",
       "3    5.320668e+18  0 1 2 3 4 5 6 7 8 9 10 11 12 13 14 15 16 17 18...   \n",
       "4    5.320668e+18  110 111 112 113 114 115 116 117 118 119 120 12...   \n",
       "\n",
       "   unique_id_true  FP  FN  TP  \n",
       "0             NaN   1   0   0  \n",
       "1             NaN   1   0   0  \n",
       "2             NaN   1   0   0  \n",
       "3    1.447722e+19   0   0   0  \n",
       "4    1.562738e+19   0   0   0  "
      ]
     },
     "execution_count": 19,
     "metadata": {},
     "output_type": "execute_result"
    }
   ],
   "source": [
    "## Merge the 2 DF to compute F1 \n",
    "\n",
    "merged_df = pred_df.merge(true_df,how = 'outer',on=['id','class'],suffixes=('_pred','_true'))\n",
    "\n",
    "## if a pred is not matched it is a FN ; if the truth is not matched it is a FP\n",
    "\n",
    "#creating separate columns \n",
    "merged_df['FP'] = np.where(merged_df.predictionstring_true.isna(), 1, 0)\n",
    "merged_df['FN'] = np.where(merged_df.predictionstring_pred.isna(), 1, 0)\n",
    "\n",
    "\n",
    "#cleaning nan for the true positive function\n",
    "merged_df['predictionstring_pred'].fillna('',inplace=True)\n",
    "merged_df['predictionstring_true'].fillna('',inplace=True)\n",
    "\n",
    "\n",
    "merged_df['TP'] = true_positive_vect(merged_df['predictionstring_true'],merged_df['predictionstring_pred'])\n",
    "\n",
    "merged_df.head()"
   ]
  },
  {
   "cell_type": "code",
   "execution_count": 20,
   "id": "b518be6c",
   "metadata": {
    "ExecuteTime": {
     "end_time": "2022-02-09T15:24:16.473582Z",
     "start_time": "2022-02-09T15:24:16.470122Z"
    },
    "hidden": true,
    "id": "b518be6c"
   },
   "outputs": [],
   "source": [
    "## creating f1 function\n",
    "def f1_score(fp,fn,tp):\n",
    "    return tp/(tp+.5*(fp+fn))*100"
   ]
  },
  {
   "cell_type": "code",
   "execution_count": 40,
   "id": "62ad9adb",
   "metadata": {
    "ExecuteTime": {
     "end_time": "2022-02-09T15:26:19.380276Z",
     "start_time": "2022-02-09T15:26:19.352593Z"
    },
    "hidden": true,
    "id": "62ad9adb"
   },
   "outputs": [],
   "source": [
    "## group by class for F1 score calculation\n",
    "f1_df = merged_df.groupby('class').sum()\n",
    "f1_df.drop(['unique_id_pred','unique_id_true'],axis=1,inplace=True)\n",
    "\n",
    "#apply to the df\n",
    "f1_df['f1']=f1_score(f1_df.FP,f1_df.FN,f1_df.TP)\n",
    "\n",
    "#Create a total row\n",
    "f1_df.loc['Total']=f1_df.mean()\n",
    "\n",
    "## weighted average\n",
    "\n",
    "f1_df['support'] = true_df.groupby('class').count()['id']\n",
    "\n",
    "f1_df['f1_weighted']=f1_df['f1']*(f1_df['support']/f1_df['support'].sum())\n",
    "f1_df.loc['Total','support']=f1_df.support.sum()\n",
    "f1_df.loc['Total','f1_weighted']=f1_df.f1_weighted.sum()\n",
    "\n",
    "# impute correct values for the Total row for TP FN FP \n",
    "\n",
    "f1_df.loc['Total','FP'] = f1_df.loc[:'Rebuttal','FP'].sum()\n",
    "f1_df.loc['Total','FN'] = f1_df.loc[:'Rebuttal','FN'].sum()\n",
    "f1_df.loc['Total','TP'] = f1_df.loc[:'Rebuttal','TP'].sum()"
   ]
  },
  {
   "cell_type": "code",
   "execution_count": 41,
   "id": "d296aa49",
   "metadata": {
    "ExecuteTime": {
     "end_time": "2022-02-09T15:26:19.534016Z",
     "start_time": "2022-02-09T15:26:19.530003Z"
    },
    "hidden": true,
    "id": "d296aa49"
   },
   "outputs": [
    {
     "name": "stdout",
     "output_type": "stream",
     "text": [
      "F1 Macro Score = 76.36%\n",
      "F1 Micro Score = 90.47%\n",
      "F1 Weighted Score = 90.70%\n"
     ]
    }
   ],
   "source": [
    "## PRINT REPORT\n",
    "\n",
    "print(f\"F1 Macro Score = {f1_df.loc['Total','f1']:.2f}%\")\n",
    "\n",
    "\n",
    "print(f\"F1 Micro Score = {f1_score(f1_df.loc['Total','FP'],f1_df.loc['Total','FN'],f1_df.loc['Total','TP']):.2f}%\")\n",
    "\n",
    "print(f\"F1 Weighted Score = {f1_df.loc['Total','f1_weighted']:.2f}%\")\n"
   ]
  },
  {
   "cell_type": "code",
   "execution_count": 42,
   "id": "e3cd3b9d",
   "metadata": {
    "ExecuteTime": {
     "end_time": "2022-02-09T15:26:19.827938Z",
     "start_time": "2022-02-09T15:26:19.681316Z"
    },
    "hidden": true,
    "id": "e3cd3b9d"
   },
   "outputs": [
    {
     "data": {
      "image/png": "[encoded data removed]",
      "text/plain": [
       "<Figure size 432x288 with 1 Axes>"
      ]
     },
     "metadata": {
      "needs_background": "light"
     },
     "output_type": "display_data"
    }
   ],
   "source": [
    "sns.barplot(y=f1_df.reset_index().loc[:6,'f1'],x=f1_df.index[:-1],palette='Set2')\n",
    "plt.xticks(rotation=90)\n",
    "locs,_=plt.xticks()\n",
    "plt.plot([locs[0]-.5,locs[-1]+.5],[f1_df.loc['Total','f1'],f1_df.loc['Total','f1']],c='r');"
   ]
  },
  {
   "cell_type": "code",
   "execution_count": 43,
   "id": "ee4dd298",
   "metadata": {
    "ExecuteTime": {
     "end_time": "2022-02-09T15:26:20.595497Z",
     "start_time": "2022-02-09T15:26:20.579822Z"
    },
    "hidden": true,
    "id": "ee4dd298"
   },
   "outputs": [
    {
     "data": {
      "text/html": [
       "<div>\n",
       "<style scoped>\n",
       "    .dataframe tbody tr th:only-of-type {\n",
       "        vertical-align: middle;\n",
       "    }\n",
       "\n",
       "    .dataframe tbody tr th {\n",
       "        vertical-align: top;\n",
       "    }\n",
       "\n",
       "    .dataframe thead th {\n",
       "        text-align: right;\n",
       "    }\n",
       "</style>\n",
       "<table border=\"1\" class=\"dataframe\">\n",
       "  <thead>\n",
       "    <tr style=\"text-align: right;\">\n",
       "      <th></th>\n",
       "      <th>FP</th>\n",
       "      <th>FN</th>\n",
       "      <th>TP</th>\n",
       "      <th>f1</th>\n",
       "      <th>support</th>\n",
       "      <th>f1_weighted</th>\n",
       "    </tr>\n",
       "    <tr>\n",
       "      <th>class</th>\n",
       "      <th></th>\n",
       "      <th></th>\n",
       "      <th></th>\n",
       "      <th></th>\n",
       "      <th></th>\n",
       "      <th></th>\n",
       "    </tr>\n",
       "  </thead>\n",
       "  <tbody>\n",
       "    <tr>\n",
       "      <th>Claim</th>\n",
       "      <td>79</td>\n",
       "      <td>49</td>\n",
       "      <td>1570</td>\n",
       "      <td>96.08%</td>\n",
       "      <td>3412</td>\n",
       "      <td>27.34%</td>\n",
       "    </tr>\n",
       "    <tr>\n",
       "      <th>Concluding_Statement</th>\n",
       "      <td>214</td>\n",
       "      <td>27</td>\n",
       "      <td>1106</td>\n",
       "      <td>90.18%</td>\n",
       "      <td>1346</td>\n",
       "      <td>10.12%</td>\n",
       "    </tr>\n",
       "    <tr>\n",
       "      <th>Counterclaim</th>\n",
       "      <td>162</td>\n",
       "      <td>202</td>\n",
       "      <td>141</td>\n",
       "      <td>43.65%</td>\n",
       "      <td>542</td>\n",
       "      <td>1.97%</td>\n",
       "    </tr>\n",
       "    <tr>\n",
       "      <th>Evidence</th>\n",
       "      <td>25</td>\n",
       "      <td>0</td>\n",
       "      <td>2400</td>\n",
       "      <td>99.48%</td>\n",
       "      <td>3792</td>\n",
       "      <td>31.46%</td>\n",
       "    </tr>\n",
       "    <tr>\n",
       "      <th>Lead</th>\n",
       "      <td>249</td>\n",
       "      <td>50</td>\n",
       "      <td>774</td>\n",
       "      <td>83.81%</td>\n",
       "      <td>963</td>\n",
       "      <td>6.73%</td>\n",
       "    </tr>\n",
       "    <tr>\n",
       "      <th>Position</th>\n",
       "      <td>23</td>\n",
       "      <td>68</td>\n",
       "      <td>955</td>\n",
       "      <td>95.45%</td>\n",
       "      <td>1535</td>\n",
       "      <td>12.22%</td>\n",
       "    </tr>\n",
       "    <tr>\n",
       "      <th>Rebuttal</th>\n",
       "      <td>128</td>\n",
       "      <td>199</td>\n",
       "      <td>57</td>\n",
       "      <td>25.85%</td>\n",
       "      <td>402</td>\n",
       "      <td>0.87%</td>\n",
       "    </tr>\n",
       "    <tr>\n",
       "      <th>Total</th>\n",
       "      <td>880</td>\n",
       "      <td>595</td>\n",
       "      <td>7003</td>\n",
       "      <td>76.36%</td>\n",
       "      <td>11992</td>\n",
       "      <td>90.70%</td>\n",
       "    </tr>\n",
       "  </tbody>\n",
       "</table>\n",
       "</div>"
      ],
      "text/plain": [
       "                       FP   FN    TP      f1 support f1_weighted\n",
       "class                                                           \n",
       "Claim                  79   49  1570  96.08%    3412      27.34%\n",
       "Concluding_Statement  214   27  1106  90.18%    1346      10.12%\n",
       "Counterclaim          162  202   141  43.65%     542       1.97%\n",
       "Evidence               25    0  2400  99.48%    3792      31.46%\n",
       "Lead                  249   50   774  83.81%     963       6.73%\n",
       "Position               23   68   955  95.45%    1535      12.22%\n",
       "Rebuttal              128  199    57  25.85%     402       0.87%\n",
       "Total                 880  595  7003  76.36%   11992      90.70%"
      ]
     },
     "execution_count": 43,
     "metadata": {},
     "output_type": "execute_result"
    }
   ],
   "source": [
    "# Full report\n",
    "f1_df[['FP','FN','TP','support']]=f1_df[['FP','FN','TP','support']].applymap('{:.0f}'.format)\n",
    "f1_df['f1_weighted']=f1_df['f1_weighted'].map('{:.2f}%'.format)\n",
    "f1_df['f1']=f1_df['f1'].map('{:.2f}%'.format)\n",
    "\n",
    "f1_df"
   ]
  },
  {
   "cell_type": "markdown",
   "id": "f0514f5e",
   "metadata": {
    "hidden": true,
    "id": "f0514f5e"
   },
   "source": [
    "#### Confusion Matrix"
   ]
  },
  {
   "cell_type": "code",
   "execution_count": 44,
   "id": "c3a81d7f",
   "metadata": {
    "ExecuteTime": {
     "end_time": "2022-02-09T15:26:26.334535Z",
     "start_time": "2022-02-09T15:26:26.322643Z"
    },
    "hidden": true,
    "id": "c3a81d7f"
   },
   "outputs": [],
   "source": [
    "def show_confusion_matrix(y_true,y_pred):\n",
    "\n",
    "    reversed_mapping = {\n",
    "                        0: 'Lead',\n",
    "                        1: 'Position',\n",
    "                        2: 'Evidence',\n",
    "                        3: 'Claim',\n",
    "                        4: 'Concluding_Statement',\n",
    "                        5: 'Counterclaim',\n",
    "                        6: 'Rebuttal',\n",
    "                        7: 'Lead',\n",
    "                        8: 'Position',\n",
    "                        9: 'Evidence',\n",
    "                        10: 'Claim',\n",
    "                        11: 'Concluding_Statement',\n",
    "                        12: 'Counterclaim',\n",
    "                        13: 'Rebuttal',\n",
    "                        14: 'O',\n",
    "                        15: 'PAD'}\n",
    "    \n",
    "    y_true_flat = [reversed_mapping[y] for y in y_true.flatten()]\n",
    "    y_pred_flat = [reversed_mapping[y] for y in y_pred.flatten()]\n",
    "    \n",
    "    LABELS = ['Lead','Position','Claim','Counterclaim','Rebuttal','Evidence','Concluding_Statement','O','PAD']\n",
    "\n",
    "    cfn = confusion_matrix(y_true_flat,y_pred_flat,labels=LABELS)\n",
    "    \n",
    "    fig,ax = plt.subplots(1,1,figsize=(10,10))\n",
    "    plt.title('Confusion Matrix',size=18,pad=20)\n",
    "    sns.heatmap(cfn/np.sum(cfn,axis=0)*100,cmap='Blues',annot = True,fmt='.2f',annot_kws={'size':10},ax=ax);\n",
    "    plt.xticks(np.arange(len(LABELS))+.5,LABELS,rotation = 90,size=12);\n",
    "    plt.yticks(np.arange(len(LABELS))+.5,LABELS,rotation = 0,size=12);\n",
    "    plt.xlabel('PREDICTED',size=16);\n",
    "    plt.ylabel('ACTUAL',size=16);\n",
    "    for t in ax.texts: t.set_text(t.get_text() + \" %\")\n",
    "    \n",
    "    plt.show()"
   ]
  },
  {
   "cell_type": "code",
   "execution_count": 45,
   "id": "80189c2f",
   "metadata": {
    "ExecuteTime": {
     "end_time": "2022-02-09T15:26:32.922434Z",
     "start_time": "2022-02-09T15:26:27.324606Z"
    },
    "hidden": true,
    "id": "80189c2f"
   },
   "outputs": [
    {
     "data": {
      "image/png": "[encoded data removed]",
      "text/plain": [
       "<Figure size 720x720 with 2 Axes>"
      ]
     },
     "metadata": {
      "needs_background": "light"
     },
     "output_type": "display_data"
    }
   ],
   "source": [
    "show_confusion_matrix(y_true,y_pred)"
   ]
  },
  {
   "cell_type": "code",
   "execution_count": null,
   "id": "f03e95e4",
   "metadata": {
    "hidden": true
   },
   "outputs": [],
   "source": []
  }
 ],
 "metadata": {
  "accelerator": "GPU",
  "colab": {
   "machine_shape": "hm",
   "name": "training_v2.ipynb",
   "provenance": [],
   "toc_visible": true
  },
  "kernelspec": {
   "display_name": "Python 3 (ipykernel)",
   "language": "python",
   "name": "python3"
  },
  "language_info": {
   "codemirror_mode": {
    "name": "ipython",
    "version": 3
   },
   "file_extension": ".py",
   "mimetype": "text/x-python",
   "name": "python",
   "nbconvert_exporter": "python",
   "pygments_lexer": "ipython3",
   "version": "3.8.12"
  },
  "toc": {
   "base_numbering": 1,
   "nav_menu": {},
   "number_sections": true,
   "sideBar": true,
   "skip_h1_title": false,
   "title_cell": "Table of Contents",
   "title_sidebar": "Contents",
   "toc_cell": true,
   "toc_position": {
    "height": "calc(100% - 180px)",
    "left": "10px",
    "top": "150px",
    "width": "288px"
   },
   "toc_section_display": true,
   "toc_window_display": true
  },
  "varInspector": {
   "cols": {
    "lenName": 16,
    "lenType": 16,
    "lenVar": 40
   },
   "kernels_config": {
    "python": {
     "delete_cmd_postfix": "",
     "delete_cmd_prefix": "del ",
     "library": "var_list.py",
     "varRefreshCmd": "print(var_dic_list())"
    },
    "r": {
     "delete_cmd_postfix": ") ",
     "delete_cmd_prefix": "rm(",
     "library": "var_list.r",
     "varRefreshCmd": "cat(var_dic_list()) "
    }
   },
   "types_to_exclude": [
    "module",
    "function",
    "builtin_function_or_method",
    "instance",
    "_Feature"
   ],
   "window_display": false
  }
 },
 "nbformat": 4,
 "nbformat_minor": 5
}
