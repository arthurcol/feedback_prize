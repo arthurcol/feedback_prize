{
 "cells": [
  {
   "cell_type": "code",
   "execution_count": 1,
   "id": "f3ebefe8",
   "metadata": {
    "ExecuteTime": {
     "end_time": "2022-01-27T13:53:58.020625Z",
     "start_time": "2022-01-27T13:53:42.107663Z"
    }
   },
   "outputs": [],
   "source": [
    "import tensorflow as tf"
   ]
  },
  {
   "cell_type": "code",
   "execution_count": 18,
   "id": "139c5054",
   "metadata": {
    "ExecuteTime": {
     "end_time": "2022-01-27T14:19:13.036014Z",
     "start_time": "2022-01-27T14:19:13.032542Z"
    }
   },
   "outputs": [],
   "source": [
    "lrscheduler = tf.keras.callbacks.LambdaCallback(on_epoch_end = lambda )"
   ]
  },
  {
   "cell_type": "code",
   "execution_count": 19,
   "id": "cd9e8c3b",
   "metadata": {
    "ExecuteTime": {
     "end_time": "2022-01-27T14:19:27.970376Z",
     "start_time": "2022-01-27T14:19:13.564448Z"
    }
   },
   "outputs": [
    {
     "name": "stdout",
     "output_type": "stream",
     "text": [
      "Epoch 1/3\n",
      "1560/1563 [============================>.] - ETA: 0s - loss: 0.2946 - accuracy: 0.9135\n",
      " one epoch done!\n",
      "\n",
      "1563/1563 [==============================] - 5s 3ms/step - loss: 0.2942 - accuracy: 0.9136 - val_loss: 0.1546 - val_accuracy: 0.9557\n",
      "Epoch 2/3\n",
      "1554/1563 [============================>.] - ETA: 0s - loss: 0.1651 - accuracy: 0.9536\n",
      " one epoch done!\n",
      "\n",
      "1563/1563 [==============================] - 5s 3ms/step - loss: 0.1650 - accuracy: 0.9536 - val_loss: 0.1354 - val_accuracy: 0.9637\n",
      "Epoch 3/3\n",
      "1555/1563 [============================>.] - ETA: 0s - loss: 0.1405 - accuracy: 0.9629\n",
      " one epoch done!\n",
      "\n",
      "1563/1563 [==============================] - 5s 3ms/step - loss: 0.1403 - accuracy: 0.9629 - val_loss: 0.1123 - val_accuracy: 0.9715\n"
     ]
    },
    {
     "data": {
      "text/plain": [
       "<keras.callbacks.History at 0x133a7e3d0>"
      ]
     },
     "execution_count": 19,
     "metadata": {},
     "output_type": "execute_result"
    }
   ],
   "source": [
    "from tensorflow.keras.datasets import mnist\n",
    "\n",
    "def get_mnist_model():\n",
    "    inputs = tf.keras.Input(shape=(28 * 28,))\n",
    "    features = tf.keras.layers.Dense(512, activation=\"relu\")(inputs) \n",
    "    features = tf.keras.layers.Dropout(0.5)(features)\n",
    "    outputs = tf.keras.layers.Dense(10, activation=\"softmax\")(features)\n",
    "\n",
    "    model = tf.keras.Model(inputs, outputs) \n",
    "    return model\n",
    "\n",
    "(images, labels), (test_images, test_labels) = mnist.load_data()\n",
    "\n",
    "images = images.reshape((60000, 28 * 28)).astype(\"float32\") / 255 \n",
    "\n",
    "test_images = test_images.reshape((10000, 28 * 28)).astype(\"float32\") / 255 \n",
    "\n",
    "train_images, val_images = images[10000:], images[:10000]\n",
    "train_labels, val_labels = labels[10000:], labels[:10000]\n",
    "\n",
    "model = get_mnist_model()\n",
    "model.compile(optimizer=\"rmsprop\",\n",
    "              loss=\"sparse_categorical_crossentropy\",\n",
    "              metrics=[\"accuracy\"])\n",
    "\n",
    "model.fit(train_images, train_labels,\n",
    "        epochs=3,\n",
    "        validation_data=(val_images, val_labels),callbacks=[lrscheduler])"
   ]
  },
  {
   "cell_type": "code",
   "execution_count": null,
   "id": "29022e0c",
   "metadata": {},
   "outputs": [],
   "source": []
  }
 ],
 "metadata": {
  "kernelspec": {
   "display_name": "Python 3 (ipykernel)",
   "language": "python",
   "name": "python3"
  },
  "language_info": {
   "codemirror_mode": {
    "name": "ipython",
    "version": 3
   },
   "file_extension": ".py",
   "mimetype": "text/x-python",
   "name": "python",
   "nbconvert_exporter": "python",
   "pygments_lexer": "ipython3",
   "version": "3.8.12"
  },
  "toc": {
   "base_numbering": 1,
   "nav_menu": {},
   "number_sections": true,
   "sideBar": true,
   "skip_h1_title": false,
   "title_cell": "Table of Contents",
   "title_sidebar": "Contents",
   "toc_cell": false,
   "toc_position": {},
   "toc_section_display": true,
   "toc_window_display": false
  },
  "varInspector": {
   "cols": {
    "lenName": 16,
    "lenType": 16,
    "lenVar": 40
   },
   "kernels_config": {
    "python": {
     "delete_cmd_postfix": "",
     "delete_cmd_prefix": "del ",
     "library": "var_list.py",
     "varRefreshCmd": "print(var_dic_list())"
    },
    "r": {
     "delete_cmd_postfix": ") ",
     "delete_cmd_prefix": "rm(",
     "library": "var_list.r",
     "varRefreshCmd": "cat(var_dic_list()) "
    }
   },
   "types_to_exclude": [
    "module",
    "function",
    "builtin_function_or_method",
    "instance",
    "_Feature"
   ],
   "window_display": false
  }
 },
 "nbformat": 4,
 "nbformat_minor": 5
}
