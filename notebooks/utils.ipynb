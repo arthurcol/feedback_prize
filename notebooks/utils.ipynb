{
 "cells": [
  {
   "cell_type": "markdown",
   "id": "9b1e0525",
   "metadata": {},
   "source": [
    "# Imports and data loading"
   ]
  },
  {
   "cell_type": "code",
   "execution_count": 11,
   "id": "d09b1154",
   "metadata": {
    "ExecuteTime": {
     "end_time": "2022-02-14T17:47:42.080464Z",
     "start_time": "2022-02-14T17:47:39.447048Z"
    }
   },
   "outputs": [],
   "source": [
    "\n",
    "import pandas as pd\n",
    "import numpy as np \n",
    "import matplotlib.pyplot as plt\n",
    "import seaborn as sns\n",
    "\n",
    "from IPython.display import HTML"
   ]
  },
  {
   "cell_type": "code",
   "execution_count": 12,
   "id": "36a2c14a",
   "metadata": {
    "ExecuteTime": {
     "end_time": "2022-02-14T17:48:09.482598Z",
     "start_time": "2022-02-14T17:48:09.468757Z"
    }
   },
   "outputs": [],
   "source": [
    "# loading only a sample for testing purposes\n",
    "df = pd.read_csv('../raw_data/train.csv',nrows=300)"
   ]
  },
  {
   "cell_type": "markdown",
   "id": "ee8eeff1",
   "metadata": {},
   "source": [
    "# Showing ground truth and prediction in text"
   ]
  },
  {
   "cell_type": "code",
   "execution_count": 112,
   "id": "4a3f06ab",
   "metadata": {
    "ExecuteTime": {
     "end_time": "2022-02-15T14:28:01.286117Z",
     "start_time": "2022-02-15T14:28:01.183939Z"
    }
   },
   "outputs": [
    {
     "data": {
      "text/html": [
       "<style>\n",
       ".column {\n",
       "  float: left;\n",
       "  width: 50%;\n",
       "  /*margin-top:10px;*/\n",
       "  border-right: 2px dotted black;\n",
       "  text-align:justify;\n",
       "  }\n",
       ".column:first-child {\n",
       "  padding-right:16px;\n",
       "  padding-left:0px;\n",
       "  }\n",
       "\n",
       ".column:last-child {\n",
       "  padding-right:0px;\n",
       "  padding-left:15px;\n",
       "  border: none;\n",
       "  }\n",
       "\n",
       ".row:after {\n",
       "  content: \"\";\n",
       "  display: table;\n",
       "  clear: both;\n",
       "  text-align:left\n",
       "  }\n",
       "\n",
       ".title {\n",
       "  text-align:center;\n",
       "  padding-bottom: 15px;\n",
       "  padding-top: 0;\n",
       "  margin-top: 0;\n",
       "  border-bottom: 2px dotted black\n",
       " }\n",
       "\n",
       "\n",
       "div.content > * {\n",
       "  text-align: center;\n",
       "  font-weight: bold;\n",
       "  padding-right: 10px;\n",
       "  padding-left: 10px;\n",
       "  padding-top: 5px ;\n",
       "  padding-bottom:5px;\n",
       " }\n",
       "\n",
       ".content {\n",
       "  display:flex;\n",
       "  justify-content:space-evenly;\n",
       "  margin: 0px auto;\n",
       "  margin-bottom: 5px;\n",
       "  background: #FFFFFF;\n",
       "  padding-block: 10px;\n",
       "  max-width:auto;\n",
       "  border: 2px solid black;\n",
       "  }\n",
       "\n",
       "/*styles for each discourse type*/\n",
       "\n",
       "Lead {\n",
       "    background-color:#ff8585;\n",
       "  }\n",
       "Position {\n",
       "  background-color: #7cf0ff;\n",
       "  }\n",
       "Evidence {\n",
       "  background-color: #badcfc;\n",
       "  }\n",
       "Claim {\n",
       "  background-color: #3a3dff;\n",
       "  }\n",
       "Concluding_Statement {\n",
       "  background-color: #ff7df9;\n",
       "  }\n",
       "Counterclaim {\n",
       "  background-color: #4d92e0;\n",
       "  }\n",
       "Rebuttal {\n",
       "  background-color: #ffd57c;\n",
       "  }\n",
       "</style>"
      ],
      "text/plain": [
       "<IPython.core.display.HTML object>"
      ]
     },
     "execution_count": 112,
     "metadata": {},
     "output_type": "execute_result"
    }
   ],
   "source": [
    "#import custom.css into this notebook\n",
    "\n",
    "def css():\n",
    "    styles = open(\"./styles/custom.css\", \"r\").read()\n",
    "    return HTML('<style>'+styles+'</style>')\n",
    "css()"
   ]
  },
  {
   "cell_type": "code",
   "execution_count": 104,
   "id": "703baf88",
   "metadata": {
    "ExecuteTime": {
     "end_time": "2022-02-14T20:22:58.368090Z",
     "start_time": "2022-02-14T20:22:58.289671Z"
    }
   },
   "outputs": [],
   "source": [
    "def render_html(df):\n",
    "    return \"<{0} style='padding: 2px'>{1} <strong> [{0}] </strong></{0}>\".format(df['discourse_type'],df['discourse_text'])"
   ]
  },
  {
   "cell_type": "code",
   "execution_count": 106,
   "id": "eafb22ad",
   "metadata": {
    "ExecuteTime": {
     "end_time": "2022-02-14T20:24:18.459300Z",
     "start_time": "2022-02-14T20:24:18.452825Z"
    }
   },
   "outputs": [],
   "source": [
    "def comparison_text(prediction=pred, ground_truth=true):\n",
    "    html = f\"\"\"\n",
    "    <div class=\"content\">\n",
    "     <span style=\"font-size:16px\">Legend --></span>\n",
    "      <lead>Lead</lead>\n",
    "      <Position>Position</Position>\n",
    "      <Claim>Claim</Claim>\n",
    "      <Counterclaim>Counterclaim</Counterclaim>\n",
    "      <Rebuttal>Rebuttal</Rebuttal>\n",
    "      <Evidence>Evidence</Evidence>\n",
    "      <Concluding_Statement>Concluding_Statement</Concluding_Statement>\n",
    "    </div>\n",
    "\n",
    "    <div class=\"row\">\n",
    "      <div class=\"column\">\n",
    "        <h2 class=\"title\">Prediction</h2>\n",
    "        <p style=\"text-align:justify\">{pred}</p>\n",
    "      </div>\n",
    "      <div class=\"column\">\n",
    "        <h2 class=\"title\">Ground Truth</h2>\n",
    "        <p style=\"text-align:justify\">{true}</p>\n",
    "      </div>\n",
    "    </div>\n",
    "    \n",
    "    \"\"\"\n",
    "    \n",
    "    return HTML(html)"
   ]
  },
  {
   "cell_type": "code",
   "execution_count": 102,
   "id": "b513750b",
   "metadata": {
    "ExecuteTime": {
     "end_time": "2022-02-14T18:15:43.568970Z",
     "start_time": "2022-02-14T18:15:43.554821Z"
    }
   },
   "outputs": [],
   "source": [
    "# as if the output were post processed ; just to see \n",
    "\n",
    "df['html'] = df.apply(render_html, axis=1) #transform discourse_text in html txt with formating \n",
    "df_essays = df.groupby('id').agg({'html':' '.join,}).reset_index() #groupby essay id\n",
    "\n",
    "true = df_essays.loc[7,'html'].replace('Concluding Statement','Concluding_Statement')\n",
    "pred = df_essays.loc[15,'html'].replace('Concluding Statement','Concluding_Statement')"
   ]
  },
  {
   "cell_type": "code",
   "execution_count": 115,
   "id": "756fcffb",
   "metadata": {
    "ExecuteTime": {
     "end_time": "2022-02-15T18:32:31.663131Z",
     "start_time": "2022-02-15T18:32:31.657046Z"
    }
   },
   "outputs": [
    {
     "data": {
      "text/html": [
       "\n",
       "    <div class=\"content\">\n",
       "     <span style=\"font-size:16px\">Legend --></span>\n",
       "      <lead>Lead</lead>\n",
       "      <Position>Position</Position>\n",
       "      <Claim>Claim</Claim>\n",
       "      <Counterclaim>Counterclaim</Counterclaim>\n",
       "      <Rebuttal>Rebuttal</Rebuttal>\n",
       "      <Evidence>Evidence</Evidence>\n",
       "      <Concluding_Statement>Concluding_Statement</Concluding_Statement>\n",
       "    </div>\n",
       "\n",
       "    <div class=\"row\">\n",
       "      <div class=\"column\">\n",
       "        <h2 class=\"title\">Prediction</h2>\n",
       "        <p style=\"text-align:justify\"><Lead style='padding: 2px'>The ability to stay connected to people we know despite distance was originally brought to fruition by the use of letters. This system was found to be rather slow and new pathways were searched for until the invention of the telegram; the people thought it was an invention of the millennia, but after time it too was thought of as slow until the invention of the telephone. Today, a telephone is in the hand or pocket of a majority of the seven billion people on planet earth <strong> [Lead] </strong></Lead> <Position style='padding: 2px'> However, this device is taken to areas that it is irresponsible and dangerous.  <strong> [Position] </strong></Position> <Claim style='padding: 2px'>Within a vehicle capable of traveling upwards of one hundred miles per hour any possible distraction can become fatal spontaneously  <strong> [Claim] </strong></Claim> <Evidence style='padding: 2px'>The most common of these distractions is a cell phone, with its capabilities to connect us to anyone also in ownership of one, it is easy to pick it up whenever it sounds. In that split second of reaching over for a phone, eyes no longer on the road, it is impossible to no an exact location of anything, making an extremely dangerous action. For the myriad of possibilities that lead to serious injury cell phones should stay in the current state they are in regards of the law, but taken as a more serious offense.  <strong> [Evidence] </strong></Evidence> <Counterclaim style='padding: 2px'>Conversely people may believe that laws in present need to change, becoming less restrictive. People have the right to communicate with whom they wish, when or wherever they may choose to do so. <strong> [Counterclaim] </strong></Counterclaim> <Rebuttal style='padding: 2px'>The problem becomes apparent that this is a selfish process of thought; people aren't thinking of those they share the road with. Laws currently in place are not to punish people making poor choices, they are an attempt to keep people safe.  <strong> [Rebuttal] </strong></Rebuttal> <Concluding_Statement style='padding: 2px'>The creation of telecommunication devices was to keep connected to others without regard to the obsession that would encompass the human mind that was bound to follow. The safety of people is top priority without exemption.  <strong> [Concluding_Statement] </strong></Concluding_Statement></p>\n",
       "      </div>\n",
       "      <div class=\"column\">\n",
       "        <h2 class=\"title\">Ground Truth</h2>\n",
       "        <p style=\"text-align:justify\"><Position style='padding: 2px'>Drivers should absolutely never be able to use a cell phone while driving. <strong> [Position] </strong></Position> <Evidence style='padding: 2px'>This is evident as in recent years there has been a big problem in our society with drivers using their cell phones while driving. It has gotten so bad that it has become illegal because driving while using a cell phone is more likely to be the cause of a fatal accident, than when a person drives under the influence of drugs or alcohol.\n",
       " <strong> [Evidence] </strong></Evidence> <Evidence style='padding: 2px'>Use a hands free device at all times while driving. I say this because a cell phone will take your attention off of the task at hand. A driver's focus should be maintained on only driving to ensure safety <strong> [Evidence] </strong></Evidence> <Claim style='padding: 2px'> It has been proven that driving while using a cell phone is the cause of more vehicular accidents resulting in a fatality than those caused by drivers who are under the influence of drugs or alcohol.  <strong> [Claim] </strong></Claim> <Evidence style='padding: 2px'>In two thousand and thirteen there were three thousand one hundred fifty-four people killed in distracted driver related crashes. In just one year's time, there are three hundred and ninety thousand people injured in accidents caused by texting and driving. I personally do not use my cell phone when I drive, because it distracts me very easily. <strong> [Evidence] </strong></Evidence> <Claim style='padding: 2px'> I suggest that drivers should be able to use their cell phone for an emergency purpose only. Even in a crisis situation, the driver should pull over to the side of the road before making a call.  <strong> [Claim] </strong></Claim> <Claim style='padding: 2px'>I also encourage that the cell phone companies should be made to have the cell phone come from the factory to where if your cellphone is moving, it will not be allowed to ring or give you any notifications.  <strong> [Claim] </strong></Claim> <Evidence style='padding: 2px'>In order to get your notifications, you will have to manually tell your cellphone to read that you are not driving for it to allow you to open the phone. It will then give you the notifications and or missed calls you have missed. In addition, it will not allow you to access absolutely any of your social media platforms or let you get social media notifications while you are driving.  <strong> [Evidence] </strong></Evidence> <Concluding_Statement style='padding: 2px'>In conclusion, my opinion on whether drivers should be using their cell phones while driving is that they should refrain from using their cell phone while driving. This is because driving is a task that requires a lot of focus and a cell phone is very distracting.\n",
       "\n",
       "Driving while using a cell phone is now illegal because of how dangerous it is.     <strong> [Concluding_Statement] </strong></Concluding_Statement></p>\n",
       "      </div>\n",
       "    </div>\n",
       "    \n",
       "    "
      ],
      "text/plain": [
       "<IPython.core.display.HTML object>"
      ]
     },
     "execution_count": 115,
     "metadata": {},
     "output_type": "execute_result"
    }
   ],
   "source": [
    "comparison_text(pred,true)"
   ]
  },
  {
   "cell_type": "code",
   "execution_count": null,
   "id": "7eeb7b82",
   "metadata": {},
   "outputs": [],
   "source": []
  }
 ],
 "metadata": {
  "kernelspec": {
   "display_name": "Python 3 (ipykernel)",
   "language": "python",
   "name": "python3"
  },
  "language_info": {
   "codemirror_mode": {
    "name": "ipython",
    "version": 3
   },
   "file_extension": ".py",
   "mimetype": "text/x-python",
   "name": "python",
   "nbconvert_exporter": "python",
   "pygments_lexer": "ipython3",
   "version": "3.8.12"
  },
  "toc": {
   "base_numbering": 1,
   "nav_menu": {},
   "number_sections": true,
   "sideBar": true,
   "skip_h1_title": false,
   "title_cell": "Table of Contents",
   "title_sidebar": "Contents",
   "toc_cell": false,
   "toc_position": {},
   "toc_section_display": true,
   "toc_window_display": false
  },
  "varInspector": {
   "cols": {
    "lenName": 16,
    "lenType": 16,
    "lenVar": 40
   },
   "kernels_config": {
    "python": {
     "delete_cmd_postfix": "",
     "delete_cmd_prefix": "del ",
     "library": "var_list.py",
     "varRefreshCmd": "print(var_dic_list())"
    },
    "r": {
     "delete_cmd_postfix": ") ",
     "delete_cmd_prefix": "rm(",
     "library": "var_list.r",
     "varRefreshCmd": "cat(var_dic_list()) "
    }
   },
   "types_to_exclude": [
    "module",
    "function",
    "builtin_function_or_method",
    "instance",
    "_Feature"
   ],
   "window_display": false
  }
 },
 "nbformat": 4,
 "nbformat_minor": 5
}
