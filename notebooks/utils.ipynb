{
 "cells": [
  {
   "cell_type": "markdown",
   "id": "9b1e0525",
   "metadata": {},
   "source": [
    "# Imports and data loading"
   ]
  },
  {
   "cell_type": "code",
   "execution_count": 29,
   "id": "d09b1154",
   "metadata": {
    "ExecuteTime": {
     "end_time": "2022-02-18T17:52:46.672056Z",
     "start_time": "2022-02-18T17:52:46.667445Z"
    }
   },
   "outputs": [],
   "source": [
    "\n",
    "import pandas as pd\n",
    "import numpy as np \n",
    "import matplotlib.pyplot as plt\n",
    "import seaborn as sns\n",
    "import re\n",
    "\n",
    "from tqdm.notebook import tqdm\n",
    "from IPython.display import HTML"
   ]
  },
  {
   "cell_type": "code",
   "execution_count": 10,
   "id": "36a2c14a",
   "metadata": {
    "ExecuteTime": {
     "end_time": "2022-02-18T17:49:52.691631Z",
     "start_time": "2022-02-18T17:49:52.682516Z"
    }
   },
   "outputs": [],
   "source": [
    "# loading only a sample for testing purposes\n",
    "df = pd.read_csv('../raw_data/train.csv',nrows=300)"
   ]
  },
  {
   "cell_type": "markdown",
   "id": "92547841",
   "metadata": {},
   "source": [
    "# Get None type discourses\n",
    "\n",
    "<font size=4 color='red'>**Lovely, something *is off***</font>"
   ]
  },
  {
   "cell_type": "code",
   "execution_count": 23,
   "id": "677932d1",
   "metadata": {
    "ExecuteTime": {
     "end_time": "2022-02-18T17:52:25.507958Z",
     "start_time": "2022-02-18T17:52:25.502925Z"
    }
   },
   "outputs": [],
   "source": [
    "def flag_gaps(df,return_filtered=False):\n",
    "    \"\"\"\n",
    "    Add 2 new columns to the df passed : next_start and gap_flag\n",
    "    \n",
    "    next_start : char position of the next discourse\n",
    "    gap_flag : 1 if the next discourse is missing i.e. next_start and discourse_start of the next\n",
    "    row does not match\n",
    "    \n",
    "    if return_filtered = True, returns only the rows where gap_flag=1\n",
    "    \"\"\"\n",
    "    df['next_start']=df['discourse_start'].shift(-1)\n",
    "    df['next_predictionstring']=df['predictionstring'].shift(-1)\n",
    "    df['gap_flag']=np.where(df['next_start']-df['discourse_end']>3,1,0)\n",
    "    \n",
    "    if return_filtered:\n",
    "        return df[df['gap_flag']==1]\n",
    "    \n",
    "    return None"
   ]
  },
  {
   "cell_type": "code",
   "execution_count": 24,
   "id": "0b5238ce",
   "metadata": {
    "ExecuteTime": {
     "end_time": "2022-02-18T17:52:25.631733Z",
     "start_time": "2022-02-18T17:52:25.618147Z"
    }
   },
   "outputs": [],
   "source": [
    "## Create missing discourses for a single essay\n",
    "def row_creator(df_filtered):\n",
    "    \"\"\"\n",
    "    Returns a DF with missing discourses to be labeled as None. \n",
    "    Must be passed a filtered DF where each row flags a gap. \n",
    "    This function works at single doc-ID level.\n",
    "    \"\"\"\n",
    "\n",
    "    start_new = df_filtered['discourse_end'] + 1\n",
    "    end_new = df_filtered['next_start'] - 1\n",
    "    \n",
    "    start_new.reset_index(drop=True,inplace=True)\n",
    "    end_new.reset_index(drop=True,inplace=True)\n",
    "    \n",
    "    #import ipdb ; ipdb.set_trace()\n",
    "    \n",
    "    predictionstring_start = df_filtered['predictionstring']\\\n",
    "                            .apply(lambda string : int(string.split()[-1])+1)\n",
    "    predictionstring_end = df_filtered['next_predictionstring']\\\n",
    "                            .apply(lambda string : int(string.split()[0])-1)\n",
    "    \n",
    "    f = np.vectorize(lambda a,b : ' '.join(list(map(str,range(a,b+1)))),otypes=[str])\n",
    "    \n",
    "    predictionstring= f(predictionstring_start,predictionstring_end)\n",
    "    \n",
    "    discourse_type_num = [f'None {i+1}' for i in range(len(df_filtered))]\n",
    "    \n",
    "    id_ = df_filtered['id'].copy().reset_index(drop=True)\n",
    "    \n",
    "    x = pd.DataFrame({\n",
    "                        'id':id_,\n",
    "                        'discourse_start':start_new,\n",
    "                        'discourse_end':end_new,\n",
    "                        'predictionstring':predictionstring,\n",
    "                        'discourse_type': 'None',\n",
    "                        'discourse_type_num':discourse_type_num\n",
    "                    },columns=df_filtered.columns)\n",
    "\n",
    "\n",
    "    return x"
   ]
  },
  {
   "cell_type": "code",
   "execution_count": 25,
   "id": "8b9b040f",
   "metadata": {
    "ExecuteTime": {
     "end_time": "2022-02-18T17:52:25.735758Z",
     "start_time": "2022-02-18T17:52:25.729591Z"
    }
   },
   "outputs": [],
   "source": [
    "## Slicer from full text to discourses\n",
    "def text_to_slices(full_text,start,end):\n",
    "    \"\"\"\n",
    "    Returns a slice of full_text according to start and end args.\n",
    "    \"\"\"\n",
    "    sliced_text = full_text[int(start):int(end)]\n",
    "    sliced_text= re.sub('\\n$',' ',sliced_text) #check whether it works with most of ids\n",
    "    sliced_text= re.sub('^\\n',' ',sliced_text)\n",
    "    return sliced_text\n",
    "\n",
    "## vectorize the function for later use\n",
    "slicer_vectorized=np.vectorize(text_to_slices,excluded=['full_text'],otypes=[str])"
   ]
  },
  {
   "cell_type": "code",
   "execution_count": 26,
   "id": "8892cbd6",
   "metadata": {
    "ExecuteTime": {
     "end_time": "2022-02-18T17:52:26.704127Z",
     "start_time": "2022-02-18T17:52:26.700210Z"
    }
   },
   "outputs": [],
   "source": [
    "## Get text of an essay id\n",
    "def get_essay(id_):\n",
    "    \"\"\"\n",
    "    Returns the text from the .txt file in raw_data/train directory.\n",
    "    \"\"\"\n",
    "    with open(f'../raw_data/train/{id_}.txt','r') as file :\n",
    "        text = file.read()\n",
    "    return text"
   ]
  },
  {
   "cell_type": "code",
   "execution_count": 27,
   "id": "3e67d6de",
   "metadata": {
    "ExecuteTime": {
     "end_time": "2022-02-18T17:52:27.456039Z",
     "start_time": "2022-02-18T17:52:27.449766Z"
    }
   },
   "outputs": [],
   "source": [
    "def gap_filler(df):\n",
    "    \n",
    "    \"\"\"\n",
    "    Returns an augmented dataframe with the missing discourses labelled None, for all the essays.\n",
    "    This function makes use of precedent functions working at single essay level.\n",
    "    \"\"\"\n",
    "    \n",
    "    df_augm=df.copy()\n",
    "\n",
    "    ids = df_augm.id.unique()\n",
    "\n",
    "    for i in tqdm(ids):\n",
    "        full_text = get_essay(i)\n",
    "        df_augm_ = df_augm[df_augm['id']==i].copy()\n",
    "        df_augm_ = flag_gaps(df_augm_,return_filtered=True)\n",
    "        df_augm_ = row_creator(df_augm_)\n",
    "        df_augm_['discourse_text'] = slicer_vectorized(full_text,\n",
    "                                                       df_augm_['discourse_start'],\n",
    "                                                       df_augm_['discourse_end'])\n",
    "        df_augm = df_augm.append(df_augm_)\n",
    "\n",
    "    df_augm.drop(['next_start','next_predictionstring','gap_flag'],axis=1,inplace=True)\n",
    "    \n",
    "    id_max=df_augm.discourse_id.max()\n",
    "    n_none=len(df_augm[df_augm.discourse_id.isna()])\n",
    "    new_ids=np.random.choice(np.arange(id_max,id_max+n_none*1000),n_none)\n",
    "    \n",
    "    df_augm.loc[df_augm.discourse_id.isna(),'discourse_id']=new_ids\n",
    "    \n",
    "    return df_augm\n",
    "    "
   ]
  },
  {
   "cell_type": "code",
   "execution_count": 30,
   "id": "e5e32f54",
   "metadata": {
    "ExecuteTime": {
     "end_time": "2022-02-18T17:52:52.092042Z",
     "start_time": "2022-02-18T17:52:51.689160Z"
    }
   },
   "outputs": [
    {
     "data": {
      "application/vnd.jupyter.widget-view+json": {
       "model_id": "071a7b07ea2341a8aeda80db64012c26",
       "version_major": 2,
       "version_minor": 0
      },
      "text/plain": [
       "  0%|          | 0/34 [00:00<?, ?it/s]"
      ]
     },
     "metadata": {},
     "output_type": "display_data"
    }
   ],
   "source": [
    "df_augm=gap_filler(df)"
   ]
  },
  {
   "cell_type": "code",
   "execution_count": 47,
   "id": "419a1fc3",
   "metadata": {
    "ExecuteTime": {
     "end_time": "2022-02-18T17:57:24.378558Z",
     "start_time": "2022-02-18T17:57:24.358591Z"
    }
   },
   "outputs": [
    {
     "data": {
      "text/html": [
       "<div>\n",
       "<style scoped>\n",
       "    .dataframe tbody tr th:only-of-type {\n",
       "        vertical-align: middle;\n",
       "    }\n",
       "\n",
       "    .dataframe tbody tr th {\n",
       "        vertical-align: top;\n",
       "    }\n",
       "\n",
       "    .dataframe thead th {\n",
       "        text-align: right;\n",
       "    }\n",
       "</style>\n",
       "<table border=\"1\" class=\"dataframe\">\n",
       "  <thead>\n",
       "    <tr style=\"text-align: right;\">\n",
       "      <th></th>\n",
       "      <th>id</th>\n",
       "      <th>discourse_id</th>\n",
       "      <th>discourse_start</th>\n",
       "      <th>discourse_end</th>\n",
       "      <th>discourse_text</th>\n",
       "      <th>discourse_type</th>\n",
       "      <th>discourse_type_num</th>\n",
       "      <th>predictionstring</th>\n",
       "      <th>html</th>\n",
       "    </tr>\n",
       "  </thead>\n",
       "  <tbody>\n",
       "    <tr>\n",
       "      <th>0</th>\n",
       "      <td>423A1CA112E2</td>\n",
       "      <td>1622627660524.0</td>\n",
       "      <td>8.0</td>\n",
       "      <td>229.0</td>\n",
       "      <td>Modern humans today are always on their phone....</td>\n",
       "      <td>Lead</td>\n",
       "      <td>Lead 1</td>\n",
       "      <td>1 2 3 4 5 6 7 8 9 10 11 12 13 14 15 16 17 18 1...</td>\n",
       "      <td>&lt;Lead style='padding: 2px'&gt;Modern humans today...</td>\n",
       "    </tr>\n",
       "    <tr>\n",
       "      <th>1</th>\n",
       "      <td>423A1CA112E2</td>\n",
       "      <td>1622627653021.0</td>\n",
       "      <td>230.0</td>\n",
       "      <td>312.0</td>\n",
       "      <td>They are some really bad consequences when stu...</td>\n",
       "      <td>Position</td>\n",
       "      <td>Position 1</td>\n",
       "      <td>45 46 47 48 49 50 51 52 53 54 55 56 57 58 59</td>\n",
       "      <td>&lt;Position style='padding: 2px'&gt;They are some r...</td>\n",
       "    </tr>\n",
       "    <tr>\n",
       "      <th>2</th>\n",
       "      <td>423A1CA112E2</td>\n",
       "      <td>1622627671020.0</td>\n",
       "      <td>313.0</td>\n",
       "      <td>401.0</td>\n",
       "      <td>Some certain areas in the United States ban ph...</td>\n",
       "      <td>Evidence</td>\n",
       "      <td>Evidence 1</td>\n",
       "      <td>60 61 62 63 64 65 66 67 68 69 70 71 72 73 74 75</td>\n",
       "      <td>&lt;Evidence style='padding: 2px'&gt;Some certain ar...</td>\n",
       "    </tr>\n",
       "    <tr>\n",
       "      <th>3</th>\n",
       "      <td>423A1CA112E2</td>\n",
       "      <td>1622627696365.0</td>\n",
       "      <td>402.0</td>\n",
       "      <td>758.0</td>\n",
       "      <td>When people have phones, they know about certa...</td>\n",
       "      <td>Evidence</td>\n",
       "      <td>Evidence 2</td>\n",
       "      <td>76 77 78 79 80 81 82 83 84 85 86 87 88 89 90 9...</td>\n",
       "      <td>&lt;Evidence style='padding: 2px'&gt;When people hav...</td>\n",
       "    </tr>\n",
       "    <tr>\n",
       "      <th>4</th>\n",
       "      <td>423A1CA112E2</td>\n",
       "      <td>1622627759780.0</td>\n",
       "      <td>759.0</td>\n",
       "      <td>886.0</td>\n",
       "      <td>Driving is one of the way how to get around. P...</td>\n",
       "      <td>Claim</td>\n",
       "      <td>Claim 1</td>\n",
       "      <td>139 140 141 142 143 144 145 146 147 148 149 15...</td>\n",
       "      <td>&lt;Claim style='padding: 2px'&gt;Driving is one of ...</td>\n",
       "    </tr>\n",
       "    <tr>\n",
       "      <th>...</th>\n",
       "      <td>...</td>\n",
       "      <td>...</td>\n",
       "      <td>...</td>\n",
       "      <td>...</td>\n",
       "      <td>...</td>\n",
       "      <td>...</td>\n",
       "      <td>...</td>\n",
       "      <td>...</td>\n",
       "      <td>...</td>\n",
       "    </tr>\n",
       "    <tr>\n",
       "      <th>0</th>\n",
       "      <td>D0CBBD43827C</td>\n",
       "      <td>1623081274381.0</td>\n",
       "      <td>406.0</td>\n",
       "      <td>409.0</td>\n",
       "      <td>an</td>\n",
       "      <td>None</td>\n",
       "      <td>None 1</td>\n",
       "      <td>72</td>\n",
       "      <td>&lt;None style='padding: 2px'&gt; an &lt;strong&gt; [None]...</td>\n",
       "    </tr>\n",
       "    <tr>\n",
       "      <th>0</th>\n",
       "      <td>62644C50869C</td>\n",
       "      <td>1623081273049.0</td>\n",
       "      <td>356.0</td>\n",
       "      <td>358.0</td>\n",
       "      <td>or</td>\n",
       "      <td>None</td>\n",
       "      <td>None 1</td>\n",
       "      <td>61</td>\n",
       "      <td>&lt;None style='padding: 2px'&gt;or &lt;strong&gt; [None] ...</td>\n",
       "    </tr>\n",
       "    <tr>\n",
       "      <th>0</th>\n",
       "      <td>7FF6281EC288</td>\n",
       "      <td>1623081284926.0</td>\n",
       "      <td>131.0</td>\n",
       "      <td>143.0</td>\n",
       "      <td>For instance</td>\n",
       "      <td>None</td>\n",
       "      <td>None 1</td>\n",
       "      <td>21 22</td>\n",
       "      <td>&lt;None style='padding: 2px'&gt;For instance &lt;stron...</td>\n",
       "    </tr>\n",
       "    <tr>\n",
       "      <th>1</th>\n",
       "      <td>7FF6281EC288</td>\n",
       "      <td>1623081272125.0</td>\n",
       "      <td>171.0</td>\n",
       "      <td>176.0</td>\n",
       "      <td>Also,</td>\n",
       "      <td>None</td>\n",
       "      <td>None 2</td>\n",
       "      <td>27</td>\n",
       "      <td>&lt;None style='padding: 2px'&gt;Also, &lt;strong&gt; [Non...</td>\n",
       "    </tr>\n",
       "    <tr>\n",
       "      <th>2</th>\n",
       "      <td>7FF6281EC288</td>\n",
       "      <td>1623081277765.0</td>\n",
       "      <td>219.0</td>\n",
       "      <td>226.0</td>\n",
       "      <td>Lastly,</td>\n",
       "      <td>None</td>\n",
       "      <td>None 3</td>\n",
       "      <td>37</td>\n",
       "      <td>&lt;None style='padding: 2px'&gt;Lastly, &lt;strong&gt; [N...</td>\n",
       "    </tr>\n",
       "  </tbody>\n",
       "</table>\n",
       "<p>323 rows × 9 columns</p>\n",
       "</div>"
      ],
      "text/plain": [
       "              id     discourse_id  discourse_start  discourse_end  \\\n",
       "0   423A1CA112E2  1622627660524.0              8.0          229.0   \n",
       "1   423A1CA112E2  1622627653021.0            230.0          312.0   \n",
       "2   423A1CA112E2  1622627671020.0            313.0          401.0   \n",
       "3   423A1CA112E2  1622627696365.0            402.0          758.0   \n",
       "4   423A1CA112E2  1622627759780.0            759.0          886.0   \n",
       "..           ...              ...              ...            ...   \n",
       "0   D0CBBD43827C  1623081274381.0            406.0          409.0   \n",
       "0   62644C50869C  1623081273049.0            356.0          358.0   \n",
       "0   7FF6281EC288  1623081284926.0            131.0          143.0   \n",
       "1   7FF6281EC288  1623081272125.0            171.0          176.0   \n",
       "2   7FF6281EC288  1623081277765.0            219.0          226.0   \n",
       "\n",
       "                                       discourse_text discourse_type  \\\n",
       "0   Modern humans today are always on their phone....           Lead   \n",
       "1   They are some really bad consequences when stu...       Position   \n",
       "2   Some certain areas in the United States ban ph...       Evidence   \n",
       "3   When people have phones, they know about certa...       Evidence   \n",
       "4   Driving is one of the way how to get around. P...          Claim   \n",
       "..                                                ...            ...   \n",
       "0                                                  an           None   \n",
       "0                                                  or           None   \n",
       "0                                        For instance           None   \n",
       "1                                               Also,           None   \n",
       "2                                             Lastly,           None   \n",
       "\n",
       "   discourse_type_num                                   predictionstring  \\\n",
       "0              Lead 1  1 2 3 4 5 6 7 8 9 10 11 12 13 14 15 16 17 18 1...   \n",
       "1          Position 1       45 46 47 48 49 50 51 52 53 54 55 56 57 58 59   \n",
       "2          Evidence 1    60 61 62 63 64 65 66 67 68 69 70 71 72 73 74 75   \n",
       "3          Evidence 2  76 77 78 79 80 81 82 83 84 85 86 87 88 89 90 9...   \n",
       "4             Claim 1  139 140 141 142 143 144 145 146 147 148 149 15...   \n",
       "..                ...                                                ...   \n",
       "0              None 1                                                 72   \n",
       "0              None 1                                                 61   \n",
       "0              None 1                                              21 22   \n",
       "1              None 2                                                 27   \n",
       "2              None 3                                                 37   \n",
       "\n",
       "                                                 html  \n",
       "0   <Lead style='padding: 2px'>Modern humans today...  \n",
       "1   <Position style='padding: 2px'>They are some r...  \n",
       "2   <Evidence style='padding: 2px'>Some certain ar...  \n",
       "3   <Evidence style='padding: 2px'>When people hav...  \n",
       "4   <Claim style='padding: 2px'>Driving is one of ...  \n",
       "..                                                ...  \n",
       "0   <None style='padding: 2px'> an <strong> [None]...  \n",
       "0   <None style='padding: 2px'>or <strong> [None] ...  \n",
       "0   <None style='padding: 2px'>For instance <stron...  \n",
       "1   <None style='padding: 2px'>Also, <strong> [Non...  \n",
       "2   <None style='padding: 2px'>Lastly, <strong> [N...  \n",
       "\n",
       "[323 rows x 9 columns]"
      ]
     },
     "execution_count": 47,
     "metadata": {},
     "output_type": "execute_result"
    }
   ],
   "source": [
    "df_augm"
   ]
  },
  {
   "cell_type": "markdown",
   "id": "ee8eeff1",
   "metadata": {},
   "source": [
    "# Showing ground truth and prediction in text"
   ]
  },
  {
   "cell_type": "code",
   "execution_count": 1,
   "id": "4a3f06ab",
   "metadata": {
    "ExecuteTime": {
     "end_time": "2022-03-01T07:26:12.108909Z",
     "start_time": "2022-03-01T07:26:11.714060Z"
    }
   },
   "outputs": [
    {
     "ename": "NameError",
     "evalue": "name 'HTML' is not defined",
     "output_type": "error",
     "traceback": [
      "\u001b[0;31m---------------------------------------------------------------------------\u001b[0m",
      "\u001b[0;31mNameError\u001b[0m                                 Traceback (most recent call last)",
      "\u001b[0;32m/var/folders/zd/9ts3jb2s5472mty2sgdddp3m0000gn/T/ipykernel_29736/1237275642.py\u001b[0m in \u001b[0;36m<module>\u001b[0;34m\u001b[0m\n\u001b[1;32m      4\u001b[0m     \u001b[0mstyles\u001b[0m \u001b[0;34m=\u001b[0m \u001b[0mopen\u001b[0m\u001b[0;34m(\u001b[0m\u001b[0;34m\"./styles/custom.css\"\u001b[0m\u001b[0;34m,\u001b[0m \u001b[0;34m\"r\"\u001b[0m\u001b[0;34m)\u001b[0m\u001b[0;34m.\u001b[0m\u001b[0mread\u001b[0m\u001b[0;34m(\u001b[0m\u001b[0;34m)\u001b[0m\u001b[0;34m\u001b[0m\u001b[0;34m\u001b[0m\u001b[0m\n\u001b[1;32m      5\u001b[0m     \u001b[0;32mreturn\u001b[0m \u001b[0mHTML\u001b[0m\u001b[0;34m(\u001b[0m\u001b[0;34m'<style>'\u001b[0m\u001b[0;34m+\u001b[0m\u001b[0mstyles\u001b[0m\u001b[0;34m+\u001b[0m\u001b[0;34m'</style>'\u001b[0m\u001b[0;34m)\u001b[0m\u001b[0;34m\u001b[0m\u001b[0;34m\u001b[0m\u001b[0m\n\u001b[0;32m----> 6\u001b[0;31m \u001b[0mcss\u001b[0m\u001b[0;34m(\u001b[0m\u001b[0;34m)\u001b[0m\u001b[0;34m\u001b[0m\u001b[0;34m\u001b[0m\u001b[0m\n\u001b[0m",
      "\u001b[0;32m/var/folders/zd/9ts3jb2s5472mty2sgdddp3m0000gn/T/ipykernel_29736/1237275642.py\u001b[0m in \u001b[0;36mcss\u001b[0;34m()\u001b[0m\n\u001b[1;32m      3\u001b[0m \u001b[0;32mdef\u001b[0m \u001b[0mcss\u001b[0m\u001b[0;34m(\u001b[0m\u001b[0;34m)\u001b[0m\u001b[0;34m:\u001b[0m\u001b[0;34m\u001b[0m\u001b[0;34m\u001b[0m\u001b[0m\n\u001b[1;32m      4\u001b[0m     \u001b[0mstyles\u001b[0m \u001b[0;34m=\u001b[0m \u001b[0mopen\u001b[0m\u001b[0;34m(\u001b[0m\u001b[0;34m\"./styles/custom.css\"\u001b[0m\u001b[0;34m,\u001b[0m \u001b[0;34m\"r\"\u001b[0m\u001b[0;34m)\u001b[0m\u001b[0;34m.\u001b[0m\u001b[0mread\u001b[0m\u001b[0;34m(\u001b[0m\u001b[0;34m)\u001b[0m\u001b[0;34m\u001b[0m\u001b[0;34m\u001b[0m\u001b[0m\n\u001b[0;32m----> 5\u001b[0;31m     \u001b[0;32mreturn\u001b[0m \u001b[0mHTML\u001b[0m\u001b[0;34m(\u001b[0m\u001b[0;34m'<style>'\u001b[0m\u001b[0;34m+\u001b[0m\u001b[0mstyles\u001b[0m\u001b[0;34m+\u001b[0m\u001b[0;34m'</style>'\u001b[0m\u001b[0;34m)\u001b[0m\u001b[0;34m\u001b[0m\u001b[0;34m\u001b[0m\u001b[0m\n\u001b[0m\u001b[1;32m      6\u001b[0m \u001b[0mcss\u001b[0m\u001b[0;34m(\u001b[0m\u001b[0;34m)\u001b[0m\u001b[0;34m\u001b[0m\u001b[0;34m\u001b[0m\u001b[0m\n",
      "\u001b[0;31mNameError\u001b[0m: name 'HTML' is not defined"
     ]
    }
   ],
   "source": [
    "#import custom.css into this notebook\n",
    "\n",
    "def css():\n",
    "    styles = open(\"./styles/custom.css\", \"r\").read()\n",
    "    return HTML('<style>'+styles+'</style>')\n",
    "css()"
   ]
  },
  {
   "cell_type": "code",
   "execution_count": 34,
   "id": "703baf88",
   "metadata": {
    "ExecuteTime": {
     "end_time": "2022-02-18T17:54:20.892117Z",
     "start_time": "2022-02-18T17:54:20.888035Z"
    }
   },
   "outputs": [],
   "source": [
    "def render_html(df):\n",
    "    return \"<{0} style='padding: 2px'>{1} <strong> [{0}] </strong></{0}>\".format(df['discourse_type'],df['discourse_text'])"
   ]
  },
  {
   "cell_type": "code",
   "execution_count": 35,
   "id": "eafb22ad",
   "metadata": {
    "ExecuteTime": {
     "end_time": "2022-02-18T17:54:22.009157Z",
     "start_time": "2022-02-18T17:54:22.004342Z"
    }
   },
   "outputs": [],
   "source": [
    "def comparison_text(prediction, ground_truth):\n",
    "    html = f\"\"\"\n",
    "    <div class=\"content\">\n",
    "     <span style=\"font-size:16px\">Legend --></span>\n",
    "      <lead>Lead</lead>\n",
    "      <Position>Position</Position>\n",
    "      <Claim>Claim</Claim>\n",
    "      <Counterclaim>Counterclaim</Counterclaim>\n",
    "      <Rebuttal>Rebuttal</Rebuttal>\n",
    "      <Evidence>Evidence</Evidence>\n",
    "      <Concluding_Statement>Concluding_Statement</Concluding_Statement>\n",
    "    </div>\n",
    "\n",
    "    <div class=\"row\">\n",
    "      <div class=\"column\">\n",
    "        <h2 class=\"title\">Prediction</h2>\n",
    "        <p style=\"text-align:justify\">{prediction}</p>\n",
    "      </div>\n",
    "      <div class=\"column\">\n",
    "        <h2 class=\"title\">Ground Truth</h2>\n",
    "        <p style=\"text-align:justify\">{ground_truth}</p>\n",
    "      </div>\n",
    "    </div>\n",
    "    \n",
    "    \"\"\"\n",
    "    \n",
    "    return HTML(html)"
   ]
  },
  {
   "cell_type": "code",
   "execution_count": 55,
   "id": "b513750b",
   "metadata": {
    "ExecuteTime": {
     "end_time": "2022-02-18T17:59:51.655982Z",
     "start_time": "2022-02-18T17:59:51.642814Z"
    }
   },
   "outputs": [],
   "source": [
    "# as if the output were post processed ; just to see \n",
    "\n",
    "df['html'] = df.apply(render_html, axis=1) #transform discourse_text in html txt with formating \n",
    "df_essays = df.groupby('id').agg({'html':' '.join,}).reset_index() #groupby essay id\n",
    "\n",
    "true = df_essays.loc[4,'html'].replace('Concluding Statement','Concluding_Statement')\n",
    "pred = df_essays.loc[19,'html'].replace('Concluding Statement','Concluding_Statement')"
   ]
  },
  {
   "cell_type": "code",
   "execution_count": 56,
   "id": "756fcffb",
   "metadata": {
    "ExecuteTime": {
     "end_time": "2022-02-18T17:59:52.961105Z",
     "start_time": "2022-02-18T17:59:52.955259Z"
    },
    "scrolled": true
   },
   "outputs": [
    {
     "data": {
      "text/html": [
       "\n",
       "    <div class=\"content\">\n",
       "     <span style=\"font-size:16px\">Legend --></span>\n",
       "      <lead>Lead</lead>\n",
       "      <Position>Position</Position>\n",
       "      <Claim>Claim</Claim>\n",
       "      <Counterclaim>Counterclaim</Counterclaim>\n",
       "      <Rebuttal>Rebuttal</Rebuttal>\n",
       "      <Evidence>Evidence</Evidence>\n",
       "      <Concluding_Statement>Concluding_Statement</Concluding_Statement>\n",
       "    </div>\n",
       "\n",
       "    <div class=\"row\">\n",
       "      <div class=\"column\">\n",
       "        <h2 class=\"title\">Prediction</h2>\n",
       "        <p style=\"text-align:justify\"><Position style='padding: 2px'>I think driving while using cell phones should be banned <strong> [Position] </strong></Position> <Claim style='padding: 2px'>the many car accidents they are causing <strong> [Claim] </strong></Claim> <Claim style='padding: 2px'> it is causing ones insurance to rise, <strong> [Claim] </strong></Claim> <Claim style='padding: 2px'> it is causing concerns to people health issues  <strong> [Claim] </strong></Claim> <Claim style='padding: 2px'>Banning cell phone while driving will keep a safe distance from accidents. <strong> [Claim] </strong></Claim> <Evidence style='padding: 2px'>The question is people more concerned more with their conveniences more than they are with the their safety or safety of others. It is a habit that spreads like STDs. In the long run, it is deadly as well Cell phones are the electronic device. Studies have proved that drivers who use cell phones while driving are more prone to cause accidents. Driving while using a cell phone to drunk driving, in both cases, a person does not have enough focus and mentally capacity to carry out a potentially dangerous activity like driving. If you have this habit, do not forget about it also. Banning cell phone while driving will keep a safe distance from accidents. One cannot focus fully on the road and the other vehicles, if one keeps talking on phone consistently while driving <strong> [Evidence] </strong></Evidence> <Claim style='padding: 2px'> Another reason to ban the ususage of cell phones while driving, is to prevent car insurance from rising.    <strong> [Claim] </strong></Claim></p>\n",
       "      </div>\n",
       "      <div class=\"column\">\n",
       "        <h2 class=\"title\">Ground Truth</h2>\n",
       "        <p style=\"text-align:justify\"><Lead style='padding: 2px'>Throughout the years, teenagers have been eager to turn 16. Driving is a nerve wrecking and exciting experience at the same time. There is a good upside about driving and that would be being able to go out to places without having to pay and the time period you can stay out for is how long you desire. Even though there is a good side, there is a bad side as well. This would have to be the large amount of people that are not cautious around their surroundings and many lives have been taken away due to this. <strong> [Lead] </strong></Lead> <Position style='padding: 2px'>I would have to agree with the idea that says that phones should not be used while driving <strong> [Position] </strong></Position> <Claim style='padding: 2px'>my reasons for this are that peoples lives are taken away, <strong> [Claim] </strong></Claim> <Claim style='padding: 2px'>a phone is a big distraction, <strong> [Claim] </strong></Claim> <Claim style='padding: 2px'>and it is a law you have to follow.  <strong> [Claim] </strong></Claim> <Claim style='padding: 2px'>My first reason on why phones should not be used while driving is because too many lives are taken everyday. <strong> [Claim] </strong></Claim> <Evidence style='padding: 2px'>Utilizing a phone while driving takes many lives every second of our daily lives. About 1.6 million lives a year end up in critical conditions or worse, dead. A phone call or text can wait, but being impatient can result in deaths. This impatiences creates danger to the person driving and everyone around them. Too many lives are taken by near accidents, crashes, distractions, and running of lights caused by usage of phones by operating moving vehicles. Many more lives could be safer if people chose to wait for their usage of phones after being off the road.  <strong> [Evidence] </strong></Evidence> <Claim style='padding: 2px'>My second reason on why phones should not be used while driving is because, too many distractions are already on the road without adding a phone as another reason  <strong> [Claim] </strong></Claim> <Evidence style='padding: 2px'>Once again, using a phone while driving creates too many distractions for the driver and everyone around is left in danger. For example, phones can create delays on stop lights which can create simple accidents. The glare of a bright phone on a dark night can actually interfere with the sight of the driver and can cause loss of control or misguidance to swerving. As well as sudden loud sounds from a phone can actually scare or frighten a driver straight to a crash. Occuping phones while driving is one of the biggest reasons for caused crashes all over.  <strong> [Evidence] </strong></Evidence> <Claim style='padding: 2px'>My third and final reason for not using phones while driving is because, a new law recently has been released on how using phones on the road is no longer permitted anymore. <strong> [Claim] </strong></Claim> <Evidence style='padding: 2px'>The new law was put in to ensure more safety due to all the distractions caused by phones. Since it is a new law, a new law means that it is expected to be followed, a new set out rule. It is for the safety of people and everyone surrounding. People will get punished if the new law is not followed and in my opinion, i would say that it is one of the greatest laws forced. The new law will minimize the amount of crashes caused by phones on the road all over and save many more lives and everyone around.  <strong> [Evidence] </strong></Evidence> <Concluding_Statement style='padding: 2px'>A phone should not ever be used while a person is driving for any type of situation, it can wait. My reasons, once again like i said before is that many lives are taken away, it is also a big distraction, and last would be that it is a new law. A phone is really entertaining and that is something people do not want behind the wheel because then it can become a distraction.\n",
       "\n",
       "Through the whole essay all I could come to head would be about the peoples lives taken away left with a broken down family. Phones ultimately should not be used while driving and a person should not have to double think it, before they cause a new tragedy that will leave them with a lifetime of consequences and guilt.    <strong> [Concluding_Statement] </strong></Concluding_Statement></p>\n",
       "      </div>\n",
       "    </div>\n",
       "    \n",
       "    "
      ],
      "text/plain": [
       "<IPython.core.display.HTML object>"
      ]
     },
     "execution_count": 56,
     "metadata": {},
     "output_type": "execute_result"
    }
   ],
   "source": [
    "comparison_text(pred,true)"
   ]
  },
  {
   "cell_type": "code",
   "execution_count": null,
   "id": "7bed865c",
   "metadata": {},
   "outputs": [],
   "source": []
  },
  {
   "cell_type": "code",
   "execution_count": null,
   "id": "7d79294b",
   "metadata": {},
   "outputs": [],
   "source": []
  }
 ],
 "metadata": {
  "kernelspec": {
   "display_name": "Python 3 (ipykernel)",
   "language": "python",
   "name": "python3"
  },
  "language_info": {
   "codemirror_mode": {
    "name": "ipython",
    "version": 3
   },
   "file_extension": ".py",
   "mimetype": "text/x-python",
   "name": "python",
   "nbconvert_exporter": "python",
   "pygments_lexer": "ipython3",
   "version": "3.8.12"
  },
  "toc": {
   "base_numbering": 1,
   "nav_menu": {},
   "number_sections": true,
   "sideBar": true,
   "skip_h1_title": false,
   "title_cell": "Table of Contents",
   "title_sidebar": "Contents",
   "toc_cell": false,
   "toc_position": {
    "height": "calc(100% - 180px)",
    "left": "10px",
    "top": "150px",
    "width": "288px"
   },
   "toc_section_display": true,
   "toc_window_display": true
  },
  "varInspector": {
   "cols": {
    "lenName": 16,
    "lenType": 16,
    "lenVar": 40
   },
   "kernels_config": {
    "python": {
     "delete_cmd_postfix": "",
     "delete_cmd_prefix": "del ",
     "library": "var_list.py",
     "varRefreshCmd": "print(var_dic_list())"
    },
    "r": {
     "delete_cmd_postfix": ") ",
     "delete_cmd_prefix": "rm(",
     "library": "var_list.r",
     "varRefreshCmd": "cat(var_dic_list()) "
    }
   },
   "types_to_exclude": [
    "module",
    "function",
    "builtin_function_or_method",
    "instance",
    "_Feature"
   ],
   "window_display": false
  }
 },
 "nbformat": 4,
 "nbformat_minor": 5
}
