{
 "cells": [
  {
   "cell_type": "markdown",
   "id": "9879f5a0",
   "metadata": {},
   "source": [
    "# Imports and data load"
   ]
  },
  {
   "cell_type": "code",
   "execution_count": 2,
   "id": "fcd8c290",
   "metadata": {
    "ExecuteTime": {
     "end_time": "2022-02-18T10:59:14.025897Z",
     "start_time": "2022-02-18T10:59:04.985233Z"
    }
   },
   "outputs": [],
   "source": [
    "import os\n",
    "import pandas as pd \n",
    "import numpy as np \n",
    "import matplotlib.pyplot as plt\n",
    "import seaborn as sns \n",
    "import tensorflow as tf \n",
    "\n",
    "from collections import Counter"
   ]
  },
  {
   "cell_type": "code",
   "execution_count": 3,
   "id": "f29c02a0",
   "metadata": {
    "ExecuteTime": {
     "end_time": "2022-02-18T10:59:14.810973Z",
     "start_time": "2022-02-18T10:59:14.070992Z"
    }
   },
   "outputs": [
    {
     "data": {
      "text/html": [
       "<div>\n",
       "<style scoped>\n",
       "    .dataframe tbody tr th:only-of-type {\n",
       "        vertical-align: middle;\n",
       "    }\n",
       "\n",
       "    .dataframe tbody tr th {\n",
       "        vertical-align: top;\n",
       "    }\n",
       "\n",
       "    .dataframe thead th {\n",
       "        text-align: right;\n",
       "    }\n",
       "</style>\n",
       "<table border=\"1\" class=\"dataframe\">\n",
       "  <thead>\n",
       "    <tr style=\"text-align: right;\">\n",
       "      <th></th>\n",
       "      <th>id</th>\n",
       "      <th>discourse_id</th>\n",
       "      <th>discourse_start</th>\n",
       "      <th>discourse_end</th>\n",
       "      <th>discourse_text</th>\n",
       "      <th>discourse_type</th>\n",
       "      <th>discourse_type_num</th>\n",
       "      <th>predictionstring</th>\n",
       "    </tr>\n",
       "  </thead>\n",
       "  <tbody>\n",
       "    <tr>\n",
       "      <th>0</th>\n",
       "      <td>423A1CA112E2</td>\n",
       "      <td>1.622628e+12</td>\n",
       "      <td>8.0</td>\n",
       "      <td>229.0</td>\n",
       "      <td>Modern humans today are always on their phone....</td>\n",
       "      <td>Lead</td>\n",
       "      <td>Lead 1</td>\n",
       "      <td>1 2 3 4 5 6 7 8 9 10 11 12 13 14 15 16 17 18 1...</td>\n",
       "    </tr>\n",
       "    <tr>\n",
       "      <th>1</th>\n",
       "      <td>423A1CA112E2</td>\n",
       "      <td>1.622628e+12</td>\n",
       "      <td>230.0</td>\n",
       "      <td>312.0</td>\n",
       "      <td>They are some really bad consequences when stu...</td>\n",
       "      <td>Position</td>\n",
       "      <td>Position 1</td>\n",
       "      <td>45 46 47 48 49 50 51 52 53 54 55 56 57 58 59</td>\n",
       "    </tr>\n",
       "  </tbody>\n",
       "</table>\n",
       "</div>"
      ],
      "text/plain": [
       "             id  discourse_id  discourse_start  discourse_end  \\\n",
       "0  423A1CA112E2  1.622628e+12              8.0          229.0   \n",
       "1  423A1CA112E2  1.622628e+12            230.0          312.0   \n",
       "\n",
       "                                      discourse_text discourse_type  \\\n",
       "0  Modern humans today are always on their phone....           Lead   \n",
       "1  They are some really bad consequences when stu...       Position   \n",
       "\n",
       "  discourse_type_num                                   predictionstring  \n",
       "0             Lead 1  1 2 3 4 5 6 7 8 9 10 11 12 13 14 15 16 17 18 1...  \n",
       "1         Position 1       45 46 47 48 49 50 51 52 53 54 55 56 57 58 59  "
      ]
     },
     "execution_count": 3,
     "metadata": {},
     "output_type": "execute_result"
    }
   ],
   "source": [
    "#load data, working on a sample\n",
    "df = pd.read_csv('../raw_data/train.csv')\n",
    "df['discourse_type']=df['discourse_type'].replace('Concluding Statement','Concluding_Statement') ## for later\n",
    "df.head(2)"
   ]
  },
  {
   "cell_type": "code",
   "execution_count": 4,
   "id": "6e24a0e1",
   "metadata": {
    "ExecuteTime": {
     "end_time": "2022-02-18T11:06:01.867239Z",
     "start_time": "2022-02-18T11:06:01.813006Z"
    }
   },
   "outputs": [],
   "source": [
    "def is_not_sentence(text):\n",
    "    if '.' not in text[-5:] or not text[0].isupper():\n",
    "        return 0\n",
    "    return 1"
   ]
  },
  {
   "cell_type": "code",
   "execution_count": 5,
   "id": "5838c6a9",
   "metadata": {
    "ExecuteTime": {
     "end_time": "2022-02-18T11:06:12.568895Z",
     "start_time": "2022-02-18T11:06:12.343487Z"
    }
   },
   "outputs": [
    {
     "name": "stdout",
     "output_type": "stream",
     "text": [
      "There is approximatively 25.65% of discourses not limited by a sentence\n"
     ]
    }
   ],
   "source": [
    "## let's check the proportion of sentences\n",
    "df['is_not_sent']=df['discourse_text'].apply(is_not_sentence)\n",
    "p = df['is_not_sent'].sum()/2/len(df)\n",
    "print(f\"There is approximatively {p*100:.2f}% of discourses not limited by a sentence\")"
   ]
  },
  {
   "cell_type": "markdown",
   "id": "85b6ec78",
   "metadata": {},
   "source": [
    "# Preprocess the data\n",
    "\n",
    "Objective = get the data at sentence level"
   ]
  },
  {
   "cell_type": "code",
   "execution_count": 6,
   "id": "174e003e",
   "metadata": {
    "ExecuteTime": {
     "end_time": "2022-02-18T11:07:11.443585Z",
     "start_time": "2022-02-18T11:07:11.440192Z"
    }
   },
   "outputs": [],
   "source": [
    "#Pseudo code : \n",
    "# 1- create a match predictionstring-label-word\n",
    "    # a) repeat label\n",
    "    # b) groupby id / join \n",
    "    # c) match id/full text\n",
    "    \n",
    "# 2- go the other way around : from full text / ps / label to sentences / ps / label \n",
    "    # a) get the indice of the end of a sentence ; explode our dataset\n",
    "    # b) split by this indice for ps and labels\n",
    "    \n",
    "# 3- choose a type for sentences with 2 types"
   ]
  },
  {
   "cell_type": "code",
   "execution_count": 7,
   "id": "c9996fda",
   "metadata": {
    "ExecuteTime": {
     "end_time": "2022-02-18T11:07:12.388296Z",
     "start_time": "2022-02-18T11:07:12.351555Z"
    }
   },
   "outputs": [],
   "source": [
    "def get_essay(id_,mode='train'):\n",
    "    \"\"\"Function to get the full text of an essay from the .txt file.\n",
    "\n",
    "    Args:\n",
    "        id_ (str): id of the essay\n",
    "        mode (str, optional): determines whether to access *train* or *test* texts. \\\n",
    "        Defaults to 'train'.\n",
    "\n",
    "    Returns:\n",
    "        str: Returns the full text of the id\n",
    "    \"\"\"\n",
    "    with open(os.path.join('../raw_data',mode,f'{id_}.txt'),'r') as file:\n",
    "        txt = file.read()\n",
    "    return txt.strip()"
   ]
  },
  {
   "cell_type": "code",
   "execution_count": 8,
   "id": "ce756996",
   "metadata": {
    "ExecuteTime": {
     "end_time": "2022-02-18T11:07:31.766766Z",
     "start_time": "2022-02-18T11:07:12.975621Z"
    }
   },
   "outputs": [],
   "source": [
    "def repeater(label,txt):\n",
    "    words=[]\n",
    "    labels=[]\n",
    "    for w in txt.split():\n",
    "        if '.' in w[-2:]:\n",
    "            labels.append(label+'.')\n",
    "        else:\n",
    "            labels.append(label)\n",
    "    return ' '.join(labels)\n",
    "\n",
    "repeater_vect = np.vectorize(repeater) #vectorize our function\n",
    "\n",
    "df['labels'] = repeater_vect(df['discourse_type'],df['discourse_text']) #apply"
   ]
  },
  {
   "cell_type": "code",
   "execution_count": 9,
   "id": "adf20f60",
   "metadata": {
    "ExecuteTime": {
     "end_time": "2022-02-18T11:07:31.931069Z",
     "start_time": "2022-02-18T11:07:31.892441Z"
    }
   },
   "outputs": [
    {
     "data": {
      "text/html": [
       "<div>\n",
       "<style scoped>\n",
       "    .dataframe tbody tr th:only-of-type {\n",
       "        vertical-align: middle;\n",
       "    }\n",
       "\n",
       "    .dataframe tbody tr th {\n",
       "        vertical-align: top;\n",
       "    }\n",
       "\n",
       "    .dataframe thead th {\n",
       "        text-align: right;\n",
       "    }\n",
       "</style>\n",
       "<table border=\"1\" class=\"dataframe\">\n",
       "  <thead>\n",
       "    <tr style=\"text-align: right;\">\n",
       "      <th></th>\n",
       "      <th>id</th>\n",
       "      <th>discourse_id</th>\n",
       "      <th>discourse_start</th>\n",
       "      <th>discourse_end</th>\n",
       "      <th>discourse_text</th>\n",
       "      <th>discourse_type</th>\n",
       "      <th>discourse_type_num</th>\n",
       "      <th>predictionstring</th>\n",
       "      <th>is_not_sent</th>\n",
       "      <th>labels</th>\n",
       "    </tr>\n",
       "  </thead>\n",
       "  <tbody>\n",
       "    <tr>\n",
       "      <th>0</th>\n",
       "      <td>423A1CA112E2</td>\n",
       "      <td>1.622628e+12</td>\n",
       "      <td>8.0</td>\n",
       "      <td>229.0</td>\n",
       "      <td>Modern humans today are always on their phone....</td>\n",
       "      <td>Lead</td>\n",
       "      <td>Lead 1</td>\n",
       "      <td>1 2 3 4 5 6 7 8 9 10 11 12 13 14 15 16 17 18 1...</td>\n",
       "      <td>1</td>\n",
       "      <td>Lead Lead Lead Lead Lead Lead Lead Lead. Lead ...</td>\n",
       "    </tr>\n",
       "  </tbody>\n",
       "</table>\n",
       "</div>"
      ],
      "text/plain": [
       "             id  discourse_id  discourse_start  discourse_end  \\\n",
       "0  423A1CA112E2  1.622628e+12              8.0          229.0   \n",
       "\n",
       "                                      discourse_text discourse_type  \\\n",
       "0  Modern humans today are always on their phone....           Lead   \n",
       "\n",
       "  discourse_type_num                                   predictionstring  \\\n",
       "0             Lead 1  1 2 3 4 5 6 7 8 9 10 11 12 13 14 15 16 17 18 1...   \n",
       "\n",
       "   is_not_sent                                             labels  \n",
       "0            1  Lead Lead Lead Lead Lead Lead Lead Lead. Lead ...  "
      ]
     },
     "execution_count": 9,
     "metadata": {},
     "output_type": "execute_result"
    }
   ],
   "source": [
    "df.head(1)"
   ]
  },
  {
   "cell_type": "code",
   "execution_count": 10,
   "id": "4c0a1589",
   "metadata": {
    "ExecuteTime": {
     "end_time": "2022-02-18T11:15:32.356875Z",
     "start_time": "2022-02-18T11:15:31.562795Z"
    }
   },
   "outputs": [
    {
     "data": {
      "text/html": [
       "<div>\n",
       "<style scoped>\n",
       "    .dataframe tbody tr th:only-of-type {\n",
       "        vertical-align: middle;\n",
       "    }\n",
       "\n",
       "    .dataframe tbody tr th {\n",
       "        vertical-align: top;\n",
       "    }\n",
       "\n",
       "    .dataframe thead th {\n",
       "        text-align: right;\n",
       "    }\n",
       "</style>\n",
       "<table border=\"1\" class=\"dataframe\">\n",
       "  <thead>\n",
       "    <tr style=\"text-align: right;\">\n",
       "      <th></th>\n",
       "      <th>id</th>\n",
       "      <th>predictionstring</th>\n",
       "      <th>labels</th>\n",
       "    </tr>\n",
       "  </thead>\n",
       "  <tbody>\n",
       "    <tr>\n",
       "      <th>0</th>\n",
       "      <td>0000D23A521A</td>\n",
       "      <td>0 1 2 3 4 5 6 7 8 9 10 11 12 13 14 15 16 17 18...</td>\n",
       "      <td>Position Position Position Position Position P...</td>\n",
       "    </tr>\n",
       "  </tbody>\n",
       "</table>\n",
       "</div>"
      ],
      "text/plain": [
       "             id                                   predictionstring  \\\n",
       "0  0000D23A521A  0 1 2 3 4 5 6 7 8 9 10 11 12 13 14 15 16 17 18...   \n",
       "\n",
       "                                              labels  \n",
       "0  Position Position Position Position Position P...  "
      ]
     },
     "execution_count": 10,
     "metadata": {},
     "output_type": "execute_result"
    }
   ],
   "source": [
    "#groupby\n",
    "df_essay=df.groupby('id').agg({'predictionstring':' '.join,'labels':' '.join}).reset_index()\n",
    "df_essay.head(1)"
   ]
  },
  {
   "cell_type": "code",
   "execution_count": 11,
   "id": "bbd97e49",
   "metadata": {
    "ExecuteTime": {
     "end_time": "2022-02-18T11:15:35.698755Z",
     "start_time": "2022-02-18T11:15:32.502308Z"
    }
   },
   "outputs": [
    {
     "data": {
      "text/html": [
       "<div>\n",
       "<style scoped>\n",
       "    .dataframe tbody tr th:only-of-type {\n",
       "        vertical-align: middle;\n",
       "    }\n",
       "\n",
       "    .dataframe tbody tr th {\n",
       "        vertical-align: top;\n",
       "    }\n",
       "\n",
       "    .dataframe thead th {\n",
       "        text-align: right;\n",
       "    }\n",
       "</style>\n",
       "<table border=\"1\" class=\"dataframe\">\n",
       "  <thead>\n",
       "    <tr style=\"text-align: right;\">\n",
       "      <th></th>\n",
       "      <th>id</th>\n",
       "      <th>predictionstring</th>\n",
       "      <th>labels</th>\n",
       "      <th>text</th>\n",
       "    </tr>\n",
       "  </thead>\n",
       "  <tbody>\n",
       "    <tr>\n",
       "      <th>0</th>\n",
       "      <td>0000D23A521A</td>\n",
       "      <td>0 1 2 3 4 5 6 7 8 9 10 11 12 13 14 15 16 17 18...</td>\n",
       "      <td>Position Position Position Position Position P...</td>\n",
       "      <td>Some people belive that the so called \"face\" o...</td>\n",
       "    </tr>\n",
       "    <tr>\n",
       "      <th>1</th>\n",
       "      <td>00066EA9880D</td>\n",
       "      <td>0 1 2 3 4 5 6 7 8 9 10 11 12 13 14 15 16 17 18...</td>\n",
       "      <td>Lead Lead Lead Lead Lead Lead Lead Lead Lead L...</td>\n",
       "      <td>Driverless cars are exaclty what you would exp...</td>\n",
       "    </tr>\n",
       "    <tr>\n",
       "      <th>2</th>\n",
       "      <td>000E6DE9E817</td>\n",
       "      <td>2 3 4 5 6 7 8 10 11 12 13 14 15 16 17 18 19 20...</td>\n",
       "      <td>Position Position Position Position Position P...</td>\n",
       "      <td>Dear: Principal\\n\\nI am arguing against the po...</td>\n",
       "    </tr>\n",
       "  </tbody>\n",
       "</table>\n",
       "</div>"
      ],
      "text/plain": [
       "             id                                   predictionstring  \\\n",
       "0  0000D23A521A  0 1 2 3 4 5 6 7 8 9 10 11 12 13 14 15 16 17 18...   \n",
       "1  00066EA9880D  0 1 2 3 4 5 6 7 8 9 10 11 12 13 14 15 16 17 18...   \n",
       "2  000E6DE9E817  2 3 4 5 6 7 8 10 11 12 13 14 15 16 17 18 19 20...   \n",
       "\n",
       "                                              labels  \\\n",
       "0  Position Position Position Position Position P...   \n",
       "1  Lead Lead Lead Lead Lead Lead Lead Lead Lead L...   \n",
       "2  Position Position Position Position Position P...   \n",
       "\n",
       "                                                text  \n",
       "0  Some people belive that the so called \"face\" o...  \n",
       "1  Driverless cars are exaclty what you would exp...  \n",
       "2  Dear: Principal\\n\\nI am arguing against the po...  "
      ]
     },
     "execution_count": 11,
     "metadata": {},
     "output_type": "execute_result"
    }
   ],
   "source": [
    "#retrieve full text\n",
    "df_essay['text']=df_essay['id'].apply(get_essay) #get essay full text for each id\n",
    "df_essay.head(3)"
   ]
  },
  {
   "cell_type": "code",
   "execution_count": 12,
   "id": "7cda6889",
   "metadata": {
    "ExecuteTime": {
     "end_time": "2022-02-18T11:15:35.841510Z",
     "start_time": "2022-02-18T11:15:35.833327Z"
    }
   },
   "outputs": [
    {
     "data": {
      "text/plain": [
       "[11, 21, 54, 105, 127]"
      ]
     },
     "execution_count": 12,
     "metadata": {},
     "output_type": "execute_result"
    }
   ],
   "source": [
    "## Get the indice ... how ? \n",
    "\n",
    "text = \"\"\"Python (prononcé /pi.tɔ̃/) est un langage de programmation interprété, multi-paradigme et multiplateformes. Il favorise la programmation impérative structurée, fonctionnelle et orientée objet. Il est doté d'un typage dynamique fort, d'une gestion automatique de la mémoire par ramasse-miettes et d'un système de gestion d'exceptions ; il est ainsi similaire à Perl, Ruby, Scheme, Smalltalk et Tcl.\n",
    "\n",
    "Le langage Python est placé sous une licence libre proche de la licence BSD4 et fonctionne sur la plupart des plates-formes informatiques, des smartphones aux ordinateurs centraux5, de Windows à Unix avec notamment GNU/Linux en passant par macOS, ou encore Android, iOS, et peut aussi être traduit en Java ou .NET. Il est conçu pour optimiser la productivité des programmeurs en offrant des outils de haut niveau et une syntaxe simple à utiliser.\"\"\"\n",
    "\n",
    "indices = [i for i, w in enumerate(text.split()) if '.' in w[-2:]]\n",
    "indices"
   ]
  },
  {
   "cell_type": "code",
   "execution_count": 13,
   "id": "1ee92c37",
   "metadata": {
    "ExecuteTime": {
     "end_time": "2022-02-18T11:15:37.308318Z",
     "start_time": "2022-02-18T11:15:35.972980Z"
    }
   },
   "outputs": [
    {
     "data": {
      "text/html": [
       "<div>\n",
       "<style scoped>\n",
       "    .dataframe tbody tr th:only-of-type {\n",
       "        vertical-align: middle;\n",
       "    }\n",
       "\n",
       "    .dataframe tbody tr th {\n",
       "        vertical-align: top;\n",
       "    }\n",
       "\n",
       "    .dataframe thead th {\n",
       "        text-align: right;\n",
       "    }\n",
       "</style>\n",
       "<table border=\"1\" class=\"dataframe\">\n",
       "  <thead>\n",
       "    <tr style=\"text-align: right;\">\n",
       "      <th></th>\n",
       "      <th>id</th>\n",
       "      <th>predictionstring</th>\n",
       "      <th>labels</th>\n",
       "      <th>text</th>\n",
       "      <th>indices</th>\n",
       "    </tr>\n",
       "  </thead>\n",
       "  <tbody>\n",
       "    <tr>\n",
       "      <th>0</th>\n",
       "      <td>0000D23A521A</td>\n",
       "      <td>0 1 2 3 4 5 6 7 8 9 10 11 12 13 14 15 16 17 18...</td>\n",
       "      <td>Position Position Position Position Position P...</td>\n",
       "      <td>Some people belive that the so called \"face\" o...</td>\n",
       "      <td>[15, 20, 33, 50, 68, 83, 116, 133, 139, 153, 1...</td>\n",
       "    </tr>\n",
       "    <tr>\n",
       "      <th>1</th>\n",
       "      <td>00066EA9880D</td>\n",
       "      <td>0 1 2 3 4 5 6 7 8 9 10 11 12 13 14 15 16 17 18...</td>\n",
       "      <td>Lead Lead Lead Lead Lead Lead Lead Lead Lead L...</td>\n",
       "      <td>Driverless cars are exaclty what you would exp...</td>\n",
       "      <td>[10, 27, 47, 62, 76, 97, 123, 153, 169, 194, 2...</td>\n",
       "    </tr>\n",
       "    <tr>\n",
       "      <th>2</th>\n",
       "      <td>000E6DE9E817</td>\n",
       "      <td>2 3 4 5 6 7 8 10 11 12 13 14 15 16 17 18 19 20...</td>\n",
       "      <td>Position Position Position Position Position P...</td>\n",
       "      <td>Dear: Principal\\n\\nI am arguing against the po...</td>\n",
       "      <td>[53, 72, 80, 114, 136, 171, 212, 241, 265, 271...</td>\n",
       "    </tr>\n",
       "    <tr>\n",
       "      <th>3</th>\n",
       "      <td>001552828BD0</td>\n",
       "      <td>0 1 2 3 4 5 6 7 8 9 10 11 12 13 14 15 16 17 18...</td>\n",
       "      <td>Lead Lead Lead Lead Lead Lead Lead Lead Lead L...</td>\n",
       "      <td>Would you be able to give your car up? Having ...</td>\n",
       "      <td>[19, 43, 71, 95, 104, 127, 140, 149, 154, 157,...</td>\n",
       "    </tr>\n",
       "    <tr>\n",
       "      <th>4</th>\n",
       "      <td>0016926B079C</td>\n",
       "      <td>0 1 2 3 4 5 6 7 8 9 10 11 12 13 14 15 16 17 18...</td>\n",
       "      <td>Position Position Position Position Position P...</td>\n",
       "      <td>I think that students would benefit from learn...</td>\n",
       "      <td>[27, 41, 47, 55, 72, 98, 103, 124, 131, 143, 1...</td>\n",
       "    </tr>\n",
       "  </tbody>\n",
       "</table>\n",
       "</div>"
      ],
      "text/plain": [
       "             id                                   predictionstring  \\\n",
       "0  0000D23A521A  0 1 2 3 4 5 6 7 8 9 10 11 12 13 14 15 16 17 18...   \n",
       "1  00066EA9880D  0 1 2 3 4 5 6 7 8 9 10 11 12 13 14 15 16 17 18...   \n",
       "2  000E6DE9E817  2 3 4 5 6 7 8 10 11 12 13 14 15 16 17 18 19 20...   \n",
       "3  001552828BD0  0 1 2 3 4 5 6 7 8 9 10 11 12 13 14 15 16 17 18...   \n",
       "4  0016926B079C  0 1 2 3 4 5 6 7 8 9 10 11 12 13 14 15 16 17 18...   \n",
       "\n",
       "                                              labels  \\\n",
       "0  Position Position Position Position Position P...   \n",
       "1  Lead Lead Lead Lead Lead Lead Lead Lead Lead L...   \n",
       "2  Position Position Position Position Position P...   \n",
       "3  Lead Lead Lead Lead Lead Lead Lead Lead Lead L...   \n",
       "4  Position Position Position Position Position P...   \n",
       "\n",
       "                                                text  \\\n",
       "0  Some people belive that the so called \"face\" o...   \n",
       "1  Driverless cars are exaclty what you would exp...   \n",
       "2  Dear: Principal\\n\\nI am arguing against the po...   \n",
       "3  Would you be able to give your car up? Having ...   \n",
       "4  I think that students would benefit from learn...   \n",
       "\n",
       "                                             indices  \n",
       "0  [15, 20, 33, 50, 68, 83, 116, 133, 139, 153, 1...  \n",
       "1  [10, 27, 47, 62, 76, 97, 123, 153, 169, 194, 2...  \n",
       "2  [53, 72, 80, 114, 136, 171, 212, 241, 265, 271...  \n",
       "3  [19, 43, 71, 95, 104, 127, 140, 149, 154, 157,...  \n",
       "4  [27, 41, 47, 55, 72, 98, 103, 124, 131, 143, 1...  "
      ]
     },
     "execution_count": 13,
     "metadata": {},
     "output_type": "execute_result"
    }
   ],
   "source": [
    "#apply func\n",
    "df_essay['indices']=df_essay['text'].apply(lambda text : [i for i, w in enumerate(text.split()) if '.' in w[-2:]])\n",
    "df_essay.head()"
   ]
  },
  {
   "cell_type": "code",
   "execution_count": 14,
   "id": "e4004d14",
   "metadata": {
    "ExecuteTime": {
     "end_time": "2022-02-18T11:16:27.389200Z",
     "start_time": "2022-02-18T11:16:27.262890Z"
    }
   },
   "outputs": [
    {
     "data": {
      "text/html": [
       "<div>\n",
       "<style scoped>\n",
       "    .dataframe tbody tr th:only-of-type {\n",
       "        vertical-align: middle;\n",
       "    }\n",
       "\n",
       "    .dataframe tbody tr th {\n",
       "        vertical-align: top;\n",
       "    }\n",
       "\n",
       "    .dataframe thead th {\n",
       "        text-align: right;\n",
       "    }\n",
       "</style>\n",
       "<table border=\"1\" class=\"dataframe\">\n",
       "  <thead>\n",
       "    <tr style=\"text-align: right;\">\n",
       "      <th></th>\n",
       "      <th>id</th>\n",
       "      <th>predictionstring</th>\n",
       "      <th>labels</th>\n",
       "      <th>text</th>\n",
       "      <th>indices</th>\n",
       "    </tr>\n",
       "  </thead>\n",
       "  <tbody>\n",
       "    <tr>\n",
       "      <th>0</th>\n",
       "      <td>0000D23A521A</td>\n",
       "      <td>0 1 2 3 4 5 6 7 8 9 10 11 12 13 14 15 16 17 18...</td>\n",
       "      <td>Position Position Position Position Position P...</td>\n",
       "      <td>Some people belive that the so called \"face\" o...</td>\n",
       "      <td>15</td>\n",
       "    </tr>\n",
       "    <tr>\n",
       "      <th>0</th>\n",
       "      <td>0000D23A521A</td>\n",
       "      <td>0 1 2 3 4 5 6 7 8 9 10 11 12 13 14 15 16 17 18...</td>\n",
       "      <td>Position Position Position Position Position P...</td>\n",
       "      <td>Some people belive that the so called \"face\" o...</td>\n",
       "      <td>20</td>\n",
       "    </tr>\n",
       "    <tr>\n",
       "      <th>0</th>\n",
       "      <td>0000D23A521A</td>\n",
       "      <td>0 1 2 3 4 5 6 7 8 9 10 11 12 13 14 15 16 17 18...</td>\n",
       "      <td>Position Position Position Position Position P...</td>\n",
       "      <td>Some people belive that the so called \"face\" o...</td>\n",
       "      <td>33</td>\n",
       "    </tr>\n",
       "  </tbody>\n",
       "</table>\n",
       "</div>"
      ],
      "text/plain": [
       "             id                                   predictionstring  \\\n",
       "0  0000D23A521A  0 1 2 3 4 5 6 7 8 9 10 11 12 13 14 15 16 17 18...   \n",
       "0  0000D23A521A  0 1 2 3 4 5 6 7 8 9 10 11 12 13 14 15 16 17 18...   \n",
       "0  0000D23A521A  0 1 2 3 4 5 6 7 8 9 10 11 12 13 14 15 16 17 18...   \n",
       "\n",
       "                                              labels  \\\n",
       "0  Position Position Position Position Position P...   \n",
       "0  Position Position Position Position Position P...   \n",
       "0  Position Position Position Position Position P...   \n",
       "\n",
       "                                                text indices  \n",
       "0  Some people belive that the so called \"face\" o...      15  \n",
       "0  Some people belive that the so called \"face\" o...      20  \n",
       "0  Some people belive that the so called \"face\" o...      33  "
      ]
     },
     "execution_count": 14,
     "metadata": {},
     "output_type": "execute_result"
    }
   ],
   "source": [
    "## explode !\n",
    "df_essay = df_essay.explode('indices')\n",
    "df_essay.head(3)"
   ]
  },
  {
   "cell_type": "code",
   "execution_count": 15,
   "id": "359d71f6",
   "metadata": {
    "ExecuteTime": {
     "end_time": "2022-02-18T11:16:27.573929Z",
     "start_time": "2022-02-18T11:16:27.558489Z"
    }
   },
   "outputs": [
    {
     "data": {
      "text/html": [
       "<div>\n",
       "<style scoped>\n",
       "    .dataframe tbody tr th:only-of-type {\n",
       "        vertical-align: middle;\n",
       "    }\n",
       "\n",
       "    .dataframe tbody tr th {\n",
       "        vertical-align: top;\n",
       "    }\n",
       "\n",
       "    .dataframe thead th {\n",
       "        text-align: right;\n",
       "    }\n",
       "</style>\n",
       "<table border=\"1\" class=\"dataframe\">\n",
       "  <thead>\n",
       "    <tr style=\"text-align: right;\">\n",
       "      <th></th>\n",
       "      <th>id</th>\n",
       "      <th>predictionstring</th>\n",
       "      <th>labels</th>\n",
       "      <th>text</th>\n",
       "      <th>indices</th>\n",
       "      <th>prevind</th>\n",
       "    </tr>\n",
       "  </thead>\n",
       "  <tbody>\n",
       "    <tr>\n",
       "      <th>0</th>\n",
       "      <td>0000D23A521A</td>\n",
       "      <td>0 1 2 3 4 5 6 7 8 9 10 11 12 13 14 15 16 17 18...</td>\n",
       "      <td>Position Position Position Position Position P...</td>\n",
       "      <td>Some people belive that the so called \"face\" o...</td>\n",
       "      <td>15</td>\n",
       "      <td>NaN</td>\n",
       "    </tr>\n",
       "    <tr>\n",
       "      <th>0</th>\n",
       "      <td>0000D23A521A</td>\n",
       "      <td>0 1 2 3 4 5 6 7 8 9 10 11 12 13 14 15 16 17 18...</td>\n",
       "      <td>Position Position Position Position Position P...</td>\n",
       "      <td>Some people belive that the so called \"face\" o...</td>\n",
       "      <td>20</td>\n",
       "      <td>15</td>\n",
       "    </tr>\n",
       "    <tr>\n",
       "      <th>0</th>\n",
       "      <td>0000D23A521A</td>\n",
       "      <td>0 1 2 3 4 5 6 7 8 9 10 11 12 13 14 15 16 17 18...</td>\n",
       "      <td>Position Position Position Position Position P...</td>\n",
       "      <td>Some people belive that the so called \"face\" o...</td>\n",
       "      <td>33</td>\n",
       "      <td>20</td>\n",
       "    </tr>\n",
       "    <tr>\n",
       "      <th>0</th>\n",
       "      <td>0000D23A521A</td>\n",
       "      <td>0 1 2 3 4 5 6 7 8 9 10 11 12 13 14 15 16 17 18...</td>\n",
       "      <td>Position Position Position Position Position P...</td>\n",
       "      <td>Some people belive that the so called \"face\" o...</td>\n",
       "      <td>50</td>\n",
       "      <td>33</td>\n",
       "    </tr>\n",
       "    <tr>\n",
       "      <th>0</th>\n",
       "      <td>0000D23A521A</td>\n",
       "      <td>0 1 2 3 4 5 6 7 8 9 10 11 12 13 14 15 16 17 18...</td>\n",
       "      <td>Position Position Position Position Position P...</td>\n",
       "      <td>Some people belive that the so called \"face\" o...</td>\n",
       "      <td>68</td>\n",
       "      <td>50</td>\n",
       "    </tr>\n",
       "  </tbody>\n",
       "</table>\n",
       "</div>"
      ],
      "text/plain": [
       "             id                                   predictionstring  \\\n",
       "0  0000D23A521A  0 1 2 3 4 5 6 7 8 9 10 11 12 13 14 15 16 17 18...   \n",
       "0  0000D23A521A  0 1 2 3 4 5 6 7 8 9 10 11 12 13 14 15 16 17 18...   \n",
       "0  0000D23A521A  0 1 2 3 4 5 6 7 8 9 10 11 12 13 14 15 16 17 18...   \n",
       "0  0000D23A521A  0 1 2 3 4 5 6 7 8 9 10 11 12 13 14 15 16 17 18...   \n",
       "0  0000D23A521A  0 1 2 3 4 5 6 7 8 9 10 11 12 13 14 15 16 17 18...   \n",
       "\n",
       "                                              labels  \\\n",
       "0  Position Position Position Position Position P...   \n",
       "0  Position Position Position Position Position P...   \n",
       "0  Position Position Position Position Position P...   \n",
       "0  Position Position Position Position Position P...   \n",
       "0  Position Position Position Position Position P...   \n",
       "\n",
       "                                                text indices prevind  \n",
       "0  Some people belive that the so called \"face\" o...      15     NaN  \n",
       "0  Some people belive that the so called \"face\" o...      20      15  \n",
       "0  Some people belive that the so called \"face\" o...      33      20  \n",
       "0  Some people belive that the so called \"face\" o...      50      33  \n",
       "0  Some people belive that the so called \"face\" o...      68      50  "
      ]
     },
     "execution_count": 15,
     "metadata": {},
     "output_type": "execute_result"
    }
   ],
   "source": [
    "df_essay['prevind'] = df_essay.indices.shift(1)\n",
    "df_essay.head()"
   ]
  },
  {
   "cell_type": "code",
   "execution_count": 16,
   "id": "0e003d3b",
   "metadata": {
    "ExecuteTime": {
     "end_time": "2022-02-18T11:16:46.018896Z",
     "start_time": "2022-02-18T11:16:45.814016Z"
    }
   },
   "outputs": [],
   "source": [
    "# fill na with 0\n",
    "df_essay.fillna(0,inplace=True)"
   ]
  },
  {
   "cell_type": "code",
   "execution_count": 17,
   "id": "0ed63cc0",
   "metadata": {
    "ExecuteTime": {
     "end_time": "2022-02-18T11:16:48.832660Z",
     "start_time": "2022-02-18T11:16:48.827149Z"
    }
   },
   "outputs": [],
   "source": [
    "## objective now = split ps, labels and text according to indices and prevind \n",
    "\n",
    "def slicer(text,indices,prevind):\n",
    "    text = text.split()\n",
    "    if prevind==0:\n",
    "        return ' '.join(text[:indices+1])\n",
    "    return ' '.join(text[prevind+1:indices+1])\n",
    "    \n",
    "slicer_vect=np.vectorize(slicer) #vectorize"
   ]
  },
  {
   "cell_type": "code",
   "execution_count": 18,
   "id": "89ee2368",
   "metadata": {
    "ExecuteTime": {
     "end_time": "2022-02-18T11:17:54.241243Z",
     "start_time": "2022-02-18T11:16:49.165769Z"
    }
   },
   "outputs": [],
   "source": [
    "#boum \n",
    "\n",
    "df_essay['sentence']=slicer_vect(df_essay['text'],df_essay['indices'],df_essay['prevind'])\n",
    "df_essay['ps']=slicer_vect(df_essay['predictionstring'],df_essay['indices'],df_essay['prevind'])\n",
    "df_essay['type']=slicer_vect(df_essay['labels'],df_essay['indices'],df_essay['prevind'])"
   ]
  },
  {
   "cell_type": "code",
   "execution_count": 19,
   "id": "b6a4f2fb",
   "metadata": {
    "ExecuteTime": {
     "end_time": "2022-02-18T11:17:58.917605Z",
     "start_time": "2022-02-18T11:17:57.968082Z"
    }
   },
   "outputs": [
    {
     "data": {
      "text/html": [
       "<div>\n",
       "<style scoped>\n",
       "    .dataframe tbody tr th:only-of-type {\n",
       "        vertical-align: middle;\n",
       "    }\n",
       "\n",
       "    .dataframe tbody tr th {\n",
       "        vertical-align: top;\n",
       "    }\n",
       "\n",
       "    .dataframe thead th {\n",
       "        text-align: right;\n",
       "    }\n",
       "</style>\n",
       "<table border=\"1\" class=\"dataframe\">\n",
       "  <thead>\n",
       "    <tr style=\"text-align: right;\">\n",
       "      <th></th>\n",
       "      <th>id</th>\n",
       "      <th>sentence</th>\n",
       "      <th>ps</th>\n",
       "      <th>type</th>\n",
       "    </tr>\n",
       "  </thead>\n",
       "  <tbody>\n",
       "    <tr>\n",
       "      <th>0</th>\n",
       "      <td>0000D23A521A</td>\n",
       "      <td>Some people belive that the so called \"face\" o...</td>\n",
       "      <td>0 1 2 3 4 5 6 7 8 9 10 11 12 13 14 15</td>\n",
       "      <td>Position Position Position Position Position P...</td>\n",
       "    </tr>\n",
       "    <tr>\n",
       "      <th>0</th>\n",
       "      <td>0000D23A521A</td>\n",
       "      <td>This is not the case.</td>\n",
       "      <td>16 17 18 19 20</td>\n",
       "      <td>Position Position Position Position Position.</td>\n",
       "    </tr>\n",
       "    <tr>\n",
       "      <th>0</th>\n",
       "      <td>0000D23A521A</td>\n",
       "      <td>The face on Mars is a naturally occuring land ...</td>\n",
       "      <td>21 22 23 24 25 26 27 28 29 30 31 32 33</td>\n",
       "      <td>Position Position Position Position Position P...</td>\n",
       "    </tr>\n",
       "    <tr>\n",
       "      <th>0</th>\n",
       "      <td>0000D23A521A</td>\n",
       "      <td>It was not created by aliens, and there is no ...</td>\n",
       "      <td>34 35 36 37 38 39 40 41 42 43 44 45 46 47 48 4...</td>\n",
       "      <td>Evidence Evidence Evidence Evidence Evidence E...</td>\n",
       "    </tr>\n",
       "    <tr>\n",
       "      <th>0</th>\n",
       "      <td>0000D23A521A</td>\n",
       "      <td>There is no evidence that NASA has found that ...</td>\n",
       "      <td>51 52 53 54 55 56 57 58 59 60 61 62 63 64 65 6...</td>\n",
       "      <td>Evidence Evidence Evidence Evidence Evidence E...</td>\n",
       "    </tr>\n",
       "  </tbody>\n",
       "</table>\n",
       "</div>"
      ],
      "text/plain": [
       "             id                                           sentence  \\\n",
       "0  0000D23A521A  Some people belive that the so called \"face\" o...   \n",
       "0  0000D23A521A                              This is not the case.   \n",
       "0  0000D23A521A  The face on Mars is a naturally occuring land ...   \n",
       "0  0000D23A521A  It was not created by aliens, and there is no ...   \n",
       "0  0000D23A521A  There is no evidence that NASA has found that ...   \n",
       "\n",
       "                                                  ps  \\\n",
       "0              0 1 2 3 4 5 6 7 8 9 10 11 12 13 14 15   \n",
       "0                                     16 17 18 19 20   \n",
       "0             21 22 23 24 25 26 27 28 29 30 31 32 33   \n",
       "0  34 35 36 37 38 39 40 41 42 43 44 45 46 47 48 4...   \n",
       "0  51 52 53 54 55 56 57 58 59 60 61 62 63 64 65 6...   \n",
       "\n",
       "                                                type  \n",
       "0  Position Position Position Position Position P...  \n",
       "0      Position Position Position Position Position.  \n",
       "0  Position Position Position Position Position P...  \n",
       "0  Evidence Evidence Evidence Evidence Evidence E...  \n",
       "0  Evidence Evidence Evidence Evidence Evidence E...  "
      ]
     },
     "execution_count": 19,
     "metadata": {},
     "output_type": "execute_result"
    }
   ],
   "source": [
    "df_preproc = df_essay.drop(['predictionstring','labels','text','indices','prevind'],axis=1)\n",
    "df_preproc.head()"
   ]
  },
  {
   "cell_type": "code",
   "execution_count": 20,
   "id": "b0b59f36",
   "metadata": {
    "ExecuteTime": {
     "end_time": "2022-02-18T11:18:57.258632Z",
     "start_time": "2022-02-18T11:18:54.799792Z"
    }
   },
   "outputs": [],
   "source": [
    "df_preproc['type_len']=df_preproc['type'].apply(lambda txt:Counter(txt.replace('.','').split()))"
   ]
  },
  {
   "cell_type": "code",
   "execution_count": 21,
   "id": "4aa342bd",
   "metadata": {
    "ExecuteTime": {
     "end_time": "2022-02-18T11:18:58.730349Z",
     "start_time": "2022-02-18T11:18:58.726353Z"
    }
   },
   "outputs": [],
   "source": [
    "## create a function\n",
    "def length_checker(dict_):\n",
    "    if len(dict_.keys())==1:\n",
    "        return 1\n",
    "    if len(dict_.keys())==2:\n",
    "        return max(dict_.values())/sum(dict_.values())\n",
    "    else:\n",
    "        return None"
   ]
  },
  {
   "cell_type": "code",
   "execution_count": 22,
   "id": "a3bb6c3b",
   "metadata": {
    "ExecuteTime": {
     "end_time": "2022-02-18T11:19:01.841718Z",
     "start_time": "2022-02-18T11:19:01.689085Z"
    }
   },
   "outputs": [
    {
     "data": {
      "text/html": [
       "<div>\n",
       "<style scoped>\n",
       "    .dataframe tbody tr th:only-of-type {\n",
       "        vertical-align: middle;\n",
       "    }\n",
       "\n",
       "    .dataframe tbody tr th {\n",
       "        vertical-align: top;\n",
       "    }\n",
       "\n",
       "    .dataframe thead th {\n",
       "        text-align: right;\n",
       "    }\n",
       "</style>\n",
       "<table border=\"1\" class=\"dataframe\">\n",
       "  <thead>\n",
       "    <tr style=\"text-align: right;\">\n",
       "      <th></th>\n",
       "      <th>id</th>\n",
       "      <th>sentence</th>\n",
       "      <th>ps</th>\n",
       "      <th>type</th>\n",
       "      <th>type_len</th>\n",
       "      <th>type_prop</th>\n",
       "    </tr>\n",
       "  </thead>\n",
       "  <tbody>\n",
       "    <tr>\n",
       "      <th>0</th>\n",
       "      <td>0000D23A521A</td>\n",
       "      <td>Some people belive that the so called \"face\" o...</td>\n",
       "      <td>0 1 2 3 4 5 6 7 8 9 10 11 12 13 14 15</td>\n",
       "      <td>Position Position Position Position Position P...</td>\n",
       "      <td>{'Position': 16}</td>\n",
       "      <td>1.0</td>\n",
       "    </tr>\n",
       "    <tr>\n",
       "      <th>0</th>\n",
       "      <td>0000D23A521A</td>\n",
       "      <td>This is not the case.</td>\n",
       "      <td>16 17 18 19 20</td>\n",
       "      <td>Position Position Position Position Position.</td>\n",
       "      <td>{'Position': 5}</td>\n",
       "      <td>1.0</td>\n",
       "    </tr>\n",
       "    <tr>\n",
       "      <th>0</th>\n",
       "      <td>0000D23A521A</td>\n",
       "      <td>The face on Mars is a naturally occuring land ...</td>\n",
       "      <td>21 22 23 24 25 26 27 28 29 30 31 32 33</td>\n",
       "      <td>Position Position Position Position Position P...</td>\n",
       "      <td>{'Position': 13}</td>\n",
       "      <td>1.0</td>\n",
       "    </tr>\n",
       "    <tr>\n",
       "      <th>0</th>\n",
       "      <td>0000D23A521A</td>\n",
       "      <td>It was not created by aliens, and there is no ...</td>\n",
       "      <td>34 35 36 37 38 39 40 41 42 43 44 45 46 47 48 4...</td>\n",
       "      <td>Evidence Evidence Evidence Evidence Evidence E...</td>\n",
       "      <td>{'Evidence': 17}</td>\n",
       "      <td>1.0</td>\n",
       "    </tr>\n",
       "    <tr>\n",
       "      <th>0</th>\n",
       "      <td>0000D23A521A</td>\n",
       "      <td>There is no evidence that NASA has found that ...</td>\n",
       "      <td>51 52 53 54 55 56 57 58 59 60 61 62 63 64 65 6...</td>\n",
       "      <td>Evidence Evidence Evidence Evidence Evidence E...</td>\n",
       "      <td>{'Evidence': 18}</td>\n",
       "      <td>1.0</td>\n",
       "    </tr>\n",
       "  </tbody>\n",
       "</table>\n",
       "</div>"
      ],
      "text/plain": [
       "             id                                           sentence  \\\n",
       "0  0000D23A521A  Some people belive that the so called \"face\" o...   \n",
       "0  0000D23A521A                              This is not the case.   \n",
       "0  0000D23A521A  The face on Mars is a naturally occuring land ...   \n",
       "0  0000D23A521A  It was not created by aliens, and there is no ...   \n",
       "0  0000D23A521A  There is no evidence that NASA has found that ...   \n",
       "\n",
       "                                                  ps  \\\n",
       "0              0 1 2 3 4 5 6 7 8 9 10 11 12 13 14 15   \n",
       "0                                     16 17 18 19 20   \n",
       "0             21 22 23 24 25 26 27 28 29 30 31 32 33   \n",
       "0  34 35 36 37 38 39 40 41 42 43 44 45 46 47 48 4...   \n",
       "0  51 52 53 54 55 56 57 58 59 60 61 62 63 64 65 6...   \n",
       "\n",
       "                                                type          type_len  \\\n",
       "0  Position Position Position Position Position P...  {'Position': 16}   \n",
       "0      Position Position Position Position Position.   {'Position': 5}   \n",
       "0  Position Position Position Position Position P...  {'Position': 13}   \n",
       "0  Evidence Evidence Evidence Evidence Evidence E...  {'Evidence': 17}   \n",
       "0  Evidence Evidence Evidence Evidence Evidence E...  {'Evidence': 18}   \n",
       "\n",
       "   type_prop  \n",
       "0        1.0  \n",
       "0        1.0  \n",
       "0        1.0  \n",
       "0        1.0  \n",
       "0        1.0  "
      ]
     },
     "execution_count": 22,
     "metadata": {},
     "output_type": "execute_result"
    }
   ],
   "source": [
    "df_preproc['type_prop']=df_preproc['type_len'].apply(length_checker)\n",
    "df_preproc.head()"
   ]
  },
  {
   "cell_type": "code",
   "execution_count": 23,
   "id": "f65a8269",
   "metadata": {
    "ExecuteTime": {
     "end_time": "2022-02-18T11:19:13.599288Z",
     "start_time": "2022-02-18T11:19:13.405878Z"
    }
   },
   "outputs": [
    {
     "data": {
      "text/plain": [
       "<AxesSubplot:>"
      ]
     },
     "execution_count": 23,
     "metadata": {},
     "output_type": "execute_result"
    },
    {
     "data": {
      "image/png": "[encoded data removed]",
      "text/plain": [
       "<Figure size 432x288 with 1 Axes>"
      ]
     },
     "metadata": {
      "needs_background": "light"
     },
     "output_type": "display_data"
    }
   ],
   "source": [
    "#check it makes a little sens...\n",
    "df_preproc['type_prop'].hist(bins=10)"
   ]
  },
  {
   "cell_type": "code",
   "execution_count": 24,
   "id": "c15232b8",
   "metadata": {
    "ExecuteTime": {
     "end_time": "2022-02-18T11:19:57.280531Z",
     "start_time": "2022-02-18T11:19:57.059286Z"
    }
   },
   "outputs": [],
   "source": [
    "# default needed to avoid throwing error\n",
    "df_preproc['label']=df_preproc['type_len'].apply(lambda dict_ : max(dict_,key=dict_.get,default=None))"
   ]
  },
  {
   "cell_type": "code",
   "execution_count": 25,
   "id": "573abbde",
   "metadata": {
    "ExecuteTime": {
     "end_time": "2022-02-18T11:19:57.824234Z",
     "start_time": "2022-02-18T11:19:57.795511Z"
    }
   },
   "outputs": [
    {
     "data": {
      "text/plain": [
       "Evidence                0.534326\n",
       "Concluding_Statement    0.134119\n",
       "Claim                   0.126754\n",
       "Lead                    0.051170\n",
       "Position                0.027247\n",
       "Counterclaim            0.019256\n",
       "Rebuttal                0.017052\n",
       "Name: label, dtype: float64"
      ]
     },
     "execution_count": 25,
     "metadata": {},
     "output_type": "execute_result"
    }
   ],
   "source": [
    "\n",
    "df_preproc.label.value_counts()/len(df_preproc)"
   ]
  },
  {
   "cell_type": "code",
   "execution_count": 26,
   "id": "c26fc937",
   "metadata": {
    "ExecuteTime": {
     "end_time": "2022-02-18T11:20:06.237056Z",
     "start_time": "2022-02-18T11:20:06.216884Z"
    }
   },
   "outputs": [
    {
     "data": {
      "text/plain": [
       "Claim                   0.347959\n",
       "Evidence                0.316731\n",
       "Position                0.106859\n",
       "Concluding_Statement    0.093594\n",
       "Lead                    0.064487\n",
       "Counterclaim            0.040314\n",
       "Rebuttal                0.030057\n",
       "Name: discourse_type, dtype: float64"
      ]
     },
     "execution_count": 26,
     "metadata": {},
     "output_type": "execute_result"
    }
   ],
   "source": [
    "df.discourse_type.value_counts()/len(df)"
   ]
  },
  {
   "cell_type": "code",
   "execution_count": 27,
   "id": "7d11987a",
   "metadata": {
    "ExecuteTime": {
     "end_time": "2022-02-18T11:20:21.175909Z",
     "start_time": "2022-02-18T11:20:21.155012Z"
    },
    "scrolled": true
   },
   "outputs": [
    {
     "data": {
      "text/html": [
       "<div>\n",
       "<style scoped>\n",
       "    .dataframe tbody tr th:only-of-type {\n",
       "        vertical-align: middle;\n",
       "    }\n",
       "\n",
       "    .dataframe tbody tr th {\n",
       "        vertical-align: top;\n",
       "    }\n",
       "\n",
       "    .dataframe thead th {\n",
       "        text-align: right;\n",
       "    }\n",
       "</style>\n",
       "<table border=\"1\" class=\"dataframe\">\n",
       "  <thead>\n",
       "    <tr style=\"text-align: right;\">\n",
       "      <th></th>\n",
       "      <th>id</th>\n",
       "      <th>discourse_id</th>\n",
       "      <th>discourse_start</th>\n",
       "      <th>discourse_end</th>\n",
       "      <th>discourse_text</th>\n",
       "      <th>discourse_type</th>\n",
       "      <th>discourse_type_num</th>\n",
       "      <th>predictionstring</th>\n",
       "      <th>is_not_sent</th>\n",
       "      <th>labels</th>\n",
       "    </tr>\n",
       "  </thead>\n",
       "  <tbody>\n",
       "    <tr>\n",
       "      <th>0</th>\n",
       "      <td>423A1CA112E2</td>\n",
       "      <td>1.622628e+12</td>\n",
       "      <td>8.0</td>\n",
       "      <td>229.0</td>\n",
       "      <td>Modern humans today are always on their phone....</td>\n",
       "      <td>Lead</td>\n",
       "      <td>Lead 1</td>\n",
       "      <td>1 2 3 4 5 6 7 8 9 10 11 12 13 14 15 16 17 18 1...</td>\n",
       "      <td>1</td>\n",
       "      <td>Lead Lead Lead Lead Lead Lead Lead Lead. Lead ...</td>\n",
       "    </tr>\n",
       "    <tr>\n",
       "      <th>1</th>\n",
       "      <td>423A1CA112E2</td>\n",
       "      <td>1.622628e+12</td>\n",
       "      <td>230.0</td>\n",
       "      <td>312.0</td>\n",
       "      <td>They are some really bad consequences when stu...</td>\n",
       "      <td>Position</td>\n",
       "      <td>Position 1</td>\n",
       "      <td>45 46 47 48 49 50 51 52 53 54 55 56 57 58 59</td>\n",
       "      <td>1</td>\n",
       "      <td>Position Position Position Position Position P...</td>\n",
       "    </tr>\n",
       "    <tr>\n",
       "      <th>2</th>\n",
       "      <td>423A1CA112E2</td>\n",
       "      <td>1.622628e+12</td>\n",
       "      <td>313.0</td>\n",
       "      <td>401.0</td>\n",
       "      <td>Some certain areas in the United States ban ph...</td>\n",
       "      <td>Evidence</td>\n",
       "      <td>Evidence 1</td>\n",
       "      <td>60 61 62 63 64 65 66 67 68 69 70 71 72 73 74 75</td>\n",
       "      <td>1</td>\n",
       "      <td>Evidence Evidence Evidence Evidence Evidence E...</td>\n",
       "    </tr>\n",
       "    <tr>\n",
       "      <th>3</th>\n",
       "      <td>423A1CA112E2</td>\n",
       "      <td>1.622628e+12</td>\n",
       "      <td>402.0</td>\n",
       "      <td>758.0</td>\n",
       "      <td>When people have phones, they know about certa...</td>\n",
       "      <td>Evidence</td>\n",
       "      <td>Evidence 2</td>\n",
       "      <td>76 77 78 79 80 81 82 83 84 85 86 87 88 89 90 9...</td>\n",
       "      <td>1</td>\n",
       "      <td>Evidence Evidence Evidence Evidence Evidence E...</td>\n",
       "    </tr>\n",
       "    <tr>\n",
       "      <th>4</th>\n",
       "      <td>423A1CA112E2</td>\n",
       "      <td>1.622628e+12</td>\n",
       "      <td>759.0</td>\n",
       "      <td>886.0</td>\n",
       "      <td>Driving is one of the way how to get around. P...</td>\n",
       "      <td>Claim</td>\n",
       "      <td>Claim 1</td>\n",
       "      <td>139 140 141 142 143 144 145 146 147 148 149 15...</td>\n",
       "      <td>1</td>\n",
       "      <td>Claim Claim Claim Claim Claim Claim Claim Clai...</td>\n",
       "    </tr>\n",
       "    <tr>\n",
       "      <th>...</th>\n",
       "      <td>...</td>\n",
       "      <td>...</td>\n",
       "      <td>...</td>\n",
       "      <td>...</td>\n",
       "      <td>...</td>\n",
       "      <td>...</td>\n",
       "      <td>...</td>\n",
       "      <td>...</td>\n",
       "      <td>...</td>\n",
       "      <td>...</td>\n",
       "    </tr>\n",
       "    <tr>\n",
       "      <th>144288</th>\n",
       "      <td>4C471936CD75</td>\n",
       "      <td>1.618153e+12</td>\n",
       "      <td>2234.0</td>\n",
       "      <td>3203.0</td>\n",
       "      <td>if I'm not sure what college I want to attend...</td>\n",
       "      <td>Evidence</td>\n",
       "      <td>Evidence 2</td>\n",
       "      <td>386 387 388 389 390 391 392 393 394 395 396 39...</td>\n",
       "      <td>0</td>\n",
       "      <td>Evidence Evidence Evidence Evidence Evidence E...</td>\n",
       "    </tr>\n",
       "    <tr>\n",
       "      <th>144289</th>\n",
       "      <td>4C471936CD75</td>\n",
       "      <td>1.618153e+12</td>\n",
       "      <td>3221.0</td>\n",
       "      <td>4509.0</td>\n",
       "      <td>seeking multiple opinions before making a har...</td>\n",
       "      <td>Evidence</td>\n",
       "      <td>Evidence 3</td>\n",
       "      <td>576 577 578 579 580 581 582 583 584 585 586 58...</td>\n",
       "      <td>0</td>\n",
       "      <td>Evidence Evidence Evidence Evidence Evidence E...</td>\n",
       "    </tr>\n",
       "    <tr>\n",
       "      <th>144290</th>\n",
       "      <td>4C471936CD75</td>\n",
       "      <td>1.618025e+12</td>\n",
       "      <td>4510.0</td>\n",
       "      <td>4570.0</td>\n",
       "      <td>it is better to seek multiple opinions instead...</td>\n",
       "      <td>Position</td>\n",
       "      <td>Position 1</td>\n",
       "      <td>828 829 830 831 832 833 834 835 836 837 838</td>\n",
       "      <td>0</td>\n",
       "      <td>Position Position Position Position Position P...</td>\n",
       "    </tr>\n",
       "    <tr>\n",
       "      <th>144291</th>\n",
       "      <td>4C471936CD75</td>\n",
       "      <td>1.618025e+12</td>\n",
       "      <td>4570.0</td>\n",
       "      <td>4922.0</td>\n",
       "      <td>The impact of asking people to help you make a...</td>\n",
       "      <td>Evidence</td>\n",
       "      <td>Evidence 4</td>\n",
       "      <td>839 840 841 842 843 844 845 846 847 848 849 85...</td>\n",
       "      <td>1</td>\n",
       "      <td>Evidence Evidence Evidence Evidence Evidence E...</td>\n",
       "    </tr>\n",
       "    <tr>\n",
       "      <th>144292</th>\n",
       "      <td>4C471936CD75</td>\n",
       "      <td>1.618025e+12</td>\n",
       "      <td>4935.0</td>\n",
       "      <td>5825.0</td>\n",
       "      <td>there are many other reasons one might want to...</td>\n",
       "      <td>Concluding_Statement</td>\n",
       "      <td>Concluding Statement 1</td>\n",
       "      <td>905 906 907 908 909 910 911 912 913 914 915 91...</td>\n",
       "      <td>0</td>\n",
       "      <td>Concluding_Statement Concluding_Statement Conc...</td>\n",
       "    </tr>\n",
       "  </tbody>\n",
       "</table>\n",
       "<p>144293 rows × 10 columns</p>\n",
       "</div>"
      ],
      "text/plain": [
       "                  id  discourse_id  discourse_start  discourse_end  \\\n",
       "0       423A1CA112E2  1.622628e+12              8.0          229.0   \n",
       "1       423A1CA112E2  1.622628e+12            230.0          312.0   \n",
       "2       423A1CA112E2  1.622628e+12            313.0          401.0   \n",
       "3       423A1CA112E2  1.622628e+12            402.0          758.0   \n",
       "4       423A1CA112E2  1.622628e+12            759.0          886.0   \n",
       "...              ...           ...              ...            ...   \n",
       "144288  4C471936CD75  1.618153e+12           2234.0         3203.0   \n",
       "144289  4C471936CD75  1.618153e+12           3221.0         4509.0   \n",
       "144290  4C471936CD75  1.618025e+12           4510.0         4570.0   \n",
       "144291  4C471936CD75  1.618025e+12           4570.0         4922.0   \n",
       "144292  4C471936CD75  1.618025e+12           4935.0         5825.0   \n",
       "\n",
       "                                           discourse_text  \\\n",
       "0       Modern humans today are always on their phone....   \n",
       "1       They are some really bad consequences when stu...   \n",
       "2       Some certain areas in the United States ban ph...   \n",
       "3       When people have phones, they know about certa...   \n",
       "4       Driving is one of the way how to get around. P...   \n",
       "...                                                   ...   \n",
       "144288   if I'm not sure what college I want to attend...   \n",
       "144289   seeking multiple opinions before making a har...   \n",
       "144290  it is better to seek multiple opinions instead...   \n",
       "144291  The impact of asking people to help you make a...   \n",
       "144292  there are many other reasons one might want to...   \n",
       "\n",
       "              discourse_type      discourse_type_num  \\\n",
       "0                       Lead                  Lead 1   \n",
       "1                   Position              Position 1   \n",
       "2                   Evidence              Evidence 1   \n",
       "3                   Evidence              Evidence 2   \n",
       "4                      Claim                 Claim 1   \n",
       "...                      ...                     ...   \n",
       "144288              Evidence              Evidence 2   \n",
       "144289              Evidence              Evidence 3   \n",
       "144290              Position              Position 1   \n",
       "144291              Evidence              Evidence 4   \n",
       "144292  Concluding_Statement  Concluding Statement 1   \n",
       "\n",
       "                                         predictionstring  is_not_sent  \\\n",
       "0       1 2 3 4 5 6 7 8 9 10 11 12 13 14 15 16 17 18 1...            1   \n",
       "1            45 46 47 48 49 50 51 52 53 54 55 56 57 58 59            1   \n",
       "2         60 61 62 63 64 65 66 67 68 69 70 71 72 73 74 75            1   \n",
       "3       76 77 78 79 80 81 82 83 84 85 86 87 88 89 90 9...            1   \n",
       "4       139 140 141 142 143 144 145 146 147 148 149 15...            1   \n",
       "...                                                   ...          ...   \n",
       "144288  386 387 388 389 390 391 392 393 394 395 396 39...            0   \n",
       "144289  576 577 578 579 580 581 582 583 584 585 586 58...            0   \n",
       "144290        828 829 830 831 832 833 834 835 836 837 838            0   \n",
       "144291  839 840 841 842 843 844 845 846 847 848 849 85...            1   \n",
       "144292  905 906 907 908 909 910 911 912 913 914 915 91...            0   \n",
       "\n",
       "                                                   labels  \n",
       "0       Lead Lead Lead Lead Lead Lead Lead Lead. Lead ...  \n",
       "1       Position Position Position Position Position P...  \n",
       "2       Evidence Evidence Evidence Evidence Evidence E...  \n",
       "3       Evidence Evidence Evidence Evidence Evidence E...  \n",
       "4       Claim Claim Claim Claim Claim Claim Claim Clai...  \n",
       "...                                                   ...  \n",
       "144288  Evidence Evidence Evidence Evidence Evidence E...  \n",
       "144289  Evidence Evidence Evidence Evidence Evidence E...  \n",
       "144290  Position Position Position Position Position P...  \n",
       "144291  Evidence Evidence Evidence Evidence Evidence E...  \n",
       "144292  Concluding_Statement Concluding_Statement Conc...  \n",
       "\n",
       "[144293 rows x 10 columns]"
      ]
     },
     "execution_count": 27,
     "metadata": {},
     "output_type": "execute_result"
    }
   ],
   "source": [
    "df"
   ]
  },
  {
   "cell_type": "code",
   "execution_count": null,
   "id": "b9fd4880",
   "metadata": {
    "ExecuteTime": {
     "end_time": "2022-02-18T08:22:18.441962Z",
     "start_time": "2022-02-18T08:22:18.438936Z"
    }
   },
   "outputs": [],
   "source": [
    "### ISSUE ? "
   ]
  },
  {
   "cell_type": "markdown",
   "id": "bc341aaa",
   "metadata": {},
   "source": [
    "# Model ! "
   ]
  },
  {
   "cell_type": "code",
   "execution_count": null,
   "id": "58153a60",
   "metadata": {
    "ExecuteTime": {
     "end_time": "2022-02-18T08:01:14.755868Z",
     "start_time": "2022-02-18T08:01:14.713390Z"
    }
   },
   "outputs": [],
   "source": [
    "## Intuition on transformers ? Only embedding ?"
   ]
  },
  {
   "cell_type": "markdown",
   "id": "0386198e",
   "metadata": {},
   "source": [
    "## Split the data"
   ]
  },
  {
   "cell_type": "code",
   "execution_count": 28,
   "id": "b93a4a7d",
   "metadata": {
    "ExecuteTime": {
     "end_time": "2022-02-18T11:21:03.363726Z",
     "start_time": "2022-02-18T11:21:03.040780Z"
    }
   },
   "outputs": [],
   "source": [
    "## We can not do a sample train test split : we would loose the connexion to our id ! Let's shuffle our df and create index\n",
    "\n",
    "VAL_SPLIT = .8\n",
    "TEST_SPLIT = .9\n",
    "\n",
    "df_shuffled = df_preproc.sample(frac=1).reset_index(drop=True) #shuffle without replacement keeping all rows\n",
    "\n",
    "LEN=len(df_shuffled)\n",
    "\n",
    "idx_val=int(LEN*VAL_SPLIT)\n",
    "idx_test=int(LEN*TEST_SPLIT)\n",
    "\n",
    "idx_train=list(range(0,idx_val))\n",
    "idx_val=list(range(idx_val,idx_test))\n",
    "idx_test=list(range(idx_test,LEN))\n",
    "\n",
    "assert(len(idx_test)+len(idx_train)+len(idx_val)==LEN)"
   ]
  },
  {
   "cell_type": "code",
   "execution_count": 29,
   "id": "e9473d5c",
   "metadata": {
    "ExecuteTime": {
     "end_time": "2022-02-18T11:21:03.961762Z",
     "start_time": "2022-02-18T11:21:03.876408Z"
    }
   },
   "outputs": [],
   "source": [
    "## Create our train, val, test split\n",
    "\n",
    "x_train = df_shuffled.loc[idx_train,'sentence'].values ## needs the .values to have an array, needed for the model\n",
    "x_val = df_shuffled.loc[idx_val,'sentence'].values ## needs the .values to have an array, needed for the model\n",
    "x_test = df_shuffled.loc[idx_test,'sentence'].values ## needs the .values to have an array, needed for the model\n",
    "\n",
    "y_train = df_shuffled.loc[idx_train,'label'].values ## needs the .values to have an array, needed for the model\n",
    "y_val = df_shuffled.loc[idx_val,'label'].values ## needs the .values to have an array, needed for the model\n",
    "y_test = df_shuffled.loc[idx_test,'label'].values ## needs the .values to have an array, needed for the model\n",
    "\n"
   ]
  },
  {
   "cell_type": "code",
   "execution_count": 30,
   "id": "e13511fd",
   "metadata": {
    "ExecuteTime": {
     "end_time": "2022-02-18T11:21:04.555874Z",
     "start_time": "2022-02-18T11:21:04.431939Z"
    }
   },
   "outputs": [],
   "source": [
    "## Create OHE for y\n",
    "\n",
    "#label mapping\n",
    "list_labels = pd.Series(y_train.flatten()).unique() #Serie + simple\n",
    "label_map = {l:i for i,l in enumerate(list_labels)}\n",
    "label_map\n",
    "\n",
    "y_train_mapped = np.vectorize(label_map.get)(y_train)\n",
    "y_val_mapped = np.vectorize(label_map.get)(y_val)\n",
    "y_test_mapped = np.vectorize(label_map.get)(y_test)\n",
    "\n",
    "\n",
    "y_train_ohe = np.zeros((len(y_train),len(label_map)))\n",
    "y_val_ohe = np.zeros((len(y_val),len(label_map)))\n",
    "y_test_ohe = np.zeros((len(y_train),len(label_map)))\n",
    "\n",
    "y_train_ohe[np.arange(len(y_train)),y_train_mapped]=1\n",
    "y_val_ohe[np.arange(len(y_val)),y_val_mapped]=1\n",
    "y_test_ohe[np.arange(len(y_test)),y_test_mapped]=1\n"
   ]
  },
  {
   "cell_type": "markdown",
   "id": "e9b484dc",
   "metadata": {},
   "source": [
    "## Let's try the simple way"
   ]
  },
  {
   "cell_type": "code",
   "execution_count": 31,
   "id": "7a5dec9b",
   "metadata": {
    "ExecuteTime": {
     "end_time": "2022-02-18T11:21:08.490647Z",
     "start_time": "2022-02-18T11:21:08.485817Z"
    }
   },
   "outputs": [
    {
     "data": {
      "text/plain": [
       "array(['Author said that it can detect your facail expression by using a 3-D computer model of the face.',\n",
       "       'Students may not like being forced to do things.',\n",
       "       'in the United States.\"(paragraph 5) Exports mean to say that it is better for people to live in cities so they don\\'t have to drive everywhere.',\n",
       "       ...,\n",
       "       'It says that it could modify the lesson like an efective human instructor but how far would it modify it.',\n",
       "       'The best part of the system was that the teacher could save that lesson as a recording for us to go back and revise information at any time.',\n",
       "       'Luke wanted to help the countrys gain back food and supplies so the would survive.'],\n",
       "      dtype=object)"
      ]
     },
     "execution_count": 31,
     "metadata": {},
     "output_type": "execute_result"
    }
   ],
   "source": [
    "x_train"
   ]
  },
  {
   "cell_type": "code",
   "execution_count": 32,
   "id": "9c6df044",
   "metadata": {
    "ExecuteTime": {
     "end_time": "2022-02-18T11:21:20.385447Z",
     "start_time": "2022-02-18T11:21:10.551217Z"
    }
   },
   "outputs": [],
   "source": [
    "#tokenize\n",
    "\n",
    "from tensorflow.keras.preprocessing.text import Tokenizer\n",
    "\n",
    "tokenizer = Tokenizer()\n",
    "tokenizer.fit_on_texts(x_train)\n",
    "\n",
    "x_train_tok = tokenizer.texts_to_sequences(x_train)\n",
    "x_val_tok = tokenizer.texts_to_sequences(x_val)\n",
    "x_test_tok = tokenizer.texts_to_sequences(x_test)\n"
   ]
  },
  {
   "cell_type": "code",
   "execution_count": null,
   "id": "4fe76052",
   "metadata": {
    "ExecuteTime": {
     "end_time": "2022-02-18T10:04:45.262051Z",
     "start_time": "2022-02-18T10:04:42.182874Z"
    }
   },
   "outputs": [],
   "source": [
    "df_shuffled['len_sen']=df_shuffled['sentence'].apply(len)\n",
    "df_shuffled['len_sen'].hist()\n",
    "plt.plot([256,256],[0,15000],c='r')"
   ]
  },
  {
   "cell_type": "code",
   "execution_count": null,
   "id": "169157e4",
   "metadata": {
    "ExecuteTime": {
     "end_time": "2022-02-18T10:09:16.733161Z",
     "start_time": "2022-02-18T10:09:16.570086Z"
    },
    "scrolled": true
   },
   "outputs": [],
   "source": [
    "#padding\n",
    "from tensorflow.keras.preprocessing.sequence import pad_sequences\n",
    "\n",
    "x_train_pad = pad_sequences(x_train_tok, dtype='float32', padding='post',maxlen=256)\n",
    "x_val_pad = pad_sequences(x_val_tok, dtype='float32', padding='post',maxlen=256)\n",
    "x_test_pad = pad_sequences(x_test_tok, dtype='float32', padding='post',maxlen=256)"
   ]
  },
  {
   "cell_type": "code",
   "execution_count": null,
   "id": "251e781c",
   "metadata": {
    "ExecuteTime": {
     "end_time": "2022-02-18T10:11:35.082700Z",
     "start_time": "2022-02-18T10:11:35.077460Z"
    }
   },
   "outputs": [],
   "source": [
    "## Define variables for our embedding layer\n",
    "vocab_size = len(tokenizer.word_index)\n",
    "vocab_size"
   ]
  },
  {
   "cell_type": "code",
   "execution_count": null,
   "id": "dafa9422",
   "metadata": {},
   "outputs": [],
   "source": [
    "def simple_model():\n",
    "    \n",
    "    inputs=tf.keras.layers.Input(shape=)\n",
    "    \n",
    "    x = tf.keras.layers.Embedding(input_dim=vocab_size + 1, output_dim=64, mask_zero=True)(inputs)\n",
    "    x = tf.keras.layers.LSTM(units = 256, activation = 'tanh')(x)\n",
    "    x = tf.keras.layers.Dense(58,activation='relu')(x)\n",
    "    \n",
    "    outputs = tf.keras.layers.Dense(8,activation='softmax')(x)\n",
    "\n",
    "    return model "
   ]
  },
  {
   "cell_type": "markdown",
   "id": "cb8b3e17",
   "metadata": {},
   "source": [
    "## Transformers !"
   ]
  },
  {
   "cell_type": "code",
   "execution_count": null,
   "id": "e9ace6a3",
   "metadata": {
    "ExecuteTime": {
     "end_time": "2022-02-18T08:15:12.742362Z",
     "start_time": "2022-02-18T08:15:03.722316Z"
    }
   },
   "outputs": [],
   "source": [
    "from transformers import TFBertModel,AutoTokenizer\n",
    "pretrained_bert = TFBertModel.from_pretrained(\"bert-base-uncased\")\n",
    "tokenizer = AutoTokenizer.from_pretrained(\"bert-base-uncased\")"
   ]
  },
  {
   "cell_type": "code",
   "execution_count": null,
   "id": "a105e43a",
   "metadata": {},
   "outputs": [],
   "source": [
    "x_train_tok=tokenizer(list(x_train),truncation=True,max_length=DISCOURSE_LEN,padding='max_length',\n",
    "              return_token_type_ids=False,return_tensors='np')"
   ]
  }
 ],
 "metadata": {
  "kernelspec": {
   "display_name": "Python 3 (ipykernel)",
   "language": "python",
   "name": "python3"
  },
  "language_info": {
   "codemirror_mode": {
    "name": "ipython",
    "version": 3
   },
   "file_extension": ".py",
   "mimetype": "text/x-python",
   "name": "python",
   "nbconvert_exporter": "python",
   "pygments_lexer": "ipython3",
   "version": "3.8.12"
  },
  "toc": {
   "base_numbering": 1,
   "nav_menu": {},
   "number_sections": true,
   "sideBar": true,
   "skip_h1_title": false,
   "title_cell": "Table of Contents",
   "title_sidebar": "Contents",
   "toc_cell": false,
   "toc_position": {},
   "toc_section_display": true,
   "toc_window_display": false
  },
  "varInspector": {
   "cols": {
    "lenName": 16,
    "lenType": 16,
    "lenVar": 40
   },
   "kernels_config": {
    "python": {
     "delete_cmd_postfix": "",
     "delete_cmd_prefix": "del ",
     "library": "var_list.py",
     "varRefreshCmd": "print(var_dic_list())"
    },
    "r": {
     "delete_cmd_postfix": ") ",
     "delete_cmd_prefix": "rm(",
     "library": "var_list.r",
     "varRefreshCmd": "cat(var_dic_list()) "
    }
   },
   "types_to_exclude": [
    "module",
    "function",
    "builtin_function_or_method",
    "instance",
    "_Feature"
   ],
   "window_display": false
  }
 },
 "nbformat": 4,
 "nbformat_minor": 5
}
