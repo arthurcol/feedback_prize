{
 "cells": [
  {
   "cell_type": "markdown",
   "id": "59cb5ea2",
   "metadata": {
    "papermill": {
     "duration": 0.022357,
     "end_time": "2022-02-11T10:32:08.844251",
     "exception": false,
     "start_time": "2022-02-11T10:32:08.821894",
     "status": "completed"
    },
    "tags": []
   },
   "source": [
    "# Imports and Variables "
   ]
  },
  {
   "cell_type": "code",
   "execution_count": 1,
   "id": "9db7b815",
   "metadata": {
    "ExecuteTime": {
     "end_time": "2022-02-09T13:16:56.018595Z",
     "start_time": "2022-02-09T13:16:56.01273Z"
    },
    "execution": {
     "iopub.execute_input": "2022-02-11T10:32:08.891267Z",
     "iopub.status.busy": "2022-02-11T10:32:08.889764Z",
     "iopub.status.idle": "2022-02-11T10:32:08.901047Z",
     "shell.execute_reply": "2022-02-11T10:32:08.900526Z",
     "shell.execute_reply.started": "2022-02-09T13:48:24.698621Z"
    },
    "papermill": {
     "duration": 0.03576,
     "end_time": "2022-02-11T10:32:08.901179",
     "exception": false,
     "start_time": "2022-02-11T10:32:08.865419",
     "status": "completed"
    },
    "tags": []
   },
   "outputs": [],
   "source": [
    "#variables \n",
    "import os \n",
    "\n",
    "SEQ_LEN = 1024 \n",
    "\n",
    "BATCH_SIZE = 8\n",
    "\n",
    "\n",
    "#PATHS \n",
    "\n",
    "LOAD_BACKBONE_FROM = '../input/backbone/'\n",
    "LOAD_MODEL_WEIGHTS_FROM = '../input/mymodel/mymodel'\n",
    "LOAD_TXT_FROM = '../input/feedback-prize-2021/test/'\n",
    "\n",
    "#GPU and info message for tf\n",
    "os.environ[\"CUDA_VISIBLE_DEVICES\"]='0' \n",
    "os.environ['TF_CPP_MIN_LOG_LEVEL'] = '2'"
   ]
  },
  {
   "cell_type": "code",
   "execution_count": 2,
   "id": "89d5ea39",
   "metadata": {
    "ExecuteTime": {
     "end_time": "2022-02-09T13:16:14.992257Z",
     "start_time": "2022-02-09T13:16:14.981509Z"
    },
    "execution": {
     "iopub.execute_input": "2022-02-11T10:32:08.946557Z",
     "iopub.status.busy": "2022-02-11T10:32:08.946069Z",
     "iopub.status.idle": "2022-02-11T10:32:15.810602Z",
     "shell.execute_reply": "2022-02-11T10:32:15.810107Z",
     "shell.execute_reply.started": "2022-02-09T13:48:32.513703Z"
    },
    "papermill": {
     "duration": 6.888819,
     "end_time": "2022-02-11T10:32:15.810763",
     "exception": false,
     "start_time": "2022-02-11T10:32:08.921944",
     "status": "completed"
    },
    "tags": []
   },
   "outputs": [],
   "source": [
    "# canonicals \n",
    "import pandas as pd \n",
    "import numpy as np \n",
    "\n",
    "#deep\n",
    "import tensorflow as tf\n",
    "from transformers import TFAutoModel, AutoConfig, AutoTokenizer"
   ]
  },
  {
   "cell_type": "markdown",
   "id": "621e9a0e",
   "metadata": {
    "papermill": {
     "duration": 0.020572,
     "end_time": "2022-02-11T10:32:15.852491",
     "exception": false,
     "start_time": "2022-02-11T10:32:15.831919",
     "status": "completed"
    },
    "tags": []
   },
   "source": [
    "# Loading and preprocessing data"
   ]
  },
  {
   "cell_type": "code",
   "execution_count": 3,
   "id": "263e8156",
   "metadata": {
    "ExecuteTime": {
     "end_time": "2022-02-09T13:18:16.81691Z",
     "start_time": "2022-02-09T13:18:16.811361Z"
    },
    "execution": {
     "iopub.execute_input": "2022-02-11T10:32:15.898409Z",
     "iopub.status.busy": "2022-02-11T10:32:15.897831Z",
     "iopub.status.idle": "2022-02-11T10:32:15.917097Z",
     "shell.execute_reply": "2022-02-11T10:32:15.917471Z",
     "shell.execute_reply.started": "2022-02-09T13:48:43.995593Z"
    },
    "papermill": {
     "duration": 0.044566,
     "end_time": "2022-02-11T10:32:15.917606",
     "exception": false,
     "start_time": "2022-02-11T10:32:15.873040",
     "status": "completed"
    },
    "tags": []
   },
   "outputs": [
    {
     "data": {
      "text/html": [
       "<div>\n",
       "<style scoped>\n",
       "    .dataframe tbody tr th:only-of-type {\n",
       "        vertical-align: middle;\n",
       "    }\n",
       "\n",
       "    .dataframe tbody tr th {\n",
       "        vertical-align: top;\n",
       "    }\n",
       "\n",
       "    .dataframe thead th {\n",
       "        text-align: right;\n",
       "    }\n",
       "</style>\n",
       "<table border=\"1\" class=\"dataframe\">\n",
       "  <thead>\n",
       "    <tr style=\"text-align: right;\">\n",
       "      <th></th>\n",
       "      <th>id</th>\n",
       "    </tr>\n",
       "  </thead>\n",
       "  <tbody>\n",
       "    <tr>\n",
       "      <th>0</th>\n",
       "      <td>0FB0700DAF44</td>\n",
       "    </tr>\n",
       "    <tr>\n",
       "      <th>1</th>\n",
       "      <td>D72CB1C11673</td>\n",
       "    </tr>\n",
       "    <tr>\n",
       "      <th>2</th>\n",
       "      <td>18409261F5C2</td>\n",
       "    </tr>\n",
       "    <tr>\n",
       "      <th>3</th>\n",
       "      <td>DF920E0A7337</td>\n",
       "    </tr>\n",
       "    <tr>\n",
       "      <th>4</th>\n",
       "      <td>D46BCB48440A</td>\n",
       "    </tr>\n",
       "  </tbody>\n",
       "</table>\n",
       "</div>"
      ],
      "text/plain": [
       "             id\n",
       "0  0FB0700DAF44\n",
       "1  D72CB1C11673\n",
       "2  18409261F5C2\n",
       "3  DF920E0A7337\n",
       "4  D46BCB48440A"
      ]
     },
     "execution_count": 3,
     "metadata": {},
     "output_type": "execute_result"
    }
   ],
   "source": [
    "txt_ids = [f.split('.')[0] for f in os.listdir(LOAD_TXT_FROM)]\n",
    "df_test = pd.DataFrame(txt_ids,columns=['id'])\n",
    "df_test"
   ]
  },
  {
   "cell_type": "code",
   "execution_count": 4,
   "id": "1b3ca4ec",
   "metadata": {
    "ExecuteTime": {
     "end_time": "2022-02-09T13:23:48.85536Z",
     "start_time": "2022-02-09T13:23:48.85116Z"
    },
    "execution": {
     "iopub.execute_input": "2022-02-11T10:32:15.965307Z",
     "iopub.status.busy": "2022-02-11T10:32:15.964505Z",
     "iopub.status.idle": "2022-02-11T10:32:15.966316Z",
     "shell.execute_reply": "2022-02-11T10:32:15.966917Z",
     "shell.execute_reply.started": "2022-02-09T13:48:47.851725Z"
    },
    "papermill": {
     "duration": 0.02812,
     "end_time": "2022-02-11T10:32:15.967056",
     "exception": false,
     "start_time": "2022-02-11T10:32:15.938936",
     "status": "completed"
    },
    "tags": []
   },
   "outputs": [],
   "source": [
    "def get_essay(id_):\n",
    "    \"\"\"Function to get the full text of an essay from the .txt file.\n",
    "\n",
    "    Args:\n",
    "        id_ (str): id of the essay\n",
    "        mode (str, optional): determines whether to access *train* or *test* texts. \\\n",
    "        Defaults to 'train'.\n",
    "\n",
    "    Returns:\n",
    "        str: Returns the full text of the id\n",
    "    \"\"\"\n",
    "    with open(os.path.join(LOAD_TXT_FROM,f'{id_}.txt'),'r') as file:\n",
    "        txt = file.read()\n",
    "        return txt.strip()"
   ]
  },
  {
   "cell_type": "code",
   "execution_count": 5,
   "id": "e3eecc9f",
   "metadata": {
    "execution": {
     "iopub.execute_input": "2022-02-11T10:32:16.016664Z",
     "iopub.status.busy": "2022-02-11T10:32:16.016099Z",
     "iopub.status.idle": "2022-02-11T10:32:16.036234Z",
     "shell.execute_reply": "2022-02-11T10:32:16.035802Z",
     "shell.execute_reply.started": "2022-02-09T13:48:49.192967Z"
    },
    "papermill": {
     "duration": 0.04807,
     "end_time": "2022-02-11T10:32:16.036346",
     "exception": false,
     "start_time": "2022-02-11T10:32:15.988276",
     "status": "completed"
    },
    "tags": []
   },
   "outputs": [],
   "source": [
    "# store text in df\n",
    "df_test['essays'] = df_test['id'].apply(get_essay)"
   ]
  },
  {
   "cell_type": "markdown",
   "id": "89373b90",
   "metadata": {
    "papermill": {
     "duration": 0.0211,
     "end_time": "2022-02-11T10:32:16.078692",
     "exception": false,
     "start_time": "2022-02-11T10:32:16.057592",
     "status": "completed"
    },
    "tags": []
   },
   "source": [
    "# Tokenize texts"
   ]
  },
  {
   "cell_type": "markdown",
   "id": "9386c3ca",
   "metadata": {
    "papermill": {
     "duration": 0.020633,
     "end_time": "2022-02-11T10:32:16.120312",
     "exception": false,
     "start_time": "2022-02-11T10:32:16.099679",
     "status": "completed"
    },
    "tags": []
   },
   "source": [
    "## Tokenizer"
   ]
  },
  {
   "cell_type": "code",
   "execution_count": 6,
   "id": "511ceffc",
   "metadata": {
    "ExecuteTime": {
     "end_time": "2022-02-09T13:22:17.698739Z",
     "start_time": "2022-02-09T13:22:17.669997Z"
    },
    "execution": {
     "iopub.execute_input": "2022-02-11T10:32:16.171123Z",
     "iopub.status.busy": "2022-02-11T10:32:16.170332Z",
     "iopub.status.idle": "2022-02-11T10:32:16.177500Z",
     "shell.execute_reply": "2022-02-11T10:32:16.177081Z",
     "shell.execute_reply.started": "2022-02-09T13:48:53.532126Z"
    },
    "papermill": {
     "duration": 0.03649,
     "end_time": "2022-02-11T10:32:16.177612",
     "exception": false,
     "start_time": "2022-02-11T10:32:16.141122",
     "status": "completed"
    },
    "tags": []
   },
   "outputs": [],
   "source": [
    "def tokenize_labelize(essay,tokenizer,predictionstring=None,labels=None,max_len=SEQ_LEN):\n",
    "    \"\"\"Tokenize an essay and match each token with the corresponding label.\n",
    "\n",
    "    Args:\n",
    "        essay (str): Text to tokenize\n",
    "        tokenizer (tokenizer): Tokenizer from HF.\n",
    "        predictionstring (pandas.Series | numpy.array, optional): As a unique string, list of index position of words with a label. Must be provided with labels. Defaults to None.\n",
    "        labels (pandas.Series | numpy.array, optional): As a unique string, list of labels of each word. Must be provided with labels. Defaults to None.\n",
    "        max_len (int): Maximum sequence length for padding/truncating.\n",
    "        \n",
    "\n",
    "    Returns:\n",
    "        dict : Returns a dictionnary with input_ids,attention_mask and labels if passed.\n",
    "    \"\"\"\n",
    "    \n",
    "    tokens = tokenizer(essay,\n",
    "                       return_attention_mask = True,\n",
    "                       return_token_type_ids = False,\n",
    "                       padding = 'max_length',\n",
    "                       max_length = SEQ_LEN,\n",
    "                       truncation = True,\n",
    "                       return_tensors='np'\n",
    "                      )\n",
    "    \n",
    "    word_ids=tokens.word_ids()\n",
    "    \n",
    "    labels_mapping = {\n",
    "                      'B-Lead' : 0,\n",
    "                      'B-Position' : 1,\n",
    "                      'B-Evidence' : 2,\n",
    "                      'B-Claim' : 3,\n",
    "                      'B-Concluding_Statement' : 4,\n",
    "                      'B-Counterclaim' : 5,\n",
    "                      'B-Rebuttal' : 6,\n",
    "                      'I-Lead' : 7,\n",
    "                      'I-Position' : 8,\n",
    "                      'I-Evidence' : 9,\n",
    "                      'I-Claim' : 10,\n",
    "                      'I-Concluding_Statement' : 11,\n",
    "                      'I-Counterclaim' : 12,\n",
    "                      'I-Rebuttal': 13\n",
    "                        }\n",
    "    \n",
    "    if labels:\n",
    "        match = {p:labels_mapping[l] for p,l in zip(predictionstring,labels)}\n",
    "        labels_matched = [15 if (w==None or w==word_ids[i-1]) \\\n",
    "                            else match.get(str(w),14) \\\n",
    "                            for i,w in enumerate(word_ids)]\n",
    "                            \n",
    "        \n",
    "        return {\n",
    "        'input_ids' : tokens['input_ids'][0],\n",
    "        'attention_mask' : tokens['attention_mask'][0],\n",
    "        'labels': np.array(labels_matched), \n",
    "        'predictionstring':np.array(word_ids)\n",
    "        }\n",
    "    \n",
    "    return {\n",
    "        'input_ids' : tokens['input_ids'][0],\n",
    "        'attention_mask' : tokens['attention_mask'][0],\n",
    "        'predictionstring':np.array(word_ids)\n",
    "        }"
   ]
  },
  {
   "cell_type": "code",
   "execution_count": 7,
   "id": "8b54766a",
   "metadata": {
    "ExecuteTime": {
     "end_time": "2022-02-09T13:22:43.130645Z",
     "start_time": "2022-02-09T13:22:43.113541Z"
    },
    "execution": {
     "iopub.execute_input": "2022-02-11T10:32:16.222294Z",
     "iopub.status.busy": "2022-02-11T10:32:16.221468Z",
     "iopub.status.idle": "2022-02-11T10:32:16.225883Z",
     "shell.execute_reply": "2022-02-11T10:32:16.225454Z",
     "shell.execute_reply.started": "2022-02-09T13:48:55.068076Z"
    },
    "papermill": {
     "duration": 0.027485,
     "end_time": "2022-02-11T10:32:16.225992",
     "exception": false,
     "start_time": "2022-02-11T10:32:16.198507",
     "status": "completed"
    },
    "tags": []
   },
   "outputs": [],
   "source": [
    "## vectorize the function tokenizer above\n",
    "tokenize_labelize_vect = np.vectorize(tokenize_labelize,excluded=['SEQ_LEN'],otypes=['object'])"
   ]
  },
  {
   "cell_type": "code",
   "execution_count": 8,
   "id": "5b4ded61",
   "metadata": {
    "execution": {
     "iopub.execute_input": "2022-02-11T10:32:16.271298Z",
     "iopub.status.busy": "2022-02-11T10:32:16.270792Z",
     "iopub.status.idle": "2022-02-11T10:32:16.416115Z",
     "shell.execute_reply": "2022-02-11T10:32:16.416531Z",
     "shell.execute_reply.started": "2022-02-09T13:48:57.546827Z"
    },
    "papermill": {
     "duration": 0.169916,
     "end_time": "2022-02-11T10:32:16.416717",
     "exception": false,
     "start_time": "2022-02-11T10:32:16.246801",
     "status": "completed"
    },
    "tags": []
   },
   "outputs": [],
   "source": [
    "## load tokenizer\n",
    "tokenizer = AutoTokenizer.from_pretrained(LOAD_BACKBONE_FROM)"
   ]
  },
  {
   "cell_type": "code",
   "execution_count": 9,
   "id": "a5fb1846",
   "metadata": {
    "execution": {
     "iopub.execute_input": "2022-02-11T10:32:16.464389Z",
     "iopub.status.busy": "2022-02-11T10:32:16.463619Z",
     "iopub.status.idle": "2022-02-11T10:32:16.486745Z",
     "shell.execute_reply": "2022-02-11T10:32:16.486301Z",
     "shell.execute_reply.started": "2022-02-09T13:49:00.259629Z"
    },
    "papermill": {
     "duration": 0.048676,
     "end_time": "2022-02-11T10:32:16.486863",
     "exception": false,
     "start_time": "2022-02-11T10:32:16.438187",
     "status": "completed"
    },
    "tags": []
   },
   "outputs": [],
   "source": [
    "#create tokens\n",
    "tokens_test = tokenize_labelize_vect(df_test.essays,tokenizer,max_len=SEQ_LEN)"
   ]
  },
  {
   "cell_type": "markdown",
   "id": "e7ed71b2",
   "metadata": {
    "papermill": {
     "duration": 0.020753,
     "end_time": "2022-02-11T10:32:16.528989",
     "exception": false,
     "start_time": "2022-02-11T10:32:16.508236",
     "status": "completed"
    },
    "tags": []
   },
   "source": [
    "## Dataset creation"
   ]
  },
  {
   "cell_type": "code",
   "execution_count": 10,
   "id": "54940360",
   "metadata": {
    "ExecuteTime": {
     "end_time": "2022-02-09T13:29:39.724058Z",
     "start_time": "2022-02-09T13:29:39.716081Z"
    },
    "execution": {
     "iopub.execute_input": "2022-02-11T10:32:16.580729Z",
     "iopub.status.busy": "2022-02-11T10:32:16.578379Z",
     "iopub.status.idle": "2022-02-11T10:32:16.582622Z",
     "shell.execute_reply": "2022-02-11T10:32:16.583062Z",
     "shell.execute_reply.started": "2022-02-09T13:49:03.531009Z"
    },
    "papermill": {
     "duration": 0.033186,
     "end_time": "2022-02-11T10:32:16.583187",
     "exception": false,
     "start_time": "2022-02-11T10:32:16.550001",
     "status": "completed"
    },
    "tags": []
   },
   "outputs": [],
   "source": [
    "def dataset_creator(tokens):\n",
    "    \"\"\"\n",
    "    Creates a dictionnary with tokens attributes as a numpy array.\n",
    "\n",
    "    Args:\n",
    "        tokens (list): list of dictionnaries, outputs from tokeniner\n",
    "\n",
    "    Returns:\n",
    "        dict: dict with list of size BATCH_SIZE of inputs_id, attention mask, predictionstring and labels if provided.\n",
    "    \"\"\"\n",
    "    \n",
    "    keys = tokens[0].keys()\n",
    "\n",
    "    inputs = {\n",
    "        'input_ids':[],\n",
    "        'attention_mask':[]\n",
    "        }\n",
    "    predictionstring = []\n",
    "    labels = []\n",
    "       \n",
    "    for t in tokens:\n",
    "        inputs['input_ids'].append(t['input_ids'])\n",
    "        inputs['attention_mask'].append(t['attention_mask'])\n",
    "        predictionstring.append(t['predictionstring'])\n",
    "        if 'labels' in keys:\n",
    "                labels.append(t['labels'])\n",
    "\n",
    "        \n",
    "    inputs['input_ids'] = np.array(inputs['input_ids'])\n",
    "    inputs['attention_mask'] = np.array(inputs['attention_mask'])\n",
    "    predictionstring = np.array(predictionstring)\n",
    "    labels = np.array(labels)\n",
    "    \n",
    "    if 'labels' in tokens[0].keys():\n",
    "        \n",
    "        #OHE labels\n",
    "        labels_ohe = np.zeros((len(labels),SEQ_LEN,16))\n",
    "        \n",
    "        dim1 = np.arange(len(labels))\n",
    "        dim2 = np.arange(SEQ_LEN)\n",
    "        \n",
    "        labels_ohe[dim1[:,None,None],dim2[None,:,None],labels[:,:,None]] = 1\n",
    "        \n",
    "        return inputs, labels_ohe, predictionstring\n",
    "    \n",
    "    return inputs, predictionstring"
   ]
  },
  {
   "cell_type": "code",
   "execution_count": 11,
   "id": "ceb5d2ba",
   "metadata": {
    "execution": {
     "iopub.execute_input": "2022-02-11T10:32:16.629303Z",
     "iopub.status.busy": "2022-02-11T10:32:16.628544Z",
     "iopub.status.idle": "2022-02-11T10:32:16.630525Z",
     "shell.execute_reply": "2022-02-11T10:32:16.630961Z",
     "shell.execute_reply.started": "2022-02-09T13:49:04.545139Z"
    },
    "papermill": {
     "duration": 0.026963,
     "end_time": "2022-02-11T10:32:16.631085",
     "exception": false,
     "start_time": "2022-02-11T10:32:16.604122",
     "status": "completed"
    },
    "tags": []
   },
   "outputs": [],
   "source": [
    "## creating test dataset\n",
    "X_test,ps_test = dataset_creator(tokens_test)"
   ]
  },
  {
   "cell_type": "markdown",
   "id": "e59a69a9",
   "metadata": {
    "papermill": {
     "duration": 0.021075,
     "end_time": "2022-02-11T10:32:16.673192",
     "exception": false,
     "start_time": "2022-02-11T10:32:16.652117",
     "status": "completed"
    },
    "tags": []
   },
   "source": [
    "# Model prediction"
   ]
  },
  {
   "cell_type": "markdown",
   "id": "7206db1a",
   "metadata": {
    "papermill": {
     "duration": 0.020733,
     "end_time": "2022-02-11T10:32:16.715129",
     "exception": false,
     "start_time": "2022-02-11T10:32:16.694396",
     "status": "completed"
    },
    "tags": []
   },
   "source": [
    "## Model architecture"
   ]
  },
  {
   "cell_type": "code",
   "execution_count": 12,
   "id": "7db24263",
   "metadata": {
    "ExecuteTime": {
     "end_time": "2022-02-09T13:37:01.648522Z",
     "start_time": "2022-02-09T13:37:01.158808Z"
    },
    "execution": {
     "iopub.execute_input": "2022-02-11T10:32:16.761456Z",
     "iopub.status.busy": "2022-02-11T10:32:16.760922Z",
     "iopub.status.idle": "2022-02-11T10:32:30.602549Z",
     "shell.execute_reply": "2022-02-11T10:32:30.603198Z",
     "shell.execute_reply.started": "2022-02-09T13:49:07.057087Z"
    },
    "papermill": {
     "duration": 13.867367,
     "end_time": "2022-02-11T10:32:30.603410",
     "exception": false,
     "start_time": "2022-02-11T10:32:16.736043",
     "status": "completed"
    },
    "tags": []
   },
   "outputs": [
    {
     "name": "stderr",
     "output_type": "stream",
     "text": [
      "All model checkpoint layers were used when initializing TFLongformerModel.\n",
      "\n",
      "All the layers of TFLongformerModel were initialized from the model checkpoint at ../input/backbone/tf_model.h5.\n",
      "If your task is similar to the task the model of the checkpoint was trained on, you can already use TFLongformerModel for predictions without further training.\n"
     ]
    }
   ],
   "source": [
    "## Instantiate model Longformer to be used as backbone\n",
    "config = AutoConfig.from_pretrained(os.path.join(LOAD_BACKBONE_FROM,'config.json'))\n",
    "backbone = TFAutoModel.from_pretrained(os.path.join(LOAD_BACKBONE_FROM,'tf_model.h5'),config=config)"
   ]
  },
  {
   "cell_type": "code",
   "execution_count": 13,
   "id": "de774ab7",
   "metadata": {
    "execution": {
     "iopub.execute_input": "2022-02-11T10:32:30.657658Z",
     "iopub.status.busy": "2022-02-11T10:32:30.656163Z",
     "iopub.status.idle": "2022-02-11T10:32:30.659590Z",
     "shell.execute_reply": "2022-02-11T10:32:30.660033Z",
     "shell.execute_reply.started": "2022-02-09T13:49:23.360148Z"
    },
    "papermill": {
     "duration": 0.033231,
     "end_time": "2022-02-11T10:32:30.660175",
     "exception": false,
     "start_time": "2022-02-11T10:32:30.626944",
     "status": "completed"
    },
    "tags": []
   },
   "outputs": [],
   "source": [
    "def init_model():\n",
    "    input_ids = tf.keras.layers.Input(shape=(SEQ_LEN,),dtype='int32')\n",
    "    attention_mask = tf.keras.layers.Input(shape=(SEQ_LEN,),dtype='int32')\n",
    "    \n",
    "    x = backbone({'input_ids':input_ids,\n",
    "                 'attention_mask':attention_mask})[0]\n",
    "\n",
    "    backbone.trainable = False\n",
    "\n",
    "\n",
    "    x = tf.keras.layers.Bidirectional(tf.keras.layers.LSTM(units = 512,\n",
    "                                                           activation = 'tanh',\n",
    "                                                           dropout=.2,\n",
    "                                                           return_sequences=True))(x)\n",
    "    x_res = tf.keras.layers.Bidirectional(tf.keras.layers.LSTM(units = 512,\n",
    "                                                           activation = 'tanh',\n",
    "                                                           dropout=.2,\n",
    "                                                           return_sequences=True))(x)\n",
    "    \n",
    "\n",
    "    x = tf.keras.layers.add([x,x_res])\n",
    "    output = tf.keras.layers.TimeDistributed(tf.keras.layers.Dense(16,activation = 'softmax'))(x)\n",
    "\n",
    "    model = tf.keras.models.Model(inputs={'input_ids':input_ids,\n",
    "                                          'attention_mask':attention_mask},outputs=output)\n",
    "    \n",
    "    \n",
    "    return model"
   ]
  },
  {
   "cell_type": "code",
   "execution_count": 14,
   "id": "59651021",
   "metadata": {
    "execution": {
     "iopub.execute_input": "2022-02-11T10:32:30.711176Z",
     "iopub.status.busy": "2022-02-11T10:32:30.710516Z",
     "iopub.status.idle": "2022-02-11T10:32:49.698672Z",
     "shell.execute_reply": "2022-02-11T10:32:49.699094Z",
     "shell.execute_reply.started": "2022-02-09T13:49:24.262996Z"
    },
    "papermill": {
     "duration": 19.017529,
     "end_time": "2022-02-11T10:32:49.699240",
     "exception": false,
     "start_time": "2022-02-11T10:32:30.681711",
     "status": "completed"
    },
    "tags": []
   },
   "outputs": [
    {
     "name": "stdout",
     "output_type": "stream",
     "text": [
      "huggingface/tokenizers: The current process just got forked, after parallelism has already been used. Disabling parallelism to avoid deadlocks...\n",
      "To disable this warning, you can either:\n",
      "\t- Avoid using `tokenizers` before the fork if possible\n",
      "\t- Explicitly set the environment variable TOKENIZERS_PARALLELISM=(true | false)\n",
      "huggingface/tokenizers: The current process just got forked, after parallelism has already been used. Disabling parallelism to avoid deadlocks...\n",
      "To disable this warning, you can either:\n",
      "\t- Avoid using `tokenizers` before the fork if possible\n",
      "\t- Explicitly set the environment variable TOKENIZERS_PARALLELISM=(true | false)\n"
     ]
    },
    {
     "data": {
      "image/png": "[encoded data removed]",
      "text/plain": [
       "<IPython.core.display.Image object>"
      ]
     },
     "execution_count": 14,
     "metadata": {},
     "output_type": "execute_result"
    }
   ],
   "source": [
    "## instantiate the model, plot the graph\n",
    "model = init_model()\n",
    "\n",
    "tf.keras.utils.plot_model(model,show_shapes=True)"
   ]
  },
  {
   "cell_type": "markdown",
   "id": "41995070",
   "metadata": {
    "papermill": {
     "duration": 0.02412,
     "end_time": "2022-02-11T10:32:49.747839",
     "exception": false,
     "start_time": "2022-02-11T10:32:49.723719",
     "status": "completed"
    },
    "tags": []
   },
   "source": [
    "## Model compilation"
   ]
  },
  {
   "cell_type": "code",
   "execution_count": 15,
   "id": "0d637ae6",
   "metadata": {
    "execution": {
     "iopub.execute_input": "2022-02-11T10:32:49.804197Z",
     "iopub.status.busy": "2022-02-11T10:32:49.803431Z",
     "iopub.status.idle": "2022-02-11T10:32:49.805448Z",
     "shell.execute_reply": "2022-02-11T10:32:49.805879Z",
     "shell.execute_reply.started": "2022-02-09T13:49:49.416398Z"
    },
    "papermill": {
     "duration": 0.034061,
     "end_time": "2022-02-11T10:32:49.806006",
     "exception": false,
     "start_time": "2022-02-11T10:32:49.771945",
     "status": "completed"
    },
    "tags": []
   },
   "outputs": [],
   "source": [
    "# creating homemade metric\n",
    "\n",
    "def accuracy_masked_func(y_true,y_pred):\n",
    "    y_pred = tf.cast(tf.argmax(y_pred,axis=-1),'int32')\n",
    "    y_true = tf.cast(y_true,'int32')\n",
    "    y_true = tf.cast(tf.argmax(y_true,axis=-1),'int32') #for y_pred and y_true to match\n",
    "    mask = tf.cast(y_true != 15,'int32') #create a mask\n",
    "    matches = tf.cast(tf.equal(y_true,y_pred),'int32')*mask #calculate the matches ignoring the masking\n",
    "    accuracy = tf.math.reduce_sum(matches,axis=-1)/tf.maximum(tf.math.reduce_sum(mask,axis=-1),1)\n",
    "    \n",
    "    return accuracy"
   ]
  },
  {
   "cell_type": "code",
   "execution_count": 16,
   "id": "fdb1dcd8",
   "metadata": {
    "execution": {
     "iopub.execute_input": "2022-02-11T10:32:49.864353Z",
     "iopub.status.busy": "2022-02-11T10:32:49.863561Z",
     "iopub.status.idle": "2022-02-11T10:32:49.883890Z",
     "shell.execute_reply": "2022-02-11T10:32:49.883455Z",
     "shell.execute_reply.started": "2022-02-09T13:49:50.243674Z"
    },
    "papermill": {
     "duration": 0.053655,
     "end_time": "2022-02-11T10:32:49.884015",
     "exception": false,
     "start_time": "2022-02-11T10:32:49.830360",
     "status": "completed"
    },
    "tags": []
   },
   "outputs": [],
   "source": [
    "# define loss and metrics \n",
    "loss = tf.keras.losses.CategoricalCrossentropy(name='categorical_crossentropy')\n",
    "cat_accuracy = tf.keras.metrics.CategoricalAccuracy()\n",
    "masked_accuracy = tf.keras.metrics.MeanMetricWrapper(fn=accuracy_masked_func)\n",
    "\n",
    "# RMSProp optimizer with clip value and small lr to avoid exploiding gradient \n",
    "opt = tf.keras.optimizers.RMSprop(clipvalue=.5,learning_rate=0.0001)\n",
    "\n",
    "#compile\n",
    "model.compile(optimizer=opt,loss=loss,metrics=[cat_accuracy,masked_accuracy])"
   ]
  },
  {
   "cell_type": "markdown",
   "id": "9c0a32e9",
   "metadata": {
    "papermill": {
     "duration": 0.024517,
     "end_time": "2022-02-11T10:32:49.937271",
     "exception": false,
     "start_time": "2022-02-11T10:32:49.912754",
     "status": "completed"
    },
    "tags": []
   },
   "source": [
    "## Load model pretrained weights"
   ]
  },
  {
   "cell_type": "code",
   "execution_count": 17,
   "id": "534a0fbb",
   "metadata": {
    "execution": {
     "iopub.execute_input": "2022-02-11T10:32:50.025175Z",
     "iopub.status.busy": "2022-02-11T10:32:50.024371Z",
     "iopub.status.idle": "2022-02-11T10:32:57.777162Z",
     "shell.execute_reply": "2022-02-11T10:32:57.776594Z",
     "shell.execute_reply.started": "2022-02-09T13:49:56.848183Z"
    },
    "papermill": {
     "duration": 7.81584,
     "end_time": "2022-02-11T10:32:57.777304",
     "exception": false,
     "start_time": "2022-02-11T10:32:49.961464",
     "status": "completed"
    },
    "tags": []
   },
   "outputs": [
    {
     "data": {
      "text/plain": [
       "<tensorflow.python.training.tracking.util.CheckpointLoadStatus at 0x7fa9e0120110>"
      ]
     },
     "execution_count": 17,
     "metadata": {},
     "output_type": "execute_result"
    }
   ],
   "source": [
    "model.load_weights(os.path.join(LOAD_MODEL_WEIGHTS_FROM))"
   ]
  },
  {
   "cell_type": "markdown",
   "id": "a25fa713",
   "metadata": {
    "papermill": {
     "duration": 0.024352,
     "end_time": "2022-02-11T10:32:57.826677",
     "exception": false,
     "start_time": "2022-02-11T10:32:57.802325",
     "status": "completed"
    },
    "tags": []
   },
   "source": [
    "# Get predictions"
   ]
  },
  {
   "cell_type": "code",
   "execution_count": 18,
   "id": "a068cbca",
   "metadata": {
    "execution": {
     "iopub.execute_input": "2022-02-11T10:32:57.880940Z",
     "iopub.status.busy": "2022-02-11T10:32:57.880180Z",
     "iopub.status.idle": "2022-02-11T10:33:16.530032Z",
     "shell.execute_reply": "2022-02-11T10:33:16.530749Z",
     "shell.execute_reply.started": "2022-02-09T13:50:05.619127Z"
    },
    "papermill": {
     "duration": 18.679681,
     "end_time": "2022-02-11T10:33:16.530952",
     "exception": false,
     "start_time": "2022-02-11T10:32:57.851271",
     "status": "completed"
    },
    "tags": []
   },
   "outputs": [],
   "source": [
    "y_pred = model.predict(X_test,batch_size=BATCH_SIZE)"
   ]
  },
  {
   "cell_type": "code",
   "execution_count": 19,
   "id": "a73309fd",
   "metadata": {
    "execution": {
     "iopub.execute_input": "2022-02-11T10:33:16.619754Z",
     "iopub.status.busy": "2022-02-11T10:33:16.618610Z",
     "iopub.status.idle": "2022-02-11T10:33:16.622436Z",
     "shell.execute_reply": "2022-02-11T10:33:16.623209Z",
     "shell.execute_reply.started": "2022-02-09T13:52:49.634319Z"
    },
    "papermill": {
     "duration": 0.05607,
     "end_time": "2022-02-11T10:33:16.623391",
     "exception": false,
     "start_time": "2022-02-11T10:33:16.567321",
     "status": "completed"
    },
    "tags": []
   },
   "outputs": [],
   "source": [
    "labels_mapping = {'B-Lead' : 0,\n",
    "                  'B-Position' : 1,\n",
    "                  'B-Evidence' : 2,\n",
    "                  'B-Claim' : 3,\n",
    "                  'B-Concluding_Statement' : 4,\n",
    "                  'B-Counterclaim' : 5,\n",
    "                  'B-Rebuttal' : 6,\n",
    "                  'I-Lead' : 7,\n",
    "                  'I-Position' : 8,\n",
    "                  'I-Evidence' : 9,\n",
    "                  'I-Claim' : 10,\n",
    "                  'I-Concluding_Statement' : 11,\n",
    "                  'I-Counterclaim' : 12,\n",
    "                  'I-Rebuttal': 13,\n",
    "                 'O':14,\n",
    "                 'PAD':15}\n",
    "\n",
    "reversed_mapping = {v:(k[2:] if v<14 else k) for k,v in labels_mapping.items()}"
   ]
  },
  {
   "cell_type": "code",
   "execution_count": 20,
   "id": "022ae676",
   "metadata": {
    "execution": {
     "iopub.execute_input": "2022-02-11T10:33:16.718680Z",
     "iopub.status.busy": "2022-02-11T10:33:16.712589Z",
     "iopub.status.idle": "2022-02-11T10:33:16.731130Z",
     "shell.execute_reply": "2022-02-11T10:33:16.731891Z",
     "shell.execute_reply.started": "2022-02-09T13:52:51.914194Z"
    },
    "papermill": {
     "duration": 0.066045,
     "end_time": "2022-02-11T10:33:16.732035",
     "exception": false,
     "start_time": "2022-02-11T10:33:16.665990",
     "status": "completed"
    },
    "tags": []
   },
   "outputs": [],
   "source": [
    "def get_preds(y_pred,ps):\n",
    "    \"\"\"\n",
    "    Generate readable predictions from the output of the model.\n",
    "\n",
    "    Args:\n",
    "        y_pred (ndarray): output of the model\n",
    "        ps (ndarray): predictionstring referring to the token predicted\n",
    "\n",
    "    Returns:\n",
    "        DataFrame : DataFrame with class and predictionstrings\n",
    "    \"\"\"\n",
    "    \n",
    "    labels = []\n",
    "    predictionstrings = []\n",
    "    counts = []\n",
    "    \n",
    "    counter=dict()\n",
    "    \n",
    "    for tok,pos in zip(y_pred,ps):\n",
    "        \n",
    "        if tok <= 13:\n",
    "            lab = reversed_mapping[tok]\n",
    "            labels.append(lab)\n",
    "            predictionstrings.append(pos)\n",
    "            if len(labels)<2:\n",
    "                counts.append(str(1))\n",
    "                counter.setdefault(lab,1)\n",
    "                continue\n",
    "            if lab == labels[-2]:\n",
    "                counts.append(str(counter[lab]))\n",
    "            else: \n",
    "                try:\n",
    "                    counter[lab]+=1\n",
    "                except KeyError:\n",
    "                    counter.setdefault(lab,1)\n",
    "                counts.append(str(counter[lab]))\n",
    "    \n",
    "    preds = pd.DataFrame([labels,counts,predictionstrings],index=['class','count','predictionstring']).T\n",
    "    preds['class'] += ' ' + preds['count'].astype(str)\n",
    "    preds = preds.groupby('class',sort=False).agg({'predictionstring':list}).reset_index()\n",
    "    preds['class']=preds['class'].apply(lambda txt : txt.split()[0])\n",
    "    preds['predictionstring']=preds['predictionstring'].apply(lambda l_ : [str(l) for l in l_])\n",
    "    preds['predictionstring']=preds['predictionstring'].apply(lambda l_ : ' '.join(l_))\n",
    "    \n",
    "    return preds"
   ]
  },
  {
   "cell_type": "code",
   "execution_count": 21,
   "id": "05015116",
   "metadata": {
    "execution": {
     "iopub.execute_input": "2022-02-11T10:33:16.819694Z",
     "iopub.status.busy": "2022-02-11T10:33:16.818466Z",
     "iopub.status.idle": "2022-02-11T10:33:17.084510Z",
     "shell.execute_reply": "2022-02-11T10:33:17.083921Z",
     "shell.execute_reply.started": "2022-02-09T13:52:53.90828Z"
    },
    "papermill": {
     "duration": 0.313023,
     "end_time": "2022-02-11T10:33:17.084673",
     "exception": false,
     "start_time": "2022-02-11T10:33:16.771650",
     "status": "completed"
    },
    "tags": []
   },
   "outputs": [],
   "source": [
    "preds = np.argmax(y_pred,axis=-1)\n",
    "preds_df = pd.DataFrame()\n",
    "\n",
    "for i,idx in enumerate(df_test.index): \n",
    "    \n",
    "    pred_ = get_preds(preds[i],ps_test[i])\n",
    "    \n",
    "    pred_['id']=df_test.iloc[idx]['id']\n",
    "    \n",
    "    preds_df = preds_df.append(pred_)\n"
   ]
  },
  {
   "cell_type": "markdown",
   "id": "be6138d5",
   "metadata": {
    "papermill": {
     "duration": 0.026636,
     "end_time": "2022-02-11T10:33:17.139195",
     "exception": false,
     "start_time": "2022-02-11T10:33:17.112559",
     "status": "completed"
    },
    "tags": []
   },
   "source": [
    "# Submission"
   ]
  },
  {
   "cell_type": "code",
   "execution_count": 22,
   "id": "3d5d8852",
   "metadata": {
    "execution": {
     "iopub.execute_input": "2022-02-11T10:33:17.200959Z",
     "iopub.status.busy": "2022-02-11T10:33:17.200125Z",
     "iopub.status.idle": "2022-02-11T10:33:17.205973Z",
     "shell.execute_reply": "2022-02-11T10:33:17.206518Z",
     "shell.execute_reply.started": "2022-02-09T13:53:19.555159Z"
    },
    "papermill": {
     "duration": 0.040808,
     "end_time": "2022-02-11T10:33:17.206691",
     "exception": false,
     "start_time": "2022-02-11T10:33:17.165883",
     "status": "completed"
    },
    "tags": []
   },
   "outputs": [],
   "source": [
    "sub = preds_df[['id','class','predictionstring']]\n",
    "sub['class'] = sub['class'].replace('Concluding_Statement','Concluding Statement')\n",
    "sub.reset_index(inplace=True,drop=True)\n",
    "sub.to_csv('submission.csv',index=False)"
   ]
  },
  {
   "cell_type": "code",
   "execution_count": null,
   "id": "89609b2c",
   "metadata": {
    "papermill": {
     "duration": 0.024892,
     "end_time": "2022-02-11T10:33:17.258700",
     "exception": false,
     "start_time": "2022-02-11T10:33:17.233808",
     "status": "completed"
    },
    "tags": []
   },
   "outputs": [],
   "source": []
  }
 ],
 "metadata": {
  "kernelspec": {
   "display_name": "Python 3",
   "language": "python",
   "name": "python3"
  },
  "language_info": {
   "codemirror_mode": {
    "name": "ipython",
    "version": 3
   },
   "file_extension": ".py",
   "mimetype": "text/x-python",
   "name": "python",
   "nbconvert_exporter": "python",
   "pygments_lexer": "ipython3",
   "version": "3.7.12"
  },
  "papermill": {
   "default_parameters": {},
   "duration": 80.332934,
   "end_time": "2022-02-11T10:33:21.050153",
   "environment_variables": {},
   "exception": null,
   "input_path": "__notebook__.ipynb",
   "output_path": "__notebook__.ipynb",
   "parameters": {},
   "start_time": "2022-02-11T10:32:00.717219",
   "version": "2.3.3"
  }
 },
 "nbformat": 4,
 "nbformat_minor": 5
}
