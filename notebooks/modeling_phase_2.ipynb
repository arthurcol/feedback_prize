{
 "cells": [
  {
   "cell_type": "markdown",
   "id": "532fe246",
   "metadata": {
    "id": "532fe246"
   },
   "source": [
    "## Imports & Variables"
   ]
  },
  {
   "cell_type": "code",
   "execution_count": 1,
   "id": "m3RrlePKJC99",
   "metadata": {
    "ExecuteTime": {
     "end_time": "2022-01-26T19:41:07.249892Z",
     "start_time": "2022-01-26T19:41:07.244924Z"
    },
    "id": "m3RrlePKJC99"
   },
   "outputs": [],
   "source": [
    "try:\n",
    "  from google.colab import drive\n",
    "  !pip install --quiet transformers\n",
    "except:\n",
    "  print('Welcome on your Notebook')"
   ]
  },
  {
   "cell_type": "code",
   "execution_count": 2,
   "id": "2053d0ae",
   "metadata": {
    "ExecuteTime": {
     "end_time": "2022-01-26T19:41:21.036953Z",
     "start_time": "2022-01-26T19:41:11.603058Z"
    },
    "id": "2053d0ae"
   },
   "outputs": [],
   "source": [
    "#canonicals\n",
    "import pandas as pd \n",
    "import numpy as np\n",
    "import matplotlib.pyplot as plt\n",
    "import tensorflow as tf\n",
    "\n",
    "#hugging face\n",
    "from transformers import BertTokenizer, TFBertModel\n",
    "\n",
    "#utils\n",
    "from tqdm.notebook import tqdm_notebook"
   ]
  },
  {
   "cell_type": "code",
   "execution_count": 30,
   "id": "CLikbqDpF2CH",
   "metadata": {
    "id": "CLikbqDpF2CH"
   },
   "outputs": [],
   "source": [
    "# Load the TensorBoard notebook extension\n",
    "%load_ext tensorboard"
   ]
  },
  {
   "cell_type": "code",
   "execution_count": 6,
   "id": "26b8c556",
   "metadata": {
    "ExecuteTime": {
     "end_time": "2022-01-26T19:42:26.626707Z",
     "start_time": "2022-01-26T19:42:26.622922Z"
    },
    "id": "26b8c556"
   },
   "outputs": [],
   "source": [
    "# Change this to work with a sample of the data or the full dataset\n",
    "SAMPLE_MODE = True\n",
    "\n",
    "#Max length of a discourse (refers to explorator nb)\n",
    "DISCOURSE_LEN = 256\n",
    "\n",
    "#change this to run again the tokenizer. If set to false will fetch npz files in the directory \n",
    "TOKENIZE = False\n",
    "\n",
    "#Set TRAIN, VAL, TEST splits:\n",
    "VAL_SPLIT=0.8\n",
    "TEST_SPLIT=0.9\n",
    "\n",
    "#Batch size\n",
    "BATCH_SIZE = 256\n",
    "\n",
    "#Paths saved TF datasets\n",
    "GPATH_TF_DATASET='/content/drive/MyDrive/feedback-prize/datasets'"
   ]
  },
  {
   "cell_type": "markdown",
   "id": "d97c426d",
   "metadata": {
    "id": "d97c426d"
   },
   "source": [
    "## Data"
   ]
  },
  {
   "cell_type": "code",
   "execution_count": 7,
   "id": "d078dca6",
   "metadata": {
    "ExecuteTime": {
     "end_time": "2022-01-26T19:41:47.004977Z",
     "start_time": "2022-01-26T19:41:46.892257Z"
    },
    "colab": {
     "base_uri": "https://localhost:8080/"
    },
    "id": "d078dca6",
    "outputId": "17333f6f-b92b-42a8-b49d-8d2a080d5d6d"
   },
   "outputs": [
    {
     "name": "stdout",
     "output_type": "stream",
     "text": [
      "Drive already mounted at /content/drive; to attempt to forcibly remount, call drive.mount(\"/content/drive\", force_remount=True).\n",
      "/content/drive/MyDrive/feedback-prize\n"
     ]
    }
   ],
   "source": [
    "if SAMPLE_MODE:\n",
    "    n_rows=15000-9\n",
    "else: \n",
    "    n_rows=None\n",
    "\n",
    "try:\n",
    "  from google.colab import drive\n",
    "  drive.mount('/content/drive')\n",
    "  %cd /content/drive/MyDrive/feedback-prize\n",
    "\n",
    "  df = pd.read_csv('train_filled.csv',nrows=n_rows,index_col=0)\n",
    "\n",
    "except:\n",
    "  df = pd.read_csv('../raw_data/train_filled.csv',nrows=n_rows,index_col=0)\n",
    "\n",
    "df.reset_index(drop=True, inplace=True)\n",
    "df['discourse_text'].fillna(' ',inplace=True)"
   ]
  },
  {
   "cell_type": "code",
   "execution_count": 8,
   "id": "e19b0619",
   "metadata": {
    "ExecuteTime": {
     "end_time": "2022-01-26T19:41:56.462344Z",
     "start_time": "2022-01-26T19:41:56.453729Z"
    },
    "id": "e19b0619"
   },
   "outputs": [],
   "source": [
    "## Splitting into train, val and test \n",
    "\n",
    "## setting for the exact right index : we don't wan't to split \n",
    "## an essay between 2 sets\n",
    "\n",
    "idx_val=int(len(df)*VAL_SPLIT)\n",
    "idx_test=int(len(df)*TEST_SPLIT)\n",
    "\n",
    "for i in range(idx_val,idx_val+20):\n",
    "    if df.loc[i,'id'] != df.loc[i+1,'id']:\n",
    "        idx_val=i\n",
    "        break\n",
    "        \n",
    "for i in range(idx_test,idx_test+20):\n",
    "    if df.loc[i,'id'] != df.loc[i+1,'id']:\n",
    "        idx_test=i\n",
    "        break\n",
    "        \n",
    "#display(df.loc[idx_val-2:idx_val+2],df.loc[idx_test-2:idx_test+2],idx_val,idx_test)\n",
    "\n",
    "assert(df.loc[idx_val,'id']!=df.loc[idx_val+1,'id'])\n",
    "assert(df.loc[idx_test,'id']!=df.loc[idx_test+1,'id'])\n",
    "\n",
    "idx_train=list(range(0,idx_val))\n",
    "idx_val=list(range(idx_val,idx_test))\n",
    "idx_test=list(range(idx_test,len(df)))\n",
    "\n",
    "assert(len(idx_test)+len(idx_train)+len(idx_val)==len(df))\n"
   ]
  },
  {
   "cell_type": "markdown",
   "id": "3404d282",
   "metadata": {
    "id": "3404d282"
   },
   "source": [
    "## Tokenizer"
   ]
  },
  {
   "cell_type": "code",
   "execution_count": 9,
   "id": "721ae3cf",
   "metadata": {
    "ExecuteTime": {
     "end_time": "2022-01-26T19:41:59.977789Z",
     "start_time": "2022-01-26T19:41:59.969870Z"
    },
    "id": "721ae3cf"
   },
   "outputs": [],
   "source": [
    "## create labels dict and map it\n",
    "labels={l:i for i,l in enumerate(df.discourse_type.unique())}\n",
    "\n",
    "df['label']=df['discourse_type'].map(labels)"
   ]
  },
  {
   "cell_type": "code",
   "execution_count": 12,
   "id": "8ba0934d",
   "metadata": {
    "ExecuteTime": {
     "end_time": "2022-01-26T19:42:00.811396Z",
     "start_time": "2022-01-26T19:42:00.805720Z"
    },
    "colab": {
     "base_uri": "https://localhost:8080/"
    },
    "id": "8ba0934d",
    "outputId": "475cff99-85ab-45b6-e885-a5edffaa9261"
   },
   "outputs": [
    {
     "name": "stdout",
     "output_type": "stream",
     "text": [
      "loading tokenized input later on\n"
     ]
    }
   ],
   "source": [
    "## create x_train,x_test,x_val\n",
    "\n",
    "if TOKENIZE:\n",
    "  x_train = df['discourse_text'].values[idx_train]\n",
    "  x_val = df['discourse_text'].values[idx_val]\n",
    "  x_test = df['discourse_text'].values[idx_test]\n",
    "else:\n",
    "  print('loading tokenized input later on')"
   ]
  },
  {
   "cell_type": "code",
   "execution_count": 13,
   "id": "8754f39d",
   "metadata": {
    "ExecuteTime": {
     "end_time": "2022-01-26T19:42:02.385056Z",
     "start_time": "2022-01-26T19:42:02.344361Z"
    },
    "id": "8754f39d"
   },
   "outputs": [],
   "source": [
    "## create y_train, y_test, y_val \n",
    "y_train_ = df['label'].values[idx_train]\n",
    "y_val_ = df['label'].values[idx_val]\n",
    "y_test_ = df['label'].values[idx_test]\n",
    "\n",
    "## ohe\n",
    "y_train = np.zeros((len(idx_train),len(labels)))\n",
    "y_val = np.zeros((len(idx_val),len(labels)))\n",
    "y_test = np.zeros((len(idx_test),len(labels)))\n",
    "\n",
    "y_train[np.arange(len(y_train_)),y_train_]=1\n",
    "y_val[np.arange(len(y_val_)),y_val_]=1\n",
    "y_test[np.arange(len(y_test_)),y_test_]=1\n",
    "\n",
    "#convert to tensors\n",
    "y_train = tf.convert_to_tensor(y_train,dtype='int32')\n",
    "y_val = tf.convert_to_tensor(y_val,dtype='int32')\n",
    "y_test = tf.convert_to_tensor(y_test,dtype='int32')\n",
    "\n",
    "assert(y_test.shape[1]==8)"
   ]
  },
  {
   "cell_type": "code",
   "execution_count": 14,
   "id": "d2b0d73d",
   "metadata": {
    "ExecuteTime": {
     "end_time": "2022-01-26T19:42:16.807852Z",
     "start_time": "2022-01-26T19:42:13.531969Z"
    },
    "id": "d2b0d73d"
   },
   "outputs": [],
   "source": [
    "#initiate tokenizer\n",
    "tokenizer = BertTokenizer.from_pretrained('bert-base-uncased')"
   ]
  },
  {
   "cell_type": "code",
   "execution_count": 15,
   "id": "0021f982",
   "metadata": {
    "ExecuteTime": {
     "end_time": "2022-01-26T19:45:42.403263Z",
     "start_time": "2022-01-26T19:45:29.031581Z"
    },
    "colab": {
     "base_uri": "https://localhost:8080/"
    },
    "id": "0021f982",
    "outputId": "578df20d-1dac-4339-995e-98c67419fc19"
   },
   "outputs": [
    {
     "name": "stdout",
     "output_type": "stream",
     "text": [
      "Running the notebook in TOKENIZE=False mode\n"
     ]
    }
   ],
   "source": [
    "## tokenize train,val,test\n",
    "\n",
    "if TOKENIZE:\n",
    "\n",
    "  x_train_tok=tokenizer(list(x_train),truncation=True,max_length=DISCOURSE_LEN,padding='max_length',\n",
    "              return_token_type_ids=False,return_tensors='np')\n",
    "  x_val_tok=tokenizer(list(x_val),truncation=True,max_length=DISCOURSE_LEN,padding='max_length',\n",
    "              return_token_type_ids=False,return_tensors='np')\n",
    "  x_test_tok=tokenizer(list(x_test),truncation=True,max_length=DISCOURSE_LEN,padding='max_length',\n",
    "              return_token_type_ids=False,return_tensors='np')\n",
    "  \n",
    "    # Now we can store all our tokenized tensors \n",
    "\n",
    "  with open('x_train.npz','wb') as file:\n",
    "    np.savez(file,input_ids=x_train_tok['input_ids'],attention_mask=x_train_tok['attention_mask']) \n",
    "\n",
    "  with open('x_val.npz','wb') as file:\n",
    "    np.savez(file,input_ids=x_val_tok['input_ids'],attention_mask=x_val_tok['attention_mask']) \n",
    "\n",
    "  with open('x_test.npz','wb') as file:\n",
    "    np.savez(file,input_ids=x_test_tok['input_ids'],attention_mask=x_test_tok['attention_mask']) \n",
    "  \n",
    "else:\n",
    "  print('Running the notebook in TOKENIZE=False mode')"
   ]
  },
  {
   "cell_type": "code",
   "execution_count": 20,
   "id": "tOWJvyLqRdYs",
   "metadata": {
    "ExecuteTime": {
     "end_time": "2022-01-26T19:45:49.194922Z",
     "start_time": "2022-01-26T19:45:49.144205Z"
    },
    "id": "tOWJvyLqRdYs"
   },
   "outputs": [],
   "source": [
    "if not TOKENIZE:\n",
    "\n",
    "  ## We load our pre-tokenized data and store them into tensors ; depending on SAMPLE_MODE\n",
    "\n",
    "  if SAMPLE_MODE:\n",
    "    with open('x_train.npz','rb') as file:\n",
    "      arrays_tmp = np.load(file, allow_pickle=False) \n",
    "      x_train_tok = dict(input_ids = tf.convert_to_tensor(arrays_tmp['input_ids'][idx_train]),\n",
    "                        attention_mask = tf.convert_to_tensor(arrays_tmp['attention_mask'][idx_train]))\n",
    "\n",
    "    with open('x_val.npz','rb') as file:\n",
    "      arrays_tmp = np.load(file, allow_pickle=False) \n",
    "      x_val_tok = dict(input_ids = tf.convert_to_tensor(arrays_tmp['input_ids'][idx_val]),\n",
    "                        attention_mask = tf.convert_to_tensor(arrays_tmp['attention_mask'][idx_val]))\n",
    "      \n",
    "    with open('x_test.npz','rb') as file:\n",
    "      arrays_tmp = np.load(file, allow_pickle=False) \n",
    "      x_test_tok = dict(input_ids = tf.convert_to_tensor(arrays_tmp['input_ids'][idx_test]),\n",
    "                        attention_mask = tf.convert_to_tensor(arrays_tmp['attention_mask'][idx_test]))\n",
    "\n",
    "\n",
    "  else:\n",
    "  \n",
    "    with open('x_train.npz','rb') as file:\n",
    "      arrays_tmp = np.load(file, allow_pickle=False) \n",
    "      x_train_tok = dict(input_ids = tf.convert_to_tensor(arrays_tmp['input_ids']),\n",
    "                        attention_mask = tf.convert_to_tensor(arrays_tmp['attention_mask']))\n",
    "\n",
    "    with open('x_val.npz','rb') as file:\n",
    "      arrays_tmp = np.load(file, allow_pickle=False) \n",
    "      x_val_tok = dict(input_ids = tf.convert_to_tensor(arrays_tmp['input_ids']),\n",
    "                        attention_mask = tf.convert_to_tensor(arrays_tmp['attention_mask']))\n",
    "      \n",
    "    with open('x_test.npz','rb') as file:\n",
    "      arrays_tmp = np.load(file, allow_pickle=False) \n",
    "      x_test_tok = dict(input_ids = tf.convert_to_tensor(arrays_tmp['input_ids']),\n",
    "                        attention_mask = tf.convert_to_tensor(arrays_tmp['attention_mask']))"
   ]
  },
  {
   "cell_type": "code",
   "execution_count": 21,
   "id": "zOcP659ccGl_",
   "metadata": {
    "ExecuteTime": {
     "end_time": "2022-01-26T19:45:51.683417Z",
     "start_time": "2022-01-26T19:45:51.657459Z"
    },
    "id": "zOcP659ccGl_"
   },
   "outputs": [],
   "source": [
    "## Creating tf datasets objects\n",
    "\n",
    "train_dataset = tf.data.Dataset.from_tensor_slices((x_train_tok,y_train)).batch(BATCH_SIZE,num_parallel_calls=tf.data.AUTOTUNE)\n",
    "val_dataset = tf.data.Dataset.from_tensor_slices((x_val_tok,y_val)).batch(BATCH_SIZE,num_parallel_calls=tf.data.AUTOTUNE)\n",
    "test_dataset = tf.data.Dataset.from_tensor_slices((x_test_tok,y_test)).batch(BATCH_SIZE,num_parallel_calls=tf.data.AUTOTUNE)"
   ]
  },
  {
   "cell_type": "code",
   "execution_count": 22,
   "id": "dCYm1QfqtBm6",
   "metadata": {
    "ExecuteTime": {
     "end_time": "2022-01-26T19:45:57.210676Z",
     "start_time": "2022-01-26T19:45:57.203865Z"
    },
    "colab": {
     "base_uri": "https://localhost:8080/"
    },
    "id": "dCYm1QfqtBm6",
    "outputId": "3f2399fe-08d5-4068-a4f9-5697a8edc3e9"
   },
   "outputs": [
    {
     "data": {
      "text/plain": [
       "<ParallelBatchDataset shapes: ({input_ids: (None, 256), attention_mask: (None, 256)}, (None, 8)), types: ({input_ids: tf.int64, attention_mask: tf.int64}, tf.int32)>"
      ]
     },
     "execution_count": 22,
     "metadata": {},
     "output_type": "execute_result"
    }
   ],
   "source": [
    "train_dataset"
   ]
  },
  {
   "cell_type": "markdown",
   "id": "d0af9eb2",
   "metadata": {
    "id": "d0af9eb2"
   },
   "source": [
    "## Modeling"
   ]
  },
  {
   "cell_type": "code",
   "execution_count": 23,
   "id": "77ffd2ae",
   "metadata": {
    "ExecuteTime": {
     "end_time": "2022-01-26T19:46:16.129099Z",
     "start_time": "2022-01-26T19:46:12.036475Z"
    },
    "colab": {
     "base_uri": "https://localhost:8080/"
    },
    "id": "77ffd2ae",
    "outputId": "a033ef03-b1de-40fc-df51-6ccea58e9947"
   },
   "outputs": [
    {
     "name": "stderr",
     "output_type": "stream",
     "text": [
      "Some layers from the model checkpoint at bert-base-uncased were not used when initializing TFBertModel: ['nsp___cls', 'mlm___cls']\n",
      "- This IS expected if you are initializing TFBertModel from the checkpoint of a model trained on another task or with another architecture (e.g. initializing a BertForSequenceClassification model from a BertForPreTraining model).\n",
      "- This IS NOT expected if you are initializing TFBertModel from the checkpoint of a model that you expect to be exactly identical (initializing a BertForSequenceClassification model from a BertForSequenceClassification model).\n",
      "All the layers of TFBertModel were initialized from the model checkpoint at bert-base-uncased.\n",
      "If your task is similar to the task the model of the checkpoint was trained on, you can already use TFBertModel for predictions without further training.\n"
     ]
    }
   ],
   "source": [
    "pretrained_bert = TFBertModel.from_pretrained(\"bert-base-uncased\")"
   ]
  },
  {
   "cell_type": "code",
   "execution_count": 23,
   "id": "da9a1992",
   "metadata": {
    "ExecuteTime": {
     "end_time": "2022-01-25T21:03:53.792118Z",
     "start_time": "2022-01-25T21:03:53.782077Z"
    },
    "id": "da9a1992"
   },
   "outputs": [],
   "source": []
  },
  {
   "cell_type": "code",
   "execution_count": 24,
   "id": "52b6db8e",
   "metadata": {
    "ExecuteTime": {
     "end_time": "2022-01-26T19:46:18.701444Z",
     "start_time": "2022-01-26T19:46:18.694855Z"
    },
    "id": "52b6db8e"
   },
   "outputs": [],
   "source": [
    "def init_model():\n",
    "    input_ids = tf.keras.layers.Input(shape=(DISCOURSE_LEN,),dtype='int32')\n",
    "    attention_mask = tf.keras.layers.Input(shape=(DISCOURSE_LEN,),dtype='int32')\n",
    "    x = pretrained_bert({'input_ids':input_ids,\n",
    "                         'attention_mask':attention_mask})[0]\n",
    "    # x = tf.keras.layers.Flatten()(x)\n",
    "    x = tf.keras.layers.GlobalAveragePooling1D()(x)\n",
    "    x = tf.keras.layers.BatchNormalization()(x)\n",
    "    x = tf.keras.layers.Dense(256, activation='relu')(x)\n",
    "    x = tf.keras.layers.Dropout(.2)(x)\n",
    "    x = tf.keras.layers.Dense(128, activation='relu')(x)\n",
    "    x = tf.keras.layers.Dropout(.2)(x)\n",
    "    x = tf.keras.layers.Dense(32, activation='relu')(x)\n",
    "    output = tf.keras.layers.Dense(8, activation='softmax',name='outputs')(x)\n",
    "\n",
    "    pretrained_bert.trainable=False\n",
    "    \n",
    "    model = tf.keras.Model(inputs={'input_ids':input_ids,\n",
    "                                   'attention_mask':attention_mask},\n",
    "                           outputs=output)\n",
    "    \n",
    "    return model"
   ]
  },
  {
   "cell_type": "code",
   "execution_count": 25,
   "id": "0b3a861b",
   "metadata": {
    "ExecuteTime": {
     "end_time": "2022-01-26T19:46:24.707100Z",
     "start_time": "2022-01-26T19:46:20.576750Z"
    },
    "colab": {
     "base_uri": "https://localhost:8080/"
    },
    "id": "0b3a861b",
    "outputId": "766821ff-472e-4253-d92a-24c4f9432490"
   },
   "outputs": [
    {
     "name": "stdout",
     "output_type": "stream",
     "text": [
      "Model: \"model\"\n",
      "__________________________________________________________________________________________________\n",
      " Layer (type)                   Output Shape         Param #     Connected to                     \n",
      "==================================================================================================\n",
      " input_2 (InputLayer)           [(None, 256)]        0           []                               \n",
      "                                                                                                  \n",
      " input_1 (InputLayer)           [(None, 256)]        0           []                               \n",
      "                                                                                                  \n",
      " tf_bert_model (TFBertModel)    TFBaseModelOutputWi  109482240   ['input_2[0][0]',                \n",
      "                                thPoolingAndCrossAt               'input_1[0][0]']                \n",
      "                                tentions(last_hidde                                               \n",
      "                                n_state=(None, 256,                                               \n",
      "                                 768),                                                            \n",
      "                                 pooler_output=(Non                                               \n",
      "                                e, 768),                                                          \n",
      "                                 past_key_values=No                                               \n",
      "                                ne, hidden_states=N                                               \n",
      "                                one, attentions=Non                                               \n",
      "                                e, cross_attentions                                               \n",
      "                                =None)                                                            \n",
      "                                                                                                  \n",
      " global_average_pooling1d (Glob  (None, 768)         0           ['tf_bert_model[0][0]']          \n",
      " alAveragePooling1D)                                                                              \n",
      "                                                                                                  \n",
      " batch_normalization (BatchNorm  (None, 768)         3072        ['global_average_pooling1d[0][0]'\n",
      " alization)                                                      ]                                \n",
      "                                                                                                  \n",
      " dense (Dense)                  (None, 256)          196864      ['batch_normalization[0][0]']    \n",
      "                                                                                                  \n",
      " dropout_37 (Dropout)           (None, 256)          0           ['dense[0][0]']                  \n",
      "                                                                                                  \n",
      " dense_1 (Dense)                (None, 128)          32896       ['dropout_37[0][0]']             \n",
      "                                                                                                  \n",
      " dropout_38 (Dropout)           (None, 128)          0           ['dense_1[0][0]']                \n",
      "                                                                                                  \n",
      " dense_2 (Dense)                (None, 32)           4128        ['dropout_38[0][0]']             \n",
      "                                                                                                  \n",
      " outputs (Dense)                (None, 8)            264         ['dense_2[0][0]']                \n",
      "                                                                                                  \n",
      "==================================================================================================\n",
      "Total params: 109,719,464\n",
      "Trainable params: 235,688\n",
      "Non-trainable params: 109,483,776\n",
      "__________________________________________________________________________________________________\n"
     ]
    }
   ],
   "source": [
    "#init model and print summary\n",
    "model = init_model()\n",
    "model.summary()"
   ]
  },
  {
   "cell_type": "code",
   "execution_count": 26,
   "id": "8Bt6pyNBPVaX",
   "metadata": {
    "ExecuteTime": {
     "end_time": "2022-01-26T19:46:24.755554Z",
     "start_time": "2022-01-26T19:46:24.752647Z"
    },
    "colab": {
     "base_uri": "https://localhost:8080/",
     "height": 731
    },
    "id": "8Bt6pyNBPVaX",
    "outputId": "2212b7cd-36bd-471d-e074-6c8b170ce291"
   },
   "outputs": [
    {
     "data": {
      "image/png": "[encoded data removed]",
      "text/plain": [
       "<IPython.core.display.Image object>"
      ]
     },
     "execution_count": 26,
     "metadata": {},
     "output_type": "execute_result"
    }
   ],
   "source": [
    "#show graph\n",
    "tf.keras.utils.plot_model(model,show_shapes=True)"
   ]
  },
  {
   "cell_type": "code",
   "execution_count": 27,
   "id": "JG1wFjwf_Pq4",
   "metadata": {
    "ExecuteTime": {
     "end_time": "2022-01-26T19:46:32.187627Z",
     "start_time": "2022-01-26T19:46:32.182151Z"
    },
    "colab": {
     "base_uri": "https://localhost:8080/"
    },
    "id": "JG1wFjwf_Pq4",
    "outputId": "c2f3e264-956b-435d-9249-3cf1e38754a9"
   },
   "outputs": [
    {
     "data": {
      "text/plain": [
       "47.86328125"
      ]
     },
     "execution_count": 27,
     "metadata": {},
     "output_type": "execute_result"
    }
   ],
   "source": [
    "## calcul number of iterations / epochs\n",
    "n_batches = int(len(x_train_tok['input_ids']))/BATCH_SIZE +1\n",
    "n_batches"
   ]
  },
  {
   "cell_type": "code",
   "execution_count": 28,
   "id": "MN5EdYg1OeR3",
   "metadata": {
    "ExecuteTime": {
     "end_time": "2022-01-26T19:46:39.595084Z",
     "start_time": "2022-01-26T19:46:39.576019Z"
    },
    "id": "MN5EdYg1OeR3"
   },
   "outputs": [],
   "source": [
    "# COMPILER\n",
    "loss = tf.keras.losses.CategoricalCrossentropy(name='categorical_crossentropy')\n",
    "acc = tf.keras.metrics.CategoricalAccuracy(name='accuracy')\n",
    "\n",
    "initial_learning_rate = 0.1\n",
    "\n",
    "lr_schedule = tf.keras.optimizers.schedules.ExponentialDecay(\n",
    "                                            initial_learning_rate,\n",
    "                                            decay_steps=200,\n",
    "                                            decay_rate=0.6,\n",
    "                                            staircase=True)\n",
    "\n",
    "opt = tf.keras.optimizers.Adam(learning_rate=lr_schedule)\n",
    "model.compile(optimizer=opt,loss=loss,metrics=[acc])"
   ]
  },
  {
   "cell_type": "code",
   "execution_count": 29,
   "id": "ov2Ff4DPeDfX",
   "metadata": {
    "ExecuteTime": {
     "end_time": "2022-01-26T19:46:49.062414Z",
     "start_time": "2022-01-26T19:46:49.058004Z"
    },
    "id": "ov2Ff4DPeDfX"
   },
   "outputs": [],
   "source": [
    "## CALLBACKS\n",
    "\n",
    "checkpoints_path = '/content/drive/MyDrive/feedback-prize/checkpoints/cpt.ckpt'\n",
    "logdir = '/content/drive/MyDrive/feedback-prize/logs/'\n",
    "\n",
    "#early stopping\n",
    "es = tf.keras.callbacks.EarlyStopping(patience=1,restore_best_weights=True)\n",
    "\n",
    "#save weights at every epoch\n",
    "checkpoint_saver = tf.keras.callbacks.ModelCheckpoint(filepath=checkpoints_path,\n",
    "                                                      save_weights_only=True,\n",
    "                                                      save_best_only = True,\n",
    "                                                      monitor = 'val_accuracy',\n",
    "                                                      mode = 'max',\n",
    "                                                      verbose = 1)\n",
    "\n",
    "#logs for tensorboard\n",
    "tensorboard = tf.keras.callbacks.TensorBoard(log_dir=logdir)"
   ]
  },
  {
   "cell_type": "code",
   "execution_count": 1,
   "id": "aea12aef",
   "metadata": {
    "ExecuteTime": {
     "end_time": "2022-01-26T19:51:31.825036Z",
     "start_time": "2022-01-26T19:48:45.478721Z"
    },
    "colab": {
     "base_uri": "https://localhost:8080/"
    },
    "id": "aea12aef",
    "outputId": "a75918cf-26d8-432a-d742-9f3fe1885e29"
   },
   "outputs": [
    {
     "name": "stderr",
     "output_type": "stream",
     "text": [
      "UsageError: Line magic function `%tensorboard` not found.\n"
     ]
    }
   ],
   "source": [
    "%tensorboard --logdir logdir\n",
    "history = model.fit(train_dataset,\n",
    "                    validation_data= val_dataset,\n",
    "                    epochs=10,callbacks=[es,checkpoint_saver,tensorboard],batch_size=BATCH_SIZE)"
   ]
  },
  {
   "cell_type": "code",
   "execution_count": null,
   "id": "KMETPbq7Op4b",
   "metadata": {
    "colab": {
     "base_uri": "https://localhost:8080/"
    },
    "id": "KMETPbq7Op4b",
    "outputId": "fa2258dc-4d72-4fd8-bd10-fb6bbf2dd3c2"
   },
   "outputs": [
    {
     "name": "stderr",
     "output_type": "stream",
     "text": [
      "WARNING:absl:Found untraced functions such as embeddings_layer_call_fn, embeddings_layer_call_and_return_conditional_losses, encoder_layer_call_fn, encoder_layer_call_and_return_conditional_losses, pooler_layer_call_fn while saving (showing 5 of 1050). These functions will not be directly callable after loading.\n"
     ]
    },
    {
     "name": "stdout",
     "output_type": "stream",
     "text": [
      "INFO:tensorflow:Assets written to: data/assets\n"
     ]
    },
    {
     "name": "stderr",
     "output_type": "stream",
     "text": [
      "INFO:tensorflow:Assets written to: data/assets\n"
     ]
    }
   ],
   "source": []
  },
  {
   "cell_type": "code",
   "execution_count": null,
   "id": "XWm6skAomEdD",
   "metadata": {
    "id": "XWm6skAomEdD"
   },
   "outputs": [],
   "source": []
  }
 ],
 "metadata": {
  "accelerator": "GPU",
  "colab": {
   "collapsed_sections": [],
   "name": "modeling_phase_1.ipynb",
   "provenance": []
  },
  "kernelspec": {
   "display_name": "Python 3 (ipykernel)",
   "language": "python",
   "name": "python3"
  },
  "language_info": {
   "codemirror_mode": {
    "name": "ipython",
    "version": 3
   },
   "file_extension": ".py",
   "mimetype": "text/x-python",
   "name": "python",
   "nbconvert_exporter": "python",
   "pygments_lexer": "ipython3",
   "version": "3.8.12"
  },
  "notify_time": "5",
  "toc": {
   "base_numbering": 1,
   "nav_menu": {},
   "number_sections": true,
   "sideBar": true,
   "skip_h1_title": false,
   "title_cell": "Table of Contents",
   "title_sidebar": "Contents",
   "toc_cell": false,
   "toc_position": {},
   "toc_section_display": true,
   "toc_window_display": false
  },
  "varInspector": {
   "cols": {
    "lenName": 16,
    "lenType": 16,
    "lenVar": 40
   },
   "kernels_config": {
    "python": {
     "delete_cmd_postfix": "",
     "delete_cmd_prefix": "del ",
     "library": "var_list.py",
     "varRefreshCmd": "print(var_dic_list())"
    },
    "r": {
     "delete_cmd_postfix": ") ",
     "delete_cmd_prefix": "rm(",
     "library": "var_list.r",
     "varRefreshCmd": "cat(var_dic_list()) "
    }
   },
   "position": {
    "height": "617.844px",
    "left": "1083px",
    "right": "20px",
    "top": "120px",
    "width": "337px"
   },
   "types_to_exclude": [
    "module",
    "function",
    "builtin_function_or_method",
    "instance",
    "_Feature"
   ],
   "window_display": false
  }
 },
 "nbformat": 4,
 "nbformat_minor": 5
}
