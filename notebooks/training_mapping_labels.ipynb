{
 "cells": [
  {
   "cell_type": "code",
   "execution_count": 2,
   "id": "16fff75b",
   "metadata": {
    "ExecuteTime": {
     "end_time": "2022-01-27T17:22:56.320491Z",
     "start_time": "2022-01-27T17:22:56.317524Z"
    }
   },
   "outputs": [],
   "source": [
    "import numpy as np \n",
    "import tensorflow as tf \n",
    "import pandas as pd "
   ]
  },
  {
   "cell_type": "code",
   "execution_count": 3,
   "id": "1bab5f9d",
   "metadata": {
    "ExecuteTime": {
     "end_time": "2022-01-27T17:23:04.302287Z",
     "start_time": "2022-01-27T17:22:57.445097Z"
    }
   },
   "outputs": [],
   "source": [
    "from transformers import AutoTokenizer\n",
    "tokenizer = AutoTokenizer.from_pretrained(\"distilbert-base-uncased\")"
   ]
  },
  {
   "cell_type": "code",
   "execution_count": 74,
   "id": "0582fa56",
   "metadata": {
    "ExecuteTime": {
     "end_time": "2022-01-28T08:47:01.594132Z",
     "start_time": "2022-01-28T08:47:01.556867Z"
    }
   },
   "outputs": [
    {
     "data": {
      "text/html": [
       "<div>\n",
       "<style scoped>\n",
       "    .dataframe tbody tr th:only-of-type {\n",
       "        vertical-align: middle;\n",
       "    }\n",
       "\n",
       "    .dataframe tbody tr th {\n",
       "        vertical-align: top;\n",
       "    }\n",
       "\n",
       "    .dataframe thead th {\n",
       "        text-align: right;\n",
       "    }\n",
       "</style>\n",
       "<table border=\"1\" class=\"dataframe\">\n",
       "  <thead>\n",
       "    <tr style=\"text-align: right;\">\n",
       "      <th></th>\n",
       "      <th>text</th>\n",
       "      <th>label</th>\n",
       "      <th>predictionstring</th>\n",
       "    </tr>\n",
       "  </thead>\n",
       "  <tbody>\n",
       "    <tr>\n",
       "      <th>0</th>\n",
       "      <td>This is a first test</td>\n",
       "      <td>Claim</td>\n",
       "      <td>0 1 2 3 4</td>\n",
       "    </tr>\n",
       "    <tr>\n",
       "      <th>1</th>\n",
       "      <td>The test contains 3 sentences</td>\n",
       "      <td>Evidence</td>\n",
       "      <td>5 6 7 8 9</td>\n",
       "    </tr>\n",
       "    <tr>\n",
       "      <th>2</th>\n",
       "      <td>This is the last sentence</td>\n",
       "      <td>Claim</td>\n",
       "      <td>10 11 12 13 14</td>\n",
       "    </tr>\n",
       "    <tr>\n",
       "      <th>3</th>\n",
       "      <td>We have a second claim here, verycompliexword...</td>\n",
       "      <td>Claim</td>\n",
       "      <td>15 16 17 18 19 20 21 22 23</td>\n",
       "    </tr>\n",
       "    <tr>\n",
       "      <th>4</th>\n",
       "      <td>And we finally have our wonderful conclusion</td>\n",
       "      <td>Conclusion</td>\n",
       "      <td>24 25 26 27 28 29 30</td>\n",
       "    </tr>\n",
       "  </tbody>\n",
       "</table>\n",
       "</div>"
      ],
      "text/plain": [
       "                                                text  ...            predictionstring\n",
       "0                               This is a first test  ...                   0 1 2 3 4\n",
       "1                      The test contains 3 sentences  ...                   5 6 7 8 9\n",
       "2                          This is the last sentence  ...              10 11 12 13 14\n",
       "3   We have a second claim here, verycompliexword...  ...  15 16 17 18 19 20 21 22 23\n",
       "4       And we finally have our wonderful conclusion  ...        24 25 26 27 28 29 30\n",
       "\n",
       "[5 rows x 3 columns]"
      ]
     },
     "execution_count": 74,
     "metadata": {},
     "output_type": "execute_result"
    }
   ],
   "source": [
    "## Creating dummy data\n",
    "\n",
    "text_1 = \"This is a first test. The test contains 3 sentences. This is the last sentence. We have a second claim here, verycompliexword so strange. And we finally have our wonderful conclusion\"\n",
    "labels_1 = [\"Claim\",\"Evidence\",\"Claim\",'Claim','Conclusion']\n",
    "X = pd.DataFrame([text_1.split('.',),labels_1],index=['text','label']).T\n",
    "\n",
    "X['discourse_len'] = X['text'].apply(lambda text :len(text.split()))\n",
    "\n",
    "X['predictionstring_start'] = X.discourse_len.cumsum().shift(+1).fillna(0).astype(int)\n",
    "X['predictionstring_end'] = X.discourse_len.cumsum()-1\n",
    "\n",
    "f = np.vectorize(lambda a,b : ' '.join(list(map(str,range(a,b+1)))),otypes=[str])\n",
    "X['predictionstring'] = f(X['predictionstring_start'],X['predictionstring_end'])\n",
    "\n",
    "X.drop(['discourse_len','predictionstring_start','predictionstring_end'],axis=1,inplace=True)\n",
    "\n",
    "X"
   ]
  },
  {
   "cell_type": "code",
   "execution_count": 75,
   "id": "cbaf4e17",
   "metadata": {
    "ExecuteTime": {
     "end_time": "2022-01-28T08:50:31.341196Z",
     "start_time": "2022-01-28T08:50:31.257972Z"
    }
   },
   "outputs": [
    {
     "data": {
      "text/html": [
       "<div>\n",
       "<style scoped>\n",
       "    .dataframe tbody tr th:only-of-type {\n",
       "        vertical-align: middle;\n",
       "    }\n",
       "\n",
       "    .dataframe tbody tr th {\n",
       "        vertical-align: top;\n",
       "    }\n",
       "\n",
       "    .dataframe thead th {\n",
       "        text-align: right;\n",
       "    }\n",
       "</style>\n",
       "<table border=\"1\" class=\"dataframe\">\n",
       "  <thead>\n",
       "    <tr style=\"text-align: right;\">\n",
       "      <th></th>\n",
       "      <th>101</th>\n",
       "      <th>2023</th>\n",
       "      <th>2003</th>\n",
       "      <th>1037</th>\n",
       "      <th>2034</th>\n",
       "      <th>3231</th>\n",
       "      <th>1012</th>\n",
       "      <th>1996</th>\n",
       "      <th>3231</th>\n",
       "      <th>3397</th>\n",
       "      <th>1017</th>\n",
       "      <th>11746</th>\n",
       "      <th>1012</th>\n",
       "      <th>2023</th>\n",
       "      <th>2003</th>\n",
       "      <th>1996</th>\n",
       "      <th>2197</th>\n",
       "      <th>6251</th>\n",
       "      <th>1012</th>\n",
       "      <th>2057</th>\n",
       "      <th>2031</th>\n",
       "      <th>1037</th>\n",
       "      <th>2117</th>\n",
       "      <th>4366</th>\n",
       "      <th>2182</th>\n",
       "      <th>1010</th>\n",
       "      <th>2200</th>\n",
       "      <th>9006</th>\n",
       "      <th>24759</th>\n",
       "      <th>2666</th>\n",
       "      <th>2595</th>\n",
       "      <th>18351</th>\n",
       "      <th>2061</th>\n",
       "      <th>4326</th>\n",
       "      <th>1012</th>\n",
       "      <th>1998</th>\n",
       "      <th>2057</th>\n",
       "      <th>2633</th>\n",
       "      <th>2031</th>\n",
       "      <th>2256</th>\n",
       "      <th>6919</th>\n",
       "      <th>7091</th>\n",
       "      <th>102</th>\n",
       "      <th>0</th>\n",
       "      <th>0</th>\n",
       "    </tr>\n",
       "  </thead>\n",
       "  <tbody>\n",
       "    <tr>\n",
       "      <th>text</th>\n",
       "      <td></td>\n",
       "      <td>This</td>\n",
       "      <td>is</td>\n",
       "      <td>a</td>\n",
       "      <td>first</td>\n",
       "      <td>test</td>\n",
       "      <td>.</td>\n",
       "      <td>The</td>\n",
       "      <td>test</td>\n",
       "      <td>contains</td>\n",
       "      <td>3</td>\n",
       "      <td>sentences</td>\n",
       "      <td>.</td>\n",
       "      <td>This</td>\n",
       "      <td>is</td>\n",
       "      <td>the</td>\n",
       "      <td>last</td>\n",
       "      <td>sentence</td>\n",
       "      <td>.</td>\n",
       "      <td>We</td>\n",
       "      <td>have</td>\n",
       "      <td>a</td>\n",
       "      <td>second</td>\n",
       "      <td>claim</td>\n",
       "      <td>here</td>\n",
       "      <td>,</td>\n",
       "      <td>very</td>\n",
       "      <td>com</td>\n",
       "      <td>pl</td>\n",
       "      <td>ie</td>\n",
       "      <td>x</td>\n",
       "      <td>word</td>\n",
       "      <td>so</td>\n",
       "      <td>strange</td>\n",
       "      <td>.</td>\n",
       "      <td>And</td>\n",
       "      <td>we</td>\n",
       "      <td>finally</td>\n",
       "      <td>have</td>\n",
       "      <td>our</td>\n",
       "      <td>wonderful</td>\n",
       "      <td>conclusion</td>\n",
       "      <td></td>\n",
       "      <td></td>\n",
       "      <td></td>\n",
       "    </tr>\n",
       "    <tr>\n",
       "      <th>offset</th>\n",
       "      <td>(0, 0)</td>\n",
       "      <td>(0, 4)</td>\n",
       "      <td>(5, 7)</td>\n",
       "      <td>(8, 9)</td>\n",
       "      <td>(10, 15)</td>\n",
       "      <td>(16, 20)</td>\n",
       "      <td>(20, 21)</td>\n",
       "      <td>(22, 25)</td>\n",
       "      <td>(26, 30)</td>\n",
       "      <td>(31, 39)</td>\n",
       "      <td>(40, 41)</td>\n",
       "      <td>(42, 51)</td>\n",
       "      <td>(51, 52)</td>\n",
       "      <td>(53, 57)</td>\n",
       "      <td>(58, 60)</td>\n",
       "      <td>(61, 64)</td>\n",
       "      <td>(65, 69)</td>\n",
       "      <td>(70, 78)</td>\n",
       "      <td>(78, 79)</td>\n",
       "      <td>(80, 82)</td>\n",
       "      <td>(83, 87)</td>\n",
       "      <td>(88, 89)</td>\n",
       "      <td>(90, 96)</td>\n",
       "      <td>(97, 102)</td>\n",
       "      <td>(103, 107)</td>\n",
       "      <td>(107, 108)</td>\n",
       "      <td>(109, 113)</td>\n",
       "      <td>(113, 116)</td>\n",
       "      <td>(116, 118)</td>\n",
       "      <td>(118, 120)</td>\n",
       "      <td>(120, 121)</td>\n",
       "      <td>(121, 125)</td>\n",
       "      <td>(126, 128)</td>\n",
       "      <td>(129, 136)</td>\n",
       "      <td>(136, 137)</td>\n",
       "      <td>(138, 141)</td>\n",
       "      <td>(142, 144)</td>\n",
       "      <td>(145, 152)</td>\n",
       "      <td>(153, 157)</td>\n",
       "      <td>(158, 161)</td>\n",
       "      <td>(162, 171)</td>\n",
       "      <td>(172, 182)</td>\n",
       "      <td>(0, 0)</td>\n",
       "      <td>(0, 0)</td>\n",
       "      <td>(0, 0)</td>\n",
       "    </tr>\n",
       "  </tbody>\n",
       "</table>\n",
       "</div>"
      ],
      "text/plain": [
       "          101     2023    2003    1037  ...        7091    102     0       0   \n",
       "text              This      is       a  ...  conclusion                        \n",
       "offset  (0, 0)  (0, 4)  (5, 7)  (8, 9)  ...  (172, 182)  (0, 0)  (0, 0)  (0, 0)\n",
       "\n",
       "[2 rows x 45 columns]"
      ]
     },
     "execution_count": 75,
     "metadata": {},
     "output_type": "execute_result"
    }
   ],
   "source": [
    "## Creating tokens and visualize\n",
    "tokens = tokenizer(text_1,return_attention_mask=True,return_offsets_mapping=True,return_token_type_ids=False,\n",
    "                  padding = 'max_length',max_length=45,truncation=True)\n",
    "\n",
    "\n",
    "pd.DataFrame({'text':[text_1[pos[0]:pos[1]] for pos in tokens['offset_mapping']],'offset':tokens['offset_mapping']},index=pd.Index(tokens['input_ids'])).T"
   ]
  },
  {
   "cell_type": "code",
   "execution_count": 83,
   "id": "680e26ed",
   "metadata": {
    "ExecuteTime": {
     "end_time": "2022-01-28T09:15:13.229161Z",
     "start_time": "2022-01-28T09:15:13.214864Z"
    }
   },
   "outputs": [
    {
     "data": {
      "text/plain": [
       "['[CLS]',\n",
       " 'this',\n",
       " 'is',\n",
       " 'a',\n",
       " 'first',\n",
       " 'test',\n",
       " '.',\n",
       " 'the',\n",
       " 'test',\n",
       " 'contains',\n",
       " '3',\n",
       " 'sentences',\n",
       " '.',\n",
       " 'this',\n",
       " 'is',\n",
       " 'the',\n",
       " 'last',\n",
       " 'sentence',\n",
       " '.',\n",
       " 'we',\n",
       " 'have',\n",
       " 'a',\n",
       " 'second',\n",
       " 'claim',\n",
       " 'here',\n",
       " ',',\n",
       " 'very',\n",
       " '##com',\n",
       " '##pl',\n",
       " '##ie',\n",
       " '##x',\n",
       " '##word',\n",
       " 'so',\n",
       " 'strange',\n",
       " '.',\n",
       " 'and',\n",
       " 'we',\n",
       " 'finally',\n",
       " 'have',\n",
       " 'our',\n",
       " 'wonderful',\n",
       " 'conclusion',\n",
       " '[SEP]',\n",
       " '[PAD]',\n",
       " '[PAD]']"
      ]
     },
     "execution_count": 83,
     "metadata": {},
     "output_type": "execute_result"
    }
   ],
   "source": [
    "## Creating tokens and visualize\n",
    "tokens = tokenizer(text_1.split(),return_attention_mask=True,return_token_type_ids=False,\n",
    "                  padding = 'max_length',max_length=45,truncation=True,is_split_into_words=True)\n",
    "\n",
    "\n",
    "#pd.DataFrame({'text':[text_1.split()[pos[0]:pos[1]] for pos in tokens['offset_mapping']],'offset':tokens['offset_mapping']},index=pd.Index(tokens['input_ids']))\n",
    "\n",
    "tokenizer.convert_ids_to_tokens(tokens['input_ids'])"
   ]
  },
  {
   "cell_type": "code",
   "execution_count": 85,
   "id": "ff5b65fd",
   "metadata": {
    "ExecuteTime": {
     "end_time": "2022-01-28T09:16:43.489720Z",
     "start_time": "2022-01-28T09:16:43.483741Z"
    }
   },
   "outputs": [
    {
     "data": {
      "text/plain": [
       "[None,\n",
       " 0,\n",
       " 1,\n",
       " 2,\n",
       " 3,\n",
       " 4,\n",
       " 4,\n",
       " 5,\n",
       " 6,\n",
       " 7,\n",
       " 8,\n",
       " 9,\n",
       " 9,\n",
       " 10,\n",
       " 11,\n",
       " 12,\n",
       " 13,\n",
       " 14,\n",
       " 14,\n",
       " 15,\n",
       " 16,\n",
       " 17,\n",
       " 18,\n",
       " 19,\n",
       " 20,\n",
       " 20,\n",
       " 21,\n",
       " 21,\n",
       " 21,\n",
       " 21,\n",
       " 21,\n",
       " 21,\n",
       " 22,\n",
       " 23,\n",
       " 23,\n",
       " 24,\n",
       " 25,\n",
       " 26,\n",
       " 27,\n",
       " 28,\n",
       " 29,\n",
       " 30,\n",
       " None,\n",
       " None,\n",
       " None]"
      ]
     },
     "execution_count": 85,
     "metadata": {},
     "output_type": "execute_result"
    }
   ],
   "source": [
    "tokens.word_ids()"
   ]
  },
  {
   "cell_type": "code",
   "execution_count": 86,
   "id": "0be00fb4",
   "metadata": {
    "ExecuteTime": {
     "end_time": "2022-01-28T09:38:59.428054Z",
     "start_time": "2022-01-28T09:38:59.421650Z"
    }
   },
   "outputs": [
    {
     "data": {
      "text/plain": [
       "{'input_ids': [101, 2023, 2003, 1037, 2034, 3231, 1012, 1996, 3231, 3397, 1017, 11746, 1012, 2023, 2003, 1996, 2197, 6251, 1012, 2057, 2031, 1037, 2117, 4366, 2182, 1010, 2200, 9006, 24759, 2666, 2595, 18351, 2061, 4326, 1012, 1998, 2057, 2633, 2031, 2256, 6919, 7091, 102, 0, 0], 'attention_mask': [1, 1, 1, 1, 1, 1, 1, 1, 1, 1, 1, 1, 1, 1, 1, 1, 1, 1, 1, 1, 1, 1, 1, 1, 1, 1, 1, 1, 1, 1, 1, 1, 1, 1, 1, 1, 1, 1, 1, 1, 1, 1, 1, 0, 0]}"
      ]
     },
     "execution_count": 86,
     "metadata": {},
     "output_type": "execute_result"
    }
   ],
   "source": [
    "tokens"
   ]
  },
  {
   "cell_type": "code",
   "execution_count": null,
   "id": "2570a2ca",
   "metadata": {},
   "outputs": [],
   "source": []
  }
 ],
 "metadata": {
  "kernelspec": {
   "display_name": "Python 3 (ipykernel)",
   "language": "python",
   "name": "python3"
  },
  "language_info": {
   "codemirror_mode": {
    "name": "ipython",
    "version": 3
   },
   "file_extension": ".py",
   "mimetype": "text/x-python",
   "name": "python",
   "nbconvert_exporter": "python",
   "pygments_lexer": "ipython3",
   "version": "3.8.12"
  },
  "toc": {
   "base_numbering": 1,
   "nav_menu": {},
   "number_sections": true,
   "sideBar": true,
   "skip_h1_title": false,
   "title_cell": "Table of Contents",
   "title_sidebar": "Contents",
   "toc_cell": false,
   "toc_position": {},
   "toc_section_display": true,
   "toc_window_display": false
  },
  "varInspector": {
   "cols": {
    "lenName": 16,
    "lenType": 16,
    "lenVar": 40
   },
   "kernels_config": {
    "python": {
     "delete_cmd_postfix": "",
     "delete_cmd_prefix": "del ",
     "library": "var_list.py",
     "varRefreshCmd": "print(var_dic_list())"
    },
    "r": {
     "delete_cmd_postfix": ") ",
     "delete_cmd_prefix": "rm(",
     "library": "var_list.r",
     "varRefreshCmd": "cat(var_dic_list()) "
    }
   },
   "types_to_exclude": [
    "module",
    "function",
    "builtin_function_or_method",
    "instance",
    "_Feature"
   ],
   "window_display": false
  }
 },
 "nbformat": 4,
 "nbformat_minor": 5
}
