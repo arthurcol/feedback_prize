{
  "cells": [
    {
      "cell_type": "markdown",
      "id": "c964aa0c",
      "metadata": {
        "id": "c964aa0c"
      },
      "source": [
        "The goal of this notebook is to have a first functional workflow with a 'simple' model\n",
        "\n",
        "__Roadmap__\n",
        "\n",
        "1. Data prep into a tf.dataset object with the relevant features. Done with tokenizer.\n",
        "    - sequence\n",
        "    - masking \n",
        "    - offset mapping \n",
        "\n",
        "\n",
        "2. Create model via transfer learning\n",
        "    "
      ]
    },
    {
      "cell_type": "markdown",
      "id": "532fe246",
      "metadata": {
        "id": "532fe246"
      },
      "source": [
        "## Imports & Variables"
      ]
    },
    {
      "cell_type": "code",
      "source": [
        "try:\n",
        "  from google.colab import drive\n",
        "  !pip install --quiet transformers\n",
        "except:\n",
        "  print('Welcome on your Notebook')"
      ],
      "metadata": {
        "colab": {
          "base_uri": "https://localhost:8080/"
        },
        "id": "m3RrlePKJC99",
        "outputId": "9ff7aa66-f468-4def-95a4-903c49269e35"
      },
      "id": "m3RrlePKJC99",
      "execution_count": 2,
      "outputs": [
        {
          "output_type": "stream",
          "name": "stdout",
          "text": [
            "\u001b[K     |████████████████████████████████| 3.4 MB 5.5 MB/s \n",
            "\u001b[K     |████████████████████████████████| 67 kB 4.5 MB/s \n",
            "\u001b[K     |████████████████████████████████| 596 kB 55.1 MB/s \n",
            "\u001b[K     |████████████████████████████████| 895 kB 41.5 MB/s \n",
            "\u001b[K     |████████████████████████████████| 3.3 MB 35.7 MB/s \n",
            "\u001b[?25h"
          ]
        }
      ]
    },
    {
      "cell_type": "code",
      "execution_count": 3,
      "id": "2053d0ae",
      "metadata": {
        "ExecuteTime": {
          "end_time": "2022-01-25T19:24:38.952122Z",
          "start_time": "2022-01-25T19:24:36.791781Z"
        },
        "id": "2053d0ae"
      },
      "outputs": [],
      "source": [
        "#canonicals\n",
        "import pandas as pd \n",
        "import numpy as np\n",
        "import matplotlib.pyplot as plt\n",
        "import tensorflow as tf\n",
        "\n",
        "#hugging face\n",
        "from transformers import BertTokenizer, TFBertModel\n",
        "\n",
        "#utils\n",
        "from tqdm.notebook import tqdm_notebook"
      ]
    },
    {
      "cell_type": "code",
      "execution_count": 12,
      "id": "26b8c556",
      "metadata": {
        "ExecuteTime": {
          "end_time": "2022-01-25T20:19:29.825829Z",
          "start_time": "2022-01-25T20:19:29.822166Z"
        },
        "id": "26b8c556"
      },
      "outputs": [],
      "source": [
        "# Change this to work with a sample of the data or the full dataset\n",
        "SAMPLE_MODE = False\n",
        "\n",
        "#Max length of a discourse (refers to explorator nb)\n",
        "DISCOURSE_LEN = 256\n",
        "\n",
        "#change this to run again the tokenizer. If set to false will fetch npz files in the directory \n",
        "TOKENIZE = False\n",
        "\n",
        "#Set TRAIN, VAL, TEST splits:\n",
        "VAL_SPLIT=0.8\n",
        "TEST_SPLIT=0.9\n",
        "\n",
        "#Batch size\n",
        "BATCH_SIZE = 256\n",
        "\n",
        "#Paths saved TF datasets\n",
        "PATH_TF_DATASET='/content/drive/MyDrive/feedback-prize/datasets'"
      ]
    },
    {
      "cell_type": "markdown",
      "id": "d97c426d",
      "metadata": {
        "id": "d97c426d"
      },
      "source": [
        "## Data"
      ]
    },
    {
      "cell_type": "code",
      "execution_count": 5,
      "id": "d078dca6",
      "metadata": {
        "ExecuteTime": {
          "end_time": "2022-01-25T19:04:24.038909Z",
          "start_time": "2022-01-25T19:04:23.945922Z"
        },
        "colab": {
          "base_uri": "https://localhost:8080/"
        },
        "id": "d078dca6",
        "outputId": "959e9406-ce95-493a-d745-78d4b04c5373"
      },
      "outputs": [
        {
          "output_type": "stream",
          "name": "stdout",
          "text": [
            "Mounted at /content/drive\n",
            "/content/drive/MyDrive/feedback-prize\n"
          ]
        }
      ],
      "source": [
        "if SAMPLE_MODE:\n",
        "    n_rows=15000-9\n",
        "else: \n",
        "    n_rows=None\n",
        "\n",
        "try:\n",
        "  from google.colab import drive\n",
        "  drive.mount('/content/drive')\n",
        "  %cd /content/drive/MyDrive/feedback-prize\n",
        "\n",
        "  df = pd.read_csv('train_filled.csv',nrows=n_rows,index_col=0)\n",
        "\n",
        "except:\n",
        "  df = pd.read_csv('../raw_data/train_filled.csv',nrows=n_rows,index_col=0)\n",
        "\n",
        "df.reset_index(drop=True, inplace=True)\n",
        "df['discourse_text'].fillna(' ',inplace=True)"
      ]
    },
    {
      "cell_type": "code",
      "execution_count": 6,
      "id": "e19b0619",
      "metadata": {
        "ExecuteTime": {
          "end_time": "2022-01-25T20:00:57.259845Z",
          "start_time": "2022-01-25T20:00:57.252247Z"
        },
        "id": "e19b0619"
      },
      "outputs": [],
      "source": [
        "## Splitting into train, val and test \n",
        "\n",
        "## setting for the exact right index : we don't wan't to split \n",
        "## an essay between 2 sets\n",
        "\n",
        "idx_val=int(len(df)*VAL_SPLIT)\n",
        "idx_test=int(len(df)*TEST_SPLIT)\n",
        "\n",
        "for i in range(idx_val,idx_val+20):\n",
        "    if df.loc[i,'id'] != df.loc[i+1,'id']:\n",
        "        idx_val=i\n",
        "        break\n",
        "        \n",
        "for i in range(idx_test,idx_test+20):\n",
        "    if df.loc[i,'id'] != df.loc[i+1,'id']:\n",
        "        idx_test=i\n",
        "        break\n",
        "        \n",
        "#display(df.loc[idx_val-2:idx_val+2],df.loc[idx_test-2:idx_test+2],idx_val,idx_test)\n",
        "\n",
        "assert(df.loc[idx_val,'id']!=df.loc[idx_val+1,'id'])\n",
        "assert(df.loc[idx_test,'id']!=df.loc[idx_test+1,'id'])\n",
        "\n",
        "idx_train=list(range(0,idx_val))\n",
        "idx_val=list(range(idx_val,idx_test))\n",
        "idx_test=list(range(idx_test,len(df)))\n",
        "\n",
        "assert(len(idx_test)+len(idx_train)+len(idx_val)==len(df))\n"
      ]
    },
    {
      "cell_type": "markdown",
      "id": "3404d282",
      "metadata": {
        "id": "3404d282"
      },
      "source": [
        "## Tokenizer"
      ]
    },
    {
      "cell_type": "code",
      "execution_count": 7,
      "id": "721ae3cf",
      "metadata": {
        "ExecuteTime": {
          "end_time": "2022-01-25T20:21:23.488478Z",
          "start_time": "2022-01-25T20:21:23.478337Z"
        },
        "id": "721ae3cf"
      },
      "outputs": [],
      "source": [
        "## create labels dict and map it\n",
        "labels={l:i for i,l in enumerate(df.discourse_type.unique())}\n",
        "\n",
        "df['label']=df['discourse_type'].map(labels)"
      ]
    },
    {
      "cell_type": "code",
      "execution_count": 8,
      "id": "8ba0934d",
      "metadata": {
        "ExecuteTime": {
          "end_time": "2022-01-25T20:22:50.019247Z",
          "start_time": "2022-01-25T20:22:50.012727Z"
        },
        "id": "8ba0934d"
      },
      "outputs": [],
      "source": [
        "## create x_train,x_test,x_val\n",
        "x_train = df['discourse_text'].values[idx_train]\n",
        "x_val = df['discourse_text'].values[idx_val]\n",
        "x_test = df['discourse_text'].values[idx_test]"
      ]
    },
    {
      "cell_type": "code",
      "execution_count": 9,
      "id": "8754f39d",
      "metadata": {
        "ExecuteTime": {
          "end_time": "2022-01-25T20:37:08.918267Z",
          "start_time": "2022-01-25T20:37:08.908894Z"
        },
        "id": "8754f39d"
      },
      "outputs": [],
      "source": [
        "## create y_train, y_test, y_val \n",
        "y_train_ = df['label'].values[idx_train]\n",
        "y_val_ = df['label'].values[idx_val]\n",
        "y_test_ = df['label'].values[idx_test]\n",
        "\n",
        "## ohe\n",
        "y_train = np.zeros((len(idx_train),len(labels)))\n",
        "y_val = np.zeros((len(idx_val),len(labels)))\n",
        "y_test = np.zeros((len(idx_test),len(labels)))\n",
        "\n",
        "y_train[np.arange(len(y_train_)),y_train_]=1\n",
        "y_val[np.arange(len(y_val_)),y_val_]=1\n",
        "y_test[np.arange(len(y_test_)),y_test_]=1\n",
        "\n",
        "#convert to tensors\n",
        "y_train = tf.convert_to_tensor(y_train,dtype='int32')\n",
        "y_val = tf.convert_to_tensor(y_val,dtype='int32')\n",
        "y_test = tf.convert_to_tensor(y_test,dtype='int32')\n",
        "\n",
        "assert(y_test.shape[1]==8)"
      ]
    },
    {
      "cell_type": "code",
      "execution_count": 10,
      "id": "d2b0d73d",
      "metadata": {
        "ExecuteTime": {
          "end_time": "2022-01-25T19:25:01.503285Z",
          "start_time": "2022-01-25T19:24:58.087116Z"
        },
        "colab": {
          "base_uri": "https://localhost:8080/",
          "height": 145,
          "referenced_widgets": [
            "3a94f2b5d4b044fd824f893dca228a1a",
            "04f9190259d74d1690094c3699fc6757",
            "4e6ec907e1ab4775ae18bbf2cc3226c9",
            "0066d7bc32c64a789622be3a564c4451",
            "f41b9d9d3d974fd7af298f12058ac20a",
            "e4c8127702014fdcb5e24dfd2bc9899e",
            "c81f50bea4d841708cdc5e2b8373e9cc",
            "82f1f1fed0fc4de1b45523720e174242",
            "d335233aa32949a990142dbcac4398e7",
            "db3e3d5d73af4608bf2f680777d25b0a",
            "f11ecba53d6b4b5e9415dd823e08bced",
            "11c586b504434347b7de0771357cc3b4",
            "e67d0cc2760d499bab6a99f6d57ccebd",
            "ae3dc124175f47e280ab9b930e992e9d",
            "d95171085fdf4523af0ffab2a97370c1",
            "857aeb6a33264e84baf36db3359cd033",
            "98d32098406c442e8ce3fcd7f650c896",
            "0ce48b84182b46859ae0f861a2ce526b",
            "88abc95f737c4ba98338937d421855a7",
            "12effecf2a5c43529bcd4167e19dd7f5",
            "64d7edc625e04106a145b3095dcd62ca",
            "fbde7c035f6d48a3b225adbbea2609b3",
            "3400d572e1694fe19735c16f7245cce2",
            "e9d14900aed44c3e8148dc6072b3c24d",
            "1c2859f77a7145e689b73258f51f273b",
            "eb2ff77f1f4b44b88e8bbf2c29b3df77",
            "c98a95d2a3634756880463b1fe3cc455",
            "6c3ed3f1b4824a85aaa3a59149bda27a",
            "8e7407d535b74265b4c5c2db1d37aaf8",
            "4b4606ef3a164053a72e6631042cd9e4",
            "a055af6a7dc2416c8b64332b3b709957",
            "5b4f671253d54ff0af5a95b4b591084d",
            "6a9c94ee9f804f558d033339c4e14f13",
            "76c717a6c9374a6980fb81348d1df06e",
            "2330d43874954a42b5973d782744c45f",
            "5125b274b5cb4bad9a1c072fc32e9d09",
            "666c784928bd4194afb85da5f7b69c6e",
            "3116e0259e40408d97dba1aff7352995",
            "7fefea6ab8d54038ae1f3ebcd8f7347c",
            "75fa82df40f240ad81776c1c53367695",
            "99ffec6e151e4a29a79df5f1f3f42836",
            "24e894e1f39a4fc980de9d4acc41c96b",
            "1113393a0fe94c78aacfa028e58d77ea",
            "85939853a1e545a0aa3baaf33203ba06"
          ]
        },
        "id": "d2b0d73d",
        "outputId": "42f1a3b0-b77a-4a8d-f3cc-e8c6a2427626"
      },
      "outputs": [
        {
          "output_type": "display_data",
          "data": {
            "application/vnd.jupyter.widget-view+json": {
              "model_id": "3a94f2b5d4b044fd824f893dca228a1a",
              "version_minor": 0,
              "version_major": 2
            },
            "text/plain": [
              "Downloading:   0%|          | 0.00/226k [00:00<?, ?B/s]"
            ]
          },
          "metadata": {}
        },
        {
          "output_type": "display_data",
          "data": {
            "application/vnd.jupyter.widget-view+json": {
              "model_id": "11c586b504434347b7de0771357cc3b4",
              "version_minor": 0,
              "version_major": 2
            },
            "text/plain": [
              "Downloading:   0%|          | 0.00/28.0 [00:00<?, ?B/s]"
            ]
          },
          "metadata": {}
        },
        {
          "output_type": "display_data",
          "data": {
            "application/vnd.jupyter.widget-view+json": {
              "model_id": "3400d572e1694fe19735c16f7245cce2",
              "version_minor": 0,
              "version_major": 2
            },
            "text/plain": [
              "Downloading:   0%|          | 0.00/455k [00:00<?, ?B/s]"
            ]
          },
          "metadata": {}
        },
        {
          "output_type": "display_data",
          "data": {
            "application/vnd.jupyter.widget-view+json": {
              "model_id": "76c717a6c9374a6980fb81348d1df06e",
              "version_minor": 0,
              "version_major": 2
            },
            "text/plain": [
              "Downloading:   0%|          | 0.00/570 [00:00<?, ?B/s]"
            ]
          },
          "metadata": {}
        }
      ],
      "source": [
        "#initiate tokenizer\n",
        "tokenizer = BertTokenizer.from_pretrained('bert-base-uncased')"
      ]
    },
    {
      "cell_type": "code",
      "execution_count": 14,
      "id": "0021f982",
      "metadata": {
        "ExecuteTime": {
          "end_time": "2022-01-25T20:39:33.097755Z",
          "start_time": "2022-01-25T20:39:19.230449Z"
        },
        "id": "0021f982",
        "colab": {
          "base_uri": "https://localhost:8080/"
        },
        "outputId": "c3efbc53-a0d7-4f79-f2db-e816502f64f0"
      },
      "outputs": [
        {
          "output_type": "stream",
          "name": "stdout",
          "text": [
            "Running the notebook in TOKENIZE=False mode\n"
          ]
        }
      ],
      "source": [
        "## tokenize train,val,test\n",
        "\n",
        "if TOKENIZE:\n",
        "\n",
        "  x_train_tok=tokenizer(list(x_train),truncation=True,max_length=DISCOURSE_LEN,padding='max_length',\n",
        "              return_token_type_ids=False,return_tensors='tf')\n",
        "  x_val_tok=tokenizer(list(x_val),truncation=True,max_length=DISCOURSE_LEN,padding='max_length',\n",
        "              return_token_type_ids=False,return_tensors='tf')\n",
        "  x_test_tok=tokenizer(list(x_test),truncation=True,max_length=DISCOURSE_LEN,padding='max_length',\n",
        "              return_token_type_ids=False,return_tensors='tf')\n",
        "  \n",
        "    # Now we can store all our tokenized tensors \n",
        "\n",
        "  with open('x_train.npz','wb') as file:\n",
        "    np.savez(file,input_ids=x_train_tok['input_ids'],attention_mask=x_train_tok['attention_mask']) \n",
        "\n",
        "  with open('x_val.npz','wb') as file:\n",
        "    np.savez(file,input_ids=x_val_tok['input_ids'],attention_mask=x_val_tok['attention_mask']) \n",
        "\n",
        "  with open('x_test.npz','wb') as file:\n",
        "    np.savez(file,input_ids=x_test_tok['input_ids'],attention_mask=x_test_tok['attention_mask']) \n",
        "  \n",
        "else:\n",
        "  print('Running the notebook in TOKENIZE=False mode')"
      ]
    },
    {
      "cell_type": "code",
      "source": [
        "if not TOKENIZE:\n",
        "\n",
        "  ## We load our pre-tokenized data and store them into tensors\n",
        "\n",
        "  with open('x_train.npz','rb') as file:\n",
        "    arrays_tmp = np.load(file, allow_pickle=False) \n",
        "    x_train_tok = dict(input_ids = tf.convert_to_tensor(arrays_tmp['input_ids']),\n",
        "                       attention_mask = tf.convert_to_tensor(arrays_tmp['attention_mask']))\n",
        "\n",
        "  with open('x_val.npz','rb') as file:\n",
        "    arrays_tmp = np.load(file, allow_pickle=False) \n",
        "    x_val_tok = dict(input_ids = tf.convert_to_tensor(arrays_tmp['input_ids']),\n",
        "                       attention_mask = tf.convert_to_tensor(arrays_tmp['attention_mask']))\n",
        "    \n",
        "  with open('x_test.npz','rb') as file:\n",
        "    arrays_tmp = np.load(file, allow_pickle=False) \n",
        "    x_test_tok = dict(input_ids = tf.convert_to_tensor(arrays_tmp['input_ids']),\n",
        "                       attention_mask = tf.convert_to_tensor(arrays_tmp['attention_mask']))"
      ],
      "metadata": {
        "id": "tOWJvyLqRdYs"
      },
      "id": "tOWJvyLqRdYs",
      "execution_count": 15,
      "outputs": []
    },
    {
      "cell_type": "code",
      "source": [
        "## Creating tf datasets objects\n",
        "\n",
        "train_dataset = tf.data.Dataset.from_tensor_slices((x_train_tok,y_train)).batch(BATCH_SIZE,num_parallel_calls=tf.data.AUTOTUNE)\n",
        "val_dataset = tf.data.Dataset.from_tensor_slices((x_val_tok,y_val)).batch(BATCH_SIZE,num_parallel_calls=tf.data.AUTOTUNE)\n",
        "test_dataset = tf.data.Dataset.from_tensor_slices((x_test_tok,y_test)).batch(BATCH_SIZE,num_parallel_calls=tf.data.AUTOTUNE)"
      ],
      "metadata": {
        "id": "zOcP659ccGl_"
      },
      "id": "zOcP659ccGl_",
      "execution_count": 17,
      "outputs": []
    },
    {
      "cell_type": "code",
      "source": [
        "x_train_tok"
      ],
      "metadata": {
        "colab": {
          "base_uri": "https://localhost:8080/"
        },
        "id": "dCYm1QfqtBm6",
        "outputId": "165f2dc3-045a-4736-91f1-a173f8872b22"
      },
      "id": "dCYm1QfqtBm6",
      "execution_count": 16,
      "outputs": [
        {
          "output_type": "execute_result",
          "data": {
            "text/plain": [
              "{'attention_mask': <tf.Tensor: shape=(134072, 256), dtype=int32, numpy=\n",
              " array([[1, 1, 1, ..., 0, 0, 0],\n",
              "        [1, 1, 1, ..., 0, 0, 0],\n",
              "        [1, 1, 1, ..., 0, 0, 0],\n",
              "        ...,\n",
              "        [1, 1, 1, ..., 0, 0, 0],\n",
              "        [1, 1, 1, ..., 0, 0, 0],\n",
              "        [1, 1, 1, ..., 0, 0, 0]], dtype=int32)>,\n",
              " 'input_ids': <tf.Tensor: shape=(134072, 256), dtype=int32, numpy=\n",
              " array([[  101,  2070,  2111, ...,     0,     0,     0],\n",
              "        [  101,  2009,  2001, ...,     0,     0,     0],\n",
              "        [  101,  1037, 15797, ...,     0,     0,     0],\n",
              "        ...,\n",
              "        [  101,  2070,  2111, ...,     0,     0,     0],\n",
              "        [  101,  2027,  2097, ...,     0,     0,     0],\n",
              "        [  101,  4661,  1010, ...,     0,     0,     0]], dtype=int32)>}"
            ]
          },
          "metadata": {},
          "execution_count": 16
        }
      ]
    },
    {
      "cell_type": "markdown",
      "id": "d0af9eb2",
      "metadata": {
        "id": "d0af9eb2"
      },
      "source": [
        "## Modeling"
      ]
    },
    {
      "cell_type": "code",
      "execution_count": 18,
      "id": "77ffd2ae",
      "metadata": {
        "ExecuteTime": {
          "end_time": "2022-01-25T21:02:20.202159Z",
          "start_time": "2022-01-25T21:02:16.292571Z"
        },
        "colab": {
          "base_uri": "https://localhost:8080/",
          "height": 156,
          "referenced_widgets": [
            "df26f078b33d4f36b5a84968923b18b7",
            "a252db8c5d7d4370b26976513c9bd568",
            "0956aff3c56648279fbdba64ca663fcb",
            "2bd75754be454ede8158ad1889c6af9b",
            "e3876d13dc5340cb8d02a63e283f30fa",
            "77758985ba9244cb8251b255c3b50723",
            "05ee7fa36a0647e984edc6d917414298",
            "79eb385d555544fa9534c2913ab49743",
            "a2a02f5f31d242e194dff19516bfb2e1",
            "75e721d981394692bbe258be4c7921ba",
            "9d0996d913ff465cba370dd238b0ddae"
          ]
        },
        "id": "77ffd2ae",
        "outputId": "245db05f-47c8-4c8e-e739-90ff38fc8d7d"
      },
      "outputs": [
        {
          "output_type": "display_data",
          "data": {
            "application/vnd.jupyter.widget-view+json": {
              "model_id": "df26f078b33d4f36b5a84968923b18b7",
              "version_minor": 0,
              "version_major": 2
            },
            "text/plain": [
              "Downloading:   0%|          | 0.00/511M [00:00<?, ?B/s]"
            ]
          },
          "metadata": {}
        },
        {
          "output_type": "stream",
          "name": "stderr",
          "text": [
            "Some layers from the model checkpoint at bert-base-uncased were not used when initializing TFBertModel: ['mlm___cls', 'nsp___cls']\n",
            "- This IS expected if you are initializing TFBertModel from the checkpoint of a model trained on another task or with another architecture (e.g. initializing a BertForSequenceClassification model from a BertForPreTraining model).\n",
            "- This IS NOT expected if you are initializing TFBertModel from the checkpoint of a model that you expect to be exactly identical (initializing a BertForSequenceClassification model from a BertForSequenceClassification model).\n",
            "All the layers of TFBertModel were initialized from the model checkpoint at bert-base-uncased.\n",
            "If your task is similar to the task the model of the checkpoint was trained on, you can already use TFBertModel for predictions without further training.\n"
          ]
        }
      ],
      "source": [
        "pretrained_bert = TFBertModel.from_pretrained(\"bert-base-uncased\")"
      ]
    },
    {
      "cell_type": "code",
      "execution_count": 18,
      "id": "da9a1992",
      "metadata": {
        "ExecuteTime": {
          "end_time": "2022-01-25T21:03:53.792118Z",
          "start_time": "2022-01-25T21:03:53.782077Z"
        },
        "id": "da9a1992"
      },
      "outputs": [],
      "source": [
        ""
      ]
    },
    {
      "cell_type": "code",
      "execution_count": 19,
      "id": "52b6db8e",
      "metadata": {
        "ExecuteTime": {
          "end_time": "2022-01-25T21:26:47.985999Z",
          "start_time": "2022-01-25T21:26:47.980340Z"
        },
        "id": "52b6db8e"
      },
      "outputs": [],
      "source": [
        "def init_model():\n",
        "    input_ids = tf.keras.layers.Input(shape=(DISCOURSE_LEN,),dtype='int32')\n",
        "    attention_mask = tf.keras.layers.Input(shape=(DISCOURSE_LEN,),dtype='int32')\n",
        "    x = pretrained_bert({'input_ids':input_ids,\n",
        "                         'attention_mask':attention_mask})[0]\n",
        "    # x = tf.keras.layers.Flatten()(x)\n",
        "    x = tf.keras.layers.GlobalAveragePooling1D()(x)\n",
        "    x = tf.keras.layers.BatchNormalization()(x)\n",
        "    x = tf.keras.layers.Dense(512, activation='relu')(x)\n",
        "    x = tf.keras.layers.Dense(128, activation='relu')(x)\n",
        "    x = tf.keras.layers.Dropout(.2)(x)\n",
        "    x = tf.keras.layers.Dense(32, activation='relu')(x)\n",
        "    output = tf.keras.layers.Dense(8, activation='softmax',name='outputs')(x)\n",
        "\n",
        "    pretrained_bert.trainable=False\n",
        "    \n",
        "    model = tf.keras.Model(inputs={'input_ids':input_ids,\n",
        "                                   'attention_mask':attention_mask},\n",
        "                           outputs=output)\n",
        "    \n",
        "    return model"
      ]
    },
    {
      "cell_type": "code",
      "execution_count": 20,
      "id": "0b3a861b",
      "metadata": {
        "ExecuteTime": {
          "end_time": "2022-01-25T21:26:49.474694Z",
          "start_time": "2022-01-25T21:26:48.193951Z"
        },
        "id": "0b3a861b",
        "colab": {
          "base_uri": "https://localhost:8080/"
        },
        "outputId": "61c4410e-bbc7-4af4-8cce-2864b38b9394"
      },
      "outputs": [
        {
          "output_type": "stream",
          "name": "stdout",
          "text": [
            "Model: \"model\"\n",
            "__________________________________________________________________________________________________\n",
            " Layer (type)                   Output Shape         Param #     Connected to                     \n",
            "==================================================================================================\n",
            " input_2 (InputLayer)           [(None, 256)]        0           []                               \n",
            "                                                                                                  \n",
            " input_1 (InputLayer)           [(None, 256)]        0           []                               \n",
            "                                                                                                  \n",
            " tf_bert_model (TFBertModel)    TFBaseModelOutputWi  109482240   ['input_2[0][0]',                \n",
            "                                thPoolingAndCrossAt               'input_1[0][0]']                \n",
            "                                tentions(last_hidde                                               \n",
            "                                n_state=(None, 256,                                               \n",
            "                                 768),                                                            \n",
            "                                 pooler_output=(Non                                               \n",
            "                                e, 768),                                                          \n",
            "                                 past_key_values=No                                               \n",
            "                                ne, hidden_states=N                                               \n",
            "                                one, attentions=Non                                               \n",
            "                                e, cross_attentions                                               \n",
            "                                =None)                                                            \n",
            "                                                                                                  \n",
            " global_average_pooling1d (Glob  (None, 768)         0           ['tf_bert_model[0][0]']          \n",
            " alAveragePooling1D)                                                                              \n",
            "                                                                                                  \n",
            " batch_normalization (BatchNorm  (None, 768)         3072        ['global_average_pooling1d[0][0]'\n",
            " alization)                                                      ]                                \n",
            "                                                                                                  \n",
            " dense (Dense)                  (None, 512)          393728      ['batch_normalization[0][0]']    \n",
            "                                                                                                  \n",
            " dense_1 (Dense)                (None, 128)          65664       ['dense[0][0]']                  \n",
            "                                                                                                  \n",
            " dropout_37 (Dropout)           (None, 128)          0           ['dense_1[0][0]']                \n",
            "                                                                                                  \n",
            " dense_2 (Dense)                (None, 32)           4128        ['dropout_37[0][0]']             \n",
            "                                                                                                  \n",
            " outputs (Dense)                (None, 8)            264         ['dense_2[0][0]']                \n",
            "                                                                                                  \n",
            "==================================================================================================\n",
            "Total params: 109,949,096\n",
            "Trainable params: 465,320\n",
            "Non-trainable params: 109,483,776\n",
            "__________________________________________________________________________________________________\n"
          ]
        }
      ],
      "source": [
        "#init model and print summary\n",
        "model = init_model()\n",
        "model.summary()"
      ]
    },
    {
      "cell_type": "code",
      "source": [
        "#show graph\n",
        "tf.keras.utils.plot_model(model,show_shapes=True)"
      ],
      "metadata": {
        "colab": {
          "base_uri": "https://localhost:8080/",
          "height": 658
        },
        "id": "8Bt6pyNBPVaX",
        "outputId": "b500eb1d-39f7-45b8-a3d6-9129b09d7dad"
      },
      "id": "8Bt6pyNBPVaX",
      "execution_count": 21,
      "outputs": [
        {
          "output_type": "execute_result",
          "data": {
            "image/png": "[encoded data removed]",
            "text/plain": [
              "<IPython.core.display.Image object>"
            ]
          },
          "metadata": {},
          "execution_count": 21
        }
      ]
    },
    {
      "cell_type": "code",
      "source": [
        "## calcul number of iterations / epochs\n",
        "n_batches = int(len(x_train_tok['input_ids']))/BATCH_SIZE +1\n",
        "n_batches"
      ],
      "metadata": {
        "colab": {
          "base_uri": "https://localhost:8080/"
        },
        "id": "JG1wFjwf_Pq4",
        "outputId": "c4759e46-53fc-45e6-d784-94828c1b0676"
      },
      "id": "JG1wFjwf_Pq4",
      "execution_count": 22,
      "outputs": [
        {
          "output_type": "execute_result",
          "data": {
            "text/plain": [
              "524.71875"
            ]
          },
          "metadata": {},
          "execution_count": 22
        }
      ]
    },
    {
      "cell_type": "code",
      "source": [
        "# compile model\n",
        "loss = tf.keras.losses.CategoricalCrossentropy(name='categorical_crossentropy')\n",
        "acc = tf.keras.metrics.CategoricalAccuracy(name='accuracy')\n",
        "\n",
        "initial_learning_rate = 0.1\n",
        "\n",
        "lr_schedule = tf.keras.optimizers.schedules.ExponentialDecay(\n",
        "                                            initial_learning_rate,\n",
        "                                            decay_steps=200,\n",
        "                                            decay_rate=0.6,\n",
        "                                            staircase=True)\n",
        "\n",
        "opt = tf.keras.optimizers.Adam(learning_rate=lr_schedule)\n",
        "model.compile(optimizer=opt,loss=loss,metrics=[acc])"
      ],
      "metadata": {
        "id": "MN5EdYg1OeR3"
      },
      "id": "MN5EdYg1OeR3",
      "execution_count": 23,
      "outputs": []
    },
    {
      "cell_type": "code",
      "source": [
        "## creating callback and checkpoint saver\n",
        "es = tf.keras.callbacks.EarlyStopping(patience=1,restore_best_weights=True)\n",
        "\n",
        "checkpoint_saver = tf.keras.callbacks.ModelCheckpoint(filepath='/content/drive/MyDrive/feedback-prize/checkpoints',\n",
        "                                                      save_weights_only=True,\n",
        "                                                      save_best_only = True,\n",
        "                                                      monitor = 'val_accuracy',\n",
        "                                                      mode = 'max')"
      ],
      "metadata": {
        "id": "ov2Ff4DPeDfX"
      },
      "id": "ov2Ff4DPeDfX",
      "execution_count": 24,
      "outputs": []
    },
    {
      "cell_type": "code",
      "execution_count": null,
      "id": "aea12aef",
      "metadata": {
        "colab": {
          "base_uri": "https://localhost:8080/"
        },
        "id": "aea12aef",
        "outputId": "644a66c1-695d-4b8d-ca9d-b730c95aa97c"
      },
      "outputs": [
        {
          "output_type": "stream",
          "name": "stdout",
          "text": [
            "Epoch 1/10\n"
          ]
        }
      ],
      "source": [
        "\n",
        "history = model.fit(x={'input_ids':x_train_tok['input_ids'],\n",
        "                     'attention_mask':x_train_tok['attention_mask']},y=y_train,\n",
        "                    validation_data=({'input_ids':x_val_tok['input_ids'],\n",
        "                                     'attention_mask':x_val_tok['attention_mask']},y_val),\n",
        "                    epochs=10,callbacks=[es,checkpoint_saver],batch_size=BATCH_SIZE)"
      ]
    },
    {
      "cell_type": "code",
      "source": [
        "tf.saved_model.save(model,'data')"
      ],
      "metadata": {
        "colab": {
          "base_uri": "https://localhost:8080/"
        },
        "id": "KMETPbq7Op4b",
        "outputId": "fa2258dc-4d72-4fd8-bd10-fb6bbf2dd3c2"
      },
      "id": "KMETPbq7Op4b",
      "execution_count": null,
      "outputs": [
        {
          "output_type": "stream",
          "name": "stderr",
          "text": [
            "WARNING:absl:Found untraced functions such as embeddings_layer_call_fn, embeddings_layer_call_and_return_conditional_losses, encoder_layer_call_fn, encoder_layer_call_and_return_conditional_losses, pooler_layer_call_fn while saving (showing 5 of 1050). These functions will not be directly callable after loading.\n"
          ]
        },
        {
          "output_type": "stream",
          "name": "stdout",
          "text": [
            "INFO:tensorflow:Assets written to: data/assets\n"
          ]
        },
        {
          "output_type": "stream",
          "name": "stderr",
          "text": [
            "INFO:tensorflow:Assets written to: data/assets\n"
          ]
        }
      ]
    },
    {
      "cell_type": "code",
      "source": [
        ""
      ],
      "metadata": {
        "id": "XWm6skAomEdD"
      },
      "id": "XWm6skAomEdD",
      "execution_count": null,
      "outputs": []
    }
  ],
  "metadata": {
    "kernelspec": {
      "display_name": "Python 3 (ipykernel)",
      "language": "python",
      "name": "python3"
    },
    "language_info": {
      "codemirror_mode": {
        "name": "ipython",
        "version": 3
      },
      "file_extension": ".py",
      "mimetype": "text/x-python",
      "name": "python",
      "nbconvert_exporter": "python",
      "pygments_lexer": "ipython3",
      "version": "3.8.12"
    },
    "notify_time": "5",
    "toc": {
      "base_numbering": 1,
      "nav_menu": {},
      "number_sections": true,
      "sideBar": true,
      "skip_h1_title": false,
      "title_cell": "Table of Contents",
      "title_sidebar": "Contents",
      "toc_cell": false,
      "toc_position": {},
      "toc_section_display": true,
      "toc_window_display": false
    },
    "varInspector": {
      "cols": {
        "lenName": 16,
        "lenType": 16,
        "lenVar": 40
      },
      "kernels_config": {
        "python": {
          "delete_cmd_postfix": "",
          "delete_cmd_prefix": "del ",
          "library": "var_list.py",
          "varRefreshCmd": "print(var_dic_list())"
        },
        "r": {
          "delete_cmd_postfix": ") ",
          "delete_cmd_prefix": "rm(",
          "library": "var_list.r",
          "varRefreshCmd": "cat(var_dic_list()) "
        }
      },
      "position": {
        "height": "617.844px",
        "left": "1083px",
        "right": "20px",
        "top": "120px",
        "width": "337px"
      },
      "types_to_exclude": [
        "module",
        "function",
        "builtin_function_or_method",
        "instance",
        "_Feature"
      ],
      "window_display": false
    },
    "colab": {
      "name": "modeling_phase_1.ipynb",
      "provenance": [],
      "collapsed_sections": []
    },
    "accelerator": "GPU",
    "widgets": {
      "application/vnd.jupyter.widget-state+json": {
        "3a94f2b5d4b044fd824f893dca228a1a": {
          "model_module": "@jupyter-widgets/controls",
          "model_name": "HBoxModel",
          "model_module_version": "1.5.0",
          "state": {
            "_view_name": "HBoxView",
            "_dom_classes": [],
            "_model_name": "HBoxModel",
            "_view_module": "@jupyter-widgets/controls",
            "_model_module_version": "1.5.0",
            "_view_count": null,
            "_view_module_version": "1.5.0",
            "box_style": "",
            "layout": "IPY_MODEL_04f9190259d74d1690094c3699fc6757",
            "_model_module": "@jupyter-widgets/controls",
            "children": [
              "IPY_MODEL_4e6ec907e1ab4775ae18bbf2cc3226c9",
              "IPY_MODEL_0066d7bc32c64a789622be3a564c4451",
              "IPY_MODEL_f41b9d9d3d974fd7af298f12058ac20a"
            ]
          }
        },
        "04f9190259d74d1690094c3699fc6757": {
          "model_module": "@jupyter-widgets/base",
          "model_name": "LayoutModel",
          "model_module_version": "1.2.0",
          "state": {
            "_view_name": "LayoutView",
            "grid_template_rows": null,
            "right": null,
            "justify_content": null,
            "_view_module": "@jupyter-widgets/base",
            "overflow": null,
            "_model_module_version": "1.2.0",
            "_view_count": null,
            "flex_flow": null,
            "width": null,
            "min_width": null,
            "border": null,
            "align_items": null,
            "bottom": null,
            "_model_module": "@jupyter-widgets/base",
            "top": null,
            "grid_column": null,
            "overflow_y": null,
            "overflow_x": null,
            "grid_auto_flow": null,
            "grid_area": null,
            "grid_template_columns": null,
            "flex": null,
            "_model_name": "LayoutModel",
            "justify_items": null,
            "grid_row": null,
            "max_height": null,
            "align_content": null,
            "visibility": null,
            "align_self": null,
            "height": null,
            "min_height": null,
            "padding": null,
            "grid_auto_rows": null,
            "grid_gap": null,
            "max_width": null,
            "order": null,
            "_view_module_version": "1.2.0",
            "grid_template_areas": null,
            "object_position": null,
            "object_fit": null,
            "grid_auto_columns": null,
            "margin": null,
            "display": null,
            "left": null
          }
        },
        "4e6ec907e1ab4775ae18bbf2cc3226c9": {
          "model_module": "@jupyter-widgets/controls",
          "model_name": "HTMLModel",
          "model_module_version": "1.5.0",
          "state": {
            "_view_name": "HTMLView",
            "style": "IPY_MODEL_e4c8127702014fdcb5e24dfd2bc9899e",
            "_dom_classes": [],
            "description": "",
            "_model_name": "HTMLModel",
            "placeholder": "​",
            "_view_module": "@jupyter-widgets/controls",
            "_model_module_version": "1.5.0",
            "value": "Downloading: 100%",
            "_view_count": null,
            "_view_module_version": "1.5.0",
            "description_tooltip": null,
            "_model_module": "@jupyter-widgets/controls",
            "layout": "IPY_MODEL_c81f50bea4d841708cdc5e2b8373e9cc"
          }
        },
        "0066d7bc32c64a789622be3a564c4451": {
          "model_module": "@jupyter-widgets/controls",
          "model_name": "FloatProgressModel",
          "model_module_version": "1.5.0",
          "state": {
            "_view_name": "ProgressView",
            "style": "IPY_MODEL_82f1f1fed0fc4de1b45523720e174242",
            "_dom_classes": [],
            "description": "",
            "_model_name": "FloatProgressModel",
            "bar_style": "success",
            "max": 231508,
            "_view_module": "@jupyter-widgets/controls",
            "_model_module_version": "1.5.0",
            "value": 231508,
            "_view_count": null,
            "_view_module_version": "1.5.0",
            "orientation": "horizontal",
            "min": 0,
            "description_tooltip": null,
            "_model_module": "@jupyter-widgets/controls",
            "layout": "IPY_MODEL_d335233aa32949a990142dbcac4398e7"
          }
        },
        "f41b9d9d3d974fd7af298f12058ac20a": {
          "model_module": "@jupyter-widgets/controls",
          "model_name": "HTMLModel",
          "model_module_version": "1.5.0",
          "state": {
            "_view_name": "HTMLView",
            "style": "IPY_MODEL_db3e3d5d73af4608bf2f680777d25b0a",
            "_dom_classes": [],
            "description": "",
            "_model_name": "HTMLModel",
            "placeholder": "​",
            "_view_module": "@jupyter-widgets/controls",
            "_model_module_version": "1.5.0",
            "value": " 226k/226k [00:00&lt;00:00, 948kB/s]",
            "_view_count": null,
            "_view_module_version": "1.5.0",
            "description_tooltip": null,
            "_model_module": "@jupyter-widgets/controls",
            "layout": "IPY_MODEL_f11ecba53d6b4b5e9415dd823e08bced"
          }
        },
        "e4c8127702014fdcb5e24dfd2bc9899e": {
          "model_module": "@jupyter-widgets/controls",
          "model_name": "DescriptionStyleModel",
          "model_module_version": "1.5.0",
          "state": {
            "_view_name": "StyleView",
            "_model_name": "DescriptionStyleModel",
            "description_width": "",
            "_view_module": "@jupyter-widgets/base",
            "_model_module_version": "1.5.0",
            "_view_count": null,
            "_view_module_version": "1.2.0",
            "_model_module": "@jupyter-widgets/controls"
          }
        },
        "c81f50bea4d841708cdc5e2b8373e9cc": {
          "model_module": "@jupyter-widgets/base",
          "model_name": "LayoutModel",
          "model_module_version": "1.2.0",
          "state": {
            "_view_name": "LayoutView",
            "grid_template_rows": null,
            "right": null,
            "justify_content": null,
            "_view_module": "@jupyter-widgets/base",
            "overflow": null,
            "_model_module_version": "1.2.0",
            "_view_count": null,
            "flex_flow": null,
            "width": null,
            "min_width": null,
            "border": null,
            "align_items": null,
            "bottom": null,
            "_model_module": "@jupyter-widgets/base",
            "top": null,
            "grid_column": null,
            "overflow_y": null,
            "overflow_x": null,
            "grid_auto_flow": null,
            "grid_area": null,
            "grid_template_columns": null,
            "flex": null,
            "_model_name": "LayoutModel",
            "justify_items": null,
            "grid_row": null,
            "max_height": null,
            "align_content": null,
            "visibility": null,
            "align_self": null,
            "height": null,
            "min_height": null,
            "padding": null,
            "grid_auto_rows": null,
            "grid_gap": null,
            "max_width": null,
            "order": null,
            "_view_module_version": "1.2.0",
            "grid_template_areas": null,
            "object_position": null,
            "object_fit": null,
            "grid_auto_columns": null,
            "margin": null,
            "display": null,
            "left": null
          }
        },
        "82f1f1fed0fc4de1b45523720e174242": {
          "model_module": "@jupyter-widgets/controls",
          "model_name": "ProgressStyleModel",
          "model_module_version": "1.5.0",
          "state": {
            "_view_name": "StyleView",
            "_model_name": "ProgressStyleModel",
            "description_width": "",
            "_view_module": "@jupyter-widgets/base",
            "_model_module_version": "1.5.0",
            "_view_count": null,
            "_view_module_version": "1.2.0",
            "bar_color": null,
            "_model_module": "@jupyter-widgets/controls"
          }
        },
        "d335233aa32949a990142dbcac4398e7": {
          "model_module": "@jupyter-widgets/base",
          "model_name": "LayoutModel",
          "model_module_version": "1.2.0",
          "state": {
            "_view_name": "LayoutView",
            "grid_template_rows": null,
            "right": null,
            "justify_content": null,
            "_view_module": "@jupyter-widgets/base",
            "overflow": null,
            "_model_module_version": "1.2.0",
            "_view_count": null,
            "flex_flow": null,
            "width": null,
            "min_width": null,
            "border": null,
            "align_items": null,
            "bottom": null,
            "_model_module": "@jupyter-widgets/base",
            "top": null,
            "grid_column": null,
            "overflow_y": null,
            "overflow_x": null,
            "grid_auto_flow": null,
            "grid_area": null,
            "grid_template_columns": null,
            "flex": null,
            "_model_name": "LayoutModel",
            "justify_items": null,
            "grid_row": null,
            "max_height": null,
            "align_content": null,
            "visibility": null,
            "align_self": null,
            "height": null,
            "min_height": null,
            "padding": null,
            "grid_auto_rows": null,
            "grid_gap": null,
            "max_width": null,
            "order": null,
            "_view_module_version": "1.2.0",
            "grid_template_areas": null,
            "object_position": null,
            "object_fit": null,
            "grid_auto_columns": null,
            "margin": null,
            "display": null,
            "left": null
          }
        },
        "db3e3d5d73af4608bf2f680777d25b0a": {
          "model_module": "@jupyter-widgets/controls",
          "model_name": "DescriptionStyleModel",
          "model_module_version": "1.5.0",
          "state": {
            "_view_name": "StyleView",
            "_model_name": "DescriptionStyleModel",
            "description_width": "",
            "_view_module": "@jupyter-widgets/base",
            "_model_module_version": "1.5.0",
            "_view_count": null,
            "_view_module_version": "1.2.0",
            "_model_module": "@jupyter-widgets/controls"
          }
        },
        "f11ecba53d6b4b5e9415dd823e08bced": {
          "model_module": "@jupyter-widgets/base",
          "model_name": "LayoutModel",
          "model_module_version": "1.2.0",
          "state": {
            "_view_name": "LayoutView",
            "grid_template_rows": null,
            "right": null,
            "justify_content": null,
            "_view_module": "@jupyter-widgets/base",
            "overflow": null,
            "_model_module_version": "1.2.0",
            "_view_count": null,
            "flex_flow": null,
            "width": null,
            "min_width": null,
            "border": null,
            "align_items": null,
            "bottom": null,
            "_model_module": "@jupyter-widgets/base",
            "top": null,
            "grid_column": null,
            "overflow_y": null,
            "overflow_x": null,
            "grid_auto_flow": null,
            "grid_area": null,
            "grid_template_columns": null,
            "flex": null,
            "_model_name": "LayoutModel",
            "justify_items": null,
            "grid_row": null,
            "max_height": null,
            "align_content": null,
            "visibility": null,
            "align_self": null,
            "height": null,
            "min_height": null,
            "padding": null,
            "grid_auto_rows": null,
            "grid_gap": null,
            "max_width": null,
            "order": null,
            "_view_module_version": "1.2.0",
            "grid_template_areas": null,
            "object_position": null,
            "object_fit": null,
            "grid_auto_columns": null,
            "margin": null,
            "display": null,
            "left": null
          }
        },
        "11c586b504434347b7de0771357cc3b4": {
          "model_module": "@jupyter-widgets/controls",
          "model_name": "HBoxModel",
          "model_module_version": "1.5.0",
          "state": {
            "_view_name": "HBoxView",
            "_dom_classes": [],
            "_model_name": "HBoxModel",
            "_view_module": "@jupyter-widgets/controls",
            "_model_module_version": "1.5.0",
            "_view_count": null,
            "_view_module_version": "1.5.0",
            "box_style": "",
            "layout": "IPY_MODEL_e67d0cc2760d499bab6a99f6d57ccebd",
            "_model_module": "@jupyter-widgets/controls",
            "children": [
              "IPY_MODEL_ae3dc124175f47e280ab9b930e992e9d",
              "IPY_MODEL_d95171085fdf4523af0ffab2a97370c1",
              "IPY_MODEL_857aeb6a33264e84baf36db3359cd033"
            ]
          }
        },
        "e67d0cc2760d499bab6a99f6d57ccebd": {
          "model_module": "@jupyter-widgets/base",
          "model_name": "LayoutModel",
          "model_module_version": "1.2.0",
          "state": {
            "_view_name": "LayoutView",
            "grid_template_rows": null,
            "right": null,
            "justify_content": null,
            "_view_module": "@jupyter-widgets/base",
            "overflow": null,
            "_model_module_version": "1.2.0",
            "_view_count": null,
            "flex_flow": null,
            "width": null,
            "min_width": null,
            "border": null,
            "align_items": null,
            "bottom": null,
            "_model_module": "@jupyter-widgets/base",
            "top": null,
            "grid_column": null,
            "overflow_y": null,
            "overflow_x": null,
            "grid_auto_flow": null,
            "grid_area": null,
            "grid_template_columns": null,
            "flex": null,
            "_model_name": "LayoutModel",
            "justify_items": null,
            "grid_row": null,
            "max_height": null,
            "align_content": null,
            "visibility": null,
            "align_self": null,
            "height": null,
            "min_height": null,
            "padding": null,
            "grid_auto_rows": null,
            "grid_gap": null,
            "max_width": null,
            "order": null,
            "_view_module_version": "1.2.0",
            "grid_template_areas": null,
            "object_position": null,
            "object_fit": null,
            "grid_auto_columns": null,
            "margin": null,
            "display": null,
            "left": null
          }
        },
        "ae3dc124175f47e280ab9b930e992e9d": {
          "model_module": "@jupyter-widgets/controls",
          "model_name": "HTMLModel",
          "model_module_version": "1.5.0",
          "state": {
            "_view_name": "HTMLView",
            "style": "IPY_MODEL_98d32098406c442e8ce3fcd7f650c896",
            "_dom_classes": [],
            "description": "",
            "_model_name": "HTMLModel",
            "placeholder": "​",
            "_view_module": "@jupyter-widgets/controls",
            "_model_module_version": "1.5.0",
            "value": "Downloading: 100%",
            "_view_count": null,
            "_view_module_version": "1.5.0",
            "description_tooltip": null,
            "_model_module": "@jupyter-widgets/controls",
            "layout": "IPY_MODEL_0ce48b84182b46859ae0f861a2ce526b"
          }
        },
        "d95171085fdf4523af0ffab2a97370c1": {
          "model_module": "@jupyter-widgets/controls",
          "model_name": "FloatProgressModel",
          "model_module_version": "1.5.0",
          "state": {
            "_view_name": "ProgressView",
            "style": "IPY_MODEL_88abc95f737c4ba98338937d421855a7",
            "_dom_classes": [],
            "description": "",
            "_model_name": "FloatProgressModel",
            "bar_style": "success",
            "max": 28,
            "_view_module": "@jupyter-widgets/controls",
            "_model_module_version": "1.5.0",
            "value": 28,
            "_view_count": null,
            "_view_module_version": "1.5.0",
            "orientation": "horizontal",
            "min": 0,
            "description_tooltip": null,
            "_model_module": "@jupyter-widgets/controls",
            "layout": "IPY_MODEL_12effecf2a5c43529bcd4167e19dd7f5"
          }
        },
        "857aeb6a33264e84baf36db3359cd033": {
          "model_module": "@jupyter-widgets/controls",
          "model_name": "HTMLModel",
          "model_module_version": "1.5.0",
          "state": {
            "_view_name": "HTMLView",
            "style": "IPY_MODEL_64d7edc625e04106a145b3095dcd62ca",
            "_dom_classes": [],
            "description": "",
            "_model_name": "HTMLModel",
            "placeholder": "​",
            "_view_module": "@jupyter-widgets/controls",
            "_model_module_version": "1.5.0",
            "value": " 28.0/28.0 [00:00&lt;00:00, 765B/s]",
            "_view_count": null,
            "_view_module_version": "1.5.0",
            "description_tooltip": null,
            "_model_module": "@jupyter-widgets/controls",
            "layout": "IPY_MODEL_fbde7c035f6d48a3b225adbbea2609b3"
          }
        },
        "98d32098406c442e8ce3fcd7f650c896": {
          "model_module": "@jupyter-widgets/controls",
          "model_name": "DescriptionStyleModel",
          "model_module_version": "1.5.0",
          "state": {
            "_view_name": "StyleView",
            "_model_name": "DescriptionStyleModel",
            "description_width": "",
            "_view_module": "@jupyter-widgets/base",
            "_model_module_version": "1.5.0",
            "_view_count": null,
            "_view_module_version": "1.2.0",
            "_model_module": "@jupyter-widgets/controls"
          }
        },
        "0ce48b84182b46859ae0f861a2ce526b": {
          "model_module": "@jupyter-widgets/base",
          "model_name": "LayoutModel",
          "model_module_version": "1.2.0",
          "state": {
            "_view_name": "LayoutView",
            "grid_template_rows": null,
            "right": null,
            "justify_content": null,
            "_view_module": "@jupyter-widgets/base",
            "overflow": null,
            "_model_module_version": "1.2.0",
            "_view_count": null,
            "flex_flow": null,
            "width": null,
            "min_width": null,
            "border": null,
            "align_items": null,
            "bottom": null,
            "_model_module": "@jupyter-widgets/base",
            "top": null,
            "grid_column": null,
            "overflow_y": null,
            "overflow_x": null,
            "grid_auto_flow": null,
            "grid_area": null,
            "grid_template_columns": null,
            "flex": null,
            "_model_name": "LayoutModel",
            "justify_items": null,
            "grid_row": null,
            "max_height": null,
            "align_content": null,
            "visibility": null,
            "align_self": null,
            "height": null,
            "min_height": null,
            "padding": null,
            "grid_auto_rows": null,
            "grid_gap": null,
            "max_width": null,
            "order": null,
            "_view_module_version": "1.2.0",
            "grid_template_areas": null,
            "object_position": null,
            "object_fit": null,
            "grid_auto_columns": null,
            "margin": null,
            "display": null,
            "left": null
          }
        },
        "88abc95f737c4ba98338937d421855a7": {
          "model_module": "@jupyter-widgets/controls",
          "model_name": "ProgressStyleModel",
          "model_module_version": "1.5.0",
          "state": {
            "_view_name": "StyleView",
            "_model_name": "ProgressStyleModel",
            "description_width": "",
            "_view_module": "@jupyter-widgets/base",
            "_model_module_version": "1.5.0",
            "_view_count": null,
            "_view_module_version": "1.2.0",
            "bar_color": null,
            "_model_module": "@jupyter-widgets/controls"
          }
        },
        "12effecf2a5c43529bcd4167e19dd7f5": {
          "model_module": "@jupyter-widgets/base",
          "model_name": "LayoutModel",
          "model_module_version": "1.2.0",
          "state": {
            "_view_name": "LayoutView",
            "grid_template_rows": null,
            "right": null,
            "justify_content": null,
            "_view_module": "@jupyter-widgets/base",
            "overflow": null,
            "_model_module_version": "1.2.0",
            "_view_count": null,
            "flex_flow": null,
            "width": null,
            "min_width": null,
            "border": null,
            "align_items": null,
            "bottom": null,
            "_model_module": "@jupyter-widgets/base",
            "top": null,
            "grid_column": null,
            "overflow_y": null,
            "overflow_x": null,
            "grid_auto_flow": null,
            "grid_area": null,
            "grid_template_columns": null,
            "flex": null,
            "_model_name": "LayoutModel",
            "justify_items": null,
            "grid_row": null,
            "max_height": null,
            "align_content": null,
            "visibility": null,
            "align_self": null,
            "height": null,
            "min_height": null,
            "padding": null,
            "grid_auto_rows": null,
            "grid_gap": null,
            "max_width": null,
            "order": null,
            "_view_module_version": "1.2.0",
            "grid_template_areas": null,
            "object_position": null,
            "object_fit": null,
            "grid_auto_columns": null,
            "margin": null,
            "display": null,
            "left": null
          }
        },
        "64d7edc625e04106a145b3095dcd62ca": {
          "model_module": "@jupyter-widgets/controls",
          "model_name": "DescriptionStyleModel",
          "model_module_version": "1.5.0",
          "state": {
            "_view_name": "StyleView",
            "_model_name": "DescriptionStyleModel",
            "description_width": "",
            "_view_module": "@jupyter-widgets/base",
            "_model_module_version": "1.5.0",
            "_view_count": null,
            "_view_module_version": "1.2.0",
            "_model_module": "@jupyter-widgets/controls"
          }
        },
        "fbde7c035f6d48a3b225adbbea2609b3": {
          "model_module": "@jupyter-widgets/base",
          "model_name": "LayoutModel",
          "model_module_version": "1.2.0",
          "state": {
            "_view_name": "LayoutView",
            "grid_template_rows": null,
            "right": null,
            "justify_content": null,
            "_view_module": "@jupyter-widgets/base",
            "overflow": null,
            "_model_module_version": "1.2.0",
            "_view_count": null,
            "flex_flow": null,
            "width": null,
            "min_width": null,
            "border": null,
            "align_items": null,
            "bottom": null,
            "_model_module": "@jupyter-widgets/base",
            "top": null,
            "grid_column": null,
            "overflow_y": null,
            "overflow_x": null,
            "grid_auto_flow": null,
            "grid_area": null,
            "grid_template_columns": null,
            "flex": null,
            "_model_name": "LayoutModel",
            "justify_items": null,
            "grid_row": null,
            "max_height": null,
            "align_content": null,
            "visibility": null,
            "align_self": null,
            "height": null,
            "min_height": null,
            "padding": null,
            "grid_auto_rows": null,
            "grid_gap": null,
            "max_width": null,
            "order": null,
            "_view_module_version": "1.2.0",
            "grid_template_areas": null,
            "object_position": null,
            "object_fit": null,
            "grid_auto_columns": null,
            "margin": null,
            "display": null,
            "left": null
          }
        },
        "3400d572e1694fe19735c16f7245cce2": {
          "model_module": "@jupyter-widgets/controls",
          "model_name": "HBoxModel",
          "model_module_version": "1.5.0",
          "state": {
            "_view_name": "HBoxView",
            "_dom_classes": [],
            "_model_name": "HBoxModel",
            "_view_module": "@jupyter-widgets/controls",
            "_model_module_version": "1.5.0",
            "_view_count": null,
            "_view_module_version": "1.5.0",
            "box_style": "",
            "layout": "IPY_MODEL_e9d14900aed44c3e8148dc6072b3c24d",
            "_model_module": "@jupyter-widgets/controls",
            "children": [
              "IPY_MODEL_1c2859f77a7145e689b73258f51f273b",
              "IPY_MODEL_eb2ff77f1f4b44b88e8bbf2c29b3df77",
              "IPY_MODEL_c98a95d2a3634756880463b1fe3cc455"
            ]
          }
        },
        "e9d14900aed44c3e8148dc6072b3c24d": {
          "model_module": "@jupyter-widgets/base",
          "model_name": "LayoutModel",
          "model_module_version": "1.2.0",
          "state": {
            "_view_name": "LayoutView",
            "grid_template_rows": null,
            "right": null,
            "justify_content": null,
            "_view_module": "@jupyter-widgets/base",
            "overflow": null,
            "_model_module_version": "1.2.0",
            "_view_count": null,
            "flex_flow": null,
            "width": null,
            "min_width": null,
            "border": null,
            "align_items": null,
            "bottom": null,
            "_model_module": "@jupyter-widgets/base",
            "top": null,
            "grid_column": null,
            "overflow_y": null,
            "overflow_x": null,
            "grid_auto_flow": null,
            "grid_area": null,
            "grid_template_columns": null,
            "flex": null,
            "_model_name": "LayoutModel",
            "justify_items": null,
            "grid_row": null,
            "max_height": null,
            "align_content": null,
            "visibility": null,
            "align_self": null,
            "height": null,
            "min_height": null,
            "padding": null,
            "grid_auto_rows": null,
            "grid_gap": null,
            "max_width": null,
            "order": null,
            "_view_module_version": "1.2.0",
            "grid_template_areas": null,
            "object_position": null,
            "object_fit": null,
            "grid_auto_columns": null,
            "margin": null,
            "display": null,
            "left": null
          }
        },
        "1c2859f77a7145e689b73258f51f273b": {
          "model_module": "@jupyter-widgets/controls",
          "model_name": "HTMLModel",
          "model_module_version": "1.5.0",
          "state": {
            "_view_name": "HTMLView",
            "style": "IPY_MODEL_6c3ed3f1b4824a85aaa3a59149bda27a",
            "_dom_classes": [],
            "description": "",
            "_model_name": "HTMLModel",
            "placeholder": "​",
            "_view_module": "@jupyter-widgets/controls",
            "_model_module_version": "1.5.0",
            "value": "Downloading: 100%",
            "_view_count": null,
            "_view_module_version": "1.5.0",
            "description_tooltip": null,
            "_model_module": "@jupyter-widgets/controls",
            "layout": "IPY_MODEL_8e7407d535b74265b4c5c2db1d37aaf8"
          }
        },
        "eb2ff77f1f4b44b88e8bbf2c29b3df77": {
          "model_module": "@jupyter-widgets/controls",
          "model_name": "FloatProgressModel",
          "model_module_version": "1.5.0",
          "state": {
            "_view_name": "ProgressView",
            "style": "IPY_MODEL_4b4606ef3a164053a72e6631042cd9e4",
            "_dom_classes": [],
            "description": "",
            "_model_name": "FloatProgressModel",
            "bar_style": "success",
            "max": 466062,
            "_view_module": "@jupyter-widgets/controls",
            "_model_module_version": "1.5.0",
            "value": 466062,
            "_view_count": null,
            "_view_module_version": "1.5.0",
            "orientation": "horizontal",
            "min": 0,
            "description_tooltip": null,
            "_model_module": "@jupyter-widgets/controls",
            "layout": "IPY_MODEL_a055af6a7dc2416c8b64332b3b709957"
          }
        },
        "c98a95d2a3634756880463b1fe3cc455": {
          "model_module": "@jupyter-widgets/controls",
          "model_name": "HTMLModel",
          "model_module_version": "1.5.0",
          "state": {
            "_view_name": "HTMLView",
            "style": "IPY_MODEL_5b4f671253d54ff0af5a95b4b591084d",
            "_dom_classes": [],
            "description": "",
            "_model_name": "HTMLModel",
            "placeholder": "​",
            "_view_module": "@jupyter-widgets/controls",
            "_model_module_version": "1.5.0",
            "value": " 455k/455k [00:00&lt;00:00, 1.01MB/s]",
            "_view_count": null,
            "_view_module_version": "1.5.0",
            "description_tooltip": null,
            "_model_module": "@jupyter-widgets/controls",
            "layout": "IPY_MODEL_6a9c94ee9f804f558d033339c4e14f13"
          }
        },
        "6c3ed3f1b4824a85aaa3a59149bda27a": {
          "model_module": "@jupyter-widgets/controls",
          "model_name": "DescriptionStyleModel",
          "model_module_version": "1.5.0",
          "state": {
            "_view_name": "StyleView",
            "_model_name": "DescriptionStyleModel",
            "description_width": "",
            "_view_module": "@jupyter-widgets/base",
            "_model_module_version": "1.5.0",
            "_view_count": null,
            "_view_module_version": "1.2.0",
            "_model_module": "@jupyter-widgets/controls"
          }
        },
        "8e7407d535b74265b4c5c2db1d37aaf8": {
          "model_module": "@jupyter-widgets/base",
          "model_name": "LayoutModel",
          "model_module_version": "1.2.0",
          "state": {
            "_view_name": "LayoutView",
            "grid_template_rows": null,
            "right": null,
            "justify_content": null,
            "_view_module": "@jupyter-widgets/base",
            "overflow": null,
            "_model_module_version": "1.2.0",
            "_view_count": null,
            "flex_flow": null,
            "width": null,
            "min_width": null,
            "border": null,
            "align_items": null,
            "bottom": null,
            "_model_module": "@jupyter-widgets/base",
            "top": null,
            "grid_column": null,
            "overflow_y": null,
            "overflow_x": null,
            "grid_auto_flow": null,
            "grid_area": null,
            "grid_template_columns": null,
            "flex": null,
            "_model_name": "LayoutModel",
            "justify_items": null,
            "grid_row": null,
            "max_height": null,
            "align_content": null,
            "visibility": null,
            "align_self": null,
            "height": null,
            "min_height": null,
            "padding": null,
            "grid_auto_rows": null,
            "grid_gap": null,
            "max_width": null,
            "order": null,
            "_view_module_version": "1.2.0",
            "grid_template_areas": null,
            "object_position": null,
            "object_fit": null,
            "grid_auto_columns": null,
            "margin": null,
            "display": null,
            "left": null
          }
        },
        "4b4606ef3a164053a72e6631042cd9e4": {
          "model_module": "@jupyter-widgets/controls",
          "model_name": "ProgressStyleModel",
          "model_module_version": "1.5.0",
          "state": {
            "_view_name": "StyleView",
            "_model_name": "ProgressStyleModel",
            "description_width": "",
            "_view_module": "@jupyter-widgets/base",
            "_model_module_version": "1.5.0",
            "_view_count": null,
            "_view_module_version": "1.2.0",
            "bar_color": null,
            "_model_module": "@jupyter-widgets/controls"
          }
        },
        "a055af6a7dc2416c8b64332b3b709957": {
          "model_module": "@jupyter-widgets/base",
          "model_name": "LayoutModel",
          "model_module_version": "1.2.0",
          "state": {
            "_view_name": "LayoutView",
            "grid_template_rows": null,
            "right": null,
            "justify_content": null,
            "_view_module": "@jupyter-widgets/base",
            "overflow": null,
            "_model_module_version": "1.2.0",
            "_view_count": null,
            "flex_flow": null,
            "width": null,
            "min_width": null,
            "border": null,
            "align_items": null,
            "bottom": null,
            "_model_module": "@jupyter-widgets/base",
            "top": null,
            "grid_column": null,
            "overflow_y": null,
            "overflow_x": null,
            "grid_auto_flow": null,
            "grid_area": null,
            "grid_template_columns": null,
            "flex": null,
            "_model_name": "LayoutModel",
            "justify_items": null,
            "grid_row": null,
            "max_height": null,
            "align_content": null,
            "visibility": null,
            "align_self": null,
            "height": null,
            "min_height": null,
            "padding": null,
            "grid_auto_rows": null,
            "grid_gap": null,
            "max_width": null,
            "order": null,
            "_view_module_version": "1.2.0",
            "grid_template_areas": null,
            "object_position": null,
            "object_fit": null,
            "grid_auto_columns": null,
            "margin": null,
            "display": null,
            "left": null
          }
        },
        "5b4f671253d54ff0af5a95b4b591084d": {
          "model_module": "@jupyter-widgets/controls",
          "model_name": "DescriptionStyleModel",
          "model_module_version": "1.5.0",
          "state": {
            "_view_name": "StyleView",
            "_model_name": "DescriptionStyleModel",
            "description_width": "",
            "_view_module": "@jupyter-widgets/base",
            "_model_module_version": "1.5.0",
            "_view_count": null,
            "_view_module_version": "1.2.0",
            "_model_module": "@jupyter-widgets/controls"
          }
        },
        "6a9c94ee9f804f558d033339c4e14f13": {
          "model_module": "@jupyter-widgets/base",
          "model_name": "LayoutModel",
          "model_module_version": "1.2.0",
          "state": {
            "_view_name": "LayoutView",
            "grid_template_rows": null,
            "right": null,
            "justify_content": null,
            "_view_module": "@jupyter-widgets/base",
            "overflow": null,
            "_model_module_version": "1.2.0",
            "_view_count": null,
            "flex_flow": null,
            "width": null,
            "min_width": null,
            "border": null,
            "align_items": null,
            "bottom": null,
            "_model_module": "@jupyter-widgets/base",
            "top": null,
            "grid_column": null,
            "overflow_y": null,
            "overflow_x": null,
            "grid_auto_flow": null,
            "grid_area": null,
            "grid_template_columns": null,
            "flex": null,
            "_model_name": "LayoutModel",
            "justify_items": null,
            "grid_row": null,
            "max_height": null,
            "align_content": null,
            "visibility": null,
            "align_self": null,
            "height": null,
            "min_height": null,
            "padding": null,
            "grid_auto_rows": null,
            "grid_gap": null,
            "max_width": null,
            "order": null,
            "_view_module_version": "1.2.0",
            "grid_template_areas": null,
            "object_position": null,
            "object_fit": null,
            "grid_auto_columns": null,
            "margin": null,
            "display": null,
            "left": null
          }
        },
        "76c717a6c9374a6980fb81348d1df06e": {
          "model_module": "@jupyter-widgets/controls",
          "model_name": "HBoxModel",
          "model_module_version": "1.5.0",
          "state": {
            "_view_name": "HBoxView",
            "_dom_classes": [],
            "_model_name": "HBoxModel",
            "_view_module": "@jupyter-widgets/controls",
            "_model_module_version": "1.5.0",
            "_view_count": null,
            "_view_module_version": "1.5.0",
            "box_style": "",
            "layout": "IPY_MODEL_2330d43874954a42b5973d782744c45f",
            "_model_module": "@jupyter-widgets/controls",
            "children": [
              "IPY_MODEL_5125b274b5cb4bad9a1c072fc32e9d09",
              "IPY_MODEL_666c784928bd4194afb85da5f7b69c6e",
              "IPY_MODEL_3116e0259e40408d97dba1aff7352995"
            ]
          }
        },
        "2330d43874954a42b5973d782744c45f": {
          "model_module": "@jupyter-widgets/base",
          "model_name": "LayoutModel",
          "model_module_version": "1.2.0",
          "state": {
            "_view_name": "LayoutView",
            "grid_template_rows": null,
            "right": null,
            "justify_content": null,
            "_view_module": "@jupyter-widgets/base",
            "overflow": null,
            "_model_module_version": "1.2.0",
            "_view_count": null,
            "flex_flow": null,
            "width": null,
            "min_width": null,
            "border": null,
            "align_items": null,
            "bottom": null,
            "_model_module": "@jupyter-widgets/base",
            "top": null,
            "grid_column": null,
            "overflow_y": null,
            "overflow_x": null,
            "grid_auto_flow": null,
            "grid_area": null,
            "grid_template_columns": null,
            "flex": null,
            "_model_name": "LayoutModel",
            "justify_items": null,
            "grid_row": null,
            "max_height": null,
            "align_content": null,
            "visibility": null,
            "align_self": null,
            "height": null,
            "min_height": null,
            "padding": null,
            "grid_auto_rows": null,
            "grid_gap": null,
            "max_width": null,
            "order": null,
            "_view_module_version": "1.2.0",
            "grid_template_areas": null,
            "object_position": null,
            "object_fit": null,
            "grid_auto_columns": null,
            "margin": null,
            "display": null,
            "left": null
          }
        },
        "5125b274b5cb4bad9a1c072fc32e9d09": {
          "model_module": "@jupyter-widgets/controls",
          "model_name": "HTMLModel",
          "model_module_version": "1.5.0",
          "state": {
            "_view_name": "HTMLView",
            "style": "IPY_MODEL_7fefea6ab8d54038ae1f3ebcd8f7347c",
            "_dom_classes": [],
            "description": "",
            "_model_name": "HTMLModel",
            "placeholder": "​",
            "_view_module": "@jupyter-widgets/controls",
            "_model_module_version": "1.5.0",
            "value": "Downloading: 100%",
            "_view_count": null,
            "_view_module_version": "1.5.0",
            "description_tooltip": null,
            "_model_module": "@jupyter-widgets/controls",
            "layout": "IPY_MODEL_75fa82df40f240ad81776c1c53367695"
          }
        },
        "666c784928bd4194afb85da5f7b69c6e": {
          "model_module": "@jupyter-widgets/controls",
          "model_name": "FloatProgressModel",
          "model_module_version": "1.5.0",
          "state": {
            "_view_name": "ProgressView",
            "style": "IPY_MODEL_99ffec6e151e4a29a79df5f1f3f42836",
            "_dom_classes": [],
            "description": "",
            "_model_name": "FloatProgressModel",
            "bar_style": "success",
            "max": 570,
            "_view_module": "@jupyter-widgets/controls",
            "_model_module_version": "1.5.0",
            "value": 570,
            "_view_count": null,
            "_view_module_version": "1.5.0",
            "orientation": "horizontal",
            "min": 0,
            "description_tooltip": null,
            "_model_module": "@jupyter-widgets/controls",
            "layout": "IPY_MODEL_24e894e1f39a4fc980de9d4acc41c96b"
          }
        },
        "3116e0259e40408d97dba1aff7352995": {
          "model_module": "@jupyter-widgets/controls",
          "model_name": "HTMLModel",
          "model_module_version": "1.5.0",
          "state": {
            "_view_name": "HTMLView",
            "style": "IPY_MODEL_1113393a0fe94c78aacfa028e58d77ea",
            "_dom_classes": [],
            "description": "",
            "_model_name": "HTMLModel",
            "placeholder": "​",
            "_view_module": "@jupyter-widgets/controls",
            "_model_module_version": "1.5.0",
            "value": " 570/570 [00:00&lt;00:00, 13.2kB/s]",
            "_view_count": null,
            "_view_module_version": "1.5.0",
            "description_tooltip": null,
            "_model_module": "@jupyter-widgets/controls",
            "layout": "IPY_MODEL_85939853a1e545a0aa3baaf33203ba06"
          }
        },
        "7fefea6ab8d54038ae1f3ebcd8f7347c": {
          "model_module": "@jupyter-widgets/controls",
          "model_name": "DescriptionStyleModel",
          "model_module_version": "1.5.0",
          "state": {
            "_view_name": "StyleView",
            "_model_name": "DescriptionStyleModel",
            "description_width": "",
            "_view_module": "@jupyter-widgets/base",
            "_model_module_version": "1.5.0",
            "_view_count": null,
            "_view_module_version": "1.2.0",
            "_model_module": "@jupyter-widgets/controls"
          }
        },
        "75fa82df40f240ad81776c1c53367695": {
          "model_module": "@jupyter-widgets/base",
          "model_name": "LayoutModel",
          "model_module_version": "1.2.0",
          "state": {
            "_view_name": "LayoutView",
            "grid_template_rows": null,
            "right": null,
            "justify_content": null,
            "_view_module": "@jupyter-widgets/base",
            "overflow": null,
            "_model_module_version": "1.2.0",
            "_view_count": null,
            "flex_flow": null,
            "width": null,
            "min_width": null,
            "border": null,
            "align_items": null,
            "bottom": null,
            "_model_module": "@jupyter-widgets/base",
            "top": null,
            "grid_column": null,
            "overflow_y": null,
            "overflow_x": null,
            "grid_auto_flow": null,
            "grid_area": null,
            "grid_template_columns": null,
            "flex": null,
            "_model_name": "LayoutModel",
            "justify_items": null,
            "grid_row": null,
            "max_height": null,
            "align_content": null,
            "visibility": null,
            "align_self": null,
            "height": null,
            "min_height": null,
            "padding": null,
            "grid_auto_rows": null,
            "grid_gap": null,
            "max_width": null,
            "order": null,
            "_view_module_version": "1.2.0",
            "grid_template_areas": null,
            "object_position": null,
            "object_fit": null,
            "grid_auto_columns": null,
            "margin": null,
            "display": null,
            "left": null
          }
        },
        "99ffec6e151e4a29a79df5f1f3f42836": {
          "model_module": "@jupyter-widgets/controls",
          "model_name": "ProgressStyleModel",
          "model_module_version": "1.5.0",
          "state": {
            "_view_name": "StyleView",
            "_model_name": "ProgressStyleModel",
            "description_width": "",
            "_view_module": "@jupyter-widgets/base",
            "_model_module_version": "1.5.0",
            "_view_count": null,
            "_view_module_version": "1.2.0",
            "bar_color": null,
            "_model_module": "@jupyter-widgets/controls"
          }
        },
        "24e894e1f39a4fc980de9d4acc41c96b": {
          "model_module": "@jupyter-widgets/base",
          "model_name": "LayoutModel",
          "model_module_version": "1.2.0",
          "state": {
            "_view_name": "LayoutView",
            "grid_template_rows": null,
            "right": null,
            "justify_content": null,
            "_view_module": "@jupyter-widgets/base",
            "overflow": null,
            "_model_module_version": "1.2.0",
            "_view_count": null,
            "flex_flow": null,
            "width": null,
            "min_width": null,
            "border": null,
            "align_items": null,
            "bottom": null,
            "_model_module": "@jupyter-widgets/base",
            "top": null,
            "grid_column": null,
            "overflow_y": null,
            "overflow_x": null,
            "grid_auto_flow": null,
            "grid_area": null,
            "grid_template_columns": null,
            "flex": null,
            "_model_name": "LayoutModel",
            "justify_items": null,
            "grid_row": null,
            "max_height": null,
            "align_content": null,
            "visibility": null,
            "align_self": null,
            "height": null,
            "min_height": null,
            "padding": null,
            "grid_auto_rows": null,
            "grid_gap": null,
            "max_width": null,
            "order": null,
            "_view_module_version": "1.2.0",
            "grid_template_areas": null,
            "object_position": null,
            "object_fit": null,
            "grid_auto_columns": null,
            "margin": null,
            "display": null,
            "left": null
          }
        },
        "1113393a0fe94c78aacfa028e58d77ea": {
          "model_module": "@jupyter-widgets/controls",
          "model_name": "DescriptionStyleModel",
          "model_module_version": "1.5.0",
          "state": {
            "_view_name": "StyleView",
            "_model_name": "DescriptionStyleModel",
            "description_width": "",
            "_view_module": "@jupyter-widgets/base",
            "_model_module_version": "1.5.0",
            "_view_count": null,
            "_view_module_version": "1.2.0",
            "_model_module": "@jupyter-widgets/controls"
          }
        },
        "85939853a1e545a0aa3baaf33203ba06": {
          "model_module": "@jupyter-widgets/base",
          "model_name": "LayoutModel",
          "model_module_version": "1.2.0",
          "state": {
            "_view_name": "LayoutView",
            "grid_template_rows": null,
            "right": null,
            "justify_content": null,
            "_view_module": "@jupyter-widgets/base",
            "overflow": null,
            "_model_module_version": "1.2.0",
            "_view_count": null,
            "flex_flow": null,
            "width": null,
            "min_width": null,
            "border": null,
            "align_items": null,
            "bottom": null,
            "_model_module": "@jupyter-widgets/base",
            "top": null,
            "grid_column": null,
            "overflow_y": null,
            "overflow_x": null,
            "grid_auto_flow": null,
            "grid_area": null,
            "grid_template_columns": null,
            "flex": null,
            "_model_name": "LayoutModel",
            "justify_items": null,
            "grid_row": null,
            "max_height": null,
            "align_content": null,
            "visibility": null,
            "align_self": null,
            "height": null,
            "min_height": null,
            "padding": null,
            "grid_auto_rows": null,
            "grid_gap": null,
            "max_width": null,
            "order": null,
            "_view_module_version": "1.2.0",
            "grid_template_areas": null,
            "object_position": null,
            "object_fit": null,
            "grid_auto_columns": null,
            "margin": null,
            "display": null,
            "left": null
          }
        },
        "df26f078b33d4f36b5a84968923b18b7": {
          "model_module": "@jupyter-widgets/controls",
          "model_name": "HBoxModel",
          "model_module_version": "1.5.0",
          "state": {
            "_view_name": "HBoxView",
            "_dom_classes": [],
            "_model_name": "HBoxModel",
            "_view_module": "@jupyter-widgets/controls",
            "_model_module_version": "1.5.0",
            "_view_count": null,
            "_view_module_version": "1.5.0",
            "box_style": "",
            "layout": "IPY_MODEL_a252db8c5d7d4370b26976513c9bd568",
            "_model_module": "@jupyter-widgets/controls",
            "children": [
              "IPY_MODEL_0956aff3c56648279fbdba64ca663fcb",
              "IPY_MODEL_2bd75754be454ede8158ad1889c6af9b",
              "IPY_MODEL_e3876d13dc5340cb8d02a63e283f30fa"
            ]
          }
        },
        "a252db8c5d7d4370b26976513c9bd568": {
          "model_module": "@jupyter-widgets/base",
          "model_name": "LayoutModel",
          "model_module_version": "1.2.0",
          "state": {
            "_view_name": "LayoutView",
            "grid_template_rows": null,
            "right": null,
            "justify_content": null,
            "_view_module": "@jupyter-widgets/base",
            "overflow": null,
            "_model_module_version": "1.2.0",
            "_view_count": null,
            "flex_flow": null,
            "width": null,
            "min_width": null,
            "border": null,
            "align_items": null,
            "bottom": null,
            "_model_module": "@jupyter-widgets/base",
            "top": null,
            "grid_column": null,
            "overflow_y": null,
            "overflow_x": null,
            "grid_auto_flow": null,
            "grid_area": null,
            "grid_template_columns": null,
            "flex": null,
            "_model_name": "LayoutModel",
            "justify_items": null,
            "grid_row": null,
            "max_height": null,
            "align_content": null,
            "visibility": null,
            "align_self": null,
            "height": null,
            "min_height": null,
            "padding": null,
            "grid_auto_rows": null,
            "grid_gap": null,
            "max_width": null,
            "order": null,
            "_view_module_version": "1.2.0",
            "grid_template_areas": null,
            "object_position": null,
            "object_fit": null,
            "grid_auto_columns": null,
            "margin": null,
            "display": null,
            "left": null
          }
        },
        "0956aff3c56648279fbdba64ca663fcb": {
          "model_module": "@jupyter-widgets/controls",
          "model_name": "HTMLModel",
          "model_module_version": "1.5.0",
          "state": {
            "_view_name": "HTMLView",
            "style": "IPY_MODEL_77758985ba9244cb8251b255c3b50723",
            "_dom_classes": [],
            "description": "",
            "_model_name": "HTMLModel",
            "placeholder": "​",
            "_view_module": "@jupyter-widgets/controls",
            "_model_module_version": "1.5.0",
            "value": "Downloading: 100%",
            "_view_count": null,
            "_view_module_version": "1.5.0",
            "description_tooltip": null,
            "_model_module": "@jupyter-widgets/controls",
            "layout": "IPY_MODEL_05ee7fa36a0647e984edc6d917414298"
          }
        },
        "2bd75754be454ede8158ad1889c6af9b": {
          "model_module": "@jupyter-widgets/controls",
          "model_name": "FloatProgressModel",
          "model_module_version": "1.5.0",
          "state": {
            "_view_name": "ProgressView",
            "style": "IPY_MODEL_79eb385d555544fa9534c2913ab49743",
            "_dom_classes": [],
            "description": "",
            "_model_name": "FloatProgressModel",
            "bar_style": "success",
            "max": 536063208,
            "_view_module": "@jupyter-widgets/controls",
            "_model_module_version": "1.5.0",
            "value": 536063208,
            "_view_count": null,
            "_view_module_version": "1.5.0",
            "orientation": "horizontal",
            "min": 0,
            "description_tooltip": null,
            "_model_module": "@jupyter-widgets/controls",
            "layout": "IPY_MODEL_a2a02f5f31d242e194dff19516bfb2e1"
          }
        },
        "e3876d13dc5340cb8d02a63e283f30fa": {
          "model_module": "@jupyter-widgets/controls",
          "model_name": "HTMLModel",
          "model_module_version": "1.5.0",
          "state": {
            "_view_name": "HTMLView",
            "style": "IPY_MODEL_75e721d981394692bbe258be4c7921ba",
            "_dom_classes": [],
            "description": "",
            "_model_name": "HTMLModel",
            "placeholder": "​",
            "_view_module": "@jupyter-widgets/controls",
            "_model_module_version": "1.5.0",
            "value": " 511M/511M [00:21&lt;00:00, 13.4MB/s]",
            "_view_count": null,
            "_view_module_version": "1.5.0",
            "description_tooltip": null,
            "_model_module": "@jupyter-widgets/controls",
            "layout": "IPY_MODEL_9d0996d913ff465cba370dd238b0ddae"
          }
        },
        "77758985ba9244cb8251b255c3b50723": {
          "model_module": "@jupyter-widgets/controls",
          "model_name": "DescriptionStyleModel",
          "model_module_version": "1.5.0",
          "state": {
            "_view_name": "StyleView",
            "_model_name": "DescriptionStyleModel",
            "description_width": "",
            "_view_module": "@jupyter-widgets/base",
            "_model_module_version": "1.5.0",
            "_view_count": null,
            "_view_module_version": "1.2.0",
            "_model_module": "@jupyter-widgets/controls"
          }
        },
        "05ee7fa36a0647e984edc6d917414298": {
          "model_module": "@jupyter-widgets/base",
          "model_name": "LayoutModel",
          "model_module_version": "1.2.0",
          "state": {
            "_view_name": "LayoutView",
            "grid_template_rows": null,
            "right": null,
            "justify_content": null,
            "_view_module": "@jupyter-widgets/base",
            "overflow": null,
            "_model_module_version": "1.2.0",
            "_view_count": null,
            "flex_flow": null,
            "width": null,
            "min_width": null,
            "border": null,
            "align_items": null,
            "bottom": null,
            "_model_module": "@jupyter-widgets/base",
            "top": null,
            "grid_column": null,
            "overflow_y": null,
            "overflow_x": null,
            "grid_auto_flow": null,
            "grid_area": null,
            "grid_template_columns": null,
            "flex": null,
            "_model_name": "LayoutModel",
            "justify_items": null,
            "grid_row": null,
            "max_height": null,
            "align_content": null,
            "visibility": null,
            "align_self": null,
            "height": null,
            "min_height": null,
            "padding": null,
            "grid_auto_rows": null,
            "grid_gap": null,
            "max_width": null,
            "order": null,
            "_view_module_version": "1.2.0",
            "grid_template_areas": null,
            "object_position": null,
            "object_fit": null,
            "grid_auto_columns": null,
            "margin": null,
            "display": null,
            "left": null
          }
        },
        "79eb385d555544fa9534c2913ab49743": {
          "model_module": "@jupyter-widgets/controls",
          "model_name": "ProgressStyleModel",
          "model_module_version": "1.5.0",
          "state": {
            "_view_name": "StyleView",
            "_model_name": "ProgressStyleModel",
            "description_width": "",
            "_view_module": "@jupyter-widgets/base",
            "_model_module_version": "1.5.0",
            "_view_count": null,
            "_view_module_version": "1.2.0",
            "bar_color": null,
            "_model_module": "@jupyter-widgets/controls"
          }
        },
        "a2a02f5f31d242e194dff19516bfb2e1": {
          "model_module": "@jupyter-widgets/base",
          "model_name": "LayoutModel",
          "model_module_version": "1.2.0",
          "state": {
            "_view_name": "LayoutView",
            "grid_template_rows": null,
            "right": null,
            "justify_content": null,
            "_view_module": "@jupyter-widgets/base",
            "overflow": null,
            "_model_module_version": "1.2.0",
            "_view_count": null,
            "flex_flow": null,
            "width": null,
            "min_width": null,
            "border": null,
            "align_items": null,
            "bottom": null,
            "_model_module": "@jupyter-widgets/base",
            "top": null,
            "grid_column": null,
            "overflow_y": null,
            "overflow_x": null,
            "grid_auto_flow": null,
            "grid_area": null,
            "grid_template_columns": null,
            "flex": null,
            "_model_name": "LayoutModel",
            "justify_items": null,
            "grid_row": null,
            "max_height": null,
            "align_content": null,
            "visibility": null,
            "align_self": null,
            "height": null,
            "min_height": null,
            "padding": null,
            "grid_auto_rows": null,
            "grid_gap": null,
            "max_width": null,
            "order": null,
            "_view_module_version": "1.2.0",
            "grid_template_areas": null,
            "object_position": null,
            "object_fit": null,
            "grid_auto_columns": null,
            "margin": null,
            "display": null,
            "left": null
          }
        },
        "75e721d981394692bbe258be4c7921ba": {
          "model_module": "@jupyter-widgets/controls",
          "model_name": "DescriptionStyleModel",
          "model_module_version": "1.5.0",
          "state": {
            "_view_name": "StyleView",
            "_model_name": "DescriptionStyleModel",
            "description_width": "",
            "_view_module": "@jupyter-widgets/base",
            "_model_module_version": "1.5.0",
            "_view_count": null,
            "_view_module_version": "1.2.0",
            "_model_module": "@jupyter-widgets/controls"
          }
        },
        "9d0996d913ff465cba370dd238b0ddae": {
          "model_module": "@jupyter-widgets/base",
          "model_name": "LayoutModel",
          "model_module_version": "1.2.0",
          "state": {
            "_view_name": "LayoutView",
            "grid_template_rows": null,
            "right": null,
            "justify_content": null,
            "_view_module": "@jupyter-widgets/base",
            "overflow": null,
            "_model_module_version": "1.2.0",
            "_view_count": null,
            "flex_flow": null,
            "width": null,
            "min_width": null,
            "border": null,
            "align_items": null,
            "bottom": null,
            "_model_module": "@jupyter-widgets/base",
            "top": null,
            "grid_column": null,
            "overflow_y": null,
            "overflow_x": null,
            "grid_auto_flow": null,
            "grid_area": null,
            "grid_template_columns": null,
            "flex": null,
            "_model_name": "LayoutModel",
            "justify_items": null,
            "grid_row": null,
            "max_height": null,
            "align_content": null,
            "visibility": null,
            "align_self": null,
            "height": null,
            "min_height": null,
            "padding": null,
            "grid_auto_rows": null,
            "grid_gap": null,
            "max_width": null,
            "order": null,
            "_view_module_version": "1.2.0",
            "grid_template_areas": null,
            "object_position": null,
            "object_fit": null,
            "grid_auto_columns": null,
            "margin": null,
            "display": null,
            "left": null
          }
        }
      }
    }
  },
  "nbformat": 4,
  "nbformat_minor": 5
}