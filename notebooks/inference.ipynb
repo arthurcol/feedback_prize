{
 "cells": [
  {
   "cell_type": "markdown",
   "id": "5fda1a05",
   "metadata": {},
   "source": [
    "## Imports"
   ]
  },
  {
   "cell_type": "code",
   "execution_count": 146,
   "id": "e82c56ef",
   "metadata": {
    "ExecuteTime": {
     "end_time": "2022-01-27T20:23:17.343355Z",
     "start_time": "2022-01-27T20:23:17.339209Z"
    }
   },
   "outputs": [],
   "source": [
    "import os\n",
    "from datetime import datetime"
   ]
  },
  {
   "cell_type": "code",
   "execution_count": 60,
   "id": "98b7c443",
   "metadata": {
    "ExecuteTime": {
     "end_time": "2022-01-27T19:57:10.910790Z",
     "start_time": "2022-01-27T19:57:09.606057Z"
    }
   },
   "outputs": [],
   "source": [
    "import pandas as pd \n",
    "import numpy as np \n",
    "import tensorflow as tf \n",
    "from transformers import BertTokenizer, TFBertModel\n",
    "import re\n",
    "import matplotlib.pyplot as plt \n",
    "import seaborn as sns"
   ]
  },
  {
   "cell_type": "code",
   "execution_count": 42,
   "id": "0df46e78",
   "metadata": {
    "ExecuteTime": {
     "end_time": "2022-01-27T19:47:51.594101Z",
     "start_time": "2022-01-27T19:47:51.590869Z"
    }
   },
   "outputs": [],
   "source": [
    "#VARIABLES\n",
    "\n",
    "SAMPLE_MODE = False\n",
    "\n",
    "SUBMISSION_MODE = False\n",
    "\n",
    "MODEL_PATH = 'model1'"
   ]
  },
  {
   "cell_type": "markdown",
   "id": "075292fa",
   "metadata": {},
   "source": [
    "## Load data and model"
   ]
  },
  {
   "cell_type": "code",
   "execution_count": 43,
   "id": "09dfed1b",
   "metadata": {
    "ExecuteTime": {
     "end_time": "2022-01-27T19:47:54.193415Z",
     "start_time": "2022-01-27T19:47:53.317573Z"
    },
    "scrolled": true
   },
   "outputs": [
    {
     "data": {
      "text/html": [
       "<div>\n",
       "<style scoped>\n",
       "    .dataframe tbody tr th:only-of-type {\n",
       "        vertical-align: middle;\n",
       "    }\n",
       "\n",
       "    .dataframe tbody tr th {\n",
       "        vertical-align: top;\n",
       "    }\n",
       "\n",
       "    .dataframe thead th {\n",
       "        text-align: right;\n",
       "    }\n",
       "</style>\n",
       "<table border=\"1\" class=\"dataframe\">\n",
       "  <thead>\n",
       "    <tr style=\"text-align: right;\">\n",
       "      <th></th>\n",
       "      <th>id</th>\n",
       "      <th>discourse_id</th>\n",
       "      <th>discourse_start</th>\n",
       "      <th>discourse_end</th>\n",
       "      <th>discourse_text</th>\n",
       "      <th>discourse_type</th>\n",
       "      <th>discourse_type_num</th>\n",
       "      <th>predictionstring</th>\n",
       "    </tr>\n",
       "  </thead>\n",
       "  <tbody>\n",
       "    <tr>\n",
       "      <th>59951</th>\n",
       "      <td>0000D23A521A</td>\n",
       "      <td>1.617735e+12</td>\n",
       "      <td>0.0</td>\n",
       "      <td>170.0</td>\n",
       "      <td>Some people belive that the so called \"face\" o...</td>\n",
       "      <td>Position</td>\n",
       "      <td>Position 1</td>\n",
       "      <td>0 1 2 3 4 5 6 7 8 9 10 11 12 13 14 15 16 17 18...</td>\n",
       "    </tr>\n",
       "    <tr>\n",
       "      <th>59952</th>\n",
       "      <td>0000D23A521A</td>\n",
       "      <td>1.617735e+12</td>\n",
       "      <td>170.0</td>\n",
       "      <td>357.0</td>\n",
       "      <td>It was not created by aliens, and there is no ...</td>\n",
       "      <td>Evidence</td>\n",
       "      <td>Evidence 1</td>\n",
       "      <td>34 35 36 37 38 39 40 41 42 43 44 45 46 47 48 4...</td>\n",
       "    </tr>\n",
       "    <tr>\n",
       "      <th>59953</th>\n",
       "      <td>0000D23A521A</td>\n",
       "      <td>1.617735e+12</td>\n",
       "      <td>358.0</td>\n",
       "      <td>438.0</td>\n",
       "      <td>A mesa is a naturally occuring rock formation,...</td>\n",
       "      <td>Evidence</td>\n",
       "      <td>Evidence 2</td>\n",
       "      <td>69 70 71 72 73 74 75 76 77 78 79 80 81 82 83</td>\n",
       "    </tr>\n",
       "    <tr>\n",
       "      <th>59954</th>\n",
       "      <td>0000D23A521A</td>\n",
       "      <td>1.617735e+12</td>\n",
       "      <td>438.0</td>\n",
       "      <td>626.0</td>\n",
       "      <td>This \"face\" on mars only looks like a face bec...</td>\n",
       "      <td>Claim</td>\n",
       "      <td>Claim 1</td>\n",
       "      <td>84 85 86 87 88 89 90 91 92 93 94 95 96 97 98 9...</td>\n",
       "    </tr>\n",
       "    <tr>\n",
       "      <th>59955</th>\n",
       "      <td>0000D23A521A</td>\n",
       "      <td>1.617735e+12</td>\n",
       "      <td>627.0</td>\n",
       "      <td>722.0</td>\n",
       "      <td>Many conspiracy theorists believe that NASA is...</td>\n",
       "      <td>Counterclaim</td>\n",
       "      <td>Counterclaim 1</td>\n",
       "      <td>117 118 119 120 121 122 123 124 125 126 127 12...</td>\n",
       "    </tr>\n",
       "  </tbody>\n",
       "</table>\n",
       "</div>"
      ],
      "text/plain": [
       "                 id  ...                                   predictionstring\n",
       "59951  0000D23A521A  ...  0 1 2 3 4 5 6 7 8 9 10 11 12 13 14 15 16 17 18...\n",
       "59952  0000D23A521A  ...  34 35 36 37 38 39 40 41 42 43 44 45 46 47 48 4...\n",
       "59953  0000D23A521A  ...       69 70 71 72 73 74 75 76 77 78 79 80 81 82 83\n",
       "59954  0000D23A521A  ...  84 85 86 87 88 89 90 91 92 93 94 95 96 97 98 9...\n",
       "59955  0000D23A521A  ...  117 118 119 120 121 122 123 124 125 126 127 12...\n",
       "\n",
       "[5 rows x 8 columns]"
      ]
     },
     "metadata": {},
     "output_type": "display_data"
    }
   ],
   "source": [
    "## LOAD DATA\n",
    "\n",
    "if SAMPLE_MODE:\n",
    "    n_rows=15000\n",
    "else:\n",
    "    n_rows=None\n",
    "\n",
    "if not SUBMISSION_MODE :\n",
    "    try:\n",
    "        from google.colab import drive\n",
    "        drive.mount('/content/drive')\n",
    "        %cd /content/drive/MyDrive/feedback-prize\n",
    "        df = pd.read_csv('train_filled.csv',n_rows=n_rows,index_col=0)\n",
    "    except:\n",
    "        df = pd.read_csv('../raw_data/train_filled.csv',nrows=n_rows,index_col=0)\n",
    "    display(df.head())\n",
    "else : \n",
    "    print('WIP')"
   ]
  },
  {
   "cell_type": "code",
   "execution_count": 10,
   "id": "04db20a6",
   "metadata": {
    "ExecuteTime": {
     "end_time": "2022-01-26T08:53:23.608083Z",
     "start_time": "2022-01-26T08:53:23.603580Z"
    }
   },
   "outputs": [
    {
     "name": "stdout",
     "output_type": "stream",
     "text": [
      "Run this notebook with COLAB\n"
     ]
    }
   ],
   "source": [
    "## LOAD MODEL \n",
    "\n",
    "try: \n",
    "    model = tf.keras.models.load_model(MODEL_PATH)\n",
    "except:\n",
    "    print(\"Run this notebook with COLAB\")"
   ]
  },
  {
   "cell_type": "markdown",
   "id": "53cc0c54",
   "metadata": {},
   "source": [
    "## Preprocess data"
   ]
  },
  {
   "cell_type": "code",
   "execution_count": 7,
   "id": "b5691003",
   "metadata": {
    "ExecuteTime": {
     "end_time": "2022-01-27T19:25:23.368158Z",
     "start_time": "2022-01-27T19:25:23.356883Z"
    }
   },
   "outputs": [],
   "source": [
    "def get_essay_df(path):\n",
    "    \n",
    "    with open(path,'r') as file : \n",
    "        text = file.read()\n",
    "        id_ = path.split('/')[-1].split('.')[0]\n",
    "        X = pd.DataFrame({'id':id_,'text':text},index=[0])\n",
    "        \n",
    "    X['discourse'] = X['text'].apply(lambda text : text.split('.'))\n",
    "    \n",
    "    X = X.explode('discourse').drop('text',axis=1)\n",
    "    \n",
    "    X['discourse'] = X['discourse'].apply(lambda text : re.sub('^[\\n]+','',text))\n",
    "    X['discourse'] = X['discourse'].apply(lambda text : re.sub('[\\n]+$','',text))\n",
    "    \n",
    "    X.reset_index(drop=True, inplace=True)\n",
    "    \n",
    "    X['discourse_len'] = X['discourse'].apply(lambda text :len(text.split()))\n",
    "    \n",
    "    X['predictionstring_start'] = X.discourse_len.cumsum().shift(+1).fillna(0).astype(int)\n",
    "    X['predictionstring_end'] = X.discourse_len.cumsum()-1\n",
    "        \n",
    "    f = np.vectorize(lambda a,b : ' '.join(list(map(str,range(a,b+1)))),otypes=[str])\n",
    "    X['predictionstring'] = f(X['predictionstring_start'],X['predictionstring_end'])\n",
    "    \n",
    "    X.drop(['discourse_len','predictionstring_start','predictionstring_end'],axis=1,inplace=True)\n",
    "\n",
    "    \n",
    "    return X"
   ]
  },
  {
   "cell_type": "code",
   "execution_count": 10,
   "id": "8bf657b7",
   "metadata": {
    "ExecuteTime": {
     "end_time": "2022-01-27T19:25:39.887360Z",
     "start_time": "2022-01-27T19:25:39.834088Z"
    }
   },
   "outputs": [],
   "source": [
    "path = '../raw_data/test/'\n",
    "X = pd.DataFrame()\n",
    "for file in os.listdir(path):\n",
    "    X = X.append(get_essay_df(path+file))"
   ]
  },
  {
   "cell_type": "code",
   "execution_count": 11,
   "id": "8c9d93ff",
   "metadata": {
    "ExecuteTime": {
     "end_time": "2022-01-27T19:25:46.462347Z",
     "start_time": "2022-01-27T19:25:46.440305Z"
    }
   },
   "outputs": [
    {
     "data": {
      "text/html": [
       "<div>\n",
       "<style scoped>\n",
       "    .dataframe tbody tr th:only-of-type {\n",
       "        vertical-align: middle;\n",
       "    }\n",
       "\n",
       "    .dataframe tbody tr th {\n",
       "        vertical-align: top;\n",
       "    }\n",
       "\n",
       "    .dataframe thead th {\n",
       "        text-align: right;\n",
       "    }\n",
       "</style>\n",
       "<table border=\"1\" class=\"dataframe\">\n",
       "  <thead>\n",
       "    <tr style=\"text-align: right;\">\n",
       "      <th></th>\n",
       "      <th>id</th>\n",
       "      <th>discourse</th>\n",
       "      <th>predictionstring</th>\n",
       "    </tr>\n",
       "  </thead>\n",
       "  <tbody>\n",
       "    <tr>\n",
       "      <th>0</th>\n",
       "      <td>DF920E0A7337</td>\n",
       "      <td>Have you ever asked more than one person for h...</td>\n",
       "      <td>0 1 2 3 4 5 6 7 8 9 10 11 12 13 14 15 16 17 18...</td>\n",
       "    </tr>\n",
       "    <tr>\n",
       "      <th>1</th>\n",
       "      <td>DF920E0A7337</td>\n",
       "      <td>Interviews are seen on the news, in professio...</td>\n",
       "      <td>29 30 31 32 33 34 35 36 37 38 39 40 41 42</td>\n",
       "    </tr>\n",
       "    <tr>\n",
       "      <th>2</th>\n",
       "      <td>DF920E0A7337</td>\n",
       "      <td>There are a lot of people that can help you b...</td>\n",
       "      <td>43 44 45 46 47 48 49 50 51 52 53 54 55 56 57 58</td>\n",
       "    </tr>\n",
       "    <tr>\n",
       "      <th>3</th>\n",
       "      <td>DF920E0A7337</td>\n",
       "      <td>They can all open you up to new ideas</td>\n",
       "      <td>59 60 61 62 63 64 65 66 67</td>\n",
       "    </tr>\n",
       "    <tr>\n",
       "      <th>4</th>\n",
       "      <td>DF920E0A7337</td>\n",
       "      <td>I think talking to more than one person on an...</td>\n",
       "      <td>68 69 70 71 72 73 74 75 76 77 78 79 80 81 82 8...</td>\n",
       "    </tr>\n",
       "    <tr>\n",
       "      <th>...</th>\n",
       "      <td>...</td>\n",
       "      <td>...</td>\n",
       "      <td>...</td>\n",
       "    </tr>\n",
       "    <tr>\n",
       "      <th>25</th>\n",
       "      <td>D72CB1C11673</td>\n",
       "      <td>Making decisions can cause stress on a person</td>\n",
       "      <td>378 379 380 381 382 383 384 385</td>\n",
       "    </tr>\n",
       "    <tr>\n",
       "      <th>26</th>\n",
       "      <td>D72CB1C11673</td>\n",
       "      <td>Relating to someones advice may higher your s...</td>\n",
       "      <td>386 387 388 389 390 391 392 393 394 395 396 39...</td>\n",
       "    </tr>\n",
       "    <tr>\n",
       "      <th>27</th>\n",
       "      <td>D72CB1C11673</td>\n",
       "      <td>Ask others for advice when making a difficult...</td>\n",
       "      <td>401 402 403 404 405 406 407 408 409</td>\n",
       "    </tr>\n",
       "    <tr>\n",
       "      <th>28</th>\n",
       "      <td>D72CB1C11673</td>\n",
       "      <td>When you seek others opinion more opportuniti...</td>\n",
       "      <td>410 411 412 413 414 415 416 417 418 419 420</td>\n",
       "    </tr>\n",
       "    <tr>\n",
       "      <th>29</th>\n",
       "      <td>D72CB1C11673</td>\n",
       "      <td></td>\n",
       "      <td></td>\n",
       "    </tr>\n",
       "  </tbody>\n",
       "</table>\n",
       "<p>190 rows × 3 columns</p>\n",
       "</div>"
      ],
      "text/plain": [
       "              id  ...                                   predictionstring\n",
       "0   DF920E0A7337  ...  0 1 2 3 4 5 6 7 8 9 10 11 12 13 14 15 16 17 18...\n",
       "1   DF920E0A7337  ...          29 30 31 32 33 34 35 36 37 38 39 40 41 42\n",
       "2   DF920E0A7337  ...    43 44 45 46 47 48 49 50 51 52 53 54 55 56 57 58\n",
       "3   DF920E0A7337  ...                         59 60 61 62 63 64 65 66 67\n",
       "4   DF920E0A7337  ...  68 69 70 71 72 73 74 75 76 77 78 79 80 81 82 8...\n",
       "..           ...  ...                                                ...\n",
       "25  D72CB1C11673  ...                    378 379 380 381 382 383 384 385\n",
       "26  D72CB1C11673  ...  386 387 388 389 390 391 392 393 394 395 396 39...\n",
       "27  D72CB1C11673  ...                401 402 403 404 405 406 407 408 409\n",
       "28  D72CB1C11673  ...        410 411 412 413 414 415 416 417 418 419 420\n",
       "29  D72CB1C11673  ...                                                   \n",
       "\n",
       "[190 rows x 3 columns]"
      ]
     },
     "execution_count": 11,
     "metadata": {},
     "output_type": "execute_result"
    }
   ],
   "source": []
  },
  {
   "cell_type": "markdown",
   "id": "cbca1e22",
   "metadata": {},
   "source": [
    "## Tokenizer"
   ]
  },
  {
   "cell_type": "code",
   "execution_count": 5,
   "id": "cdc0ee4d",
   "metadata": {
    "ExecuteTime": {
     "end_time": "2022-01-27T19:24:01.612202Z",
     "start_time": "2022-01-27T19:23:57.252237Z"
    }
   },
   "outputs": [],
   "source": [
    "#initiate tokenizer\n",
    "tokenizer = BertTokenizer.from_pretrained('bert-base-uncased')"
   ]
  },
  {
   "cell_type": "code",
   "execution_count": 14,
   "id": "57ec5167",
   "metadata": {
    "ExecuteTime": {
     "end_time": "2022-01-27T19:27:33.262109Z",
     "start_time": "2022-01-27T19:27:33.108675Z"
    }
   },
   "outputs": [
    {
     "name": "stderr",
     "output_type": "stream",
     "text": [
      "2022-01-27 20:27:33.234296: I tensorflow/core/platform/cpu_feature_guard.cc:151] This TensorFlow binary is optimized with oneAPI Deep Neural Network Library (oneDNN) to use the following CPU instructions in performance-critical operations:  AVX2 FMA\n",
      "To enable them in other operations, rebuild TensorFlow with the appropriate compiler flags.\n"
     ]
    }
   ],
   "source": [
    "X_tok = tokenizer(list(X['discourse']),max_length=256,padding = 'max_length',truncation=True,return_token_type_ids=False,return_tensors='tf')"
   ]
  },
  {
   "cell_type": "code",
   "execution_count": 15,
   "id": "1934b720",
   "metadata": {
    "ExecuteTime": {
     "end_time": "2022-01-27T19:27:38.364554Z",
     "start_time": "2022-01-27T19:27:38.359087Z"
    }
   },
   "outputs": [
    {
     "data": {
      "text/plain": [
       "{'input_ids': <tf.Tensor: shape=(190, 256), dtype=int32, numpy=\n",
       "array([[ 101, 2031, 2017, ...,    0,    0,    0],\n",
       "       [ 101, 7636, 2024, ...,    0,    0,    0],\n",
       "       [ 101, 2045, 2024, ...,    0,    0,    0],\n",
       "       ...,\n",
       "       [ 101, 3198, 2500, ...,    0,    0,    0],\n",
       "       [ 101, 2043, 2017, ...,    0,    0,    0],\n",
       "       [ 101,  102,    0, ...,    0,    0,    0]], dtype=int32)>, 'attention_mask': <tf.Tensor: shape=(190, 256), dtype=int32, numpy=\n",
       "array([[1, 1, 1, ..., 0, 0, 0],\n",
       "       [1, 1, 1, ..., 0, 0, 0],\n",
       "       [1, 1, 1, ..., 0, 0, 0],\n",
       "       ...,\n",
       "       [1, 1, 1, ..., 0, 0, 0],\n",
       "       [1, 1, 1, ..., 0, 0, 0],\n",
       "       [1, 1, 0, ..., 0, 0, 0]], dtype=int32)>}"
      ]
     },
     "execution_count": 15,
     "metadata": {},
     "output_type": "execute_result"
    }
   ],
   "source": [
    "X_tok"
   ]
  },
  {
   "cell_type": "code",
   "execution_count": 21,
   "id": "91f1bfa5",
   "metadata": {
    "ExecuteTime": {
     "end_time": "2022-01-27T19:35:23.238004Z",
     "start_time": "2022-01-27T19:35:23.234581Z"
    }
   },
   "outputs": [],
   "source": []
  },
  {
   "cell_type": "code",
   "execution_count": 26,
   "id": "fe513fda",
   "metadata": {
    "ExecuteTime": {
     "end_time": "2022-01-27T19:38:00.962488Z",
     "start_time": "2022-01-27T19:37:56.428530Z"
    }
   },
   "outputs": [
    {
     "name": "stderr",
     "output_type": "stream",
     "text": [
      "Some layers from the model checkpoint at bert-base-uncased were not used when initializing TFBertModel: ['mlm___cls', 'nsp___cls']\n",
      "- This IS expected if you are initializing TFBertModel from the checkpoint of a model trained on another task or with another architecture (e.g. initializing a BertForSequenceClassification model from a BertForPreTraining model).\n",
      "- This IS NOT expected if you are initializing TFBertModel from the checkpoint of a model that you expect to be exactly identical (initializing a BertForSequenceClassification model from a BertForSequenceClassification model).\n",
      "All the layers of TFBertModel were initialized from the model checkpoint at bert-base-uncased.\n",
      "If your task is similar to the task the model of the checkpoint was trained on, you can already use TFBertModel for predictions without further training.\n"
     ]
    }
   ],
   "source": [
    "from transformers import TFBertModel\n",
    "\n",
    "DISCOURSE_LEN = 256\n",
    "\n",
    "pretrained_bert = TFBertModel.from_pretrained(\"bert-base-uncased\")\n",
    "\n",
    "def create_sentence_based():\n",
    "    input_ids = tf.keras.layers.Input(shape=(DISCOURSE_LEN,),dtype='int32')\n",
    "    attention_mask = tf.keras.layers.Input(shape=(DISCOURSE_LEN,),dtype='int32')\n",
    "    x = pretrained_bert({'input_ids':input_ids,\n",
    "                        'attention_mask':attention_mask})[0]\n",
    "    x = tf.keras.layers.GlobalAveragePooling1D()(x)\n",
    "    x = tf.keras.layers.BatchNormalization()(x)\n",
    "    x = tf.keras.layers.Dense(128, activation='relu')(x)\n",
    "    x = tf.keras.layers.Dropout(.2)(x)\n",
    "    x = tf.keras.layers.BatchNormalization()(x)\n",
    "    x = tf.keras.layers.Dense(64, activation='relu')(x)\n",
    "    x = tf.keras.layers.Dropout(.2)(x)\n",
    "    x = tf.keras.layers.BatchNormalization()(x)\n",
    "    x = tf.keras.layers.Dense(32, activation='relu')(x)\n",
    "    output = tf.keras.layers.Dense(8, activation='softmax',name='outputs')(x)\n",
    "\n",
    "    pretrained_bert.trainable=False\n",
    "\n",
    "    model = tf.keras.Model(inputs={'input_ids':input_ids,\n",
    "                                'attention_mask':attention_mask},\n",
    "                        outputs=output)\n",
    "\n",
    "    return model"
   ]
  },
  {
   "cell_type": "code",
   "execution_count": 30,
   "id": "8a11fccf",
   "metadata": {
    "ExecuteTime": {
     "end_time": "2022-01-27T19:39:32.003496Z",
     "start_time": "2022-01-27T19:39:31.191365Z"
    }
   },
   "outputs": [
    {
     "data": {
      "text/plain": [
       "<tensorflow.python.training.tracking.util.CheckpointLoadStatus at 0x155fc0e20>"
      ]
     },
     "execution_count": 30,
     "metadata": {},
     "output_type": "execute_result"
    }
   ],
   "source": [
    "## Instantiate a model and load the weights of trained model\n",
    "model = create_sentence_based()\n",
    "model.load_weights('../models/weights_sentences_based_model/weights_baseline')"
   ]
  },
  {
   "cell_type": "code",
   "execution_count": 33,
   "id": "e45ef280",
   "metadata": {
    "ExecuteTime": {
     "end_time": "2022-01-27T19:43:16.195839Z",
     "start_time": "2022-01-27T19:42:05.875429Z"
    }
   },
   "outputs": [],
   "source": [
    "## Run the model and store its prediction into y\n",
    "y = model(X_tok)"
   ]
  },
  {
   "cell_type": "code",
   "execution_count": 34,
   "id": "793091bd",
   "metadata": {
    "ExecuteTime": {
     "end_time": "2022-01-27T19:44:39.839905Z",
     "start_time": "2022-01-27T19:44:39.828732Z"
    }
   },
   "outputs": [
    {
     "data": {
      "text/plain": [
       "<tf.Tensor: shape=(8,), dtype=float32, numpy=\n",
       "array([0.05456246, 0.09897028, 0.05793805, 0.02511611, 0.01224761,\n",
       "       0.05072896, 0.6979462 , 0.00249039], dtype=float32)>"
      ]
     },
     "execution_count": 34,
     "metadata": {},
     "output_type": "execute_result"
    }
   ],
   "source": [
    "## map the label of the prediction"
   ]
  },
  {
   "cell_type": "code",
   "execution_count": 35,
   "id": "22ebc261",
   "metadata": {
    "ExecuteTime": {
     "end_time": "2022-01-27T19:45:02.373970Z",
     "start_time": "2022-01-27T19:45:02.364480Z"
    }
   },
   "outputs": [
    {
     "data": {
      "text/plain": [
       "6"
      ]
     },
     "execution_count": 35,
     "metadata": {},
     "output_type": "execute_result"
    }
   ],
   "source": [
    "np.argmax(y[0])"
   ]
  },
  {
   "cell_type": "code",
   "execution_count": 68,
   "id": "66e2af98",
   "metadata": {
    "ExecuteTime": {
     "end_time": "2022-01-27T20:00:32.997261Z",
     "start_time": "2022-01-27T20:00:32.991423Z"
    }
   },
   "outputs": [],
   "source": [
    "# Labels and reversed labels \n",
    "\n",
    "#commented to avoid errors in the future and hardcoded \n",
    "#labels={l:i for i,l in enumerate(df.discourse_type.unique())}\n",
    "labels={0: 'Position',\n",
    " 1: 'Evidence',\n",
    " 2: 'Claim',\n",
    " 3: 'Counterclaim',\n",
    " 4: 'Rebuttal',\n",
    " 5: 'Concluding Statement',\n",
    " 6: 'Lead',\n",
    " 7: 'None'}\n",
    "\n",
    "\n",
    "reversed_labels = {v:k for k,v in labels.items()}\n",
    "\n",
    "y_labeled = pd.Series(np.argmax(y,axis=1)).map(labels)\n"
   ]
  },
  {
   "cell_type": "code",
   "execution_count": 69,
   "id": "a4e83d71",
   "metadata": {
    "ExecuteTime": {
     "end_time": "2022-01-27T20:00:33.814318Z",
     "start_time": "2022-01-27T20:00:33.693915Z"
    }
   },
   "outputs": [
    {
     "data": {
      "text/plain": [
       "<AxesSubplot:ylabel='count'>"
      ]
     },
     "execution_count": 69,
     "metadata": {},
     "output_type": "execute_result"
    },
    {
     "data": {
      "image/png": "[encoded data removed]",
      "text/plain": [
       "<Figure size 432x288 with 1 Axes>"
      ]
     },
     "metadata": {
      "needs_background": "light"
     },
     "output_type": "display_data"
    }
   ],
   "source": [
    "sns.countplot(x=y_labeled)"
   ]
  },
  {
   "cell_type": "code",
   "execution_count": 126,
   "id": "f1610bd9",
   "metadata": {
    "ExecuteTime": {
     "end_time": "2022-01-27T20:15:25.635199Z",
     "start_time": "2022-01-27T20:15:25.612609Z"
    }
   },
   "outputs": [
    {
     "data": {
      "text/html": [
       "<div>\n",
       "<style scoped>\n",
       "    .dataframe tbody tr th:only-of-type {\n",
       "        vertical-align: middle;\n",
       "    }\n",
       "\n",
       "    .dataframe tbody tr th {\n",
       "        vertical-align: top;\n",
       "    }\n",
       "\n",
       "    .dataframe thead th {\n",
       "        text-align: right;\n",
       "    }\n",
       "</style>\n",
       "<table border=\"1\" class=\"dataframe\">\n",
       "  <thead>\n",
       "    <tr style=\"text-align: right;\">\n",
       "      <th></th>\n",
       "      <th>id</th>\n",
       "      <th>class</th>\n",
       "      <th>predictionstring</th>\n",
       "    </tr>\n",
       "  </thead>\n",
       "  <tbody>\n",
       "    <tr>\n",
       "      <th>0</th>\n",
       "      <td>DF920E0A7337</td>\n",
       "      <td>Lead</td>\n",
       "      <td>0 1 2 3 4 5 6 7 8 9 10 11 12 13 14 15 16 17 18...</td>\n",
       "    </tr>\n",
       "    <tr>\n",
       "      <th>1</th>\n",
       "      <td>DF920E0A7337</td>\n",
       "      <td>Evidence</td>\n",
       "      <td>29 30 31 32 33 34 35 36 37 38 39 40 41 42</td>\n",
       "    </tr>\n",
       "    <tr>\n",
       "      <th>2</th>\n",
       "      <td>DF920E0A7337</td>\n",
       "      <td>Claim</td>\n",
       "      <td>43 44 45 46 47 48 49 50 51 52 53 54 55 56 57 58</td>\n",
       "    </tr>\n",
       "    <tr>\n",
       "      <th>3</th>\n",
       "      <td>DF920E0A7337</td>\n",
       "      <td>Claim</td>\n",
       "      <td>59 60 61 62 63 64 65 66 67</td>\n",
       "    </tr>\n",
       "    <tr>\n",
       "      <th>4</th>\n",
       "      <td>DF920E0A7337</td>\n",
       "      <td>Concluding Statement</td>\n",
       "      <td>68 69 70 71 72 73 74 75 76 77 78 79 80 81 82 8...</td>\n",
       "    </tr>\n",
       "    <tr>\n",
       "      <th>...</th>\n",
       "      <td>...</td>\n",
       "      <td>...</td>\n",
       "      <td>...</td>\n",
       "    </tr>\n",
       "    <tr>\n",
       "      <th>181</th>\n",
       "      <td>D72CB1C11673</td>\n",
       "      <td>Claim</td>\n",
       "      <td>362 363 364 365 366 367 368 369 370 371 372 37...</td>\n",
       "    </tr>\n",
       "    <tr>\n",
       "      <th>182</th>\n",
       "      <td>D72CB1C11673</td>\n",
       "      <td>Claim</td>\n",
       "      <td>378 379 380 381 382 383 384 385</td>\n",
       "    </tr>\n",
       "    <tr>\n",
       "      <th>183</th>\n",
       "      <td>D72CB1C11673</td>\n",
       "      <td>Claim</td>\n",
       "      <td>386 387 388 389 390 391 392 393 394 395 396 39...</td>\n",
       "    </tr>\n",
       "    <tr>\n",
       "      <th>184</th>\n",
       "      <td>D72CB1C11673</td>\n",
       "      <td>Claim</td>\n",
       "      <td>401 402 403 404 405 406 407 408 409</td>\n",
       "    </tr>\n",
       "    <tr>\n",
       "      <th>185</th>\n",
       "      <td>D72CB1C11673</td>\n",
       "      <td>Claim</td>\n",
       "      <td>410 411 412 413 414 415 416 417 418 419 420</td>\n",
       "    </tr>\n",
       "  </tbody>\n",
       "</table>\n",
       "<p>186 rows × 3 columns</p>\n",
       "</div>"
      ],
      "text/plain": [
       "               id  ...                                   predictionstring\n",
       "0    DF920E0A7337  ...  0 1 2 3 4 5 6 7 8 9 10 11 12 13 14 15 16 17 18...\n",
       "1    DF920E0A7337  ...          29 30 31 32 33 34 35 36 37 38 39 40 41 42\n",
       "2    DF920E0A7337  ...    43 44 45 46 47 48 49 50 51 52 53 54 55 56 57 58\n",
       "3    DF920E0A7337  ...                         59 60 61 62 63 64 65 66 67\n",
       "4    DF920E0A7337  ...  68 69 70 71 72 73 74 75 76 77 78 79 80 81 82 8...\n",
       "..            ...  ...                                                ...\n",
       "181  D72CB1C11673  ...  362 363 364 365 366 367 368 369 370 371 372 37...\n",
       "182  D72CB1C11673  ...                    378 379 380 381 382 383 384 385\n",
       "183  D72CB1C11673  ...  386 387 388 389 390 391 392 393 394 395 396 39...\n",
       "184  D72CB1C11673  ...                401 402 403 404 405 406 407 408 409\n",
       "185  D72CB1C11673  ...        410 411 412 413 414 415 416 417 418 419 420\n",
       "\n",
       "[186 rows x 3 columns]"
      ]
     },
     "execution_count": 126,
     "metadata": {},
     "output_type": "execute_result"
    }
   ],
   "source": [
    "## create csv_file for kaggle submission \n",
    "\n",
    "X.reset_index(drop=True, inplace=True)\n",
    "\n",
    "submission = pd.concat([X,y_labeled],axis=1)\n",
    "submission.rename(columns={0:'class'},inplace=True)\n",
    "submission.drop('discourse',axis=1,inplace=True)\n",
    "\n",
    "sub_clean = submission.index[((submission['predictionstring']=='\\xa0')|(submission['predictionstring']==''))]\n",
    "submission.drop(sub_clean,inplace=True)\n",
    "\n",
    "submission.reset_index(drop=True,inplace=True)\n",
    "\n",
    "submission=submission[['id','class','predictionstring']]\n",
    "submission"
   ]
  },
  {
   "cell_type": "code",
   "execution_count": 147,
   "id": "bd457842",
   "metadata": {
    "ExecuteTime": {
     "end_time": "2022-01-27T20:24:02.302194Z",
     "start_time": "2022-01-27T20:24:02.282640Z"
    }
   },
   "outputs": [],
   "source": [
    "#export to csv\n",
    "\n",
    "today = datetime.today()\n",
    "timestamp = datetime.strftime(today,\"%d_%m_%H:%M\")\n",
    "\n",
    "submission.to_csv(f'../raw_data/submission_{timestamp}.csv')"
   ]
  },
  {
   "cell_type": "code",
   "execution_count": null,
   "id": "0d6a2770",
   "metadata": {},
   "outputs": [],
   "source": []
  }
 ],
 "metadata": {
  "kernelspec": {
   "display_name": "Python 3 (ipykernel)",
   "language": "python",
   "name": "python3"
  },
  "language_info": {
   "codemirror_mode": {
    "name": "ipython",
    "version": 3
   },
   "file_extension": ".py",
   "mimetype": "text/x-python",
   "name": "python",
   "nbconvert_exporter": "python",
   "pygments_lexer": "ipython3",
   "version": "3.8.12"
  },
  "toc": {
   "base_numbering": 1,
   "nav_menu": {},
   "number_sections": true,
   "sideBar": true,
   "skip_h1_title": false,
   "title_cell": "Table of Contents",
   "title_sidebar": "Contents",
   "toc_cell": false,
   "toc_position": {},
   "toc_section_display": true,
   "toc_window_display": false
  },
  "varInspector": {
   "cols": {
    "lenName": 16,
    "lenType": 16,
    "lenVar": 40
   },
   "kernels_config": {
    "python": {
     "delete_cmd_postfix": "",
     "delete_cmd_prefix": "del ",
     "library": "var_list.py",
     "varRefreshCmd": "print(var_dic_list())"
    },
    "r": {
     "delete_cmd_postfix": ") ",
     "delete_cmd_prefix": "rm(",
     "library": "var_list.r",
     "varRefreshCmd": "cat(var_dic_list()) "
    }
   },
   "types_to_exclude": [
    "module",
    "function",
    "builtin_function_or_method",
    "instance",
    "_Feature"
   ],
   "window_display": false
  }
 },
 "nbformat": 4,
 "nbformat_minor": 5
}
